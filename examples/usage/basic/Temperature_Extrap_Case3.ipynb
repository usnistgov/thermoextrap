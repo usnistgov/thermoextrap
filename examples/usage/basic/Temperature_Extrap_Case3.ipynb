{
 "cells": [
  {
   "cell_type": "code",
   "execution_count": 1,
   "id": "0",
   "metadata": {
    "tags": [
     "remove-cell"
    ]
   },
   "outputs": [],
   "source": [
    "import logging\n",
    "import warnings\n",
    "\n",
    "import numpy as np\n",
    "\n",
    "np.set_printoptions(precision=4)\n",
    "warnings.filterwarnings(\"ignore\")\n",
    "\n",
    "\n",
    "logger = logging.getLogger()\n",
    "logger.setLevel(logging.ERROR)"
   ]
  },
  {
   "cell_type": "markdown",
   "id": "1",
   "metadata": {},
   "source": [
    "# Temperature independent negative logarithm of average observable\n",
    "\n",
    "This type of extrapolation is useful for extrapolating hard-sphere chemical potentials in temperature or volume, or other quantities involving logarithms of probabilities (e.g. PMFs).\n",
    "\n",
    "This is in fact easier than Case 2 because we do not need to augment the data in any way - we just set a flag that the quantity to extrapolate is the negative logarithm of an ensemble average, i.e., `post_func = 'minus_log'`. Note, though, that we handled the -log calculation in the definition of the derivatives (even at zeroth order). This means we want to just pass data, not the -log of the data. Also note that `post_func` can take any function utilizing sympy expressions for modifying the *average* observable we want to extrapolate, so passing `post_func = lambda x: -sympy.log(x)` would be equivalent. If you're applying the function to the observable itself, that's just a different observable and you don't need to worry about what we're doing in this notebook... it's the difference between $\\ln \\langle x \\rangle$ and $\\langle \\ln x \\rangle$."
   ]
  },
  {
   "cell_type": "code",
   "execution_count": 2,
   "id": "2",
   "metadata": {},
   "outputs": [],
   "source": [
    "%matplotlib inline\n",
    "\n",
    "import cmomy\n",
    "import matplotlib as mpl\n",
    "import matplotlib.pyplot as plt\n",
    "import numpy as np\n",
    "import xarray as xr\n",
    "\n",
    "# Import idealgas module\n",
    "from thermoextrap import idealgas\n",
    "\n",
    "rng = cmomy.random.default_rng(seed=0)\n",
    "\n",
    "# Define test betas and reference beta\n",
    "betas = np.arange(0.1, 10.0, 0.5)\n",
    "beta_ref = betas[11]\n",
    "vol = 1.0\n",
    "\n",
    "# Define orders to extrapolate to\n",
    "orders = [1, 2, 4, 6]\n",
    "order = orders[-1]\n",
    "\n",
    "npart = 1000  # Number of particles (in single configuration)\n",
    "nconfig = 100_000  # Number of configurations\n",
    "\n",
    "# Generate all the data we could want\n",
    "xdata, udata = idealgas.generate_data((nconfig, npart), beta_ref, vol)"
   ]
  },
  {
   "cell_type": "code",
   "execution_count": 3,
   "id": "3",
   "metadata": {},
   "outputs": [],
   "source": [
    "import thermoextrap as xtrap"
   ]
  },
  {
   "cell_type": "code",
   "execution_count": 4,
   "id": "4",
   "metadata": {},
   "outputs": [
    {
     "name": "stderr",
     "output_type": "stream",
     "text": [
      "OMP: Info #276: omp_set_nested routine deprecated, please use omp_set_max_active_levels instead.\n"
     ]
    },
    {
     "name": "stdout",
     "output_type": "stream",
     "text": [
      "Model parameters (derivatives):\n"
     ]
    },
    {
     "name": "stdout",
     "output_type": "stream",
     "text": [
      "<xarray.DataArray (order: 7)> Size: 56B\n",
      "array([ 1.7438,  0.1615, -0.0186,  0.015 ,  0.612 , -1.9426, -1.9077])\n",
      "Dimensions without coordinates: order\n",
      "\n",
      "\n",
      "Model predictions:\n",
      "<xarray.DataArray (beta: 4)> Size: 32B\n",
      "array([0.5741, 0.7037, 0.8286, 0.9489])\n",
      "Coordinates:\n",
      "  * beta     (beta) float64 32B 0.1 0.6 1.1 1.6\n",
      "    dalpha   (beta) float64 32B -5.5 -5.0 -4.5 -4.0\n",
      "    beta0    float64 8B 5.6\n",
      "\n",
      "\n"
     ]
    }
   ],
   "source": [
    "# Create and train extrapolation model\n",
    "xem_log = xtrap.beta.factory_extrapmodel(\n",
    "    beta=beta_ref,\n",
    "    post_func=\"minus_log\",\n",
    "    data=xtrap.DataCentralMomentsVals.from_vals(\n",
    "        order=orders[-1],\n",
    "        xv=xr.DataArray(xdata, dims=\"rec\"),\n",
    "        uv=xr.DataArray(udata, dims=\"rec\"),\n",
    "        deriv_dim=None,\n",
    "        central=True,\n",
    "    ),\n",
    ")\n",
    "\n",
    "# Check the derivatives\n",
    "print(\"Model parameters (derivatives):\")\n",
    "print(xem_log.derivs(norm=False))\n",
    "print(\"\\n\")\n",
    "\n",
    "# Finally, look at predictions\n",
    "print(\"Model predictions:\")\n",
    "print(xem_log.predict(betas[:4], order=2))\n",
    "print(\"\\n\")"
   ]
  },
  {
   "cell_type": "code",
   "execution_count": 5,
   "id": "5",
   "metadata": {},
   "outputs": [
    {
     "name": "stdout",
     "output_type": "stream",
     "text": [
      "Bootstrapped uncertainties in predictions:\n"
     ]
    },
    {
     "name": "stdout",
     "output_type": "stream",
     "text": [
      "<xarray.DataArray (beta: 4)> Size: 32B\n",
      "array([2.0496, 1.54  , 1.1227, 0.7887])\n",
      "Coordinates:\n",
      "  * beta     (beta) float64 32B 0.1 0.6 1.1 1.6\n",
      "    dalpha   (beta) float64 32B -5.5 -5.0 -4.5 -4.0\n",
      "    beta0    float64 8B 5.6\n"
     ]
    }
   ],
   "source": [
    "# And bootstrapped uncertainties\n",
    "print(\"Bootstrapped uncertainties in predictions:\")\n",
    "print(xem_log.resample(sampler={\"nrep\": 100}).predict(betas[:4], order=3).std(\"rep\"))"
   ]
  },
  {
   "cell_type": "code",
   "execution_count": 6,
   "id": "6",
   "metadata": {},
   "outputs": [
    {
     "name": "stdout",
     "output_type": "stream",
     "text": [
      "True extrapolation coefficients: [ 1.7438e+00  1.6106e-01 -1.7727e-02  3.6676e-04  2.1114e-03 -1.5377e-03\n",
      "  3.9927e-04]\n",
      "\t With N_configs = 10: [ 1.7469e+00  1.1364e-01  1.3435e-01 -8.7672e-01 -1.8012e+01 -1.0596e+02\n",
      "  3.2007e+03]\n"
     ]
    },
    {
     "name": "stdout",
     "output_type": "stream",
     "text": [
      "\t With N_configs = 100: [ 1.7423e+00  1.3459e-01 -1.9823e-01  1.2182e+00 -1.0755e+01 -6.0855e+01\n",
      "  3.2539e+03]\n",
      "\t With N_configs = 1000: [ 1.7426  0.1588 -0.0696 -0.1739  0.8373 46.7624 56.4464]\n",
      "\t With N_configs = 10000: [  1.7436   0.161   -0.0531  -0.2102   4.1724 -23.4454  22.6547]\n",
      "\t With N_configs = 100000: [ 1.7438  0.1615 -0.0186  0.015   0.612  -1.9426 -1.9077]\n"
     ]
    },
    {
     "data": {
      "image/png": "[encoded data removed]",
      "text/plain": [
       "<Figure size 640x480 with 4 Axes>"
      ]
     },
     "metadata": {},
     "output_type": "display_data"
    }
   ],
   "source": [
    "# Repeat comparison of results, but for -ln<x> instead of <x>\n",
    "\n",
    "fig, ax = plt.subplots(len(orders), sharex=True, sharey=True)\n",
    "\n",
    "nsampvals = np.array((10.0 * np.ones(5)) ** np.arange(1, 6), dtype=int)\n",
    "nsampcolors = plt.cm.viridis(np.arange(0.0, 1.0, float(1.0 / len(nsampvals))))\n",
    "\n",
    "# First plot the analytical result\n",
    "for a in ax:\n",
    "    a.plot(betas, -np.log(idealgas.x_ave(betas, vol)), \"k--\", linewidth=2.0)\n",
    "\n",
    "# Next look at extrapolation with an infinite number of samples\n",
    "# This is possible in the ideal gas model in both temperature and volume\n",
    "for j, o in enumerate(orders):\n",
    "    trueExtrap, trueDerivs = idealgas.x_beta_extrap_minuslog(o, beta_ref, betas, vol)\n",
    "    ax[j].plot(betas, trueExtrap, \"r-\", zorder=0)\n",
    "    if j == len(orders) - 1:\n",
    "        print(f\"True extrapolation coefficients: {trueDerivs}\")\n",
    "\n",
    "for i, n in enumerate(nsampvals):\n",
    "    thisinds = rng.choice(len(xdata), size=n, replace=False)\n",
    "\n",
    "    # Get parameters for extrapolation model with this data by training it - the parameters are the derivatives\n",
    "    xem_log = xtrap.beta.factory_extrapmodel(\n",
    "        beta=beta_ref,\n",
    "        post_func=\"minus_log\",\n",
    "        data=xtrap.DataCentralMomentsVals.from_vals(\n",
    "            order=orders[-1],\n",
    "            uv=xr.DataArray(udata[thisinds], dims=\"rec\"),\n",
    "            xv=xr.DataArray(xdata[thisinds], dims=\"rec\"),\n",
    "            central=True,\n",
    "        ),\n",
    "    )\n",
    "    out = xem_log.predict(betas, cumsum=True)\n",
    "    print(\n",
    "        f\"\\t With N_configs = {n}: {xem_log.derivs(norm=False).values.flatten()}\"\n",
    "    )  # Have to flatten because observable is 1-D\n",
    "    for j, o in enumerate(orders):\n",
    "        out.sel(order=o).plot(\n",
    "            marker=\"s\",\n",
    "            ms=4,\n",
    "            color=nsampcolors[i],\n",
    "            ls=\"None\",\n",
    "            label=f\"N={n}\",\n",
    "            ax=ax[j],\n",
    "        )\n",
    "\n",
    "ax[2].set_ylabel(r\"$-\\mathrm{ln} \\langle x \\rangle$\")\n",
    "ax[-1].set_xlabel(r\"$\\beta$\")\n",
    "\n",
    "for j, o in enumerate(orders):\n",
    "    ax[j].annotate(\n",
    "        f\"O({o}) Extrapolation\", xy=(0.4, 0.7), xycoords=\"axes fraction\", fontsize=9\n",
    "    )\n",
    "\n",
    "ax[0].set_ylim((0.0, 3.0))\n",
    "ax[-1].yaxis.set_major_locator(mpl.ticker.MaxNLocator(nbins=4, prune=\"both\"))\n",
    "\n",
    "fig.tight_layout()\n",
    "fig.subplots_adjust(hspace=0.0)\n",
    "\n",
    "for a in ax:\n",
    "    a.set_title(None)\n",
    "\n",
    "plt.show()"
   ]
  },
  {
   "cell_type": "code",
   "execution_count": null,
   "id": "7",
   "metadata": {},
   "outputs": [],
   "source": []
  }
 ],
 "metadata": {
  "celltoolbar": "Tags",
  "hide_input": false,
  "language_info": {
   "codemirror_mode": {
    "name": "ipython",
    "version": 3
   },
   "file_extension": ".py",
   "mimetype": "text/x-python",
   "name": "python",
   "nbconvert_exporter": "python",
   "pygments_lexer": "ipython3",
   "version": "3.12.9"
  },
  "toc": {
   "base_numbering": 1,
   "nav_menu": {},
   "number_sections": true,
   "sideBar": true,
   "skip_h1_title": false,
   "title_cell": "Table of Contents",
   "title_sidebar": "Contents",
   "toc_cell": false,
   "toc_position": {},
   "toc_section_display": true,
   "toc_window_display": false
  }
 },
 "nbformat": 4,
 "nbformat_minor": 5
}
