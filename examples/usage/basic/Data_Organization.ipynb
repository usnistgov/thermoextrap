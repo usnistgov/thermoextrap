{
 "cells": [
  {
   "cell_type": "code",
   "execution_count": 1,
   "id": "0",
   "metadata": {
    "tags": [
     "remove-cell"
    ]
   },
   "outputs": [],
   "source": [
    "import logging\n",
    "import warnings\n",
    "\n",
    "import cmomy\n",
    "import numpy as np\n",
    "\n",
    "rng = cmomy.random.default_rng(0)\n",
    "\n",
    "np.set_printoptions(precision=4)\n",
    "warnings.filterwarnings(\"ignore\")\n",
    "\n",
    "\n",
    "logger = logging.getLogger()\n",
    "logger.setLevel(logging.ERROR)"
   ]
  },
  {
   "cell_type": "markdown",
   "id": "1",
   "metadata": {},
   "source": [
    "# Data Organization\n",
    "\n",
    "\n",
    "All of the extrapolation and interpolation models in the thermoextrap package expect input data to be organized in a certain fashion. To help manage the data, there are data objects that help organize it. Even the inputs to these data object, however, must be organized appropriately. Here we will use data from our ideal gas test system (from {mod}`thermoextrap.idealgas`) to demonstrate this organization, as well as the various options for what types of data that may be provided as input."
   ]
  },
  {
   "cell_type": "code",
   "execution_count": 2,
   "id": "2",
   "metadata": {},
   "outputs": [],
   "source": [
    "# need imports\n",
    "%matplotlib inline\n",
    "import numpy as np\n",
    "import xarray as xr\n",
    "\n",
    "# import thermoextrap\n",
    "import thermoextrap as xtrap\n",
    "\n",
    "# Import idealgas module\n",
    "from thermoextrap import idealgas"
   ]
  },
  {
   "cell_type": "code",
   "execution_count": 3,
   "id": "3",
   "metadata": {},
   "outputs": [],
   "source": [
    "# Define reference beta\n",
    "beta_ref = 5.6\n",
    "\n",
    "# And maximum order\n",
    "order = 2\n",
    "\n",
    "npart = 1000  # Number of particles (in single configuration)\n",
    "nconfig = 100_000  # Number of configurations\n",
    "\n",
    "# Generate all the data we could want\n",
    "xdata, udata = idealgas.generate_data((nconfig, npart), beta_ref)"
   ]
  },
  {
   "cell_type": "markdown",
   "id": "4",
   "metadata": {},
   "source": [
    "Refer to {mod}`thermoextrap.data` for more information on the data classes."
   ]
  },
  {
   "cell_type": "markdown",
   "id": "5",
   "metadata": {},
   "source": [
    "## Basics\n",
    "\n",
    "Rather than passing data directly to `__init__` methods for creating data class objects and simultaneously telling it which dimensions mean what (or expecting that specific dimensions mean a certain thing), {mod}`thermoextrap` uses {mod}`xarray` to label the dimensions of inputs. While this is also useful in the background, it helps to clarify what is expected of user inputs.\n",
    "\n",
    "Currently, `xdata` is of the shape (nconfig), or the number of configurations generated with each entry being the average $x$ location for the associated configuration."
   ]
  },
  {
   "cell_type": "code",
   "execution_count": 4,
   "id": "6",
   "metadata": {},
   "outputs": [
    {
     "name": "stdout",
     "output_type": "stream",
     "text": [
      "100000 (100000,)\n"
     ]
    }
   ],
   "source": [
    "print(nconfig, xdata.shape)"
   ]
  },
  {
   "cell_type": "markdown",
   "id": "7",
   "metadata": {},
   "source": [
    "The dimension over which independent samples vary is the \"record\" dimension, with its default name in {mod}`thermoextrap.data` being 'rec'. So when we create an  {class}`xarray.DataArray` object to house the input $x$ data, we must label that dimension 'rec'. Same goes for the input potential energy data. Note that the list provided to the argument `dims` is a list of strings naming the dimensions in the array passed to {class}`xarray.DataArray`."
   ]
  },
  {
   "cell_type": "code",
   "execution_count": 5,
   "id": "8",
   "metadata": {},
   "outputs": [],
   "source": [
    "xdata = xr.DataArray(xdata, dims=[\"rec\"])\n",
    "udata = xr.DataArray(udata, dims=[\"rec\"])"
   ]
  },
  {
   "cell_type": "markdown",
   "id": "9",
   "metadata": {},
   "source": [
    "Now when we create a data object in {mod}`thermoextrap` to hold the data, we tell it that the \"record\" dimension, `rec_dim` is named 'rec', which is the default, but it could be named something different as long as you provided that name to `rec_dim`.\n",
    "\n",
    "Note that the `xv` is the argument for the observable $x$ and `uv` is the potential energy or appropriate Hamiltonian or thermodynamic conjugate variable."
   ]
  },
  {
   "cell_type": "code",
   "execution_count": 6,
   "id": "10",
   "metadata": {},
   "outputs": [
    {
     "ename": "TypeError",
     "evalue": "xCentralMoments.from_vals() got an unexpected keyword argument 'w'",
     "output_type": "error",
     "traceback": [
      "\u001b[0;31m---------------------------------------------------------------------------\u001b[0m",
      "\u001b[0;31mTypeError\u001b[0m                                 Traceback (most recent call last)",
      "Cell \u001b[0;32mIn[6], line 1\u001b[0m\n\u001b[0;32m----> 1\u001b[0m data \u001b[38;5;241m=\u001b[39m \u001b[43mxtrap\u001b[49m\u001b[38;5;241;43m.\u001b[39;49m\u001b[43mDataCentralMomentsVals\u001b[49m\u001b[38;5;241;43m.\u001b[39;49m\u001b[43mfrom_vals\u001b[49m\u001b[43m(\u001b[49m\n\u001b[1;32m      2\u001b[0m \u001b[43m    \u001b[49m\u001b[43morder\u001b[49m\u001b[38;5;241;43m=\u001b[39;49m\u001b[43morder\u001b[49m\u001b[43m,\u001b[49m\u001b[43m \u001b[49m\u001b[43mrec_dim\u001b[49m\u001b[38;5;241;43m=\u001b[39;49m\u001b[38;5;124;43m\"\u001b[39;49m\u001b[38;5;124;43mrec\u001b[39;49m\u001b[38;5;124;43m\"\u001b[39;49m\u001b[43m,\u001b[49m\u001b[43m \u001b[49m\u001b[43mxv\u001b[49m\u001b[38;5;241;43m=\u001b[39;49m\u001b[43mxdata\u001b[49m\u001b[43m,\u001b[49m\u001b[43m \u001b[49m\u001b[43muv\u001b[49m\u001b[38;5;241;43m=\u001b[39;49m\u001b[43mudata\u001b[49m\u001b[43m,\u001b[49m\u001b[43m \u001b[49m\u001b[43mcentral\u001b[49m\u001b[38;5;241;43m=\u001b[39;49m\u001b[38;5;28;43;01mTrue\u001b[39;49;00m\n\u001b[1;32m      3\u001b[0m \u001b[43m)\u001b[49m\n",
      "File \u001b[0;32m~/Documents/python/projects/thermoextrap/src/thermoextrap/data.py:1944\u001b[0m, in \u001b[0;36mDataCentralMomentsVals.from_vals\u001b[0;34m(cls, xv, uv, order, w, rec_dim, umom_dim, xmom_dim, rep_dim, deriv_dim, val_dims, central, from_vals_kws, meta, x_is_u)\u001b[0m\n\u001b[1;32m   1935\u001b[0m \u001b[38;5;28;01mif\u001b[39;00m xv \u001b[38;5;129;01mis\u001b[39;00m \u001b[38;5;129;01mnot\u001b[39;00m \u001b[38;5;28;01mNone\u001b[39;00m \u001b[38;5;129;01mand\u001b[39;00m \u001b[38;5;129;01mnot\u001b[39;00m x_is_u:\n\u001b[1;32m   1936\u001b[0m     xv \u001b[38;5;241m=\u001b[39m xrwrap_xv(\n\u001b[1;32m   1937\u001b[0m         xv,\n\u001b[1;32m   1938\u001b[0m         rec_dim\u001b[38;5;241m=\u001b[39mrec_dim,\n\u001b[0;32m   (...)\u001b[0m\n\u001b[1;32m   1941\u001b[0m         val_dims\u001b[38;5;241m=\u001b[39mval_dims,\n\u001b[1;32m   1942\u001b[0m     )\n\u001b[0;32m-> 1944\u001b[0m \u001b[38;5;28;01mreturn\u001b[39;00m \u001b[38;5;28;43mcls\u001b[39;49m\u001b[43m(\u001b[49m\n\u001b[1;32m   1945\u001b[0m \u001b[43m    \u001b[49m\u001b[43muv\u001b[49m\u001b[38;5;241;43m=\u001b[39;49m\u001b[43muv\u001b[49m\u001b[43m,\u001b[49m\n\u001b[1;32m   1946\u001b[0m \u001b[43m    \u001b[49m\u001b[43mxv\u001b[49m\u001b[38;5;241;43m=\u001b[39;49m\u001b[43mxv\u001b[49m\u001b[43m,\u001b[49m\n\u001b[1;32m   1947\u001b[0m \u001b[43m    \u001b[49m\u001b[43morder\u001b[49m\u001b[38;5;241;43m=\u001b[39;49m\u001b[43morder\u001b[49m\u001b[43m,\u001b[49m\n\u001b[1;32m   1948\u001b[0m \u001b[43m    \u001b[49m\u001b[43mw\u001b[49m\u001b[38;5;241;43m=\u001b[39;49m\u001b[43mw\u001b[49m\u001b[43m,\u001b[49m\n\u001b[1;32m   1949\u001b[0m \u001b[43m    \u001b[49m\u001b[43mrec_dim\u001b[49m\u001b[38;5;241;43m=\u001b[39;49m\u001b[43mrec_dim\u001b[49m\u001b[43m,\u001b[49m\n\u001b[1;32m   1950\u001b[0m \u001b[43m    \u001b[49m\u001b[43mumom_dim\u001b[49m\u001b[38;5;241;43m=\u001b[39;49m\u001b[43mumom_dim\u001b[49m\u001b[43m,\u001b[49m\n\u001b[1;32m   1951\u001b[0m \u001b[43m    \u001b[49m\u001b[43mxmom_dim\u001b[49m\u001b[38;5;241;43m=\u001b[39;49m\u001b[43mxmom_dim\u001b[49m\u001b[43m,\u001b[49m\n\u001b[1;32m   1952\u001b[0m \u001b[43m    \u001b[49m\u001b[43mderiv_dim\u001b[49m\u001b[38;5;241;43m=\u001b[39;49m\u001b[43mderiv_dim\u001b[49m\u001b[43m,\u001b[49m\n\u001b[1;32m   1953\u001b[0m \u001b[43m    \u001b[49m\u001b[43mcentral\u001b[49m\u001b[38;5;241;43m=\u001b[39;49m\u001b[43mcentral\u001b[49m\u001b[43m,\u001b[49m\n\u001b[1;32m   1954\u001b[0m \u001b[43m    \u001b[49m\u001b[43mfrom_vals_kws\u001b[49m\u001b[38;5;241;43m=\u001b[39;49m\u001b[43mfrom_vals_kws\u001b[49m\u001b[43m,\u001b[49m\n\u001b[1;32m   1955\u001b[0m \u001b[43m    \u001b[49m\u001b[43mmeta\u001b[49m\u001b[38;5;241;43m=\u001b[39;49m\u001b[43mmeta\u001b[49m\u001b[43m,\u001b[49m\n\u001b[1;32m   1956\u001b[0m \u001b[43m    \u001b[49m\u001b[43mx_is_u\u001b[49m\u001b[38;5;241;43m=\u001b[39;49m\u001b[43mx_is_u\u001b[49m\u001b[43m,\u001b[49m\n\u001b[1;32m   1957\u001b[0m \u001b[43m\u001b[49m\u001b[43m)\u001b[49m\n",
      "File \u001b[0;32m<attrs generated init thermoextrap.data.DataCentralMomentsVals>:23\u001b[0m, in \u001b[0;36m__init__\u001b[0;34m(self, uv, xv, meta, umom_dim, xmom_dim, rec_dim, deriv_dim, central, x_is_u, order, w, from_vals_kws, dxduave)\u001b[0m\n\u001b[1;32m     21\u001b[0m     __attr_validator_order(\u001b[38;5;28mself\u001b[39m, __attr_order, \u001b[38;5;28mself\u001b[39m\u001b[38;5;241m.\u001b[39morder)\n\u001b[1;32m     22\u001b[0m     __attr_validator_dxduave(\u001b[38;5;28mself\u001b[39m, __attr_dxduave, \u001b[38;5;28mself\u001b[39m\u001b[38;5;241m.\u001b[39mdxduave)\n\u001b[0;32m---> 23\u001b[0m \u001b[38;5;28;43mself\u001b[39;49m\u001b[38;5;241;43m.\u001b[39;49m\u001b[43m__attrs_post_init__\u001b[49m\u001b[43m(\u001b[49m\u001b[43m)\u001b[49m\n",
      "File \u001b[0;32m~/Documents/python/projects/thermoextrap/src/thermoextrap/data.py:1868\u001b[0m, in \u001b[0;36mDataCentralMomentsVals.__attrs_post_init__\u001b[0;34m(self)\u001b[0m\n\u001b[1;32m   1865\u001b[0m     msg \u001b[38;5;241m=\u001b[39m \u001b[38;5;124m\"\u001b[39m\u001b[38;5;124mmust pass order if calculating dxduave\u001b[39m\u001b[38;5;124m\"\u001b[39m\n\u001b[1;32m   1866\u001b[0m     \u001b[38;5;28;01mraise\u001b[39;00m \u001b[38;5;167;01mValueError\u001b[39;00m(msg)\n\u001b[0;32m-> 1868\u001b[0m \u001b[38;5;28mself\u001b[39m\u001b[38;5;241m.\u001b[39mdxduave \u001b[38;5;241m=\u001b[39m \u001b[43mcmomy\u001b[49m\u001b[38;5;241;43m.\u001b[39;49m\u001b[43mxCentralMoments\u001b[49m\u001b[38;5;241;43m.\u001b[39;49m\u001b[43mfrom_vals\u001b[49m\u001b[43m(\u001b[49m\n\u001b[1;32m   1869\u001b[0m \u001b[43m    \u001b[49m\u001b[43mx\u001b[49m\u001b[38;5;241;43m=\u001b[39;49m\u001b[43m(\u001b[49m\u001b[38;5;28;43mself\u001b[39;49m\u001b[38;5;241;43m.\u001b[39;49m\u001b[43mxv\u001b[49m\u001b[43m,\u001b[49m\u001b[43m \u001b[49m\u001b[38;5;28;43mself\u001b[39;49m\u001b[38;5;241;43m.\u001b[39;49m\u001b[43muv\u001b[49m\u001b[43m)\u001b[49m\u001b[43m,\u001b[49m\n\u001b[1;32m   1870\u001b[0m \u001b[43m    \u001b[49m\u001b[43mw\u001b[49m\u001b[38;5;241;43m=\u001b[39;49m\u001b[38;5;28;43mself\u001b[39;49m\u001b[38;5;241;43m.\u001b[39;49m\u001b[43mw\u001b[49m\u001b[43m,\u001b[49m\n\u001b[1;32m   1871\u001b[0m \u001b[43m    \u001b[49m\u001b[43mdim\u001b[49m\u001b[38;5;241;43m=\u001b[39;49m\u001b[38;5;28;43mself\u001b[39;49m\u001b[38;5;241;43m.\u001b[39;49m\u001b[43mrec_dim\u001b[49m\u001b[43m,\u001b[49m\n\u001b[1;32m   1872\u001b[0m \u001b[43m    \u001b[49m\u001b[43mmom\u001b[49m\u001b[38;5;241;43m=\u001b[39;49m\u001b[43m(\u001b[49m\u001b[38;5;241;43m1\u001b[39;49m\u001b[43m,\u001b[49m\u001b[43m \u001b[49m\u001b[38;5;28;43mself\u001b[39;49m\u001b[38;5;241;43m.\u001b[39;49m\u001b[43morder\u001b[49m\u001b[43m)\u001b[49m\u001b[43m,\u001b[49m\n\u001b[1;32m   1873\u001b[0m \u001b[43m    \u001b[49m\u001b[43mbroadcast\u001b[49m\u001b[38;5;241;43m=\u001b[39;49m\u001b[38;5;28;43;01mTrue\u001b[39;49;00m\u001b[43m,\u001b[49m\n\u001b[1;32m   1874\u001b[0m \u001b[43m    \u001b[49m\u001b[43mmom_dims\u001b[49m\u001b[38;5;241;43m=\u001b[39;49m\u001b[43m(\u001b[49m\u001b[38;5;28;43mself\u001b[39;49m\u001b[38;5;241;43m.\u001b[39;49m\u001b[43mxmom_dim\u001b[49m\u001b[43m,\u001b[49m\u001b[43m \u001b[49m\u001b[38;5;28;43mself\u001b[39;49m\u001b[38;5;241;43m.\u001b[39;49m\u001b[43mumom_dim\u001b[49m\u001b[43m)\u001b[49m\u001b[43m,\u001b[49m\n\u001b[1;32m   1875\u001b[0m \u001b[43m    \u001b[49m\u001b[38;5;241;43m*\u001b[39;49m\u001b[38;5;241;43m*\u001b[39;49m\u001b[38;5;28;43mself\u001b[39;49m\u001b[38;5;241;43m.\u001b[39;49m\u001b[43mfrom_vals_kws\u001b[49m\u001b[43m,\u001b[49m\n\u001b[1;32m   1876\u001b[0m \u001b[43m\u001b[49m\u001b[43m)\u001b[49m\n",
      "\u001b[0;31mTypeError\u001b[0m: xCentralMoments.from_vals() got an unexpected keyword argument 'w'"
     ]
    }
   ],
   "source": [
    "data = xtrap.DataCentralMomentsVals.from_vals(\n",
    "    order=order, rec_dim=\"rec\", xv=xdata, uv=udata, central=True\n",
    ")"
   ]
  },
  {
   "cell_type": "markdown",
   "id": "11",
   "metadata": {},
   "source": [
    "A couple more notes are in order about the inputs to any of the {mod}`thermoextrap.data` object variants. First, you only need to provide the order you expect to extrapolate to up front if you're using the {meth}`~thermoextrap.data.DataCentralMomentsVals.from_vals` constructor. This is because you need to specify the order of moments that will be calculated from the raw data.\n",
    "\n",
    "The next argument to be aware of is `central`. This is True by default and tells the data object to work with central moments for calculating derivatives in the background, which it turns out is much more numerically stable than non-central moments. You probably want `central` to be True, but know that you can change it if you wish."
   ]
  },
  {
   "cell_type": "markdown",
   "id": "12",
   "metadata": {},
   "source": [
    "## Data Structure\n",
    "\n",
    "```{eval-rst}\n",
    ".. currentmodule:: thermoextrap.data\n",
    "```\n",
    "\n",
    "\n",
    "\n",
    "A lot of data is already computed as soon as we create our data object. The original raw data is still stored in {attr}`~DataCentralMomentsVals.xv` and {attr}`~DataCentralMomentsVals.uv`, and order is {attr}`~DataCentralMomentsVals.order`, but we can already see the central moments appearing if we look at..."
   ]
  },
  {
   "cell_type": "code",
   "execution_count": 7,
   "id": "13",
   "metadata": {},
   "outputs": [
    {
     "ename": "NameError",
     "evalue": "name 'data' is not defined",
     "output_type": "error",
     "traceback": [
      "\u001b[0;31m---------------------------------------------------------------------------\u001b[0m",
      "\u001b[0;31mNameError\u001b[0m                                 Traceback (most recent call last)",
      "Cell \u001b[0;32mIn[7], line 1\u001b[0m\n\u001b[0;32m----> 1\u001b[0m \u001b[43mdata\u001b[49m\u001b[38;5;241m.\u001b[39mxv\n",
      "\u001b[0;31mNameError\u001b[0m: name 'data' is not defined"
     ]
    }
   ],
   "source": [
    "data.xv"
   ]
  },
  {
   "cell_type": "code",
   "execution_count": 8,
   "id": "14",
   "metadata": {},
   "outputs": [
    {
     "ename": "NameError",
     "evalue": "name 'data' is not defined",
     "output_type": "error",
     "traceback": [
      "\u001b[0;31m---------------------------------------------------------------------------\u001b[0m",
      "\u001b[0;31mNameError\u001b[0m                                 Traceback (most recent call last)",
      "Cell \u001b[0;32mIn[8], line 1\u001b[0m\n\u001b[0;32m----> 1\u001b[0m \u001b[43mdata\u001b[49m\u001b[38;5;241m.\u001b[39mxave\n",
      "\u001b[0;31mNameError\u001b[0m: name 'data' is not defined"
     ]
    }
   ],
   "source": [
    "data.xave"
   ]
  },
  {
   "cell_type": "markdown",
   "id": "15",
   "metadata": {},
   "source": [
    "{attr}`~DataCentralMomentsVals.xave` is the average observable value."
   ]
  },
  {
   "cell_type": "code",
   "execution_count": 9,
   "id": "16",
   "metadata": {},
   "outputs": [
    {
     "ename": "NameError",
     "evalue": "name 'data' is not defined",
     "output_type": "error",
     "traceback": [
      "\u001b[0;31m---------------------------------------------------------------------------\u001b[0m",
      "\u001b[0;31mNameError\u001b[0m                                 Traceback (most recent call last)",
      "Cell \u001b[0;32mIn[9], line 1\u001b[0m\n\u001b[0;32m----> 1\u001b[0m \u001b[43mdata\u001b[49m\u001b[38;5;241m.\u001b[39mu\n",
      "\u001b[0;31mNameError\u001b[0m: name 'data' is not defined"
     ]
    }
   ],
   "source": [
    "data.u"
   ]
  },
  {
   "cell_type": "markdown",
   "id": "17",
   "metadata": {},
   "source": [
    "{attr}`~DataCentralMomentsVals.u` are the moments of the potential energy, i.e., $\\langle U^i \\rangle$ for the $i^\\mathrm{th}$ index in the array.\n",
    "\n",
    "For the central moments of the potential energy, $\\langle (U - \\langle U \\rangle )^i \\rangle$, you can look at {attr}`~DataCentralMomentsVals.du`"
   ]
  },
  {
   "cell_type": "code",
   "execution_count": 10,
   "id": "18",
   "metadata": {},
   "outputs": [
    {
     "ename": "NameError",
     "evalue": "name 'data' is not defined",
     "output_type": "error",
     "traceback": [
      "\u001b[0;31m---------------------------------------------------------------------------\u001b[0m",
      "\u001b[0;31mNameError\u001b[0m                                 Traceback (most recent call last)",
      "Cell \u001b[0;32mIn[10], line 1\u001b[0m\n\u001b[0;32m----> 1\u001b[0m \u001b[43mdata\u001b[49m\u001b[38;5;241m.\u001b[39mdu\n",
      "\u001b[0;31mNameError\u001b[0m: name 'data' is not defined"
     ]
    }
   ],
   "source": [
    "data.du"
   ]
  },
  {
   "cell_type": "markdown",
   "id": "19",
   "metadata": {},
   "source": [
    "The other necessary component for calculating derivatives is $\\langle x U^i \\rangle$, which is in {attr}`DataCentralMomentsVals.xu`"
   ]
  },
  {
   "cell_type": "code",
   "execution_count": 11,
   "id": "20",
   "metadata": {},
   "outputs": [
    {
     "ename": "NameError",
     "evalue": "name 'data' is not defined",
     "output_type": "error",
     "traceback": [
      "\u001b[0;31m---------------------------------------------------------------------------\u001b[0m",
      "\u001b[0;31mNameError\u001b[0m                                 Traceback (most recent call last)",
      "Cell \u001b[0;32mIn[11], line 1\u001b[0m\n\u001b[0;32m----> 1\u001b[0m \u001b[43mdata\u001b[49m\u001b[38;5;241m.\u001b[39mxu\n",
      "\u001b[0;31mNameError\u001b[0m: name 'data' is not defined"
     ]
    }
   ],
   "source": [
    "data.xu"
   ]
  },
  {
   "cell_type": "markdown",
   "id": "21",
   "metadata": {},
   "source": [
    "Or if working with central moments, $\\langle (x - \\langle x \\rangle) (U - \\langle U \\rangle)^i \\rangle$, is in {attr}`DataCentralMomentsVals.dxdu`"
   ]
  },
  {
   "cell_type": "code",
   "execution_count": 12,
   "id": "22",
   "metadata": {},
   "outputs": [
    {
     "ename": "NameError",
     "evalue": "name 'data' is not defined",
     "output_type": "error",
     "traceback": [
      "\u001b[0;31m---------------------------------------------------------------------------\u001b[0m",
      "\u001b[0;31mNameError\u001b[0m                                 Traceback (most recent call last)",
      "Cell \u001b[0;32mIn[12], line 1\u001b[0m\n\u001b[0;32m----> 1\u001b[0m \u001b[43mdata\u001b[49m\u001b[38;5;241m.\u001b[39mdxdu\n",
      "\u001b[0;31mNameError\u001b[0m: name 'data' is not defined"
     ]
    }
   ],
   "source": [
    "data.dxdu"
   ]
  },
  {
   "cell_type": "markdown",
   "id": "23",
   "metadata": {},
   "source": [
    "All of this information is condensed in {attr}`~DataCentralMomentsVals.values`, which takes only exactly what we need for computing derivatives."
   ]
  },
  {
   "cell_type": "code",
   "execution_count": 13,
   "id": "24",
   "metadata": {},
   "outputs": [
    {
     "ename": "NameError",
     "evalue": "name 'data' is not defined",
     "output_type": "error",
     "traceback": [
      "\u001b[0;31m---------------------------------------------------------------------------\u001b[0m",
      "\u001b[0;31mNameError\u001b[0m                                 Traceback (most recent call last)",
      "Cell \u001b[0;32mIn[13], line 1\u001b[0m\n\u001b[0;32m----> 1\u001b[0m \u001b[43mdata\u001b[49m\u001b[38;5;241m.\u001b[39mvalues\n",
      "\u001b[0;31mNameError\u001b[0m: name 'data' is not defined"
     ]
    }
   ],
   "source": [
    "data.values"
   ]
  },
  {
   "cell_type": "markdown",
   "id": "25",
   "metadata": {},
   "source": [
    "Understanding this internal structure will help to understand possible inputs as well. In {attr}`~DataCentralMoments.values`, the data object has stored the central moments of $\\langle x \\rangle$ and $\\langle U^i \\rangle$ and cross moments $\\langle x U^i \\rangle$. Note that the second dimension, \"umom\", short for \"U moments\", is just `order` plus 1. That makes sense if we remember that the zeroth order derivative is the observable itself and we specify that we want to use up to `order` derivatives. So the second dimension involves setting the exponent $i$ on $U$ equal to the index of that dimension, or order of that moment. The first dimension does the same thing, but with $x$. Regardless of the order, however, we only ever need $x$ raised to the zeroth or first power in the average.\n",
    "\n",
    "The first row in `values` contains all moments of just $U$, i.e., $\\langle U^0 \\rangle$, $\\langle U^1 \\rangle$, $\\langle U^2 \\rangle$, etc. The second row in `values` contains all moments of $x$ multiplied by $U$, i.e., $\\langle x U^0 \\rangle$, $\\langle x U^1 \\rangle$, etc.  But note that beyond the powers of 0 and 1 for the first row, and just 0 for the second row, all values shown are central moments, e.g., $\\langle (x - \\langle x \\rangle)(U - \\langle U \\rangle)^i \\rangle$ or $\\langle (U - \\langle U \\rangle)^i \\rangle$."
   ]
  },
  {
   "cell_type": "markdown",
   "id": "26",
   "metadata": {},
   "source": [
    "In other words, {attr}`~DataCentralMomentsVals.values` is a special array with structure...\n",
    "\n",
    "for i + j <= 1: <br>\n",
    "`data.values[0, 0]` = {sum of weights or count} <br>\n",
    "`data.values[1, 0]` = {ave of x} = $\\langle x \\rangle$ <br>\n",
    "`data.values[0, 1]` = {ave of u} = $\\langle U \\rangle$ <br>\n",
    "\n",
    "for i + j > 1: <br>\n",
    "`data.values[i, j]` = $\\langle (x - \\langle x \\rangle)^i (U - \\langle U \\rangle)^j \\rangle$\n",
    "\n",
    "To summarize, {attr}`~DataCentralMomentsVals.values` contains the bare bones of what is required for calculating derivatives and will be shared in some form or another across all data classes, with this information passed to the functions that compute derivative."
   ]
  },
  {
   "cell_type": "markdown",
   "id": "27",
   "metadata": {},
   "source": [
    "## Input formats and resampling\n",
    "\n",
    "Since {attr}`~DataCentralMomentsVals.values` reflects the internal structure, you can just provide it directly (or something similar to it in terms of moments) if you prefer to do that. You'll just need to use a different data class {class}`DataCentralMoments` and a different constructor method {meth}`DataCentralMoments.from_vals`.\n",
    "\n",
    "While {class}`DataCentralMomentsVals` is designed to work with 'values' (i.e., individual observations), {class}`DataCentralMoments` is designed to work with moments.  Both classes can be constructed from 'values', but  {class}`DataCentralMomentsVals` retains the underlying values (for resampling, etc), {class}`DataCentralMoments` converts the values to moments, and goes from there.  Basically, if you have pre-computed moments (e.g., from a simulation), {class}`DataCentralMoments` is probably what you want to use.  Note that resampling for {class}`DataCentralMoments` is based on resampling over multiple samples the moments."
   ]
  },
  {
   "cell_type": "markdown",
   "id": "28",
   "metadata": {},
   "source": [
    "For example, if we construct an {class}`DataCentralMoments` object using the {meth}`DataCentralMoments.from_data` constructor, we have:"
   ]
  },
  {
   "cell_type": "code",
   "execution_count": 14,
   "id": "29",
   "metadata": {},
   "outputs": [
    {
     "ename": "NameError",
     "evalue": "name 'data' is not defined",
     "output_type": "error",
     "traceback": [
      "\u001b[0;31m---------------------------------------------------------------------------\u001b[0m",
      "\u001b[0;31mNameError\u001b[0m                                 Traceback (most recent call last)",
      "Cell \u001b[0;32mIn[14], line 1\u001b[0m\n\u001b[0;32m----> 1\u001b[0m data_noboot \u001b[38;5;241m=\u001b[39m xtrap\u001b[38;5;241m.\u001b[39mDataCentralMoments\u001b[38;5;241m.\u001b[39mfrom_data(\u001b[43mdata\u001b[49m\u001b[38;5;241m.\u001b[39mvalues)\n\u001b[1;32m      2\u001b[0m xr\u001b[38;5;241m.\u001b[39mtesting\u001b[38;5;241m.\u001b[39massert_allclose(data_noboot\u001b[38;5;241m.\u001b[39mvalues, data\u001b[38;5;241m.\u001b[39mvalues)\n\u001b[1;32m      3\u001b[0m data_noboot\u001b[38;5;241m.\u001b[39mvalues\n",
      "\u001b[0;31mNameError\u001b[0m: name 'data' is not defined"
     ]
    }
   ],
   "source": [
    "data_noboot = xtrap.DataCentralMoments.from_data(data.values)\n",
    "xr.testing.assert_allclose(data_noboot.values, data.values)\n",
    "data_noboot.values"
   ]
  },
  {
   "cell_type": "markdown",
   "id": "30",
   "metadata": {},
   "source": [
    "Which is identical to `data` above.  Note that the order here is inferred from the passed moments array. Likewise, we could have just created this from values using {meth}`DataCentralMoments.from_vals`"
   ]
  },
  {
   "cell_type": "code",
   "execution_count": 15,
   "id": "31",
   "metadata": {},
   "outputs": [
    {
     "ename": "TypeError",
     "evalue": "xCentralMoments.from_vals() got an unexpected keyword argument 'w'",
     "output_type": "error",
     "traceback": [
      "\u001b[0;31m---------------------------------------------------------------------------\u001b[0m",
      "\u001b[0;31mTypeError\u001b[0m                                 Traceback (most recent call last)",
      "Cell \u001b[0;32mIn[15], line 1\u001b[0m\n\u001b[0;32m----> 1\u001b[0m data_noboot \u001b[38;5;241m=\u001b[39m \u001b[43mxtrap\u001b[49m\u001b[38;5;241;43m.\u001b[39;49m\u001b[43mDataCentralMoments\u001b[49m\u001b[38;5;241;43m.\u001b[39;49m\u001b[43mfrom_vals\u001b[49m\u001b[43m(\u001b[49m\n\u001b[1;32m      2\u001b[0m \u001b[43m    \u001b[49m\u001b[43mxv\u001b[49m\u001b[38;5;241;43m=\u001b[39;49m\u001b[43mxdata\u001b[49m\u001b[43m,\u001b[49m\u001b[43m \u001b[49m\u001b[43muv\u001b[49m\u001b[38;5;241;43m=\u001b[39;49m\u001b[43mudata\u001b[49m\u001b[43m,\u001b[49m\u001b[43m \u001b[49m\u001b[43mrec_dim\u001b[49m\u001b[38;5;241;43m=\u001b[39;49m\u001b[38;5;124;43m\"\u001b[39;49m\u001b[38;5;124;43mrec\u001b[39;49m\u001b[38;5;124;43m\"\u001b[39;49m\u001b[43m,\u001b[49m\u001b[43m \u001b[49m\u001b[43mcentral\u001b[49m\u001b[38;5;241;43m=\u001b[39;49m\u001b[38;5;28;43;01mTrue\u001b[39;49;00m\u001b[43m,\u001b[49m\u001b[43m \u001b[49m\u001b[43morder\u001b[49m\u001b[38;5;241;43m=\u001b[39;49m\u001b[43morder\u001b[49m\n\u001b[1;32m      3\u001b[0m \u001b[43m)\u001b[49m\n\u001b[1;32m      4\u001b[0m xr\u001b[38;5;241m.\u001b[39mtesting\u001b[38;5;241m.\u001b[39massert_allclose(data_noboot\u001b[38;5;241m.\u001b[39mvalues, data\u001b[38;5;241m.\u001b[39mvalues)\n\u001b[1;32m      5\u001b[0m data_noboot\u001b[38;5;241m.\u001b[39mvalues\n",
      "File \u001b[0;32m~/Documents/python/projects/thermoextrap/src/thermoextrap/data.py:1383\u001b[0m, in \u001b[0;36mDataCentralMoments.from_vals\u001b[0;34m(cls, xv, uv, order, xmom_dim, umom_dim, rec_dim, deriv_dim, central, weight, axis, dim, dtype, dims, meta, x_is_u, **kwargs)\u001b[0m\n\u001b[1;32m   1380\u001b[0m \u001b[38;5;28;01mif\u001b[39;00m axis \u001b[38;5;129;01mis\u001b[39;00m \u001b[38;5;28;01mNone\u001b[39;00m \u001b[38;5;129;01mand\u001b[39;00m dim \u001b[38;5;129;01mis\u001b[39;00m \u001b[38;5;28;01mNone\u001b[39;00m:\n\u001b[1;32m   1381\u001b[0m     axis \u001b[38;5;241m=\u001b[39m \u001b[38;5;241m0\u001b[39m\n\u001b[0;32m-> 1383\u001b[0m dxduave \u001b[38;5;241m=\u001b[39m \u001b[43mcmomy\u001b[49m\u001b[38;5;241;43m.\u001b[39;49m\u001b[43mxCentralMoments\u001b[49m\u001b[38;5;241;43m.\u001b[39;49m\u001b[43mfrom_vals\u001b[49m\u001b[43m(\u001b[49m\n\u001b[1;32m   1384\u001b[0m \u001b[43m    \u001b[49m\u001b[43mxv\u001b[49m\u001b[43m,\u001b[49m\n\u001b[1;32m   1385\u001b[0m \u001b[43m    \u001b[49m\u001b[43muv\u001b[49m\u001b[43m,\u001b[49m\n\u001b[1;32m   1386\u001b[0m \u001b[43m    \u001b[49m\u001b[43mw\u001b[49m\u001b[38;5;241;43m=\u001b[39;49m\u001b[43mweight\u001b[49m\u001b[43m,\u001b[49m\n\u001b[1;32m   1387\u001b[0m \u001b[43m    \u001b[49m\u001b[43maxis\u001b[49m\u001b[38;5;241;43m=\u001b[39;49m\u001b[43maxis\u001b[49m\u001b[43m,\u001b[49m\n\u001b[1;32m   1388\u001b[0m \u001b[43m    \u001b[49m\u001b[43mdim\u001b[49m\u001b[38;5;241;43m=\u001b[39;49m\u001b[43mdim\u001b[49m\u001b[43m,\u001b[49m\n\u001b[1;32m   1389\u001b[0m \u001b[43m    \u001b[49m\u001b[43mmom\u001b[49m\u001b[38;5;241;43m=\u001b[39;49m\u001b[43m(\u001b[49m\u001b[38;5;241;43m1\u001b[39;49m\u001b[43m,\u001b[49m\u001b[43m \u001b[49m\u001b[43morder\u001b[49m\u001b[43m)\u001b[49m\u001b[43m,\u001b[49m\n\u001b[1;32m   1390\u001b[0m \u001b[43m    \u001b[49m\u001b[43mdtype\u001b[49m\u001b[38;5;241;43m=\u001b[39;49m\u001b[43mdtype\u001b[49m\u001b[43m,\u001b[49m\n\u001b[1;32m   1391\u001b[0m \u001b[43m    \u001b[49m\u001b[43mdims\u001b[49m\u001b[38;5;241;43m=\u001b[39;49m\u001b[43mdims\u001b[49m\u001b[43m,\u001b[49m\n\u001b[1;32m   1392\u001b[0m \u001b[43m    \u001b[49m\u001b[43mmom_dims\u001b[49m\u001b[38;5;241;43m=\u001b[39;49m\u001b[43m(\u001b[49m\u001b[43mxmom_dim\u001b[49m\u001b[43m,\u001b[49m\u001b[43m \u001b[49m\u001b[43mumom_dim\u001b[49m\u001b[43m)\u001b[49m\u001b[43m,\u001b[49m\n\u001b[1;32m   1393\u001b[0m \u001b[43m    \u001b[49m\u001b[38;5;241;43m*\u001b[39;49m\u001b[38;5;241;43m*\u001b[39;49m\u001b[43mkwargs\u001b[49m\u001b[43m,\u001b[49m\n\u001b[1;32m   1394\u001b[0m \u001b[43m\u001b[49m\u001b[43m)\u001b[49m\n\u001b[1;32m   1396\u001b[0m \u001b[38;5;28;01mreturn\u001b[39;00m \u001b[38;5;28mcls\u001b[39m(\n\u001b[1;32m   1397\u001b[0m     dxduave\u001b[38;5;241m=\u001b[39mdxduave,\n\u001b[1;32m   1398\u001b[0m     xmom_dim\u001b[38;5;241m=\u001b[39mxmom_dim,\n\u001b[0;32m   (...)\u001b[0m\n\u001b[1;32m   1404\u001b[0m     x_is_u\u001b[38;5;241m=\u001b[39mx_is_u,\n\u001b[1;32m   1405\u001b[0m )\n",
      "\u001b[0;31mTypeError\u001b[0m: xCentralMoments.from_vals() got an unexpected keyword argument 'w'"
     ]
    }
   ],
   "source": [
    "data_noboot = xtrap.DataCentralMoments.from_vals(\n",
    "    xv=xdata, uv=udata, rec_dim=\"rec\", central=True, order=order\n",
    ")\n",
    "xr.testing.assert_allclose(data_noboot.values, data.values)\n",
    "data_noboot.values"
   ]
  },
  {
   "cell_type": "markdown",
   "id": "32",
   "metadata": {},
   "source": [
    "However, since `data_noboot` is based on just a single average, bootstrapping makes little sense.  For example:"
   ]
  },
  {
   "cell_type": "code",
   "execution_count": 16,
   "id": "33",
   "metadata": {},
   "outputs": [
    {
     "ename": "NameError",
     "evalue": "name 'data' is not defined",
     "output_type": "error",
     "traceback": [
      "\u001b[0;31m---------------------------------------------------------------------------\u001b[0m",
      "\u001b[0;31mNameError\u001b[0m                                 Traceback (most recent call last)",
      "Cell \u001b[0;32mIn[16], line 1\u001b[0m\n\u001b[0;32m----> 1\u001b[0m data_noboot \u001b[38;5;241m=\u001b[39m xtrap\u001b[38;5;241m.\u001b[39mDataCentralMoments\u001b[38;5;241m.\u001b[39mfrom_raw(\u001b[43mdata\u001b[49m\u001b[38;5;241m.\u001b[39mvalues)\n\u001b[1;32m      3\u001b[0m \u001b[38;5;28;01mtry\u001b[39;00m:\n\u001b[1;32m      4\u001b[0m     data_noboot\u001b[38;5;241m.\u001b[39mresample(nrep\u001b[38;5;241m=\u001b[39m\u001b[38;5;241m3\u001b[39m)\u001b[38;5;241m.\u001b[39mvalues\n",
      "\u001b[0;31mNameError\u001b[0m: name 'data' is not defined"
     ]
    }
   ],
   "source": [
    "data_noboot = xtrap.DataCentralMoments.from_raw(data.values)\n",
    "\n",
    "try:\n",
    "    data_noboot.resample(nrep=3).values\n",
    "except ValueError as e:\n",
    "    print(\"caught error!\")\n",
    "    print(e)"
   ]
  },
  {
   "cell_type": "markdown",
   "id": "34",
   "metadata": {},
   "source": [
    "versus..."
   ]
  },
  {
   "cell_type": "code",
   "execution_count": 17,
   "id": "35",
   "metadata": {},
   "outputs": [
    {
     "ename": "NameError",
     "evalue": "name 'data' is not defined",
     "output_type": "error",
     "traceback": [
      "\u001b[0;31m---------------------------------------------------------------------------\u001b[0m",
      "\u001b[0;31mNameError\u001b[0m                                 Traceback (most recent call last)",
      "Cell \u001b[0;32mIn[17], line 1\u001b[0m\n\u001b[0;32m----> 1\u001b[0m \u001b[43mdata\u001b[49m\u001b[38;5;241m.\u001b[39mresample(nrep\u001b[38;5;241m=\u001b[39m\u001b[38;5;241m3\u001b[39m)\u001b[38;5;241m.\u001b[39mvalues\n",
      "\u001b[0;31mNameError\u001b[0m: name 'data' is not defined"
     ]
    }
   ],
   "source": [
    "data.resample(nrep=3).values"
   ]
  },
  {
   "cell_type": "markdown",
   "id": "36",
   "metadata": {},
   "source": [
    "Note that whenever you call `.resample()` a new dimension is created for the output called 'rep', short for \"repetitions.\" This is similar to the 'rec' dimension, but helps you keep track of whether you're working with original data, or a bootstrapped sample."
   ]
  },
  {
   "cell_type": "markdown",
   "id": "37",
   "metadata": {},
   "source": [
    "So clearly if you like to provide raw moments and the uncertainty quantification in `thermoextrap` to work, you will need to do this from blocks of your data or from repeated simulations. But the code will all still work if you prefer to calculate your own moments (saving them periodically from simulations rather than saving all of the configurations, energies, or observables frequently).\n",
    "\n",
    "As an example, we can work with blocks of data, adding an axis called 'block' that we will ask the constructor to average over by specifying the `dim` argument."
   ]
  },
  {
   "cell_type": "code",
   "execution_count": 18,
   "id": "38",
   "metadata": {},
   "outputs": [],
   "source": [
    "# Make 100 averaged observations\n",
    "xx = xr.DataArray(xdata.values.reshape(100, -1), dims=[\"rec\", \"block\"])\n",
    "uu = xr.DataArray(udata.values.reshape(100, -1), dims=[\"rec\", \"block\"])"
   ]
  },
  {
   "cell_type": "code",
   "execution_count": 19,
   "id": "39",
   "metadata": {},
   "outputs": [
    {
     "ename": "TypeError",
     "evalue": "xCentralMoments.from_vals() got an unexpected keyword argument 'w'",
     "output_type": "error",
     "traceback": [
      "\u001b[0;31m---------------------------------------------------------------------------\u001b[0m",
      "\u001b[0;31mTypeError\u001b[0m                                 Traceback (most recent call last)",
      "Cell \u001b[0;32mIn[19], line 4\u001b[0m\n\u001b[1;32m      1\u001b[0m \u001b[38;5;66;03m# Create directly from values of moments - notice that this is DataCentralMoments, not DataCentralMomentsVals\u001b[39;00m\n\u001b[1;32m      2\u001b[0m \u001b[38;5;66;03m# Effectively just means that the 'rec' dim will not be collapsed when using data for extrapolation, etc.\u001b[39;00m\n\u001b[1;32m      3\u001b[0m \u001b[38;5;66;03m# Behaves similarly to the 'rep' dim when resampling\u001b[39;00m\n\u001b[0;32m----> 4\u001b[0m data_fv \u001b[38;5;241m=\u001b[39m \u001b[43mxtrap\u001b[49m\u001b[38;5;241;43m.\u001b[39;49m\u001b[43mDataCentralMoments\u001b[49m\u001b[38;5;241;43m.\u001b[39;49m\u001b[43mfrom_vals\u001b[49m\u001b[43m(\u001b[49m\n\u001b[1;32m      5\u001b[0m \u001b[43m    \u001b[49m\u001b[43mxv\u001b[49m\u001b[38;5;241;43m=\u001b[39;49m\u001b[43mxx\u001b[49m\u001b[43m,\u001b[49m\u001b[43m \u001b[49m\u001b[43muv\u001b[49m\u001b[38;5;241;43m=\u001b[39;49m\u001b[43muu\u001b[49m\u001b[43m,\u001b[49m\u001b[43m \u001b[49m\u001b[43mdim\u001b[49m\u001b[38;5;241;43m=\u001b[39;49m\u001b[38;5;124;43m\"\u001b[39;49m\u001b[38;5;124;43mblock\u001b[39;49m\u001b[38;5;124;43m\"\u001b[39;49m\u001b[43m,\u001b[49m\u001b[43m \u001b[49m\u001b[43morder\u001b[49m\u001b[38;5;241;43m=\u001b[39;49m\u001b[43morder\u001b[49m\u001b[43m,\u001b[49m\u001b[43m \u001b[49m\u001b[43mcentral\u001b[49m\u001b[38;5;241;43m=\u001b[39;49m\u001b[38;5;28;43;01mTrue\u001b[39;49;00m\n\u001b[1;32m      6\u001b[0m \u001b[43m)\u001b[49m\n\u001b[1;32m      7\u001b[0m \u001b[38;5;66;03m# So 'rec' is for each separate block average\u001b[39;00m\n\u001b[1;32m      8\u001b[0m data_fv\u001b[38;5;241m.\u001b[39mvalues\n",
      "File \u001b[0;32m~/Documents/python/projects/thermoextrap/src/thermoextrap/data.py:1383\u001b[0m, in \u001b[0;36mDataCentralMoments.from_vals\u001b[0;34m(cls, xv, uv, order, xmom_dim, umom_dim, rec_dim, deriv_dim, central, weight, axis, dim, dtype, dims, meta, x_is_u, **kwargs)\u001b[0m\n\u001b[1;32m   1380\u001b[0m \u001b[38;5;28;01mif\u001b[39;00m axis \u001b[38;5;129;01mis\u001b[39;00m \u001b[38;5;28;01mNone\u001b[39;00m \u001b[38;5;129;01mand\u001b[39;00m dim \u001b[38;5;129;01mis\u001b[39;00m \u001b[38;5;28;01mNone\u001b[39;00m:\n\u001b[1;32m   1381\u001b[0m     axis \u001b[38;5;241m=\u001b[39m \u001b[38;5;241m0\u001b[39m\n\u001b[0;32m-> 1383\u001b[0m dxduave \u001b[38;5;241m=\u001b[39m \u001b[43mcmomy\u001b[49m\u001b[38;5;241;43m.\u001b[39;49m\u001b[43mxCentralMoments\u001b[49m\u001b[38;5;241;43m.\u001b[39;49m\u001b[43mfrom_vals\u001b[49m\u001b[43m(\u001b[49m\n\u001b[1;32m   1384\u001b[0m \u001b[43m    \u001b[49m\u001b[43mxv\u001b[49m\u001b[43m,\u001b[49m\n\u001b[1;32m   1385\u001b[0m \u001b[43m    \u001b[49m\u001b[43muv\u001b[49m\u001b[43m,\u001b[49m\n\u001b[1;32m   1386\u001b[0m \u001b[43m    \u001b[49m\u001b[43mw\u001b[49m\u001b[38;5;241;43m=\u001b[39;49m\u001b[43mweight\u001b[49m\u001b[43m,\u001b[49m\n\u001b[1;32m   1387\u001b[0m \u001b[43m    \u001b[49m\u001b[43maxis\u001b[49m\u001b[38;5;241;43m=\u001b[39;49m\u001b[43maxis\u001b[49m\u001b[43m,\u001b[49m\n\u001b[1;32m   1388\u001b[0m \u001b[43m    \u001b[49m\u001b[43mdim\u001b[49m\u001b[38;5;241;43m=\u001b[39;49m\u001b[43mdim\u001b[49m\u001b[43m,\u001b[49m\n\u001b[1;32m   1389\u001b[0m \u001b[43m    \u001b[49m\u001b[43mmom\u001b[49m\u001b[38;5;241;43m=\u001b[39;49m\u001b[43m(\u001b[49m\u001b[38;5;241;43m1\u001b[39;49m\u001b[43m,\u001b[49m\u001b[43m \u001b[49m\u001b[43morder\u001b[49m\u001b[43m)\u001b[49m\u001b[43m,\u001b[49m\n\u001b[1;32m   1390\u001b[0m \u001b[43m    \u001b[49m\u001b[43mdtype\u001b[49m\u001b[38;5;241;43m=\u001b[39;49m\u001b[43mdtype\u001b[49m\u001b[43m,\u001b[49m\n\u001b[1;32m   1391\u001b[0m \u001b[43m    \u001b[49m\u001b[43mdims\u001b[49m\u001b[38;5;241;43m=\u001b[39;49m\u001b[43mdims\u001b[49m\u001b[43m,\u001b[49m\n\u001b[1;32m   1392\u001b[0m \u001b[43m    \u001b[49m\u001b[43mmom_dims\u001b[49m\u001b[38;5;241;43m=\u001b[39;49m\u001b[43m(\u001b[49m\u001b[43mxmom_dim\u001b[49m\u001b[43m,\u001b[49m\u001b[43m \u001b[49m\u001b[43mumom_dim\u001b[49m\u001b[43m)\u001b[49m\u001b[43m,\u001b[49m\n\u001b[1;32m   1393\u001b[0m \u001b[43m    \u001b[49m\u001b[38;5;241;43m*\u001b[39;49m\u001b[38;5;241;43m*\u001b[39;49m\u001b[43mkwargs\u001b[49m\u001b[43m,\u001b[49m\n\u001b[1;32m   1394\u001b[0m \u001b[43m\u001b[49m\u001b[43m)\u001b[49m\n\u001b[1;32m   1396\u001b[0m \u001b[38;5;28;01mreturn\u001b[39;00m \u001b[38;5;28mcls\u001b[39m(\n\u001b[1;32m   1397\u001b[0m     dxduave\u001b[38;5;241m=\u001b[39mdxduave,\n\u001b[1;32m   1398\u001b[0m     xmom_dim\u001b[38;5;241m=\u001b[39mxmom_dim,\n\u001b[0;32m   (...)\u001b[0m\n\u001b[1;32m   1404\u001b[0m     x_is_u\u001b[38;5;241m=\u001b[39mx_is_u,\n\u001b[1;32m   1405\u001b[0m )\n",
      "\u001b[0;31mTypeError\u001b[0m: xCentralMoments.from_vals() got an unexpected keyword argument 'w'"
     ]
    }
   ],
   "source": [
    "# Create directly from values of moments - notice that this is DataCentralMoments, not DataCentralMomentsVals\n",
    "# Effectively just means that the 'rec' dim will not be collapsed when using data for extrapolation, etc.\n",
    "# Behaves similarly to the 'rep' dim when resampling\n",
    "data_fv = xtrap.DataCentralMoments.from_vals(\n",
    "    xv=xx, uv=uu, dim=\"block\", order=order, central=True\n",
    ")\n",
    "# So 'rec' is for each separate block average\n",
    "data_fv.values"
   ]
  },
  {
   "cell_type": "markdown",
   "id": "40",
   "metadata": {},
   "source": [
    "Again, note that we did not use the {class}`DataCentralMomentsVals` class above, but instead the {class}`DataCentralMoments` class. The former is for processing and storing simulation \"timeseries\" of observable and potential energy values, while the latter takes pre-computed moments, including multiple replicates of precomputed moments as above. Behind the scenes, this will influence how bootstrapped confidence intervals are computed.\n",
    "\n",
    "What's functionally different, though, is that the 'rec' dim also appears in `.values`. That means that when this data is used in models for extrapolation or interpolation, that dimension will also be preserved. So prediction to a new $\\beta$ value will result in an output matching the size of the 'rec' dimension in the same way that it would match the 'rep' dimension created through resampling.\n",
    "\n",
    "If we resample over this data set, we see that we just take `nrep` random samples from it, putting those samples into a new dimension called 'rep'."
   ]
  },
  {
   "cell_type": "code",
   "execution_count": 20,
   "id": "41",
   "metadata": {},
   "outputs": [
    {
     "ename": "NameError",
     "evalue": "name 'data_fv' is not defined",
     "output_type": "error",
     "traceback": [
      "\u001b[0;31m---------------------------------------------------------------------------\u001b[0m",
      "\u001b[0;31mNameError\u001b[0m                                 Traceback (most recent call last)",
      "Cell \u001b[0;32mIn[20], line 1\u001b[0m\n\u001b[0;32m----> 1\u001b[0m \u001b[43mdata_fv\u001b[49m\u001b[38;5;241m.\u001b[39mresample(nrep\u001b[38;5;241m=\u001b[39m\u001b[38;5;241m3\u001b[39m)\u001b[38;5;241m.\u001b[39mvalues\n",
      "\u001b[0;31mNameError\u001b[0m: name 'data_fv' is not defined"
     ]
    }
   ],
   "source": [
    "data_fv.resample(nrep=3).values"
   ]
  },
  {
   "cell_type": "markdown",
   "id": "42",
   "metadata": {},
   "source": [
    "If we had computed the moments from the blocked data ourselves, we could also create a data object with the {meth}`DataCentralMoments.from_ave_raw` constructor (below). Many other constructors exist, including from central moments if you like. If you use those, please take a look at the documentation to make sure you are specifying or using the correct dimension naming conventions, such as 'rec', 'xmom', 'umom', etc. Remember, if you are extrapolating an observable that has an explicit dependence on the extrapolation observable, you also need to specify the 'deriv' dimension that describes the observed derivatives with respect to the extrapolation variable (see the [Temperature extrapolation case 2](./Temperature_Extrap_Case2.ipynb) notebook)."
   ]
  },
  {
   "cell_type": "code",
   "execution_count": 21,
   "id": "43",
   "metadata": {},
   "outputs": [
    {
     "ename": "TypeError",
     "evalue": "DataCentralMoments.from_ave_raw() got an unexpected keyword argument 'w'",
     "output_type": "error",
     "traceback": [
      "\u001b[0;31m---------------------------------------------------------------------------\u001b[0m",
      "\u001b[0;31mTypeError\u001b[0m                                 Traceback (most recent call last)",
      "Cell \u001b[0;32mIn[21], line 5\u001b[0m\n\u001b[1;32m      3\u001b[0m uave \u001b[38;5;241m=\u001b[39m (uu\u001b[38;5;241m*\u001b[39m\u001b[38;5;241m*\u001b[39mmom_u)\u001b[38;5;241m.\u001b[39mmean(\u001b[38;5;124m\"\u001b[39m\u001b[38;5;124mblock\u001b[39m\u001b[38;5;124m\"\u001b[39m)\n\u001b[1;32m      4\u001b[0m xuave \u001b[38;5;241m=\u001b[39m (xx \u001b[38;5;241m*\u001b[39m uu\u001b[38;5;241m*\u001b[39m\u001b[38;5;241m*\u001b[39mmom_u)\u001b[38;5;241m.\u001b[39mmean(\u001b[38;5;124m\"\u001b[39m\u001b[38;5;124mblock\u001b[39m\u001b[38;5;124m\"\u001b[39m)\n\u001b[0;32m----> 5\u001b[0m data_fa \u001b[38;5;241m=\u001b[39m \u001b[43mxtrap\u001b[49m\u001b[38;5;241;43m.\u001b[39;49m\u001b[43mDataCentralMoments\u001b[49m\u001b[38;5;241;43m.\u001b[39;49m\u001b[43mfrom_ave_raw\u001b[49m\u001b[43m(\u001b[49m\n\u001b[1;32m      6\u001b[0m \u001b[43m    \u001b[49m\u001b[43mu\u001b[49m\u001b[38;5;241;43m=\u001b[39;49m\u001b[43muave\u001b[49m\u001b[43m,\u001b[49m\u001b[43m \u001b[49m\u001b[43mxu\u001b[49m\u001b[38;5;241;43m=\u001b[39;49m\u001b[43mxuave\u001b[49m\u001b[43m,\u001b[49m\u001b[43m \u001b[49m\u001b[43mcentral\u001b[49m\u001b[38;5;241;43m=\u001b[39;49m\u001b[38;5;28;43;01mTrue\u001b[39;49;00m\u001b[43m,\u001b[49m\u001b[43m \u001b[49m\u001b[43mw\u001b[49m\u001b[38;5;241;43m=\u001b[39;49m\u001b[43mxx\u001b[49m\u001b[38;5;241;43m.\u001b[39;49m\u001b[43msizes\u001b[49m\u001b[43m[\u001b[49m\u001b[38;5;124;43m\"\u001b[39;49m\u001b[38;5;124;43mblock\u001b[39;49m\u001b[38;5;124;43m\"\u001b[39;49m\u001b[43m]\u001b[49m\n\u001b[1;32m      7\u001b[0m \u001b[43m)\u001b[49m\n\u001b[1;32m      9\u001b[0m xr\u001b[38;5;241m.\u001b[39mtesting\u001b[38;5;241m.\u001b[39massert_allclose(data_fv\u001b[38;5;241m.\u001b[39mvalues, data_fa\u001b[38;5;241m.\u001b[39mvalues)\n",
      "\u001b[0;31mTypeError\u001b[0m: DataCentralMoments.from_ave_raw() got an unexpected keyword argument 'w'"
     ]
    }
   ],
   "source": [
    "# Compute moments of U, i.e., averages to integer powers up to maximum order desired\n",
    "mom_u = xr.DataArray(np.arange(order + 1), dims=[\"umom\"])\n",
    "uave = (uu**mom_u).mean(\"block\")\n",
    "xuave = (xx * uu**mom_u).mean(\"block\")\n",
    "data_fa = xtrap.DataCentralMoments.from_ave_raw(\n",
    "    u=uave, xu=xuave, central=True, w=xx.sizes[\"block\"]\n",
    ")\n",
    "\n",
    "xr.testing.assert_allclose(data_fv.values, data_fa.values)"
   ]
  },
  {
   "cell_type": "markdown",
   "id": "44",
   "metadata": {},
   "source": [
    "The above `.values` should be identical to those from the `from_vals` constructor.\n",
    "\n",
    "At this point, we have seen how the same data objects that interface with extrapolation or interpolation models can be created from different inputs. Other features also exist, such as specifying weights with the argument `w` to a constructor to change the weights used during averaging."
   ]
  },
  {
   "cell_type": "markdown",
   "id": "45",
   "metadata": {},
   "source": [
    "## Vector observables\n",
    "\n",
    "Finally, we can also have vector observables, like RDFs, for example. This is easy to accomplish with any of the above constructors or types of data input. All that is required is to add another dimension to our {class}`xarray.DataArray` input. Typically, we will call this dimension 'vals', short for \"values\", which is the default name for this dimension when using the {meth}`DataCentralMomentsVals.from_vals` constructor."
   ]
  },
  {
   "cell_type": "code",
   "execution_count": 22,
   "id": "46",
   "metadata": {},
   "outputs": [
    {
     "ename": "TypeError",
     "evalue": "xCentralMoments.from_vals() got an unexpected keyword argument 'w'",
     "output_type": "error",
     "traceback": [
      "\u001b[0;31m---------------------------------------------------------------------------\u001b[0m",
      "\u001b[0;31mTypeError\u001b[0m                                 Traceback (most recent call last)",
      "Cell \u001b[0;32mIn[22], line 7\u001b[0m\n\u001b[1;32m      1\u001b[0m \u001b[38;5;66;03m# Extrapolate both average x and average x**2\u001b[39;00m\n\u001b[1;32m      2\u001b[0m x_xsq_data \u001b[38;5;241m=\u001b[39m xr\u001b[38;5;241m.\u001b[39mDataArray(\n\u001b[1;32m      3\u001b[0m     np\u001b[38;5;241m.\u001b[39mvstack([xdata\u001b[38;5;241m.\u001b[39mvalues, xdata\u001b[38;5;241m.\u001b[39mvalues\u001b[38;5;241m*\u001b[39m\u001b[38;5;241m*\u001b[39m\u001b[38;5;241m2\u001b[39m])\u001b[38;5;241m.\u001b[39mT,\n\u001b[1;32m      4\u001b[0m     dims\u001b[38;5;241m=\u001b[39m[\u001b[38;5;124m\"\u001b[39m\u001b[38;5;124mrec\u001b[39m\u001b[38;5;124m\"\u001b[39m, \u001b[38;5;124m\"\u001b[39m\u001b[38;5;124mvals\u001b[39m\u001b[38;5;124m\"\u001b[39m],\n\u001b[1;32m      5\u001b[0m     coords\u001b[38;5;241m=\u001b[39m{\u001b[38;5;124m\"\u001b[39m\u001b[38;5;124mvals\u001b[39m\u001b[38;5;124m\"\u001b[39m: [\u001b[38;5;124m\"\u001b[39m\u001b[38;5;124mx\u001b[39m\u001b[38;5;124m\"\u001b[39m, \u001b[38;5;124m\"\u001b[39m\u001b[38;5;124mxsq\u001b[39m\u001b[38;5;124m\"\u001b[39m]},\n\u001b[1;32m      6\u001b[0m )\n\u001b[0;32m----> 7\u001b[0m data_vec \u001b[38;5;241m=\u001b[39m \u001b[43mxtrap\u001b[49m\u001b[38;5;241;43m.\u001b[39;49m\u001b[43mDataCentralMomentsVals\u001b[49m\u001b[38;5;241;43m.\u001b[39;49m\u001b[43mfrom_vals\u001b[49m\u001b[43m(\u001b[49m\n\u001b[1;32m      8\u001b[0m \u001b[43m    \u001b[49m\u001b[43morder\u001b[49m\u001b[38;5;241;43m=\u001b[39;49m\u001b[43morder\u001b[49m\u001b[43m,\u001b[49m\u001b[43m \u001b[49m\u001b[43mrec_dim\u001b[49m\u001b[38;5;241;43m=\u001b[39;49m\u001b[38;5;124;43m\"\u001b[39;49m\u001b[38;5;124;43mrec\u001b[39;49m\u001b[38;5;124;43m\"\u001b[39;49m\u001b[43m,\u001b[49m\u001b[43m \u001b[49m\u001b[43mxv\u001b[49m\u001b[38;5;241;43m=\u001b[39;49m\u001b[43mx_xsq_data\u001b[49m\u001b[43m,\u001b[49m\u001b[43m \u001b[49m\u001b[43muv\u001b[49m\u001b[38;5;241;43m=\u001b[39;49m\u001b[43mudata\u001b[49m\u001b[43m,\u001b[49m\u001b[43m \u001b[49m\u001b[43mcentral\u001b[49m\u001b[38;5;241;43m=\u001b[39;49m\u001b[38;5;28;43;01mTrue\u001b[39;49;00m\n\u001b[1;32m      9\u001b[0m \u001b[43m)\u001b[49m\n",
      "File \u001b[0;32m~/Documents/python/projects/thermoextrap/src/thermoextrap/data.py:1944\u001b[0m, in \u001b[0;36mDataCentralMomentsVals.from_vals\u001b[0;34m(cls, xv, uv, order, w, rec_dim, umom_dim, xmom_dim, rep_dim, deriv_dim, val_dims, central, from_vals_kws, meta, x_is_u)\u001b[0m\n\u001b[1;32m   1935\u001b[0m \u001b[38;5;28;01mif\u001b[39;00m xv \u001b[38;5;129;01mis\u001b[39;00m \u001b[38;5;129;01mnot\u001b[39;00m \u001b[38;5;28;01mNone\u001b[39;00m \u001b[38;5;129;01mand\u001b[39;00m \u001b[38;5;129;01mnot\u001b[39;00m x_is_u:\n\u001b[1;32m   1936\u001b[0m     xv \u001b[38;5;241m=\u001b[39m xrwrap_xv(\n\u001b[1;32m   1937\u001b[0m         xv,\n\u001b[1;32m   1938\u001b[0m         rec_dim\u001b[38;5;241m=\u001b[39mrec_dim,\n\u001b[0;32m   (...)\u001b[0m\n\u001b[1;32m   1941\u001b[0m         val_dims\u001b[38;5;241m=\u001b[39mval_dims,\n\u001b[1;32m   1942\u001b[0m     )\n\u001b[0;32m-> 1944\u001b[0m \u001b[38;5;28;01mreturn\u001b[39;00m \u001b[38;5;28;43mcls\u001b[39;49m\u001b[43m(\u001b[49m\n\u001b[1;32m   1945\u001b[0m \u001b[43m    \u001b[49m\u001b[43muv\u001b[49m\u001b[38;5;241;43m=\u001b[39;49m\u001b[43muv\u001b[49m\u001b[43m,\u001b[49m\n\u001b[1;32m   1946\u001b[0m \u001b[43m    \u001b[49m\u001b[43mxv\u001b[49m\u001b[38;5;241;43m=\u001b[39;49m\u001b[43mxv\u001b[49m\u001b[43m,\u001b[49m\n\u001b[1;32m   1947\u001b[0m \u001b[43m    \u001b[49m\u001b[43morder\u001b[49m\u001b[38;5;241;43m=\u001b[39;49m\u001b[43morder\u001b[49m\u001b[43m,\u001b[49m\n\u001b[1;32m   1948\u001b[0m \u001b[43m    \u001b[49m\u001b[43mw\u001b[49m\u001b[38;5;241;43m=\u001b[39;49m\u001b[43mw\u001b[49m\u001b[43m,\u001b[49m\n\u001b[1;32m   1949\u001b[0m \u001b[43m    \u001b[49m\u001b[43mrec_dim\u001b[49m\u001b[38;5;241;43m=\u001b[39;49m\u001b[43mrec_dim\u001b[49m\u001b[43m,\u001b[49m\n\u001b[1;32m   1950\u001b[0m \u001b[43m    \u001b[49m\u001b[43mumom_dim\u001b[49m\u001b[38;5;241;43m=\u001b[39;49m\u001b[43mumom_dim\u001b[49m\u001b[43m,\u001b[49m\n\u001b[1;32m   1951\u001b[0m \u001b[43m    \u001b[49m\u001b[43mxmom_dim\u001b[49m\u001b[38;5;241;43m=\u001b[39;49m\u001b[43mxmom_dim\u001b[49m\u001b[43m,\u001b[49m\n\u001b[1;32m   1952\u001b[0m \u001b[43m    \u001b[49m\u001b[43mderiv_dim\u001b[49m\u001b[38;5;241;43m=\u001b[39;49m\u001b[43mderiv_dim\u001b[49m\u001b[43m,\u001b[49m\n\u001b[1;32m   1953\u001b[0m \u001b[43m    \u001b[49m\u001b[43mcentral\u001b[49m\u001b[38;5;241;43m=\u001b[39;49m\u001b[43mcentral\u001b[49m\u001b[43m,\u001b[49m\n\u001b[1;32m   1954\u001b[0m \u001b[43m    \u001b[49m\u001b[43mfrom_vals_kws\u001b[49m\u001b[38;5;241;43m=\u001b[39;49m\u001b[43mfrom_vals_kws\u001b[49m\u001b[43m,\u001b[49m\n\u001b[1;32m   1955\u001b[0m \u001b[43m    \u001b[49m\u001b[43mmeta\u001b[49m\u001b[38;5;241;43m=\u001b[39;49m\u001b[43mmeta\u001b[49m\u001b[43m,\u001b[49m\n\u001b[1;32m   1956\u001b[0m \u001b[43m    \u001b[49m\u001b[43mx_is_u\u001b[49m\u001b[38;5;241;43m=\u001b[39;49m\u001b[43mx_is_u\u001b[49m\u001b[43m,\u001b[49m\n\u001b[1;32m   1957\u001b[0m \u001b[43m\u001b[49m\u001b[43m)\u001b[49m\n",
      "File \u001b[0;32m<attrs generated init thermoextrap.data.DataCentralMomentsVals>:23\u001b[0m, in \u001b[0;36m__init__\u001b[0;34m(self, uv, xv, meta, umom_dim, xmom_dim, rec_dim, deriv_dim, central, x_is_u, order, w, from_vals_kws, dxduave)\u001b[0m\n\u001b[1;32m     21\u001b[0m     __attr_validator_order(\u001b[38;5;28mself\u001b[39m, __attr_order, \u001b[38;5;28mself\u001b[39m\u001b[38;5;241m.\u001b[39morder)\n\u001b[1;32m     22\u001b[0m     __attr_validator_dxduave(\u001b[38;5;28mself\u001b[39m, __attr_dxduave, \u001b[38;5;28mself\u001b[39m\u001b[38;5;241m.\u001b[39mdxduave)\n\u001b[0;32m---> 23\u001b[0m \u001b[38;5;28;43mself\u001b[39;49m\u001b[38;5;241;43m.\u001b[39;49m\u001b[43m__attrs_post_init__\u001b[49m\u001b[43m(\u001b[49m\u001b[43m)\u001b[49m\n",
      "File \u001b[0;32m~/Documents/python/projects/thermoextrap/src/thermoextrap/data.py:1868\u001b[0m, in \u001b[0;36mDataCentralMomentsVals.__attrs_post_init__\u001b[0;34m(self)\u001b[0m\n\u001b[1;32m   1865\u001b[0m     msg \u001b[38;5;241m=\u001b[39m \u001b[38;5;124m\"\u001b[39m\u001b[38;5;124mmust pass order if calculating dxduave\u001b[39m\u001b[38;5;124m\"\u001b[39m\n\u001b[1;32m   1866\u001b[0m     \u001b[38;5;28;01mraise\u001b[39;00m \u001b[38;5;167;01mValueError\u001b[39;00m(msg)\n\u001b[0;32m-> 1868\u001b[0m \u001b[38;5;28mself\u001b[39m\u001b[38;5;241m.\u001b[39mdxduave \u001b[38;5;241m=\u001b[39m \u001b[43mcmomy\u001b[49m\u001b[38;5;241;43m.\u001b[39;49m\u001b[43mxCentralMoments\u001b[49m\u001b[38;5;241;43m.\u001b[39;49m\u001b[43mfrom_vals\u001b[49m\u001b[43m(\u001b[49m\n\u001b[1;32m   1869\u001b[0m \u001b[43m    \u001b[49m\u001b[43mx\u001b[49m\u001b[38;5;241;43m=\u001b[39;49m\u001b[43m(\u001b[49m\u001b[38;5;28;43mself\u001b[39;49m\u001b[38;5;241;43m.\u001b[39;49m\u001b[43mxv\u001b[49m\u001b[43m,\u001b[49m\u001b[43m \u001b[49m\u001b[38;5;28;43mself\u001b[39;49m\u001b[38;5;241;43m.\u001b[39;49m\u001b[43muv\u001b[49m\u001b[43m)\u001b[49m\u001b[43m,\u001b[49m\n\u001b[1;32m   1870\u001b[0m \u001b[43m    \u001b[49m\u001b[43mw\u001b[49m\u001b[38;5;241;43m=\u001b[39;49m\u001b[38;5;28;43mself\u001b[39;49m\u001b[38;5;241;43m.\u001b[39;49m\u001b[43mw\u001b[49m\u001b[43m,\u001b[49m\n\u001b[1;32m   1871\u001b[0m \u001b[43m    \u001b[49m\u001b[43mdim\u001b[49m\u001b[38;5;241;43m=\u001b[39;49m\u001b[38;5;28;43mself\u001b[39;49m\u001b[38;5;241;43m.\u001b[39;49m\u001b[43mrec_dim\u001b[49m\u001b[43m,\u001b[49m\n\u001b[1;32m   1872\u001b[0m \u001b[43m    \u001b[49m\u001b[43mmom\u001b[49m\u001b[38;5;241;43m=\u001b[39;49m\u001b[43m(\u001b[49m\u001b[38;5;241;43m1\u001b[39;49m\u001b[43m,\u001b[49m\u001b[43m \u001b[49m\u001b[38;5;28;43mself\u001b[39;49m\u001b[38;5;241;43m.\u001b[39;49m\u001b[43morder\u001b[49m\u001b[43m)\u001b[49m\u001b[43m,\u001b[49m\n\u001b[1;32m   1873\u001b[0m \u001b[43m    \u001b[49m\u001b[43mbroadcast\u001b[49m\u001b[38;5;241;43m=\u001b[39;49m\u001b[38;5;28;43;01mTrue\u001b[39;49;00m\u001b[43m,\u001b[49m\n\u001b[1;32m   1874\u001b[0m \u001b[43m    \u001b[49m\u001b[43mmom_dims\u001b[49m\u001b[38;5;241;43m=\u001b[39;49m\u001b[43m(\u001b[49m\u001b[38;5;28;43mself\u001b[39;49m\u001b[38;5;241;43m.\u001b[39;49m\u001b[43mxmom_dim\u001b[49m\u001b[43m,\u001b[49m\u001b[43m \u001b[49m\u001b[38;5;28;43mself\u001b[39;49m\u001b[38;5;241;43m.\u001b[39;49m\u001b[43mumom_dim\u001b[49m\u001b[43m)\u001b[49m\u001b[43m,\u001b[49m\n\u001b[1;32m   1875\u001b[0m \u001b[43m    \u001b[49m\u001b[38;5;241;43m*\u001b[39;49m\u001b[38;5;241;43m*\u001b[39;49m\u001b[38;5;28;43mself\u001b[39;49m\u001b[38;5;241;43m.\u001b[39;49m\u001b[43mfrom_vals_kws\u001b[49m\u001b[43m,\u001b[49m\n\u001b[1;32m   1876\u001b[0m \u001b[43m\u001b[49m\u001b[43m)\u001b[49m\n",
      "\u001b[0;31mTypeError\u001b[0m: xCentralMoments.from_vals() got an unexpected keyword argument 'w'"
     ]
    }
   ],
   "source": [
    "# Extrapolate both average x and average x**2\n",
    "x_xsq_data = xr.DataArray(\n",
    "    np.vstack([xdata.values, xdata.values**2]).T,\n",
    "    dims=[\"rec\", \"vals\"],\n",
    "    coords={\"vals\": [\"x\", \"xsq\"]},\n",
    ")\n",
    "data_vec = xtrap.DataCentralMomentsVals.from_vals(\n",
    "    order=order, rec_dim=\"rec\", xv=x_xsq_data, uv=udata, central=True\n",
    ")"
   ]
  },
  {
   "cell_type": "code",
   "execution_count": 23,
   "id": "47",
   "metadata": {},
   "outputs": [
    {
     "ename": "NameError",
     "evalue": "name 'data_vec' is not defined",
     "output_type": "error",
     "traceback": [
      "\u001b[0;31m---------------------------------------------------------------------------\u001b[0m",
      "\u001b[0;31mNameError\u001b[0m                                 Traceback (most recent call last)",
      "Cell \u001b[0;32mIn[23], line 1\u001b[0m\n\u001b[0;32m----> 1\u001b[0m \u001b[43mdata_vec\u001b[49m\u001b[38;5;241m.\u001b[39mvalues\n",
      "\u001b[0;31mNameError\u001b[0m: name 'data_vec' is not defined"
     ]
    }
   ],
   "source": [
    "data_vec.values"
   ]
  },
  {
   "cell_type": "code",
   "execution_count": 24,
   "id": "48",
   "metadata": {},
   "outputs": [
    {
     "ename": "NameError",
     "evalue": "name 'data_vec' is not defined",
     "output_type": "error",
     "traceback": [
      "\u001b[0;31m---------------------------------------------------------------------------\u001b[0m",
      "\u001b[0;31mNameError\u001b[0m                                 Traceback (most recent call last)",
      "Cell \u001b[0;32mIn[24], line 1\u001b[0m\n\u001b[0;32m----> 1\u001b[0m \u001b[43mdata_vec\u001b[49m\u001b[38;5;241m.\u001b[39mresample(nrep\u001b[38;5;241m=\u001b[39m\u001b[38;5;241m3\u001b[39m)\u001b[38;5;241m.\u001b[39mvalues\n",
      "\u001b[0;31mNameError\u001b[0m: name 'data_vec' is not defined"
     ]
    }
   ],
   "source": [
    "data_vec.resample(nrep=3).values"
   ]
  },
  {
   "cell_type": "markdown",
   "id": "49",
   "metadata": {},
   "source": [
    "Note that we have simply added a dimension along which all the same operations happen, but independently for different data. The behavior is identical if we work instead with data from other constructors."
   ]
  },
  {
   "cell_type": "code",
   "execution_count": 25,
   "id": "50",
   "metadata": {},
   "outputs": [
    {
     "ename": "TypeError",
     "evalue": "DataCentralMoments.from_ave_raw() got an unexpected keyword argument 'w'",
     "output_type": "error",
     "traceback": [
      "\u001b[0;31m---------------------------------------------------------------------------\u001b[0m",
      "\u001b[0;31mTypeError\u001b[0m                                 Traceback (most recent call last)",
      "Cell \u001b[0;32mIn[25], line 7\u001b[0m\n\u001b[1;32m      1\u001b[0m xx_xsqxsq \u001b[38;5;241m=\u001b[39m xr\u001b[38;5;241m.\u001b[39mDataArray(\n\u001b[1;32m      2\u001b[0m     x_xsq_data\u001b[38;5;241m.\u001b[39mvalues\u001b[38;5;241m.\u001b[39mreshape(\u001b[38;5;241m100\u001b[39m, \u001b[38;5;241m-\u001b[39m\u001b[38;5;241m1\u001b[39m, \u001b[38;5;241m2\u001b[39m),\n\u001b[1;32m      3\u001b[0m     dims\u001b[38;5;241m=\u001b[39m[\u001b[38;5;124m\"\u001b[39m\u001b[38;5;124mrec\u001b[39m\u001b[38;5;124m\"\u001b[39m, \u001b[38;5;124m\"\u001b[39m\u001b[38;5;124mblock\u001b[39m\u001b[38;5;124m\"\u001b[39m, \u001b[38;5;124m\"\u001b[39m\u001b[38;5;124mvals\u001b[39m\u001b[38;5;124m\"\u001b[39m],\n\u001b[1;32m      4\u001b[0m     coords\u001b[38;5;241m=\u001b[39m{\u001b[38;5;124m\"\u001b[39m\u001b[38;5;124mvals\u001b[39m\u001b[38;5;124m\"\u001b[39m: [\u001b[38;5;124m\"\u001b[39m\u001b[38;5;124mx\u001b[39m\u001b[38;5;124m\"\u001b[39m, \u001b[38;5;124m\"\u001b[39m\u001b[38;5;124mxsq\u001b[39m\u001b[38;5;124m\"\u001b[39m]},\n\u001b[1;32m      5\u001b[0m )\n\u001b[1;32m      6\u001b[0m x_xsq_uave \u001b[38;5;241m=\u001b[39m (xx_xsqxsq \u001b[38;5;241m*\u001b[39m uu\u001b[38;5;241m*\u001b[39m\u001b[38;5;241m*\u001b[39mmom_u)\u001b[38;5;241m.\u001b[39mmean(\u001b[38;5;124m\"\u001b[39m\u001b[38;5;124mblock\u001b[39m\u001b[38;5;124m\"\u001b[39m)\n\u001b[0;32m----> 7\u001b[0m data_fa_vec \u001b[38;5;241m=\u001b[39m \u001b[43mxtrap\u001b[49m\u001b[38;5;241;43m.\u001b[39;49m\u001b[43mDataCentralMoments\u001b[49m\u001b[38;5;241;43m.\u001b[39;49m\u001b[43mfrom_ave_raw\u001b[49m\u001b[43m(\u001b[49m\n\u001b[1;32m      8\u001b[0m \u001b[43m    \u001b[49m\u001b[43mu\u001b[49m\u001b[38;5;241;43m=\u001b[39;49m\u001b[43muave\u001b[49m\u001b[43m,\u001b[49m\u001b[43m \u001b[49m\u001b[43mxu\u001b[49m\u001b[38;5;241;43m=\u001b[39;49m\u001b[43mx_xsq_uave\u001b[49m\u001b[43m,\u001b[49m\u001b[43m \u001b[49m\u001b[43mcentral\u001b[49m\u001b[38;5;241;43m=\u001b[39;49m\u001b[38;5;28;43;01mTrue\u001b[39;49;00m\u001b[43m,\u001b[49m\u001b[43m \u001b[49m\u001b[43mw\u001b[49m\u001b[38;5;241;43m=\u001b[39;49m\u001b[43mxx_xsqxsq\u001b[49m\u001b[38;5;241;43m.\u001b[39;49m\u001b[43msizes\u001b[49m\u001b[43m[\u001b[49m\u001b[38;5;124;43m\"\u001b[39;49m\u001b[38;5;124;43mblock\u001b[39;49m\u001b[38;5;124;43m\"\u001b[39;49m\u001b[43m]\u001b[49m\n\u001b[1;32m      9\u001b[0m \u001b[43m)\u001b[49m\n",
      "\u001b[0;31mTypeError\u001b[0m: DataCentralMoments.from_ave_raw() got an unexpected keyword argument 'w'"
     ]
    }
   ],
   "source": [
    "xx_xsqxsq = xr.DataArray(\n",
    "    x_xsq_data.values.reshape(100, -1, 2),\n",
    "    dims=[\"rec\", \"block\", \"vals\"],\n",
    "    coords={\"vals\": [\"x\", \"xsq\"]},\n",
    ")\n",
    "x_xsq_uave = (xx_xsqxsq * uu**mom_u).mean(\"block\")\n",
    "data_fa_vec = xtrap.DataCentralMoments.from_ave_raw(\n",
    "    u=uave, xu=x_xsq_uave, central=True, w=xx_xsqxsq.sizes[\"block\"]\n",
    ")"
   ]
  },
  {
   "cell_type": "code",
   "execution_count": 26,
   "id": "51",
   "metadata": {},
   "outputs": [
    {
     "ename": "NameError",
     "evalue": "name 'data_fa_vec' is not defined",
     "output_type": "error",
     "traceback": [
      "\u001b[0;31m---------------------------------------------------------------------------\u001b[0m",
      "\u001b[0;31mNameError\u001b[0m                                 Traceback (most recent call last)",
      "Cell \u001b[0;32mIn[26], line 1\u001b[0m\n\u001b[0;32m----> 1\u001b[0m \u001b[43mdata_fa_vec\u001b[49m\u001b[38;5;241m.\u001b[39mreduce(\u001b[38;5;124m\"\u001b[39m\u001b[38;5;124mrec\u001b[39m\u001b[38;5;124m\"\u001b[39m)\u001b[38;5;241m.\u001b[39mvalues\n",
      "\u001b[0;31mNameError\u001b[0m: name 'data_fa_vec' is not defined"
     ]
    }
   ],
   "source": [
    "data_fa_vec.reduce(\"rec\").values"
   ]
  },
  {
   "cell_type": "code",
   "execution_count": 27,
   "id": "52",
   "metadata": {},
   "outputs": [
    {
     "ename": "NameError",
     "evalue": "name 'data_fa_vec' is not defined",
     "output_type": "error",
     "traceback": [
      "\u001b[0;31m---------------------------------------------------------------------------\u001b[0m",
      "\u001b[0;31mNameError\u001b[0m                                 Traceback (most recent call last)",
      "Cell \u001b[0;32mIn[27], line 1\u001b[0m\n\u001b[0;32m----> 1\u001b[0m \u001b[43mdata_fa_vec\u001b[49m\u001b[38;5;241m.\u001b[39mresample(nrep\u001b[38;5;241m=\u001b[39m\u001b[38;5;241m3\u001b[39m)\u001b[38;5;241m.\u001b[39mvalues\n",
      "\u001b[0;31mNameError\u001b[0m: name 'data_fa_vec' is not defined"
     ]
    }
   ],
   "source": [
    "data_fa_vec.resample(nrep=3).values"
   ]
  },
  {
   "cell_type": "code",
   "execution_count": null,
   "id": "53",
   "metadata": {},
   "outputs": [],
   "source": []
  }
 ],
 "metadata": {
  "celltoolbar": "Tags",
  "hide_input": false,
  "language_info": {
   "codemirror_mode": {
    "name": "ipython",
    "version": 3
   },
   "file_extension": ".py",
   "mimetype": "text/x-python",
   "name": "python",
   "nbconvert_exporter": "python",
   "pygments_lexer": "ipython3",
   "version": "3.11.9"
  },
  "toc": {
   "base_numbering": 1,
   "nav_menu": {},
   "number_sections": true,
   "sideBar": true,
   "skip_h1_title": false,
   "title_cell": "Table of Contents",
   "title_sidebar": "Contents",
   "toc_cell": false,
   "toc_position": {},
   "toc_section_display": true,
   "toc_window_display": false
  }
 },
 "nbformat": 4,
 "nbformat_minor": 5
}
