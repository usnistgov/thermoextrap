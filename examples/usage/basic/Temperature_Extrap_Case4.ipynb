{
 "cells": [
  {
   "cell_type": "code",
   "execution_count": 1,
   "id": "0",
   "metadata": {
    "tags": [
     "remove-cell"
    ]
   },
   "outputs": [],
   "source": [
    "import logging\n",
    "import warnings\n",
    "\n",
    "import numpy as np\n",
    "\n",
    "np.set_printoptions(precision=4)\n",
    "warnings.filterwarnings(\"ignore\")\n",
    "\n",
    "\n",
    "logger = logging.getLogger()\n",
    "logger.setLevel(logging.ERROR)"
   ]
  },
  {
   "cell_type": "markdown",
   "id": "1",
   "metadata": {},
   "source": [
    "# Temperature dependent negative logarithm of average observable\n",
    "\n",
    "Comparing to Cases 1-3, it should be clear that this is possible and only slightly more annoying to implement. This will come up any time you have computed a free energy change, such as solvation, via exponential averaging at one temperature and want to extrapolate it to another temperature. Note that free energy differences calculated by any method at a given temperature may also be extrapolated using differences in moments of the potential energies between the beginning and end states along the thermodynamic path. This may be more efficient, but has not been investigated.\n",
    "\n",
    "As in Case 2, we will need to augment the data with information about the explicit derivatives of the observable with respect to the extrapolation variable."
   ]
  },
  {
   "cell_type": "code",
   "execution_count": 2,
   "id": "2",
   "metadata": {},
   "outputs": [],
   "source": [
    "%matplotlib inline\n",
    "\n",
    "import cmomy\n",
    "import matplotlib as mpl\n",
    "import matplotlib.pyplot as plt\n",
    "import numpy as np\n",
    "import xarray as xr\n",
    "\n",
    "# Import idealgas module\n",
    "from thermoextrap import idealgas\n",
    "\n",
    "rng = cmomy.random.default_rng(seed=0)\n",
    "\n",
    "\n",
    "# Define test betas and reference beta\n",
    "betas = np.arange(0.1, 10.0, 0.5)\n",
    "beta_ref = betas[11]\n",
    "vol = 1.0\n",
    "\n",
    "# Define orders to extrapolate to\n",
    "orders = [1, 2, 4, 6]\n",
    "order = orders[-1]\n",
    "\n",
    "npart = 1000  # Number of particles (in single configuration)\n",
    "nconfig = 100_000  # Number of configurations\n",
    "\n",
    "# Generate all the data we could want\n",
    "xdata, udata = idealgas.generate_data((nconfig, npart), beta_ref, vol)"
   ]
  },
  {
   "cell_type": "code",
   "execution_count": 3,
   "id": "3",
   "metadata": {},
   "outputs": [],
   "source": [
    "import thermoextrap as xtrap"
   ]
  },
  {
   "cell_type": "code",
   "execution_count": 4,
   "id": "4",
   "metadata": {},
   "outputs": [],
   "source": [
    "# You can use numpy and just wrap with xarray after...\n",
    "xdataDepend = np.array([xdata * beta_ref, xdata])\n",
    "xdataDepend = np.vstack((xdataDepend, np.zeros((orders[-1] - 1, xdata.shape[0]))))\n",
    "xdata = xr.DataArray(xdata, dims=[\"rec\"])\n",
    "udata = xr.DataArray(udata, dims=[\"rec\"])\n",
    "# Note the naming of dimensions here and see \"Data_Organization\" for a full explanation\n",
    "xdataDepend = xr.DataArray(\n",
    "    xdataDepend,\n",
    "    dims=[\"deriv\", \"rec\"],\n",
    "    coords={\"deriv\": np.arange(xdataDepend.shape[0])},\n",
    ")\n",
    "\n",
    "# # Or you can accomplish this with xarray if you really want to...\n",
    "# xdata = xr.DataArray(xdata, dims=['rec'])\n",
    "# udata = xr.DataArray(udata, dims=['rec'])\n",
    "# xdataDepend = (\n",
    "#     xr.concat([xdata*beta_ref, xdata], dim='deriv')\n",
    "#     .assign_coords(deriv=lambda x: np.arange(x.sizes['deriv']))\n",
    "#     .reindex(deriv=np.arange(orders[-1] + 1))\n",
    "#     .fillna(0.0)\n",
    "# )"
   ]
  },
  {
   "cell_type": "code",
   "execution_count": 5,
   "id": "5",
   "metadata": {},
   "outputs": [
    {
     "ename": "TypeError",
     "evalue": "xCentralMoments.from_vals() got an unexpected keyword argument 'w'",
     "output_type": "error",
     "traceback": [
      "\u001b[0;31m---------------------------------------------------------------------------\u001b[0m",
      "\u001b[0;31mTypeError\u001b[0m                                 Traceback (most recent call last)",
      "Cell \u001b[0;32mIn[5], line 5\u001b[0m\n\u001b[1;32m      1\u001b[0m \u001b[38;5;66;03m# Create and train extrapolation model\u001b[39;00m\n\u001b[1;32m      2\u001b[0m xem_log_dep \u001b[38;5;241m=\u001b[39m xtrap\u001b[38;5;241m.\u001b[39mbeta\u001b[38;5;241m.\u001b[39mfactory_extrapmodel(\n\u001b[1;32m      3\u001b[0m     beta\u001b[38;5;241m=\u001b[39mbeta_ref,\n\u001b[1;32m      4\u001b[0m     post_func\u001b[38;5;241m=\u001b[39m\u001b[38;5;124m\"\u001b[39m\u001b[38;5;124mminus_log\u001b[39m\u001b[38;5;124m\"\u001b[39m,\n\u001b[0;32m----> 5\u001b[0m     data\u001b[38;5;241m=\u001b[39m\u001b[43mxtrap\u001b[49m\u001b[38;5;241;43m.\u001b[39;49m\u001b[43mDataCentralMomentsVals\u001b[49m\u001b[38;5;241;43m.\u001b[39;49m\u001b[43mfrom_vals\u001b[49m\u001b[43m(\u001b[49m\n\u001b[1;32m      6\u001b[0m \u001b[43m        \u001b[49m\u001b[43morder\u001b[49m\u001b[38;5;241;43m=\u001b[39;49m\u001b[43morders\u001b[49m\u001b[43m[\u001b[49m\u001b[38;5;241;43m-\u001b[39;49m\u001b[38;5;241;43m1\u001b[39;49m\u001b[43m]\u001b[49m\u001b[43m,\u001b[49m\u001b[43m \u001b[49m\u001b[43mxv\u001b[49m\u001b[38;5;241;43m=\u001b[39;49m\u001b[43mxdataDepend\u001b[49m\u001b[43m,\u001b[49m\u001b[43m \u001b[49m\u001b[43muv\u001b[49m\u001b[38;5;241;43m=\u001b[39;49m\u001b[43mudata\u001b[49m\u001b[43m,\u001b[49m\u001b[43m \u001b[49m\u001b[43mcentral\u001b[49m\u001b[38;5;241;43m=\u001b[39;49m\u001b[38;5;28;43;01mTrue\u001b[39;49;00m\u001b[43m,\u001b[49m\u001b[43m \u001b[49m\u001b[43mderiv_dim\u001b[49m\u001b[38;5;241;43m=\u001b[39;49m\u001b[38;5;124;43m\"\u001b[39;49m\u001b[38;5;124;43mderiv\u001b[39;49m\u001b[38;5;124;43m\"\u001b[39;49m\n\u001b[1;32m      7\u001b[0m \u001b[43m    \u001b[49m\u001b[43m)\u001b[49m,\n\u001b[1;32m      8\u001b[0m )\n\u001b[1;32m     10\u001b[0m \u001b[38;5;66;03m# Note that we handled the -log calculation in the definition of the derivatives (even at zeroth order).\u001b[39;00m\n\u001b[1;32m     11\u001b[0m \u001b[38;5;66;03m# This means we want to just pass data, not the -log of the data.\u001b[39;00m\n\u001b[1;32m     12\u001b[0m \n\u001b[1;32m     13\u001b[0m \u001b[38;5;66;03m# Check the parameters\u001b[39;00m\n\u001b[1;32m     14\u001b[0m \u001b[38;5;28mprint\u001b[39m(\u001b[38;5;124m\"\u001b[39m\u001b[38;5;124mModel parameters (derivatives):\u001b[39m\u001b[38;5;124m\"\u001b[39m)\n",
      "File \u001b[0;32m~/Documents/python/projects/thermoextrap/src/thermoextrap/data.py:1944\u001b[0m, in \u001b[0;36mDataCentralMomentsVals.from_vals\u001b[0;34m(cls, xv, uv, order, w, rec_dim, umom_dim, xmom_dim, rep_dim, deriv_dim, val_dims, central, from_vals_kws, meta, x_is_u)\u001b[0m\n\u001b[1;32m   1935\u001b[0m \u001b[38;5;28;01mif\u001b[39;00m xv \u001b[38;5;129;01mis\u001b[39;00m \u001b[38;5;129;01mnot\u001b[39;00m \u001b[38;5;28;01mNone\u001b[39;00m \u001b[38;5;129;01mand\u001b[39;00m \u001b[38;5;129;01mnot\u001b[39;00m x_is_u:\n\u001b[1;32m   1936\u001b[0m     xv \u001b[38;5;241m=\u001b[39m xrwrap_xv(\n\u001b[1;32m   1937\u001b[0m         xv,\n\u001b[1;32m   1938\u001b[0m         rec_dim\u001b[38;5;241m=\u001b[39mrec_dim,\n\u001b[0;32m   (...)\u001b[0m\n\u001b[1;32m   1941\u001b[0m         val_dims\u001b[38;5;241m=\u001b[39mval_dims,\n\u001b[1;32m   1942\u001b[0m     )\n\u001b[0;32m-> 1944\u001b[0m \u001b[38;5;28;01mreturn\u001b[39;00m \u001b[38;5;28;43mcls\u001b[39;49m\u001b[43m(\u001b[49m\n\u001b[1;32m   1945\u001b[0m \u001b[43m    \u001b[49m\u001b[43muv\u001b[49m\u001b[38;5;241;43m=\u001b[39;49m\u001b[43muv\u001b[49m\u001b[43m,\u001b[49m\n\u001b[1;32m   1946\u001b[0m \u001b[43m    \u001b[49m\u001b[43mxv\u001b[49m\u001b[38;5;241;43m=\u001b[39;49m\u001b[43mxv\u001b[49m\u001b[43m,\u001b[49m\n\u001b[1;32m   1947\u001b[0m \u001b[43m    \u001b[49m\u001b[43morder\u001b[49m\u001b[38;5;241;43m=\u001b[39;49m\u001b[43morder\u001b[49m\u001b[43m,\u001b[49m\n\u001b[1;32m   1948\u001b[0m \u001b[43m    \u001b[49m\u001b[43mw\u001b[49m\u001b[38;5;241;43m=\u001b[39;49m\u001b[43mw\u001b[49m\u001b[43m,\u001b[49m\n\u001b[1;32m   1949\u001b[0m \u001b[43m    \u001b[49m\u001b[43mrec_dim\u001b[49m\u001b[38;5;241;43m=\u001b[39;49m\u001b[43mrec_dim\u001b[49m\u001b[43m,\u001b[49m\n\u001b[1;32m   1950\u001b[0m \u001b[43m    \u001b[49m\u001b[43mumom_dim\u001b[49m\u001b[38;5;241;43m=\u001b[39;49m\u001b[43mumom_dim\u001b[49m\u001b[43m,\u001b[49m\n\u001b[1;32m   1951\u001b[0m \u001b[43m    \u001b[49m\u001b[43mxmom_dim\u001b[49m\u001b[38;5;241;43m=\u001b[39;49m\u001b[43mxmom_dim\u001b[49m\u001b[43m,\u001b[49m\n\u001b[1;32m   1952\u001b[0m \u001b[43m    \u001b[49m\u001b[43mderiv_dim\u001b[49m\u001b[38;5;241;43m=\u001b[39;49m\u001b[43mderiv_dim\u001b[49m\u001b[43m,\u001b[49m\n\u001b[1;32m   1953\u001b[0m \u001b[43m    \u001b[49m\u001b[43mcentral\u001b[49m\u001b[38;5;241;43m=\u001b[39;49m\u001b[43mcentral\u001b[49m\u001b[43m,\u001b[49m\n\u001b[1;32m   1954\u001b[0m \u001b[43m    \u001b[49m\u001b[43mfrom_vals_kws\u001b[49m\u001b[38;5;241;43m=\u001b[39;49m\u001b[43mfrom_vals_kws\u001b[49m\u001b[43m,\u001b[49m\n\u001b[1;32m   1955\u001b[0m \u001b[43m    \u001b[49m\u001b[43mmeta\u001b[49m\u001b[38;5;241;43m=\u001b[39;49m\u001b[43mmeta\u001b[49m\u001b[43m,\u001b[49m\n\u001b[1;32m   1956\u001b[0m \u001b[43m    \u001b[49m\u001b[43mx_is_u\u001b[49m\u001b[38;5;241;43m=\u001b[39;49m\u001b[43mx_is_u\u001b[49m\u001b[43m,\u001b[49m\n\u001b[1;32m   1957\u001b[0m \u001b[43m\u001b[49m\u001b[43m)\u001b[49m\n",
      "File \u001b[0;32m<attrs generated init thermoextrap.data.DataCentralMomentsVals>:23\u001b[0m, in \u001b[0;36m__init__\u001b[0;34m(self, uv, xv, meta, umom_dim, xmom_dim, rec_dim, deriv_dim, central, x_is_u, order, w, from_vals_kws, dxduave)\u001b[0m\n\u001b[1;32m     21\u001b[0m     __attr_validator_order(\u001b[38;5;28mself\u001b[39m, __attr_order, \u001b[38;5;28mself\u001b[39m\u001b[38;5;241m.\u001b[39morder)\n\u001b[1;32m     22\u001b[0m     __attr_validator_dxduave(\u001b[38;5;28mself\u001b[39m, __attr_dxduave, \u001b[38;5;28mself\u001b[39m\u001b[38;5;241m.\u001b[39mdxduave)\n\u001b[0;32m---> 23\u001b[0m \u001b[38;5;28;43mself\u001b[39;49m\u001b[38;5;241;43m.\u001b[39;49m\u001b[43m__attrs_post_init__\u001b[49m\u001b[43m(\u001b[49m\u001b[43m)\u001b[49m\n",
      "File \u001b[0;32m~/Documents/python/projects/thermoextrap/src/thermoextrap/data.py:1868\u001b[0m, in \u001b[0;36mDataCentralMomentsVals.__attrs_post_init__\u001b[0;34m(self)\u001b[0m\n\u001b[1;32m   1865\u001b[0m     msg \u001b[38;5;241m=\u001b[39m \u001b[38;5;124m\"\u001b[39m\u001b[38;5;124mmust pass order if calculating dxduave\u001b[39m\u001b[38;5;124m\"\u001b[39m\n\u001b[1;32m   1866\u001b[0m     \u001b[38;5;28;01mraise\u001b[39;00m \u001b[38;5;167;01mValueError\u001b[39;00m(msg)\n\u001b[0;32m-> 1868\u001b[0m \u001b[38;5;28mself\u001b[39m\u001b[38;5;241m.\u001b[39mdxduave \u001b[38;5;241m=\u001b[39m \u001b[43mcmomy\u001b[49m\u001b[38;5;241;43m.\u001b[39;49m\u001b[43mxCentralMoments\u001b[49m\u001b[38;5;241;43m.\u001b[39;49m\u001b[43mfrom_vals\u001b[49m\u001b[43m(\u001b[49m\n\u001b[1;32m   1869\u001b[0m \u001b[43m    \u001b[49m\u001b[43mx\u001b[49m\u001b[38;5;241;43m=\u001b[39;49m\u001b[43m(\u001b[49m\u001b[38;5;28;43mself\u001b[39;49m\u001b[38;5;241;43m.\u001b[39;49m\u001b[43mxv\u001b[49m\u001b[43m,\u001b[49m\u001b[43m \u001b[49m\u001b[38;5;28;43mself\u001b[39;49m\u001b[38;5;241;43m.\u001b[39;49m\u001b[43muv\u001b[49m\u001b[43m)\u001b[49m\u001b[43m,\u001b[49m\n\u001b[1;32m   1870\u001b[0m \u001b[43m    \u001b[49m\u001b[43mw\u001b[49m\u001b[38;5;241;43m=\u001b[39;49m\u001b[38;5;28;43mself\u001b[39;49m\u001b[38;5;241;43m.\u001b[39;49m\u001b[43mw\u001b[49m\u001b[43m,\u001b[49m\n\u001b[1;32m   1871\u001b[0m \u001b[43m    \u001b[49m\u001b[43mdim\u001b[49m\u001b[38;5;241;43m=\u001b[39;49m\u001b[38;5;28;43mself\u001b[39;49m\u001b[38;5;241;43m.\u001b[39;49m\u001b[43mrec_dim\u001b[49m\u001b[43m,\u001b[49m\n\u001b[1;32m   1872\u001b[0m \u001b[43m    \u001b[49m\u001b[43mmom\u001b[49m\u001b[38;5;241;43m=\u001b[39;49m\u001b[43m(\u001b[49m\u001b[38;5;241;43m1\u001b[39;49m\u001b[43m,\u001b[49m\u001b[43m \u001b[49m\u001b[38;5;28;43mself\u001b[39;49m\u001b[38;5;241;43m.\u001b[39;49m\u001b[43morder\u001b[49m\u001b[43m)\u001b[49m\u001b[43m,\u001b[49m\n\u001b[1;32m   1873\u001b[0m \u001b[43m    \u001b[49m\u001b[43mbroadcast\u001b[49m\u001b[38;5;241;43m=\u001b[39;49m\u001b[38;5;28;43;01mTrue\u001b[39;49;00m\u001b[43m,\u001b[49m\n\u001b[1;32m   1874\u001b[0m \u001b[43m    \u001b[49m\u001b[43mmom_dims\u001b[49m\u001b[38;5;241;43m=\u001b[39;49m\u001b[43m(\u001b[49m\u001b[38;5;28;43mself\u001b[39;49m\u001b[38;5;241;43m.\u001b[39;49m\u001b[43mxmom_dim\u001b[49m\u001b[43m,\u001b[49m\u001b[43m \u001b[49m\u001b[38;5;28;43mself\u001b[39;49m\u001b[38;5;241;43m.\u001b[39;49m\u001b[43mumom_dim\u001b[49m\u001b[43m)\u001b[49m\u001b[43m,\u001b[49m\n\u001b[1;32m   1875\u001b[0m \u001b[43m    \u001b[49m\u001b[38;5;241;43m*\u001b[39;49m\u001b[38;5;241;43m*\u001b[39;49m\u001b[38;5;28;43mself\u001b[39;49m\u001b[38;5;241;43m.\u001b[39;49m\u001b[43mfrom_vals_kws\u001b[49m\u001b[43m,\u001b[49m\n\u001b[1;32m   1876\u001b[0m \u001b[43m\u001b[49m\u001b[43m)\u001b[49m\n",
      "\u001b[0;31mTypeError\u001b[0m: xCentralMoments.from_vals() got an unexpected keyword argument 'w'"
     ]
    }
   ],
   "source": [
    "# Create and train extrapolation model\n",
    "xem_log_dep = xtrap.beta.factory_extrapmodel(\n",
    "    beta=beta_ref,\n",
    "    post_func=\"minus_log\",\n",
    "    data=xtrap.DataCentralMomentsVals.from_vals(\n",
    "        order=orders[-1], xv=xdataDepend, uv=udata, central=True, deriv_dim=\"deriv\"\n",
    "    ),\n",
    ")\n",
    "\n",
    "# Note that we handled the -log calculation in the definition of the derivatives (even at zeroth order).\n",
    "# This means we want to just pass data, not the -log of the data.\n",
    "\n",
    "# Check the parameters\n",
    "print(\"Model parameters (derivatives):\")\n",
    "print(xem_log_dep.derivs(norm=False))\n",
    "print(\"\\n\")\n",
    "\n",
    "# Finally, look at predictions\n",
    "print(\"Model predictions:\")\n",
    "print(xem_log_dep.predict(betas[:4], order=2))\n",
    "print(\"\\n\")"
   ]
  },
  {
   "cell_type": "code",
   "execution_count": 6,
   "id": "6",
   "metadata": {},
   "outputs": [
    {
     "ename": "NameError",
     "evalue": "name 'xem_log_dep' is not defined",
     "output_type": "error",
     "traceback": [
      "\u001b[0;31m---------------------------------------------------------------------------\u001b[0m",
      "\u001b[0;31mNameError\u001b[0m                                 Traceback (most recent call last)",
      "Cell \u001b[0;32mIn[6], line 1\u001b[0m\n\u001b[0;32m----> 1\u001b[0m \u001b[43mxem_log_dep\u001b[49m\u001b[38;5;241m.\u001b[39mresample(nrep\u001b[38;5;241m=\u001b[39m\u001b[38;5;241m100\u001b[39m)\u001b[38;5;241m.\u001b[39mpredict(betas[:\u001b[38;5;241m4\u001b[39m], order\u001b[38;5;241m=\u001b[39m\u001b[38;5;241m2\u001b[39m)\u001b[38;5;241m.\u001b[39mstd(\u001b[38;5;124m\"\u001b[39m\u001b[38;5;124mrep\u001b[39m\u001b[38;5;124m\"\u001b[39m)\n",
      "\u001b[0;31mNameError\u001b[0m: name 'xem_log_dep' is not defined"
     ]
    }
   ],
   "source": [
    "xem_log_dep.resample(nrep=100).predict(betas[:4], order=2).std(\"rep\")"
   ]
  },
  {
   "cell_type": "code",
   "execution_count": 7,
   "id": "7",
   "metadata": {},
   "outputs": [
    {
     "name": "stdout",
     "output_type": "stream",
     "text": [
      "True extrapolation coefficients: [ 0.021  -0.0175  0.0142 -0.011   0.0082 -0.0059  0.0043]\n"
     ]
    },
    {
     "ename": "TypeError",
     "evalue": "xCentralMoments.from_vals() got an unexpected keyword argument 'w'",
     "output_type": "error",
     "traceback": [
      "\u001b[0;31m---------------------------------------------------------------------------\u001b[0m",
      "\u001b[0;31mTypeError\u001b[0m                                 Traceback (most recent call last)",
      "Cell \u001b[0;32mIn[7], line 29\u001b[0m\n\u001b[1;32m     23\u001b[0m thisinds \u001b[38;5;241m=\u001b[39m rng\u001b[38;5;241m.\u001b[39mchoice(\u001b[38;5;28mlen\u001b[39m(xdata), size\u001b[38;5;241m=\u001b[39mn, replace\u001b[38;5;241m=\u001b[39m\u001b[38;5;28;01mFalse\u001b[39;00m)\n\u001b[1;32m     25\u001b[0m \u001b[38;5;66;03m# Get parameters for extrapolation model with this data by training it - the parameters are the derivatives\u001b[39;00m\n\u001b[1;32m     26\u001b[0m xem_log_dep \u001b[38;5;241m=\u001b[39m xtrap\u001b[38;5;241m.\u001b[39mbeta\u001b[38;5;241m.\u001b[39mfactory_extrapmodel(\n\u001b[1;32m     27\u001b[0m     beta\u001b[38;5;241m=\u001b[39mbeta_ref,\n\u001b[1;32m     28\u001b[0m     post_func\u001b[38;5;241m=\u001b[39m\u001b[38;5;124m\"\u001b[39m\u001b[38;5;124mminus_log\u001b[39m\u001b[38;5;124m\"\u001b[39m,\n\u001b[0;32m---> 29\u001b[0m     data\u001b[38;5;241m=\u001b[39m\u001b[43mxtrap\u001b[49m\u001b[38;5;241;43m.\u001b[39;49m\u001b[43mDataCentralMomentsVals\u001b[49m\u001b[38;5;241;43m.\u001b[39;49m\u001b[43mfrom_vals\u001b[49m\u001b[43m(\u001b[49m\n\u001b[1;32m     30\u001b[0m \u001b[43m        \u001b[49m\u001b[43morder\u001b[49m\u001b[38;5;241;43m=\u001b[39;49m\u001b[43morders\u001b[49m\u001b[43m[\u001b[49m\u001b[38;5;241;43m-\u001b[39;49m\u001b[38;5;241;43m1\u001b[39;49m\u001b[43m]\u001b[49m\u001b[43m,\u001b[49m\n\u001b[1;32m     31\u001b[0m \u001b[43m        \u001b[49m\u001b[43muv\u001b[49m\u001b[38;5;241;43m=\u001b[39;49m\u001b[43mudata\u001b[49m\u001b[43m[\u001b[49m\u001b[43mthisinds\u001b[49m\u001b[43m]\u001b[49m\u001b[43m,\u001b[49m\n\u001b[1;32m     32\u001b[0m \u001b[43m        \u001b[49m\u001b[43mxv\u001b[49m\u001b[38;5;241;43m=\u001b[39;49m\u001b[43mxdataDepend\u001b[49m\u001b[38;5;241;43m.\u001b[39;49m\u001b[43msel\u001b[49m\u001b[43m(\u001b[49m\u001b[43mrec\u001b[49m\u001b[38;5;241;43m=\u001b[39;49m\u001b[43mthisinds\u001b[49m\u001b[43m)\u001b[49m\u001b[43m,\u001b[49m\n\u001b[1;32m     33\u001b[0m \u001b[43m        \u001b[49m\u001b[43mderiv_dim\u001b[49m\u001b[38;5;241;43m=\u001b[39;49m\u001b[38;5;124;43m\"\u001b[39;49m\u001b[38;5;124;43mderiv\u001b[39;49m\u001b[38;5;124;43m\"\u001b[39;49m\u001b[43m,\u001b[49m\n\u001b[1;32m     34\u001b[0m \u001b[43m        \u001b[49m\u001b[43mcentral\u001b[49m\u001b[38;5;241;43m=\u001b[39;49m\u001b[38;5;28;43;01mTrue\u001b[39;49;00m\u001b[43m,\u001b[49m\n\u001b[1;32m     35\u001b[0m \u001b[43m    \u001b[49m\u001b[43m)\u001b[49m,\n\u001b[1;32m     36\u001b[0m )\n\u001b[1;32m     37\u001b[0m out \u001b[38;5;241m=\u001b[39m xem_log_dep\u001b[38;5;241m.\u001b[39mpredict(betas, cumsum\u001b[38;5;241m=\u001b[39m\u001b[38;5;28;01mTrue\u001b[39;00m)\n\u001b[1;32m     38\u001b[0m \u001b[38;5;28mprint\u001b[39m(\n\u001b[1;32m     39\u001b[0m     \u001b[38;5;124mf\u001b[39m\u001b[38;5;124m\"\u001b[39m\u001b[38;5;130;01m\\t\u001b[39;00m\u001b[38;5;124m With N_configs = \u001b[39m\u001b[38;5;132;01m{\u001b[39;00mn\u001b[38;5;132;01m}\u001b[39;00m\u001b[38;5;124m: \u001b[39m\u001b[38;5;132;01m{\u001b[39;00mxem_log_dep\u001b[38;5;241m.\u001b[39mderivs(norm\u001b[38;5;241m=\u001b[39m\u001b[38;5;28;01mFalse\u001b[39;00m)\u001b[38;5;241m.\u001b[39mvalues\u001b[38;5;241m.\u001b[39mflatten()\u001b[38;5;132;01m}\u001b[39;00m\u001b[38;5;124m\"\u001b[39m\n\u001b[1;32m     40\u001b[0m )  \u001b[38;5;66;03m# Have to flatten because observable is 1-D\u001b[39;00m\n",
      "File \u001b[0;32m~/Documents/python/projects/thermoextrap/src/thermoextrap/data.py:1944\u001b[0m, in \u001b[0;36mDataCentralMomentsVals.from_vals\u001b[0;34m(cls, xv, uv, order, w, rec_dim, umom_dim, xmom_dim, rep_dim, deriv_dim, val_dims, central, from_vals_kws, meta, x_is_u)\u001b[0m\n\u001b[1;32m   1935\u001b[0m \u001b[38;5;28;01mif\u001b[39;00m xv \u001b[38;5;129;01mis\u001b[39;00m \u001b[38;5;129;01mnot\u001b[39;00m \u001b[38;5;28;01mNone\u001b[39;00m \u001b[38;5;129;01mand\u001b[39;00m \u001b[38;5;129;01mnot\u001b[39;00m x_is_u:\n\u001b[1;32m   1936\u001b[0m     xv \u001b[38;5;241m=\u001b[39m xrwrap_xv(\n\u001b[1;32m   1937\u001b[0m         xv,\n\u001b[1;32m   1938\u001b[0m         rec_dim\u001b[38;5;241m=\u001b[39mrec_dim,\n\u001b[0;32m   (...)\u001b[0m\n\u001b[1;32m   1941\u001b[0m         val_dims\u001b[38;5;241m=\u001b[39mval_dims,\n\u001b[1;32m   1942\u001b[0m     )\n\u001b[0;32m-> 1944\u001b[0m \u001b[38;5;28;01mreturn\u001b[39;00m \u001b[38;5;28;43mcls\u001b[39;49m\u001b[43m(\u001b[49m\n\u001b[1;32m   1945\u001b[0m \u001b[43m    \u001b[49m\u001b[43muv\u001b[49m\u001b[38;5;241;43m=\u001b[39;49m\u001b[43muv\u001b[49m\u001b[43m,\u001b[49m\n\u001b[1;32m   1946\u001b[0m \u001b[43m    \u001b[49m\u001b[43mxv\u001b[49m\u001b[38;5;241;43m=\u001b[39;49m\u001b[43mxv\u001b[49m\u001b[43m,\u001b[49m\n\u001b[1;32m   1947\u001b[0m \u001b[43m    \u001b[49m\u001b[43morder\u001b[49m\u001b[38;5;241;43m=\u001b[39;49m\u001b[43morder\u001b[49m\u001b[43m,\u001b[49m\n\u001b[1;32m   1948\u001b[0m \u001b[43m    \u001b[49m\u001b[43mw\u001b[49m\u001b[38;5;241;43m=\u001b[39;49m\u001b[43mw\u001b[49m\u001b[43m,\u001b[49m\n\u001b[1;32m   1949\u001b[0m \u001b[43m    \u001b[49m\u001b[43mrec_dim\u001b[49m\u001b[38;5;241;43m=\u001b[39;49m\u001b[43mrec_dim\u001b[49m\u001b[43m,\u001b[49m\n\u001b[1;32m   1950\u001b[0m \u001b[43m    \u001b[49m\u001b[43mumom_dim\u001b[49m\u001b[38;5;241;43m=\u001b[39;49m\u001b[43mumom_dim\u001b[49m\u001b[43m,\u001b[49m\n\u001b[1;32m   1951\u001b[0m \u001b[43m    \u001b[49m\u001b[43mxmom_dim\u001b[49m\u001b[38;5;241;43m=\u001b[39;49m\u001b[43mxmom_dim\u001b[49m\u001b[43m,\u001b[49m\n\u001b[1;32m   1952\u001b[0m \u001b[43m    \u001b[49m\u001b[43mderiv_dim\u001b[49m\u001b[38;5;241;43m=\u001b[39;49m\u001b[43mderiv_dim\u001b[49m\u001b[43m,\u001b[49m\n\u001b[1;32m   1953\u001b[0m \u001b[43m    \u001b[49m\u001b[43mcentral\u001b[49m\u001b[38;5;241;43m=\u001b[39;49m\u001b[43mcentral\u001b[49m\u001b[43m,\u001b[49m\n\u001b[1;32m   1954\u001b[0m \u001b[43m    \u001b[49m\u001b[43mfrom_vals_kws\u001b[49m\u001b[38;5;241;43m=\u001b[39;49m\u001b[43mfrom_vals_kws\u001b[49m\u001b[43m,\u001b[49m\n\u001b[1;32m   1955\u001b[0m \u001b[43m    \u001b[49m\u001b[43mmeta\u001b[49m\u001b[38;5;241;43m=\u001b[39;49m\u001b[43mmeta\u001b[49m\u001b[43m,\u001b[49m\n\u001b[1;32m   1956\u001b[0m \u001b[43m    \u001b[49m\u001b[43mx_is_u\u001b[49m\u001b[38;5;241;43m=\u001b[39;49m\u001b[43mx_is_u\u001b[49m\u001b[43m,\u001b[49m\n\u001b[1;32m   1957\u001b[0m \u001b[43m\u001b[49m\u001b[43m)\u001b[49m\n",
      "File \u001b[0;32m<attrs generated init thermoextrap.data.DataCentralMomentsVals>:23\u001b[0m, in \u001b[0;36m__init__\u001b[0;34m(self, uv, xv, meta, umom_dim, xmom_dim, rec_dim, deriv_dim, central, x_is_u, order, w, from_vals_kws, dxduave)\u001b[0m\n\u001b[1;32m     21\u001b[0m     __attr_validator_order(\u001b[38;5;28mself\u001b[39m, __attr_order, \u001b[38;5;28mself\u001b[39m\u001b[38;5;241m.\u001b[39morder)\n\u001b[1;32m     22\u001b[0m     __attr_validator_dxduave(\u001b[38;5;28mself\u001b[39m, __attr_dxduave, \u001b[38;5;28mself\u001b[39m\u001b[38;5;241m.\u001b[39mdxduave)\n\u001b[0;32m---> 23\u001b[0m \u001b[38;5;28;43mself\u001b[39;49m\u001b[38;5;241;43m.\u001b[39;49m\u001b[43m__attrs_post_init__\u001b[49m\u001b[43m(\u001b[49m\u001b[43m)\u001b[49m\n",
      "File \u001b[0;32m~/Documents/python/projects/thermoextrap/src/thermoextrap/data.py:1868\u001b[0m, in \u001b[0;36mDataCentralMomentsVals.__attrs_post_init__\u001b[0;34m(self)\u001b[0m\n\u001b[1;32m   1865\u001b[0m     msg \u001b[38;5;241m=\u001b[39m \u001b[38;5;124m\"\u001b[39m\u001b[38;5;124mmust pass order if calculating dxduave\u001b[39m\u001b[38;5;124m\"\u001b[39m\n\u001b[1;32m   1866\u001b[0m     \u001b[38;5;28;01mraise\u001b[39;00m \u001b[38;5;167;01mValueError\u001b[39;00m(msg)\n\u001b[0;32m-> 1868\u001b[0m \u001b[38;5;28mself\u001b[39m\u001b[38;5;241m.\u001b[39mdxduave \u001b[38;5;241m=\u001b[39m \u001b[43mcmomy\u001b[49m\u001b[38;5;241;43m.\u001b[39;49m\u001b[43mxCentralMoments\u001b[49m\u001b[38;5;241;43m.\u001b[39;49m\u001b[43mfrom_vals\u001b[49m\u001b[43m(\u001b[49m\n\u001b[1;32m   1869\u001b[0m \u001b[43m    \u001b[49m\u001b[43mx\u001b[49m\u001b[38;5;241;43m=\u001b[39;49m\u001b[43m(\u001b[49m\u001b[38;5;28;43mself\u001b[39;49m\u001b[38;5;241;43m.\u001b[39;49m\u001b[43mxv\u001b[49m\u001b[43m,\u001b[49m\u001b[43m \u001b[49m\u001b[38;5;28;43mself\u001b[39;49m\u001b[38;5;241;43m.\u001b[39;49m\u001b[43muv\u001b[49m\u001b[43m)\u001b[49m\u001b[43m,\u001b[49m\n\u001b[1;32m   1870\u001b[0m \u001b[43m    \u001b[49m\u001b[43mw\u001b[49m\u001b[38;5;241;43m=\u001b[39;49m\u001b[38;5;28;43mself\u001b[39;49m\u001b[38;5;241;43m.\u001b[39;49m\u001b[43mw\u001b[49m\u001b[43m,\u001b[49m\n\u001b[1;32m   1871\u001b[0m \u001b[43m    \u001b[49m\u001b[43mdim\u001b[49m\u001b[38;5;241;43m=\u001b[39;49m\u001b[38;5;28;43mself\u001b[39;49m\u001b[38;5;241;43m.\u001b[39;49m\u001b[43mrec_dim\u001b[49m\u001b[43m,\u001b[49m\n\u001b[1;32m   1872\u001b[0m \u001b[43m    \u001b[49m\u001b[43mmom\u001b[49m\u001b[38;5;241;43m=\u001b[39;49m\u001b[43m(\u001b[49m\u001b[38;5;241;43m1\u001b[39;49m\u001b[43m,\u001b[49m\u001b[43m \u001b[49m\u001b[38;5;28;43mself\u001b[39;49m\u001b[38;5;241;43m.\u001b[39;49m\u001b[43morder\u001b[49m\u001b[43m)\u001b[49m\u001b[43m,\u001b[49m\n\u001b[1;32m   1873\u001b[0m \u001b[43m    \u001b[49m\u001b[43mbroadcast\u001b[49m\u001b[38;5;241;43m=\u001b[39;49m\u001b[38;5;28;43;01mTrue\u001b[39;49;00m\u001b[43m,\u001b[49m\n\u001b[1;32m   1874\u001b[0m \u001b[43m    \u001b[49m\u001b[43mmom_dims\u001b[49m\u001b[38;5;241;43m=\u001b[39;49m\u001b[43m(\u001b[49m\u001b[38;5;28;43mself\u001b[39;49m\u001b[38;5;241;43m.\u001b[39;49m\u001b[43mxmom_dim\u001b[49m\u001b[43m,\u001b[49m\u001b[43m \u001b[49m\u001b[38;5;28;43mself\u001b[39;49m\u001b[38;5;241;43m.\u001b[39;49m\u001b[43mumom_dim\u001b[49m\u001b[43m)\u001b[49m\u001b[43m,\u001b[49m\n\u001b[1;32m   1875\u001b[0m \u001b[43m    \u001b[49m\u001b[38;5;241;43m*\u001b[39;49m\u001b[38;5;241;43m*\u001b[39;49m\u001b[38;5;28;43mself\u001b[39;49m\u001b[38;5;241;43m.\u001b[39;49m\u001b[43mfrom_vals_kws\u001b[49m\u001b[43m,\u001b[49m\n\u001b[1;32m   1876\u001b[0m \u001b[43m\u001b[49m\u001b[43m)\u001b[49m\n",
      "\u001b[0;31mTypeError\u001b[0m: xCentralMoments.from_vals() got an unexpected keyword argument 'w'"
     ]
    },
    {
     "data": {
      "image/png": "[encoded data removed]",
      "text/plain": [
       "<Figure size 640x480 with 4 Axes>"
      ]
     },
     "metadata": {},
     "output_type": "display_data"
    }
   ],
   "source": [
    "# Repeat comparison of results, but for -ln<B*x>, the most complicated case\n",
    "\n",
    "fig, ax = plt.subplots(len(orders), sharex=True, sharey=True)\n",
    "\n",
    "nsampvals = np.array((10.0 * np.ones(5)) ** np.arange(1, 6), dtype=int)\n",
    "nsampcolors = plt.cm.viridis(np.arange(0.0, 1.0, float(1.0 / len(nsampvals))))\n",
    "\n",
    "# First plot the analytical result\n",
    "for a in ax:\n",
    "    a.plot(betas, -np.log(betas * idealgas.x_ave(betas, vol)), \"k--\", linewidth=2.0)\n",
    "\n",
    "# Next look at extrapolation with an infinite number of samples\n",
    "# This is possible in the ideal gas model in both temperature and volume\n",
    "for j, o in enumerate(orders):\n",
    "    trueExtrap, trueDerivs = idealgas.x_beta_extrap_depend_minuslog(\n",
    "        o, beta_ref, betas, vol\n",
    "    )\n",
    "    ax[j].plot(betas, trueExtrap, \"r-\", zorder=0)\n",
    "    if j == len(orders) - 1:\n",
    "        print(f\"True extrapolation coefficients: {trueDerivs}\")\n",
    "\n",
    "for i, n in enumerate(nsampvals):\n",
    "    thisinds = rng.choice(len(xdata), size=n, replace=False)\n",
    "\n",
    "    # Get parameters for extrapolation model with this data by training it - the parameters are the derivatives\n",
    "    xem_log_dep = xtrap.beta.factory_extrapmodel(\n",
    "        beta=beta_ref,\n",
    "        post_func=\"minus_log\",\n",
    "        data=xtrap.DataCentralMomentsVals.from_vals(\n",
    "            order=orders[-1],\n",
    "            uv=udata[thisinds],\n",
    "            xv=xdataDepend.sel(rec=thisinds),\n",
    "            deriv_dim=\"deriv\",\n",
    "            central=True,\n",
    "        ),\n",
    "    )\n",
    "    out = xem_log_dep.predict(betas, cumsum=True)\n",
    "    print(\n",
    "        f\"\\t With N_configs = {n}: {xem_log_dep.derivs(norm=False).values.flatten()}\"\n",
    "    )  # Have to flatten because observable is 1-D\n",
    "    for j, o in enumerate(orders):\n",
    "        out.sel(order=o).plot(\n",
    "            marker=\"s\",\n",
    "            ms=4,\n",
    "            color=nsampcolors[i],\n",
    "            ls=\"None\",\n",
    "            label=f\"N={n}\",\n",
    "            ax=ax[j],\n",
    "        )\n",
    "\n",
    "ax[2].set_ylabel(r\"$-\\mathrm{ln} \\langle \\beta x \\rangle$\")\n",
    "ax[-1].set_xlabel(r\"$\\beta$\")\n",
    "\n",
    "for j, o in enumerate(orders):\n",
    "    ax[j].annotate(\n",
    "        f\"O({o}) Extrapolation\", xy=(0.4, 0.7), xycoords=\"axes fraction\", fontsize=9\n",
    "    )\n",
    "\n",
    "ax[0].set_ylim((-1.0, 4.0))\n",
    "ax[-1].yaxis.set_major_locator(mpl.ticker.MaxNLocator(nbins=4, prune=\"both\"))\n",
    "\n",
    "fig.tight_layout()\n",
    "fig.subplots_adjust(hspace=0.0)\n",
    "\n",
    "for a in ax:\n",
    "    a.set_title(None)\n",
    "\n",
    "plt.show()"
   ]
  },
  {
   "cell_type": "code",
   "execution_count": null,
   "id": "8",
   "metadata": {},
   "outputs": [],
   "source": []
  }
 ],
 "metadata": {
  "celltoolbar": "Tags",
  "hide_input": false,
  "language_info": {
   "codemirror_mode": {
    "name": "ipython",
    "version": 3
   },
   "file_extension": ".py",
   "mimetype": "text/x-python",
   "name": "python",
   "nbconvert_exporter": "python",
   "pygments_lexer": "ipython3",
   "version": "3.11.9"
  },
  "toc": {
   "base_numbering": 1,
   "nav_menu": {},
   "number_sections": true,
   "sideBar": true,
   "skip_h1_title": false,
   "title_cell": "Table of Contents",
   "title_sidebar": "Contents",
   "toc_cell": false,
   "toc_position": {},
   "toc_section_display": true,
   "toc_window_display": false
  }
 },
 "nbformat": 4,
 "nbformat_minor": 5
}
