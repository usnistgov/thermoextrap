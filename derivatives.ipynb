{
 "cells": [
  {
   "cell_type": "code",
   "execution_count": 1,
   "metadata": {},
   "outputs": [],
   "source": [
    "import thermoextrap.xtrapy.core as core\n",
    "import sympy as sp\n",
    "import numpy as np"
   ]
  },
  {
   "cell_type": "code",
   "execution_count": 31,
   "metadata": {},
   "outputs": [
    {
     "data": {
      "text/plain": [
       "<module 'thermoextrap.xtrapy.xpan_beta_subs' from '/Users/wpk/Documents/python/projects/xtrapy/thermoextrap/xtrapy/xpan_beta_subs.py'>"
      ]
     },
     "execution_count": 31,
     "metadata": {},
     "output_type": "execute_result"
    }
   ],
   "source": [
    "from importlib import reload\n",
    "\n",
    "import thermoextrap.xtrapy.xpan_beta as xpan_beta\n",
    "import thermoextrap.xtrapy.xpan_beta_subs as xpan_beta_subs\n",
    "\n",
    "# reload(core)\n",
    "reload(xpan_beta)\n",
    "reload(xpan_beta_subs)\n"
   ]
  },
  {
   "cell_type": "code",
   "execution_count": 32,
   "metadata": {},
   "outputs": [],
   "source": [
    "o = 7"
   ]
  },
  {
   "cell_type": "code",
   "execution_count": 33,
   "metadata": {},
   "outputs": [],
   "source": [
    "n = 100000\n",
    "nv = 10\n",
    "u = np.random.rand(n)\n",
    "x = np.random.rand(n, nv)\n",
    "xd = np.random.rand(n, o+1, nv)\n",
    "\n",
    "X = {False: x, True: xd}"
   ]
  },
  {
   "cell_type": "code",
   "execution_count": 34,
   "metadata": {},
   "outputs": [
    {
     "name": "stdout",
     "output_type": "stream",
     "text": [
      "False True\n",
      "159 ms ± 0 ns per loop (mean ± std. dev. of 1 run, 1 loop each)\n",
      "1.01 s ± 0 ns per loop (mean ± std. dev. of 1 run, 1 loop each)\n",
      "0 0\n",
      "1 0\n",
      "2 0\n",
      "3 0\n",
      "4 0\n",
      "5 0\n",
      "6 0\n",
      "7 0\n",
      "True True\n",
      "321 ms ± 0 ns per loop (mean ± std. dev. of 1 run, 1 loop each)\n",
      "1.71 s ± 0 ns per loop (mean ± std. dev. of 1 run, 1 loop each)\n",
      "0 0\n",
      "1 0\n",
      "2 0\n",
      "3 0\n",
      "4 0\n",
      "5 0\n",
      "6 0\n",
      "7 0\n",
      "False False\n",
      "547 ms ± 0 ns per loop (mean ± std. dev. of 1 run, 1 loop each)\n",
      "353 ms ± 0 ns per loop (mean ± std. dev. of 1 run, 1 loop each)\n",
      "0 0\n",
      "1 0\n",
      "2 0\n",
      "3 0\n",
      "4 0\n",
      "5 0\n",
      "6 0\n",
      "7 0\n",
      "True False\n",
      "1.23 s ± 0 ns per loop (mean ± std. dev. of 1 run, 1 loop each)\n",
      "474 ms ± 0 ns per loop (mean ± std. dev. of 1 run, 1 loop each)\n",
      "0 0\n",
      "1 0\n",
      "2 0\n",
      "3 0\n",
      "4 0\n",
      "5 0\n",
      "6 0\n",
      "7 0\n"
     ]
    }
   ],
   "source": [
    "for central in [True, False]:\n",
    "    for xalpha in [False, True]:\n",
    "        print(xalpha, central)\n",
    "        ss = xpan_beta.factory_coefs(xalpha=xalpha, central=central)\n",
    "        s = xpan_beta_subs.factory_coefs_beta(xalpha=xalpha, central=central)\n",
    "\n",
    "        %timeit -n 1 -r 1 ss.exprs[o]\n",
    "        %timeit -n 1 -r 1 s.exprs[o]\n",
    "\n",
    "        for i in range(o+1):\n",
    "            print(i, ss.exprs[i] - s.exprs[i])\n",
    "\n",
    "\n",
    "        data = xpan_beta.factory_data(u, X[xalpha], o, central=central, xalpha=xalpha)\n",
    "        np.testing.assert_allclose(s.xcoefs(data), ss.xcoefs(data))"
   ]
  },
  {
   "cell_type": "code",
   "execution_count": 29,
   "metadata": {},
   "outputs": [
    {
     "data": {
      "text/latex": [
       "$\\displaystyle - {dxdu}_{0,1} + {x_{1}}_{1}$"
      ],
      "text/plain": [
       "-dxdu[0, 1] + x1[1]"
      ]
     },
     "execution_count": 29,
     "metadata": {},
     "output_type": "execute_result"
    }
   ],
   "source": [
    "ss.exprs[1]"
   ]
  },
  {
   "cell_type": "code",
   "execution_count": 30,
   "metadata": {},
   "outputs": [
    {
     "data": {
      "text/latex": [
       "$\\displaystyle - {dxdu}_{1,0} + {x_{1}}_{1}$"
      ],
      "text/plain": [
       "-dxdu[1, 0] + x1[1]"
      ]
     },
     "execution_count": 30,
     "metadata": {},
     "output_type": "execute_result"
    }
   ],
   "source": [
    "s.exprs[1]"
   ]
  },
  {
   "cell_type": "code",
   "execution_count": null,
   "metadata": {},
   "outputs": [],
   "source": []
  }
 ],
 "metadata": {
  "kernelspec": {
   "display_name": "Python [conda env:.conda-py37]",
   "language": "python",
   "name": "conda-env-.conda-py37-py"
  },
  "language_info": {
   "codemirror_mode": {
    "name": "ipython",
    "version": 3
   },
   "file_extension": ".py",
   "mimetype": "text/x-python",
   "name": "python",
   "nbconvert_exporter": "python",
   "pygments_lexer": "ipython3",
   "version": "3.7.6"
  },
  "toc": {
   "base_numbering": 1,
   "nav_menu": {},
   "number_sections": true,
   "sideBar": true,
   "skip_h1_title": false,
   "title_cell": "Table of Contents",
   "title_sidebar": "Contents",
   "toc_cell": false,
   "toc_position": {},
   "toc_section_display": true,
   "toc_window_display": false
  }
 },
 "nbformat": 4,
 "nbformat_minor": 4
}
