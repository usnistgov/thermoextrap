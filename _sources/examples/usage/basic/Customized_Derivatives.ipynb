{
 "cells": [
  {
   "cell_type": "markdown",
   "id": "b0c9b0a2",
   "metadata": {},
   "source": [
    "# Extrapolation in volume and custom derivatives\n",
    "\n",
    "\n",
    "There may be some cases where a custom derivative needs to be written. Most likely, this will be when you can't write the necessary averages in terms of the observable and a specific Hamiltonian or thermodynamic conjugate variable. For instance, this might occur when extrapolating over volume in the NVT ensemble (see https://aip.scitation.org/doi/10.1063/5.0014282). In these cases, it is useful to know how to write custom derivative calculation functions and merge them back into the capabilities of the {mod}`thermoextrap` package.\n",
    "\n",
    "This example will be based on the code found in {mod}`thermoextrap.volume`, with sections of that file reproduced here for pedagogical purposes.\n",
    "\n",
    "First, it is useful to know the structure of how extrapolation coefficients (derivatives) are calculated in {mod}`thermoextrap`. Handily, there is a class called {class}`thermoextrap.models.Derivatives` that uses functions or arrays of functions to compute derivatives at specific orders. Typically, these functions are generated using sympy based on known relationships between the derivatives and moments of the observable and Hamiltonian. However, they can instead be specified manually."
   ]
  },
  {
   "cell_type": "code",
   "execution_count": 3,
   "id": "9b91eb5b",
   "metadata": {
    "execution": {
     "iopub.execute_input": "2022-11-30T19:58:44.906612Z",
     "iopub.status.busy": "2022-11-30T19:58:44.906232Z",
     "iopub.status.idle": "2022-11-30T19:58:45.628758Z",
     "shell.execute_reply": "2022-11-30T19:58:45.628225Z"
    }
   },
   "outputs": [],
   "source": [
    "%matplotlib inline\n",
    "\n",
    "import matplotlib as mpl\n",
    "import matplotlib.pyplot as plt\n",
    "import numpy as np\n",
    "import xarray as xr"
   ]
  },
  {
   "cell_type": "markdown",
   "id": "21e65981",
   "metadata": {},
   "source": [
    "Our goal here will be to extrapolate in volume (or 1D length) for the 1D ideal gas test system.\n",
    "\n",
    "To extrapolate in volume we need observable values at each snapshot along with values of the virial at each snapshot. For the ideal gas system, the virial is given by $W = -\\sum_{i} \\frac{\\mathrm{d}U}{\\mathrm{d}x_{i}} x_{i} = -\\sum_{i} a x_{i}$, which for $a=1$ leads us to $W = -N \\langle x \\rangle$, where the average is over all particles of a given configuration. For the purposes of extrapolation, we need a dimensionless virial, so $W$ will be multiplied by $\\beta$.\n",
    "\n",
    "For any observable, there is a unique term that appears in the derivative with respect to system size or volume, specifically $\\langle \\sum_{i} \\frac{\\partial Y}{\\partial x_i} x_{i}$ where $Y$ is the observable and $x_i$ is the $i^\\mathrm{th}$ degree of freedom. In the ideal gas system at hand, $Y = \\frac{1}{N} \\sum_{i} x_{i}$ so that this correction term is equal to the observable itself, $Y = \\langle x \\rangle$, with again the average here only over all particles. It is interesting that the virial is then exactly $N$ times larger than this correction term. This is typical, as the virial will scale with the number of degrees of freedom in the system. As a result the correction term is 1000 times smaller than the other two terms appearing in the first derivative with respect to system size, $L$. However, the other two terms nearly cancel, resulting in a small difference the same order of magnitude as the correction term. For any system you work with, you should check the magnitude of the unique correction term, either visually or by deriving and computing it."
   ]
  },
  {
   "cell_type": "markdown",
   "id": "2da5dcb2",
   "metadata": {},
   "source": [
    "Getting back to the code, below is a custom derivative calculation function appearing in xtrap.volume.py. This will actually work for any extrapolation in volume for the NVT ensemble, not just for the 1D ideal gas test system."
   ]
  },
  {
   "cell_type": "code",
   "execution_count": 4,
   "id": "507012cc",
   "metadata": {
    "execution": {
     "iopub.execute_input": "2022-11-30T19:58:45.632575Z",
     "iopub.status.busy": "2022-11-30T19:58:45.632227Z",
     "iopub.status.idle": "2022-11-30T19:58:46.765672Z",
     "shell.execute_reply": "2022-11-30T19:58:46.765120Z"
    }
   },
   "outputs": [],
   "source": [
    "import thermoextrap as xtrap"
   ]
  },
  {
   "cell_type": "code",
   "execution_count": 5,
   "id": "2eb7cb6f",
   "metadata": {
    "execution": {
     "iopub.execute_input": "2022-11-30T19:58:46.777573Z",
     "iopub.status.busy": "2022-11-30T19:58:46.777331Z",
     "iopub.status.idle": "2022-11-30T19:58:46.782276Z",
     "shell.execute_reply": "2022-11-30T19:58:46.781714Z"
    }
   },
   "outputs": [],
   "source": [
    "class VolumeDerivFuncs:\n",
    "    \"\"\"\n",
    "    Calculates specific derivative values at refV with data x and W.\n",
    "    Only go to first order for volume extrapolation.\n",
    "    Here W represents the virial instead of the potential energy.\n",
    "    \"\"\"\n",
    "\n",
    "    def __getitem__(self, order):\n",
    "        # Check to make sure not going past first order\n",
    "        if order > 1:\n",
    "            raise ValueError(\n",
    "                \"Volume derivatives cannot go past 1st order\"\n",
    "                + \" and received %i\" % order\n",
    "                + \"\\n(because would need derivatives of forces)\"\n",
    "            )\n",
    "        else:\n",
    "            return self.create_deriv_func(order)\n",
    "\n",
    "    @staticmethod\n",
    "    def create_deriv_func(order):\n",
    "        def func(W, xW, dxdq, volume, ndim=1):\n",
    "            \"\"\"Dxdq is <sum_{i=1}^N dy/dx_i x_i>\"\"\"\n",
    "            # NOTE: W here has beta in it:\n",
    "            # that is W <- beta * virial\n",
    "\n",
    "            # Zeroth order derivative\n",
    "            if order == 0:\n",
    "                deriv_val = xW[0]\n",
    "            # First order derivative\n",
    "            else:\n",
    "                deriv_val = (-xW[0] * W[1] + xW[1] + dxdq) / (volume * ndim)\n",
    "            return deriv_val\n",
    "\n",
    "        return func"
   ]
  },
  {
   "cell_type": "markdown",
   "id": "c799b342",
   "metadata": {},
   "source": [
    "There are two key components in the above class: a `__getitem__` method and a `create_deriv_func` method. `__getitem__` is used to specify which order of derivative we want and return it - if this was an array of functions, we could just store the array and access them for the appropriate order. Here, this method just ensures that we don't try and go past 1st order in our derivatives (because that is not implemented) and returns the derivative function shown. The `create_deriv_func` returns the appropriate derivative at the specified order. The function it returns takes as inputs the virial moments (would be array of potential energy moments in other scenarios), array of moments of the product of $x$ and $W$, an explicit derivative term for of the observable with respect to the extrapolation variable, and the volume (or $L$ for the 1D ideal gas here). The last argument, `ndim`, is the dimensionality of the system, so just 1 for the 1D ideal gas, but would be 3 in more typical systems."
   ]
  },
  {
   "cell_type": "code",
   "execution_count": 6,
   "id": "2c27655b",
   "metadata": {
    "execution": {
     "iopub.execute_input": "2022-11-30T19:58:46.785171Z",
     "iopub.status.busy": "2022-11-30T19:58:46.784944Z",
     "iopub.status.idle": "2022-11-30T19:58:49.737411Z",
     "shell.execute_reply": "2022-11-30T19:58:49.736523Z"
    }
   },
   "outputs": [],
   "source": [
    "# Import idealgas module\n",
    "from thermoextrap import idealgas\n",
    "\n",
    "# Set temperature and volumes\n",
    "beta = 1.0\n",
    "volumes = np.arange(0.5, 10.0, 0.5)\n",
    "\n",
    "# Define our reference size to extrapolated from\n",
    "volume_ref = volumes[9]\n",
    "\n",
    "npart = 1000  # Number of particles (in single configuration)\n",
    "nconfig = 100_000  # Number of configurations\n",
    "\n",
    "# And generate new data at this reference size, using a beta of 1.0 for simplicity\n",
    "xdatavol, udatavol = idealgas.generate_data((nconfig, npart), beta=beta, vol=volume_ref)\n",
    "\n",
    "# Wrap with xarray\n",
    "xdatavol = xr.DataArray(xdatavol, dims=[\"rec\"])\n",
    "udatavol = xr.DataArray(udatavol, dims=[\"rec\"])\n",
    "\n",
    "# For the IG model, the virial W is the same as the negative of the number of particles multiplied by the average position\n",
    "# (for a=1)\n",
    "# And we have to multiply by beta to make the virial dimensionless\n",
    "wdatavol = -1.0 * npart * xdatavol"
   ]
  },
  {
   "cell_type": "markdown",
   "id": "81486abb",
   "metadata": {},
   "source": [
    "Next we create and train our volume extrapolation model and check its outputs. You can look at {func}`~thermoextrap.volume.factory_extrapmodel`, but it's nearly identical to that in {mod}`thermoextrap.beta`, but uses specialized data callbacks and {class}`~thermoextrap.models.Derivatives` models. We have already demonstrated above how to specify custom derivatives for the {class}`~thermoextrap.models.Derivatives` model.\n",
    "\n",
    "To create a special callback in a data object, follow {class}`thermoextrap.volume.VolumeDataCallback`, reproduced below. Passing such callbacks to a data object through the argument `meta` is a very flexible way to adjust the data structures and information provided when calculating derivatives. Here, we extend the data class to also track the quantity `dxdqv`, or the specific derivative of the observable with respect to the extrapolation variable and is unique for every observable (see https://aip.scitation.org/doi/10.1063/5.0014282).\n",
    "\n",
    "Basically, the argument `meta` takes one of these custom callbacks with the implemented methods shown below (ignore `dxdqv`, though, as that is specific to this case). You must implement methods to define the names of extra parameters `param_names`, to resample, and to pass extra information to the derivative calculation function `deriv_args`. Note that the method `deriv_args` should mirror the input structure in the above custom derivative function, with extra arguments from the callback added to what is typically passed through the `deriv_args` function of the base data class (specifically, the potential energy moments and $xU$ moments, which here are virial and $xW$ moments)."
   ]
  },
  {
   "cell_type": "code",
   "execution_count": 10,
   "id": "d41c23ca",
   "metadata": {
    "execution": {
     "iopub.execute_input": "2022-11-30T19:58:49.741193Z",
     "iopub.status.busy": "2022-11-30T19:58:49.740887Z",
     "iopub.status.idle": "2022-11-30T19:58:49.749284Z",
     "shell.execute_reply": "2022-11-30T19:58:49.748626Z"
    }
   },
   "outputs": [],
   "source": [
    "import attrs\n",
    "from module_utilities import cached\n",
    "\n",
    "import thermoextrap\n",
    "\n",
    "\n",
    "@attrs.define\n",
    "class VolumeDataCallback(xtrap.data.DataCallbackABC):\n",
    "    \"\"\"object to handle callbacks of metadata\"\"\"\n",
    "\n",
    "    volume: float = attrs.field(validator=attrs.validators.instance_of(float))\n",
    "    dxdqv: xr.DataArray = attrs.field(\n",
    "        validator=attrs.validators.instance_of(xr.DataArray)\n",
    "    )\n",
    "    ndim: int = attrs.field(default=3, validator=attrs.validators.instance_of(int))\n",
    "\n",
    "    def check(self, data):\n",
    "        pass\n",
    "\n",
    "    @property\n",
    "    def param_names(self):\n",
    "        return [\"volume\", \"dxdqv\", \"ndim\"]\n",
    "\n",
    "    @cached.meth\n",
    "    def dxdq(self, rec_dim, skipna):\n",
    "        return self.dxdqv.mean(rec_dim, skipna=skipna)\n",
    "\n",
    "    def resample(self, data, meta_kws, indices, **kws):\n",
    "        return self.new_like(dxdqv=self.dxdqv[indices])\n",
    "\n",
    "    def derivs_args(self, data, derivs_args):\n",
    "        return tuple(derivs_args) + (\n",
    "            self.dxdq(rec_dim=data.rec_dim, skipna=data.skipna),\n",
    "            self.volume,\n",
    "            self.ndim,\n",
    "        )"
   ]
  },
  {
   "cell_type": "code",
   "execution_count": 11,
   "id": "9fa6ec8c",
   "metadata": {
    "execution": {
     "iopub.execute_input": "2022-11-30T19:58:49.758322Z",
     "iopub.status.busy": "2022-11-30T19:58:49.758095Z",
     "iopub.status.idle": "2022-11-30T19:58:49.761155Z",
     "shell.execute_reply": "2022-11-30T19:58:49.760654Z"
    }
   },
   "outputs": [],
   "source": [
    "xemv = xtrap.volume.factory_extrapmodel(\n",
    "    volume=volume_ref,\n",
    "    # this is acually w\n",
    "    uv=wdatavol,\n",
    "    xv=xdatavol,\n",
    "    # dxdqv = single observation of sum(dx/dq_i q_i) where q_i is the ith coordinate\n",
    "    # for ideal gas, this is just xdata\n",
    "    dxdqv=xdatavol,\n",
    "    ndim=1,\n",
    ")"
   ]
  },
  {
   "cell_type": "code",
   "execution_count": 12,
   "id": "e8e634e3",
   "metadata": {
    "execution": {
     "iopub.execute_input": "2022-11-30T19:58:49.763801Z",
     "iopub.status.busy": "2022-11-30T19:58:49.763583Z",
     "iopub.status.idle": "2022-11-30T19:58:50.035927Z",
     "shell.execute_reply": "2022-11-30T19:58:50.035334Z"
    }
   },
   "outputs": [
    {
     "data": {
      "text/plain": [
       "DataValues(meta=VolumeDataCallback(volume=5.0, dxdqv=<xarray.DataArray (rep: 100, rec: 100000)>\n",
       "array([[0.95333026, 0.96419076, 0.98351443, ..., 0.95087517, 0.9441505 ,\n",
       "        0.92668131],\n",
       "       [0.97171016, 0.97415006, 0.94858886, ..., 0.93485776, 0.97703615,\n",
       "        0.93181798],\n",
       "       [0.96664047, 1.00475512, 1.02313804, ..., 0.97929816, 0.95464125,\n",
       "        0.97639747],\n",
       "       ...,\n",
       "       [0.97672261, 0.91177022, 0.97431233, ..., 0.99589869, 0.93421804,\n",
       "        0.98525048],\n",
       "       [0.98758678, 0.97815204, 0.9709699 , ..., 0.95044282, 0.96719683,\n",
       "        0.95511405],\n",
       "       [0.9509286 , 0.99984375, 0.97658612, ..., 1.01604089, 0.9479066 ,\n",
       "        0.96895184]])\n",
       "Dimensions without coordinates: rep, rec, ndim=1), uv=<xarray.DataArray (rep: 100, rec: 100000)>\n",
       "array([[ -953.33026414,  -964.19076008,  -983.51443172, ...,\n",
       "         -950.8751695 ,  -944.15050137,  -926.68130958],\n",
       "       [ -971.71015988,  -974.15005582,  -948.58885631, ...,\n",
       "         -934.8577595 ,  -977.03615128,  -931.81797994],\n",
       "       [ -966.64047106, -1004.75512482, -1023.13803661, ...,\n",
       "         -979.29815632,  -954.64124936,  -976.39747313],\n",
       "       ...,\n",
       "       [ -976.72260808,  -911.77021688,  -974.31233102, ...,\n",
       "         -995.89869197,  -934.21803628,  -985.25047696],\n",
       "       [ -987.58677576,  -978.15203591,  -970.96990297, ...,\n",
       "         -950.44282077,  -967.1968307 ,  -955.11404688],\n",
       "       [ -950.92859775,  -999.84375314,  -976.58611752, ...,\n",
       "        -1016.0408885 ,  -947.90660198,  -968.95183539]])\n",
       "Dimensions without coordinates: rep, rec, xv=<xarray.DataArray (rep: 100, rec: 100000)>\n",
       "array([[0.95333026, 0.96419076, 0.98351443, ..., 0.95087517, 0.9441505 ,\n",
       "        0.92668131],\n",
       "       [0.97171016, 0.97415006, 0.94858886, ..., 0.93485776, 0.97703615,\n",
       "        0.93181798],\n",
       "       [0.96664047, 1.00475512, 1.02313804, ..., 0.97929816, 0.95464125,\n",
       "        0.97639747],\n",
       "       ...,\n",
       "       [0.97672261, 0.91177022, 0.97431233, ..., 0.99589869, 0.93421804,\n",
       "        0.98525048],\n",
       "       [0.98758678, 0.97815204, 0.9709699 , ..., 0.95044282, 0.96719683,\n",
       "        0.95511405],\n",
       "       [0.9509286 , 0.99984375, 0.97658612, ..., 1.01604089, 0.9479066 ,\n",
       "        0.96895184]])\n",
       "Dimensions without coordinates: rep, rec, order=1, rec_dim='rec', umom_dim='umom', deriv_dim=None, skipna=False, chunk=None, compute=False, build_aves_kws={}, x_is_u=False)"
      ]
     },
     "execution_count": 12,
     "metadata": {},
     "output_type": "execute_result"
    }
   ],
   "source": [
    "xemv.data.resample(nrep=100)"
   ]
  },
  {
   "cell_type": "code",
   "execution_count": 13,
   "id": "0172e876",
   "metadata": {
    "execution": {
     "iopub.execute_input": "2022-11-30T19:58:50.039072Z",
     "iopub.status.busy": "2022-11-30T19:58:50.038823Z",
     "iopub.status.idle": "2022-11-30T19:58:50.418462Z",
     "shell.execute_reply": "2022-11-30T19:58:50.417898Z"
    }
   },
   "outputs": [
    {
     "name": "stdout",
     "output_type": "stream",
     "text": [
      "Model parameters (derivatives):\n",
      "[0.96612245 0.02673026]\n",
      "\n",
      "\n",
      "Model predictions:\n",
      "[0.84583627 0.8592014  0.87256654 0.88593167]\n",
      "\n",
      "\n",
      "Bootstrapped uncertainties in predictions:\n",
      "[0.00355916 0.00316296 0.00276679 0.00237066]\n"
     ]
    }
   ],
   "source": [
    "# Check the computation of derivatives\n",
    "print(\"Model parameters (derivatives):\")\n",
    "print(xemv.derivs(norm=False).values)\n",
    "print(\"\\n\")\n",
    "\n",
    "# Finally, look at predictions\n",
    "print(\"Model predictions:\")\n",
    "print(xemv.predict(volumes[:4]).values)\n",
    "print(\"\\n\")\n",
    "\n",
    "# And bootstrapped uncertainties\n",
    "print(\"Bootstrapped uncertainties in predictions:\")\n",
    "print(xemv.resample(nrep=100).predict(volumes[:4]).std(\"rep\").values)"
   ]
  },
  {
   "cell_type": "code",
   "execution_count": 14,
   "id": "8029bcaf",
   "metadata": {
    "execution": {
     "iopub.execute_input": "2022-11-30T19:58:50.421340Z",
     "iopub.status.busy": "2022-11-30T19:58:50.421099Z",
     "iopub.status.idle": "2022-11-30T19:58:50.820207Z",
     "shell.execute_reply": "2022-11-30T19:58:50.819433Z"
    }
   },
   "outputs": [
    {
     "name": "stdout",
     "output_type": "stream",
     "text": [
      "True extrapolation coefficients: [0.96608173 0.02736471]\n",
      "\t With N_configs =     10: [0.96677344 0.09849956]\n",
      "\t With N_configs =    100: [0.96706863 0.04272218]\n",
      "\t With N_configs =   1000: [0.96523653 0.02528591]\n",
      "\t With N_configs =  10000: [0.96650938 0.02585537]\n",
      "\t With N_configs = 100000: [0.96612245 0.02673026]\n"
     ]
    },
    {
     "data": {
      "image/png": "[encoded data removed]",
      "text/plain": [
       "<Figure size 640x480 with 1 Axes>"
      ]
     },
     "metadata": {},
     "output_type": "display_data"
    }
   ],
   "source": [
    "fig, ax = plt.subplots()\n",
    "\n",
    "nsampvals = np.array((10.0 * np.ones(5)) ** np.arange(1, 6), dtype=int)\n",
    "nsampcolors = plt.cm.viridis(np.arange(0.0, 1.0, float(1.0 / len(nsampvals))))\n",
    "\n",
    "# First plot the analytical result\n",
    "ax.plot(volumes, idealgas.x_ave(beta, volumes), \"k--\", linewidth=2.0)\n",
    "\n",
    "# And the infinite sampling results for first order extrapolation\n",
    "trueExtrap, trueDerivs = idealgas.x_vol_extrap(1, volume_ref, volumes, beta=beta)\n",
    "ax.plot(volumes, trueExtrap, \"r-\", zorder=0)\n",
    "print(f\"True extrapolation coefficients: {trueDerivs}\")\n",
    "\n",
    "for i, n in enumerate(nsampvals):\n",
    "    thisinds = np.random.choice(len(xdatavol), size=n, replace=False)\n",
    "\n",
    "    # Get parameters for extrapolation model with this data by training it - the parameters are the derivatives\n",
    "    xemv = xtrap.volume.factory_extrapmodel(\n",
    "        volume=volume_ref,\n",
    "        # this is acually w\n",
    "        uv=wdatavol[thisinds],\n",
    "        xv=xdatavol[thisinds],\n",
    "        dxdqv=xdatavol[thisinds],\n",
    "        ndim=1,\n",
    "    )\n",
    "\n",
    "    out = xemv.predict(volumes)\n",
    "    print(\"\\t With N_configs = %6i: %s\" % (n, str(xemv.derivs(norm=False).values)))\n",
    "\n",
    "    out.plot(marker=\"s\", ms=4, color=nsampcolors[i], ls=\"None\", label=f\"N={n}\", ax=ax)\n",
    "\n",
    "ax.set_ylabel(r\"$\\langle x \\rangle$\")\n",
    "ax.set_xlabel(r\"$L$\")\n",
    "\n",
    "ax.annotate(\"O(1) Extrapolation\", xy=(0.4, 0.7), xycoords=\"axes fraction\", fontsize=9)\n",
    "\n",
    "ax.set_ylim((-1.0, 4.0))\n",
    "ax.yaxis.set_major_locator(mpl.ticker.MaxNLocator(nbins=4, prune=\"both\"))\n",
    "\n",
    "fig.tight_layout()\n",
    "fig.subplots_adjust(hspace=0.0)\n",
    "\n",
    "ax.set_title(None)\n",
    "\n",
    "plt.legend()\n",
    "plt.show()"
   ]
  },
  {
   "cell_type": "code",
   "execution_count": null,
   "id": "22da6e82",
   "metadata": {},
   "outputs": [],
   "source": []
  }
 ],
 "metadata": {
  "hide_input": false,
  "kernelspec": {
   "display_name": "thermoextrap-dev [conda env:dev-4]",
   "language": "python",
   "name": "conda-env-dev-4-py"
  },
  "language_info": {
   "codemirror_mode": {
    "name": "ipython",
    "version": 3
   },
   "file_extension": ".py",
   "mimetype": "text/x-python",
   "name": "python",
   "nbconvert_exporter": "python",
   "pygments_lexer": "ipython3",
   "version": "3.10.10"
  },
  "toc": {
   "base_numbering": 1,
   "nav_menu": {},
   "number_sections": true,
   "sideBar": true,
   "skip_h1_title": false,
   "title_cell": "Table of Contents",
   "title_sidebar": "Contents",
   "toc_cell": false,
   "toc_position": {},
   "toc_section_display": true,
   "toc_window_display": true
  }
 },
 "nbformat": 4,
 "nbformat_minor": 5
}
