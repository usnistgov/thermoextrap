{
 "cells": [
  {
   "cell_type": "markdown",
   "id": "ed1d0e18",
   "metadata": {},
   "source": [
    "# Case 2: Observable is an average with explicit temperature dependence\n",
    "\n",
    "This is a more difficult case because the derivatives are more complicated. However, this case has also been coded in the library. Extra data will need to be provided, but then everything is handled by flags in the code for creating the data and models. The catch is that we cannot foresee every way that an observable may depend on the extrapolation variable. But if the derivatives of the observable being averaged with respect to the extrapolation variable are known up to the desired order, we can incorporate these into our computation of extrapolation and interpolation coefficients. That means these must also be provided with the input data."
   ]
  },
  {
   "cell_type": "markdown",
   "id": "acca7530",
   "metadata": {},
   "source": [
    "For our averaged quantity that depends explicitly on temperature, we select the average dimensionless potential energy of a single ideal gas particle, $\\beta u = \\langle \\beta a x \\rangle = \\langle \\beta x \\rangle$ where $a=1$ for simplicity. The average is over all particles and configurations. \n",
    "\n",
    "Everything can be set up in pretty much the same way as Case 1. EXCEPT that we now have to provide not only data for the observable, but also its derivatives in $\\beta$. The derivatives must be supplied up to the desired maximum order. This is a bit cumbersome in general, but hopefully your explicit dependence is polynomial (as it is here) or exponential in $\\beta$. In these cases, derivatives of arbitrarily high order are trival to compute. \n",
    "\n",
    "So now the observable data can have 3 dimensions - for each configurational snapshot, for each derivative order starting at zero (i.e., the observable value) and going to the maximum desired, and for each element in the observable array. Note that the second dimension represents the derivatives of the observable with respect to the extrapolation variable. So for the first derivative, this is just $x$ in this example and for all subsequent derivatives up to the desired order, we pad with zeros."
   ]
  },
  {
   "cell_type": "code",
   "execution_count": 1,
   "id": "b1b5af15",
   "metadata": {
    "execution": {
     "iopub.execute_input": "2022-11-30T19:59:44.429889Z",
     "iopub.status.busy": "2022-11-30T19:59:44.429496Z",
     "iopub.status.idle": "2022-11-30T19:59:49.221938Z",
     "shell.execute_reply": "2022-11-30T19:59:49.220943Z"
    }
   },
   "outputs": [],
   "source": [
    "%matplotlib inline\n",
    "\n",
    "import numpy as np\n",
    "import matplotlib.pyplot as plt\n",
    "import matplotlib as mpl\n",
    "\n",
    "import xarray as xr\n",
    "\n",
    "# Import idealgas module\n",
    "from thermoextrap import idealgas\n",
    "\n",
    "# Define test betas and reference beta\n",
    "betas = np.arange(0.1, 10.0, 0.5)\n",
    "beta_ref = betas[11]\n",
    "vol = 1.0\n",
    "\n",
    "# Define orders to extrapolate to\n",
    "orders = [1, 2, 4, 6]\n",
    "order = orders[-1]\n",
    "\n",
    "npart = 1000  # Number of particles (in single configuration)\n",
    "nconfig = 100_000  # Number of configurations\n",
    "\n",
    "# Generate all the data we could want\n",
    "xdata, udata = idealgas.generate_data((nconfig, npart), beta_ref, vol)"
   ]
  },
  {
   "cell_type": "code",
   "execution_count": 2,
   "id": "f8fc40ac",
   "metadata": {
    "execution": {
     "iopub.execute_input": "2022-11-30T19:59:49.225947Z",
     "iopub.status.busy": "2022-11-30T19:59:49.225548Z",
     "iopub.status.idle": "2022-11-30T19:59:49.239209Z",
     "shell.execute_reply": "2022-11-30T19:59:49.238433Z"
    }
   },
   "outputs": [
    {
     "name": "stdout",
     "output_type": "stream",
     "text": [
      "<xarray.DataArray (deriv: 7, rec: 100000)>\n",
      "array([[0.95346728, 0.96014786, 0.9769794 , ..., 0.97501444, 0.97973565,\n",
      "        0.94487409],\n",
      "       [0.17026202, 0.17145497, 0.17446061, ..., 0.17410972, 0.1749528 ,\n",
      "        0.16872752],\n",
      "       [0.        , 0.        , 0.        , ..., 0.        , 0.        ,\n",
      "        0.        ],\n",
      "       ...,\n",
      "       [0.        , 0.        , 0.        , ..., 0.        , 0.        ,\n",
      "        0.        ],\n",
      "       [0.        , 0.        , 0.        , ..., 0.        , 0.        ,\n",
      "        0.        ],\n",
      "       [0.        , 0.        , 0.        , ..., 0.        , 0.        ,\n",
      "        0.        ]])\n",
      "Coordinates:\n",
      "  * deriv    (deriv) int64 0 1 2 3 4 5 6\n",
      "Dimensions without coordinates: rec\n"
     ]
    }
   ],
   "source": [
    "# You can use numpy and just wrap with xarray after...\n",
    "xdataDepend = np.array([xdata * beta_ref, xdata])\n",
    "xdataDepend = np.vstack((xdataDepend, np.zeros((orders[-1] - 1, xdata.shape[0]))))\n",
    "xdata = xr.DataArray(xdata, dims=[\"rec\"])\n",
    "udata = xr.DataArray(udata, dims=[\"rec\"])\n",
    "# Note the naming of dimensions here and see \"Data_Organization\" for a full explanation\n",
    "xdataDepend = xr.DataArray(\n",
    "    xdataDepend,\n",
    "    dims=[\"deriv\", \"rec\"],\n",
    "    coords={\"deriv\": np.arange(xdataDepend.shape[0])},\n",
    ")\n",
    "print(xdataDepend)\n",
    "\n",
    "# # Or you can accomplish this with xarray if you really want to...\n",
    "# xdata = xr.DataArray(xdata, dims=['rec'])\n",
    "# udata = xr.DataArray(udata, dims=['rec'])\n",
    "# xdataDepend = (\n",
    "#     xr.concat([xdata*beta_ref, xdata], dim='deriv')\n",
    "#     .assign_coords(deriv=lambda x: np.arange(x.sizes['deriv']))\n",
    "#     .reindex(deriv=np.arange(orders[-1] + 1))\n",
    "#     .fillna(0.0)\n",
    "# )\n",
    "# print(xdataDepend)"
   ]
  },
  {
   "cell_type": "code",
   "execution_count": 3,
   "id": "540c48f5",
   "metadata": {
    "execution": {
     "iopub.execute_input": "2022-11-30T19:59:49.242757Z",
     "iopub.status.busy": "2022-11-30T19:59:49.242478Z",
     "iopub.status.idle": "2022-11-30T19:59:49.246004Z",
     "shell.execute_reply": "2022-11-30T19:59:49.245310Z"
    }
   },
   "outputs": [],
   "source": [
    "import thermoextrap as xtrap"
   ]
  },
  {
   "cell_type": "code",
   "execution_count": 4,
   "id": "187902f9",
   "metadata": {
    "execution": {
     "iopub.execute_input": "2022-11-30T19:59:49.249212Z",
     "iopub.status.busy": "2022-11-30T19:59:49.248936Z",
     "iopub.status.idle": "2022-11-30T19:59:49.647489Z",
     "shell.execute_reply": "2022-11-30T19:59:49.646967Z"
    }
   },
   "outputs": [],
   "source": [
    "# Create the model and data, here with the data object just created inside the call for the model\n",
    "# The data is always accessible directly as model.data\n",
    "order = orders[-1]\n",
    "xem_dep = xtrap.beta.factory_extrapmodel(\n",
    "    beta=beta_ref,\n",
    "    data=xtrap.DataCentralMomentsVals.from_vals(\n",
    "        uv=udata,\n",
    "        xv=xdataDepend,\n",
    "        # by specifying deriv dimension, trigger doing coef calculation with explicit derivatives\n",
    "        deriv_dim=\"deriv\",\n",
    "        order=orders[-1],\n",
    "        central=True,\n",
    "    ),\n",
    ")"
   ]
  },
  {
   "cell_type": "code",
   "execution_count": 5,
   "id": "53a58e76",
   "metadata": {
    "execution": {
     "iopub.execute_input": "2022-11-30T19:59:49.650630Z",
     "iopub.status.busy": "2022-11-30T19:59:49.650406Z",
     "iopub.status.idle": "2022-11-30T19:59:49.903896Z",
     "shell.execute_reply": "2022-11-30T19:59:49.903063Z"
    }
   },
   "outputs": [
    {
     "name": "stdout",
     "output_type": "stream",
     "text": [
      "Model parameters (derivatives):\n",
      "<xarray.DataArray (order: 7)>\n",
      "array([ 9.79322988e-01,  1.58463377e-02, -1.19494816e-02, -1.45649131e-01,\n",
      "        1.36723897e+00,  1.54027135e+01, -3.21967970e+02])\n",
      "Dimensions without coordinates: order\n",
      "\n",
      "\n",
      "Model predictions:\n",
      "<xarray.DataArray (beta: 4)>\n",
      "array([0.71143222, 0.75072278, 0.78702597, 0.82034179])\n",
      "Coordinates:\n",
      "  * beta     (beta) float64 0.1 0.6 1.1 1.6\n",
      "    dalpha   (beta) float64 -5.5 -5.0 -4.5 -4.0\n",
      "    beta0    float64 5.6\n",
      "\n",
      "\n"
     ]
    }
   ],
   "source": [
    "# Check the derivatives\n",
    "print(\"Model parameters (derivatives):\")\n",
    "print(xem_dep.derivs(norm=False))\n",
    "print(\"\\n\")\n",
    "\n",
    "# Finally, look at predictions\n",
    "print(\"Model predictions:\")\n",
    "print(xem_dep.predict(betas[:4], order=2))\n",
    "print(\"\\n\")"
   ]
  },
  {
   "cell_type": "code",
   "execution_count": 6,
   "id": "a20e2bf9",
   "metadata": {
    "execution": {
     "iopub.execute_input": "2022-11-30T19:59:49.907389Z",
     "iopub.status.busy": "2022-11-30T19:59:49.907141Z",
     "iopub.status.idle": "2022-11-30T19:59:51.629509Z",
     "shell.execute_reply": "2022-11-30T19:59:51.628703Z"
    }
   },
   "outputs": [
    {
     "name": "stdout",
     "output_type": "stream",
     "text": [
      "Bootstrapped uncertainties in predictions:\n"
     ]
    },
    {
     "name": "stderr",
     "output_type": "stream",
     "text": [
      "OMP: Info #276: omp_set_nested routine deprecated, please use omp_set_max_active_levels instead.\n"
     ]
    },
    {
     "name": "stdout",
     "output_type": "stream",
     "text": [
      "<xarray.DataArray (beta: 4)>\n",
      "array([0.10766775, 0.08899443, 0.07209948, 0.05698289])\n",
      "Coordinates:\n",
      "  * beta     (beta) float64 0.1 0.6 1.1 1.6\n",
      "    dalpha   (beta) float64 -5.5 -5.0 -4.5 -4.0\n",
      "    beta0    float64 5.6\n"
     ]
    }
   ],
   "source": [
    "# And bootstrapped uncertainties\n",
    "print(\"Bootstrapped uncertainties in predictions:\")\n",
    "print(xem_dep.resample(nrep=100, parallel=True).predict(betas[:4], order=2).std(\"rep\"))"
   ]
  },
  {
   "cell_type": "code",
   "execution_count": 7,
   "id": "9282a13a",
   "metadata": {
    "execution": {
     "iopub.execute_input": "2022-11-30T19:59:51.634047Z",
     "iopub.status.busy": "2022-11-30T19:59:51.633545Z",
     "iopub.status.idle": "2022-11-30T19:59:53.154473Z",
     "shell.execute_reply": "2022-11-30T19:59:53.153970Z"
    }
   },
   "outputs": [
    {
     "name": "stdout",
     "output_type": "stream",
     "text": [
      "True extrapolation coefficients: [ 9.79215103e-01  1.71504528e-02 -1.35661750e-02  1.00692980e-02\n",
      " -6.72191329e-03  3.62437174e-03 -9.32132566e-04]\n",
      "\t With N_configs =     10: [ 9.69727512e-01  4.85146590e-02  2.42737086e-01 -1.69575232e-01\n",
      " -2.16649696e+01  4.13308252e+02  6.17495722e+01]\n",
      "\t With N_configs =    100: [ 9.73922186e-01  5.85809390e-03 -2.32349981e-01  2.24384269e+00\n",
      "  1.40838867e+01 -1.30735074e+02 -1.84803995e+03]\n",
      "\t With N_configs =   1000: [ 9.80214450e-01  1.92751444e-02 -5.49861651e-04 -1.42891115e-01\n",
      "  8.72988255e+00  3.04758223e+01 -1.45695553e+03]\n",
      "\t With N_configs =  10000: [ 9.79167740e-01  1.54851468e-02 -3.91490263e-02  3.42751209e-01\n",
      " -1.78126979e-01  2.79116857e+01  1.93809763e+02]\n",
      "\t With N_configs = 100000: [ 9.79322988e-01  1.58463377e-02 -1.19494816e-02 -1.45649131e-01\n",
      "  1.36723897e+00  1.54027135e+01 -3.21967970e+02]\n"
     ]
    },
    {
     "data": {
      "image/png": "[encoded data removed]",
      "text/plain": [
       "<Figure size 640x480 with 4 Axes>"
      ]
     },
     "metadata": {},
     "output_type": "display_data"
    }
   ],
   "source": [
    "fig, ax = plt.subplots(len(orders), sharex=True, sharey=True)\n",
    "\n",
    "nsampvals = np.array((10.0 * np.ones(5)) ** np.arange(1, 6), dtype=int)\n",
    "nsampcolors = plt.cm.viridis(np.arange(0.0, 1.0, float(1.0 / len(nsampvals))))\n",
    "\n",
    "# First plot the analytical result\n",
    "for a in ax:\n",
    "    a.plot(betas, betas * idealgas.x_ave(betas, vol), \"k--\", linewidth=2.0)\n",
    "\n",
    "# Next look at extrapolation with an infinite number of samples\n",
    "# This is possible in the ideal gas model in both temperature and volume\n",
    "for j, o in enumerate(orders):\n",
    "    trueExtrap, trueDerivs = idealgas.x_beta_extrap_depend(o, beta_ref, betas, vol)\n",
    "    ax[j].plot(betas, trueExtrap, \"r-\", zorder=0)\n",
    "    if j == len(orders) - 1:\n",
    "        print(\"True extrapolation coefficients: {}\".format(trueDerivs))\n",
    "\n",
    "for i, n in enumerate(nsampvals):\n",
    "    thisinds = np.random.choice(len(xdata), size=n, replace=False)\n",
    "\n",
    "    # Get parameters for extrapolation model with this data by training it - the parameters are the derivatives\n",
    "    xem_dep = xtrap.beta.factory_extrapmodel(\n",
    "        beta=beta_ref,\n",
    "        xalpha=True,\n",
    "        data=xtrap.DataCentralMomentsVals.from_vals(\n",
    "            uv=udata[thisinds],\n",
    "            xv=xdataDepend.sel(rec=thisinds),\n",
    "            deriv_dim=\"deriv\",\n",
    "            central=True,\n",
    "            order=order,\n",
    "        ),\n",
    "    )\n",
    "\n",
    "    out = xem_dep.predict(betas, cumsum=True)\n",
    "    print(\n",
    "        \"\\t With N_configs = {:6}: {}\".format(\n",
    "            n, xem_dep.derivs(norm=False).values.flatten()\n",
    "        )\n",
    "    )\n",
    "    for j, o in enumerate(orders):\n",
    "        out.sel(order=o).plot(\n",
    "            marker=\"s\",\n",
    "            ms=4,\n",
    "            color=nsampcolors[i],\n",
    "            ls=\"None\",\n",
    "            label=\"N={}\".format(n),\n",
    "            ax=ax[j],\n",
    "        )\n",
    "\n",
    "ax[2].set_ylabel(r\"$\\langle \\beta x \\rangle$\")\n",
    "ax[-1].set_xlabel(r\"$\\beta$\")\n",
    "\n",
    "for j, o in enumerate(orders):\n",
    "    ax[j].annotate(\"O(%i) Extrapolation\" % (o), xy=(0.4, 0.7), xycoords=\"axes fraction\")\n",
    "\n",
    "ax[-1].set_ylim((0.0, 2.0))\n",
    "ax[-1].yaxis.set_major_locator(mpl.ticker.MaxNLocator(nbins=4, prune=\"both\"))\n",
    "\n",
    "fig.tight_layout()\n",
    "fig.subplots_adjust(hspace=0.0)\n",
    "\n",
    "for a in ax:\n",
    "    a.set_title(None)\n",
    "\n",
    "plt.show()"
   ]
  },
  {
   "cell_type": "markdown",
   "id": "132c7e9b",
   "metadata": {},
   "source": [
    "In each of the figures, the true behavior is shown as a black dashed line, the analytical result (infinite sampling) for each order of extrapolation is shown as a red solid line and the results with 10, 100, 1000, ... 100000 randomly sampled configurations are shown with purple (fewer samples) to green (more samples) circles. For higher order extrapolation, the analytical, infinite sampling result matches very closely with the true temperature dependence of $\\langle x \\rangle$. However, the finite-sampling results are in practice very poor due to difficulties in accurately estimating the higher-order moments of the potential energy distribution. The higher orders are actually quite accurate (if you try zooming in) close to the point we're extrapolating from, but the error grows very quickly as we move further away."
   ]
  },
  {
   "cell_type": "code",
   "execution_count": null,
   "id": "cbd8009f",
   "metadata": {},
   "outputs": [],
   "source": []
  }
 ],
 "metadata": {
  "hide_input": false,
  "kernelspec": {
   "display_name": "Python [conda env:thermoextrap-env]",
   "language": "python",
   "name": "conda-env-thermoextrap-env-py"
  },
  "language_info": {
   "codemirror_mode": {
    "name": "ipython",
    "version": 3
   },
   "file_extension": ".py",
   "mimetype": "text/x-python",
   "name": "python",
   "nbconvert_exporter": "python",
   "pygments_lexer": "ipython3",
   "version": "3.10.8"
  },
  "toc": {
   "base_numbering": 1,
   "nav_menu": {},
   "number_sections": true,
   "sideBar": true,
   "skip_h1_title": false,
   "title_cell": "Table of Contents",
   "title_sidebar": "Contents",
   "toc_cell": false,
   "toc_position": {},
   "toc_section_display": true,
   "toc_window_display": false
  }
 },
 "nbformat": 4,
 "nbformat_minor": 5
}
