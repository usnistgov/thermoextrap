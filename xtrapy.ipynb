{
 "cells": [
  {
   "cell_type": "code",
   "execution_count": 2,
   "metadata": {},
   "outputs": [],
   "source": [
    "%matplotlib inline\n",
    "import numpy as np\n",
    "import matplotlib.pyplot as plt\n",
    "import matplotlib as mpl\n",
    "from thermoextrap import *\n",
    "import thermoextrap\n"
   ]
  },
  {
   "cell_type": "code",
   "execution_count": 3,
   "metadata": {},
   "outputs": [],
   "source": [
    "# xtrapy stuff:\n",
    "# note, just using single module right now.  Can retinker\n",
    "import thermoextrap.xtrapy.core as core\n",
    "import xarray as xr"
   ]
  },
  {
   "cell_type": "code",
   "execution_count": 4,
   "metadata": {},
   "outputs": [],
   "source": [
    "from importlib import reload"
   ]
  },
  {
   "cell_type": "code",
   "execution_count": 6,
   "metadata": {},
   "outputs": [],
   "source": [
    "order = 6\n",
    "fs = [thermoextrap.symDerivAvgX(i) for i in range(order+1)]"
   ]
  },
  {
   "cell_type": "code",
   "execution_count": 733,
   "metadata": {},
   "outputs": [],
   "source": [
    "# test Data\n",
    "# samples\n",
    "n = int(1e5)\n",
    "# number of x values\n",
    "nv = 5\n",
    "\n",
    "_u_offset = 0.0\n",
    "_x_offset = 0.0\n",
    "\n",
    "\n",
    "np.random.seed(0)\n",
    "u = np.random.rand(n) + _u_offset\n",
    "x = np.random.rand(n, nv) + _x_offset\n",
    "\n",
    "# second set, to testing\n",
    "ub = np.random.rand(n) + _u_offset\n",
    "xb = np.random.rand(n, nv) + _x_offset"
   ]
  },
  {
   "cell_type": "markdown",
   "metadata": {},
   "source": [
    "# comparison of xtrapy"
   ]
  },
  {
   "cell_type": "markdown",
   "metadata": {},
   "source": [
    "## Data averages"
   ]
  },
  {
   "cell_type": "code",
   "execution_count": 734,
   "metadata": {},
   "outputs": [],
   "source": [
    "# Test \"coefs\"\n",
    "ufunc, xufunc = thermoextrap.buildAvgFuncs(x, u, order)\n",
    "coefs_list = [fs[i](ufunc, xufunc) for i in range(order+1)]"
   ]
  },
  {
   "cell_type": "code",
   "execution_count": 735,
   "metadata": {},
   "outputs": [],
   "source": [
    "# coefficient class handler\n",
    "# raw moments\n",
    "\n",
    "# coefficient builder\n",
    "s = core.factory_coefs()\n",
    "# data object\n",
    "data = core.factory_data(u, x, order=order, chunk=1000)"
   ]
  },
  {
   "cell_type": "code",
   "execution_count": 736,
   "metadata": {},
   "outputs": [
    {
     "name": "stdout",
     "output_type": "stream",
     "text": [
      "<xarray.DataArray 'u' (moment: 5)>\n",
      "array([0.00000000e+00, 0.00000000e+00, 0.00000000e+00, 0.00000000e+00,\n",
      "       5.55111512e-17])\n",
      "Dimensions without coordinates: moment\n",
      "<xarray.DataArray 'x' (moment: 5, val: 5)>\n",
      "array([[ 1.11022302e-15,  6.66133815e-16, -3.33066907e-16,\n",
      "         6.77236045e-15, -4.77395901e-15],\n",
      "       [-1.49880108e-15, -3.88578059e-16,  0.00000000e+00,\n",
      "        -5.55111512e-17, -1.27675648e-15],\n",
      "       [ 2.77555756e-17, -1.99840144e-15,  1.44328993e-15,\n",
      "         1.05471187e-15,  2.49800181e-16],\n",
      "       [ 4.71844785e-16,  9.43689571e-16,  1.44328993e-15,\n",
      "         1.80411242e-16, -7.21644966e-16],\n",
      "       [ 1.66533454e-15, -1.04083409e-15,  1.33226763e-15,\n",
      "        -7.63278329e-16,  1.98452366e-15]])\n",
      "Dimensions without coordinates: moment, val\n"
     ]
    }
   ],
   "source": [
    "# Note very slight difference in averages.\n",
    "# this is due to numerics\n",
    "print(data.u - [ufunc(i) for i in range(order+1)])\n",
    "print(data.xu - [xufunc(i) for i in range(order+1)])"
   ]
  },
  {
   "cell_type": "markdown",
   "metadata": {},
   "source": [
    "## coefficients of expansion"
   ]
  },
  {
   "cell_type": "code",
   "execution_count": 737,
   "metadata": {},
   "outputs": [
    {
     "data": {
      "text/html": [
       "<pre>&lt;xarray.DataArray &#x27;x&#x27; (order: 5, val: 5)&gt;\n",
       "array([[ 5.00410649e-01,  4.98995550e-01,  5.00381858e-01,\n",
       "         4.99126019e-01,  5.01151890e-01],\n",
       "       [-1.34997699e-04,  1.13607821e-04, -2.03796624e-04,\n",
       "        -5.34078264e-06, -1.10735336e-04],\n",
       "       [-2.20835067e-06,  3.23344629e-05, -1.00746807e-05,\n",
       "        -5.62857597e-05,  3.46399234e-05],\n",
       "       [ 2.53920723e-05, -2.83855528e-05,  2.77531114e-05,\n",
       "        -4.71421307e-05,  3.10969286e-05],\n",
       "       [-5.30174199e-06, -1.05343641e-05,  6.58390419e-06,\n",
       "         2.21207532e-05, -9.60663726e-06]])\n",
       "Dimensions without coordinates: order, val</pre>"
      ],
      "text/plain": [
       "<xarray.DataArray 'x' (order: 5, val: 5)>\n",
       "array([[ 5.00410649e-01,  4.98995550e-01,  5.00381858e-01,\n",
       "         4.99126019e-01,  5.01151890e-01],\n",
       "       [-1.34997699e-04,  1.13607821e-04, -2.03796624e-04,\n",
       "        -5.34078264e-06, -1.10735336e-04],\n",
       "       [-2.20835067e-06,  3.23344629e-05, -1.00746807e-05,\n",
       "        -5.62857597e-05,  3.46399234e-05],\n",
       "       [ 2.53920723e-05, -2.83855528e-05,  2.77531114e-05,\n",
       "        -4.71421307e-05,  3.10969286e-05],\n",
       "       [-5.30174199e-06, -1.05343641e-05,  6.58390419e-06,\n",
       "         2.21207532e-05, -9.60663726e-06]])\n",
       "Dimensions without coordinates: order, val"
      ]
     },
     "execution_count": 737,
     "metadata": {},
     "output_type": "execute_result"
    }
   ],
   "source": [
    "# norm = True, include 1/ n!  factor\n",
    "# if want straight coeffs, use norm=False\n",
    "c = s.xcoefs(data, norm=False) \n",
    "c"
   ]
  },
  {
   "cell_type": "code",
   "execution_count": 738,
   "metadata": {},
   "outputs": [],
   "source": [
    "# test equal to old way\n",
    "np.testing.assert_allclose(c, coefs_list, rtol=1e-5)"
   ]
  },
  {
   "cell_type": "code",
   "execution_count": 739,
   "metadata": {},
   "outputs": [
    {
     "data": {
      "text/html": [
       "<pre>&lt;xarray.DataArray &#x27;x&#x27; (order: 5, val: 5)&gt;\n",
       "array([[ 5.00410649e-01,  4.98995550e-01,  5.00381858e-01,\n",
       "         4.99126019e-01,  5.01151890e-01],\n",
       "       [-1.34997699e-04,  1.13607821e-04, -2.03796624e-04,\n",
       "        -5.34078264e-06, -1.10735336e-04],\n",
       "       [-2.20835067e-06,  3.23344629e-05, -1.00746807e-05,\n",
       "        -5.62857597e-05,  3.46399234e-05],\n",
       "       [ 2.53920723e-05, -2.83855528e-05,  2.77531114e-05,\n",
       "        -4.71421307e-05,  3.10969286e-05],\n",
       "       [-5.30174199e-06, -1.05343641e-05,  6.58390419e-06,\n",
       "         2.21207532e-05, -9.60663726e-06]])\n",
       "Dimensions without coordinates: order, val</pre>"
      ],
      "text/plain": [
       "<xarray.DataArray 'x' (order: 5, val: 5)>\n",
       "array([[ 5.00410649e-01,  4.98995550e-01,  5.00381858e-01,\n",
       "         4.99126019e-01,  5.01151890e-01],\n",
       "       [-1.34997699e-04,  1.13607821e-04, -2.03796624e-04,\n",
       "        -5.34078264e-06, -1.10735336e-04],\n",
       "       [-2.20835067e-06,  3.23344629e-05, -1.00746807e-05,\n",
       "        -5.62857597e-05,  3.46399234e-05],\n",
       "       [ 2.53920723e-05, -2.83855528e-05,  2.77531114e-05,\n",
       "        -4.71421307e-05,  3.10969286e-05],\n",
       "       [-5.30174199e-06, -1.05343641e-05,  6.58390419e-06,\n",
       "         2.21207532e-05, -9.60663726e-06]])\n",
       "Dimensions without coordinates: order, val"
      ]
     },
     "execution_count": 739,
     "metadata": {},
     "output_type": "execute_result"
    }
   ],
   "source": [
    "# instead, can use central moments\n",
    "s_c = core.factory_coefs(central=True)\n",
    "data_c = core.factory_data(u, x, order=order, central=True)\n",
    "\n",
    "c_c = s_c.xcoefs(data_c, norm=False)\n",
    "c_c"
   ]
  },
  {
   "cell_type": "code",
   "execution_count": 746,
   "metadata": {},
   "outputs": [],
   "source": [
    "# test close\n",
    "np.testing.assert_allclose(s.xcoefs(data), sc.xcoefs(data_c))"
   ]
  },
  {
   "cell_type": "markdown",
   "metadata": {},
   "source": [
    "# nice-ness of central moments"
   ]
  },
  {
   "cell_type": "code",
   "execution_count": 747,
   "metadata": {},
   "outputs": [
    {
     "name": "stdout",
     "output_type": "stream",
     "text": [
      "0: xu[0]\n",
      "1: u[1]*xu[0] - xu[1]\n",
      "2: 2*u[1]**2*xu[0] - 2*u[1]*xu[1] - u[2]*xu[0] + xu[2]\n",
      "3: 6*u[1]**3*xu[0] - 6*u[1]**2*xu[1] - 6*u[1]*u[2]*xu[0] + 3*u[1]*xu[2] + 3*u[2]*xu[1] + u[3]*xu[0] - xu[3]\n",
      "4: 24*u[1]**4*xu[0] - 24*u[1]**3*xu[1] - 36*u[1]**2*u[2]*xu[0] + 12*u[1]**2*xu[2] + 24*u[1]*u[2]*xu[1] + 8*u[1]*u[3]*xu[0] - 4*u[1]*xu[3] + 6*u[2]**2*xu[0] - 6*u[2]*xu[2] - 4*u[3]*xu[1] - u[4]*xu[0] + xu[4]\n"
     ]
    }
   ],
   "source": [
    "# coeffs using raw moments u[i], xu[i]\n",
    "for i in range(order+1):\n",
    "    print('{}: {}'.format(i, s.exprs[i]))"
   ]
  },
  {
   "cell_type": "code",
   "execution_count": 748,
   "metadata": {},
   "outputs": [
    {
     "name": "stdout",
     "output_type": "stream",
     "text": [
      "0: x1\n",
      "1: -dxdu[1]\n",
      "2: dxdu[2]\n",
      "3: 3*du[2]*dxdu[1] - dxdu[3]\n",
      "4: -6*du[2]*dxdu[2] - 4*du[3]*dxdu[1] + dxdu[4]\n"
     ]
    }
   ],
   "source": [
    "# coeffs using central moments du[i] = <(u-<u>)**i> \n",
    "\n",
    "for i in range(order+1):\n",
    "    print('{}: {}'.format(i, s_c.exprs[i]))"
   ]
  },
  {
   "cell_type": "code",
   "execution_count": 749,
   "metadata": {},
   "outputs": [],
   "source": [
    "# so not only are central moments more stable, the resulting expressions\n",
    "# are way simplier!"
   ]
  },
  {
   "cell_type": "markdown",
   "metadata": {},
   "source": [
    "# taking advantage of xarray"
   ]
  },
  {
   "cell_type": "code",
   "execution_count": 754,
   "metadata": {},
   "outputs": [],
   "source": [
    "# make a dataset of two values:\n",
    "\n",
    "x_set = xr.merge((core.xrwrap_xv(xx, name=name) \n",
    "                  for xx, name in zip([x, xb], ['a','b'])))\n",
    "x_set\n",
    "\n",
    "data_set = core.factory_data(u, x_set, order)\n",
    "data_set_c = core.factory_data(u, x_set, order, central=True)\n",
    "\n",
    "\n",
    "# need \"other\" x for comparison\n",
    "datab = core.factory_data(u, xb, order)\n",
    "datab_c = core.factory_data(u, xb, order, central=True)"
   ]
  },
  {
   "cell_type": "code",
   "execution_count": 755,
   "metadata": {},
   "outputs": [
    {
     "name": "stdout",
     "output_type": "stream",
     "text": [
      "<xarray.Dataset>\n",
      "Dimensions:  (rec: 100000, val: 5)\n",
      "Dimensions without coordinates: rec, val\n",
      "Data variables:\n",
      "    a        (rec, val) float64 0.5353 0.904 0.5024 ... 0.7553 0.2138 0.7261\n",
      "    b        (rec, val) float64 0.6237 0.1782 0.2007 ... 0.08856 0.0782 0.4235\n",
      "<xarray.Dataset>\n",
      "Dimensions:  (moment: 5, val: 5)\n",
      "Dimensions without coordinates: moment, val\n",
      "Data variables:\n",
      "    a        (moment, val) float64 0.5004 0.499 0.5004 ... 0.1002 0.0998 0.1003\n",
      "    b        (moment, val) float64 0.5001 0.5015 0.5001 ... 0.1002 0.0998 0.1\n"
     ]
    }
   ],
   "source": [
    "# note that data_set has multiple measurements in it.  Very nice...\n",
    "print(data_set.xv)\n",
    "print(data_set.xu)"
   ]
  },
  {
   "cell_type": "code",
   "execution_count": 756,
   "metadata": {},
   "outputs": [],
   "source": [
    "ufuncb, xufuncb = thermoextrap.buildAvgFuncs(xb, u, order)\n",
    "coefs_listb = [fs[i](ufuncb, xufuncb) for i in range(order+1)]"
   ]
  },
  {
   "cell_type": "code",
   "execution_count": 757,
   "metadata": {},
   "outputs": [],
   "source": [
    "# make sure have same value\n",
    "np.testing.assert_allclose(s.xcoefs(datab,  norm=False), coefs_listb)"
   ]
  },
  {
   "cell_type": "code",
   "execution_count": 758,
   "metadata": {},
   "outputs": [
    {
     "data": {
      "text/html": [
       "<pre>&lt;xarray.Dataset&gt;\n",
       "Dimensions:  (order: 5, val: 5)\n",
       "Dimensions without coordinates: order, val\n",
       "Data variables:\n",
       "    a        (order, val) float64 0.5004 0.499 0.5004 ... 2.212e-05 -9.607e-06\n",
       "    b        (order, val) float64 0.5001 0.5015 0.5001 ... 5.034e-06 -1.317e-05</pre>"
      ],
      "text/plain": [
       "<xarray.Dataset>\n",
       "Dimensions:  (order: 5, val: 5)\n",
       "Dimensions without coordinates: order, val\n",
       "Data variables:\n",
       "    a        (order, val) float64 0.5004 0.499 0.5004 ... 2.212e-05 -9.607e-06\n",
       "    b        (order, val) float64 0.5001 0.5015 0.5001 ... 5.034e-06 -1.317e-05"
      ]
     },
     "execution_count": 758,
     "metadata": {},
     "output_type": "execute_result"
    }
   ],
   "source": [
    "# consider dataset\n",
    "c_set = s.xcoefs(data_set, norm=False)\n",
    "c_set"
   ]
  },
  {
   "cell_type": "code",
   "execution_count": 759,
   "metadata": {},
   "outputs": [],
   "source": [
    "# testing\n",
    "cb = s.xcoefs(datab, norm=False)\n",
    "np.testing.assert_allclose(c_set.a, c)\n",
    "np.testing.assert_allclose(c_set.b, cb)"
   ]
  },
  {
   "cell_type": "code",
   "execution_count": 760,
   "metadata": {},
   "outputs": [],
   "source": [
    "# central\n",
    "c_set_c = s_c.xcoefs(data_set_c, norm=False)\n",
    "# test\n",
    "xr.testing.assert_allclose(c_set, c_set_c)"
   ]
  },
  {
   "cell_type": "markdown",
   "metadata": {},
   "source": [
    "# resampling"
   ]
  },
  {
   "cell_type": "code",
   "execution_count": 761,
   "metadata": {},
   "outputs": [
    {
     "data": {
      "text/html": [
       "<pre>&lt;xarray.DataArray &#x27;u&#x27; (moment: 5, rep: 10)&gt;\n",
       "array([[1.        , 1.        , 1.        , 1.        , 1.        ,\n",
       "        1.        , 1.        , 1.        , 1.        , 1.        ],\n",
       "       [0.50010684, 0.49964365, 0.49834588, 0.49995062, 0.50089883,\n",
       "        0.49890858, 0.50064861, 0.49993096, 0.498588  , 0.50043063],\n",
       "       [0.3338034 , 0.33315953, 0.33196643, 0.33397058, 0.3344147 ,\n",
       "        0.3325299 , 0.33430399, 0.33355302, 0.33218533, 0.33375627],\n",
       "       [0.25067365, 0.25006705, 0.2487919 , 0.2509836 , 0.25106604,\n",
       "        0.24953805, 0.2511051 , 0.25039425, 0.24909806, 0.25041308],\n",
       "       [0.20076379, 0.20027508, 0.19886161, 0.20113612, 0.20101023,\n",
       "        0.19979342, 0.20110628, 0.20047781, 0.19925382, 0.20039194]])\n",
       "Dimensions without coordinates: moment, rep</pre>"
      ],
      "text/plain": [
       "<xarray.DataArray 'u' (moment: 5, rep: 10)>\n",
       "array([[1.        , 1.        , 1.        , 1.        , 1.        ,\n",
       "        1.        , 1.        , 1.        , 1.        , 1.        ],\n",
       "       [0.50010684, 0.49964365, 0.49834588, 0.49995062, 0.50089883,\n",
       "        0.49890858, 0.50064861, 0.49993096, 0.498588  , 0.50043063],\n",
       "       [0.3338034 , 0.33315953, 0.33196643, 0.33397058, 0.3344147 ,\n",
       "        0.3325299 , 0.33430399, 0.33355302, 0.33218533, 0.33375627],\n",
       "       [0.25067365, 0.25006705, 0.2487919 , 0.2509836 , 0.25106604,\n",
       "        0.24953805, 0.2511051 , 0.25039425, 0.24909806, 0.25041308],\n",
       "       [0.20076379, 0.20027508, 0.19886161, 0.20113612, 0.20101023,\n",
       "        0.19979342, 0.20110628, 0.20047781, 0.19925382, 0.20039194]])\n",
       "Dimensions without coordinates: moment, rep"
      ]
     },
     "execution_count": 761,
     "metadata": {},
     "output_type": "execute_result"
    }
   ],
   "source": [
    "# resampling\n",
    "data.resample(10).u"
   ]
  },
  {
   "cell_type": "code",
   "execution_count": 762,
   "metadata": {},
   "outputs": [],
   "source": [
    "# testing resampling:\n",
    "# use same resampler for all\n",
    "idx = core.resample_indicies(len(data), nrep=10)"
   ]
  },
  {
   "cell_type": "code",
   "execution_count": 763,
   "metadata": {},
   "outputs": [],
   "source": [
    "c_r = s.xcoefs(data.resample(nrep=None, idx=idx))\n",
    "cb_r = s.xcoefs(datab.resample(None, idx))\n",
    "cs_r = s.xcoefs(data_set.resample(None, idx))"
   ]
  },
  {
   "cell_type": "code",
   "execution_count": 764,
   "metadata": {},
   "outputs": [],
   "source": [
    "np.testing.assert_allclose(cs_r.a, c_r)\n",
    "np.testing.assert_allclose(cs_r.b, cb_r)"
   ]
  },
  {
   "cell_type": "code",
   "execution_count": 765,
   "metadata": {},
   "outputs": [],
   "source": [
    "# center\n",
    "cs_c_r = s_c.xcoefs(data_set_c.resample(None, idx))"
   ]
  },
  {
   "cell_type": "code",
   "execution_count": 766,
   "metadata": {},
   "outputs": [],
   "source": [
    "xr.testing.assert_allclose(cs_r, cs_c_r)"
   ]
  },
  {
   "cell_type": "markdown",
   "metadata": {},
   "source": [
    "# resampling time and chunking"
   ]
  },
  {
   "cell_type": "code",
   "execution_count": 767,
   "metadata": {},
   "outputs": [],
   "source": [
    "# xarray is built on dask.  I'm no expert, that this speed things up\n",
    "# use chunking to create a dask array of uv, xv"
   ]
  },
  {
   "cell_type": "code",
   "execution_count": 768,
   "metadata": {},
   "outputs": [],
   "source": [
    "idx = core.resample_indicies(len(a), nrep=100)"
   ]
  },
  {
   "cell_type": "code",
   "execution_count": 769,
   "metadata": {},
   "outputs": [],
   "source": [
    "a = core.factory_data(u, x, order, False)\n",
    "# chunk\n",
    "b = core.factory_data(u, x, order, chunk=1000)"
   ]
  },
  {
   "cell_type": "code",
   "execution_count": 770,
   "metadata": {},
   "outputs": [
    {
     "name": "stdout",
     "output_type": "stream",
     "text": [
      "6.05 ms ± 0 ns per loop (mean ± std. dev. of 1 run, 1 loop each)\n"
     ]
    }
   ],
   "source": [
    "%%timeit -n 1 -r 1\n",
    "aa = a.resample(None, idx)\n",
    "aa.u"
   ]
  },
  {
   "cell_type": "code",
   "execution_count": 771,
   "metadata": {},
   "outputs": [
    {
     "name": "stdout",
     "output_type": "stream",
     "text": [
      "89.5 ms ± 0 ns per loop (mean ± std. dev. of 1 run, 1 loop each)\n"
     ]
    }
   ],
   "source": [
    "%%timeit -n 1 -r 1\n",
    "bb = b.resample(None, idx)\n",
    "bb.xu\n",
    "bb.u"
   ]
  },
  {
   "cell_type": "code",
   "execution_count": 772,
   "metadata": {},
   "outputs": [],
   "source": [
    "a = core.factory_data(u, x_set, order, False)\n",
    "# chunk\n",
    "b = core.factory_data(u, x_set, order, chunk=1000)"
   ]
  },
  {
   "cell_type": "code",
   "execution_count": 773,
   "metadata": {},
   "outputs": [
    {
     "name": "stdout",
     "output_type": "stream",
     "text": [
      "10.5 ms ± 0 ns per loop (mean ± std. dev. of 1 run, 1 loop each)\n"
     ]
    }
   ],
   "source": [
    "%%timeit -n 1 -r 1\n",
    "aa = a.resample(None, idx)\n",
    "aa.u"
   ]
  },
  {
   "cell_type": "code",
   "execution_count": 774,
   "metadata": {},
   "outputs": [
    {
     "name": "stdout",
     "output_type": "stream",
     "text": [
      "84.4 ms ± 0 ns per loop (mean ± std. dev. of 1 run, 1 loop each)\n"
     ]
    }
   ],
   "source": [
    "%%timeit -n 1 -r 1\n",
    "bb = b.resample(None, idx)\n",
    "bb.xu\n",
    "bb.u"
   ]
  },
  {
   "cell_type": "code",
   "execution_count": 775,
   "metadata": {},
   "outputs": [],
   "source": [
    "# note you can also chunk on resampling\n",
    "# thise is sometimes faster, because reindexing with idx\n",
    "# can be slow on chunked object"
   ]
  },
  {
   "cell_type": "code",
   "execution_count": 776,
   "metadata": {},
   "outputs": [
    {
     "name": "stdout",
     "output_type": "stream",
     "text": [
      "59 ms ± 0 ns per loop (mean ± std. dev. of 1 run, 1 loop each)\n"
     ]
    }
   ],
   "source": [
    "%%timeit -n 1 -r 1\n",
    "aa = a.resample(None, idx, chunk=1000)\n",
    "aa.u"
   ]
  },
  {
   "cell_type": "markdown",
   "metadata": {},
   "source": [
    "# Extrap model"
   ]
  },
  {
   "cell_type": "code",
   "execution_count": 777,
   "metadata": {},
   "outputs": [
    {
     "data": {
      "text/plain": [
       "<module 'thermoextrap.xtrapy.core' from '/Users/wpk/Documents/python/projects/xtrapy/thermoextrap/xtrapy/core.py'>"
      ]
     },
     "execution_count": 777,
     "metadata": {},
     "output_type": "execute_result"
    }
   ],
   "source": [
    "reload(core)"
   ]
  },
  {
   "cell_type": "code",
   "execution_count": 778,
   "metadata": {},
   "outputs": [],
   "source": [
    "# test Extrap model\n",
    "betas = [0.1, 0.2]\n",
    "ref_beta = 0.0"
   ]
  },
  {
   "cell_type": "code",
   "execution_count": 779,
   "metadata": {},
   "outputs": [],
   "source": [
    "# blank model\n",
    "em = thermoextrap.ExtrapModel(maxOrder=order)"
   ]
  },
  {
   "cell_type": "code",
   "execution_count": 780,
   "metadata": {},
   "outputs": [],
   "source": [
    "params = em.train(ref_beta, xData=x, uData=u, saveParams=True)"
   ]
  },
  {
   "cell_type": "code",
   "execution_count": 781,
   "metadata": {},
   "outputs": [
    {
     "data": {
      "text/plain": [
       "array([[0.50039714, 0.49900707, 0.50036143, 0.4991252 , 0.501141  ],\n",
       "       [0.50038364, 0.49901888, 0.50034093, 0.49912376, 0.50113048]])"
      ]
     },
     "execution_count": 781,
     "metadata": {},
     "output_type": "execute_result"
    }
   ],
   "source": [
    "em.predict(betas, order=3)"
   ]
  },
  {
   "cell_type": "code",
   "execution_count": 782,
   "metadata": {},
   "outputs": [],
   "source": [
    "data = core.factory_data(u, x, order)\n",
    "xem  = core.ExtrapModel(order, 0.0, data)"
   ]
  },
  {
   "cell_type": "code",
   "execution_count": 783,
   "metadata": {},
   "outputs": [
    {
     "data": {
      "text/html": [
       "<pre>&lt;xarray.DataArray (beta: 2, val: 5)&gt;\n",
       "array([[0.50039714, 0.49900707, 0.50036143, 0.4991252 , 0.501141  ],\n",
       "       [0.50038364, 0.49901888, 0.50034093, 0.49912376, 0.50113048]])\n",
       "Coordinates:\n",
       "  * beta     (beta) float64 0.1 0.2\n",
       "    dbeta    (beta) float64 0.1 0.2\n",
       "    beta0    float64 0.0\n",
       "Dimensions without coordinates: val</pre>"
      ],
      "text/plain": [
       "<xarray.DataArray (beta: 2, val: 5)>\n",
       "array([[0.50039714, 0.49900707, 0.50036143, 0.4991252 , 0.501141  ],\n",
       "       [0.50038364, 0.49901888, 0.50034093, 0.49912376, 0.50113048]])\n",
       "Coordinates:\n",
       "  * beta     (beta) float64 0.1 0.2\n",
       "    dbeta    (beta) float64 0.1 0.2\n",
       "    beta0    float64 0.0\n",
       "Dimensions without coordinates: val"
      ]
     },
     "execution_count": 783,
     "metadata": {},
     "output_type": "execute_result"
    }
   ],
   "source": [
    "xem.predict(betas, order=3)"
   ]
  },
  {
   "cell_type": "code",
   "execution_count": 784,
   "metadata": {},
   "outputs": [
    {
     "data": {
      "text/plain": [
       "array([[0.50039714, 0.49900707, 0.50036143, 0.4991252 , 0.501141  ],\n",
       "       [0.50038364, 0.49901888, 0.50034093, 0.49912376, 0.50113048]])"
      ]
     },
     "execution_count": 784,
     "metadata": {},
     "output_type": "execute_result"
    }
   ],
   "source": [
    "em.predict(betas)"
   ]
  },
  {
   "cell_type": "code",
   "execution_count": 785,
   "metadata": {},
   "outputs": [
    {
     "data": {
      "text/html": [
       "<pre>&lt;xarray.DataArray (beta: 2, val: 5)&gt;\n",
       "array([[0.50039714, 0.49900707, 0.50036143, 0.4991252 , 0.501141  ],\n",
       "       [0.50038364, 0.49901888, 0.50034093, 0.49912376, 0.50113048]])\n",
       "Coordinates:\n",
       "  * beta     (beta) float64 0.1 0.2\n",
       "    dbeta    (beta) float64 0.1 0.2\n",
       "    beta0    float64 0.0\n",
       "Dimensions without coordinates: val</pre>"
      ],
      "text/plain": [
       "<xarray.DataArray (beta: 2, val: 5)>\n",
       "array([[0.50039714, 0.49900707, 0.50036143, 0.4991252 , 0.501141  ],\n",
       "       [0.50038364, 0.49901888, 0.50034093, 0.49912376, 0.50113048]])\n",
       "Coordinates:\n",
       "  * beta     (beta) float64 0.1 0.2\n",
       "    dbeta    (beta) float64 0.1 0.2\n",
       "    beta0    float64 0.0\n",
       "Dimensions without coordinates: val"
      ]
     },
     "execution_count": 785,
     "metadata": {},
     "output_type": "execute_result"
    }
   ],
   "source": [
    "xem.predict(betas)"
   ]
  },
  {
   "cell_type": "code",
   "execution_count": 786,
   "metadata": {},
   "outputs": [
    {
     "data": {
      "text/html": [
       "<pre>&lt;xarray.DataArray (beta: 2, val: 5)&gt;\n",
       "array([[0.50039714, 0.49900707, 0.50036143, 0.4991252 , 0.501141  ],\n",
       "       [0.50038364, 0.49901888, 0.50034093, 0.49912376, 0.50113048]])\n",
       "Coordinates:\n",
       "  * beta     (beta) float64 0.1 0.2\n",
       "    dbeta    (beta) float64 0.1 0.2\n",
       "    beta0    float64 0.0\n",
       "Dimensions without coordinates: val</pre>"
      ],
      "text/plain": [
       "<xarray.DataArray (beta: 2, val: 5)>\n",
       "array([[0.50039714, 0.49900707, 0.50036143, 0.4991252 , 0.501141  ],\n",
       "       [0.50038364, 0.49901888, 0.50034093, 0.49912376, 0.50113048]])\n",
       "Coordinates:\n",
       "  * beta     (beta) float64 0.1 0.2\n",
       "    dbeta    (beta) float64 0.1 0.2\n",
       "    beta0    float64 0.0\n",
       "Dimensions without coordinates: val"
      ]
     },
     "execution_count": 786,
     "metadata": {},
     "output_type": "execute_result"
    }
   ],
   "source": [
    "# central, and build from \"from_values\" method\n",
    "xem_c = core.ExtrapModel.from_values(order, ref_beta, u, x, central=True)\n",
    "xem_c.predict(betas)"
   ]
  },
  {
   "cell_type": "code",
   "execution_count": 787,
   "metadata": {},
   "outputs": [
    {
     "data": {
      "text/plain": [
       "array([[0.00111307, 0.00079143, 0.00101329, 0.00103734, 0.00074581],\n",
       "       [0.00111701, 0.00079355, 0.00103067, 0.00104237, 0.00074025]])"
      ]
     },
     "execution_count": 787,
     "metadata": {},
     "output_type": "execute_result"
    }
   ],
   "source": [
    "# resample\n",
    "em.bootstrap(betas, n=20)"
   ]
  },
  {
   "cell_type": "code",
   "execution_count": 788,
   "metadata": {},
   "outputs": [
    {
     "data": {
      "text/html": [
       "<pre>&lt;xarray.DataArray (beta: 2, val: 5)&gt;\n",
       "array([[0.00104353, 0.00095395, 0.00097552, 0.00082557, 0.00086508],\n",
       "       [0.00105106, 0.00095623, 0.00098059, 0.00082624, 0.00087055]])\n",
       "Coordinates:\n",
       "  * beta     (beta) float64 0.1 0.2\n",
       "    dbeta    (beta) float64 0.1 0.2\n",
       "    beta0    float64 0.0\n",
       "Dimensions without coordinates: val</pre>"
      ],
      "text/plain": [
       "<xarray.DataArray (beta: 2, val: 5)>\n",
       "array([[0.00104353, 0.00095395, 0.00097552, 0.00082557, 0.00086508],\n",
       "       [0.00105106, 0.00095623, 0.00098059, 0.00082624, 0.00087055]])\n",
       "Coordinates:\n",
       "  * beta     (beta) float64 0.1 0.2\n",
       "    dbeta    (beta) float64 0.1 0.2\n",
       "    beta0    float64 0.0\n",
       "Dimensions without coordinates: val"
      ]
     },
     "execution_count": 788,
     "metadata": {},
     "output_type": "execute_result"
    }
   ],
   "source": [
    "# resample data\n",
    "xem_r = xem.resample(20)\n",
    "xem_r.predict(betas).std('rep')"
   ]
  },
  {
   "cell_type": "code",
   "execution_count": 789,
   "metadata": {},
   "outputs": [
    {
     "data": {
      "text/html": [
       "<pre>&lt;xarray.DataArray (beta: 2, val: 5)&gt;\n",
       "array([[0.00081788, 0.0007411 , 0.00085632, 0.00087992, 0.00097238],\n",
       "       [0.00082041, 0.00073631, 0.0008515 , 0.00087958, 0.00096736]])\n",
       "Coordinates:\n",
       "  * beta     (beta) float64 0.1 0.2\n",
       "    dbeta    (beta) float64 0.1 0.2\n",
       "    beta0    float64 0.0\n",
       "Dimensions without coordinates: val</pre>"
      ],
      "text/plain": [
       "<xarray.DataArray (beta: 2, val: 5)>\n",
       "array([[0.00081788, 0.0007411 , 0.00085632, 0.00087992, 0.00097238],\n",
       "       [0.00082041, 0.00073631, 0.0008515 , 0.00087958, 0.00096736]])\n",
       "Coordinates:\n",
       "  * beta     (beta) float64 0.1 0.2\n",
       "    dbeta    (beta) float64 0.1 0.2\n",
       "    beta0    float64 0.0\n",
       "Dimensions without coordinates: val"
      ]
     },
     "execution_count": 789,
     "metadata": {},
     "output_type": "execute_result"
    }
   ],
   "source": [
    "xem_c.resample(20).predict(betas).std('rep')"
   ]
  },
  {
   "cell_type": "code",
   "execution_count": 790,
   "metadata": {},
   "outputs": [
    {
     "data": {
      "text/html": [
       "<pre>&lt;xarray.DataArray &#x27;u&#x27; (moment: 5, rep: 20)&gt;\n",
       "array([[1.        , 1.        , 1.        , 1.        , 1.        ,\n",
       "        1.        , 1.        , 1.        , 1.        , 1.        ,\n",
       "        1.        , 1.        , 1.        , 1.        , 1.        ,\n",
       "        1.        , 1.        , 1.        , 1.        , 1.        ],\n",
       "       [0.49925996, 0.5000119 , 0.49909302, 0.49932733, 0.49925094,\n",
       "        0.49944568, 0.49899849, 0.49849991, 0.49958192, 0.50055953,\n",
       "        0.49935111, 0.49929565, 0.50057761, 0.49928787, 0.50071749,\n",
       "        0.49983474, 0.49906571, 0.4977073 , 0.49900416, 0.5001077 ],\n",
       "       [0.33267199, 0.33340699, 0.33264864, 0.33306638, 0.33268818,\n",
       "        0.33296596, 0.3325169 , 0.33186763, 0.33342327, 0.33407845,\n",
       "        0.33331242, 0.33278972, 0.33428724, 0.33283098, 0.33431875,\n",
       "        0.33302842, 0.33286356, 0.33137969, 0.33275704, 0.33371829],\n",
       "       [0.24949024, 0.25008596, 0.24947688, 0.25011645, 0.24945895,\n",
       "        0.24976695, 0.24938343, 0.24874066, 0.25043876, 0.25080683,\n",
       "        0.25038245, 0.24963208, 0.25113833, 0.24961985, 0.25103955,\n",
       "        0.24969219, 0.24991792, 0.24839718, 0.24974709, 0.25036905],\n",
       "       [0.19958867, 0.20008321, 0.19955853, 0.20039077, 0.19952076,\n",
       "        0.19984515, 0.19950042, 0.19891936, 0.20065089, 0.20081669,\n",
       "        0.2005878 , 0.19975414, 0.20122239, 0.19968829, 0.20099436,\n",
       "        0.19971861, 0.20015036, 0.19866248, 0.19994866, 0.20027931]])\n",
       "Dimensions without coordinates: moment, rep</pre>"
      ],
      "text/plain": [
       "<xarray.DataArray 'u' (moment: 5, rep: 20)>\n",
       "array([[1.        , 1.        , 1.        , 1.        , 1.        ,\n",
       "        1.        , 1.        , 1.        , 1.        , 1.        ,\n",
       "        1.        , 1.        , 1.        , 1.        , 1.        ,\n",
       "        1.        , 1.        , 1.        , 1.        , 1.        ],\n",
       "       [0.49925996, 0.5000119 , 0.49909302, 0.49932733, 0.49925094,\n",
       "        0.49944568, 0.49899849, 0.49849991, 0.49958192, 0.50055953,\n",
       "        0.49935111, 0.49929565, 0.50057761, 0.49928787, 0.50071749,\n",
       "        0.49983474, 0.49906571, 0.4977073 , 0.49900416, 0.5001077 ],\n",
       "       [0.33267199, 0.33340699, 0.33264864, 0.33306638, 0.33268818,\n",
       "        0.33296596, 0.3325169 , 0.33186763, 0.33342327, 0.33407845,\n",
       "        0.33331242, 0.33278972, 0.33428724, 0.33283098, 0.33431875,\n",
       "        0.33302842, 0.33286356, 0.33137969, 0.33275704, 0.33371829],\n",
       "       [0.24949024, 0.25008596, 0.24947688, 0.25011645, 0.24945895,\n",
       "        0.24976695, 0.24938343, 0.24874066, 0.25043876, 0.25080683,\n",
       "        0.25038245, 0.24963208, 0.25113833, 0.24961985, 0.25103955,\n",
       "        0.24969219, 0.24991792, 0.24839718, 0.24974709, 0.25036905],\n",
       "       [0.19958867, 0.20008321, 0.19955853, 0.20039077, 0.19952076,\n",
       "        0.19984515, 0.19950042, 0.19891936, 0.20065089, 0.20081669,\n",
       "        0.2005878 , 0.19975414, 0.20122239, 0.19968829, 0.20099436,\n",
       "        0.19971861, 0.20015036, 0.19866248, 0.19994866, 0.20027931]])\n",
       "Dimensions without coordinates: moment, rep"
      ]
     },
     "execution_count": 790,
     "metadata": {},
     "output_type": "execute_result"
    }
   ],
   "source": [
    "# note that xem_r is just an Extrap model with new resampled data\n",
    "xem_r.data.u"
   ]
  },
  {
   "cell_type": "code",
   "execution_count": 791,
   "metadata": {},
   "outputs": [],
   "source": [
    "# testing dataset\n",
    "emb = thermoextrap.ExtrapModel(order, ref_beta, xb, u)"
   ]
  },
  {
   "cell_type": "code",
   "execution_count": 792,
   "metadata": {},
   "outputs": [],
   "source": [
    "xemb = core.ExtrapModel.from_values(order, ref_beta, u, xb, central=True)\n",
    "xem_set = core.ExtrapModel.from_values(order, ref_beta, u, x_set, central=True)"
   ]
  },
  {
   "cell_type": "code",
   "execution_count": 793,
   "metadata": {},
   "outputs": [
    {
     "data": {
      "text/plain": [
       "array([[0.50009022, 0.50147635, 0.50003481, 0.50009276, 0.50039032],\n",
       "       [0.50005316, 0.50150067, 0.50000879, 0.50010606, 0.50040264]])"
      ]
     },
     "execution_count": 793,
     "metadata": {},
     "output_type": "execute_result"
    }
   ],
   "source": [
    "emb.predict(betas)"
   ]
  },
  {
   "cell_type": "code",
   "execution_count": 794,
   "metadata": {},
   "outputs": [
    {
     "data": {
      "text/html": [
       "<pre>&lt;xarray.DataArray (beta: 2, val: 5)&gt;\n",
       "array([[0.50009022, 0.50147635, 0.50003481, 0.50009276, 0.50039032],\n",
       "       [0.50005316, 0.50150067, 0.50000879, 0.50010606, 0.50040264]])\n",
       "Coordinates:\n",
       "  * beta     (beta) float64 0.1 0.2\n",
       "    dbeta    (beta) float64 0.1 0.2\n",
       "    beta0    float64 0.0\n",
       "Dimensions without coordinates: val</pre>"
      ],
      "text/plain": [
       "<xarray.DataArray (beta: 2, val: 5)>\n",
       "array([[0.50009022, 0.50147635, 0.50003481, 0.50009276, 0.50039032],\n",
       "       [0.50005316, 0.50150067, 0.50000879, 0.50010606, 0.50040264]])\n",
       "Coordinates:\n",
       "  * beta     (beta) float64 0.1 0.2\n",
       "    dbeta    (beta) float64 0.1 0.2\n",
       "    beta0    float64 0.0\n",
       "Dimensions without coordinates: val"
      ]
     },
     "execution_count": 794,
     "metadata": {},
     "output_type": "execute_result"
    }
   ],
   "source": [
    "xemb.predict(betas)"
   ]
  },
  {
   "cell_type": "code",
   "execution_count": 795,
   "metadata": {},
   "outputs": [],
   "source": [
    "# testing dataset\n",
    "out = xem.predict(betas)\n",
    "outb = xemb.predict(betas)\n",
    "outs = xem_set.predict(betas)\n",
    "\n",
    "np.testing.assert_allclose(out, outs.a)\n",
    "np.testing.assert_allclose(outb, outs.b)"
   ]
  },
  {
   "cell_type": "code",
   "execution_count": 796,
   "metadata": {},
   "outputs": [],
   "source": [
    "# resampling\n",
    "idx = core.resample_indicies(len(x), 20)\n",
    "\n",
    "out = xem.resample(None, idx).predict(betas)\n",
    "outb = xemb.resample(None, idx).predict(betas)\n",
    "outs = xem_set.resample(None, idx).predict(betas)"
   ]
  },
  {
   "cell_type": "code",
   "execution_count": 797,
   "metadata": {},
   "outputs": [],
   "source": [
    "np.testing.assert_allclose(out, outs.a)\n",
    "np.testing.assert_allclose(outb, outs.b)"
   ]
  },
  {
   "cell_type": "code",
   "execution_count": 798,
   "metadata": {},
   "outputs": [],
   "source": [
    "# resampling much faster with chunking"
   ]
  },
  {
   "cell_type": "code",
   "execution_count": 799,
   "metadata": {},
   "outputs": [
    {
     "name": "stdout",
     "output_type": "stream",
     "text": [
      "2.84 s ± 0 ns per loop (mean ± std. dev. of 1 run, 1 loop each)\n"
     ]
    }
   ],
   "source": [
    "%%timeit -n 1 -r 1\n",
    "em.bootstrap(betas)"
   ]
  },
  {
   "cell_type": "code",
   "execution_count": 800,
   "metadata": {},
   "outputs": [
    {
     "name": "stdout",
     "output_type": "stream",
     "text": [
      "534 ms ± 0 ns per loop (mean ± std. dev. of 1 run, 1 loop each)\n"
     ]
    }
   ],
   "source": [
    "%%timeit -n 1 -r 1\n",
    "xem.resample(20, chunk=1000).predict(betas)"
   ]
  },
  {
   "cell_type": "markdown",
   "metadata": {},
   "source": [
    "# ExtrapWeighted"
   ]
  },
  {
   "cell_type": "code",
   "execution_count": 801,
   "metadata": {},
   "outputs": [],
   "source": [
    "u = np.random.rand(2,n) + 5\n",
    "x = np.random.rand(2,n, nv) + 10\n",
    "xb = np.random.rand(2,n, 5) + 2\n",
    "order = 4"
   ]
  },
  {
   "cell_type": "code",
   "execution_count": 802,
   "metadata": {},
   "outputs": [],
   "source": [
    "beta0 = [0.05, 0.5]\n",
    "betas = [0.1, 0.2, 0.3, 0.4]"
   ]
  },
  {
   "cell_type": "code",
   "execution_count": 803,
   "metadata": {},
   "outputs": [],
   "source": [
    "emw = thermoextrap.ExtrapWeightedModel(order, beta0, x, u)\n",
    "emwB = thermoextrap.ExtrapWeightedModel(order, beta0, xb, u)"
   ]
  },
  {
   "cell_type": "code",
   "execution_count": 804,
   "metadata": {},
   "outputs": [],
   "source": [
    "# for xtrapy, create list of models for each state:\n",
    "\n",
    "# first create datasets for xs\n",
    "xs = [xr.Dataset({'a': core.xrwrap_xv(xx), \n",
    "                  'b': core.xrwrap_xv(xxb)})\n",
    "      for xx, xxb in zip(x, xb)\n",
    "     ]\n",
    "\n",
    "# now crete list of models for each state\n",
    "states = [core.ExtrapModel.from_values(order, b0, uu, xx, central=True)\n",
    "         for b0, uu, xx in zip(beta0, u, xs)]\n",
    "\n",
    "xemw = core.ExtrapWeightedModel(states)"
   ]
  },
  {
   "cell_type": "code",
   "execution_count": 805,
   "metadata": {},
   "outputs": [],
   "source": [
    "states_a = [core.ExtrapModel.from_values(order, b0, uu, xx, central=True)\n",
    "             for b0, uu, xx in zip(beta0, u, x)]\n",
    "xemw_a = core.ExtrapWeightedModel(states_a)\n",
    "\n",
    "idxs = [core.resample_indicies(len(xemw[0].data), 20) for i in range(2)]\n",
    "\n",
    "a = xemw.resample(None, idxs).predict(betas).a\n",
    "b = xemw_a.resample(None, idxs).predict(betas)"
   ]
  },
  {
   "cell_type": "code",
   "execution_count": 505,
   "metadata": {},
   "outputs": [],
   "source": [
    "np.testing.assert_allclose(emw.predict(betas), xemw.predict(betas).a)\n",
    "np.testing.assert_allclose(emwB.predict(betas), xemw.predict(betas).b)"
   ]
  },
  {
   "cell_type": "code",
   "execution_count": 471,
   "metadata": {},
   "outputs": [
    {
     "data": {
      "text/plain": [
       "array([[0.00301384, 0.00346906, 0.00351224, 0.00334989, 0.00269749],\n",
       "       [0.00311001, 0.0035105 , 0.00346592, 0.00335995, 0.00271277],\n",
       "       [0.00217716, 0.00357405, 0.0038071 , 0.00301555, 0.00313651],\n",
       "       [0.00213131, 0.00346612, 0.00363221, 0.00292654, 0.00318416]])"
      ]
     },
     "execution_count": 471,
     "metadata": {},
     "output_type": "execute_result"
    }
   ],
   "source": [
    "emw.bootstrap(betas, n=20)"
   ]
  },
  {
   "cell_type": "code",
   "execution_count": 472,
   "metadata": {},
   "outputs": [
    {
     "data": {
      "text/html": [
       "<pre>&lt;xarray.DataArray &#x27;a&#x27; (beta: 4, val: 5)&gt;\n",
       "array([[0.00329847, 0.00292647, 0.00362234, 0.00347242, 0.00358163],\n",
       "       [0.00336331, 0.00306984, 0.00367236, 0.00343927, 0.00364466],\n",
       "       [0.00184217, 0.00245621, 0.00284135, 0.00342681, 0.00311636],\n",
       "       [0.0017132 , 0.00263358, 0.00279641, 0.0033469 , 0.0030033 ]])\n",
       "Coordinates:\n",
       "  * beta     (beta) float64 0.1 0.2 0.3 0.4\n",
       "Dimensions without coordinates: val</pre>"
      ],
      "text/plain": [
       "<xarray.DataArray 'a' (beta: 4, val: 5)>\n",
       "array([[0.00329847, 0.00292647, 0.00362234, 0.00347242, 0.00358163],\n",
       "       [0.00336331, 0.00306984, 0.00367236, 0.00343927, 0.00364466],\n",
       "       [0.00184217, 0.00245621, 0.00284135, 0.00342681, 0.00311636],\n",
       "       [0.0017132 , 0.00263358, 0.00279641, 0.0033469 , 0.0030033 ]])\n",
       "Coordinates:\n",
       "  * beta     (beta) float64 0.1 0.2 0.3 0.4\n",
       "Dimensions without coordinates: val"
      ]
     },
     "execution_count": 472,
     "metadata": {},
     "output_type": "execute_result"
    }
   ],
   "source": [
    "xemw.resample(20, chunk=1000).predict(betas).std('rep').a"
   ]
  },
  {
   "cell_type": "code",
   "execution_count": 473,
   "metadata": {},
   "outputs": [
    {
     "name": "stdout",
     "output_type": "stream",
     "text": [
      "6.7 s ± 0 ns per loop (mean ± std. dev. of 1 run, 1 loop each)\n"
     ]
    }
   ],
   "source": [
    "%%timeit -n 1 -r 1\n",
    "emw.bootstrap(betas, n=100)"
   ]
  },
  {
   "cell_type": "code",
   "execution_count": 489,
   "metadata": {},
   "outputs": [
    {
     "name": "stdout",
     "output_type": "stream",
     "text": [
      "5.33 s ± 0 ns per loop (mean ± std. dev. of 1 run, 1 loop each)\n"
     ]
    }
   ],
   "source": [
    "%%timeit -n 1 -r 1\n",
    "# note that is is actually doing twice the work\n",
    "# because data includes both x and xb\n",
    "xemw.resample(100).predict(betas).std('rep')"
   ]
  },
  {
   "cell_type": "code",
   "execution_count": 476,
   "metadata": {},
   "outputs": [
    {
     "name": "stdout",
     "output_type": "stream",
     "text": [
      "5.27 s ± 0 ns per loop (mean ± std. dev. of 1 run, 1 loop each)\n"
     ]
    }
   ],
   "source": [
    "%%timeit -n 1 -r 1\n",
    "# note that is is actually doing twice the work\n",
    "# because data includes both x and xb\n",
    "xemw.resample(100, chunk=1000).predict(betas).std('rep')"
   ]
  },
  {
   "cell_type": "code",
   "execution_count": 492,
   "metadata": {},
   "outputs": [
    {
     "name": "stdout",
     "output_type": "stream",
     "text": [
      "24.1 s ± 0 ns per loop (mean ± std. dev. of 1 run, 1 loop each)\n"
     ]
    }
   ],
   "source": [
    "%%timeit -n 1 -r 1\n",
    "# note that is is actually doing twice the work\n",
    "# because data includes both x and xb\n",
    "xemw_a.resample(500).predict(betas).std('rep')"
   ]
  },
  {
   "cell_type": "code",
   "execution_count": 494,
   "metadata": {},
   "outputs": [],
   "source": [
    "from dask.diagnostics import ProgressBar"
   ]
  },
  {
   "cell_type": "code",
   "execution_count": 495,
   "metadata": {},
   "outputs": [
    {
     "name": "stdout",
     "output_type": "stream",
     "text": [
      "[########################################] | 100% Completed |  0.1s\n",
      "[########################################] | 100% Completed |  0.5s\n",
      "[########################################] | 100% Completed |  2.2s\n",
      "[########################################] | 100% Completed |  0.1s\n",
      "[########################################] | 100% Completed |  0.4s\n",
      "[########################################] | 100% Completed |  2.2s\n",
      "17.4 s ± 0 ns per loop (mean ± std. dev. of 1 run, 1 loop each)\n"
     ]
    }
   ],
   "source": [
    "%%timeit -n 1 -r 1\n",
    "# note that is is actually doing twice the work\n",
    "# because data includes both x and xb\n",
    "with ProgressBar():\n",
    "    xemw_a.resample(500, chunk=10000).predict(betas).std('rep')"
   ]
  },
  {
   "cell_type": "markdown",
   "metadata": {},
   "source": [
    "# InterpModel"
   ]
  },
  {
   "cell_type": "code",
   "execution_count": 333,
   "metadata": {},
   "outputs": [],
   "source": [
    "emi = thermoextrap.InterpModel(order, beta0, x, u)\n",
    "emib = thermoextrap.InterpModel(order, beta0, xb, u)"
   ]
  },
  {
   "cell_type": "code",
   "execution_count": 334,
   "metadata": {},
   "outputs": [],
   "source": [
    "xemi = core.InterpModel(states)"
   ]
  },
  {
   "cell_type": "code",
   "execution_count": null,
   "metadata": {},
   "outputs": [],
   "source": [
    "xr.dot()"
   ]
  },
  {
   "cell_type": "code",
   "execution_count": 365,
   "metadata": {},
   "outputs": [
    {
     "data": {
      "text/html": [
       "<pre>&lt;xarray.DataArray &#x27;u&#x27; (state: 2, rec: 100000)&gt;\n",
       "array([[5.46381064, 4.74354628, 4.45497619, ..., 4.18992399, 4.7273566 ,\n",
       "        6.72141556],\n",
       "       [5.14262448, 4.85002216, 3.59665355, ..., 5.28358271, 4.52256091,\n",
       "        5.43806448]])\n",
       "Dimensions without coordinates: state, rec</pre>"
      ],
      "text/plain": [
       "<xarray.DataArray 'u' (state: 2, rec: 100000)>\n",
       "array([[5.46381064, 4.74354628, 4.45497619, ..., 4.18992399, 4.7273566 ,\n",
       "        6.72141556],\n",
       "       [5.14262448, 4.85002216, 3.59665355, ..., 5.28358271, 4.52256091,\n",
       "        5.43806448]])\n",
       "Dimensions without coordinates: state, rec"
      ]
     },
     "execution_count": 365,
     "metadata": {},
     "output_type": "execute_result"
    }
   ],
   "source": [
    "xr.concat([m.data.uv for m in xemi], dim='state')"
   ]
  },
  {
   "cell_type": "code",
   "execution_count": 335,
   "metadata": {},
   "outputs": [],
   "source": [
    "states_b = [core.ExtrapModel.from_values(order, b0, uu, xx, central=True)\n",
    "             for b0, uu, xx in zip(beta0, u, xb)]\n",
    "\n",
    "xemi_a = core.InterpModel(states_a)\n",
    "xemi_b = core.InterpModel(states_b)\n"
   ]
  },
  {
   "cell_type": "code",
   "execution_count": 336,
   "metadata": {},
   "outputs": [],
   "source": [
    "np.testing.assert_allclose(emi.predict(alpha), xemi.predict(alpha).a)\n",
    "np.testing.assert_allclose(emib.predict(alpha), xemi.predict(alpha).b)"
   ]
  },
  {
   "cell_type": "code",
   "execution_count": 342,
   "metadata": {},
   "outputs": [
    {
     "data": {
      "text/plain": [
       "array([[0.00308216, 0.00324151, 0.00310084, 0.00375802, 0.00320159],\n",
       "       [0.00254513, 0.00241886, 0.00227406, 0.00338288, 0.00256168],\n",
       "       [0.00274609, 0.00241118, 0.00170774, 0.0031182 , 0.00239175],\n",
       "       [0.0033331 , 0.00310371, 0.00223361, 0.00322888, 0.00289765]])"
      ]
     },
     "execution_count": 342,
     "metadata": {},
     "output_type": "execute_result"
    }
   ],
   "source": [
    "emi.bootstrap(betas, n=20)"
   ]
  },
  {
   "cell_type": "code",
   "execution_count": 343,
   "metadata": {},
   "outputs": [
    {
     "data": {
      "text/html": [
       "<pre>&lt;xarray.DataArray &#x27;a&#x27; (beta: 4, val: 5)&gt;\n",
       "array([[0.00338439, 0.00252311, 0.00288792, 0.00212064, 0.00346994],\n",
       "       [0.00274625, 0.00190075, 0.00242316, 0.00225618, 0.00277521],\n",
       "       [0.00308341, 0.0017483 , 0.00272029, 0.00295391, 0.00210507],\n",
       "       [0.0038838 , 0.00218725, 0.00336587, 0.00344153, 0.00246762]])\n",
       "Coordinates:\n",
       "  * beta     (beta) float64 0.1 0.2 0.3 0.4\n",
       "Dimensions without coordinates: val</pre>"
      ],
      "text/plain": [
       "<xarray.DataArray 'a' (beta: 4, val: 5)>\n",
       "array([[0.00338439, 0.00252311, 0.00288792, 0.00212064, 0.00346994],\n",
       "       [0.00274625, 0.00190075, 0.00242316, 0.00225618, 0.00277521],\n",
       "       [0.00308341, 0.0017483 , 0.00272029, 0.00295391, 0.00210507],\n",
       "       [0.0038838 , 0.00218725, 0.00336587, 0.00344153, 0.00246762]])\n",
       "Coordinates:\n",
       "  * beta     (beta) float64 0.1 0.2 0.3 0.4\n",
       "Dimensions without coordinates: val"
      ]
     },
     "execution_count": 343,
     "metadata": {},
     "output_type": "execute_result"
    }
   ],
   "source": [
    "xemi.resample(20).predict(betas).std('rep').a"
   ]
  },
  {
   "cell_type": "code",
   "execution_count": 341,
   "metadata": {},
   "outputs": [
    {
     "name": "stdout",
     "output_type": "stream",
     "text": [
      "1.38 s ± 0 ns per loop (mean ± std. dev. of 1 run, 1 loop each)\n"
     ]
    }
   ],
   "source": [
    "%%timeit -n 1 -r 1\n",
    "emi.bootstrap(betas, n=20)"
   ]
  },
  {
   "cell_type": "code",
   "execution_count": 340,
   "metadata": {},
   "outputs": [
    {
     "name": "stdout",
     "output_type": "stream",
     "text": [
      "1.16 s ± 0 ns per loop (mean ± std. dev. of 1 run, 1 loop each)\n"
     ]
    }
   ],
   "source": [
    "%%timeit -n 1 -r 1\n",
    "xemi.resample(20).predict(betas).std('rep').a"
   ]
  },
  {
   "cell_type": "markdown",
   "metadata": {},
   "source": [
    "# MBAR"
   ]
  },
  {
   "cell_type": "code",
   "execution_count": 497,
   "metadata": {},
   "outputs": [],
   "source": [
    "mbar = thermoextrap.MBARModel(refB=beta0, xData=x, uData=u)"
   ]
  },
  {
   "cell_type": "code",
   "execution_count": 510,
   "metadata": {},
   "outputs": [
    {
     "data": {
      "text/plain": [
       "array([[ 9.99983657,  9.99680049,  9.99637782,  9.99784935, 10.0012848 ],\n",
       "       [ 9.99969283,  9.99741583,  9.99637626,  9.99771245, 10.00125331],\n",
       "       [ 9.99950523,  9.99800791,  9.996365  ,  9.99759615, 10.00127627],\n",
       "       [ 9.99926941,  9.99858284,  9.99634027,  9.9974926 , 10.00135092]])"
      ]
     },
     "execution_count": 510,
     "metadata": {},
     "output_type": "execute_result"
    }
   ],
   "source": [
    "mbar.predict(betas)"
   ]
  },
  {
   "cell_type": "code",
   "execution_count": 568,
   "metadata": {},
   "outputs": [
    {
     "data": {
      "text/plain": [
       "<module 'thermoextrap.xtrapy.core' from '/Users/wpk/Documents/python/projects/xtrapy/thermoextrap/xtrapy/core.py'>"
      ]
     },
     "execution_count": 568,
     "metadata": {},
     "output_type": "execute_result"
    }
   ],
   "source": [
    "reload(core)"
   ]
  },
  {
   "cell_type": "code",
   "execution_count": 569,
   "metadata": {},
   "outputs": [],
   "source": [
    "xmbar = core.MBARModel(states_a)"
   ]
  },
  {
   "cell_type": "code",
   "execution_count": 571,
   "metadata": {},
   "outputs": [],
   "source": [
    "out = xmbar.predict(betas)"
   ]
  },
  {
   "cell_type": "code",
   "execution_count": 575,
   "metadata": {},
   "outputs": [
    {
     "data": {
      "text/html": [
       "<pre>&lt;xarray.DataArray (beta: 4, val: 5)&gt;\n",
       "array([[ 9.99983657,  9.99680049,  9.99637782,  9.99784935, 10.0012848 ],\n",
       "       [ 9.99969283,  9.99741583,  9.99637626,  9.99771245, 10.00125331],\n",
       "       [ 9.99950523,  9.99800791,  9.996365  ,  9.99759615, 10.00127627],\n",
       "       [ 9.99926941,  9.99858284,  9.99634027,  9.9974926 , 10.00135092]])\n",
       "Coordinates:\n",
       "  * beta     (beta) float64 0.1 0.2 0.3 0.4\n",
       "Dimensions without coordinates: val</pre>"
      ],
      "text/plain": [
       "<xarray.DataArray (beta: 4, val: 5)>\n",
       "array([[ 9.99983657,  9.99680049,  9.99637782,  9.99784935, 10.0012848 ],\n",
       "       [ 9.99969283,  9.99741583,  9.99637626,  9.99771245, 10.00125331],\n",
       "       [ 9.99950523,  9.99800791,  9.996365  ,  9.99759615, 10.00127627],\n",
       "       [ 9.99926941,  9.99858284,  9.99634027,  9.9974926 , 10.00135092]])\n",
       "Coordinates:\n",
       "  * beta     (beta) float64 0.1 0.2 0.3 0.4\n",
       "Dimensions without coordinates: val"
      ]
     },
     "execution_count": 575,
     "metadata": {},
     "output_type": "execute_result"
    }
   ],
   "source": [
    "out"
   ]
  },
  {
   "cell_type": "code",
   "execution_count": 574,
   "metadata": {},
   "outputs": [],
   "source": [
    "np.testing.assert_allclose(mbar.predict(betas), xmbar.predict(betas))"
   ]
  },
  {
   "cell_type": "code",
   "execution_count": 578,
   "metadata": {},
   "outputs": [],
   "source": [
    "import os"
   ]
  },
  {
   "cell_type": "code",
   "execution_count": 579,
   "metadata": {},
   "outputs": [
    {
     "data": {
      "text/plain": [
       "2138"
      ]
     },
     "execution_count": 579,
     "metadata": {},
     "output_type": "execute_result"
    }
   ],
   "source": [
    "os.getpid()"
   ]
  },
  {
   "cell_type": "markdown",
   "metadata": {},
   "source": [
    "# Perturb"
   ]
  },
  {
   "cell_type": "code",
   "execution_count": 344,
   "metadata": {},
   "outputs": [
    {
     "data": {
      "text/plain": [
       "<module 'thermoextrap.xtrapy.core' from '/Users/wpk/Documents/python/projects/xtrapy/thermoextrap/xtrapy/core.py'>"
      ]
     },
     "execution_count": 344,
     "metadata": {},
     "output_type": "execute_result"
    }
   ],
   "source": [
    "reload(core)"
   ]
  },
  {
   "cell_type": "code",
   "execution_count": 353,
   "metadata": {},
   "outputs": [],
   "source": [
    "beta_ref = 0.5"
   ]
  },
  {
   "cell_type": "code",
   "execution_count": 354,
   "metadata": {},
   "outputs": [],
   "source": [
    "pm = thermoextrap.PerturbModel(beta_ref, x[0], u[0])"
   ]
  },
  {
   "cell_type": "code",
   "execution_count": 355,
   "metadata": {},
   "outputs": [
    {
     "data": {
      "text/plain": [
       "array([[ 9.99896592, 10.00026166, 10.00013016,  9.99888289, 10.00145388],\n",
       "       [ 9.9988368 , 10.00063401, 10.00015292,  9.99878397, 10.00098615]])"
      ]
     },
     "execution_count": 355,
     "metadata": {},
     "output_type": "execute_result"
    }
   ],
   "source": [
    "pm.predict([0.1, 0.2], useMBAR=False)"
   ]
  },
  {
   "cell_type": "code",
   "execution_count": 356,
   "metadata": {},
   "outputs": [],
   "source": [
    "xpm = core.PerturbModel.from_values(beta_ref, u[0], x[0])"
   ]
  },
  {
   "cell_type": "code",
   "execution_count": 357,
   "metadata": {},
   "outputs": [
    {
     "data": {
      "text/html": [
       "<pre>&lt;xarray.DataArray (beta: 2, val: 5)&gt;\n",
       "array([[ 9.99896592, 10.00026166, 10.00013016,  9.99888289, 10.00145388],\n",
       "       [ 9.9988368 , 10.00063401, 10.00015292,  9.99878397, 10.00098615]])\n",
       "Coordinates:\n",
       "  * beta     (beta) float64 0.1 0.2\n",
       "Dimensions without coordinates: val</pre>"
      ],
      "text/plain": [
       "<xarray.DataArray (beta: 2, val: 5)>\n",
       "array([[ 9.99896592, 10.00026166, 10.00013016,  9.99888289, 10.00145388],\n",
       "       [ 9.9988368 , 10.00063401, 10.00015292,  9.99878397, 10.00098615]])\n",
       "Coordinates:\n",
       "  * beta     (beta) float64 0.1 0.2\n",
       "Dimensions without coordinates: val"
      ]
     },
     "execution_count": 357,
     "metadata": {},
     "output_type": "execute_result"
    }
   ],
   "source": [
    "xpm.predict([0.1, 0.2])"
   ]
  },
  {
   "cell_type": "markdown",
   "metadata": {},
   "source": [
    "# log func"
   ]
  },
  {
   "cell_type": "code",
   "execution_count": 1084,
   "metadata": {},
   "outputs": [
    {
     "data": {
      "text/plain": [
       "<module 'thermoextrap.xtrapy.core' from '/Users/wpk/Documents/python/projects/xtrapy/thermoextrap/xtrapy/core.py'>"
      ]
     },
     "execution_count": 1084,
     "metadata": {},
     "output_type": "execute_result"
    }
   ],
   "source": [
    "reload(core)"
   ]
  },
  {
   "cell_type": "code",
   "execution_count": 1088,
   "metadata": {},
   "outputs": [],
   "source": [
    "tt = core._SubsCentralMoments()"
   ]
  },
  {
   "cell_type": "code",
   "execution_count": 1090,
   "metadata": {},
   "outputs": [],
   "source": [
    "s = core.factory_coefs(central=True)"
   ]
  },
  {
   "cell_type": "code",
   "execution_count": 1093,
   "metadata": {},
   "outputs": [
    {
     "data": {
      "text/latex": [
       "$\\displaystyle - 6 {du}_{2} {dxdu}_{2} - 4 {du}_{3} {dxdu}_{1} + {dxdu}_{4}$"
      ],
      "text/plain": [
       "-6*du[2]*dxdu[2] - 4*du[3]*dxdu[1] + dxdu[4]"
      ]
     },
     "execution_count": 1093,
     "metadata": {},
     "output_type": "execute_result"
    }
   ],
   "source": [
    "s.exprs[4]"
   ]
  },
  {
   "cell_type": "code",
   "execution_count": 1089,
   "metadata": {},
   "outputs": [
    {
     "data": {
      "text/plain": [
       "{u[0]: 1,\n",
       " xu[0]: x1,\n",
       " u[1]: u1,\n",
       " xu[1]: u1*x1 + dxdu[1],\n",
       " u[2]: u1**2 + du[2],\n",
       " xu[2]: u1**2*x1 + 2*u1*dxdu[1] + x1*du[2] + dxdu[2]}"
      ]
     },
     "execution_count": 1089,
     "metadata": {},
     "output_type": "execute_result"
    }
   ],
   "source": [
    "tt[2]"
   ]
  },
  {
   "cell_type": "code",
   "execution_count": 1085,
   "metadata": {},
   "outputs": [],
   "source": [
    "t = core._Central_u_dxdu()"
   ]
  },
  {
   "cell_type": "code",
   "execution_count": 1087,
   "metadata": {},
   "outputs": [
    {
     "data": {
      "text/latex": [
       "$\\displaystyle u_{1}^{5} + 10 u_{1}^{3} {du}_{2} + 10 u_{1}^{2} {du}_{3} + 5 u_{1} {du}_{4} + {du}_{5}$"
      ],
      "text/plain": [
       "u1**5 + 10*u1**3*du[2] + 10*u1**2*du[3] + 5*u1*du[4] + du[5]"
      ]
     },
     "execution_count": 1087,
     "metadata": {},
     "output_type": "execute_result"
    }
   ],
   "source": [
    "t[5]"
   ]
  },
  {
   "cell_type": "code",
   "execution_count": 1078,
   "metadata": {},
   "outputs": [],
   "source": [
    "ss = core._SubsCentralMoments()"
   ]
  },
  {
   "cell_type": "code",
   "execution_count": 1079,
   "metadata": {},
   "outputs": [
    {
     "data": {
      "text/plain": [
       "{u[0]: 1,\n",
       " xu[0]: x1,\n",
       " u[1]: u1,\n",
       " xu[1]: u1*x1 + dxdu[1],\n",
       " u[2]: u1**2 + du[2],\n",
       " xu[2]: u1**2*x1 + 2*u1*dxdu[1] + x1*du[2] + dxdu[2],\n",
       " u[3]: u1**3 + 3*u1*du[2] + du[3],\n",
       " xu[3]: u1**3*x1 + 3*u1**2*dxdu[1] + 3*u1*x1*du[2] + 3*u1*dxdu[2] + x1*du[3] + dxdu[3],\n",
       " u[4]: u1**4 + 6*u1**2*du[2] + 4*u1*du[3] + du[4],\n",
       " xu[4]: u1**4*x1 + 4*u1**3*dxdu[1] + 6*u1**2*x1*du[2] + 6*u1**2*dxdu[2] + 4*u1*x1*du[3] + 4*u1*dxdu[3] + x1*du[4] + dxdu[4]}"
      ]
     },
     "execution_count": 1079,
     "metadata": {},
     "output_type": "execute_result"
    }
   ],
   "source": [
    "ss[4]"
   ]
  },
  {
   "cell_type": "code",
   "execution_count": 1060,
   "metadata": {},
   "outputs": [],
   "source": [
    "v = core._SymDeriv()\n",
    "v2 = core._SymDeriv2()\n",
    "\n",
    "s = core.factory_coefs()\n",
    "\n",
    "s2 = core._Subs2()"
   ]
  },
  {
   "cell_type": "code",
   "execution_count": 1073,
   "metadata": {},
   "outputs": [
    {
     "data": {
      "text/plain": [
       "<module 'thermoextrap.xtrapy.core' from '/Users/wpk/Documents/python/projects/xtrapy/thermoextrap/xtrapy/core.py'>"
      ]
     },
     "execution_count": 1073,
     "metadata": {},
     "output_type": "execute_result"
    }
   ],
   "source": [
    "reload(core)"
   ]
  },
  {
   "cell_type": "code",
   "execution_count": 1074,
   "metadata": {},
   "outputs": [],
   "source": [
    "# beta\n",
    "\n",
    "v2 = core._SymDeriv2()\n",
    "s2 = core._Subsxbeta2()"
   ]
  },
  {
   "cell_type": "code",
   "execution_count": 1075,
   "metadata": {},
   "outputs": [],
   "source": [
    "s = core.factory_coefs(xbeta=True)"
   ]
  },
  {
   "cell_type": "code",
   "execution_count": 1076,
   "metadata": {},
   "outputs": [
    {
     "name": "stdout",
     "output_type": "stream",
     "text": [
      "855 ms ± 0 ns per loop (mean ± std. dev. of 1 run, 1 loop each)\n"
     ]
    }
   ],
   "source": [
    "%%timeit -n 1 -r 1\n",
    "s.exprs[6]"
   ]
  },
  {
   "cell_type": "code",
   "execution_count": 1077,
   "metadata": {},
   "outputs": [
    {
     "name": "stdout",
     "output_type": "stream",
     "text": [
      "386 ms ± 0 ns per loop (mean ± std. dev. of 1 run, 1 loop each)\n"
     ]
    }
   ],
   "source": [
    "%%timeit -n 1 -r 1\n",
    "v2[6].subs(s2[6])"
   ]
  },
  {
   "cell_type": "code",
   "execution_count": 1064,
   "metadata": {},
   "outputs": [
    {
     "data": {
      "text/latex": [
       "$\\displaystyle 6 {u}_{1}^{3} {xu}_{0,0} - 6 {u}_{1}^{2} {xu}_{0,1} + 6 {u}_{1}^{2} {xu}_{1,0} - 6 {u}_{1} {u}_{2} {xu}_{0,0} + 3 {u}_{1} {xu}_{0,2} - 6 {u}_{1} {xu}_{1,1} + 3 {u}_{1} {xu}_{2,0} + 3 {u}_{2} {xu}_{0,1} - 3 {u}_{2} {xu}_{1,0} + {u}_{3} {xu}_{0,0} - {xu}_{0,3} + 3 {xu}_{1,2} - 3 {xu}_{2,1} + {xu}_{3,0}$"
      ],
      "text/plain": [
       "6*u[1]**3*xu[0, 0] - 6*u[1]**2*xu[0, 1] + 6*u[1]**2*xu[1, 0] - 6*u[1]*u[2]*xu[0, 0] + 3*u[1]*xu[0, 2] - 6*u[1]*xu[1, 1] + 3*u[1]*xu[2, 0] + 3*u[2]*xu[0, 1] - 3*u[2]*xu[1, 0] + u[3]*xu[0, 0] - xu[0, 3] + 3*xu[1, 2] - 3*xu[2, 1] + xu[3, 0]"
      ]
     },
     "execution_count": 1064,
     "metadata": {},
     "output_type": "execute_result"
    }
   ],
   "source": [
    "s.exprs[3]"
   ]
  },
  {
   "cell_type": "code",
   "execution_count": 1072,
   "metadata": {},
   "outputs": [
    {
     "data": {
      "text/latex": [
       "$\\displaystyle 0$"
      ],
      "text/plain": [
       "0"
      ]
     },
     "execution_count": 1072,
     "metadata": {},
     "output_type": "execute_result"
    }
   ],
   "source": [
    "n = 6\n",
    "(s.exprs[n] - v2[n].subs(s2[n])).simplify()"
   ]
  },
  {
   "cell_type": "code",
   "execution_count": 1058,
   "metadata": {},
   "outputs": [
    {
     "data": {
      "text/latex": [
       "$\\displaystyle 0$"
      ],
      "text/plain": [
       "0"
      ]
     },
     "execution_count": 1058,
     "metadata": {},
     "output_type": "execute_result"
    }
   ],
   "source": [
    "s.exprs[6] - v2[6].subs(s2[6])"
   ]
  },
  {
   "cell_type": "code",
   "execution_count": 1053,
   "metadata": {},
   "outputs": [
    {
     "name": "stdout",
     "output_type": "stream",
     "text": [
      "120*u[1]**5*xu[0] - 120*u[1]**4*xu[1] - 240*u[1]**3*u[2]*xu[0] + 60*u[1]**3*xu[2] + 180*u[1]**2*u[2]*xu[1] + 60*u[1]**2*u[3]*xu[0] - 20*u[1]**2*xu[3] + 90*u[1]*u[2]**2*xu[0] - 60*u[1]*u[2]*xu[2] - 40*u[1]*u[3]*xu[1] - 10*u[1]*u[4]*xu[0] + 5*u[1]*xu[4] - 30*u[2]**2*xu[1] - 20*u[2]*u[3]*xu[0] + 10*u[2]*xu[3] + 10*u[3]*xu[2] + 5*u[4]*xu[1] + u[5]*xu[0] - xu[5]\n",
      "178 ms ± 0 ns per loop (mean ± std. dev. of 1 run, 1 loop each)\n"
     ]
    }
   ],
   "source": [
    "%%timeit -n 1 -r 1\n",
    "print(s.exprs[5])"
   ]
  },
  {
   "cell_type": "code",
   "execution_count": 1054,
   "metadata": {},
   "outputs": [
    {
     "name": "stdout",
     "output_type": "stream",
     "text": [
      "16.7 ms ± 0 ns per loop (mean ± std. dev. of 1 run, 1 loop each)\n"
     ]
    }
   ],
   "source": [
    "%%timeit -n 1 -r 1\n",
    "v2[5].subs(s2[5])"
   ]
  },
  {
   "cell_type": "code",
   "execution_count": 1045,
   "metadata": {},
   "outputs": [
    {
     "data": {
      "text/plain": [
       "[(f(b), z(b)*xu[0]),\n",
       " (Derivative(f(b), b), -z(b)*xu[1]),\n",
       " (Derivative(z(b), b), -z(b)*u[1]),\n",
       " (Derivative(f(b), (b, 2)), z(b)*xu[2]),\n",
       " (Derivative(z(b), (b, 2)), z(b)*u[2]),\n",
       " (Derivative(f(b), (b, 3)), -z(b)*xu[3]),\n",
       " (Derivative(z(b), (b, 3)), -z(b)*u[3]),\n",
       " (Derivative(f(b), (b, 4)), z(b)*xu[4]),\n",
       " (Derivative(z(b), (b, 4)), z(b)*u[4])]"
      ]
     },
     "execution_count": 1045,
     "metadata": {},
     "output_type": "execute_result"
    }
   ],
   "source": [
    "new_sub"
   ]
  },
  {
   "cell_type": "code",
   "execution_count": 1049,
   "metadata": {},
   "outputs": [
    {
     "data": {
      "text/latex": [
       "$\\displaystyle 120 {u}_{1}^{5} {xu}_{0} - 120 {u}_{1}^{4} {xu}_{1} - 240 {u}_{1}^{3} {u}_{2} {xu}_{0} + 60 {u}_{1}^{3} {xu}_{2} + 180 {u}_{1}^{2} {u}_{2} {xu}_{1} + 60 {u}_{1}^{2} {u}_{3} {xu}_{0} - 20 {u}_{1}^{2} {xu}_{3} + 90 {u}_{1} {u}_{2}^{2} {xu}_{0} - 60 {u}_{1} {u}_{2} {xu}_{2} - 40 {u}_{1} {u}_{3} {xu}_{1} - 10 {u}_{1} {u}_{4} {xu}_{0} + 5 {u}_{1} {xu}_{4} - 30 {u}_{2}^{2} {xu}_{1} - 20 {u}_{2} {u}_{3} {xu}_{0} + 10 {u}_{2} {xu}_{3} + 10 {u}_{3} {xu}_{2} + 5 {u}_{4} {xu}_{1} + {u}_{5} {xu}_{0} - {xu}_{5}$"
      ],
      "text/plain": [
       "120*u[1]**5*xu[0] - 120*u[1]**4*xu[1] - 240*u[1]**3*u[2]*xu[0] + 60*u[1]**3*xu[2] + 180*u[1]**2*u[2]*xu[1] + 60*u[1]**2*u[3]*xu[0] - 20*u[1]**2*xu[3] + 90*u[1]*u[2]**2*xu[0] - 60*u[1]*u[2]*xu[2] - 40*u[1]*u[3]*xu[1] - 10*u[1]*u[4]*xu[0] + 5*u[1]*xu[4] - 30*u[2]**2*xu[1] - 20*u[2]*u[3]*xu[0] + 10*u[2]*xu[3] + 10*u[3]*xu[2] + 5*u[4]*xu[1] + u[5]*xu[0] - xu[5]"
      ]
     },
     "execution_count": 1049,
     "metadata": {},
     "output_type": "execute_result"
    }
   ],
   "source": [
    "v2[5].subs(s2[5])"
   ]
  },
  {
   "cell_type": "code",
   "execution_count": 1050,
   "metadata": {},
   "outputs": [
    {
     "data": {
      "text/latex": [
       "$\\displaystyle 120 {u}_{1}^{5} {xu}_{0} - 120 {u}_{1}^{4} {xu}_{1} - 240 {u}_{1}^{3} {u}_{2} {xu}_{0} + 60 {u}_{1}^{3} {xu}_{2} + 180 {u}_{1}^{2} {u}_{2} {xu}_{1} + 60 {u}_{1}^{2} {u}_{3} {xu}_{0} - 20 {u}_{1}^{2} {xu}_{3} + 90 {u}_{1} {u}_{2}^{2} {xu}_{0} - 60 {u}_{1} {u}_{2} {xu}_{2} - 40 {u}_{1} {u}_{3} {xu}_{1} - 10 {u}_{1} {u}_{4} {xu}_{0} + 5 {u}_{1} {xu}_{4} - 30 {u}_{2}^{2} {xu}_{1} - 20 {u}_{2} {u}_{3} {xu}_{0} + 10 {u}_{2} {xu}_{3} + 10 {u}_{3} {xu}_{2} + 5 {u}_{4} {xu}_{1} + {u}_{5} {xu}_{0} - {xu}_{5}$"
      ],
      "text/plain": [
       "120*u[1]**5*xu[0] - 120*u[1]**4*xu[1] - 240*u[1]**3*u[2]*xu[0] + 60*u[1]**3*xu[2] + 180*u[1]**2*u[2]*xu[1] + 60*u[1]**2*u[3]*xu[0] - 20*u[1]**2*xu[3] + 90*u[1]*u[2]**2*xu[0] - 60*u[1]*u[2]*xu[2] - 40*u[1]*u[3]*xu[1] - 10*u[1]*u[4]*xu[0] + 5*u[1]*xu[4] - 30*u[2]**2*xu[1] - 20*u[2]*u[3]*xu[0] + 10*u[2]*xu[3] + 10*u[3]*xu[2] + 5*u[4]*xu[1] + u[5]*xu[0] - xu[5]"
      ]
     },
     "execution_count": 1050,
     "metadata": {},
     "output_type": "execute_result"
    }
   ],
   "source": [
    "s.exprs[5]"
   ]
  },
  {
   "cell_type": "code",
   "execution_count": 980,
   "metadata": {},
   "outputs": [
    {
     "data": {
      "text/latex": [
       "$\\displaystyle - \\frac{f{\\left(b \\right)} \\frac{d^{5}}{d b^{5}} z{\\left(b \\right)}}{z^{2}{\\left(b \\right)}} + \\frac{10 f{\\left(b \\right)} \\frac{d}{d b} z{\\left(b \\right)} \\frac{d^{4}}{d b^{4}} z{\\left(b \\right)}}{z^{3}{\\left(b \\right)}} + \\frac{20 f{\\left(b \\right)} \\frac{d^{2}}{d b^{2}} z{\\left(b \\right)} \\frac{d^{3}}{d b^{3}} z{\\left(b \\right)}}{z^{3}{\\left(b \\right)}} - \\frac{60 f{\\left(b \\right)} \\left(\\frac{d}{d b} z{\\left(b \\right)}\\right)^{2} \\frac{d^{3}}{d b^{3}} z{\\left(b \\right)}}{z^{4}{\\left(b \\right)}} - \\frac{90 f{\\left(b \\right)} \\frac{d}{d b} z{\\left(b \\right)} \\left(\\frac{d^{2}}{d b^{2}} z{\\left(b \\right)}\\right)^{2}}{z^{4}{\\left(b \\right)}} + \\frac{240 f{\\left(b \\right)} \\left(\\frac{d}{d b} z{\\left(b \\right)}\\right)^{3} \\frac{d^{2}}{d b^{2}} z{\\left(b \\right)}}{z^{5}{\\left(b \\right)}} - \\frac{120 f{\\left(b \\right)} \\left(\\frac{d}{d b} z{\\left(b \\right)}\\right)^{5}}{z^{6}{\\left(b \\right)}} + \\frac{\\frac{d^{5}}{d b^{5}} f{\\left(b \\right)}}{z{\\left(b \\right)}} - \\frac{5 \\frac{d}{d b} f{\\left(b \\right)} \\frac{d^{4}}{d b^{4}} z{\\left(b \\right)}}{z^{2}{\\left(b \\right)}} - \\frac{10 \\frac{d^{2}}{d b^{2}} f{\\left(b \\right)} \\frac{d^{3}}{d b^{3}} z{\\left(b \\right)}}{z^{2}{\\left(b \\right)}} - \\frac{10 \\frac{d^{3}}{d b^{3}} f{\\left(b \\right)} \\frac{d^{2}}{d b^{2}} z{\\left(b \\right)}}{z^{2}{\\left(b \\right)}} - \\frac{5 \\frac{d^{4}}{d b^{4}} f{\\left(b \\right)} \\frac{d}{d b} z{\\left(b \\right)}}{z^{2}{\\left(b \\right)}} + \\frac{40 \\frac{d}{d b} f{\\left(b \\right)} \\frac{d}{d b} z{\\left(b \\right)} \\frac{d^{3}}{d b^{3}} z{\\left(b \\right)}}{z^{3}{\\left(b \\right)}} + \\frac{30 \\frac{d}{d b} f{\\left(b \\right)} \\left(\\frac{d^{2}}{d b^{2}} z{\\left(b \\right)}\\right)^{2}}{z^{3}{\\left(b \\right)}} + \\frac{60 \\frac{d^{2}}{d b^{2}} f{\\left(b \\right)} \\frac{d}{d b} z{\\left(b \\right)} \\frac{d^{2}}{d b^{2}} z{\\left(b \\right)}}{z^{3}{\\left(b \\right)}} + \\frac{20 \\frac{d^{3}}{d b^{3}} f{\\left(b \\right)} \\left(\\frac{d}{d b} z{\\left(b \\right)}\\right)^{2}}{z^{3}{\\left(b \\right)}} - \\frac{180 \\frac{d}{d b} f{\\left(b \\right)} \\left(\\frac{d}{d b} z{\\left(b \\right)}\\right)^{2} \\frac{d^{2}}{d b^{2}} z{\\left(b \\right)}}{z^{4}{\\left(b \\right)}} - \\frac{60 \\frac{d^{2}}{d b^{2}} f{\\left(b \\right)} \\left(\\frac{d}{d b} z{\\left(b \\right)}\\right)^{3}}{z^{4}{\\left(b \\right)}} + \\frac{120 \\frac{d}{d b} f{\\left(b \\right)} \\left(\\frac{d}{d b} z{\\left(b \\right)}\\right)^{4}}{z^{5}{\\left(b \\right)}}$"
      ],
      "text/plain": [
       "-f(b)*Derivative(z(b), (b, 5))/z(b)**2 + 10*f(b)*Derivative(z(b), b)*Derivative(z(b), (b, 4))/z(b)**3 + 20*f(b)*Derivative(z(b), (b, 2))*Derivative(z(b), (b, 3))/z(b)**3 - 60*f(b)*Derivative(z(b), b)**2*Derivative(z(b), (b, 3))/z(b)**4 - 90*f(b)*Derivative(z(b), b)*Derivative(z(b), (b, 2))**2/z(b)**4 + 240*f(b)*Derivative(z(b), b)**3*Derivative(z(b), (b, 2))/z(b)**5 - 120*f(b)*Derivative(z(b), b)**5/z(b)**6 + Derivative(f(b), (b, 5))/z(b) - 5*Derivative(f(b), b)*Derivative(z(b), (b, 4))/z(b)**2 - 10*Derivative(f(b), (b, 2))*Derivative(z(b), (b, 3))/z(b)**2 - 10*Derivative(f(b), (b, 3))*Derivative(z(b), (b, 2))/z(b)**2 - 5*Derivative(f(b), (b, 4))*Derivative(z(b), b)/z(b)**2 + 40*Derivative(f(b), b)*Derivative(z(b), b)*Derivative(z(b), (b, 3))/z(b)**3 + 30*Derivative(f(b), b)*Derivative(z(b), (b, 2))**2/z(b)**3 + 60*Derivative(f(b), (b, 2))*Derivative(z(b), b)*Derivative(z(b), (b, 2))/z(b)**3 + 20*Derivative(f(b), (b, 3))*Derivative(z(b), b)**2/z(b)**3 - 180*Derivative(f(b), b)*Derivative(z(b), b)**2*Derivative(z(b), (b, 2))/z(b)**4 - 60*Derivative(f(b), (b, 2))*Derivative(z(b), b)**3/z(b)**4 + 120*Derivative(f(b), b)*Derivative(z(b), b)**4/z(b)**5"
      ]
     },
     "execution_count": 980,
     "metadata": {},
     "output_type": "execute_result"
    }
   ],
   "source": [
    "v2[5]"
   ]
  },
  {
   "cell_type": "code",
   "execution_count": 1023,
   "metadata": {},
   "outputs": [],
   "source": [
    "subs = core._Subs()"
   ]
  },
  {
   "cell_type": "code",
   "execution_count": 1024,
   "metadata": {},
   "outputs": [
    {
     "data": {
      "text/plain": [
       "{Derivative(f(b), b): -z(b)*xu[1], Derivative(z(b), b): -z(b)*u[1]}"
      ]
     },
     "execution_count": 1024,
     "metadata": {},
     "output_type": "execute_result"
    }
   ],
   "source": [
    "subs[1]"
   ]
  },
  {
   "cell_type": "code",
   "execution_count": 1025,
   "metadata": {},
   "outputs": [],
   "source": [
    "n = 4\n",
    "new_subs = []\n",
    "for i in range(n+1):\n",
    "    new_subs += (list(zip(subs[i].keys(), subs[i].values())))"
   ]
  },
  {
   "cell_type": "code",
   "execution_count": 1027,
   "metadata": {},
   "outputs": [
    {
     "data": {
      "text/plain": [
       "[(f(b), z(b)*xu[0]),\n",
       " (Derivative(f(b), b), -z(b)*xu[1]),\n",
       " (Derivative(z(b), b), -z(b)*u[1]),\n",
       " (Derivative(f(b), (b, 2)), z(b)*xu[2]),\n",
       " (Derivative(z(b), (b, 2)), z(b)*u[2]),\n",
       " (Derivative(f(b), (b, 3)), -z(b)*xu[3]),\n",
       " (Derivative(z(b), (b, 3)), -z(b)*u[3]),\n",
       " (Derivative(f(b), (b, 4)), z(b)*xu[4]),\n",
       " (Derivative(z(b), (b, 4)), z(b)*u[4])]"
      ]
     },
     "execution_count": 1027,
     "metadata": {},
     "output_type": "execute_result"
    }
   ],
   "source": [
    "new_subs"
   ]
  },
  {
   "cell_type": "code",
   "execution_count": null,
   "metadata": {},
   "outputs": [],
   "source": []
  },
  {
   "cell_type": "code",
   "execution_count": 1031,
   "metadata": {},
   "outputs": [
    {
     "data": {
      "text/plain": [
       "[(f(b), z(b)*xu[0]),\n",
       " (Derivative(f(b), b), -z(b)*xu[1]),\n",
       " (Derivative(z(b), b), -z(b)*u[1]),\n",
       " (Derivative(f(b), (b, 2)), z(b)*xu[2]),\n",
       " (Derivative(z(b), (b, 2)), z(b)*u[2]),\n",
       " (Derivative(f(b), (b, 3)), -z(b)*xu[3]),\n",
       " (Derivative(z(b), (b, 3)), -z(b)*u[3]),\n",
       " (Derivative(f(b), (b, 4)), z(b)*xu[4]),\n",
       " (Derivative(z(b), (b, 4)), z(b)*u[4]),\n",
       " (Derivative(f(b), (b, 5)), -z(b)*xu[5]),\n",
       " (Derivative(z(b), (b, 5)), -z(b)*u[5])]"
      ]
     },
     "execution_count": 1031,
     "metadata": {},
     "output_type": "execute_result"
    }
   ],
   "source": [
    "s2._data"
   ]
  },
  {
   "cell_type": "code",
   "execution_count": 1030,
   "metadata": {},
   "outputs": [
    {
     "data": {
      "text/plain": [
       "[(Derivative(f(b), b), -z(b)*xu[1]), (f(b), z(b)*xu[0])]"
      ]
     },
     "execution_count": 1030,
     "metadata": {},
     "output_type": "execute_result"
    }
   ],
   "source": [
    "s2[1]"
   ]
  },
  {
   "cell_type": "code",
   "execution_count": 939,
   "metadata": {},
   "outputs": [
    {
     "data": {
      "text/plain": [
       "{f(b): z(b)*xu[0]}"
      ]
     },
     "execution_count": 939,
     "metadata": {},
     "output_type": "execute_result"
    }
   ],
   "source": [
    "subs[0]"
   ]
  },
  {
   "cell_type": "code",
   "execution_count": 948,
   "metadata": {},
   "outputs": [
    {
     "data": {
      "text/plain": [
       "{Derivative(f(b), b): -z(b)*xu[1], Derivative(z(b), b): -z(b)*u[1]}"
      ]
     },
     "execution_count": 948,
     "metadata": {},
     "output_type": "execute_result"
    }
   ],
   "source": [
    "subs[1]"
   ]
  },
  {
   "cell_type": "code",
   "execution_count": 949,
   "metadata": {},
   "outputs": [],
   "source": [
    "new_subs.update(subs[1])"
   ]
  },
  {
   "cell_type": "code",
   "execution_count": 951,
   "metadata": {},
   "outputs": [],
   "source": [
    "new_subs = {}\n",
    "for i in range(n+1):\n",
    "    new_subs.update(subs[i])\n",
    "    "
   ]
  },
  {
   "cell_type": "code",
   "execution_count": 968,
   "metadata": {},
   "outputs": [
    {
     "data": {
      "text/plain": [
       "[(Derivative(z(b), (b, 4)), z(b)*u[4]),\n",
       " (Derivative(f(b), (b, 4)), z(b)*xu[4]),\n",
       " (Derivative(z(b), (b, 3)), -z(b)*u[3]),\n",
       " (Derivative(f(b), (b, 3)), -z(b)*xu[3]),\n",
       " (Derivative(z(b), (b, 2)), z(b)*u[2]),\n",
       " (Derivative(f(b), (b, 2)), z(b)*xu[2]),\n",
       " (Derivative(z(b), b), -z(b)*u[1]),\n",
       " (Derivative(f(b), b), -z(b)*xu[1]),\n",
       " (f(b), z(b)*xu[0])]"
      ]
     },
     "execution_count": 968,
     "metadata": {},
     "output_type": "execute_result"
    }
   ],
   "source": [
    "new_subs[-1::-1]"
   ]
  },
  {
   "cell_type": "code",
   "execution_count": 969,
   "metadata": {},
   "outputs": [
    {
     "data": {
      "text/latex": [
       "$\\displaystyle 24 {u}_{1}^{4} {xu}_{0} - 24 {u}_{1}^{3} {xu}_{1} - 36 {u}_{1}^{2} {u}_{2} {xu}_{0} + 12 {u}_{1}^{2} {xu}_{2} + 24 {u}_{1} {u}_{2} {xu}_{1} + 8 {u}_{1} {u}_{3} {xu}_{0} - 4 {u}_{1} {xu}_{3} + 6 {u}_{2}^{2} {xu}_{0} - 6 {u}_{2} {xu}_{2} - 4 {u}_{3} {xu}_{1} - {u}_{4} {xu}_{0} + {xu}_{4}$"
      ],
      "text/plain": [
       "24*u[1]**4*xu[0] - 24*u[1]**3*xu[1] - 36*u[1]**2*u[2]*xu[0] + 12*u[1]**2*xu[2] + 24*u[1]*u[2]*xu[1] + 8*u[1]*u[3]*xu[0] - 4*u[1]*xu[3] + 6*u[2]**2*xu[0] - 6*u[2]*xu[2] - 4*u[3]*xu[1] - u[4]*xu[0] + xu[4]"
      ]
     },
     "execution_count": 969,
     "metadata": {},
     "output_type": "execute_result"
    }
   ],
   "source": [
    "v[4].subs(new_subs[-1::-1])"
   ]
  },
  {
   "cell_type": "code",
   "execution_count": 957,
   "metadata": {},
   "outputs": [
    {
     "name": "stdout",
     "output_type": "stream",
     "text": [
      "-f(b)*Derivative(z(b), (b, 4))/z(b)**2 + 8*f(b)*Derivative(z(b), b)*Derivative(z(b), (b, 3))/z(b)**3 + 6*f(b)*Derivative(z(b), (b, 2))**2/z(b)**3 - 36*f(b)*Derivative(z(b), b)**2*Derivative(z(b), (b, 2))/z(b)**4 + 24*f(b)*Derivative(z(b), b)**4/z(b)**5 + Derivative(f(b), (b, 4))/z(b) - 4*Derivative(f(b), b)*Derivative(z(b), (b, 3))/z(b)**2 - 6*Derivative(f(b), (b, 2))*Derivative(z(b), (b, 2))/z(b)**2 - 4*Derivative(f(b), (b, 3))*Derivative(z(b), b)/z(b)**2 + 24*Derivative(f(b), b)*Derivative(z(b), b)*Derivative(z(b), (b, 2))/z(b)**3 + 12*Derivative(f(b), (b, 2))*Derivative(z(b), b)**2/z(b)**3 - 24*Derivative(f(b), b)*Derivative(z(b), b)**3/z(b)**4\n"
     ]
    }
   ],
   "source": [
    "print(v[4])"
   ]
  },
  {
   "cell_type": "code",
   "execution_count": 953,
   "metadata": {},
   "outputs": [
    {
     "data": {
      "text/latex": [
       "$\\displaystyle 24 {u}_{1}^{4} {xu}_{0} - 24 {u}_{1}^{3} {xu}_{1} - \\frac{36 \\frac{\\partial}{\\partial b} - z{\\left(b \\right)} {u}_{1} {u}_{1}^{2} {xu}_{0}}{z{\\left(b \\right)}} + \\frac{24 \\frac{\\partial}{\\partial b} - z{\\left(b \\right)} {u}_{1} {u}_{1} {xu}_{1}}{z{\\left(b \\right)}} - \\frac{8 \\frac{\\partial^{2}}{\\partial b^{2}} - z{\\left(b \\right)} {u}_{1} {u}_{1} {xu}_{0}}{z{\\left(b \\right)}} + \\frac{4 \\frac{\\partial^{2}}{\\partial b^{2}} - z{\\left(b \\right)} {u}_{1} {xu}_{1}}{z{\\left(b \\right)}} - \\frac{\\frac{\\partial^{3}}{\\partial b^{3}} - z{\\left(b \\right)} {u}_{1} {xu}_{0}}{z{\\left(b \\right)}} + \\frac{12 \\frac{\\partial}{\\partial b} - z{\\left(b \\right)} {xu}_{1} {u}_{1}^{2}}{z{\\left(b \\right)}} + \\frac{4 \\frac{\\partial^{2}}{\\partial b^{2}} - z{\\left(b \\right)} {xu}_{1} {u}_{1}}{z{\\left(b \\right)}} + \\frac{\\frac{\\partial^{3}}{\\partial b^{3}} - z{\\left(b \\right)} {xu}_{1}}{z{\\left(b \\right)}} + \\frac{6 \\left(\\frac{\\partial}{\\partial b} - z{\\left(b \\right)} {u}_{1}\\right)^{2} {xu}_{0}}{z^{2}{\\left(b \\right)}} - \\frac{6 \\frac{\\partial}{\\partial b} - z{\\left(b \\right)} {u}_{1} \\frac{\\partial}{\\partial b} - z{\\left(b \\right)} {xu}_{1}}{z^{2}{\\left(b \\right)}}$"
      ],
      "text/plain": [
       "24*u[1]**4*xu[0] - 24*u[1]**3*xu[1] - 36*Derivative(-z(b)*u[1], b)*u[1]**2*xu[0]/z(b) + 24*Derivative(-z(b)*u[1], b)*u[1]*xu[1]/z(b) - 8*Derivative(-z(b)*u[1], (b, 2))*u[1]*xu[0]/z(b) + 4*Derivative(-z(b)*u[1], (b, 2))*xu[1]/z(b) - Derivative(-z(b)*u[1], (b, 3))*xu[0]/z(b) + 12*Derivative(-z(b)*xu[1], b)*u[1]**2/z(b) + 4*Derivative(-z(b)*xu[1], (b, 2))*u[1]/z(b) + Derivative(-z(b)*xu[1], (b, 3))/z(b) + 6*Derivative(-z(b)*u[1], b)**2*xu[0]/z(b)**2 - 6*Derivative(-z(b)*u[1], b)*Derivative(-z(b)*xu[1], b)/z(b)**2"
      ]
     },
     "execution_count": 953,
     "metadata": {},
     "output_type": "execute_result"
    }
   ],
   "source": [
    "v[4].subs(new_subs)"
   ]
  },
  {
   "cell_type": "code",
   "execution_count": 954,
   "metadata": {},
   "outputs": [],
   "source": [
    "ss = core.factory_coefs()"
   ]
  },
  {
   "cell_type": "code",
   "execution_count": 955,
   "metadata": {},
   "outputs": [
    {
     "data": {
      "text/latex": [
       "$\\displaystyle 24 {u}_{1}^{4} {xu}_{0} - 24 {u}_{1}^{3} {xu}_{1} - 36 {u}_{1}^{2} {u}_{2} {xu}_{0} + 12 {u}_{1}^{2} {xu}_{2} + 24 {u}_{1} {u}_{2} {xu}_{1} + 8 {u}_{1} {u}_{3} {xu}_{0} - 4 {u}_{1} {xu}_{3} + 6 {u}_{2}^{2} {xu}_{0} - 6 {u}_{2} {xu}_{2} - 4 {u}_{3} {xu}_{1} - {u}_{4} {xu}_{0} + {xu}_{4}$"
      ],
      "text/plain": [
       "24*u[1]**4*xu[0] - 24*u[1]**3*xu[1] - 36*u[1]**2*u[2]*xu[0] + 12*u[1]**2*xu[2] + 24*u[1]*u[2]*xu[1] + 8*u[1]*u[3]*xu[0] - 4*u[1]*xu[3] + 6*u[2]**2*xu[0] - 6*u[2]*xu[2] - 4*u[3]*xu[1] - u[4]*xu[0] + xu[4]"
      ]
     },
     "execution_count": 955,
     "metadata": {},
     "output_type": "execute_result"
    }
   ],
   "source": [
    "ss.exprs[4]"
   ]
  },
  {
   "cell_type": "code",
   "execution_count": 934,
   "metadata": {},
   "outputs": [
    {
     "data": {
      "text/plain": [
       "[(Derivative(f(b), (b, 4)), z(b)*xu[4]), (Derivative(z(b), (b, 4)), z(b)*u[4])]"
      ]
     },
     "execution_count": 934,
     "metadata": {},
     "output_type": "execute_result"
    }
   ],
   "source": [
    "list(zip(subs[4].keys(), subs[4].values()))"
   ]
  },
  {
   "cell_type": "code",
   "execution_count": 928,
   "metadata": {},
   "outputs": [
    {
     "data": {
      "text/latex": [
       "$\\displaystyle - \\frac{f{\\left(b \\right)} {u}_{4}}{z{\\left(b \\right)}} + \\frac{8 f{\\left(b \\right)} \\frac{d}{d b} z{\\left(b \\right)} \\frac{d^{3}}{d b^{3}} z{\\left(b \\right)}}{z^{3}{\\left(b \\right)}} + \\frac{6 f{\\left(b \\right)} \\left(\\frac{d^{2}}{d b^{2}} z{\\left(b \\right)}\\right)^{2}}{z^{3}{\\left(b \\right)}} - \\frac{36 f{\\left(b \\right)} \\left(\\frac{d}{d b} z{\\left(b \\right)}\\right)^{2} \\frac{d^{2}}{d b^{2}} z{\\left(b \\right)}}{z^{4}{\\left(b \\right)}} + \\frac{24 f{\\left(b \\right)} \\left(\\frac{d}{d b} z{\\left(b \\right)}\\right)^{4}}{z^{5}{\\left(b \\right)}} + {xu}_{4} - \\frac{4 \\frac{d}{d b} f{\\left(b \\right)} \\frac{d^{3}}{d b^{3}} z{\\left(b \\right)}}{z^{2}{\\left(b \\right)}} - \\frac{6 \\frac{d^{2}}{d b^{2}} f{\\left(b \\right)} \\frac{d^{2}}{d b^{2}} z{\\left(b \\right)}}{z^{2}{\\left(b \\right)}} - \\frac{4 \\frac{d^{3}}{d b^{3}} f{\\left(b \\right)} \\frac{d}{d b} z{\\left(b \\right)}}{z^{2}{\\left(b \\right)}} + \\frac{24 \\frac{d}{d b} f{\\left(b \\right)} \\frac{d}{d b} z{\\left(b \\right)} \\frac{d^{2}}{d b^{2}} z{\\left(b \\right)}}{z^{3}{\\left(b \\right)}} + \\frac{12 \\frac{d^{2}}{d b^{2}} f{\\left(b \\right)} \\left(\\frac{d}{d b} z{\\left(b \\right)}\\right)^{2}}{z^{3}{\\left(b \\right)}} - \\frac{24 \\frac{d}{d b} f{\\left(b \\right)} \\left(\\frac{d}{d b} z{\\left(b \\right)}\\right)^{3}}{z^{4}{\\left(b \\right)}}$"
      ],
      "text/plain": [
       "-f(b)*u[4]/z(b) + 8*f(b)*Derivative(z(b), b)*Derivative(z(b), (b, 3))/z(b)**3 + 6*f(b)*Derivative(z(b), (b, 2))**2/z(b)**3 - 36*f(b)*Derivative(z(b), b)**2*Derivative(z(b), (b, 2))/z(b)**4 + 24*f(b)*Derivative(z(b), b)**4/z(b)**5 + xu[4] - 4*Derivative(f(b), b)*Derivative(z(b), (b, 3))/z(b)**2 - 6*Derivative(f(b), (b, 2))*Derivative(z(b), (b, 2))/z(b)**2 - 4*Derivative(f(b), (b, 3))*Derivative(z(b), b)/z(b)**2 + 24*Derivative(f(b), b)*Derivative(z(b), b)*Derivative(z(b), (b, 2))/z(b)**3 + 12*Derivative(f(b), (b, 2))*Derivative(z(b), b)**2/z(b)**3 - 24*Derivative(f(b), b)*Derivative(z(b), b)**3/z(b)**4"
      ]
     },
     "execution_count": 928,
     "metadata": {},
     "output_type": "execute_result"
    }
   ],
   "source": [
    "v[4].subs(subs[4])"
   ]
  },
  {
   "cell_type": "code",
   "execution_count": null,
   "metadata": {},
   "outputs": [],
   "source": [
    "core.gcached"
   ]
  },
  {
   "cell_type": "code",
   "execution_count": 981,
   "metadata": {},
   "outputs": [],
   "source": [
    "class tmp(object):\n",
    "    @core.gcached(prop=False)\n",
    "    def __getitem__(self, idx):\n",
    "        print('call')\n",
    "        return idx ** 2\n",
    "    "
   ]
  },
  {
   "cell_type": "code",
   "execution_count": 982,
   "metadata": {},
   "outputs": [],
   "source": [
    "t = tmp()"
   ]
  },
  {
   "cell_type": "code",
   "execution_count": 988,
   "metadata": {},
   "outputs": [],
   "source": [
    "y = list(range(100))"
   ]
  },
  {
   "cell_type": "code",
   "execution_count": 991,
   "metadata": {},
   "outputs": [
    {
     "data": {
      "text/plain": [
       "[9, 8, 7, 6, 5, 4, 3, 2, 1, 0]"
      ]
     },
     "execution_count": 991,
     "metadata": {},
     "output_type": "execute_result"
    }
   ],
   "source": [
    "y[:10][-1::-1]"
   ]
  },
  {
   "cell_type": "code",
   "execution_count": 987,
   "metadata": {},
   "outputs": [
    {
     "data": {
      "text/plain": [
       "[(Derivative(z(b), (b, 4)), z(b)*u[4]),\n",
       " (Derivative(f(b), (b, 4)), z(b)*xu[4]),\n",
       " (Derivative(z(b), (b, 3)), -z(b)*u[3]),\n",
       " (Derivative(f(b), (b, 3)), -z(b)*xu[3]),\n",
       " (Derivative(z(b), (b, 2)), z(b)*u[2]),\n",
       " (Derivative(f(b), (b, 2)), z(b)*xu[2]),\n",
       " (Derivative(z(b), b), -z(b)*u[1]),\n",
       " (Derivative(f(b), b), -z(b)*xu[1]),\n",
       " (f(b), z(b)*xu[0])]"
      ]
     },
     "execution_count": 987,
     "metadata": {},
     "output_type": "execute_result"
    }
   ],
   "source": [
    "new_subs[-1::-1]"
   ]
  },
  {
   "cell_type": "code",
   "execution_count": 985,
   "metadata": {},
   "outputs": [
    {
     "data": {
      "text/plain": [
       "100"
      ]
     },
     "execution_count": 985,
     "metadata": {},
     "output_type": "execute_result"
    }
   ],
   "source": [
    "t[10]"
   ]
  },
  {
   "cell_type": "code",
   "execution_count": 830,
   "metadata": {},
   "outputs": [],
   "source": [
    "from thermoextrap.utilities import buildAvgFuncs\n",
    "\n",
    "#For quantities like the chemical potential, we're interested in the -log(<X>), not <X>\n",
    "#Everything is the same, but we take derivatives differently\n",
    "#Luckily, have closed-form expression for derivatives of -log(<X>) in terms of derivatives of <X>\n",
    "#Specifically, d(n)[-log(<X>)]/dB(n) = Sum(k=1, n)[(k-1)! * (-1/<X>)^k * B(n,k,(d<X>/dB, ..., d(n-k+1)<X>/dB(n-k+1)))]\n",
    "#B(n,k, (...)) represents Bell Polynomials, which are implemented in sympy (not numpy or scipy unfortunately)\n",
    "#Create custom classes to handle this\n",
    "from sympy import bell\n",
    "\n",
    "class LogAvgExtrapModel(ExtrapModel):\n",
    "    \n",
    "    def calcDerivVals(self, refB, x, U):\n",
    "        \n",
    "        if x.shape[0] != U.shape[0]:\n",
    "            print('First observable dimension (%i) and size of potential energy array (%i) do not match!'%(x.shape[0], U.shape[0]))\n",
    "            return\n",
    "    \n",
    "        avgUfunc, avgXUfunc = buildAvgFuncs(x, U, self.maxOrder)\n",
    "        derivVals = np.zeros((self.maxOrder+1, x.shape[1]))\n",
    "        for o in range(self.maxOrder+1):\n",
    "            if o == 0:\n",
    "                derivVals[o] = (-np.log(avgXUfunc(0)))\n",
    "                continue\n",
    "            for k in range(1,o+1):\n",
    "                #Get the derivatives of the average quantity\n",
    "                thisDiffs = np.array([self.derivF[l](avgUfunc, avgXUfunc) for l in range(1, o-k+2)])\n",
    "                #Loop to apply the chain rule to each element of the observable array\n",
    "                for l in range(x.shape[1]):\n",
    "                    derivVals[o,l] += np.math.factorial(k-1)*((-1/avgXUfunc(0)[l])**k)*bell(o, k, thisDiffs[:,l])\n",
    "                \n",
    "        return derivVals\n"
   ]
  },
  {
   "cell_type": "code",
   "execution_count": 835,
   "metadata": {},
   "outputs": [
    {
     "data": {
      "text/plain": [
       "[0.1, 0.2, 0.3, 0.4]"
      ]
     },
     "execution_count": 835,
     "metadata": {},
     "output_type": "execute_result"
    }
   ],
   "source": [
    "betas"
   ]
  },
  {
   "cell_type": "code",
   "execution_count": 887,
   "metadata": {},
   "outputs": [],
   "source": [
    "xdata = xem.data.xv.values\n",
    "udata = xem.data.uv.values\n",
    "refBeta=0.5"
   ]
  },
  {
   "cell_type": "code",
   "execution_count": 836,
   "metadata": {},
   "outputs": [
    {
     "name": "stdout",
     "output_type": "stream",
     "text": [
      "Model parameters (derivatives):\n",
      "[[ 6.92326220e-01  6.95158101e-01  6.92383757e-01  6.94896673e-01\n",
      "   6.90846049e-01]\n",
      " [ 2.69773834e-04 -2.27673014e-04  4.07282201e-04  1.07002690e-05\n",
      "   2.20961626e-04]\n",
      " [ 4.48585482e-06 -6.47472658e-05  2.02998635e-05  1.12768749e-04\n",
      "  -6.90717840e-05]\n",
      " [-5.07388591e-05  5.69296180e-05 -5.54391284e-05  9.44529753e-05\n",
      "  -6.20967030e-05]\n",
      " [ 1.05400889e-05  2.10718898e-05 -1.32468610e-05 -4.42767814e-05\n",
      "   1.91285621e-05]]\n",
      "\n",
      "\n",
      "Model predictions:\n",
      "[[0.69221867 0.69524399 0.69222247 0.69490141 0.69075214]\n",
      " [0.69224549 0.69522349 0.69226249 0.69489854 0.69077665]\n",
      " [0.69227236 0.69520234 0.69230271 0.69489679 0.69080048]\n",
      " [0.69229927 0.69518054 0.69234313 0.69489617 0.69082361]]\n",
      "\n",
      "\n",
      "Bootstrapped uncertainties in predictions:\n",
      "[[0.00178116 0.00166147 0.00190618 0.00173911 0.0020865 ]\n",
      " [0.00178175 0.00165808 0.00191183 0.00173188 0.00207618]\n",
      " [0.00178384 0.00165654 0.00191886 0.0017261  0.00206729]\n",
      " [0.00178743 0.00165686 0.00192723 0.00172178 0.00205984]]\n"
     ]
    }
   ],
   "source": [
    "#Create and train extrapolation model\n",
    "extModelLog = LogAvgExtrapModel(maxOrder=4, refB=refBeta, \n",
    "                                xData=xdata,\n",
    "                                uData=udata,\n",
    "                                )\n",
    "\n",
    "#Note that we handled the -log calculation in the definition of the derivatives (even at zeroth order).\n",
    "#This means we want to just pass data, not the -log of the data.\n",
    "\n",
    "#Check the parameters\n",
    "print(\"Model parameters (derivatives):\")\n",
    "print(extModelLog.params)\n",
    "print('\\n')\n",
    "\n",
    "#Finally, look at predictions\n",
    "print(\"Model predictions:\")\n",
    "print(extModelLog.predict(betas, order=2))\n",
    "print('\\n')\n",
    "\n",
    "#And bootstrapped uncertainties\n",
    "print(\"Bootstrapped uncertainties in predictions:\")\n",
    "print(extModelLog.bootstrap(betas, order=2))\n"
   ]
  },
  {
   "cell_type": "code",
   "execution_count": 886,
   "metadata": {},
   "outputs": [
    {
     "data": {
      "text/plain": [
       "<module 'thermoextrap.xtrapy.core' from '/Users/wpk/Documents/python/projects/xtrapy/thermoextrap/xtrapy/core.py'>"
      ]
     },
     "execution_count": 886,
     "metadata": {},
     "output_type": "execute_result"
    }
   ],
   "source": [
    "reload(core)"
   ]
  },
  {
   "cell_type": "code",
   "execution_count": 889,
   "metadata": {},
   "outputs": [],
   "source": [
    "xem_log = core.ExtrapModel.from_values(order, refBeta, udata, xdata, minus_log=True)"
   ]
  },
  {
   "cell_type": "code",
   "execution_count": 896,
   "metadata": {},
   "outputs": [
    {
     "data": {
      "text/html": [
       "<pre>&lt;xarray.DataArray &#x27;x&#x27; (order: 5, val: 5)&gt;\n",
       "array([[ 6.92326220e-01,  6.95158101e-01,  6.92383757e-01,\n",
       "         6.94896673e-01,  6.90846049e-01],\n",
       "       [ 2.69773834e-04, -2.27673014e-04,  4.07282201e-04,\n",
       "         1.07002690e-05,  2.20961626e-04],\n",
       "       [ 4.48585482e-06, -6.47472658e-05,  2.02998635e-05,\n",
       "         1.12768749e-04, -6.90717840e-05],\n",
       "       [-5.07388591e-05,  5.69296180e-05, -5.54391284e-05,\n",
       "         9.44529753e-05, -6.20967030e-05],\n",
       "       [ 1.05400889e-05,  2.10718898e-05, -1.32468610e-05,\n",
       "        -4.42767814e-05,  1.91285621e-05]])\n",
       "Dimensions without coordinates: order, val</pre>"
      ],
      "text/plain": [
       "<xarray.DataArray 'x' (order: 5, val: 5)>\n",
       "array([[ 6.92326220e-01,  6.95158101e-01,  6.92383757e-01,\n",
       "         6.94896673e-01,  6.90846049e-01],\n",
       "       [ 2.69773834e-04, -2.27673014e-04,  4.07282201e-04,\n",
       "         1.07002690e-05,  2.20961626e-04],\n",
       "       [ 4.48585482e-06, -6.47472658e-05,  2.02998635e-05,\n",
       "         1.12768749e-04, -6.90717840e-05],\n",
       "       [-5.07388591e-05,  5.69296180e-05, -5.54391284e-05,\n",
       "         9.44529753e-05, -6.20967030e-05],\n",
       "       [ 1.05400889e-05,  2.10718898e-05, -1.32468610e-05,\n",
       "        -4.42767814e-05,  1.91285621e-05]])\n",
       "Dimensions without coordinates: order, val"
      ]
     },
     "execution_count": 896,
     "metadata": {},
     "output_type": "execute_result"
    }
   ],
   "source": [
    "xem_log.xcoefs(norm=False)# - extModelLog.params"
   ]
  },
  {
   "cell_type": "code",
   "execution_count": 897,
   "metadata": {},
   "outputs": [
    {
     "data": {
      "text/plain": [
       "array([[ 6.92326220e-01,  6.95158101e-01,  6.92383757e-01,\n",
       "         6.94896673e-01,  6.90846049e-01],\n",
       "       [ 2.69773834e-04, -2.27673014e-04,  4.07282201e-04,\n",
       "         1.07002690e-05,  2.20961626e-04],\n",
       "       [ 4.48585482e-06, -6.47472658e-05,  2.02998635e-05,\n",
       "         1.12768749e-04, -6.90717840e-05],\n",
       "       [-5.07388591e-05,  5.69296180e-05, -5.54391284e-05,\n",
       "         9.44529753e-05, -6.20967030e-05],\n",
       "       [ 1.05400889e-05,  2.10718898e-05, -1.32468610e-05,\n",
       "        -4.42767814e-05,  1.91285621e-05]])"
      ]
     },
     "execution_count": 897,
     "metadata": {},
     "output_type": "execute_result"
    }
   ],
   "source": [
    "extModelLog.params"
   ]
  },
  {
   "cell_type": "code",
   "execution_count": 895,
   "metadata": {},
   "outputs": [
    {
     "data": {
      "text/html": [
       "<pre>&lt;xarray.DataArray (beta: 4, val: 5)&gt;\n",
       "array([[0.00000000e+00, 0.00000000e+00, 0.00000000e+00, 0.00000000e+00,\n",
       "        0.00000000e+00],\n",
       "       [0.00000000e+00, 0.00000000e+00, 0.00000000e+00, 1.11022302e-16,\n",
       "        0.00000000e+00],\n",
       "       [0.00000000e+00, 0.00000000e+00, 0.00000000e+00, 0.00000000e+00,\n",
       "        0.00000000e+00],\n",
       "       [0.00000000e+00, 0.00000000e+00, 0.00000000e+00, 0.00000000e+00,\n",
       "        0.00000000e+00]])\n",
       "Coordinates:\n",
       "  * beta     (beta) float64 0.1 0.2 0.3 0.4\n",
       "    dbeta    (beta) float64 -0.4 -0.3 -0.2 -0.1\n",
       "    beta0    float64 0.5\n",
       "Dimensions without coordinates: val</pre>"
      ],
      "text/plain": [
       "<xarray.DataArray (beta: 4, val: 5)>\n",
       "array([[0.00000000e+00, 0.00000000e+00, 0.00000000e+00, 0.00000000e+00,\n",
       "        0.00000000e+00],\n",
       "       [0.00000000e+00, 0.00000000e+00, 0.00000000e+00, 1.11022302e-16,\n",
       "        0.00000000e+00],\n",
       "       [0.00000000e+00, 0.00000000e+00, 0.00000000e+00, 0.00000000e+00,\n",
       "        0.00000000e+00],\n",
       "       [0.00000000e+00, 0.00000000e+00, 0.00000000e+00, 0.00000000e+00,\n",
       "        0.00000000e+00]])\n",
       "Coordinates:\n",
       "  * beta     (beta) float64 0.1 0.2 0.3 0.4\n",
       "    dbeta    (beta) float64 -0.4 -0.3 -0.2 -0.1\n",
       "    beta0    float64 0.5\n",
       "Dimensions without coordinates: val"
      ]
     },
     "execution_count": 895,
     "metadata": {},
     "output_type": "execute_result"
    }
   ],
   "source": [
    "xem_log.predict(betas, order=4) - extModelLog.predict(betas, order=4)"
   ]
  },
  {
   "cell_type": "code",
   "execution_count": 881,
   "metadata": {},
   "outputs": [],
   "source": [
    "s = core.factory_coefs(minus_log=True)"
   ]
  },
  {
   "cell_type": "code",
   "execution_count": 884,
   "metadata": {},
   "outputs": [
    {
     "data": {
      "text/html": [
       "<pre>&lt;xarray.DataArray &#x27;x&#x27; (order: 5, val: 5)&gt;\n",
       "array([[ 0.00000000e+00,  0.00000000e+00,  0.00000000e+00,\n",
       "         0.00000000e+00,  0.00000000e+00],\n",
       "       [ 0.00000000e+00,  0.00000000e+00,  0.00000000e+00,\n",
       "         0.00000000e+00,  0.00000000e+00],\n",
       "       [ 8.47032947e-22, -1.35525272e-20, -5.54637174e-17,\n",
       "         1.35525272e-20,  0.00000000e+00],\n",
       "       [ 5.54637174e-17, -5.56195714e-17, -5.55450325e-17,\n",
       "        -2.78030095e-16, -1.35525272e-20],\n",
       "       [ 3.88318867e-16,  8.34835673e-17,  3.32712848e-16,\n",
       "         2.22417299e-16,  8.30756362e-16]])\n",
       "Dimensions without coordinates: order, val</pre>"
      ],
      "text/plain": [
       "<xarray.DataArray 'x' (order: 5, val: 5)>\n",
       "array([[ 0.00000000e+00,  0.00000000e+00,  0.00000000e+00,\n",
       "         0.00000000e+00,  0.00000000e+00],\n",
       "       [ 0.00000000e+00,  0.00000000e+00,  0.00000000e+00,\n",
       "         0.00000000e+00,  0.00000000e+00],\n",
       "       [ 8.47032947e-22, -1.35525272e-20, -5.54637174e-17,\n",
       "         1.35525272e-20,  0.00000000e+00],\n",
       "       [ 5.54637174e-17, -5.56195714e-17, -5.55450325e-17,\n",
       "        -2.78030095e-16, -1.35525272e-20],\n",
       "       [ 3.88318867e-16,  8.34835673e-17,  3.32712848e-16,\n",
       "         2.22417299e-16,  8.30756362e-16]])\n",
       "Dimensions without coordinates: order, val"
      ]
     },
     "execution_count": 884,
     "metadata": {},
     "output_type": "execute_result"
    }
   ],
   "source": [
    "s.xcoefs(xem.data, xem.order, norm=False) - extModelLog.params"
   ]
  },
  {
   "cell_type": "code",
   "execution_count": 598,
   "metadata": {},
   "outputs": [
    {
     "data": {
      "text/latex": [
       "$\\displaystyle 4 {X}_{0} {X}_{2} + 3 {X}_{1}^{2}$"
      ],
      "text/plain": [
       "4*X[0]*X[2] + 3*X[1]**2"
      ]
     },
     "execution_count": 598,
     "metadata": {},
     "output_type": "execute_result"
    }
   ],
   "source": [
    "sp.bell(4, 2, X)"
   ]
  }
 ],
 "metadata": {
  "kernelspec": {
   "display_name": "Python [conda env:.conda-py37]",
   "language": "python",
   "name": "conda-env-.conda-py37-py"
  },
  "language_info": {
   "codemirror_mode": {
    "name": "ipython",
    "version": 3
   },
   "file_extension": ".py",
   "mimetype": "text/x-python",
   "name": "python",
   "nbconvert_exporter": "python",
   "pygments_lexer": "ipython3",
   "version": "3.7.6"
  },
  "toc": {
   "base_numbering": 1,
   "nav_menu": {},
   "number_sections": true,
   "sideBar": true,
   "skip_h1_title": false,
   "title_cell": "Table of Contents",
   "title_sidebar": "Contents",
   "toc_cell": false,
   "toc_position": {
    "height": "calc(100% - 180px)",
    "left": "10px",
    "top": "150px",
    "width": "380px"
   },
   "toc_section_display": true,
   "toc_window_display": true
  }
 },
 "nbformat": 4,
 "nbformat_minor": 2
}
