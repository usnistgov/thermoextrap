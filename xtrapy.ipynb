{
 "cells": [
  {
   "cell_type": "code",
   "execution_count": 2,
   "metadata": {},
   "outputs": [],
   "source": [
    "%matplotlib inline\n",
    "import numpy as np\n",
    "import matplotlib.pyplot as plt\n",
    "import matplotlib as mpl\n",
    "from thermoextrap import *\n",
    "import thermoextrap\n"
   ]
  },
  {
   "cell_type": "code",
   "execution_count": 3,
   "metadata": {},
   "outputs": [],
   "source": [
    "# xtrapy stuff:\n",
    "# note, just using single module right now.  Can retinker\n",
    "import thermoextrap.xtrapy.core as core\n",
    "import xarray as xr"
   ]
  },
  {
   "cell_type": "code",
   "execution_count": 4,
   "metadata": {},
   "outputs": [],
   "source": [
    "from importlib import reload"
   ]
  },
  {
   "cell_type": "code",
   "execution_count": 6,
   "metadata": {},
   "outputs": [],
   "source": [
    "order = 6\n",
    "fs = [thermoextrap.symDerivAvgX(i) for i in range(order+1)]"
   ]
  },
  {
   "cell_type": "code",
   "execution_count": 58,
   "metadata": {},
   "outputs": [],
   "source": [
    "# test Data\n",
    "# samples\n",
    "n = int(1e5)\n",
    "# number of x values\n",
    "nv = 5\n",
    "\n",
    "_u_offset = 0.0\n",
    "_x_offset = 0.0\n",
    "\n",
    "\n",
    "np.random.seed(0)\n",
    "u = np.random.randn(n) + _u_offset\n",
    "x = np.random.randn(n, nv) + _x_offset\n",
    "\n",
    "# second set, to testing\n",
    "ub = np.random.randn(n) + _u_offset\n",
    "xb = np.random.randn(n, nv) + _x_offset"
   ]
  },
  {
   "cell_type": "markdown",
   "metadata": {},
   "source": [
    "# comparison of xtrapy"
   ]
  },
  {
   "cell_type": "markdown",
   "metadata": {},
   "source": [
    "## Data averages"
   ]
  },
  {
   "cell_type": "code",
   "execution_count": 22,
   "metadata": {},
   "outputs": [],
   "source": [
    "# Test \"coefs\"\n",
    "ufunc, xufunc = thermoextrap.buildAvgFuncs(x, u, order)\n",
    "coefs_list = [fs[i](ufunc, xufunc) for i in range(order+1)]"
   ]
  },
  {
   "cell_type": "code",
   "execution_count": 12,
   "metadata": {},
   "outputs": [],
   "source": [
    "# coefficient class handler\n",
    "# raw moments\n",
    "\n",
    "# coefficient builder\n",
    "s = core.factory_coefs()\n",
    "# data object\n",
    "data = core.factory_data(u, x, order=order, chunk=1000)"
   ]
  },
  {
   "cell_type": "code",
   "execution_count": 18,
   "metadata": {},
   "outputs": [
    {
     "name": "stdout",
     "output_type": "stream",
     "text": [
      "<xarray.DataArray (moment: 7)>\n",
      "array([ 0.00000000e+00, -1.73472348e-18,  2.22044605e-16,  1.56125113e-17,\n",
      "       -4.44089210e-16,  4.16333634e-17,  0.00000000e+00])\n",
      "Dimensions without coordinates: moment\n",
      "<xarray.DataArray (moment: 7, val: 5)>\n",
      "array([[-2.31748214e-18, -1.95156391e-17, -1.95156391e-17,\n",
      "        -2.16840434e-17,  3.64291930e-17],\n",
      "       [ 3.68628739e-17,  3.79470760e-17, -2.60208521e-18,\n",
      "        -2.64545330e-17,  2.51534904e-17],\n",
      "       [ 3.38271078e-17, -1.21430643e-17,  2.77555756e-17,\n",
      "        -5.37764278e-17, -3.90312782e-18],\n",
      "       [-1.04083409e-17, -1.37043155e-16,  3.22008045e-17,\n",
      "        -9.54097912e-17,  1.21430643e-17],\n",
      "       [-1.80411242e-16,  1.38777878e-17,  1.97064587e-15,\n",
      "        -3.52148866e-16,  2.35922393e-16],\n",
      "       [-1.13797860e-15,  9.71445147e-17,  1.11022302e-16,\n",
      "         1.34614542e-15,  3.19189120e-16],\n",
      "       [ 2.69229083e-15,  0.00000000e+00, -2.55351296e-15,\n",
      "         1.11022302e-16,  3.55271368e-15]])\n",
      "Dimensions without coordinates: moment, val\n"
     ]
    }
   ],
   "source": [
    "# Note very slight difference in averages.\n",
    "# this is due to numerics\n",
    "print(data.u - [ufunc(i) for i in range(order+1)])\n",
    "print(data.xu - [xufunc(i) for i in range(order+1)])"
   ]
  },
  {
   "cell_type": "markdown",
   "metadata": {},
   "source": [
    "## coefficients of expansion"
   ]
  },
  {
   "cell_type": "code",
   "execution_count": 103,
   "metadata": {},
   "outputs": [
    {
     "data": {
      "text/html": [
       "<pre>&lt;xarray.DataArray (order: 7, val: 5)&gt;\n",
       "array([[-5.26628491e-06,  3.39239159e-03,  2.89830343e-03,\n",
       "         3.43396374e-03,  4.91478773e-03],\n",
       "       [ 1.27708672e-03, -1.10354623e-03, -4.64955473e-03,\n",
       "        -1.81153158e-03,  4.19100051e-03],\n",
       "       [-6.96864733e-03,  6.04688926e-03,  6.42078870e-03,\n",
       "        -3.62346113e-04, -7.66741419e-03],\n",
       "       [ 1.54642404e-03, -8.66470217e-03,  1.42322219e-02,\n",
       "        -4.04333530e-03, -7.50963704e-03],\n",
       "       [ 4.20134241e-03,  1.70529618e-02,  2.04405735e-02,\n",
       "         6.54647411e-03, -4.94074536e-03],\n",
       "       [-9.45665452e-02,  2.96173445e-02,  8.98870661e-03,\n",
       "         1.63936695e-02, -1.45316798e-02],\n",
       "       [ 1.36967756e-02, -1.13507449e-01,  2.02304524e-01,\n",
       "         1.71992024e-01,  5.60800347e-02]])\n",
       "Dimensions without coordinates: order, val</pre>"
      ],
      "text/plain": [
       "<xarray.DataArray (order: 7, val: 5)>\n",
       "array([[-5.26628491e-06,  3.39239159e-03,  2.89830343e-03,\n",
       "         3.43396374e-03,  4.91478773e-03],\n",
       "       [ 1.27708672e-03, -1.10354623e-03, -4.64955473e-03,\n",
       "        -1.81153158e-03,  4.19100051e-03],\n",
       "       [-6.96864733e-03,  6.04688926e-03,  6.42078870e-03,\n",
       "        -3.62346113e-04, -7.66741419e-03],\n",
       "       [ 1.54642404e-03, -8.66470217e-03,  1.42322219e-02,\n",
       "        -4.04333530e-03, -7.50963704e-03],\n",
       "       [ 4.20134241e-03,  1.70529618e-02,  2.04405735e-02,\n",
       "         6.54647411e-03, -4.94074536e-03],\n",
       "       [-9.45665452e-02,  2.96173445e-02,  8.98870661e-03,\n",
       "         1.63936695e-02, -1.45316798e-02],\n",
       "       [ 1.36967756e-02, -1.13507449e-01,  2.02304524e-01,\n",
       "         1.71992024e-01,  5.60800347e-02]])\n",
       "Dimensions without coordinates: order, val"
      ]
     },
     "execution_count": 103,
     "metadata": {},
     "output_type": "execute_result"
    }
   ],
   "source": [
    "# norm = True, include 1/ n!  factor\n",
    "# if want straight coeffs, use norm=False\n",
    "c = s.xcoefs(data, norm=False) \n",
    "c"
   ]
  },
  {
   "cell_type": "code",
   "execution_count": 104,
   "metadata": {},
   "outputs": [],
   "source": [
    "# test equal to old way\n",
    "np.testing.assert_allclose(c, coefs_list, rtol=1e-5)"
   ]
  },
  {
   "cell_type": "code",
   "execution_count": 105,
   "metadata": {},
   "outputs": [
    {
     "data": {
      "text/html": [
       "<pre>&lt;xarray.DataArray &#x27;x&#x27; (order: 7, val: 5)&gt;\n",
       "array([[-5.26628491e-06,  3.39239159e-03,  2.89830343e-03,\n",
       "         3.43396374e-03,  4.91478773e-03],\n",
       "       [ 1.27708672e-03, -1.10354623e-03, -4.64955473e-03,\n",
       "        -1.81153158e-03,  4.19100051e-03],\n",
       "       [-6.96864733e-03,  6.04688926e-03,  6.42078870e-03,\n",
       "        -3.62346113e-04, -7.66741419e-03],\n",
       "       [ 1.54642404e-03, -8.66470217e-03,  1.42322219e-02,\n",
       "        -4.04333530e-03, -7.50963704e-03],\n",
       "       [ 4.20134241e-03,  1.70529618e-02,  2.04405735e-02,\n",
       "         6.54647411e-03, -4.94074536e-03],\n",
       "       [-9.45665452e-02,  2.96173445e-02,  8.98870661e-03,\n",
       "         1.63936695e-02, -1.45316798e-02],\n",
       "       [ 1.36967756e-02, -1.13507449e-01,  2.02304524e-01,\n",
       "         1.71992024e-01,  5.60800347e-02]])\n",
       "Dimensions without coordinates: order, val</pre>"
      ],
      "text/plain": [
       "<xarray.DataArray 'x' (order: 7, val: 5)>\n",
       "array([[-5.26628491e-06,  3.39239159e-03,  2.89830343e-03,\n",
       "         3.43396374e-03,  4.91478773e-03],\n",
       "       [ 1.27708672e-03, -1.10354623e-03, -4.64955473e-03,\n",
       "        -1.81153158e-03,  4.19100051e-03],\n",
       "       [-6.96864733e-03,  6.04688926e-03,  6.42078870e-03,\n",
       "        -3.62346113e-04, -7.66741419e-03],\n",
       "       [ 1.54642404e-03, -8.66470217e-03,  1.42322219e-02,\n",
       "        -4.04333530e-03, -7.50963704e-03],\n",
       "       [ 4.20134241e-03,  1.70529618e-02,  2.04405735e-02,\n",
       "         6.54647411e-03, -4.94074536e-03],\n",
       "       [-9.45665452e-02,  2.96173445e-02,  8.98870661e-03,\n",
       "         1.63936695e-02, -1.45316798e-02],\n",
       "       [ 1.36967756e-02, -1.13507449e-01,  2.02304524e-01,\n",
       "         1.71992024e-01,  5.60800347e-02]])\n",
       "Dimensions without coordinates: order, val"
      ]
     },
     "execution_count": 105,
     "metadata": {},
     "output_type": "execute_result"
    }
   ],
   "source": [
    "# instead, can use central moments\n",
    "s_c = core.factory_coefs(central=True)\n",
    "data_c = core.factory_data(u, x, order=order, central=True)\n",
    "\n",
    "c_c = s_c.xcoefs(data_c, norm=False)\n",
    "c_c"
   ]
  },
  {
   "cell_type": "code",
   "execution_count": 106,
   "metadata": {},
   "outputs": [],
   "source": [
    "# test close\n",
    "np.testing.assert_allclose(s.xcoefs(data), sc.xcoefs(datac))"
   ]
  },
  {
   "cell_type": "markdown",
   "metadata": {},
   "source": [
    "# nice-ness of central moments"
   ]
  },
  {
   "cell_type": "code",
   "execution_count": 107,
   "metadata": {},
   "outputs": [
    {
     "name": "stdout",
     "output_type": "stream",
     "text": [
      "0: xu[0]\n",
      "1: u[1]*xu[0] - xu[1]\n",
      "2: 2*u[1]**2*xu[0] - 2*u[1]*xu[1] - u[2]*xu[0] + xu[2]\n",
      "3: 6*u[1]**3*xu[0] - 6*u[1]**2*xu[1] - 6*u[1]*u[2]*xu[0] + 3*u[1]*xu[2] + 3*u[2]*xu[1] + u[3]*xu[0] - xu[3]\n",
      "4: 24*u[1]**4*xu[0] - 24*u[1]**3*xu[1] - 36*u[1]**2*u[2]*xu[0] + 12*u[1]**2*xu[2] + 24*u[1]*u[2]*xu[1] + 8*u[1]*u[3]*xu[0] - 4*u[1]*xu[3] + 6*u[2]**2*xu[0] - 6*u[2]*xu[2] - 4*u[3]*xu[1] - u[4]*xu[0] + xu[4]\n",
      "5: 120*u[1]**5*xu[0] - 120*u[1]**4*xu[1] - 240*u[1]**3*u[2]*xu[0] + 60*u[1]**3*xu[2] + 180*u[1]**2*u[2]*xu[1] + 60*u[1]**2*u[3]*xu[0] - 20*u[1]**2*xu[3] + 90*u[1]*u[2]**2*xu[0] - 60*u[1]*u[2]*xu[2] - 40*u[1]*u[3]*xu[1] - 10*u[1]*u[4]*xu[0] + 5*u[1]*xu[4] - 30*u[2]**2*xu[1] - 20*u[2]*u[3]*xu[0] + 10*u[2]*xu[3] + 10*u[3]*xu[2] + 5*u[4]*xu[1] + u[5]*xu[0] - xu[5]\n",
      "6: 720*u[1]**6*xu[0] - 720*u[1]**5*xu[1] - 1800*u[1]**4*u[2]*xu[0] + 360*u[1]**4*xu[2] + 1440*u[1]**3*u[2]*xu[1] + 480*u[1]**3*u[3]*xu[0] - 120*u[1]**3*xu[3] + 1080*u[1]**2*u[2]**2*xu[0] - 540*u[1]**2*u[2]*xu[2] - 360*u[1]**2*u[3]*xu[1] - 90*u[1]**2*u[4]*xu[0] + 30*u[1]**2*xu[4] - 540*u[1]*u[2]**2*xu[1] - 360*u[1]*u[2]*u[3]*xu[0] + 120*u[1]*u[2]*xu[3] + 120*u[1]*u[3]*xu[2] + 60*u[1]*u[4]*xu[1] + 12*u[1]*u[5]*xu[0] - 6*u[1]*xu[5] - 90*u[2]**3*xu[0] + 90*u[2]**2*xu[2] + 120*u[2]*u[3]*xu[1] + 30*u[2]*u[4]*xu[0] - 15*u[2]*xu[4] + 20*u[3]**2*xu[0] - 20*u[3]*xu[3] - 15*u[4]*xu[2] - 6*u[5]*xu[1] - u[6]*xu[0] + xu[6]\n"
     ]
    }
   ],
   "source": [
    "# coeffs using raw moments u[i], xu[i]\n",
    "for i in range(order+1):\n",
    "    print('{}: {}'.format(i, s.exprs[i]))"
   ]
  },
  {
   "cell_type": "code",
   "execution_count": 66,
   "metadata": {},
   "outputs": [
    {
     "name": "stdout",
     "output_type": "stream",
     "text": [
      "0: x1\n",
      "1: -dxdu[1]\n",
      "2: dxdu[2]\n",
      "3: 3*du[2]*dxdu[1] - dxdu[3]\n",
      "4: -6*du[2]*dxdu[2] - 4*du[3]*dxdu[1] + dxdu[4]\n",
      "5: -30*du[2]**2*dxdu[1] + 10*du[2]*dxdu[3] + 10*du[3]*dxdu[2] + 5*du[4]*dxdu[1] - dxdu[5]\n",
      "6: 90*du[2]**2*dxdu[2] + 120*du[2]*du[3]*dxdu[1] - 15*du[2]*dxdu[4] - 20*du[3]*dxdu[3] - 15*du[4]*dxdu[2] - 6*du[5]*dxdu[1] + dxdu[6]\n"
     ]
    }
   ],
   "source": [
    "# coeffs using central moments du[i] = <(u-<u>)**i> \n",
    "\n",
    "for i in range(order+1):\n",
    "    print('{}: {}'.format(i, s_c.exprs[i]))"
   ]
  },
  {
   "cell_type": "code",
   "execution_count": null,
   "metadata": {},
   "outputs": [],
   "source": [
    "# so not only are central moments more stable, the resulting expressions\n",
    "# are way simplier!"
   ]
  },
  {
   "cell_type": "markdown",
   "metadata": {},
   "source": [
    "# taking advantage of xarray"
   ]
  },
  {
   "cell_type": "code",
   "execution_count": 71,
   "metadata": {},
   "outputs": [],
   "source": [
    "# make a dataset of two values:\n",
    "\n",
    "x_set = xr.merge((core.xrwrap_xv(xx, name=name) \n",
    "                  for xx, name in zip([x, xB], ['a','b'])))\n",
    "x_set\n",
    "\n",
    "data_set = core.factory_data(u, x_set, order)\n",
    "data_set_c = core.factory_data(u, x_set, order, central=True)\n",
    "\n",
    "\n",
    "# need \"other\" x for comparison\n",
    "datab = core.factory_data(u, xb, order)\n",
    "datab_c = core.factory_data(u, xb, order, central=True)"
   ]
  },
  {
   "cell_type": "code",
   "execution_count": 113,
   "metadata": {},
   "outputs": [
    {
     "name": "stdout",
     "output_type": "stream",
     "text": [
      "<xarray.Dataset>\n",
      "Dimensions:  (rec: 100000, val: 5)\n",
      "Dimensions without coordinates: rec, val\n",
      "Data variables:\n",
      "    a        (rec, val) float64 -0.4838 1.288 -0.1299 ... 0.5532 1.626 -0.327\n",
      "    b        (rec, val) float64 0.7908 0.3241 -0.2293 ... -2.26 0.5923 1.667\n",
      "<xarray.Dataset>\n",
      "Dimensions:  (moment: 7, val: 5)\n",
      "Dimensions without coordinates: moment, val\n",
      "Data variables:\n",
      "    a        (moment, val) float64 -5.266e-06 0.003392 ... 0.3043 -0.2864\n",
      "    b        (moment, val) float64 -0.003121 0.002491 ... -0.2059 -0.2101\n"
     ]
    }
   ],
   "source": [
    "# note that data_set has multiple measurements in it.  Very nice...\n",
    "print(data_set.xv)\n",
    "print(data_set.xu)"
   ]
  },
  {
   "cell_type": "code",
   "execution_count": 114,
   "metadata": {},
   "outputs": [],
   "source": [
    "ufuncb, xufuncb = thermoextrap.buildAvgFuncs(xb, u, order)\n",
    "coefs_listb = [fs[i](ufuncb, xufuncb) for i in range(order+1)]"
   ]
  },
  {
   "cell_type": "code",
   "execution_count": 115,
   "metadata": {},
   "outputs": [],
   "source": [
    "# make sure have same value\n",
    "np.testing.assert_allclose(s.xcoefs(datab,  norm=False), coefs_listb)"
   ]
  },
  {
   "cell_type": "code",
   "execution_count": 119,
   "metadata": {},
   "outputs": [
    {
     "data": {
      "text/html": [
       "<pre>&lt;xarray.Dataset&gt;\n",
       "Dimensions:  (order: 7, val: 5)\n",
       "Dimensions without coordinates: order, val\n",
       "Data variables:\n",
       "    a        (order, val) float64 -5.266e-06 0.003392 0.002898 ... 0.172 0.05608\n",
       "    b        (order, val) float64 -0.003121 0.002491 ... -0.1788 -0.08108</pre>"
      ],
      "text/plain": [
       "<xarray.Dataset>\n",
       "Dimensions:  (order: 7, val: 5)\n",
       "Dimensions without coordinates: order, val\n",
       "Data variables:\n",
       "    a        (order, val) float64 -5.266e-06 0.003392 0.002898 ... 0.172 0.05608\n",
       "    b        (order, val) float64 -0.003121 0.002491 ... -0.1788 -0.08108"
      ]
     },
     "execution_count": 119,
     "metadata": {},
     "output_type": "execute_result"
    }
   ],
   "source": [
    "# consider dataset\n",
    "c_set = s.xcoefs(data_set, norm=False)\n",
    "c_set"
   ]
  },
  {
   "cell_type": "code",
   "execution_count": 122,
   "metadata": {},
   "outputs": [],
   "source": [
    "# testing\n",
    "cb = s.xcoefs(datab, norm=False)\n",
    "np.testing.assert_allclose(c_set.a, c)\n",
    "np.testing.assert_allclose(c_set.b, cb)"
   ]
  },
  {
   "cell_type": "code",
   "execution_count": 135,
   "metadata": {},
   "outputs": [],
   "source": [
    "# central\n",
    "c_set_c = s_c.xcoefs(data_set_c, norm=False)\n",
    "# test\n",
    "xr.testing.assert_allclose(c_set, c_set_c)"
   ]
  },
  {
   "cell_type": "markdown",
   "metadata": {},
   "source": [
    "# resampling"
   ]
  },
  {
   "cell_type": "code",
   "execution_count": 124,
   "metadata": {},
   "outputs": [
    {
     "data": {
      "text/html": [
       "<pre>&lt;xarray.DataArray (rep: 10, moment: 7)&gt;\n",
       "array([[ 1.00000000e+00, -3.13403868e-03,  9.93667046e-01,\n",
       "        -8.54395120e-03,  2.99692090e+00, -5.97418461e-03,\n",
       "         1.51477901e+01],\n",
       "       [ 1.00000000e+00, -1.13890086e-03,  9.95952535e-01,\n",
       "        -2.12779385e-02,  2.99907222e+00, -1.58219499e-01,\n",
       "         1.50000342e+01],\n",
       "       [ 1.00000000e+00,  2.83240274e-03,  9.85985884e-01,\n",
       "        -9.24142376e-03,  2.94903860e+00, -1.25734181e-01,\n",
       "         1.46980557e+01],\n",
       "       [ 1.00000000e+00, -6.14618075e-04,  9.94750192e-01,\n",
       "        -2.29062816e-02,  3.04009678e+00, -2.92621119e-01,\n",
       "         1.60872607e+01],\n",
       "       [ 1.00000000e+00,  7.25005677e-03,  9.95187658e-01,\n",
       "         4.64656274e-03,  3.00109608e+00, -5.75221482e-02,\n",
       "         1.51020405e+01],\n",
       "       [ 1.00000000e+00,  4.50487239e-03,  9.95077292e-01,\n",
       "        -5.00602242e-03,  2.99952427e+00, -1.15973966e-01,\n",
       "         1.51201117e+01],\n",
       "       [ 1.00000000e+00, -2.17402783e-03,  1.00304272e+00,\n",
       "        -1.31096049e-02,  3.07710350e+00, -1.02905846e-01,\n",
       "         1.59553272e+01],\n",
       "       [ 1.00000000e+00,  2.55176623e-03,  9.90251189e-01,\n",
       "        -1.67637701e-02,  2.98890659e+00, -2.05339253e-01,\n",
       "         1.51913506e+01],\n",
       "       [ 1.00000000e+00,  2.83275812e-04,  9.95852422e-01,\n",
       "        -1.06883022e-02,  3.00188062e+00, -1.45365040e-01,\n",
       "         1.51101883e+01],\n",
       "       [ 1.00000000e+00,  3.69151686e-04,  9.98317649e-01,\n",
       "        -3.83958919e-03,  3.02156601e+00, -2.88745776e-02,\n",
       "         1.52927629e+01]])\n",
       "Dimensions without coordinates: rep, moment</pre>"
      ],
      "text/plain": [
       "<xarray.DataArray (rep: 10, moment: 7)>\n",
       "array([[ 1.00000000e+00, -3.13403868e-03,  9.93667046e-01,\n",
       "        -8.54395120e-03,  2.99692090e+00, -5.97418461e-03,\n",
       "         1.51477901e+01],\n",
       "       [ 1.00000000e+00, -1.13890086e-03,  9.95952535e-01,\n",
       "        -2.12779385e-02,  2.99907222e+00, -1.58219499e-01,\n",
       "         1.50000342e+01],\n",
       "       [ 1.00000000e+00,  2.83240274e-03,  9.85985884e-01,\n",
       "        -9.24142376e-03,  2.94903860e+00, -1.25734181e-01,\n",
       "         1.46980557e+01],\n",
       "       [ 1.00000000e+00, -6.14618075e-04,  9.94750192e-01,\n",
       "        -2.29062816e-02,  3.04009678e+00, -2.92621119e-01,\n",
       "         1.60872607e+01],\n",
       "       [ 1.00000000e+00,  7.25005677e-03,  9.95187658e-01,\n",
       "         4.64656274e-03,  3.00109608e+00, -5.75221482e-02,\n",
       "         1.51020405e+01],\n",
       "       [ 1.00000000e+00,  4.50487239e-03,  9.95077292e-01,\n",
       "        -5.00602242e-03,  2.99952427e+00, -1.15973966e-01,\n",
       "         1.51201117e+01],\n",
       "       [ 1.00000000e+00, -2.17402783e-03,  1.00304272e+00,\n",
       "        -1.31096049e-02,  3.07710350e+00, -1.02905846e-01,\n",
       "         1.59553272e+01],\n",
       "       [ 1.00000000e+00,  2.55176623e-03,  9.90251189e-01,\n",
       "        -1.67637701e-02,  2.98890659e+00, -2.05339253e-01,\n",
       "         1.51913506e+01],\n",
       "       [ 1.00000000e+00,  2.83275812e-04,  9.95852422e-01,\n",
       "        -1.06883022e-02,  3.00188062e+00, -1.45365040e-01,\n",
       "         1.51101883e+01],\n",
       "       [ 1.00000000e+00,  3.69151686e-04,  9.98317649e-01,\n",
       "        -3.83958919e-03,  3.02156601e+00, -2.88745776e-02,\n",
       "         1.52927629e+01]])\n",
       "Dimensions without coordinates: rep, moment"
      ]
     },
     "execution_count": 124,
     "metadata": {},
     "output_type": "execute_result"
    }
   ],
   "source": [
    "# resampling\n",
    "data.resample(10).u"
   ]
  },
  {
   "cell_type": "code",
   "execution_count": 125,
   "metadata": {},
   "outputs": [],
   "source": [
    "# testing resampling:\n",
    "# use same resampler for all\n",
    "idx = core.resample_indicies(len(data), nrep=10)"
   ]
  },
  {
   "cell_type": "code",
   "execution_count": 127,
   "metadata": {},
   "outputs": [],
   "source": [
    "c_r = s.xcoefs(data.resample(nrep=None, idx=idx))\n",
    "cb_r = s.xcoefs(datab.resample(None, idx))\n",
    "cs_r = s.xcoefs(data_set.resample(None, idx))"
   ]
  },
  {
   "cell_type": "code",
   "execution_count": 134,
   "metadata": {},
   "outputs": [],
   "source": [
    "np.testing.assert_allclose(cs_r.a, c_r)\n",
    "np.testing.assert_allclose(cs_r.b, cb_r)"
   ]
  },
  {
   "cell_type": "code",
   "execution_count": 138,
   "metadata": {},
   "outputs": [],
   "source": [
    "# center\n",
    "cs_c_r = s_c.xcoefs(data_set_c.resample(None, idx))"
   ]
  },
  {
   "cell_type": "code",
   "execution_count": 142,
   "metadata": {},
   "outputs": [],
   "source": [
    "xr.testing.assert_allclose(cs_r, cs_c_r)"
   ]
  },
  {
   "cell_type": "markdown",
   "metadata": {},
   "source": [
    "# resampling time and chunking"
   ]
  },
  {
   "cell_type": "code",
   "execution_count": 175,
   "metadata": {},
   "outputs": [],
   "source": [
    "# xarray is built on dask.  I'm no expert, that this speed things up\n",
    "# use chunking to create a dask array of uv, xv"
   ]
  },
  {
   "cell_type": "code",
   "execution_count": 159,
   "metadata": {},
   "outputs": [],
   "source": [
    "idx = core.resample_indicies(len(a), nrep=100)"
   ]
  },
  {
   "cell_type": "code",
   "execution_count": 165,
   "metadata": {},
   "outputs": [],
   "source": [
    "a = core.factory_data(u, x, order, False)\n",
    "# chunk\n",
    "b = core.factory_data(u, x, order, chunk=1000)"
   ]
  },
  {
   "cell_type": "code",
   "execution_count": 166,
   "metadata": {},
   "outputs": [
    {
     "name": "stdout",
     "output_type": "stream",
     "text": [
      "4.72 s ± 0 ns per loop (mean ± std. dev. of 1 run, 1 loop each)\n"
     ]
    }
   ],
   "source": [
    "%%timeit -n 1 -r 1\n",
    "aa = a.resample(None, idx)\n",
    "aa.u"
   ]
  },
  {
   "cell_type": "code",
   "execution_count": 167,
   "metadata": {},
   "outputs": [
    {
     "name": "stdout",
     "output_type": "stream",
     "text": [
      "1.83 s ± 0 ns per loop (mean ± std. dev. of 1 run, 1 loop each)\n"
     ]
    }
   ],
   "source": [
    "%%timeit -n 1 -r 1\n",
    "bb = b.resample(None, idx)\n",
    "bb.xu\n",
    "bb.u"
   ]
  },
  {
   "cell_type": "code",
   "execution_count": 168,
   "metadata": {},
   "outputs": [],
   "source": [
    "a = core.factory_data(u, x_set, order, False)\n",
    "# chunk\n",
    "b = core.factory_data(u, x_set, order, chunk=1000)"
   ]
  },
  {
   "cell_type": "code",
   "execution_count": 171,
   "metadata": {},
   "outputs": [
    {
     "name": "stdout",
     "output_type": "stream",
     "text": [
      "7.62 s ± 0 ns per loop (mean ± std. dev. of 1 run, 1 loop each)\n"
     ]
    }
   ],
   "source": [
    "%%timeit -n 1 -r 1\n",
    "aa = a.resample(None, idx)\n",
    "aa.u"
   ]
  },
  {
   "cell_type": "code",
   "execution_count": 172,
   "metadata": {},
   "outputs": [
    {
     "name": "stdout",
     "output_type": "stream",
     "text": [
      "2.99 s ± 0 ns per loop (mean ± std. dev. of 1 run, 1 loop each)\n"
     ]
    }
   ],
   "source": [
    "%%timeit -n 1 -r 1\n",
    "bb = b.resample(None, idx)\n",
    "bb.xu\n",
    "bb.u"
   ]
  },
  {
   "cell_type": "code",
   "execution_count": 174,
   "metadata": {},
   "outputs": [],
   "source": [
    "# note you can also chunk on resampling\n",
    "# thise is sometimes faster, because reindexing with idx\n",
    "# can be slow on chunked object"
   ]
  },
  {
   "cell_type": "code",
   "execution_count": 173,
   "metadata": {},
   "outputs": [
    {
     "name": "stdout",
     "output_type": "stream",
     "text": [
      "1.63 s ± 0 ns per loop (mean ± std. dev. of 1 run, 1 loop each)\n"
     ]
    }
   ],
   "source": [
    "%%timeit -n 1 -r 1\n",
    "aa = a.resample(None, idx, chunk=1000)\n",
    "aa.u"
   ]
  },
  {
   "cell_type": "markdown",
   "metadata": {},
   "source": [
    "# Extrap model"
   ]
  },
  {
   "cell_type": "code",
   "execution_count": 184,
   "metadata": {},
   "outputs": [
    {
     "data": {
      "text/plain": [
       "<module 'thermoextrap.xtrapy.core' from '/Users/wpk/Documents/python/projects/xtrapy/thermoextrap/xtrapy/core.py'>"
      ]
     },
     "execution_count": 184,
     "metadata": {},
     "output_type": "execute_result"
    }
   ],
   "source": [
    "reload(core)"
   ]
  },
  {
   "cell_type": "code",
   "execution_count": 180,
   "metadata": {},
   "outputs": [],
   "source": [
    "# test Extrap model\n",
    "betas = [0.1, 0.2]\n",
    "\n",
    "ref_beta = 0.0"
   ]
  },
  {
   "cell_type": "code",
   "execution_count": 177,
   "metadata": {},
   "outputs": [],
   "source": [
    "# blank model\n",
    "em = thermoextrap.ExtrapModel(maxOrder=order)"
   ]
  },
  {
   "cell_type": "code",
   "execution_count": 181,
   "metadata": {},
   "outputs": [],
   "source": [
    "params = em.train(ref_beta, xData=x, uData=u, saveParams=True)"
   ]
  },
  {
   "cell_type": "code",
   "execution_count": 182,
   "metadata": {},
   "outputs": [
    {
     "data": {
      "text/plain": [
       "array([[8.78568874e-05, 3.31082730e-03, 2.46782394e-03, 3.25032496e-03,\n",
       "        5.29429910e-03],\n",
       "       [1.12840011e-04, 3.28106719e-03, 2.11578456e-03, 3.05901939e-03,\n",
       "        5.58962669e-03]])"
      ]
     },
     "execution_count": 182,
     "metadata": {},
     "output_type": "execute_result"
    }
   ],
   "source": [
    "em.predict(betas, order=3)"
   ]
  },
  {
   "cell_type": "code",
   "execution_count": 185,
   "metadata": {},
   "outputs": [],
   "source": [
    "data = core.factory_data(u, x, order)\n",
    "xem  = core.ExtrapModel(order, 0.0, data)"
   ]
  },
  {
   "cell_type": "code",
   "execution_count": 186,
   "metadata": {},
   "outputs": [
    {
     "data": {
      "text/html": [
       "<pre>&lt;xarray.DataArray (beta: 2, val: 5)&gt;\n",
       "array([[8.78568874e-05, 3.31082730e-03, 2.46782394e-03, 3.25032496e-03,\n",
       "        5.29429910e-03],\n",
       "       [1.12840011e-04, 3.28106719e-03, 2.11578456e-03, 3.05901939e-03,\n",
       "        5.58962669e-03]])\n",
       "Coordinates:\n",
       "  * beta     (beta) float64 0.1 0.2\n",
       "    dbeta    (beta) float64 0.1 0.2\n",
       "    beta0    float64 0.0\n",
       "Dimensions without coordinates: val</pre>"
      ],
      "text/plain": [
       "<xarray.DataArray (beta: 2, val: 5)>\n",
       "array([[8.78568874e-05, 3.31082730e-03, 2.46782394e-03, 3.25032496e-03,\n",
       "        5.29429910e-03],\n",
       "       [1.12840011e-04, 3.28106719e-03, 2.11578456e-03, 3.05901939e-03,\n",
       "        5.58962669e-03]])\n",
       "Coordinates:\n",
       "  * beta     (beta) float64 0.1 0.2\n",
       "    dbeta    (beta) float64 0.1 0.2\n",
       "    beta0    float64 0.0\n",
       "Dimensions without coordinates: val"
      ]
     },
     "execution_count": 186,
     "metadata": {},
     "output_type": "execute_result"
    }
   ],
   "source": [
    "xem.predict(betas, order=3)"
   ]
  },
  {
   "cell_type": "code",
   "execution_count": 187,
   "metadata": {},
   "outputs": [
    {
     "data": {
      "text/plain": [
       "array([[8.78665315e-05, 3.31090066e-03, 2.46791014e-03, 3.25035385e-03,\n",
       "        5.29427738e-03],\n",
       "       [1.12869140e-04, 3.28227295e-03, 2.11718921e-03, 3.05951483e-03,\n",
       "        5.58926355e-03]])"
      ]
     },
     "execution_count": 187,
     "metadata": {},
     "output_type": "execute_result"
    }
   ],
   "source": [
    "em.predict(betas)"
   ]
  },
  {
   "cell_type": "code",
   "execution_count": 190,
   "metadata": {},
   "outputs": [
    {
     "data": {
      "text/html": [
       "<pre>&lt;xarray.DataArray (beta: 2, val: 5)&gt;\n",
       "array([[8.78665315e-05, 3.31090066e-03, 2.46791014e-03, 3.25035385e-03,\n",
       "        5.29427738e-03],\n",
       "       [1.12869140e-04, 3.28227295e-03, 2.11718921e-03, 3.05951483e-03,\n",
       "        5.58926355e-03]])\n",
       "Coordinates:\n",
       "  * beta     (beta) float64 0.1 0.2\n",
       "    dbeta    (beta) float64 0.1 0.2\n",
       "    beta0    float64 0.0\n",
       "Dimensions without coordinates: val</pre>"
      ],
      "text/plain": [
       "<xarray.DataArray (beta: 2, val: 5)>\n",
       "array([[8.78665315e-05, 3.31090066e-03, 2.46791014e-03, 3.25035385e-03,\n",
       "        5.29427738e-03],\n",
       "       [1.12869140e-04, 3.28227295e-03, 2.11718921e-03, 3.05951483e-03,\n",
       "        5.58926355e-03]])\n",
       "Coordinates:\n",
       "  * beta     (beta) float64 0.1 0.2\n",
       "    dbeta    (beta) float64 0.1 0.2\n",
       "    beta0    float64 0.0\n",
       "Dimensions without coordinates: val"
      ]
     },
     "execution_count": 190,
     "metadata": {},
     "output_type": "execute_result"
    }
   ],
   "source": [
    "xem.predict(betas)"
   ]
  },
  {
   "cell_type": "code",
   "execution_count": 194,
   "metadata": {},
   "outputs": [
    {
     "data": {
      "text/html": [
       "<pre>&lt;xarray.DataArray (beta: 2, val: 5)&gt;\n",
       "array([[8.78665315e-05, 3.31090066e-03, 2.46791014e-03, 3.25035385e-03,\n",
       "        5.29427738e-03],\n",
       "       [1.12869140e-04, 3.28227295e-03, 2.11718921e-03, 3.05951483e-03,\n",
       "        5.58926355e-03]])\n",
       "Coordinates:\n",
       "  * beta     (beta) float64 0.1 0.2\n",
       "    dbeta    (beta) float64 0.1 0.2\n",
       "    beta0    float64 0.0\n",
       "Dimensions without coordinates: val</pre>"
      ],
      "text/plain": [
       "<xarray.DataArray (beta: 2, val: 5)>\n",
       "array([[8.78665315e-05, 3.31090066e-03, 2.46791014e-03, 3.25035385e-03,\n",
       "        5.29427738e-03],\n",
       "       [1.12869140e-04, 3.28227295e-03, 2.11718921e-03, 3.05951483e-03,\n",
       "        5.58926355e-03]])\n",
       "Coordinates:\n",
       "  * beta     (beta) float64 0.1 0.2\n",
       "    dbeta    (beta) float64 0.1 0.2\n",
       "    beta0    float64 0.0\n",
       "Dimensions without coordinates: val"
      ]
     },
     "execution_count": 194,
     "metadata": {},
     "output_type": "execute_result"
    }
   ],
   "source": [
    "# central, and build from \"from_values\" method\n",
    "xem_c = core.ExtrapModel.from_values(order, ref_beta, u, x, central=True)\n",
    "xem_c.predict(betas)"
   ]
  },
  {
   "cell_type": "code",
   "execution_count": 195,
   "metadata": {},
   "outputs": [
    {
     "data": {
      "text/plain": [
       "array([[0.00293591, 0.00292712, 0.00268771, 0.00349113, 0.00376354],\n",
       "       [0.00291293, 0.00292223, 0.00281441, 0.00360803, 0.00398392]])"
      ]
     },
     "execution_count": 195,
     "metadata": {},
     "output_type": "execute_result"
    }
   ],
   "source": [
    "# resample\n",
    "em.bootstrap(betas, n=20)"
   ]
  },
  {
   "cell_type": "code",
   "execution_count": 200,
   "metadata": {},
   "outputs": [
    {
     "data": {
      "text/html": [
       "<pre>&lt;xarray.DataArray (beta: 2, val: 5)&gt;\n",
       "array([[0.00282823, 0.00311317, 0.00343669, 0.00338501, 0.00220608],\n",
       "       [0.00279997, 0.00318975, 0.00353456, 0.00351083, 0.00219159]])\n",
       "Coordinates:\n",
       "  * beta     (beta) float64 0.1 0.2\n",
       "    dbeta    (beta) float64 0.1 0.2\n",
       "    beta0    float64 0.0\n",
       "Dimensions without coordinates: val</pre>"
      ],
      "text/plain": [
       "<xarray.DataArray (beta: 2, val: 5)>\n",
       "array([[0.00282823, 0.00311317, 0.00343669, 0.00338501, 0.00220608],\n",
       "       [0.00279997, 0.00318975, 0.00353456, 0.00351083, 0.00219159]])\n",
       "Coordinates:\n",
       "  * beta     (beta) float64 0.1 0.2\n",
       "    dbeta    (beta) float64 0.1 0.2\n",
       "    beta0    float64 0.0\n",
       "Dimensions without coordinates: val"
      ]
     },
     "execution_count": 200,
     "metadata": {},
     "output_type": "execute_result"
    }
   ],
   "source": [
    "# resample data\n",
    "xem_r = xem.resample(20)\n",
    "xem_r.predict(betas).std('rep')"
   ]
  },
  {
   "cell_type": "code",
   "execution_count": 203,
   "metadata": {},
   "outputs": [
    {
     "data": {
      "text/html": [
       "<pre>&lt;xarray.DataArray (beta: 2, val: 5)&gt;\n",
       "array([[0.00382319, 0.0027663 , 0.00292759, 0.00189837, 0.0031304 ],\n",
       "       [0.00384878, 0.00269356, 0.00298554, 0.00189575, 0.00330947]])\n",
       "Coordinates:\n",
       "  * beta     (beta) float64 0.1 0.2\n",
       "    dbeta    (beta) float64 0.1 0.2\n",
       "    beta0    float64 0.0\n",
       "Dimensions without coordinates: val</pre>"
      ],
      "text/plain": [
       "<xarray.DataArray (beta: 2, val: 5)>\n",
       "array([[0.00382319, 0.0027663 , 0.00292759, 0.00189837, 0.0031304 ],\n",
       "       [0.00384878, 0.00269356, 0.00298554, 0.00189575, 0.00330947]])\n",
       "Coordinates:\n",
       "  * beta     (beta) float64 0.1 0.2\n",
       "    dbeta    (beta) float64 0.1 0.2\n",
       "    beta0    float64 0.0\n",
       "Dimensions without coordinates: val"
      ]
     },
     "execution_count": 203,
     "metadata": {},
     "output_type": "execute_result"
    }
   ],
   "source": [
    "xem_c.resample(20).predict(betas).std('rep')"
   ]
  },
  {
   "cell_type": "code",
   "execution_count": 202,
   "metadata": {},
   "outputs": [
    {
     "data": {
      "text/html": [
       "<pre>&lt;xarray.DataArray (rep: 20, moment: 7)&gt;\n",
       "array([[ 1.00000000e+00,  5.60933176e-04,  9.97647352e-01,\n",
       "        -1.83231494e-02,  3.00795050e+00, -1.53812194e-01,\n",
       "         1.49994306e+01],\n",
       "       [ 1.00000000e+00,  2.12131021e-03,  1.00293617e+00,\n",
       "         3.09521062e-03,  3.04285231e+00, -1.07238781e-02,\n",
       "         1.56095253e+01],\n",
       "       [ 1.00000000e+00, -6.95555752e-05,  9.97874480e-01,\n",
       "         3.60573468e-03,  2.99038909e+00,  5.34451189e-02,\n",
       "         1.48588641e+01],\n",
       "       [ 1.00000000e+00,  4.93528740e-03,  9.93166496e-01,\n",
       "         2.72711021e-03,  2.98918671e+00, -8.96944163e-02,\n",
       "         1.51941687e+01],\n",
       "       [ 1.00000000e+00, -4.12777596e-03,  9.96559678e-01,\n",
       "        -2.39181038e-02,  3.01622114e+00, -1.59795808e-01,\n",
       "         1.54159432e+01],\n",
       "       [ 1.00000000e+00, -1.89412859e-04,  9.98787480e-01,\n",
       "        -1.00747629e-02,  3.02000285e+00, -7.61121902e-02,\n",
       "         1.51975452e+01],\n",
       "       [ 1.00000000e+00,  2.75493923e-03,  9.94505757e-01,\n",
       "        -6.09233559e-03,  2.99714225e+00, -1.67115547e-01,\n",
       "         1.51104314e+01],\n",
       "       [ 1.00000000e+00,  1.33875166e-04,  9.93606496e-01,\n",
       "        -5.10600056e-03,  2.98508693e+00, -1.05263645e-01,\n",
       "         1.52842662e+01],\n",
       "       [ 1.00000000e+00,  4.10166706e-03,  9.92232282e-01,\n",
       "         5.65076264e-03,  2.96909097e+00, -3.30465537e-03,\n",
       "         1.49299787e+01],\n",
       "       [ 1.00000000e+00,  1.85611155e-04,  9.97367864e-01,\n",
       "        -9.45224867e-04,  3.03256159e+00,  3.80393249e-03,\n",
       "         1.54139895e+01],\n",
       "       [ 1.00000000e+00,  4.06947173e-03,  1.00444171e+00,\n",
       "         1.28511512e-02,  3.09615262e+00,  4.46984430e-02,\n",
       "         1.63364516e+01],\n",
       "       [ 1.00000000e+00, -2.49496791e-03,  1.00532762e+00,\n",
       "        -3.53690532e-02,  3.09014049e+00, -4.31268597e-01,\n",
       "         1.64398172e+01],\n",
       "       [ 1.00000000e+00,  1.43066129e-03,  9.91452190e-01,\n",
       "        -9.16087716e-03,  2.97924426e+00, -6.26157750e-02,\n",
       "         1.49141545e+01],\n",
       "       [ 1.00000000e+00,  2.98522417e-03,  9.96807606e-01,\n",
       "        -8.08606012e-03,  3.03456780e+00, -1.59280540e-01,\n",
       "         1.55866600e+01],\n",
       "       [ 1.00000000e+00,  1.23123034e-03,  9.99886868e-01,\n",
       "        -1.83908003e-02,  3.07439374e+00, -2.56760433e-01,\n",
       "         1.63907902e+01],\n",
       "       [ 1.00000000e+00, -3.61859907e-03,  9.99104807e-01,\n",
       "        -1.03329844e-02,  3.00531683e+00,  1.39302610e-02,\n",
       "         1.50446613e+01],\n",
       "       [ 1.00000000e+00, -5.16285354e-04,  9.88414661e-01,\n",
       "        -9.46841475e-03,  2.97237390e+00, -1.10839031e-01,\n",
       "         1.48836083e+01],\n",
       "       [ 1.00000000e+00,  2.63253829e-03,  9.97799546e-01,\n",
       "         5.09587752e-03,  3.01078341e+00,  2.71072851e-03,\n",
       "         1.51872477e+01],\n",
       "       [ 1.00000000e+00,  1.26234763e-03,  1.00567954e+00,\n",
       "        -2.33902077e-03,  3.07740305e+00, -2.92693873e-02,\n",
       "         1.59695690e+01],\n",
       "       [ 1.00000000e+00,  8.46274825e-04,  9.95144218e-01,\n",
       "         6.83365177e-03,  3.00239334e+00,  4.98524977e-02,\n",
       "         1.51574047e+01]])\n",
       "Dimensions without coordinates: rep, moment</pre>"
      ],
      "text/plain": [
       "<xarray.DataArray (rep: 20, moment: 7)>\n",
       "array([[ 1.00000000e+00,  5.60933176e-04,  9.97647352e-01,\n",
       "        -1.83231494e-02,  3.00795050e+00, -1.53812194e-01,\n",
       "         1.49994306e+01],\n",
       "       [ 1.00000000e+00,  2.12131021e-03,  1.00293617e+00,\n",
       "         3.09521062e-03,  3.04285231e+00, -1.07238781e-02,\n",
       "         1.56095253e+01],\n",
       "       [ 1.00000000e+00, -6.95555752e-05,  9.97874480e-01,\n",
       "         3.60573468e-03,  2.99038909e+00,  5.34451189e-02,\n",
       "         1.48588641e+01],\n",
       "       [ 1.00000000e+00,  4.93528740e-03,  9.93166496e-01,\n",
       "         2.72711021e-03,  2.98918671e+00, -8.96944163e-02,\n",
       "         1.51941687e+01],\n",
       "       [ 1.00000000e+00, -4.12777596e-03,  9.96559678e-01,\n",
       "        -2.39181038e-02,  3.01622114e+00, -1.59795808e-01,\n",
       "         1.54159432e+01],\n",
       "       [ 1.00000000e+00, -1.89412859e-04,  9.98787480e-01,\n",
       "        -1.00747629e-02,  3.02000285e+00, -7.61121902e-02,\n",
       "         1.51975452e+01],\n",
       "       [ 1.00000000e+00,  2.75493923e-03,  9.94505757e-01,\n",
       "        -6.09233559e-03,  2.99714225e+00, -1.67115547e-01,\n",
       "         1.51104314e+01],\n",
       "       [ 1.00000000e+00,  1.33875166e-04,  9.93606496e-01,\n",
       "        -5.10600056e-03,  2.98508693e+00, -1.05263645e-01,\n",
       "         1.52842662e+01],\n",
       "       [ 1.00000000e+00,  4.10166706e-03,  9.92232282e-01,\n",
       "         5.65076264e-03,  2.96909097e+00, -3.30465537e-03,\n",
       "         1.49299787e+01],\n",
       "       [ 1.00000000e+00,  1.85611155e-04,  9.97367864e-01,\n",
       "        -9.45224867e-04,  3.03256159e+00,  3.80393249e-03,\n",
       "         1.54139895e+01],\n",
       "       [ 1.00000000e+00,  4.06947173e-03,  1.00444171e+00,\n",
       "         1.28511512e-02,  3.09615262e+00,  4.46984430e-02,\n",
       "         1.63364516e+01],\n",
       "       [ 1.00000000e+00, -2.49496791e-03,  1.00532762e+00,\n",
       "        -3.53690532e-02,  3.09014049e+00, -4.31268597e-01,\n",
       "         1.64398172e+01],\n",
       "       [ 1.00000000e+00,  1.43066129e-03,  9.91452190e-01,\n",
       "        -9.16087716e-03,  2.97924426e+00, -6.26157750e-02,\n",
       "         1.49141545e+01],\n",
       "       [ 1.00000000e+00,  2.98522417e-03,  9.96807606e-01,\n",
       "        -8.08606012e-03,  3.03456780e+00, -1.59280540e-01,\n",
       "         1.55866600e+01],\n",
       "       [ 1.00000000e+00,  1.23123034e-03,  9.99886868e-01,\n",
       "        -1.83908003e-02,  3.07439374e+00, -2.56760433e-01,\n",
       "         1.63907902e+01],\n",
       "       [ 1.00000000e+00, -3.61859907e-03,  9.99104807e-01,\n",
       "        -1.03329844e-02,  3.00531683e+00,  1.39302610e-02,\n",
       "         1.50446613e+01],\n",
       "       [ 1.00000000e+00, -5.16285354e-04,  9.88414661e-01,\n",
       "        -9.46841475e-03,  2.97237390e+00, -1.10839031e-01,\n",
       "         1.48836083e+01],\n",
       "       [ 1.00000000e+00,  2.63253829e-03,  9.97799546e-01,\n",
       "         5.09587752e-03,  3.01078341e+00,  2.71072851e-03,\n",
       "         1.51872477e+01],\n",
       "       [ 1.00000000e+00,  1.26234763e-03,  1.00567954e+00,\n",
       "        -2.33902077e-03,  3.07740305e+00, -2.92693873e-02,\n",
       "         1.59695690e+01],\n",
       "       [ 1.00000000e+00,  8.46274825e-04,  9.95144218e-01,\n",
       "         6.83365177e-03,  3.00239334e+00,  4.98524977e-02,\n",
       "         1.51574047e+01]])\n",
       "Dimensions without coordinates: rep, moment"
      ]
     },
     "execution_count": 202,
     "metadata": {},
     "output_type": "execute_result"
    }
   ],
   "source": [
    "# note that xem_r is just an Extrap model with new resampled data\n",
    "xem_r.data.u"
   ]
  },
  {
   "cell_type": "code",
   "execution_count": 206,
   "metadata": {},
   "outputs": [],
   "source": [
    "# testing dataset\n",
    "emb = thermoextrap.ExtrapModel(order, ref_beta, xb, u)"
   ]
  },
  {
   "cell_type": "code",
   "execution_count": 216,
   "metadata": {},
   "outputs": [],
   "source": [
    "xemb = core.ExtrapModel.from_values(order, ref_beta, u, xb, central=True)\n",
    "xem_set = core.ExtrapModel.from_values(order, ref_beta, u, x_set, central=True)"
   ]
  },
  {
   "cell_type": "code",
   "execution_count": 217,
   "metadata": {},
   "outputs": [
    {
     "data": {
      "text/plain": [
       "array([[-0.00287918,  0.00277187, -0.00130362, -0.00084667,  0.00092772],\n",
       "       [-0.00262195,  0.00301501, -0.00099706, -0.00029919,  0.00072324]])"
      ]
     },
     "execution_count": 217,
     "metadata": {},
     "output_type": "execute_result"
    }
   ],
   "source": [
    "emb.predict(betas)"
   ]
  },
  {
   "cell_type": "code",
   "execution_count": 218,
   "metadata": {},
   "outputs": [
    {
     "data": {
      "text/html": [
       "<pre>&lt;xarray.DataArray (beta: 2, val: 5)&gt;\n",
       "array([[-0.00287918,  0.00277187, -0.00130362, -0.00084667,  0.00092772],\n",
       "       [-0.00262195,  0.00301501, -0.00099706, -0.00029919,  0.00072324]])\n",
       "Coordinates:\n",
       "  * beta     (beta) float64 0.1 0.2\n",
       "    dbeta    (beta) float64 0.1 0.2\n",
       "    beta0    float64 0.0\n",
       "Dimensions without coordinates: val</pre>"
      ],
      "text/plain": [
       "<xarray.DataArray (beta: 2, val: 5)>\n",
       "array([[-0.00287918,  0.00277187, -0.00130362, -0.00084667,  0.00092772],\n",
       "       [-0.00262195,  0.00301501, -0.00099706, -0.00029919,  0.00072324]])\n",
       "Coordinates:\n",
       "  * beta     (beta) float64 0.1 0.2\n",
       "    dbeta    (beta) float64 0.1 0.2\n",
       "    beta0    float64 0.0\n",
       "Dimensions without coordinates: val"
      ]
     },
     "execution_count": 218,
     "metadata": {},
     "output_type": "execute_result"
    }
   ],
   "source": [
    "xemb.predict(betas)"
   ]
  },
  {
   "cell_type": "code",
   "execution_count": 221,
   "metadata": {},
   "outputs": [],
   "source": [
    "# testing dataset\n",
    "out = xem.predict(betas)\n",
    "outb = xemb.predict(betas)\n",
    "outs = xem_set.predict(betas)\n",
    "\n",
    "np.testing.assert_allclose(out, outs.a)\n",
    "np.testing.assert_allclose(outb, outs.b)"
   ]
  },
  {
   "cell_type": "code",
   "execution_count": 223,
   "metadata": {},
   "outputs": [],
   "source": [
    "# resampling\n",
    "idx = core.resample_indicies(len(x), 20)\n",
    "\n",
    "out = xem.resample(None, idx).predict(betas)\n",
    "outb = xemb.resample(None, idx).predict(betas)\n",
    "outs = xem_set.resample(None, idx).predict(betas)"
   ]
  },
  {
   "cell_type": "code",
   "execution_count": 224,
   "metadata": {},
   "outputs": [],
   "source": [
    "np.testing.assert_allclose(out, outs.a)\n",
    "np.testing.assert_allclose(outb, outs.b)"
   ]
  },
  {
   "cell_type": "code",
   "execution_count": null,
   "metadata": {},
   "outputs": [],
   "source": [
    "# resampling much faster with chunking"
   ]
  },
  {
   "cell_type": "code",
   "execution_count": 228,
   "metadata": {},
   "outputs": [
    {
     "name": "stdout",
     "output_type": "stream",
     "text": [
      "5.13 s ± 0 ns per loop (mean ± std. dev. of 1 run, 1 loop each)\n"
     ]
    }
   ],
   "source": [
    "%%timeit -n 1 -r 1\n",
    "em.bootstrap(betas)"
   ]
  },
  {
   "cell_type": "code",
   "execution_count": 229,
   "metadata": {},
   "outputs": [
    {
     "name": "stdout",
     "output_type": "stream",
     "text": [
      "569 ms ± 0 ns per loop (mean ± std. dev. of 1 run, 1 loop each)\n"
     ]
    }
   ],
   "source": [
    "%%timeit -n 1 -r 1\n",
    "xem.resample(20, chunk=1000).predict(betas)"
   ]
  },
  {
   "cell_type": "markdown",
   "metadata": {},
   "source": [
    "# ExtrapWeighted"
   ]
  },
  {
   "cell_type": "code",
   "execution_count": 265,
   "metadata": {},
   "outputs": [],
   "source": [
    "u = np.random.randn(2,n) + 5\n",
    "x = np.random.randn(2,n, nv) + 10\n",
    "xb = np.random.randn(2,n, 5) + 2\n",
    "order = 4"
   ]
  },
  {
   "cell_type": "code",
   "execution_count": 266,
   "metadata": {},
   "outputs": [],
   "source": [
    "beta0 = [0.0, 0.5]\n",
    "betas = [0.1, 0.2, 0.3, 0.4]"
   ]
  },
  {
   "cell_type": "code",
   "execution_count": 267,
   "metadata": {},
   "outputs": [],
   "source": [
    "emw = thermoextrap.ExtrapWeightedModel(order, beta0, x, u)\n",
    "emwB = thermoextrap.ExtrapWeightedModel(order, beta0, xb, u)"
   ]
  },
  {
   "cell_type": "code",
   "execution_count": 281,
   "metadata": {},
   "outputs": [],
   "source": [
    "# for xtrapy, create list of models for each state:\n",
    "\n",
    "# first create datasets for xs\n",
    "xs = [xr.Dataset({'a': core.xrwrap_xv(xx), \n",
    "                  'b': core.xrwrap_xv(xxb)})\n",
    "      for xx, xxb in zip(x, xb)\n",
    "     ]\n",
    "\n",
    "# now crete list of models for each state\n",
    "states = [core.ExtrapModel.from_values(order, b0, uu, xx, central=True)\n",
    "         for b0, uu, xx in zip(beta0, u, xs)]\n",
    "\n",
    "xemw = core.ExtrapWeightedModel(states)"
   ]
  },
  {
   "cell_type": "raw",
   "metadata": {},
   "source": [
    "states_a = [core.ExtrapModel.from_values(order, b0, uu, xx, central=True)\n",
    "             for b0, uu, xx in zip(beta0, u, x)]\n",
    "xemw_a = core.ExtrapWeightedModel(states_a)\n",
    "\n",
    "idxs = [core.resample_indicies(len(xemw[0].data), 20) for i in range(2)]\n",
    "\n",
    "a = xemw.resample(None, idxs).predict(betas).a\n",
    "b = xemw_a.resample(None, idxs).predict(betas)"
   ]
  },
  {
   "cell_type": "code",
   "execution_count": 282,
   "metadata": {},
   "outputs": [],
   "source": [
    "np.testing.assert_allclose(emw.predict(betas), xemw.predict(betas).a)\n",
    "np.testing.assert_allclose(emwB.predict(betas), xemw.predict(betas).b)"
   ]
  },
  {
   "cell_type": "code",
   "execution_count": 315,
   "metadata": {},
   "outputs": [
    {
     "data": {
      "text/plain": [
       "array([[0.00317704, 0.00275958, 0.00374537, 0.00299037, 0.00219738],\n",
       "       [0.00316859, 0.00282162, 0.00381763, 0.00301853, 0.00226352],\n",
       "       [0.00358896, 0.00260602, 0.00282799, 0.002793  , 0.00380617],\n",
       "       [0.00350657, 0.00256567, 0.00270791, 0.00282365, 0.00370909]])"
      ]
     },
     "execution_count": 315,
     "metadata": {},
     "output_type": "execute_result"
    }
   ],
   "source": [
    "emw.bootstrap(betas, n=20)"
   ]
  },
  {
   "cell_type": "code",
   "execution_count": 316,
   "metadata": {},
   "outputs": [
    {
     "data": {
      "text/html": [
       "<pre>&lt;xarray.DataArray &#x27;a&#x27; (beta: 4, val: 5)&gt;\n",
       "array([[0.00342057, 0.00330032, 0.00336906, 0.00321108, 0.00363159],\n",
       "       [0.00357907, 0.00332707, 0.00351078, 0.00326179, 0.00366912],\n",
       "       [0.00293102, 0.00319511, 0.00286651, 0.00399589, 0.00370876],\n",
       "       [0.00284267, 0.0030645 , 0.00279944, 0.00395302, 0.00354136]])\n",
       "Coordinates:\n",
       "  * beta     (beta) float64 0.1 0.2 0.3 0.4\n",
       "Dimensions without coordinates: val</pre>"
      ],
      "text/plain": [
       "<xarray.DataArray 'a' (beta: 4, val: 5)>\n",
       "array([[0.00342057, 0.00330032, 0.00336906, 0.00321108, 0.00363159],\n",
       "       [0.00357907, 0.00332707, 0.00351078, 0.00326179, 0.00366912],\n",
       "       [0.00293102, 0.00319511, 0.00286651, 0.00399589, 0.00370876],\n",
       "       [0.00284267, 0.0030645 , 0.00279944, 0.00395302, 0.00354136]])\n",
       "Coordinates:\n",
       "  * beta     (beta) float64 0.1 0.2 0.3 0.4\n",
       "Dimensions without coordinates: val"
      ]
     },
     "execution_count": 316,
     "metadata": {},
     "output_type": "execute_result"
    }
   ],
   "source": [
    "xemw.resample(20, chunk=1000).predict(betas).std('rep').a"
   ]
  },
  {
   "cell_type": "code",
   "execution_count": 290,
   "metadata": {},
   "outputs": [
    {
     "name": "stdout",
     "output_type": "stream",
     "text": [
      "6.42 s ± 0 ns per loop (mean ± std. dev. of 1 run, 1 loop each)\n"
     ]
    }
   ],
   "source": [
    "%%timeit -n 1 -r 1\n",
    "emw.bootstrap(betas, n=100)"
   ]
  },
  {
   "cell_type": "code",
   "execution_count": 291,
   "metadata": {},
   "outputs": [
    {
     "name": "stdout",
     "output_type": "stream",
     "text": [
      "6.54 s ± 0 ns per loop (mean ± std. dev. of 1 run, 1 loop each)\n"
     ]
    }
   ],
   "source": [
    "%%timeit -n 1 -r 1\n",
    "# note that is is actually doing twice the work\n",
    "# because data includes both x and xb\n",
    "xemw.resample(100).predict(betas).std('rep')"
   ]
  },
  {
   "cell_type": "code",
   "execution_count": 322,
   "metadata": {},
   "outputs": [
    {
     "name": "stdout",
     "output_type": "stream",
     "text": [
      "3.08 s ± 0 ns per loop (mean ± std. dev. of 1 run, 1 loop each)\n"
     ]
    }
   ],
   "source": [
    "%%timeit -n 1 -r 1\n",
    "# note that is is actually doing twice the work\n",
    "# because data includes both x and xb\n",
    "xemw_a.resample(100).predict(betas).std('rep')"
   ]
  },
  {
   "cell_type": "code",
   "execution_count": 323,
   "metadata": {},
   "outputs": [
    {
     "name": "stdout",
     "output_type": "stream",
     "text": [
      "5.89 s ± 0 ns per loop (mean ± std. dev. of 1 run, 1 loop each)\n"
     ]
    }
   ],
   "source": [
    "%%timeit -n 1 -r 1\n",
    "# note that is is actually doing twice the work\n",
    "# because data includes both x and xb\n",
    "xemw.resample(100, chunk=1000).predict(betas).std('rep')"
   ]
  },
  {
   "cell_type": "markdown",
   "metadata": {},
   "source": [
    "# InterpModel"
   ]
  },
  {
   "cell_type": "code",
   "execution_count": 333,
   "metadata": {},
   "outputs": [],
   "source": [
    "emi = thermoextrap.InterpModel(order, beta0, x, u)\n",
    "emib = thermoextrap.InterpModel(order, beta0, xb, u)"
   ]
  },
  {
   "cell_type": "code",
   "execution_count": 334,
   "metadata": {},
   "outputs": [],
   "source": [
    "xemi = core.InterpModel(states)"
   ]
  },
  {
   "cell_type": "code",
   "execution_count": 335,
   "metadata": {},
   "outputs": [],
   "source": [
    "states_b = [core.ExtrapModel.from_values(order, b0, uu, xx, central=True)\n",
    "             for b0, uu, xx in zip(beta0, u, xb)]\n",
    "\n",
    "xemi_a = core.InterpModel(states_a)\n",
    "xemi_b = core.InterpModel(states_b)\n"
   ]
  },
  {
   "cell_type": "code",
   "execution_count": 336,
   "metadata": {},
   "outputs": [],
   "source": [
    "np.testing.assert_allclose(emi.predict(alpha), xemi.predict(alpha).a)\n",
    "np.testing.assert_allclose(emib.predict(alpha), xemi.predict(alpha).b)"
   ]
  },
  {
   "cell_type": "code",
   "execution_count": 342,
   "metadata": {},
   "outputs": [
    {
     "data": {
      "text/plain": [
       "array([[0.00308216, 0.00324151, 0.00310084, 0.00375802, 0.00320159],\n",
       "       [0.00254513, 0.00241886, 0.00227406, 0.00338288, 0.00256168],\n",
       "       [0.00274609, 0.00241118, 0.00170774, 0.0031182 , 0.00239175],\n",
       "       [0.0033331 , 0.00310371, 0.00223361, 0.00322888, 0.00289765]])"
      ]
     },
     "execution_count": 342,
     "metadata": {},
     "output_type": "execute_result"
    }
   ],
   "source": [
    "emi.bootstrap(betas, n=20)"
   ]
  },
  {
   "cell_type": "code",
   "execution_count": 343,
   "metadata": {},
   "outputs": [
    {
     "data": {
      "text/html": [
       "<pre>&lt;xarray.DataArray &#x27;a&#x27; (beta: 4, val: 5)&gt;\n",
       "array([[0.00338439, 0.00252311, 0.00288792, 0.00212064, 0.00346994],\n",
       "       [0.00274625, 0.00190075, 0.00242316, 0.00225618, 0.00277521],\n",
       "       [0.00308341, 0.0017483 , 0.00272029, 0.00295391, 0.00210507],\n",
       "       [0.0038838 , 0.00218725, 0.00336587, 0.00344153, 0.00246762]])\n",
       "Coordinates:\n",
       "  * beta     (beta) float64 0.1 0.2 0.3 0.4\n",
       "Dimensions without coordinates: val</pre>"
      ],
      "text/plain": [
       "<xarray.DataArray 'a' (beta: 4, val: 5)>\n",
       "array([[0.00338439, 0.00252311, 0.00288792, 0.00212064, 0.00346994],\n",
       "       [0.00274625, 0.00190075, 0.00242316, 0.00225618, 0.00277521],\n",
       "       [0.00308341, 0.0017483 , 0.00272029, 0.00295391, 0.00210507],\n",
       "       [0.0038838 , 0.00218725, 0.00336587, 0.00344153, 0.00246762]])\n",
       "Coordinates:\n",
       "  * beta     (beta) float64 0.1 0.2 0.3 0.4\n",
       "Dimensions without coordinates: val"
      ]
     },
     "execution_count": 343,
     "metadata": {},
     "output_type": "execute_result"
    }
   ],
   "source": [
    "xemi.resample(20).predict(betas).std('rep').a"
   ]
  },
  {
   "cell_type": "code",
   "execution_count": 341,
   "metadata": {},
   "outputs": [
    {
     "name": "stdout",
     "output_type": "stream",
     "text": [
      "1.38 s ± 0 ns per loop (mean ± std. dev. of 1 run, 1 loop each)\n"
     ]
    }
   ],
   "source": [
    "%%timeit -n 1 -r 1\n",
    "emi.bootstrap(betas, n=20)"
   ]
  },
  {
   "cell_type": "code",
   "execution_count": 340,
   "metadata": {},
   "outputs": [
    {
     "name": "stdout",
     "output_type": "stream",
     "text": [
      "1.16 s ± 0 ns per loop (mean ± std. dev. of 1 run, 1 loop each)\n"
     ]
    }
   ],
   "source": [
    "%%timeit -n 1 -r 1\n",
    "xemi.resample(20).predict(betas).std('rep').a"
   ]
  },
  {
   "cell_type": "markdown",
   "metadata": {},
   "source": [
    "# MBAR"
   ]
  },
  {
   "cell_type": "markdown",
   "metadata": {},
   "source": [
    "# Perturb"
   ]
  },
  {
   "cell_type": "code",
   "execution_count": 344,
   "metadata": {},
   "outputs": [
    {
     "data": {
      "text/plain": [
       "<module 'thermoextrap.xtrapy.core' from '/Users/wpk/Documents/python/projects/xtrapy/thermoextrap/xtrapy/core.py'>"
      ]
     },
     "execution_count": 344,
     "metadata": {},
     "output_type": "execute_result"
    }
   ],
   "source": [
    "reload(core)"
   ]
  },
  {
   "cell_type": "code",
   "execution_count": 353,
   "metadata": {},
   "outputs": [],
   "source": [
    "beta_ref = 0.5"
   ]
  },
  {
   "cell_type": "code",
   "execution_count": 354,
   "metadata": {},
   "outputs": [],
   "source": [
    "pm = thermoextrap.PerturbModel(beta_ref, x[0], u[0])"
   ]
  },
  {
   "cell_type": "code",
   "execution_count": 355,
   "metadata": {},
   "outputs": [
    {
     "data": {
      "text/plain": [
       "array([[ 9.99896592, 10.00026166, 10.00013016,  9.99888289, 10.00145388],\n",
       "       [ 9.9988368 , 10.00063401, 10.00015292,  9.99878397, 10.00098615]])"
      ]
     },
     "execution_count": 355,
     "metadata": {},
     "output_type": "execute_result"
    }
   ],
   "source": [
    "pm.predict([0.1, 0.2], useMBAR=False)"
   ]
  },
  {
   "cell_type": "code",
   "execution_count": 356,
   "metadata": {},
   "outputs": [],
   "source": [
    "xpm = core.PerturbModel.from_values(beta_ref, u[0], x[0])"
   ]
  },
  {
   "cell_type": "code",
   "execution_count": 357,
   "metadata": {},
   "outputs": [
    {
     "data": {
      "text/html": [
       "<pre>&lt;xarray.DataArray (beta: 2, val: 5)&gt;\n",
       "array([[ 9.99896592, 10.00026166, 10.00013016,  9.99888289, 10.00145388],\n",
       "       [ 9.9988368 , 10.00063401, 10.00015292,  9.99878397, 10.00098615]])\n",
       "Coordinates:\n",
       "  * beta     (beta) float64 0.1 0.2\n",
       "Dimensions without coordinates: val</pre>"
      ],
      "text/plain": [
       "<xarray.DataArray (beta: 2, val: 5)>\n",
       "array([[ 9.99896592, 10.00026166, 10.00013016,  9.99888289, 10.00145388],\n",
       "       [ 9.9988368 , 10.00063401, 10.00015292,  9.99878397, 10.00098615]])\n",
       "Coordinates:\n",
       "  * beta     (beta) float64 0.1 0.2\n",
       "Dimensions without coordinates: val"
      ]
     },
     "execution_count": 357,
     "metadata": {},
     "output_type": "execute_result"
    }
   ],
   "source": [
    "xpm.predict([0.1, 0.2])"
   ]
  },
  {
   "cell_type": "code",
   "execution_count": null,
   "metadata": {},
   "outputs": [],
   "source": []
  }
 ],
 "metadata": {
  "kernelspec": {
   "display_name": "Python [conda env:.conda-py37]",
   "language": "python",
   "name": "conda-env-.conda-py37-py"
  },
  "language_info": {
   "codemirror_mode": {
    "name": "ipython",
    "version": 3
   },
   "file_extension": ".py",
   "mimetype": "text/x-python",
   "name": "python",
   "nbconvert_exporter": "python",
   "pygments_lexer": "ipython3",
   "version": "3.7.6"
  },
  "toc": {
   "base_numbering": 1,
   "nav_menu": {},
   "number_sections": true,
   "sideBar": true,
   "skip_h1_title": false,
   "title_cell": "Table of Contents",
   "title_sidebar": "Contents",
   "toc_cell": false,
   "toc_position": {
    "height": "calc(100% - 180px)",
    "left": "10px",
    "top": "150px",
    "width": "380px"
   },
   "toc_section_display": true,
   "toc_window_display": false
  }
 },
 "nbformat": 4,
 "nbformat_minor": 2
}
