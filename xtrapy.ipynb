{
 "cells": [
  {
   "cell_type": "code",
   "execution_count": 15,
   "metadata": {},
   "outputs": [],
   "source": [
    "%matplotlib inline\n",
    "import numpy as np\n",
    "import matplotlib.pyplot as plt\n",
    "import matplotlib as mpl\n",
    "from thermoextrap import *\n",
    "import thermoextrap\n"
   ]
  },
  {
   "cell_type": "code",
   "execution_count": 16,
   "metadata": {},
   "outputs": [],
   "source": [
    "# xtrapy stuff:\n",
    "# note, just using single module right now.  Can retinker\n",
    "import thermoextrap.xtrapy.core as core\n",
    "import xarray as xr"
   ]
  },
  {
   "cell_type": "code",
   "execution_count": 17,
   "metadata": {},
   "outputs": [],
   "source": [
    "from importlib import reload"
   ]
  },
  {
   "cell_type": "code",
   "execution_count": 18,
   "metadata": {},
   "outputs": [],
   "source": [
    "order = 6\n",
    "fs = [thermoextrap.symDerivAvgX(i) for i in range(order+1)]"
   ]
  },
  {
   "cell_type": "code",
   "execution_count": 248,
   "metadata": {},
   "outputs": [],
   "source": [
    "# test Data\n",
    "# samples\n",
    "n = int(1e5)\n",
    "# number of x values\n",
    "nv = 5\n",
    "\n",
    "_u_offset = 0.0\n",
    "_x_offset = 0.0\n",
    "\n",
    "\n",
    "np.random.seed(0)\n",
    "u = np.random.rand(n) + _u_offset\n",
    "x = np.random.rand(n, nv) + _x_offset\n",
    "\n",
    "# second set, to testing\n",
    "ub = np.random.rand(n) + _u_offset\n",
    "xb = np.random.rand(n, nv) + _x_offset"
   ]
  },
  {
   "cell_type": "markdown",
   "metadata": {},
   "source": [
    "# comparison of xtrapy"
   ]
  },
  {
   "cell_type": "markdown",
   "metadata": {},
   "source": [
    "## Data averages"
   ]
  },
  {
   "cell_type": "code",
   "execution_count": 249,
   "metadata": {},
   "outputs": [],
   "source": [
    "# Test \"coefs\"\n",
    "ufunc, xufunc = thermoextrap.buildAvgFuncs(x, u, order)\n",
    "coefs_list = [fs[i](ufunc, xufunc) for i in range(order+1)]"
   ]
  },
  {
   "cell_type": "code",
   "execution_count": 250,
   "metadata": {},
   "outputs": [
    {
     "data": {
      "text/plain": [
       "<module 'thermoextrap.xtrapy.core' from '/Users/wpk/Documents/python/projects/xtrapy/thermoextrap/xtrapy/core.py'>"
      ]
     },
     "execution_count": 250,
     "metadata": {},
     "output_type": "execute_result"
    }
   ],
   "source": [
    "reload(core)"
   ]
  },
  {
   "cell_type": "code",
   "execution_count": 251,
   "metadata": {},
   "outputs": [],
   "source": [
    "# coefficient class handler\n",
    "# raw moments\n",
    "\n",
    "# coefficient builder\n",
    "s = core.factory_coefs_beta()\n",
    "# data object\n",
    "data = core.factory_data(u, x, order=order, chunk=1000)"
   ]
  },
  {
   "cell_type": "code",
   "execution_count": 252,
   "metadata": {},
   "outputs": [
    {
     "name": "stdout",
     "output_type": "stream",
     "text": [
      "<xarray.DataArray 'u' (moment: 5)>\n",
      "array([0.00000000e+00, 0.00000000e+00, 0.00000000e+00, 0.00000000e+00,\n",
      "       5.55111512e-17])\n",
      "Dimensions without coordinates: moment\n",
      "<xarray.DataArray 'x' (moment: 5, val: 5)>\n",
      "array([[ 1.11022302e-15,  6.66133815e-16, -3.33066907e-16,\n",
      "         6.77236045e-15, -4.77395901e-15],\n",
      "       [-1.49880108e-15, -3.88578059e-16,  0.00000000e+00,\n",
      "        -5.55111512e-17, -1.27675648e-15],\n",
      "       [ 2.77555756e-17, -1.99840144e-15,  1.44328993e-15,\n",
      "         1.05471187e-15,  2.49800181e-16],\n",
      "       [ 4.71844785e-16,  9.43689571e-16,  1.44328993e-15,\n",
      "         1.80411242e-16, -7.21644966e-16],\n",
      "       [ 1.66533454e-15, -1.04083409e-15,  1.33226763e-15,\n",
      "        -7.63278329e-16,  1.98452366e-15]])\n",
      "Dimensions without coordinates: moment, val\n"
     ]
    }
   ],
   "source": [
    "# Note very slight difference in averages.\n",
    "# this is due to numerics\n",
    "print(data.u - [ufunc(i) for i in range(order+1)])\n",
    "print(data.xu - [xufunc(i) for i in range(order+1)])"
   ]
  },
  {
   "cell_type": "markdown",
   "metadata": {},
   "source": [
    "## coefficients of expansion"
   ]
  },
  {
   "cell_type": "code",
   "execution_count": 253,
   "metadata": {},
   "outputs": [
    {
     "data": {
      "text/html": [
       "<pre>&lt;xarray.DataArray &#x27;x&#x27; (order: 5, val: 5)&gt;\n",
       "array([[ 5.00410649e-01,  4.98995550e-01,  5.00381858e-01,\n",
       "         4.99126019e-01,  5.01151890e-01],\n",
       "       [-1.34997699e-04,  1.13607821e-04, -2.03796624e-04,\n",
       "        -5.34078264e-06, -1.10735336e-04],\n",
       "       [-2.20835067e-06,  3.23344629e-05, -1.00746807e-05,\n",
       "        -5.62857597e-05,  3.46399234e-05],\n",
       "       [ 2.53920723e-05, -2.83855528e-05,  2.77531114e-05,\n",
       "        -4.71421307e-05,  3.10969286e-05],\n",
       "       [-5.30174199e-06, -1.05343641e-05,  6.58390419e-06,\n",
       "         2.21207532e-05, -9.60663726e-06]])\n",
       "Dimensions without coordinates: order, val</pre>"
      ],
      "text/plain": [
       "<xarray.DataArray 'x' (order: 5, val: 5)>\n",
       "array([[ 5.00410649e-01,  4.98995550e-01,  5.00381858e-01,\n",
       "         4.99126019e-01,  5.01151890e-01],\n",
       "       [-1.34997699e-04,  1.13607821e-04, -2.03796624e-04,\n",
       "        -5.34078264e-06, -1.10735336e-04],\n",
       "       [-2.20835067e-06,  3.23344629e-05, -1.00746807e-05,\n",
       "        -5.62857597e-05,  3.46399234e-05],\n",
       "       [ 2.53920723e-05, -2.83855528e-05,  2.77531114e-05,\n",
       "        -4.71421307e-05,  3.10969286e-05],\n",
       "       [-5.30174199e-06, -1.05343641e-05,  6.58390419e-06,\n",
       "         2.21207532e-05, -9.60663726e-06]])\n",
       "Dimensions without coordinates: order, val"
      ]
     },
     "execution_count": 253,
     "metadata": {},
     "output_type": "execute_result"
    }
   ],
   "source": [
    "# norm = True, include 1/ n!  factor\n",
    "# if want straight coeffs, use norm=False\n",
    "c = s.xcoefs(data, norm=False) \n",
    "c"
   ]
  },
  {
   "cell_type": "code",
   "execution_count": 254,
   "metadata": {},
   "outputs": [],
   "source": [
    "# test equal to old way\n",
    "np.testing.assert_allclose(c, coefs_list, rtol=1e-5)"
   ]
  },
  {
   "cell_type": "code",
   "execution_count": 255,
   "metadata": {},
   "outputs": [],
   "source": [
    "# instead, can use central moments\n",
    "s_c = core.factory_coefs_beta(central=True)"
   ]
  },
  {
   "cell_type": "code",
   "execution_count": 256,
   "metadata": {},
   "outputs": [
    {
     "data": {
      "text/html": [
       "<pre>&lt;xarray.DataArray &#x27;x&#x27; (order: 5, val: 5)&gt;\n",
       "array([[ 5.00410649e-01,  4.98995550e-01,  5.00381858e-01,\n",
       "         4.99126019e-01,  5.01151890e-01],\n",
       "       [-1.34997699e-04,  1.13607821e-04, -2.03796624e-04,\n",
       "        -5.34078264e-06, -1.10735336e-04],\n",
       "       [-2.20835067e-06,  3.23344629e-05, -1.00746807e-05,\n",
       "        -5.62857597e-05,  3.46399234e-05],\n",
       "       [ 2.53920723e-05, -2.83855528e-05,  2.77531114e-05,\n",
       "        -4.71421307e-05,  3.10969286e-05],\n",
       "       [-5.30174199e-06, -1.05343641e-05,  6.58390419e-06,\n",
       "         2.21207532e-05, -9.60663726e-06]])\n",
       "Dimensions without coordinates: order, val</pre>"
      ],
      "text/plain": [
       "<xarray.DataArray 'x' (order: 5, val: 5)>\n",
       "array([[ 5.00410649e-01,  4.98995550e-01,  5.00381858e-01,\n",
       "         4.99126019e-01,  5.01151890e-01],\n",
       "       [-1.34997699e-04,  1.13607821e-04, -2.03796624e-04,\n",
       "        -5.34078264e-06, -1.10735336e-04],\n",
       "       [-2.20835067e-06,  3.23344629e-05, -1.00746807e-05,\n",
       "        -5.62857597e-05,  3.46399234e-05],\n",
       "       [ 2.53920723e-05, -2.83855528e-05,  2.77531114e-05,\n",
       "        -4.71421307e-05,  3.10969286e-05],\n",
       "       [-5.30174199e-06, -1.05343641e-05,  6.58390419e-06,\n",
       "         2.21207532e-05, -9.60663726e-06]])\n",
       "Dimensions without coordinates: order, val"
      ]
     },
     "execution_count": 256,
     "metadata": {},
     "output_type": "execute_result"
    }
   ],
   "source": [
    "data_c = core.factory_data(u, x, order=order, central=True)\n",
    "\n",
    "c_c = s_c.xcoefs(data_c, norm=False)\n",
    "c_c"
   ]
  },
  {
   "cell_type": "code",
   "execution_count": 257,
   "metadata": {},
   "outputs": [],
   "source": [
    "# test close\n",
    "np.testing.assert_allclose(s.xcoefs(data), s_c.xcoefs(data_c))"
   ]
  },
  {
   "cell_type": "markdown",
   "metadata": {},
   "source": [
    "# nice-ness of central moments"
   ]
  },
  {
   "cell_type": "code",
   "execution_count": 258,
   "metadata": {},
   "outputs": [
    {
     "ename": "AttributeError",
     "evalue": "'Coefs' object has no attribute 'exprs'",
     "output_type": "error",
     "traceback": [
      "\u001b[0;31m---------------------------------------------------------------------------\u001b[0m",
      "\u001b[0;31mAttributeError\u001b[0m                            Traceback (most recent call last)",
      "\u001b[0;32m<ipython-input-258-4afaf272607f>\u001b[0m in \u001b[0;36m<module>\u001b[0;34m\u001b[0m\n\u001b[1;32m      1\u001b[0m \u001b[0;31m# coeffs using raw moments u[i], xu[i]\u001b[0m\u001b[0;34m\u001b[0m\u001b[0;34m\u001b[0m\u001b[0;34m\u001b[0m\u001b[0m\n\u001b[1;32m      2\u001b[0m \u001b[0;32mfor\u001b[0m \u001b[0mi\u001b[0m \u001b[0;32min\u001b[0m \u001b[0mrange\u001b[0m\u001b[0;34m(\u001b[0m\u001b[0morder\u001b[0m\u001b[0;34m+\u001b[0m\u001b[0;36m1\u001b[0m\u001b[0;34m)\u001b[0m\u001b[0;34m:\u001b[0m\u001b[0;34m\u001b[0m\u001b[0;34m\u001b[0m\u001b[0m\n\u001b[0;32m----> 3\u001b[0;31m     \u001b[0mprint\u001b[0m\u001b[0;34m(\u001b[0m\u001b[0;34m'{}: {}'\u001b[0m\u001b[0;34m.\u001b[0m\u001b[0mformat\u001b[0m\u001b[0;34m(\u001b[0m\u001b[0mi\u001b[0m\u001b[0;34m,\u001b[0m \u001b[0ms\u001b[0m\u001b[0;34m.\u001b[0m\u001b[0mexprs\u001b[0m\u001b[0;34m[\u001b[0m\u001b[0mi\u001b[0m\u001b[0;34m]\u001b[0m\u001b[0;34m)\u001b[0m\u001b[0;34m)\u001b[0m\u001b[0;34m\u001b[0m\u001b[0;34m\u001b[0m\u001b[0m\n\u001b[0m",
      "\u001b[0;31mAttributeError\u001b[0m: 'Coefs' object has no attribute 'exprs'"
     ]
    }
   ],
   "source": [
    "# coeffs using raw moments u[i], xu[i]\n",
    "for i in range(order+1):\n",
    "    print('{}: {}'.format(i, s.exprs[i]))"
   ]
  },
  {
   "cell_type": "code",
   "execution_count": 259,
   "metadata": {},
   "outputs": [
    {
     "ename": "AttributeError",
     "evalue": "'Coefs' object has no attribute 'exprs'",
     "output_type": "error",
     "traceback": [
      "\u001b[0;31m---------------------------------------------------------------------------\u001b[0m",
      "\u001b[0;31mAttributeError\u001b[0m                            Traceback (most recent call last)",
      "\u001b[0;32m<ipython-input-259-40e23f99ca6f>\u001b[0m in \u001b[0;36m<module>\u001b[0;34m\u001b[0m\n\u001b[1;32m      2\u001b[0m \u001b[0;34m\u001b[0m\u001b[0m\n\u001b[1;32m      3\u001b[0m \u001b[0;32mfor\u001b[0m \u001b[0mi\u001b[0m \u001b[0;32min\u001b[0m \u001b[0mrange\u001b[0m\u001b[0;34m(\u001b[0m\u001b[0morder\u001b[0m\u001b[0;34m+\u001b[0m\u001b[0;36m1\u001b[0m\u001b[0;34m)\u001b[0m\u001b[0;34m:\u001b[0m\u001b[0;34m\u001b[0m\u001b[0;34m\u001b[0m\u001b[0m\n\u001b[0;32m----> 4\u001b[0;31m     \u001b[0mprint\u001b[0m\u001b[0;34m(\u001b[0m\u001b[0;34m'{}: {}'\u001b[0m\u001b[0;34m.\u001b[0m\u001b[0mformat\u001b[0m\u001b[0;34m(\u001b[0m\u001b[0mi\u001b[0m\u001b[0;34m,\u001b[0m \u001b[0ms_c\u001b[0m\u001b[0;34m.\u001b[0m\u001b[0mexprs\u001b[0m\u001b[0;34m[\u001b[0m\u001b[0mi\u001b[0m\u001b[0;34m]\u001b[0m\u001b[0;34m)\u001b[0m\u001b[0;34m)\u001b[0m\u001b[0;34m\u001b[0m\u001b[0;34m\u001b[0m\u001b[0m\n\u001b[0m",
      "\u001b[0;31mAttributeError\u001b[0m: 'Coefs' object has no attribute 'exprs'"
     ]
    }
   ],
   "source": [
    "# coeffs using central moments du[i] = <(u-<u>)**i> \n",
    "\n",
    "for i in range(order+1):\n",
    "    print('{}: {}'.format(i, s_c.exprs[i]))"
   ]
  },
  {
   "cell_type": "code",
   "execution_count": 73,
   "metadata": {},
   "outputs": [],
   "source": [
    "# so not only are central moments more stable, the resulting expressions\n",
    "# are way simplier!"
   ]
  },
  {
   "cell_type": "markdown",
   "metadata": {},
   "source": [
    "# taking advantage of xarray"
   ]
  },
  {
   "cell_type": "code",
   "execution_count": 74,
   "metadata": {},
   "outputs": [],
   "source": [
    "# make a dataset of two values:\n",
    "\n",
    "x_set = xr.merge((core.xrwrap_xv(xx, name=name) \n",
    "                  for xx, name in zip([x, xb], ['a','b'])))\n",
    "x_set\n",
    "\n",
    "data_set = core.factory_data(u, x_set, order)\n",
    "data_set_c = core.factory_data(u, x_set, order, central=True)\n",
    "\n",
    "\n",
    "# need \"other\" x for comparison\n",
    "datab = core.factory_data(u, xb, order)\n",
    "datab_c = core.factory_data(u, xb, order, central=True)"
   ]
  },
  {
   "cell_type": "code",
   "execution_count": 75,
   "metadata": {},
   "outputs": [
    {
     "name": "stdout",
     "output_type": "stream",
     "text": [
      "<xarray.Dataset>\n",
      "Dimensions:  (rec: 100000, val: 5)\n",
      "Dimensions without coordinates: rec, val\n",
      "Data variables:\n",
      "    a        (rec, val) float64 0.5353 0.904 0.5024 ... 0.7553 0.2138 0.7261\n",
      "    b        (rec, val) float64 0.6237 0.1782 0.2007 ... 0.08856 0.0782 0.4235\n",
      "<xarray.Dataset>\n",
      "Dimensions:  (moment: 7, val: 5)\n",
      "Dimensions without coordinates: moment, val\n",
      "Data variables:\n",
      "    a        (moment, val) float64 0.5004 0.499 0.5004 ... 0.07138 0.07166\n",
      "    b        (moment, val) float64 0.5001 0.5015 0.5001 ... 0.07127 0.07149\n"
     ]
    }
   ],
   "source": [
    "# note that data_set has multiple measurements in it.  Very nice...\n",
    "print(data_set.xv)\n",
    "print(data_set.xu)"
   ]
  },
  {
   "cell_type": "code",
   "execution_count": 76,
   "metadata": {},
   "outputs": [],
   "source": [
    "ufuncb, xufuncb = thermoextrap.buildAvgFuncs(xb, u, order)\n",
    "coefs_listb = [fs[i](ufuncb, xufuncb) for i in range(order+1)]"
   ]
  },
  {
   "cell_type": "code",
   "execution_count": 77,
   "metadata": {},
   "outputs": [],
   "source": [
    "# make sure have same value\n",
    "np.testing.assert_allclose(s.xcoefs(datab,  norm=False), coefs_listb)"
   ]
  },
  {
   "cell_type": "code",
   "execution_count": 78,
   "metadata": {},
   "outputs": [
    {
     "data": {
      "text/html": [
       "<pre>&lt;xarray.Dataset&gt;\n",
       "Dimensions:  (order: 7, val: 5)\n",
       "Dimensions without coordinates: order, val\n",
       "Data variables:\n",
       "    a        (order, val) float64 0.5004 0.499 0.5004 ... -1.768e-05 7.29e-06\n",
       "    b        (order, val) float64 0.5001 0.5015 0.5001 ... -2.571e-06 1.063e-05</pre>"
      ],
      "text/plain": [
       "<xarray.Dataset>\n",
       "Dimensions:  (order: 7, val: 5)\n",
       "Dimensions without coordinates: order, val\n",
       "Data variables:\n",
       "    a        (order, val) float64 0.5004 0.499 0.5004 ... -1.768e-05 7.29e-06\n",
       "    b        (order, val) float64 0.5001 0.5015 0.5001 ... -2.571e-06 1.063e-05"
      ]
     },
     "execution_count": 78,
     "metadata": {},
     "output_type": "execute_result"
    }
   ],
   "source": [
    "# consider dataset\n",
    "c_set = s.xcoefs(data_set, norm=False)\n",
    "c_set"
   ]
  },
  {
   "cell_type": "code",
   "execution_count": 79,
   "metadata": {},
   "outputs": [],
   "source": [
    "# testing\n",
    "cb = s.xcoefs(datab, norm=False)\n",
    "np.testing.assert_allclose(c_set.a, c)\n",
    "np.testing.assert_allclose(c_set.b, cb)"
   ]
  },
  {
   "cell_type": "code",
   "execution_count": 80,
   "metadata": {},
   "outputs": [],
   "source": [
    "# central\n",
    "c_set_c = s_c.xcoefs(data_set_c, norm=False)\n",
    "# test\n",
    "xr.testing.assert_allclose(c_set, c_set_c)"
   ]
  },
  {
   "cell_type": "markdown",
   "metadata": {},
   "source": [
    "# resampling"
   ]
  },
  {
   "cell_type": "code",
   "execution_count": 81,
   "metadata": {},
   "outputs": [
    {
     "data": {
      "text/html": [
       "<pre>&lt;xarray.DataArray &#x27;u&#x27; (moment: 7, rep: 10)&gt;\n",
       "array([[1.        , 1.        , 1.        , 1.        , 1.        ,\n",
       "        1.        , 1.        , 1.        , 1.        , 1.        ],\n",
       "       [0.50010684, 0.49964365, 0.49834588, 0.49995062, 0.50089883,\n",
       "        0.49890858, 0.50064861, 0.49993096, 0.498588  , 0.50043063],\n",
       "       [0.3338034 , 0.33315953, 0.33196643, 0.33397058, 0.3344147 ,\n",
       "        0.3325299 , 0.33430399, 0.33355302, 0.33218533, 0.33375627],\n",
       "       [0.25067365, 0.25006705, 0.2487919 , 0.2509836 , 0.25106604,\n",
       "        0.24953805, 0.2511051 , 0.25039425, 0.24909806, 0.25041308],\n",
       "       [0.20076379, 0.20027508, 0.19886161, 0.20113612, 0.20101023,\n",
       "        0.19979342, 0.20110628, 0.20047781, 0.19925382, 0.20039194],\n",
       "       [0.16746092, 0.16710698, 0.16556748, 0.16785829, 0.16762127,\n",
       "        0.16664629, 0.16770943, 0.16718061, 0.16601802, 0.16703544],\n",
       "       [0.14365099, 0.14342314, 0.14178795, 0.14405387, 0.14376448,\n",
       "        0.14297293, 0.14381061, 0.14338245, 0.14227237, 0.14320367]])\n",
       "Dimensions without coordinates: moment, rep</pre>"
      ],
      "text/plain": [
       "<xarray.DataArray 'u' (moment: 7, rep: 10)>\n",
       "array([[1.        , 1.        , 1.        , 1.        , 1.        ,\n",
       "        1.        , 1.        , 1.        , 1.        , 1.        ],\n",
       "       [0.50010684, 0.49964365, 0.49834588, 0.49995062, 0.50089883,\n",
       "        0.49890858, 0.50064861, 0.49993096, 0.498588  , 0.50043063],\n",
       "       [0.3338034 , 0.33315953, 0.33196643, 0.33397058, 0.3344147 ,\n",
       "        0.3325299 , 0.33430399, 0.33355302, 0.33218533, 0.33375627],\n",
       "       [0.25067365, 0.25006705, 0.2487919 , 0.2509836 , 0.25106604,\n",
       "        0.24953805, 0.2511051 , 0.25039425, 0.24909806, 0.25041308],\n",
       "       [0.20076379, 0.20027508, 0.19886161, 0.20113612, 0.20101023,\n",
       "        0.19979342, 0.20110628, 0.20047781, 0.19925382, 0.20039194],\n",
       "       [0.16746092, 0.16710698, 0.16556748, 0.16785829, 0.16762127,\n",
       "        0.16664629, 0.16770943, 0.16718061, 0.16601802, 0.16703544],\n",
       "       [0.14365099, 0.14342314, 0.14178795, 0.14405387, 0.14376448,\n",
       "        0.14297293, 0.14381061, 0.14338245, 0.14227237, 0.14320367]])\n",
       "Dimensions without coordinates: moment, rep"
      ]
     },
     "execution_count": 81,
     "metadata": {},
     "output_type": "execute_result"
    }
   ],
   "source": [
    "# resampling\n",
    "data.resample(10).u"
   ]
  },
  {
   "cell_type": "code",
   "execution_count": 82,
   "metadata": {},
   "outputs": [],
   "source": [
    "# testing resampling:\n",
    "# use same resampler for all\n",
    "idx = core.resample_indicies(len(data), nrep=10)"
   ]
  },
  {
   "cell_type": "code",
   "execution_count": 83,
   "metadata": {},
   "outputs": [],
   "source": [
    "c_r = s.xcoefs(data.resample(nrep=None, idx=idx))\n",
    "cb_r = s.xcoefs(datab.resample(None, idx))\n",
    "cs_r = s.xcoefs(data_set.resample(None, idx))"
   ]
  },
  {
   "cell_type": "code",
   "execution_count": 84,
   "metadata": {},
   "outputs": [],
   "source": [
    "np.testing.assert_allclose(cs_r.a, c_r)\n",
    "np.testing.assert_allclose(cs_r.b, cb_r)"
   ]
  },
  {
   "cell_type": "code",
   "execution_count": 85,
   "metadata": {},
   "outputs": [],
   "source": [
    "# center\n",
    "cs_c_r = s_c.xcoefs(data_set_c.resample(None, idx))"
   ]
  },
  {
   "cell_type": "code",
   "execution_count": 86,
   "metadata": {},
   "outputs": [],
   "source": [
    "xr.testing.assert_allclose(cs_r, cs_c_r)"
   ]
  },
  {
   "cell_type": "markdown",
   "metadata": {},
   "source": [
    "# resampling time and chunking"
   ]
  },
  {
   "cell_type": "code",
   "execution_count": 87,
   "metadata": {},
   "outputs": [],
   "source": [
    "# xarray is built on dask.  I'm no expert, that this speed things up\n",
    "# use chunking to create a dask array of uv, xv"
   ]
  },
  {
   "cell_type": "code",
   "execution_count": 90,
   "metadata": {},
   "outputs": [],
   "source": [
    "idx = core.resample_indicies(len(data), nrep=100)"
   ]
  },
  {
   "cell_type": "code",
   "execution_count": 95,
   "metadata": {},
   "outputs": [
    {
     "name": "stdout",
     "output_type": "stream",
     "text": [
      "2.05 s ± 0 ns per loop (mean ± std. dev. of 1 run, 1 loop each)\n"
     ]
    }
   ],
   "source": [
    "%%timeit -n 1 -r 1\n",
    "r = data.resample(None, idx, chunk=None)\n",
    "r.u\n",
    "r.xu"
   ]
  },
  {
   "cell_type": "code",
   "execution_count": 96,
   "metadata": {},
   "outputs": [
    {
     "name": "stdout",
     "output_type": "stream",
     "text": [
      "1.65 s ± 0 ns per loop (mean ± std. dev. of 1 run, 1 loop each)\n"
     ]
    }
   ],
   "source": [
    "%%timeit -n 1 -r 1\n",
    "r = data.resample(None, idx, chunk=10000)\n",
    "r.u\n",
    "r.xu"
   ]
  },
  {
   "cell_type": "markdown",
   "metadata": {},
   "source": [
    "# Extrap model"
   ]
  },
  {
   "cell_type": "code",
   "execution_count": 118,
   "metadata": {},
   "outputs": [
    {
     "data": {
      "text/plain": [
       "<module 'thermoextrap.xtrapy.core' from '/Users/wpk/Documents/python/projects/xtrapy/thermoextrap/xtrapy/core.py'>"
      ]
     },
     "execution_count": 118,
     "metadata": {},
     "output_type": "execute_result"
    }
   ],
   "source": [
    "reload(core)"
   ]
  },
  {
   "cell_type": "code",
   "execution_count": 119,
   "metadata": {},
   "outputs": [],
   "source": [
    "# test Extrap model\n",
    "betas = [0.3, 0.4]\n",
    "ref_beta = 0.5"
   ]
  },
  {
   "cell_type": "code",
   "execution_count": 120,
   "metadata": {},
   "outputs": [],
   "source": [
    "# blank model\n",
    "em = thermoextrap.ExtrapModel(maxOrder=order)"
   ]
  },
  {
   "cell_type": "code",
   "execution_count": 121,
   "metadata": {},
   "outputs": [],
   "source": [
    "params = em.train(ref_beta, xData=x, uData=u, saveParams=True)"
   ]
  },
  {
   "cell_type": "code",
   "execution_count": 122,
   "metadata": {},
   "outputs": [
    {
     "data": {
      "text/plain": [
       "array([[0.50043757, 0.49897351, 0.50042238, 0.49912602, 0.50117469],\n",
       "       [0.50042413, 0.49898436, 0.50040218, 0.49912628, 0.50116313]])"
      ]
     },
     "execution_count": 122,
     "metadata": {},
     "output_type": "execute_result"
    }
   ],
   "source": [
    "em.predict(betas, order=3)"
   ]
  },
  {
   "cell_type": "code",
   "execution_count": 123,
   "metadata": {},
   "outputs": [
    {
     "data": {
      "text/html": [
       "<pre>&lt;xarray.DataArray (alpha: 2, val: 5)&gt;\n",
       "array([[0.50043757, 0.49897351, 0.50042238, 0.49912602, 0.50117469],\n",
       "       [0.50042413, 0.49898436, 0.50040218, 0.49912628, 0.50116313]])\n",
       "Coordinates:\n",
       "  * alpha    (alpha) float64 0.3 0.4\n",
       "    dalpha   (alpha) float64 -0.2 -0.1\n",
       "    alpha0   float64 0.5\n",
       "Dimensions without coordinates: val</pre>"
      ],
      "text/plain": [
       "<xarray.DataArray (alpha: 2, val: 5)>\n",
       "array([[0.50043757, 0.49897351, 0.50042238, 0.49912602, 0.50117469],\n",
       "       [0.50042413, 0.49898436, 0.50040218, 0.49912628, 0.50116313]])\n",
       "Coordinates:\n",
       "  * alpha    (alpha) float64 0.3 0.4\n",
       "    dalpha   (alpha) float64 -0.2 -0.1\n",
       "    alpha0   float64 0.5\n",
       "Dimensions without coordinates: val"
      ]
     },
     "execution_count": 123,
     "metadata": {},
     "output_type": "execute_result"
    }
   ],
   "source": [
    "xem = core.ExtrapModel.from_values_beta(order, ref_beta, u, x, xalpha=False, central=False)\n",
    "xem.predict(betas, order=3)"
   ]
  },
  {
   "cell_type": "code",
   "execution_count": 124,
   "metadata": {},
   "outputs": [
    {
     "data": {
      "text/html": [
       "<pre>&lt;xarray.DataArray (alpha: 2, val: 5)&gt;\n",
       "array([[0.50043757, 0.49897351, 0.50042238, 0.49912602, 0.50117469],\n",
       "       [0.50042413, 0.49898436, 0.50040218, 0.49912628, 0.50116313]])\n",
       "Coordinates:\n",
       "  * alpha    (alpha) float64 0.3 0.4\n",
       "    dalpha   (alpha) float64 -0.2 -0.1\n",
       "    alpha0   float64 0.5\n",
       "Dimensions without coordinates: val</pre>"
      ],
      "text/plain": [
       "<xarray.DataArray (alpha: 2, val: 5)>\n",
       "array([[0.50043757, 0.49897351, 0.50042238, 0.49912602, 0.50117469],\n",
       "       [0.50042413, 0.49898436, 0.50040218, 0.49912628, 0.50116313]])\n",
       "Coordinates:\n",
       "  * alpha    (alpha) float64 0.3 0.4\n",
       "    dalpha   (alpha) float64 -0.2 -0.1\n",
       "    alpha0   float64 0.5\n",
       "Dimensions without coordinates: val"
      ]
     },
     "execution_count": 124,
     "metadata": {},
     "output_type": "execute_result"
    }
   ],
   "source": [
    "# central, and build from \"from_values\" method\n",
    "xem_c = core.ExtrapModel.from_values_beta(order, ref_beta, u, x, xalpha=False, central=True)\n",
    "xem_c.predict(betas, order=3)"
   ]
  },
  {
   "cell_type": "code",
   "execution_count": 125,
   "metadata": {},
   "outputs": [
    {
     "data": {
      "text/plain": [
       "array([[0.00087799, 0.00078615, 0.00099371, 0.00063138, 0.0008918 ],\n",
       "       [0.00087689, 0.00079002, 0.00098945, 0.00063244, 0.00088957]])"
      ]
     },
     "execution_count": 125,
     "metadata": {},
     "output_type": "execute_result"
    }
   ],
   "source": [
    "# resample\n",
    "em.bootstrap(betas, n=20)"
   ]
  },
  {
   "cell_type": "code",
   "execution_count": 126,
   "metadata": {},
   "outputs": [
    {
     "data": {
      "text/html": [
       "<pre>&lt;xarray.DataArray (alpha: 2, val: 5)&gt;\n",
       "array([[0.00075634, 0.00089601, 0.00099376, 0.00088625, 0.00082065],\n",
       "       [0.00075678, 0.00089236, 0.0009997 , 0.00088773, 0.00080955]])\n",
       "Coordinates:\n",
       "  * alpha    (alpha) float64 0.3 0.4\n",
       "    dalpha   (alpha) float64 -0.2 -0.1\n",
       "    alpha0   float64 0.5\n",
       "Dimensions without coordinates: val</pre>"
      ],
      "text/plain": [
       "<xarray.DataArray (alpha: 2, val: 5)>\n",
       "array([[0.00075634, 0.00089601, 0.00099376, 0.00088625, 0.00082065],\n",
       "       [0.00075678, 0.00089236, 0.0009997 , 0.00088773, 0.00080955]])\n",
       "Coordinates:\n",
       "  * alpha    (alpha) float64 0.3 0.4\n",
       "    dalpha   (alpha) float64 -0.2 -0.1\n",
       "    alpha0   float64 0.5\n",
       "Dimensions without coordinates: val"
      ]
     },
     "execution_count": 126,
     "metadata": {},
     "output_type": "execute_result"
    }
   ],
   "source": [
    "# resample data\n",
    "xem_r = xem.resample(20)\n",
    "xem_r.predict(betas).std('rep')"
   ]
  },
  {
   "cell_type": "code",
   "execution_count": 127,
   "metadata": {},
   "outputs": [
    {
     "data": {
      "text/html": [
       "<pre>&lt;xarray.DataArray (alpha: 2, val: 5)&gt;\n",
       "array([[0.00088618, 0.0008939 , 0.00099521, 0.00069279, 0.0008681 ],\n",
       "       [0.00088546, 0.00089347, 0.00100637, 0.00069151, 0.00087936]])\n",
       "Coordinates:\n",
       "  * alpha    (alpha) float64 0.3 0.4\n",
       "    dalpha   (alpha) float64 -0.2 -0.1\n",
       "    alpha0   float64 0.5\n",
       "Dimensions without coordinates: val</pre>"
      ],
      "text/plain": [
       "<xarray.DataArray (alpha: 2, val: 5)>\n",
       "array([[0.00088618, 0.0008939 , 0.00099521, 0.00069279, 0.0008681 ],\n",
       "       [0.00088546, 0.00089347, 0.00100637, 0.00069151, 0.00087936]])\n",
       "Coordinates:\n",
       "  * alpha    (alpha) float64 0.3 0.4\n",
       "    dalpha   (alpha) float64 -0.2 -0.1\n",
       "    alpha0   float64 0.5\n",
       "Dimensions without coordinates: val"
      ]
     },
     "execution_count": 127,
     "metadata": {},
     "output_type": "execute_result"
    }
   ],
   "source": [
    "xem_c.resample(20).predict(betas).std('rep')"
   ]
  },
  {
   "cell_type": "code",
   "execution_count": 128,
   "metadata": {},
   "outputs": [
    {
     "data": {
      "text/html": [
       "<pre>&lt;xarray.DataArray &#x27;u&#x27; (moment: 7, rep: 20)&gt;\n",
       "array([[1.        , 1.        , 1.        , 1.        , 1.        ,\n",
       "        1.        , 1.        , 1.        , 1.        , 1.        ,\n",
       "        1.        , 1.        , 1.        , 1.        , 1.        ,\n",
       "        1.        , 1.        , 1.        , 1.        , 1.        ],\n",
       "       [0.50130908, 0.49927526, 0.50044356, 0.49814927, 0.50037685,\n",
       "        0.4991006 , 0.49975882, 0.49985997, 0.49993898, 0.50033596,\n",
       "        0.49835709, 0.49994623, 0.49830814, 0.49830991, 0.49982427,\n",
       "        0.49925814, 0.49922018, 0.50137081, 0.50148622, 0.49901414],\n",
       "       [0.33491726, 0.33283973, 0.3337487 , 0.33153513, 0.33432946,\n",
       "        0.33248589, 0.33350982, 0.33342401, 0.33357035, 0.33372417,\n",
       "        0.33193597, 0.33320878, 0.33175639, 0.33203362, 0.33325147,\n",
       "        0.33249746, 0.33291482, 0.33485371, 0.33469266, 0.33258551],\n",
       "       [0.25150429, 0.24965065, 0.25031142, 0.24835107, 0.25121525,\n",
       "        0.24915686, 0.25043808, 0.25025339, 0.25023392, 0.25047669,\n",
       "        0.24886537, 0.2498187 , 0.24876147, 0.24912824, 0.24993563,\n",
       "        0.24919314, 0.24991523, 0.2515223 , 0.25110551, 0.24941893],\n",
       "       [0.20134798, 0.19971759, 0.20020879, 0.19844127, 0.20122503,\n",
       "        0.19912159, 0.20057465, 0.20034613, 0.20014816, 0.20053697,\n",
       "        0.19905308, 0.19973813, 0.19904227, 0.19941601, 0.19990937,\n",
       "        0.19926894, 0.20012715, 0.20149532, 0.20086451, 0.19950175],\n",
       "       [0.16785927, 0.16641437, 0.16679118, 0.16515787, 0.16780982,\n",
       "        0.16574927, 0.16730854, 0.16706263, 0.16672497, 0.16724067,\n",
       "        0.16586066, 0.16632021, 0.1659222 , 0.16627183, 0.16653892,\n",
       "        0.1660262 , 0.16691877, 0.16812366, 0.16733526, 0.16621437],\n",
       "       [0.1439124 , 0.14261751, 0.14291488, 0.14137646, 0.14388239,\n",
       "        0.14190827, 0.1435278 , 0.14327652, 0.14284021, 0.14345083,\n",
       "        0.14216254, 0.14243351, 0.14227538, 0.1425906 , 0.14269295,\n",
       "        0.14230672, 0.1431784 , 0.1442678 , 0.14337408, 0.14243457]])\n",
       "Dimensions without coordinates: moment, rep</pre>"
      ],
      "text/plain": [
       "<xarray.DataArray 'u' (moment: 7, rep: 20)>\n",
       "array([[1.        , 1.        , 1.        , 1.        , 1.        ,\n",
       "        1.        , 1.        , 1.        , 1.        , 1.        ,\n",
       "        1.        , 1.        , 1.        , 1.        , 1.        ,\n",
       "        1.        , 1.        , 1.        , 1.        , 1.        ],\n",
       "       [0.50130908, 0.49927526, 0.50044356, 0.49814927, 0.50037685,\n",
       "        0.4991006 , 0.49975882, 0.49985997, 0.49993898, 0.50033596,\n",
       "        0.49835709, 0.49994623, 0.49830814, 0.49830991, 0.49982427,\n",
       "        0.49925814, 0.49922018, 0.50137081, 0.50148622, 0.49901414],\n",
       "       [0.33491726, 0.33283973, 0.3337487 , 0.33153513, 0.33432946,\n",
       "        0.33248589, 0.33350982, 0.33342401, 0.33357035, 0.33372417,\n",
       "        0.33193597, 0.33320878, 0.33175639, 0.33203362, 0.33325147,\n",
       "        0.33249746, 0.33291482, 0.33485371, 0.33469266, 0.33258551],\n",
       "       [0.25150429, 0.24965065, 0.25031142, 0.24835107, 0.25121525,\n",
       "        0.24915686, 0.25043808, 0.25025339, 0.25023392, 0.25047669,\n",
       "        0.24886537, 0.2498187 , 0.24876147, 0.24912824, 0.24993563,\n",
       "        0.24919314, 0.24991523, 0.2515223 , 0.25110551, 0.24941893],\n",
       "       [0.20134798, 0.19971759, 0.20020879, 0.19844127, 0.20122503,\n",
       "        0.19912159, 0.20057465, 0.20034613, 0.20014816, 0.20053697,\n",
       "        0.19905308, 0.19973813, 0.19904227, 0.19941601, 0.19990937,\n",
       "        0.19926894, 0.20012715, 0.20149532, 0.20086451, 0.19950175],\n",
       "       [0.16785927, 0.16641437, 0.16679118, 0.16515787, 0.16780982,\n",
       "        0.16574927, 0.16730854, 0.16706263, 0.16672497, 0.16724067,\n",
       "        0.16586066, 0.16632021, 0.1659222 , 0.16627183, 0.16653892,\n",
       "        0.1660262 , 0.16691877, 0.16812366, 0.16733526, 0.16621437],\n",
       "       [0.1439124 , 0.14261751, 0.14291488, 0.14137646, 0.14388239,\n",
       "        0.14190827, 0.1435278 , 0.14327652, 0.14284021, 0.14345083,\n",
       "        0.14216254, 0.14243351, 0.14227538, 0.1425906 , 0.14269295,\n",
       "        0.14230672, 0.1431784 , 0.1442678 , 0.14337408, 0.14243457]])\n",
       "Dimensions without coordinates: moment, rep"
      ]
     },
     "execution_count": 128,
     "metadata": {},
     "output_type": "execute_result"
    }
   ],
   "source": [
    "# note that xem_r is just an Extrap model with new resampled data\n",
    "xem_r.data.u"
   ]
  },
  {
   "cell_type": "code",
   "execution_count": 129,
   "metadata": {},
   "outputs": [],
   "source": [
    "# testing dataset\n",
    "emb = thermoextrap.ExtrapModel(order, ref_beta, xb, u)"
   ]
  },
  {
   "cell_type": "code",
   "execution_count": 130,
   "metadata": {},
   "outputs": [],
   "source": [
    "xemb = core.ExtrapModel.from_values_beta(order, ref_beta, u, xb, central=True)\n",
    "xem_set = core.ExtrapModel.from_values_beta(order, ref_beta, u, x_set, central=True)"
   ]
  },
  {
   "cell_type": "code",
   "execution_count": 134,
   "metadata": {},
   "outputs": [],
   "source": [
    "np.testing.assert_allclose(emb.predict(betas), emb.predict(betas))"
   ]
  },
  {
   "cell_type": "code",
   "execution_count": 133,
   "metadata": {},
   "outputs": [],
   "source": [
    "# testing dataset\n",
    "out = xem.predict(betas)\n",
    "outb = xemb.predict(betas)\n",
    "outs = xem_set.predict(betas)\n",
    "\n",
    "np.testing.assert_allclose(out, outs.a)\n",
    "np.testing.assert_allclose(outb, outs.b)"
   ]
  },
  {
   "cell_type": "code",
   "execution_count": 136,
   "metadata": {},
   "outputs": [],
   "source": [
    "# resampling\n",
    "idx = core.resample_indicies(len(x), 20)\n",
    "\n",
    "out = xem.resample(None, idx).predict(betas)\n",
    "outb = xemb.resample(None, idx).predict(betas)\n",
    "outs = xem_set.resample(None, idx).predict(betas)"
   ]
  },
  {
   "cell_type": "code",
   "execution_count": 137,
   "metadata": {},
   "outputs": [],
   "source": [
    "np.testing.assert_allclose(out, outs.a)\n",
    "np.testing.assert_allclose(outb, outs.b)"
   ]
  },
  {
   "cell_type": "code",
   "execution_count": 138,
   "metadata": {},
   "outputs": [],
   "source": [
    "# resampling much faster with chunking"
   ]
  },
  {
   "cell_type": "code",
   "execution_count": 141,
   "metadata": {},
   "outputs": [
    {
     "name": "stdout",
     "output_type": "stream",
     "text": [
      "[[0.0008664  0.00083273 0.00094727 0.00096115 0.00092076]\n",
      " [0.00086488 0.00083089 0.00094839 0.00095933 0.00092211]]\n",
      "4.69 s ± 0 ns per loop (mean ± std. dev. of 1 run, 1 loop each)\n"
     ]
    }
   ],
   "source": [
    "%%timeit -n 1 -r 1\n",
    "print(em.bootstrap(betas))"
   ]
  },
  {
   "cell_type": "code",
   "execution_count": 146,
   "metadata": {},
   "outputs": [
    {
     "name": "stdout",
     "output_type": "stream",
     "text": [
      "<xarray.DataArray (alpha: 2, val: 5)>\n",
      "array([[0.00089334, 0.00082602, 0.00086824, 0.00082739, 0.00092418],\n",
      "       [0.00089403, 0.0008265 , 0.00086752, 0.00082269, 0.00092349]])\n",
      "Coordinates:\n",
      "  * alpha    (alpha) float64 0.3 0.4\n",
      "    dalpha   (alpha) float64 -0.2 -0.1\n",
      "    alpha0   float64 0.5\n",
      "Dimensions without coordinates: val\n",
      "1.79 s ± 0 ns per loop (mean ± std. dev. of 1 run, 1 loop each)\n"
     ]
    }
   ],
   "source": [
    "%%timeit -n 1 -r 1\n",
    "print(xem.resample(100, chunk=1000).predict(betas).std('rep'))"
   ]
  },
  {
   "cell_type": "markdown",
   "metadata": {},
   "source": [
    "# ExtrapWeighted"
   ]
  },
  {
   "cell_type": "code",
   "execution_count": 147,
   "metadata": {},
   "outputs": [],
   "source": [
    "u = np.random.rand(2,n) + 5\n",
    "x = np.random.rand(2,n, nv) + 10\n",
    "xb = np.random.rand(2,n, 5) + 2\n",
    "order = 4"
   ]
  },
  {
   "cell_type": "code",
   "execution_count": 148,
   "metadata": {},
   "outputs": [],
   "source": [
    "beta0 = [0.05, 0.5]\n",
    "betas = [0.1, 0.2, 0.3, 0.4]"
   ]
  },
  {
   "cell_type": "code",
   "execution_count": 149,
   "metadata": {},
   "outputs": [],
   "source": [
    "emw = thermoextrap.ExtrapWeightedModel(order, beta0, x, u)\n",
    "emwB = thermoextrap.ExtrapWeightedModel(order, beta0, xb, u)"
   ]
  },
  {
   "cell_type": "code",
   "execution_count": 153,
   "metadata": {},
   "outputs": [
    {
     "data": {
      "text/plain": [
       "<module 'thermoextrap.xtrapy.core' from '/Users/wpk/Documents/python/projects/xtrapy/thermoextrap/xtrapy/core.py'>"
      ]
     },
     "execution_count": 153,
     "metadata": {},
     "output_type": "execute_result"
    }
   ],
   "source": [
    "reload(core)"
   ]
  },
  {
   "cell_type": "code",
   "execution_count": 154,
   "metadata": {},
   "outputs": [],
   "source": [
    "# for xtrapy, create list of models for each state:\n",
    "\n",
    "# first create datasets for xs\n",
    "xs = [xr.Dataset({'a': core.xrwrap_xv(xx), \n",
    "                  'b': core.xrwrap_xv(xxb)})\n",
    "      for xx, xxb in zip(x, xb)\n",
    "     ]\n",
    "\n",
    "# now crete list of models for each state\n",
    "states = [core.ExtrapModel.from_values_beta(order, b0, uu, xx, central=True)\n",
    "         for b0, uu, xx in zip(beta0, u, xs)]\n",
    "\n",
    "xemw = core.ExtrapWeightedModel(states)"
   ]
  },
  {
   "cell_type": "code",
   "execution_count": 158,
   "metadata": {},
   "outputs": [],
   "source": [
    "states_a = [core.ExtrapModel.from_values_beta(order, b0, uu, xx, central=True)\n",
    "             for b0, uu, xx in zip(beta0, u, x)]\n",
    "xemw_a = core.ExtrapWeightedModel(states_a)"
   ]
  },
  {
   "cell_type": "code",
   "execution_count": 157,
   "metadata": {},
   "outputs": [],
   "source": [
    "np.testing.assert_allclose(emw.predict(betas), xemw.predict(betas).a)\n",
    "np.testing.assert_allclose(emwB.predict(betas), xemw.predict(betas).b)"
   ]
  },
  {
   "cell_type": "code",
   "execution_count": null,
   "metadata": {},
   "outputs": [],
   "source": [
    "idxs = [core.resample_indicies(len(xemw[0].data), 20) for i in range(2)]\n",
    "a = xemw.resample(None, idxs).predict(betas).a\n",
    "b = xemw_a.resample(None, idxs).predict(betas)"
   ]
  },
  {
   "cell_type": "code",
   "execution_count": 159,
   "metadata": {},
   "outputs": [
    {
     "name": "stdout",
     "output_type": "stream",
     "text": [
      "5.77 s ± 0 ns per loop (mean ± std. dev. of 1 run, 1 loop each)\n"
     ]
    }
   ],
   "source": [
    "%%timeit -n 1 -r 1\n",
    "emw.bootstrap(betas, n=100)"
   ]
  },
  {
   "cell_type": "code",
   "execution_count": 160,
   "metadata": {},
   "outputs": [
    {
     "name": "stdout",
     "output_type": "stream",
     "text": [
      "7.7 s ± 0 ns per loop (mean ± std. dev. of 1 run, 1 loop each)\n"
     ]
    }
   ],
   "source": [
    "%%timeit -n 1 -r 1\n",
    "# note that is is actually doing twice the work\n",
    "# because data includes both x and xb\n",
    "xemw.resample(100).predict(betas).std('rep')"
   ]
  },
  {
   "cell_type": "code",
   "execution_count": 161,
   "metadata": {},
   "outputs": [
    {
     "name": "stdout",
     "output_type": "stream",
     "text": [
      "5.75 s ± 0 ns per loop (mean ± std. dev. of 1 run, 1 loop each)\n"
     ]
    }
   ],
   "source": [
    "%%timeit -n 1 -r 1\n",
    "# note that is is actually doing twice the work\n",
    "# because data includes both x and xb\n",
    "xemw.resample(100, chunk=1000).predict(betas).std('rep')"
   ]
  },
  {
   "cell_type": "code",
   "execution_count": 162,
   "metadata": {},
   "outputs": [
    {
     "name": "stdout",
     "output_type": "stream",
     "text": [
      "3.69 s ± 0 ns per loop (mean ± std. dev. of 1 run, 1 loop each)\n"
     ]
    }
   ],
   "source": [
    "%%timeit -n 1 -r 1\n",
    "# note that is is actually doing twice the work\n",
    "# because data includes both x and xb\n",
    "xemw_a.resample(100, chunk=10000).predict(betas).std('rep')"
   ]
  },
  {
   "cell_type": "code",
   "execution_count": 163,
   "metadata": {},
   "outputs": [],
   "source": [
    "from dask.diagnostics import ProgressBar"
   ]
  },
  {
   "cell_type": "code",
   "execution_count": 164,
   "metadata": {},
   "outputs": [
    {
     "name": "stdout",
     "output_type": "stream",
     "text": [
      "[########################################] | 100% Completed |  0.1s\n",
      "[########################################] | 100% Completed |  0.9s\n",
      "[########################################] | 100% Completed |  4.7s\n",
      "[########################################] | 100% Completed |  0.4s\n",
      "[########################################] | 100% Completed |  0.5s\n",
      "[########################################] | 100% Completed |  2.5s\n",
      "21.9 s ± 0 ns per loop (mean ± std. dev. of 1 run, 1 loop each)\n"
     ]
    }
   ],
   "source": [
    "%%timeit -n 1 -r 1\n",
    "# note that is is actually doing twice the work\n",
    "# because data includes both x and xb\n",
    "with ProgressBar():\n",
    "    xemw_a.resample(500, chunk=10000).predict(betas).std('rep')"
   ]
  },
  {
   "cell_type": "markdown",
   "metadata": {},
   "source": [
    "# InterpModel"
   ]
  },
  {
   "cell_type": "code",
   "execution_count": 165,
   "metadata": {},
   "outputs": [],
   "source": [
    "emi = thermoextrap.InterpModel(order, beta0, x, u)\n",
    "emib = thermoextrap.InterpModel(order, beta0, xb, u)"
   ]
  },
  {
   "cell_type": "code",
   "execution_count": 166,
   "metadata": {},
   "outputs": [],
   "source": [
    "xemi = core.InterpModel(states)"
   ]
  },
  {
   "cell_type": "code",
   "execution_count": 167,
   "metadata": {},
   "outputs": [],
   "source": [
    "states_b = [core.ExtrapModel.from_values_beta(order, b0, uu, xx, central=True)\n",
    "             for b0, uu, xx in zip(beta0, u, xb)]\n",
    "\n",
    "xemi_a = core.InterpModel(states_a)\n",
    "xemi_b = core.InterpModel(states_b)\n"
   ]
  },
  {
   "cell_type": "code",
   "execution_count": 170,
   "metadata": {},
   "outputs": [],
   "source": [
    "alpha = [0.1, 0.2]"
   ]
  },
  {
   "cell_type": "code",
   "execution_count": 175,
   "metadata": {},
   "outputs": [],
   "source": [
    "np.testing.assert_allclose(emi.predict(betas), xemi.predict(betas).a)\n",
    "np.testing.assert_allclose(emib.predict(betas), xemi.predict(betas).b)"
   ]
  },
  {
   "cell_type": "code",
   "execution_count": 176,
   "metadata": {},
   "outputs": [
    {
     "data": {
      "text/plain": [
       "array([[0.00087349, 0.00068129, 0.00118118, 0.00085011, 0.00070927],\n",
       "       [0.00077745, 0.00061355, 0.0010338 , 0.00069158, 0.00059451],\n",
       "       [0.00079354, 0.00070486, 0.00069287, 0.00068301, 0.00064373],\n",
       "       [0.00107194, 0.00096932, 0.00073749, 0.00109109, 0.00099041]])"
      ]
     },
     "execution_count": 176,
     "metadata": {},
     "output_type": "execute_result"
    }
   ],
   "source": [
    "emi.bootstrap(betas, n=20)"
   ]
  },
  {
   "cell_type": "code",
   "execution_count": 177,
   "metadata": {},
   "outputs": [
    {
     "data": {
      "text/html": [
       "<pre>&lt;xarray.DataArray &#x27;a&#x27; (alpha: 4, val: 5)&gt;\n",
       "array([[0.00099053, 0.00097182, 0.0008772 , 0.0010497 , 0.00089321],\n",
       "       [0.00081558, 0.00086509, 0.00078963, 0.00088982, 0.00076788],\n",
       "       [0.0006674 , 0.0007853 , 0.00073235, 0.00063759, 0.00060359],\n",
       "       [0.00101064, 0.00101615, 0.00089722, 0.00089909, 0.00081028]])\n",
       "Coordinates:\n",
       "  * alpha    (alpha) float64 0.1 0.2 0.3 0.4\n",
       "Dimensions without coordinates: val</pre>"
      ],
      "text/plain": [
       "<xarray.DataArray 'a' (alpha: 4, val: 5)>\n",
       "array([[0.00099053, 0.00097182, 0.0008772 , 0.0010497 , 0.00089321],\n",
       "       [0.00081558, 0.00086509, 0.00078963, 0.00088982, 0.00076788],\n",
       "       [0.0006674 , 0.0007853 , 0.00073235, 0.00063759, 0.00060359],\n",
       "       [0.00101064, 0.00101615, 0.00089722, 0.00089909, 0.00081028]])\n",
       "Coordinates:\n",
       "  * alpha    (alpha) float64 0.1 0.2 0.3 0.4\n",
       "Dimensions without coordinates: val"
      ]
     },
     "execution_count": 177,
     "metadata": {},
     "output_type": "execute_result"
    }
   ],
   "source": [
    "xemi.resample(20).predict(betas).std('rep').a"
   ]
  },
  {
   "cell_type": "code",
   "execution_count": 180,
   "metadata": {},
   "outputs": [
    {
     "name": "stdout",
     "output_type": "stream",
     "text": [
      "6.01 s ± 0 ns per loop (mean ± std. dev. of 1 run, 1 loop each)\n"
     ]
    }
   ],
   "source": [
    "%%timeit -n 1 -r 1\n",
    "emi.bootstrap(betas, n=100)"
   ]
  },
  {
   "cell_type": "code",
   "execution_count": 186,
   "metadata": {},
   "outputs": [
    {
     "name": "stdout",
     "output_type": "stream",
     "text": [
      "3.15 s ± 0 ns per loop (mean ± std. dev. of 1 run, 1 loop each)\n"
     ]
    }
   ],
   "source": [
    "%%timeit -n 1 -r 1\n",
    "xemi_a.resample(100, chunk=10000).predict(betas).std('rep')"
   ]
  },
  {
   "cell_type": "markdown",
   "metadata": {},
   "source": [
    "# MBAR"
   ]
  },
  {
   "cell_type": "code",
   "execution_count": 187,
   "metadata": {},
   "outputs": [],
   "source": [
    "mbar = thermoextrap.MBARModel(refB=beta0, xData=x, uData=u)"
   ]
  },
  {
   "cell_type": "code",
   "execution_count": 188,
   "metadata": {},
   "outputs": [
    {
     "data": {
      "text/plain": [
       "array([[10.49972623, 10.50010647, 10.49990363, 10.49914726, 10.49892917],\n",
       "       [10.49972453, 10.50010473, 10.49991327, 10.49914194, 10.49891843],\n",
       "       [10.49972216, 10.5001031 , 10.49992286, 10.49913709, 10.49890786],\n",
       "       [10.49971909, 10.50010157, 10.4999324 , 10.49913273, 10.49889744]])"
      ]
     },
     "execution_count": 188,
     "metadata": {},
     "output_type": "execute_result"
    }
   ],
   "source": [
    "mbar.predict(betas)"
   ]
  },
  {
   "cell_type": "code",
   "execution_count": 189,
   "metadata": {},
   "outputs": [
    {
     "data": {
      "text/plain": [
       "<module 'thermoextrap.xtrapy.core' from '/Users/wpk/Documents/python/projects/xtrapy/thermoextrap/xtrapy/core.py'>"
      ]
     },
     "execution_count": 189,
     "metadata": {},
     "output_type": "execute_result"
    }
   ],
   "source": [
    "reload(core)"
   ]
  },
  {
   "cell_type": "code",
   "execution_count": 190,
   "metadata": {},
   "outputs": [],
   "source": [
    "xmbar = core.MBARModel(states_a)"
   ]
  },
  {
   "cell_type": "code",
   "execution_count": 191,
   "metadata": {},
   "outputs": [],
   "source": [
    "out = xmbar.predict(betas)"
   ]
  },
  {
   "cell_type": "code",
   "execution_count": 192,
   "metadata": {},
   "outputs": [
    {
     "data": {
      "text/html": [
       "<pre>&lt;xarray.DataArray (alpha: 4, val: 5)&gt;\n",
       "array([[10.49972623, 10.50010647, 10.49990363, 10.49914726, 10.49892917],\n",
       "       [10.49972453, 10.50010473, 10.49991327, 10.49914194, 10.49891843],\n",
       "       [10.49972216, 10.5001031 , 10.49992286, 10.49913709, 10.49890786],\n",
       "       [10.49971909, 10.50010157, 10.4999324 , 10.49913273, 10.49889744]])\n",
       "Coordinates:\n",
       "  * alpha    (alpha) float64 0.1 0.2 0.3 0.4\n",
       "Dimensions without coordinates: val</pre>"
      ],
      "text/plain": [
       "<xarray.DataArray (alpha: 4, val: 5)>\n",
       "array([[10.49972623, 10.50010647, 10.49990363, 10.49914726, 10.49892917],\n",
       "       [10.49972453, 10.50010473, 10.49991327, 10.49914194, 10.49891843],\n",
       "       [10.49972216, 10.5001031 , 10.49992286, 10.49913709, 10.49890786],\n",
       "       [10.49971909, 10.50010157, 10.4999324 , 10.49913273, 10.49889744]])\n",
       "Coordinates:\n",
       "  * alpha    (alpha) float64 0.1 0.2 0.3 0.4\n",
       "Dimensions without coordinates: val"
      ]
     },
     "execution_count": 192,
     "metadata": {},
     "output_type": "execute_result"
    }
   ],
   "source": [
    "out"
   ]
  },
  {
   "cell_type": "code",
   "execution_count": 193,
   "metadata": {},
   "outputs": [],
   "source": [
    "np.testing.assert_allclose(mbar.predict(betas), xmbar.predict(betas))"
   ]
  },
  {
   "cell_type": "code",
   "execution_count": 194,
   "metadata": {},
   "outputs": [],
   "source": [
    "import os"
   ]
  },
  {
   "cell_type": "code",
   "execution_count": 195,
   "metadata": {},
   "outputs": [
    {
     "data": {
      "text/plain": [
       "63948"
      ]
     },
     "execution_count": 195,
     "metadata": {},
     "output_type": "execute_result"
    }
   ],
   "source": [
    "os.getpid()"
   ]
  },
  {
   "cell_type": "markdown",
   "metadata": {},
   "source": [
    "# Perturb"
   ]
  },
  {
   "cell_type": "code",
   "execution_count": 196,
   "metadata": {},
   "outputs": [
    {
     "data": {
      "text/plain": [
       "<module 'thermoextrap.xtrapy.core' from '/Users/wpk/Documents/python/projects/xtrapy/thermoextrap/xtrapy/core.py'>"
      ]
     },
     "execution_count": 196,
     "metadata": {},
     "output_type": "execute_result"
    }
   ],
   "source": [
    "reload(core)"
   ]
  },
  {
   "cell_type": "code",
   "execution_count": 197,
   "metadata": {},
   "outputs": [],
   "source": [
    "beta_ref = 0.5"
   ]
  },
  {
   "cell_type": "code",
   "execution_count": 198,
   "metadata": {},
   "outputs": [],
   "source": [
    "pm = thermoextrap.PerturbModel(beta_ref, x[0], u[0])"
   ]
  },
  {
   "cell_type": "code",
   "execution_count": 199,
   "metadata": {},
   "outputs": [
    {
     "data": {
      "text/plain": [
       "array([[10.50068176, 10.49987931, 10.50062532, 10.50060796, 10.49952804],\n",
       "       [10.50066577, 10.49985426, 10.50063663, 10.50056739, 10.49951137]])"
      ]
     },
     "execution_count": 199,
     "metadata": {},
     "output_type": "execute_result"
    }
   ],
   "source": [
    "pm.predict([0.1, 0.2], useMBAR=False)"
   ]
  },
  {
   "cell_type": "code",
   "execution_count": 200,
   "metadata": {},
   "outputs": [],
   "source": [
    "xpm = core.PerturbModel.from_values(beta_ref, u[0], x[0])"
   ]
  },
  {
   "cell_type": "code",
   "execution_count": 201,
   "metadata": {},
   "outputs": [
    {
     "data": {
      "text/html": [
       "<pre>&lt;xarray.DataArray (alpha: 2, val: 5)&gt;\n",
       "array([[10.50068176, 10.49987931, 10.50062532, 10.50060796, 10.49952804],\n",
       "       [10.50066577, 10.49985426, 10.50063663, 10.50056739, 10.49951137]])\n",
       "Coordinates:\n",
       "  * alpha    (alpha) float64 0.1 0.2\n",
       "Dimensions without coordinates: val</pre>"
      ],
      "text/plain": [
       "<xarray.DataArray (alpha: 2, val: 5)>\n",
       "array([[10.50068176, 10.49987931, 10.50062532, 10.50060796, 10.49952804],\n",
       "       [10.50066577, 10.49985426, 10.50063663, 10.50056739, 10.49951137]])\n",
       "Coordinates:\n",
       "  * alpha    (alpha) float64 0.1 0.2\n",
       "Dimensions without coordinates: val"
      ]
     },
     "execution_count": 201,
     "metadata": {},
     "output_type": "execute_result"
    }
   ],
   "source": [
    "xpm.predict([0.1, 0.2])"
   ]
  },
  {
   "cell_type": "markdown",
   "metadata": {},
   "source": [
    "# log func"
   ]
  },
  {
   "cell_type": "code",
   "execution_count": 202,
   "metadata": {},
   "outputs": [],
   "source": [
    "from thermoextrap.utilities import buildAvgFuncs\n",
    "\n",
    "#For quantities like the chemical potential, we're interested in the -log(<X>), not <X>\n",
    "#Everything is the same, but we take derivatives differently\n",
    "#Luckily, have closed-form expression for derivatives of -log(<X>) in terms of derivatives of <X>\n",
    "#Specifically, d(n)[-log(<X>)]/dB(n) = Sum(k=1, n)[(k-1)! * (-1/<X>)^k * B(n,k,(d<X>/dB, ..., d(n-k+1)<X>/dB(n-k+1)))]\n",
    "#B(n,k, (...)) represents Bell Polynomials, which are implemented in sympy (not numpy or scipy unfortunately)\n",
    "#Create custom classes to handle this\n",
    "from sympy import bell\n",
    "\n",
    "class LogAvgExtrapModel(ExtrapModel):\n",
    "    \n",
    "    def calcDerivVals(self, refB, x, U):\n",
    "        \n",
    "        if x.shape[0] != U.shape[0]:\n",
    "            print('First observable dimension (%i) and size of potential energy array (%i) do not match!'%(x.shape[0], U.shape[0]))\n",
    "            return\n",
    "    \n",
    "        avgUfunc, avgXUfunc = buildAvgFuncs(x, U, self.maxOrder)\n",
    "        derivVals = np.zeros((self.maxOrder+1, x.shape[1]))\n",
    "        for o in range(self.maxOrder+1):\n",
    "            if o == 0:\n",
    "                derivVals[o] = (-np.log(avgXUfunc(0)))\n",
    "                continue\n",
    "            for k in range(1,o+1):\n",
    "                #Get the derivatives of the average quantity\n",
    "                thisDiffs = np.array([self.derivF[l](avgUfunc, avgXUfunc) for l in range(1, o-k+2)])\n",
    "                #Loop to apply the chain rule to each element of the observable array\n",
    "                for l in range(x.shape[1]):\n",
    "                    derivVals[o,l] += np.math.factorial(k-1)*((-1/avgXUfunc(0)[l])**k)*bell(o, k, thisDiffs[:,l])\n",
    "                \n",
    "        return derivVals\n"
   ]
  },
  {
   "cell_type": "code",
   "execution_count": 203,
   "metadata": {},
   "outputs": [
    {
     "data": {
      "text/plain": [
       "[0.1, 0.2, 0.3, 0.4]"
      ]
     },
     "execution_count": 203,
     "metadata": {},
     "output_type": "execute_result"
    }
   ],
   "source": [
    "betas"
   ]
  },
  {
   "cell_type": "code",
   "execution_count": 204,
   "metadata": {},
   "outputs": [],
   "source": [
    "xdata = xem.data.xv.values\n",
    "udata = xem.data.uv.values\n",
    "refBeta=0.5"
   ]
  },
  {
   "cell_type": "code",
   "execution_count": 205,
   "metadata": {},
   "outputs": [
    {
     "name": "stdout",
     "output_type": "stream",
     "text": [
      "Model parameters (derivatives):\n",
      "[[ 6.92326220e-01  6.95158101e-01  6.92383757e-01  6.94896673e-01\n",
      "   6.90846049e-01]\n",
      " [ 2.69773834e-04 -2.27673014e-04  4.07282201e-04  1.07002690e-05\n",
      "   2.20961626e-04]\n",
      " [ 4.48585482e-06 -6.47472658e-05  2.02998635e-05  1.12768749e-04\n",
      "  -6.90717840e-05]\n",
      " [-5.07388591e-05  5.69296180e-05 -5.54391284e-05  9.44529753e-05\n",
      "  -6.20967030e-05]\n",
      " [ 1.05400889e-05  2.10718898e-05 -1.32468610e-05 -4.42767814e-05\n",
      "   1.91285621e-05]]\n",
      "\n",
      "\n",
      "Model predictions:\n",
      "[[0.69221867 0.69524399 0.69222247 0.69490141 0.69075214]\n",
      " [0.69224549 0.69522349 0.69226249 0.69489854 0.69077665]\n",
      " [0.69227236 0.69520234 0.69230271 0.69489679 0.69080048]\n",
      " [0.69229927 0.69518054 0.69234313 0.69489617 0.69082361]]\n",
      "\n",
      "\n"
     ]
    }
   ],
   "source": [
    "#Create and train extrapolation model\n",
    "extModelLog = LogAvgExtrapModel(maxOrder=4, refB=refBeta, \n",
    "                                xData=xdata,\n",
    "                                uData=udata,\n",
    "                                )\n",
    "\n",
    "#Note that we handled the -log calculation in the definition of the derivatives (even at zeroth order).\n",
    "#This means we want to just pass data, not the -log of the data.\n",
    "\n",
    "#Check the parameters\n",
    "print(\"Model parameters (derivatives):\")\n",
    "print(extModelLog.params)\n",
    "print('\\n')\n",
    "\n",
    "#Finally, look at predictions\n",
    "print(\"Model predictions:\")\n",
    "print(extModelLog.predict(betas, order=2))\n",
    "print('\\n')"
   ]
  },
  {
   "cell_type": "code",
   "execution_count": 230,
   "metadata": {},
   "outputs": [
    {
     "data": {
      "text/plain": [
       "<module 'thermoextrap.xtrapy.core' from '/Users/wpk/Documents/python/projects/xtrapy/thermoextrap/xtrapy/core.py'>"
      ]
     },
     "execution_count": 230,
     "metadata": {},
     "output_type": "execute_result"
    }
   ],
   "source": [
    "reload(core)"
   ]
  },
  {
   "cell_type": "code",
   "execution_count": 231,
   "metadata": {},
   "outputs": [],
   "source": [
    "xem_log = core.ExtrapModel.from_values_beta(4, refBeta, udata, xdata, \n",
    "                                            xalpha=False, central=False, minus_log=True)"
   ]
  },
  {
   "cell_type": "code",
   "execution_count": 240,
   "metadata": {},
   "outputs": [
    {
     "data": {
      "text/html": [
       "<pre>&lt;xarray.DataArray &#x27;x&#x27; (order: 5, val: 5)&gt;\n",
       "array([[ 0.00000000e+00,  0.00000000e+00,  0.00000000e+00,\n",
       "         0.00000000e+00,  0.00000000e+00],\n",
       "       [ 0.00000000e+00,  0.00000000e+00,  0.00000000e+00,\n",
       "         0.00000000e+00,  0.00000000e+00],\n",
       "       [ 8.47032947e-22, -1.35525272e-20, -5.54637174e-17,\n",
       "         1.35525272e-20,  0.00000000e+00],\n",
       "       [ 5.54637174e-17, -5.56195714e-17, -5.55450325e-17,\n",
       "        -2.78030095e-16, -1.35525272e-20],\n",
       "       [ 3.88318867e-16,  8.34835673e-17,  3.32712848e-16,\n",
       "         2.22417299e-16,  8.30756362e-16]])\n",
       "Dimensions without coordinates: order, val</pre>"
      ],
      "text/plain": [
       "<xarray.DataArray 'x' (order: 5, val: 5)>\n",
       "array([[ 0.00000000e+00,  0.00000000e+00,  0.00000000e+00,\n",
       "         0.00000000e+00,  0.00000000e+00],\n",
       "       [ 0.00000000e+00,  0.00000000e+00,  0.00000000e+00,\n",
       "         0.00000000e+00,  0.00000000e+00],\n",
       "       [ 8.47032947e-22, -1.35525272e-20, -5.54637174e-17,\n",
       "         1.35525272e-20,  0.00000000e+00],\n",
       "       [ 5.54637174e-17, -5.56195714e-17, -5.55450325e-17,\n",
       "        -2.78030095e-16, -1.35525272e-20],\n",
       "       [ 3.88318867e-16,  8.34835673e-17,  3.32712848e-16,\n",
       "         2.22417299e-16,  8.30756362e-16]])\n",
       "Dimensions without coordinates: order, val"
      ]
     },
     "execution_count": 240,
     "metadata": {},
     "output_type": "execute_result"
    }
   ],
   "source": [
    "xem_log.xcoefs(norm=False) - extModelLog.params"
   ]
  },
  {
   "cell_type": "code",
   "execution_count": 241,
   "metadata": {},
   "outputs": [
    {
     "data": {
      "text/html": [
       "<pre>&lt;xarray.DataArray (alpha: 4, val: 5)&gt;\n",
       "array([[0.69221867, 0.69524399, 0.69222247, 0.69490141, 0.69075214],\n",
       "       [0.69224549, 0.69522349, 0.69226249, 0.69489854, 0.69077665],\n",
       "       [0.69227236, 0.69520234, 0.69230271, 0.69489679, 0.69080048],\n",
       "       [0.69229927, 0.69518054, 0.69234313, 0.69489617, 0.69082361]])\n",
       "Coordinates:\n",
       "  * alpha    (alpha) float64 0.1 0.2 0.3 0.4\n",
       "    dalpha   (alpha) float64 -0.4 -0.3 -0.2 -0.1\n",
       "    alpha0   float64 0.5\n",
       "Dimensions without coordinates: val</pre>"
      ],
      "text/plain": [
       "<xarray.DataArray (alpha: 4, val: 5)>\n",
       "array([[0.69221867, 0.69524399, 0.69222247, 0.69490141, 0.69075214],\n",
       "       [0.69224549, 0.69522349, 0.69226249, 0.69489854, 0.69077665],\n",
       "       [0.69227236, 0.69520234, 0.69230271, 0.69489679, 0.69080048],\n",
       "       [0.69229927, 0.69518054, 0.69234313, 0.69489617, 0.69082361]])\n",
       "Coordinates:\n",
       "  * alpha    (alpha) float64 0.1 0.2 0.3 0.4\n",
       "    dalpha   (alpha) float64 -0.4 -0.3 -0.2 -0.1\n",
       "    alpha0   float64 0.5\n",
       "Dimensions without coordinates: val"
      ]
     },
     "execution_count": 241,
     "metadata": {},
     "output_type": "execute_result"
    }
   ],
   "source": [
    "xem_log.predict(betas, order=2)"
   ]
  },
  {
   "cell_type": "code",
   "execution_count": 243,
   "metadata": {},
   "outputs": [
    {
     "data": {
      "text/html": [
       "<pre>&lt;xarray.DataArray (alpha: 4, val: 5)&gt;\n",
       "array([[0.00102678, 0.00097142, 0.00093299, 0.00086332, 0.00086038],\n",
       "       [0.00102721, 0.00097013, 0.00092652, 0.00086219, 0.00085788],\n",
       "       [0.0010285 , 0.00096965, 0.00092063, 0.00086188, 0.00085619],\n",
       "       [0.00103066, 0.00096999, 0.00091534, 0.00086237, 0.00085531]])\n",
       "Coordinates:\n",
       "  * alpha    (alpha) float64 0.1 0.2 0.3 0.4\n",
       "    dalpha   (alpha) float64 -0.4 -0.3 -0.2 -0.1\n",
       "    alpha0   float64 0.5\n",
       "Dimensions without coordinates: val</pre>"
      ],
      "text/plain": [
       "<xarray.DataArray (alpha: 4, val: 5)>\n",
       "array([[0.00102678, 0.00097142, 0.00093299, 0.00086332, 0.00086038],\n",
       "       [0.00102721, 0.00097013, 0.00092652, 0.00086219, 0.00085788],\n",
       "       [0.0010285 , 0.00096965, 0.00092063, 0.00086188, 0.00085619],\n",
       "       [0.00103066, 0.00096999, 0.00091534, 0.00086237, 0.00085531]])\n",
       "Coordinates:\n",
       "  * alpha    (alpha) float64 0.1 0.2 0.3 0.4\n",
       "    dalpha   (alpha) float64 -0.4 -0.3 -0.2 -0.1\n",
       "    alpha0   float64 0.5\n",
       "Dimensions without coordinates: val"
      ]
     },
     "execution_count": 243,
     "metadata": {},
     "output_type": "execute_result"
    }
   ],
   "source": [
    "xem_log.resample(100).predict(betas,order=2).std('rep')"
   ]
  },
  {
   "cell_type": "code",
   "execution_count": 242,
   "metadata": {},
   "outputs": [
    {
     "name": "stdout",
     "output_type": "stream",
     "text": [
      "Bootstrapped uncertainties in predictions:\n",
      "[[0.0019606  0.00188727 0.00195556 0.00175709 0.00168601]\n",
      " [0.00195445 0.00189193 0.00195472 0.00175012 0.0016689 ]\n",
      " [0.00194944 0.0018977  0.00195485 0.0017444  0.00165321]\n",
      " [0.00194558 0.00190457 0.00195593 0.00173991 0.00163897]]\n"
     ]
    }
   ],
   "source": [
    "#And bootstrapped uncertainties\n",
    "print(\"Bootstrapped uncertainties in predictions:\")\n",
    "print(extModelLog.bootstrap(betas, order=2))"
   ]
  },
  {
   "cell_type": "code",
   "execution_count": 598,
   "metadata": {},
   "outputs": [
    {
     "data": {
      "text/latex": [
       "$\\displaystyle 4 {X}_{0} {X}_{2} + 3 {X}_{1}^{2}$"
      ],
      "text/plain": [
       "4*X[0]*X[2] + 3*X[1]**2"
      ]
     },
     "execution_count": 598,
     "metadata": {},
     "output_type": "execute_result"
    }
   ],
   "source": [
    "sp.bell(4, 2, X)"
   ]
  }
 ],
 "metadata": {
  "kernelspec": {
   "display_name": "Python [conda env:.conda-py37]",
   "language": "python",
   "name": "conda-env-.conda-py37-py"
  },
  "language_info": {
   "codemirror_mode": {
    "name": "ipython",
    "version": 3
   },
   "file_extension": ".py",
   "mimetype": "text/x-python",
   "name": "python",
   "nbconvert_exporter": "python",
   "pygments_lexer": "ipython3",
   "version": "3.7.6"
  },
  "toc": {
   "base_numbering": 1,
   "nav_menu": {},
   "number_sections": true,
   "sideBar": true,
   "skip_h1_title": false,
   "title_cell": "Table of Contents",
   "title_sidebar": "Contents",
   "toc_cell": false,
   "toc_position": {
    "height": "calc(100% - 180px)",
    "left": "10px",
    "top": "150px",
    "width": "380px"
   },
   "toc_section_display": true,
   "toc_window_display": true
  }
 },
 "nbformat": 4,
 "nbformat_minor": 2
}
