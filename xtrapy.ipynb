{
 "cells": [
  {
   "cell_type": "code",
   "execution_count": 1,
   "metadata": {},
   "outputs": [],
   "source": [
    "%matplotlib inline\n",
    "import numpy as np\n",
    "import matplotlib.pyplot as plt\n",
    "import matplotlib as mpl\n",
    "from thermoextrap import *\n",
    "import thermoextrap\n"
   ]
  },
  {
   "cell_type": "code",
   "execution_count": 2,
   "metadata": {},
   "outputs": [],
   "source": [
    "# xtrapy stuff:\n",
    "# note, just using single module right now.  Can retinker\n",
    "import thermoextrap.xtrapy.core as core\n",
    "import thermoextrap.xtrapy.xpan_beta as xpan_beta\n",
    "import xarray as xr"
   ]
  },
  {
   "cell_type": "code",
   "execution_count": 3,
   "metadata": {},
   "outputs": [],
   "source": [
    "from importlib import reload"
   ]
  },
  {
   "cell_type": "code",
   "execution_count": 4,
   "metadata": {},
   "outputs": [],
   "source": [
    "order = 6\n",
    "fs = [thermoextrap.symDerivAvgX(i) for i in range(order+1)]"
   ]
  },
  {
   "cell_type": "code",
   "execution_count": 5,
   "metadata": {},
   "outputs": [],
   "source": [
    "# test Data\n",
    "# samples\n",
    "n = int(1e5)\n",
    "# number of x values\n",
    "nv = 5\n",
    "\n",
    "_u_offset = 0.0\n",
    "_x_offset = 0.0\n",
    "\n",
    "\n",
    "np.random.seed(0)\n",
    "u = np.random.rand(n) + _u_offset\n",
    "x = np.random.rand(n, nv) + _x_offset\n",
    "\n",
    "# second set, to testing\n",
    "ub = np.random.rand(n) + _u_offset\n",
    "xb = np.random.rand(n, nv) + _x_offset"
   ]
  },
  {
   "cell_type": "markdown",
   "metadata": {},
   "source": [
    "# comparison of xtrapy"
   ]
  },
  {
   "cell_type": "markdown",
   "metadata": {},
   "source": [
    "## Data averages"
   ]
  },
  {
   "cell_type": "code",
   "execution_count": 6,
   "metadata": {},
   "outputs": [],
   "source": [
    "# Test \"coefs\"\n",
    "ufunc, xufunc = thermoextrap.buildAvgFuncs(x, u, order)\n",
    "coefs_list = [fs[i](ufunc, xufunc) for i in range(order+1)]"
   ]
  },
  {
   "cell_type": "code",
   "execution_count": 7,
   "metadata": {},
   "outputs": [],
   "source": [
    "# coefficient class handler\n",
    "# raw moments\n",
    "\n",
    "# coefficient builder\n",
    "s = xpan_beta.factory_coefs(xalpha=False, central=False)\n",
    "# data object\n",
    "data = xpan_beta.factory_data(u, x, order=order, chunk=1000)"
   ]
  },
  {
   "cell_type": "code",
   "execution_count": 11,
   "metadata": {},
   "outputs": [
    {
     "data": {
      "text/html": [
       "<div><svg style=\"position: absolute; width: 0; height: 0; overflow: hidden\">\n",
       "<defs>\n",
       "<symbol id=\"icon-database\" viewBox=\"0 0 32 32\">\n",
       "<path d=\"M16 0c-8.837 0-16 2.239-16 5v4c0 2.761 7.163 5 16 5s16-2.239 16-5v-4c0-2.761-7.163-5-16-5z\"></path>\n",
       "<path d=\"M16 17c-8.837 0-16-2.239-16-5v6c0 2.761 7.163 5 16 5s16-2.239 16-5v-6c0 2.761-7.163 5-16 5z\"></path>\n",
       "<path d=\"M16 26c-8.837 0-16-2.239-16-5v6c0 2.761 7.163 5 16 5s16-2.239 16-5v-6c0 2.761-7.163 5-16 5z\"></path>\n",
       "</symbol>\n",
       "<symbol id=\"icon-file-text2\" viewBox=\"0 0 32 32\">\n",
       "<path d=\"M28.681 7.159c-0.694-0.947-1.662-2.053-2.724-3.116s-2.169-2.030-3.116-2.724c-1.612-1.182-2.393-1.319-2.841-1.319h-15.5c-1.378 0-2.5 1.121-2.5 2.5v27c0 1.378 1.122 2.5 2.5 2.5h23c1.378 0 2.5-1.122 2.5-2.5v-19.5c0-0.448-0.137-1.23-1.319-2.841zM24.543 5.457c0.959 0.959 1.712 1.825 2.268 2.543h-4.811v-4.811c0.718 0.556 1.584 1.309 2.543 2.268zM28 29.5c0 0.271-0.229 0.5-0.5 0.5h-23c-0.271 0-0.5-0.229-0.5-0.5v-27c0-0.271 0.229-0.5 0.5-0.5 0 0 15.499-0 15.5 0v7c0 0.552 0.448 1 1 1h7v19.5z\"></path>\n",
       "<path d=\"M23 26h-14c-0.552 0-1-0.448-1-1s0.448-1 1-1h14c0.552 0 1 0.448 1 1s-0.448 1-1 1z\"></path>\n",
       "<path d=\"M23 22h-14c-0.552 0-1-0.448-1-1s0.448-1 1-1h14c0.552 0 1 0.448 1 1s-0.448 1-1 1z\"></path>\n",
       "<path d=\"M23 18h-14c-0.552 0-1-0.448-1-1s0.448-1 1-1h14c0.552 0 1 0.448 1 1s-0.448 1-1 1z\"></path>\n",
       "</symbol>\n",
       "</defs>\n",
       "</svg>\n",
       "<style>/* CSS stylesheet for displaying xarray objects in jupyterlab.\n",
       " *\n",
       " */\n",
       "\n",
       ":root {\n",
       "  --xr-font-color0: var(--jp-content-font-color0, rgba(0, 0, 0, 1));\n",
       "  --xr-font-color2: var(--jp-content-font-color2, rgba(0, 0, 0, 0.54));\n",
       "  --xr-font-color3: var(--jp-content-font-color3, rgba(0, 0, 0, 0.38));\n",
       "  --xr-border-color: var(--jp-border-color2, #e0e0e0);\n",
       "  --xr-disabled-color: var(--jp-layout-color3, #bdbdbd);\n",
       "  --xr-background-color: var(--jp-layout-color0, white);\n",
       "  --xr-background-color-row-even: var(--jp-layout-color1, white);\n",
       "  --xr-background-color-row-odd: var(--jp-layout-color2, #eeeeee);\n",
       "}\n",
       "\n",
       "html[theme=dark],\n",
       "body.vscode-dark {\n",
       "  --xr-font-color0: rgba(255, 255, 255, 1);\n",
       "  --xr-font-color2: rgba(255, 255, 255, 0.54);\n",
       "  --xr-font-color3: rgba(255, 255, 255, 0.38);\n",
       "  --xr-border-color: #1F1F1F;\n",
       "  --xr-disabled-color: #515151;\n",
       "  --xr-background-color: #111111;\n",
       "  --xr-background-color-row-even: #111111;\n",
       "  --xr-background-color-row-odd: #313131;\n",
       "}\n",
       "\n",
       ".xr-wrap {\n",
       "  display: block;\n",
       "  min-width: 300px;\n",
       "  max-width: 700px;\n",
       "}\n",
       "\n",
       ".xr-text-repr-fallback {\n",
       "  /* fallback to plain text repr when CSS is not injected (untrusted notebook) */\n",
       "  display: none;\n",
       "}\n",
       "\n",
       ".xr-header {\n",
       "  padding-top: 6px;\n",
       "  padding-bottom: 6px;\n",
       "  margin-bottom: 4px;\n",
       "  border-bottom: solid 1px var(--xr-border-color);\n",
       "}\n",
       "\n",
       ".xr-header > div,\n",
       ".xr-header > ul {\n",
       "  display: inline;\n",
       "  margin-top: 0;\n",
       "  margin-bottom: 0;\n",
       "}\n",
       "\n",
       ".xr-obj-type,\n",
       ".xr-array-name {\n",
       "  margin-left: 2px;\n",
       "  margin-right: 10px;\n",
       "}\n",
       "\n",
       ".xr-obj-type {\n",
       "  color: var(--xr-font-color2);\n",
       "}\n",
       "\n",
       ".xr-sections {\n",
       "  padding-left: 0 !important;\n",
       "  display: grid;\n",
       "  grid-template-columns: 150px auto auto 1fr 20px 20px;\n",
       "}\n",
       "\n",
       ".xr-section-item {\n",
       "  display: contents;\n",
       "}\n",
       "\n",
       ".xr-section-item input {\n",
       "  display: none;\n",
       "}\n",
       "\n",
       ".xr-section-item input + label {\n",
       "  color: var(--xr-disabled-color);\n",
       "}\n",
       "\n",
       ".xr-section-item input:enabled + label {\n",
       "  cursor: pointer;\n",
       "  color: var(--xr-font-color2);\n",
       "}\n",
       "\n",
       ".xr-section-item input:enabled + label:hover {\n",
       "  color: var(--xr-font-color0);\n",
       "}\n",
       "\n",
       ".xr-section-summary {\n",
       "  grid-column: 1;\n",
       "  color: var(--xr-font-color2);\n",
       "  font-weight: 500;\n",
       "}\n",
       "\n",
       ".xr-section-summary > span {\n",
       "  display: inline-block;\n",
       "  padding-left: 0.5em;\n",
       "}\n",
       "\n",
       ".xr-section-summary-in:disabled + label {\n",
       "  color: var(--xr-font-color2);\n",
       "}\n",
       "\n",
       ".xr-section-summary-in + label:before {\n",
       "  display: inline-block;\n",
       "  content: '►';\n",
       "  font-size: 11px;\n",
       "  width: 15px;\n",
       "  text-align: center;\n",
       "}\n",
       "\n",
       ".xr-section-summary-in:disabled + label:before {\n",
       "  color: var(--xr-disabled-color);\n",
       "}\n",
       "\n",
       ".xr-section-summary-in:checked + label:before {\n",
       "  content: '▼';\n",
       "}\n",
       "\n",
       ".xr-section-summary-in:checked + label > span {\n",
       "  display: none;\n",
       "}\n",
       "\n",
       ".xr-section-summary,\n",
       ".xr-section-inline-details {\n",
       "  padding-top: 4px;\n",
       "  padding-bottom: 4px;\n",
       "}\n",
       "\n",
       ".xr-section-inline-details {\n",
       "  grid-column: 2 / -1;\n",
       "}\n",
       "\n",
       ".xr-section-details {\n",
       "  display: none;\n",
       "  grid-column: 1 / -1;\n",
       "  margin-bottom: 5px;\n",
       "}\n",
       "\n",
       ".xr-section-summary-in:checked ~ .xr-section-details {\n",
       "  display: contents;\n",
       "}\n",
       "\n",
       ".xr-array-wrap {\n",
       "  grid-column: 1 / -1;\n",
       "  display: grid;\n",
       "  grid-template-columns: 20px auto;\n",
       "}\n",
       "\n",
       ".xr-array-wrap > label {\n",
       "  grid-column: 1;\n",
       "  vertical-align: top;\n",
       "}\n",
       "\n",
       ".xr-preview {\n",
       "  color: var(--xr-font-color3);\n",
       "}\n",
       "\n",
       ".xr-array-preview,\n",
       ".xr-array-data {\n",
       "  padding: 0 5px !important;\n",
       "  grid-column: 2;\n",
       "}\n",
       "\n",
       ".xr-array-data,\n",
       ".xr-array-in:checked ~ .xr-array-preview {\n",
       "  display: none;\n",
       "}\n",
       "\n",
       ".xr-array-in:checked ~ .xr-array-data,\n",
       ".xr-array-preview {\n",
       "  display: inline-block;\n",
       "}\n",
       "\n",
       ".xr-dim-list {\n",
       "  display: inline-block !important;\n",
       "  list-style: none;\n",
       "  padding: 0 !important;\n",
       "  margin: 0;\n",
       "}\n",
       "\n",
       ".xr-dim-list li {\n",
       "  display: inline-block;\n",
       "  padding: 0;\n",
       "  margin: 0;\n",
       "}\n",
       "\n",
       ".xr-dim-list:before {\n",
       "  content: '(';\n",
       "}\n",
       "\n",
       ".xr-dim-list:after {\n",
       "  content: ')';\n",
       "}\n",
       "\n",
       ".xr-dim-list li:not(:last-child):after {\n",
       "  content: ',';\n",
       "  padding-right: 5px;\n",
       "}\n",
       "\n",
       ".xr-has-index {\n",
       "  font-weight: bold;\n",
       "}\n",
       "\n",
       ".xr-var-list,\n",
       ".xr-var-item {\n",
       "  display: contents;\n",
       "}\n",
       "\n",
       ".xr-var-item > div,\n",
       ".xr-var-item label,\n",
       ".xr-var-item > .xr-var-name span {\n",
       "  background-color: var(--xr-background-color-row-even);\n",
       "  margin-bottom: 0;\n",
       "}\n",
       "\n",
       ".xr-var-item > .xr-var-name:hover span {\n",
       "  padding-right: 5px;\n",
       "}\n",
       "\n",
       ".xr-var-list > li:nth-child(odd) > div,\n",
       ".xr-var-list > li:nth-child(odd) > label,\n",
       ".xr-var-list > li:nth-child(odd) > .xr-var-name span {\n",
       "  background-color: var(--xr-background-color-row-odd);\n",
       "}\n",
       "\n",
       ".xr-var-name {\n",
       "  grid-column: 1;\n",
       "}\n",
       "\n",
       ".xr-var-dims {\n",
       "  grid-column: 2;\n",
       "}\n",
       "\n",
       ".xr-var-dtype {\n",
       "  grid-column: 3;\n",
       "  text-align: right;\n",
       "  color: var(--xr-font-color2);\n",
       "}\n",
       "\n",
       ".xr-var-preview {\n",
       "  grid-column: 4;\n",
       "}\n",
       "\n",
       ".xr-var-name,\n",
       ".xr-var-dims,\n",
       ".xr-var-dtype,\n",
       ".xr-preview,\n",
       ".xr-attrs dt {\n",
       "  white-space: nowrap;\n",
       "  overflow: hidden;\n",
       "  text-overflow: ellipsis;\n",
       "  padding-right: 10px;\n",
       "}\n",
       "\n",
       ".xr-var-name:hover,\n",
       ".xr-var-dims:hover,\n",
       ".xr-var-dtype:hover,\n",
       ".xr-attrs dt:hover {\n",
       "  overflow: visible;\n",
       "  width: auto;\n",
       "  z-index: 1;\n",
       "}\n",
       "\n",
       ".xr-var-attrs,\n",
       ".xr-var-data {\n",
       "  display: none;\n",
       "  background-color: var(--xr-background-color) !important;\n",
       "  padding-bottom: 5px !important;\n",
       "}\n",
       "\n",
       ".xr-var-attrs-in:checked ~ .xr-var-attrs,\n",
       ".xr-var-data-in:checked ~ .xr-var-data {\n",
       "  display: block;\n",
       "}\n",
       "\n",
       ".xr-var-data > table {\n",
       "  float: right;\n",
       "}\n",
       "\n",
       ".xr-var-name span,\n",
       ".xr-var-data,\n",
       ".xr-attrs {\n",
       "  padding-left: 25px !important;\n",
       "}\n",
       "\n",
       ".xr-attrs,\n",
       ".xr-var-attrs,\n",
       ".xr-var-data {\n",
       "  grid-column: 1 / -1;\n",
       "}\n",
       "\n",
       "dl.xr-attrs {\n",
       "  padding: 0;\n",
       "  margin: 0;\n",
       "  display: grid;\n",
       "  grid-template-columns: 125px auto;\n",
       "}\n",
       "\n",
       ".xr-attrs dt, dd {\n",
       "  padding: 0;\n",
       "  margin: 0;\n",
       "  float: left;\n",
       "  padding-right: 10px;\n",
       "  width: auto;\n",
       "}\n",
       "\n",
       ".xr-attrs dt {\n",
       "  font-weight: normal;\n",
       "  grid-column: 1;\n",
       "}\n",
       "\n",
       ".xr-attrs dt:hover span {\n",
       "  display: inline-block;\n",
       "  background: var(--xr-background-color);\n",
       "  padding-right: 10px;\n",
       "}\n",
       "\n",
       ".xr-attrs dd {\n",
       "  grid-column: 2;\n",
       "  white-space: pre-wrap;\n",
       "  word-break: break-all;\n",
       "}\n",
       "\n",
       ".xr-icon-database,\n",
       ".xr-icon-file-text2 {\n",
       "  display: inline-block;\n",
       "  vertical-align: middle;\n",
       "  width: 1em;\n",
       "  height: 1.5em !important;\n",
       "  stroke-width: 0;\n",
       "  stroke: currentColor;\n",
       "  fill: currentColor;\n",
       "}\n",
       "</style><pre class='xr-text-repr-fallback'>&lt;xarray.DataArray &#x27;x&#x27; (moment: 7, val: 5)&gt;\n",
       "array([[0.50041065, 0.49899555, 0.50038186, 0.49912602, 0.50115189],\n",
       "       [0.25009013, 0.24913469, 0.25014455, 0.2493188 , 0.25043612],\n",
       "       [0.16679052, 0.16610542, 0.1668418 , 0.16617908, 0.16705   ],\n",
       "       [0.1251341 , 0.12463769, 0.1251815 , 0.12467509, 0.12534457],\n",
       "       [0.10011993, 0.0997598 , 0.10017438, 0.0997978 , 0.10030181],\n",
       "       [0.08343107, 0.08317153, 0.08349794, 0.08322209, 0.08359674],\n",
       "       [0.07150348, 0.07131927, 0.07158309, 0.07138435, 0.0716602 ]])\n",
       "Dimensions without coordinates: moment, val</pre><div class='xr-wrap' hidden><div class='xr-header'><div class='xr-obj-type'>xarray.DataArray</div><div class='xr-array-name'>'x'</div><ul class='xr-dim-list'><li><span>moment</span>: 7</li><li><span>val</span>: 5</li></ul></div><ul class='xr-sections'><li class='xr-section-item'><div class='xr-array-wrap'><input id='section-5971ef59-96ae-42ed-9bc7-f20ed827cc8d' class='xr-array-in' type='checkbox' checked><label for='section-5971ef59-96ae-42ed-9bc7-f20ed827cc8d' title='Show/hide data repr'><svg class='icon xr-icon-database'><use xlink:href='#icon-database'></use></svg></label><div class='xr-array-preview xr-preview'><span>0.5004 0.499 0.5004 0.4991 0.5012 ... 0.07132 0.07158 0.07138 0.07166</span></div><div class='xr-array-data'><pre>array([[0.50041065, 0.49899555, 0.50038186, 0.49912602, 0.50115189],\n",
       "       [0.25009013, 0.24913469, 0.25014455, 0.2493188 , 0.25043612],\n",
       "       [0.16679052, 0.16610542, 0.1668418 , 0.16617908, 0.16705   ],\n",
       "       [0.1251341 , 0.12463769, 0.1251815 , 0.12467509, 0.12534457],\n",
       "       [0.10011993, 0.0997598 , 0.10017438, 0.0997978 , 0.10030181],\n",
       "       [0.08343107, 0.08317153, 0.08349794, 0.08322209, 0.08359674],\n",
       "       [0.07150348, 0.07131927, 0.07158309, 0.07138435, 0.0716602 ]])</pre></div></div></li><li class='xr-section-item'><input id='section-568205e2-2298-49be-b2f1-86e7671ac3af' class='xr-section-summary-in' type='checkbox' disabled ><label for='section-568205e2-2298-49be-b2f1-86e7671ac3af' class='xr-section-summary'  title='Expand/collapse section'>Coordinates: <span>(0)</span></label><div class='xr-section-inline-details'></div><div class='xr-section-details'><ul class='xr-var-list'></ul></div></li><li class='xr-section-item'><input id='section-8c5fe57c-61ff-4864-8a2c-302467b4ec70' class='xr-section-summary-in' type='checkbox' disabled ><label for='section-8c5fe57c-61ff-4864-8a2c-302467b4ec70' class='xr-section-summary'  title='Expand/collapse section'>Attributes: <span>(0)</span></label><div class='xr-section-inline-details'></div><div class='xr-section-details'><dl class='xr-attrs'></dl></div></li></ul></div></div>"
      ],
      "text/plain": [
       "<xarray.DataArray 'x' (moment: 7, val: 5)>\n",
       "array([[0.50041065, 0.49899555, 0.50038186, 0.49912602, 0.50115189],\n",
       "       [0.25009013, 0.24913469, 0.25014455, 0.2493188 , 0.25043612],\n",
       "       [0.16679052, 0.16610542, 0.1668418 , 0.16617908, 0.16705   ],\n",
       "       [0.1251341 , 0.12463769, 0.1251815 , 0.12467509, 0.12534457],\n",
       "       [0.10011993, 0.0997598 , 0.10017438, 0.0997978 , 0.10030181],\n",
       "       [0.08343107, 0.08317153, 0.08349794, 0.08322209, 0.08359674],\n",
       "       [0.07150348, 0.07131927, 0.07158309, 0.07138435, 0.0716602 ]])\n",
       "Dimensions without coordinates: moment, val"
      ]
     },
     "execution_count": 11,
     "metadata": {},
     "output_type": "execute_result"
    }
   ],
   "source": [
    "data.xu"
   ]
  },
  {
   "cell_type": "code",
   "execution_count": 22,
   "metadata": {},
   "outputs": [
    {
     "data": {
      "text/html": [
       "<div><svg style=\"position: absolute; width: 0; height: 0; overflow: hidden\">\n",
       "<defs>\n",
       "<symbol id=\"icon-database\" viewBox=\"0 0 32 32\">\n",
       "<path d=\"M16 0c-8.837 0-16 2.239-16 5v4c0 2.761 7.163 5 16 5s16-2.239 16-5v-4c0-2.761-7.163-5-16-5z\"></path>\n",
       "<path d=\"M16 17c-8.837 0-16-2.239-16-5v6c0 2.761 7.163 5 16 5s16-2.239 16-5v-6c0 2.761-7.163 5-16 5z\"></path>\n",
       "<path d=\"M16 26c-8.837 0-16-2.239-16-5v6c0 2.761 7.163 5 16 5s16-2.239 16-5v-6c0 2.761-7.163 5-16 5z\"></path>\n",
       "</symbol>\n",
       "<symbol id=\"icon-file-text2\" viewBox=\"0 0 32 32\">\n",
       "<path d=\"M28.681 7.159c-0.694-0.947-1.662-2.053-2.724-3.116s-2.169-2.030-3.116-2.724c-1.612-1.182-2.393-1.319-2.841-1.319h-15.5c-1.378 0-2.5 1.121-2.5 2.5v27c0 1.378 1.122 2.5 2.5 2.5h23c1.378 0 2.5-1.122 2.5-2.5v-19.5c0-0.448-0.137-1.23-1.319-2.841zM24.543 5.457c0.959 0.959 1.712 1.825 2.268 2.543h-4.811v-4.811c0.718 0.556 1.584 1.309 2.543 2.268zM28 29.5c0 0.271-0.229 0.5-0.5 0.5h-23c-0.271 0-0.5-0.229-0.5-0.5v-27c0-0.271 0.229-0.5 0.5-0.5 0 0 15.499-0 15.5 0v7c0 0.552 0.448 1 1 1h7v19.5z\"></path>\n",
       "<path d=\"M23 26h-14c-0.552 0-1-0.448-1-1s0.448-1 1-1h14c0.552 0 1 0.448 1 1s-0.448 1-1 1z\"></path>\n",
       "<path d=\"M23 22h-14c-0.552 0-1-0.448-1-1s0.448-1 1-1h14c0.552 0 1 0.448 1 1s-0.448 1-1 1z\"></path>\n",
       "<path d=\"M23 18h-14c-0.552 0-1-0.448-1-1s0.448-1 1-1h14c0.552 0 1 0.448 1 1s-0.448 1-1 1z\"></path>\n",
       "</symbol>\n",
       "</defs>\n",
       "</svg>\n",
       "<style>/* CSS stylesheet for displaying xarray objects in jupyterlab.\n",
       " *\n",
       " */\n",
       "\n",
       ":root {\n",
       "  --xr-font-color0: var(--jp-content-font-color0, rgba(0, 0, 0, 1));\n",
       "  --xr-font-color2: var(--jp-content-font-color2, rgba(0, 0, 0, 0.54));\n",
       "  --xr-font-color3: var(--jp-content-font-color3, rgba(0, 0, 0, 0.38));\n",
       "  --xr-border-color: var(--jp-border-color2, #e0e0e0);\n",
       "  --xr-disabled-color: var(--jp-layout-color3, #bdbdbd);\n",
       "  --xr-background-color: var(--jp-layout-color0, white);\n",
       "  --xr-background-color-row-even: var(--jp-layout-color1, white);\n",
       "  --xr-background-color-row-odd: var(--jp-layout-color2, #eeeeee);\n",
       "}\n",
       "\n",
       "html[theme=dark],\n",
       "body.vscode-dark {\n",
       "  --xr-font-color0: rgba(255, 255, 255, 1);\n",
       "  --xr-font-color2: rgba(255, 255, 255, 0.54);\n",
       "  --xr-font-color3: rgba(255, 255, 255, 0.38);\n",
       "  --xr-border-color: #1F1F1F;\n",
       "  --xr-disabled-color: #515151;\n",
       "  --xr-background-color: #111111;\n",
       "  --xr-background-color-row-even: #111111;\n",
       "  --xr-background-color-row-odd: #313131;\n",
       "}\n",
       "\n",
       ".xr-wrap {\n",
       "  display: block;\n",
       "  min-width: 300px;\n",
       "  max-width: 700px;\n",
       "}\n",
       "\n",
       ".xr-text-repr-fallback {\n",
       "  /* fallback to plain text repr when CSS is not injected (untrusted notebook) */\n",
       "  display: none;\n",
       "}\n",
       "\n",
       ".xr-header {\n",
       "  padding-top: 6px;\n",
       "  padding-bottom: 6px;\n",
       "  margin-bottom: 4px;\n",
       "  border-bottom: solid 1px var(--xr-border-color);\n",
       "}\n",
       "\n",
       ".xr-header > div,\n",
       ".xr-header > ul {\n",
       "  display: inline;\n",
       "  margin-top: 0;\n",
       "  margin-bottom: 0;\n",
       "}\n",
       "\n",
       ".xr-obj-type,\n",
       ".xr-array-name {\n",
       "  margin-left: 2px;\n",
       "  margin-right: 10px;\n",
       "}\n",
       "\n",
       ".xr-obj-type {\n",
       "  color: var(--xr-font-color2);\n",
       "}\n",
       "\n",
       ".xr-sections {\n",
       "  padding-left: 0 !important;\n",
       "  display: grid;\n",
       "  grid-template-columns: 150px auto auto 1fr 20px 20px;\n",
       "}\n",
       "\n",
       ".xr-section-item {\n",
       "  display: contents;\n",
       "}\n",
       "\n",
       ".xr-section-item input {\n",
       "  display: none;\n",
       "}\n",
       "\n",
       ".xr-section-item input + label {\n",
       "  color: var(--xr-disabled-color);\n",
       "}\n",
       "\n",
       ".xr-section-item input:enabled + label {\n",
       "  cursor: pointer;\n",
       "  color: var(--xr-font-color2);\n",
       "}\n",
       "\n",
       ".xr-section-item input:enabled + label:hover {\n",
       "  color: var(--xr-font-color0);\n",
       "}\n",
       "\n",
       ".xr-section-summary {\n",
       "  grid-column: 1;\n",
       "  color: var(--xr-font-color2);\n",
       "  font-weight: 500;\n",
       "}\n",
       "\n",
       ".xr-section-summary > span {\n",
       "  display: inline-block;\n",
       "  padding-left: 0.5em;\n",
       "}\n",
       "\n",
       ".xr-section-summary-in:disabled + label {\n",
       "  color: var(--xr-font-color2);\n",
       "}\n",
       "\n",
       ".xr-section-summary-in + label:before {\n",
       "  display: inline-block;\n",
       "  content: '►';\n",
       "  font-size: 11px;\n",
       "  width: 15px;\n",
       "  text-align: center;\n",
       "}\n",
       "\n",
       ".xr-section-summary-in:disabled + label:before {\n",
       "  color: var(--xr-disabled-color);\n",
       "}\n",
       "\n",
       ".xr-section-summary-in:checked + label:before {\n",
       "  content: '▼';\n",
       "}\n",
       "\n",
       ".xr-section-summary-in:checked + label > span {\n",
       "  display: none;\n",
       "}\n",
       "\n",
       ".xr-section-summary,\n",
       ".xr-section-inline-details {\n",
       "  padding-top: 4px;\n",
       "  padding-bottom: 4px;\n",
       "}\n",
       "\n",
       ".xr-section-inline-details {\n",
       "  grid-column: 2 / -1;\n",
       "}\n",
       "\n",
       ".xr-section-details {\n",
       "  display: none;\n",
       "  grid-column: 1 / -1;\n",
       "  margin-bottom: 5px;\n",
       "}\n",
       "\n",
       ".xr-section-summary-in:checked ~ .xr-section-details {\n",
       "  display: contents;\n",
       "}\n",
       "\n",
       ".xr-array-wrap {\n",
       "  grid-column: 1 / -1;\n",
       "  display: grid;\n",
       "  grid-template-columns: 20px auto;\n",
       "}\n",
       "\n",
       ".xr-array-wrap > label {\n",
       "  grid-column: 1;\n",
       "  vertical-align: top;\n",
       "}\n",
       "\n",
       ".xr-preview {\n",
       "  color: var(--xr-font-color3);\n",
       "}\n",
       "\n",
       ".xr-array-preview,\n",
       ".xr-array-data {\n",
       "  padding: 0 5px !important;\n",
       "  grid-column: 2;\n",
       "}\n",
       "\n",
       ".xr-array-data,\n",
       ".xr-array-in:checked ~ .xr-array-preview {\n",
       "  display: none;\n",
       "}\n",
       "\n",
       ".xr-array-in:checked ~ .xr-array-data,\n",
       ".xr-array-preview {\n",
       "  display: inline-block;\n",
       "}\n",
       "\n",
       ".xr-dim-list {\n",
       "  display: inline-block !important;\n",
       "  list-style: none;\n",
       "  padding: 0 !important;\n",
       "  margin: 0;\n",
       "}\n",
       "\n",
       ".xr-dim-list li {\n",
       "  display: inline-block;\n",
       "  padding: 0;\n",
       "  margin: 0;\n",
       "}\n",
       "\n",
       ".xr-dim-list:before {\n",
       "  content: '(';\n",
       "}\n",
       "\n",
       ".xr-dim-list:after {\n",
       "  content: ')';\n",
       "}\n",
       "\n",
       ".xr-dim-list li:not(:last-child):after {\n",
       "  content: ',';\n",
       "  padding-right: 5px;\n",
       "}\n",
       "\n",
       ".xr-has-index {\n",
       "  font-weight: bold;\n",
       "}\n",
       "\n",
       ".xr-var-list,\n",
       ".xr-var-item {\n",
       "  display: contents;\n",
       "}\n",
       "\n",
       ".xr-var-item > div,\n",
       ".xr-var-item label,\n",
       ".xr-var-item > .xr-var-name span {\n",
       "  background-color: var(--xr-background-color-row-even);\n",
       "  margin-bottom: 0;\n",
       "}\n",
       "\n",
       ".xr-var-item > .xr-var-name:hover span {\n",
       "  padding-right: 5px;\n",
       "}\n",
       "\n",
       ".xr-var-list > li:nth-child(odd) > div,\n",
       ".xr-var-list > li:nth-child(odd) > label,\n",
       ".xr-var-list > li:nth-child(odd) > .xr-var-name span {\n",
       "  background-color: var(--xr-background-color-row-odd);\n",
       "}\n",
       "\n",
       ".xr-var-name {\n",
       "  grid-column: 1;\n",
       "}\n",
       "\n",
       ".xr-var-dims {\n",
       "  grid-column: 2;\n",
       "}\n",
       "\n",
       ".xr-var-dtype {\n",
       "  grid-column: 3;\n",
       "  text-align: right;\n",
       "  color: var(--xr-font-color2);\n",
       "}\n",
       "\n",
       ".xr-var-preview {\n",
       "  grid-column: 4;\n",
       "}\n",
       "\n",
       ".xr-var-name,\n",
       ".xr-var-dims,\n",
       ".xr-var-dtype,\n",
       ".xr-preview,\n",
       ".xr-attrs dt {\n",
       "  white-space: nowrap;\n",
       "  overflow: hidden;\n",
       "  text-overflow: ellipsis;\n",
       "  padding-right: 10px;\n",
       "}\n",
       "\n",
       ".xr-var-name:hover,\n",
       ".xr-var-dims:hover,\n",
       ".xr-var-dtype:hover,\n",
       ".xr-attrs dt:hover {\n",
       "  overflow: visible;\n",
       "  width: auto;\n",
       "  z-index: 1;\n",
       "}\n",
       "\n",
       ".xr-var-attrs,\n",
       ".xr-var-data {\n",
       "  display: none;\n",
       "  background-color: var(--xr-background-color) !important;\n",
       "  padding-bottom: 5px !important;\n",
       "}\n",
       "\n",
       ".xr-var-attrs-in:checked ~ .xr-var-attrs,\n",
       ".xr-var-data-in:checked ~ .xr-var-data {\n",
       "  display: block;\n",
       "}\n",
       "\n",
       ".xr-var-data > table {\n",
       "  float: right;\n",
       "}\n",
       "\n",
       ".xr-var-name span,\n",
       ".xr-var-data,\n",
       ".xr-attrs {\n",
       "  padding-left: 25px !important;\n",
       "}\n",
       "\n",
       ".xr-attrs,\n",
       ".xr-var-attrs,\n",
       ".xr-var-data {\n",
       "  grid-column: 1 / -1;\n",
       "}\n",
       "\n",
       "dl.xr-attrs {\n",
       "  padding: 0;\n",
       "  margin: 0;\n",
       "  display: grid;\n",
       "  grid-template-columns: 125px auto;\n",
       "}\n",
       "\n",
       ".xr-attrs dt, dd {\n",
       "  padding: 0;\n",
       "  margin: 0;\n",
       "  float: left;\n",
       "  padding-right: 10px;\n",
       "  width: auto;\n",
       "}\n",
       "\n",
       ".xr-attrs dt {\n",
       "  font-weight: normal;\n",
       "  grid-column: 1;\n",
       "}\n",
       "\n",
       ".xr-attrs dt:hover span {\n",
       "  display: inline-block;\n",
       "  background: var(--xr-background-color);\n",
       "  padding-right: 10px;\n",
       "}\n",
       "\n",
       ".xr-attrs dd {\n",
       "  grid-column: 2;\n",
       "  white-space: pre-wrap;\n",
       "  word-break: break-all;\n",
       "}\n",
       "\n",
       ".xr-icon-database,\n",
       ".xr-icon-file-text2 {\n",
       "  display: inline-block;\n",
       "  vertical-align: middle;\n",
       "  width: 1em;\n",
       "  height: 1.5em !important;\n",
       "  stroke-width: 0;\n",
       "  stroke: currentColor;\n",
       "  fill: currentColor;\n",
       "}\n",
       "</style><pre class='xr-text-repr-fallback'>&lt;xarray.DataArray &#x27;u&#x27; (moment: 7)&gt;\n",
       "array([1.        , 0.49950003, 0.33304221, 0.24985064, 0.19992672,\n",
       "       0.16663601, 0.14285173])\n",
       "Dimensions without coordinates: moment</pre><div class='xr-wrap' hidden><div class='xr-header'><div class='xr-obj-type'>xarray.DataArray</div><div class='xr-array-name'>'u'</div><ul class='xr-dim-list'><li><span>moment</span>: 7</li></ul></div><ul class='xr-sections'><li class='xr-section-item'><div class='xr-array-wrap'><input id='section-f206694d-fe8e-44d9-b42c-a6c4ff566137' class='xr-array-in' type='checkbox' checked><label for='section-f206694d-fe8e-44d9-b42c-a6c4ff566137' title='Show/hide data repr'><svg class='icon xr-icon-database'><use xlink:href='#icon-database'></use></svg></label><div class='xr-array-preview xr-preview'><span>1.0 0.4995 0.333 0.2499 0.1999 0.1666 0.1429</span></div><div class='xr-array-data'><pre>array([1.        , 0.49950003, 0.33304221, 0.24985064, 0.19992672,\n",
       "       0.16663601, 0.14285173])</pre></div></div></li><li class='xr-section-item'><input id='section-1adca5c4-5d12-48e7-9abf-fb8071e933b8' class='xr-section-summary-in' type='checkbox' disabled ><label for='section-1adca5c4-5d12-48e7-9abf-fb8071e933b8' class='xr-section-summary'  title='Expand/collapse section'>Coordinates: <span>(0)</span></label><div class='xr-section-inline-details'></div><div class='xr-section-details'><ul class='xr-var-list'></ul></div></li><li class='xr-section-item'><input id='section-81e7be86-0bf7-47c7-8e60-f5183e306a36' class='xr-section-summary-in' type='checkbox' disabled ><label for='section-81e7be86-0bf7-47c7-8e60-f5183e306a36' class='xr-section-summary'  title='Expand/collapse section'>Attributes: <span>(0)</span></label><div class='xr-section-inline-details'></div><div class='xr-section-details'><dl class='xr-attrs'></dl></div></li></ul></div></div>"
      ],
      "text/plain": [
       "<xarray.DataArray 'u' (moment: 7)>\n",
       "array([1.        , 0.49950003, 0.33304221, 0.24985064, 0.19992672,\n",
       "       0.16663601, 0.14285173])\n",
       "Dimensions without coordinates: moment"
      ]
     },
     "execution_count": 22,
     "metadata": {},
     "output_type": "execute_result"
    }
   ],
   "source": [
    "data.u"
   ]
  },
  {
   "cell_type": "code",
   "execution_count": 13,
   "metadata": {},
   "outputs": [],
   "source": [
    "import cmomy.xcentral as xcentral"
   ]
  },
  {
   "cell_type": "code",
   "execution_count": 16,
   "metadata": {},
   "outputs": [
    {
     "data": {
      "text/plain": [
       "(100000, 5)"
      ]
     },
     "execution_count": 16,
     "metadata": {},
     "output_type": "execute_result"
    }
   ],
   "source": []
  },
  {
   "cell_type": "code",
   "execution_count": 30,
   "metadata": {},
   "outputs": [],
   "source": [
    "ave_u = xcentral.xStatsAccum.from_vals(u, moments=order)"
   ]
  },
  {
   "cell_type": "code",
   "execution_count": 48,
   "metadata": {},
   "outputs": [],
   "source": [
    "ave_xu = xcentral.xStatsAccumCov.from_vals(x, u, broadcast=True, moments=(1, order), dims=['val'])"
   ]
  },
  {
   "cell_type": "code",
   "execution_count": 49,
   "metadata": {},
   "outputs": [
    {
     "data": {
      "text/html": [
       "<div><svg style=\"position: absolute; width: 0; height: 0; overflow: hidden\">\n",
       "<defs>\n",
       "<symbol id=\"icon-database\" viewBox=\"0 0 32 32\">\n",
       "<path d=\"M16 0c-8.837 0-16 2.239-16 5v4c0 2.761 7.163 5 16 5s16-2.239 16-5v-4c0-2.761-7.163-5-16-5z\"></path>\n",
       "<path d=\"M16 17c-8.837 0-16-2.239-16-5v6c0 2.761 7.163 5 16 5s16-2.239 16-5v-6c0 2.761-7.163 5-16 5z\"></path>\n",
       "<path d=\"M16 26c-8.837 0-16-2.239-16-5v6c0 2.761 7.163 5 16 5s16-2.239 16-5v-6c0 2.761-7.163 5-16 5z\"></path>\n",
       "</symbol>\n",
       "<symbol id=\"icon-file-text2\" viewBox=\"0 0 32 32\">\n",
       "<path d=\"M28.681 7.159c-0.694-0.947-1.662-2.053-2.724-3.116s-2.169-2.030-3.116-2.724c-1.612-1.182-2.393-1.319-2.841-1.319h-15.5c-1.378 0-2.5 1.121-2.5 2.5v27c0 1.378 1.122 2.5 2.5 2.5h23c1.378 0 2.5-1.122 2.5-2.5v-19.5c0-0.448-0.137-1.23-1.319-2.841zM24.543 5.457c0.959 0.959 1.712 1.825 2.268 2.543h-4.811v-4.811c0.718 0.556 1.584 1.309 2.543 2.268zM28 29.5c0 0.271-0.229 0.5-0.5 0.5h-23c-0.271 0-0.5-0.229-0.5-0.5v-27c0-0.271 0.229-0.5 0.5-0.5 0 0 15.499-0 15.5 0v7c0 0.552 0.448 1 1 1h7v19.5z\"></path>\n",
       "<path d=\"M23 26h-14c-0.552 0-1-0.448-1-1s0.448-1 1-1h14c0.552 0 1 0.448 1 1s-0.448 1-1 1z\"></path>\n",
       "<path d=\"M23 22h-14c-0.552 0-1-0.448-1-1s0.448-1 1-1h14c0.552 0 1 0.448 1 1s-0.448 1-1 1z\"></path>\n",
       "<path d=\"M23 18h-14c-0.552 0-1-0.448-1-1s0.448-1 1-1h14c0.552 0 1 0.448 1 1s-0.448 1-1 1z\"></path>\n",
       "</symbol>\n",
       "</defs>\n",
       "</svg>\n",
       "<style>/* CSS stylesheet for displaying xarray objects in jupyterlab.\n",
       " *\n",
       " */\n",
       "\n",
       ":root {\n",
       "  --xr-font-color0: var(--jp-content-font-color0, rgba(0, 0, 0, 1));\n",
       "  --xr-font-color2: var(--jp-content-font-color2, rgba(0, 0, 0, 0.54));\n",
       "  --xr-font-color3: var(--jp-content-font-color3, rgba(0, 0, 0, 0.38));\n",
       "  --xr-border-color: var(--jp-border-color2, #e0e0e0);\n",
       "  --xr-disabled-color: var(--jp-layout-color3, #bdbdbd);\n",
       "  --xr-background-color: var(--jp-layout-color0, white);\n",
       "  --xr-background-color-row-even: var(--jp-layout-color1, white);\n",
       "  --xr-background-color-row-odd: var(--jp-layout-color2, #eeeeee);\n",
       "}\n",
       "\n",
       "html[theme=dark],\n",
       "body.vscode-dark {\n",
       "  --xr-font-color0: rgba(255, 255, 255, 1);\n",
       "  --xr-font-color2: rgba(255, 255, 255, 0.54);\n",
       "  --xr-font-color3: rgba(255, 255, 255, 0.38);\n",
       "  --xr-border-color: #1F1F1F;\n",
       "  --xr-disabled-color: #515151;\n",
       "  --xr-background-color: #111111;\n",
       "  --xr-background-color-row-even: #111111;\n",
       "  --xr-background-color-row-odd: #313131;\n",
       "}\n",
       "\n",
       ".xr-wrap {\n",
       "  display: block;\n",
       "  min-width: 300px;\n",
       "  max-width: 700px;\n",
       "}\n",
       "\n",
       ".xr-text-repr-fallback {\n",
       "  /* fallback to plain text repr when CSS is not injected (untrusted notebook) */\n",
       "  display: none;\n",
       "}\n",
       "\n",
       ".xr-header {\n",
       "  padding-top: 6px;\n",
       "  padding-bottom: 6px;\n",
       "  margin-bottom: 4px;\n",
       "  border-bottom: solid 1px var(--xr-border-color);\n",
       "}\n",
       "\n",
       ".xr-header > div,\n",
       ".xr-header > ul {\n",
       "  display: inline;\n",
       "  margin-top: 0;\n",
       "  margin-bottom: 0;\n",
       "}\n",
       "\n",
       ".xr-obj-type,\n",
       ".xr-array-name {\n",
       "  margin-left: 2px;\n",
       "  margin-right: 10px;\n",
       "}\n",
       "\n",
       ".xr-obj-type {\n",
       "  color: var(--xr-font-color2);\n",
       "}\n",
       "\n",
       ".xr-sections {\n",
       "  padding-left: 0 !important;\n",
       "  display: grid;\n",
       "  grid-template-columns: 150px auto auto 1fr 20px 20px;\n",
       "}\n",
       "\n",
       ".xr-section-item {\n",
       "  display: contents;\n",
       "}\n",
       "\n",
       ".xr-section-item input {\n",
       "  display: none;\n",
       "}\n",
       "\n",
       ".xr-section-item input + label {\n",
       "  color: var(--xr-disabled-color);\n",
       "}\n",
       "\n",
       ".xr-section-item input:enabled + label {\n",
       "  cursor: pointer;\n",
       "  color: var(--xr-font-color2);\n",
       "}\n",
       "\n",
       ".xr-section-item input:enabled + label:hover {\n",
       "  color: var(--xr-font-color0);\n",
       "}\n",
       "\n",
       ".xr-section-summary {\n",
       "  grid-column: 1;\n",
       "  color: var(--xr-font-color2);\n",
       "  font-weight: 500;\n",
       "}\n",
       "\n",
       ".xr-section-summary > span {\n",
       "  display: inline-block;\n",
       "  padding-left: 0.5em;\n",
       "}\n",
       "\n",
       ".xr-section-summary-in:disabled + label {\n",
       "  color: var(--xr-font-color2);\n",
       "}\n",
       "\n",
       ".xr-section-summary-in + label:before {\n",
       "  display: inline-block;\n",
       "  content: '►';\n",
       "  font-size: 11px;\n",
       "  width: 15px;\n",
       "  text-align: center;\n",
       "}\n",
       "\n",
       ".xr-section-summary-in:disabled + label:before {\n",
       "  color: var(--xr-disabled-color);\n",
       "}\n",
       "\n",
       ".xr-section-summary-in:checked + label:before {\n",
       "  content: '▼';\n",
       "}\n",
       "\n",
       ".xr-section-summary-in:checked + label > span {\n",
       "  display: none;\n",
       "}\n",
       "\n",
       ".xr-section-summary,\n",
       ".xr-section-inline-details {\n",
       "  padding-top: 4px;\n",
       "  padding-bottom: 4px;\n",
       "}\n",
       "\n",
       ".xr-section-inline-details {\n",
       "  grid-column: 2 / -1;\n",
       "}\n",
       "\n",
       ".xr-section-details {\n",
       "  display: none;\n",
       "  grid-column: 1 / -1;\n",
       "  margin-bottom: 5px;\n",
       "}\n",
       "\n",
       ".xr-section-summary-in:checked ~ .xr-section-details {\n",
       "  display: contents;\n",
       "}\n",
       "\n",
       ".xr-array-wrap {\n",
       "  grid-column: 1 / -1;\n",
       "  display: grid;\n",
       "  grid-template-columns: 20px auto;\n",
       "}\n",
       "\n",
       ".xr-array-wrap > label {\n",
       "  grid-column: 1;\n",
       "  vertical-align: top;\n",
       "}\n",
       "\n",
       ".xr-preview {\n",
       "  color: var(--xr-font-color3);\n",
       "}\n",
       "\n",
       ".xr-array-preview,\n",
       ".xr-array-data {\n",
       "  padding: 0 5px !important;\n",
       "  grid-column: 2;\n",
       "}\n",
       "\n",
       ".xr-array-data,\n",
       ".xr-array-in:checked ~ .xr-array-preview {\n",
       "  display: none;\n",
       "}\n",
       "\n",
       ".xr-array-in:checked ~ .xr-array-data,\n",
       ".xr-array-preview {\n",
       "  display: inline-block;\n",
       "}\n",
       "\n",
       ".xr-dim-list {\n",
       "  display: inline-block !important;\n",
       "  list-style: none;\n",
       "  padding: 0 !important;\n",
       "  margin: 0;\n",
       "}\n",
       "\n",
       ".xr-dim-list li {\n",
       "  display: inline-block;\n",
       "  padding: 0;\n",
       "  margin: 0;\n",
       "}\n",
       "\n",
       ".xr-dim-list:before {\n",
       "  content: '(';\n",
       "}\n",
       "\n",
       ".xr-dim-list:after {\n",
       "  content: ')';\n",
       "}\n",
       "\n",
       ".xr-dim-list li:not(:last-child):after {\n",
       "  content: ',';\n",
       "  padding-right: 5px;\n",
       "}\n",
       "\n",
       ".xr-has-index {\n",
       "  font-weight: bold;\n",
       "}\n",
       "\n",
       ".xr-var-list,\n",
       ".xr-var-item {\n",
       "  display: contents;\n",
       "}\n",
       "\n",
       ".xr-var-item > div,\n",
       ".xr-var-item label,\n",
       ".xr-var-item > .xr-var-name span {\n",
       "  background-color: var(--xr-background-color-row-even);\n",
       "  margin-bottom: 0;\n",
       "}\n",
       "\n",
       ".xr-var-item > .xr-var-name:hover span {\n",
       "  padding-right: 5px;\n",
       "}\n",
       "\n",
       ".xr-var-list > li:nth-child(odd) > div,\n",
       ".xr-var-list > li:nth-child(odd) > label,\n",
       ".xr-var-list > li:nth-child(odd) > .xr-var-name span {\n",
       "  background-color: var(--xr-background-color-row-odd);\n",
       "}\n",
       "\n",
       ".xr-var-name {\n",
       "  grid-column: 1;\n",
       "}\n",
       "\n",
       ".xr-var-dims {\n",
       "  grid-column: 2;\n",
       "}\n",
       "\n",
       ".xr-var-dtype {\n",
       "  grid-column: 3;\n",
       "  text-align: right;\n",
       "  color: var(--xr-font-color2);\n",
       "}\n",
       "\n",
       ".xr-var-preview {\n",
       "  grid-column: 4;\n",
       "}\n",
       "\n",
       ".xr-var-name,\n",
       ".xr-var-dims,\n",
       ".xr-var-dtype,\n",
       ".xr-preview,\n",
       ".xr-attrs dt {\n",
       "  white-space: nowrap;\n",
       "  overflow: hidden;\n",
       "  text-overflow: ellipsis;\n",
       "  padding-right: 10px;\n",
       "}\n",
       "\n",
       ".xr-var-name:hover,\n",
       ".xr-var-dims:hover,\n",
       ".xr-var-dtype:hover,\n",
       ".xr-attrs dt:hover {\n",
       "  overflow: visible;\n",
       "  width: auto;\n",
       "  z-index: 1;\n",
       "}\n",
       "\n",
       ".xr-var-attrs,\n",
       ".xr-var-data {\n",
       "  display: none;\n",
       "  background-color: var(--xr-background-color) !important;\n",
       "  padding-bottom: 5px !important;\n",
       "}\n",
       "\n",
       ".xr-var-attrs-in:checked ~ .xr-var-attrs,\n",
       ".xr-var-data-in:checked ~ .xr-var-data {\n",
       "  display: block;\n",
       "}\n",
       "\n",
       ".xr-var-data > table {\n",
       "  float: right;\n",
       "}\n",
       "\n",
       ".xr-var-name span,\n",
       ".xr-var-data,\n",
       ".xr-attrs {\n",
       "  padding-left: 25px !important;\n",
       "}\n",
       "\n",
       ".xr-attrs,\n",
       ".xr-var-attrs,\n",
       ".xr-var-data {\n",
       "  grid-column: 1 / -1;\n",
       "}\n",
       "\n",
       "dl.xr-attrs {\n",
       "  padding: 0;\n",
       "  margin: 0;\n",
       "  display: grid;\n",
       "  grid-template-columns: 125px auto;\n",
       "}\n",
       "\n",
       ".xr-attrs dt, dd {\n",
       "  padding: 0;\n",
       "  margin: 0;\n",
       "  float: left;\n",
       "  padding-right: 10px;\n",
       "  width: auto;\n",
       "}\n",
       "\n",
       ".xr-attrs dt {\n",
       "  font-weight: normal;\n",
       "  grid-column: 1;\n",
       "}\n",
       "\n",
       ".xr-attrs dt:hover span {\n",
       "  display: inline-block;\n",
       "  background: var(--xr-background-color);\n",
       "  padding-right: 10px;\n",
       "}\n",
       "\n",
       ".xr-attrs dd {\n",
       "  grid-column: 2;\n",
       "  white-space: pre-wrap;\n",
       "  word-break: break-all;\n",
       "}\n",
       "\n",
       ".xr-icon-database,\n",
       ".xr-icon-file-text2 {\n",
       "  display: inline-block;\n",
       "  vertical-align: middle;\n",
       "  width: 1em;\n",
       "  height: 1.5em !important;\n",
       "  stroke-width: 0;\n",
       "  stroke: currentColor;\n",
       "  fill: currentColor;\n",
       "}\n",
       "</style><pre class='xr-text-repr-fallback'>&lt;xarray.DataArray (moment: 7)&gt;\n",
       "array([1.00000000e+05, 4.99500033e-01, 3.33042206e-01, 2.49850644e-01,\n",
       "       1.99926724e-01, 1.66636005e-01, 1.42851727e-01])\n",
       "Dimensions without coordinates: moment</pre><div class='xr-wrap' hidden><div class='xr-header'><div class='xr-obj-type'>xarray.DataArray</div><div class='xr-array-name'></div><ul class='xr-dim-list'><li><span>moment</span>: 7</li></ul></div><ul class='xr-sections'><li class='xr-section-item'><div class='xr-array-wrap'><input id='section-ed3b4519-a497-41cc-a111-cb58ec1fcd59' class='xr-array-in' type='checkbox' checked><label for='section-ed3b4519-a497-41cc-a111-cb58ec1fcd59' title='Show/hide data repr'><svg class='icon xr-icon-database'><use xlink:href='#icon-database'></use></svg></label><div class='xr-array-preview xr-preview'><span>1e+05 0.4995 0.333 0.2499 0.1999 0.1666 0.1429</span></div><div class='xr-array-data'><pre>array([1.00000000e+05, 4.99500033e-01, 3.33042206e-01, 2.49850644e-01,\n",
       "       1.99926724e-01, 1.66636005e-01, 1.42851727e-01])</pre></div></div></li><li class='xr-section-item'><input id='section-c9f5f9ba-6078-4db8-a0f9-a76b63e24384' class='xr-section-summary-in' type='checkbox' disabled ><label for='section-c9f5f9ba-6078-4db8-a0f9-a76b63e24384' class='xr-section-summary'  title='Expand/collapse section'>Coordinates: <span>(0)</span></label><div class='xr-section-inline-details'></div><div class='xr-section-details'><ul class='xr-var-list'></ul></div></li><li class='xr-section-item'><input id='section-513a6c28-d8fe-4dd7-af3a-a6e4f6eb0102' class='xr-section-summary-in' type='checkbox' disabled ><label for='section-513a6c28-d8fe-4dd7-af3a-a6e4f6eb0102' class='xr-section-summary'  title='Expand/collapse section'>Attributes: <span>(0)</span></label><div class='xr-section-inline-details'></div><div class='xr-section-details'><dl class='xr-attrs'></dl></div></li></ul></div></div>"
      ],
      "text/plain": [
       "<xarray.DataArray (moment: 7)>\n",
       "array([1.00000000e+05, 4.99500033e-01, 3.33042206e-01, 2.49850644e-01,\n",
       "       1.99926724e-01, 1.66636005e-01, 1.42851727e-01])\n",
       "Dimensions without coordinates: moment"
      ]
     },
     "execution_count": 49,
     "metadata": {},
     "output_type": "execute_result"
    }
   ],
   "source": [
    "ave_u.to_raw().rename({'mom_0':'moment'})"
   ]
  },
  {
   "cell_type": "code",
   "execution_count": 52,
   "metadata": {},
   "outputs": [
    {
     "data": {
      "text/html": [
       "<div><svg style=\"position: absolute; width: 0; height: 0; overflow: hidden\">\n",
       "<defs>\n",
       "<symbol id=\"icon-database\" viewBox=\"0 0 32 32\">\n",
       "<path d=\"M16 0c-8.837 0-16 2.239-16 5v4c0 2.761 7.163 5 16 5s16-2.239 16-5v-4c0-2.761-7.163-5-16-5z\"></path>\n",
       "<path d=\"M16 17c-8.837 0-16-2.239-16-5v6c0 2.761 7.163 5 16 5s16-2.239 16-5v-6c0 2.761-7.163 5-16 5z\"></path>\n",
       "<path d=\"M16 26c-8.837 0-16-2.239-16-5v6c0 2.761 7.163 5 16 5s16-2.239 16-5v-6c0 2.761-7.163 5-16 5z\"></path>\n",
       "</symbol>\n",
       "<symbol id=\"icon-file-text2\" viewBox=\"0 0 32 32\">\n",
       "<path d=\"M28.681 7.159c-0.694-0.947-1.662-2.053-2.724-3.116s-2.169-2.030-3.116-2.724c-1.612-1.182-2.393-1.319-2.841-1.319h-15.5c-1.378 0-2.5 1.121-2.5 2.5v27c0 1.378 1.122 2.5 2.5 2.5h23c1.378 0 2.5-1.122 2.5-2.5v-19.5c0-0.448-0.137-1.23-1.319-2.841zM24.543 5.457c0.959 0.959 1.712 1.825 2.268 2.543h-4.811v-4.811c0.718 0.556 1.584 1.309 2.543 2.268zM28 29.5c0 0.271-0.229 0.5-0.5 0.5h-23c-0.271 0-0.5-0.229-0.5-0.5v-27c0-0.271 0.229-0.5 0.5-0.5 0 0 15.499-0 15.5 0v7c0 0.552 0.448 1 1 1h7v19.5z\"></path>\n",
       "<path d=\"M23 26h-14c-0.552 0-1-0.448-1-1s0.448-1 1-1h14c0.552 0 1 0.448 1 1s-0.448 1-1 1z\"></path>\n",
       "<path d=\"M23 22h-14c-0.552 0-1-0.448-1-1s0.448-1 1-1h14c0.552 0 1 0.448 1 1s-0.448 1-1 1z\"></path>\n",
       "<path d=\"M23 18h-14c-0.552 0-1-0.448-1-1s0.448-1 1-1h14c0.552 0 1 0.448 1 1s-0.448 1-1 1z\"></path>\n",
       "</symbol>\n",
       "</defs>\n",
       "</svg>\n",
       "<style>/* CSS stylesheet for displaying xarray objects in jupyterlab.\n",
       " *\n",
       " */\n",
       "\n",
       ":root {\n",
       "  --xr-font-color0: var(--jp-content-font-color0, rgba(0, 0, 0, 1));\n",
       "  --xr-font-color2: var(--jp-content-font-color2, rgba(0, 0, 0, 0.54));\n",
       "  --xr-font-color3: var(--jp-content-font-color3, rgba(0, 0, 0, 0.38));\n",
       "  --xr-border-color: var(--jp-border-color2, #e0e0e0);\n",
       "  --xr-disabled-color: var(--jp-layout-color3, #bdbdbd);\n",
       "  --xr-background-color: var(--jp-layout-color0, white);\n",
       "  --xr-background-color-row-even: var(--jp-layout-color1, white);\n",
       "  --xr-background-color-row-odd: var(--jp-layout-color2, #eeeeee);\n",
       "}\n",
       "\n",
       "html[theme=dark],\n",
       "body.vscode-dark {\n",
       "  --xr-font-color0: rgba(255, 255, 255, 1);\n",
       "  --xr-font-color2: rgba(255, 255, 255, 0.54);\n",
       "  --xr-font-color3: rgba(255, 255, 255, 0.38);\n",
       "  --xr-border-color: #1F1F1F;\n",
       "  --xr-disabled-color: #515151;\n",
       "  --xr-background-color: #111111;\n",
       "  --xr-background-color-row-even: #111111;\n",
       "  --xr-background-color-row-odd: #313131;\n",
       "}\n",
       "\n",
       ".xr-wrap {\n",
       "  display: block;\n",
       "  min-width: 300px;\n",
       "  max-width: 700px;\n",
       "}\n",
       "\n",
       ".xr-text-repr-fallback {\n",
       "  /* fallback to plain text repr when CSS is not injected (untrusted notebook) */\n",
       "  display: none;\n",
       "}\n",
       "\n",
       ".xr-header {\n",
       "  padding-top: 6px;\n",
       "  padding-bottom: 6px;\n",
       "  margin-bottom: 4px;\n",
       "  border-bottom: solid 1px var(--xr-border-color);\n",
       "}\n",
       "\n",
       ".xr-header > div,\n",
       ".xr-header > ul {\n",
       "  display: inline;\n",
       "  margin-top: 0;\n",
       "  margin-bottom: 0;\n",
       "}\n",
       "\n",
       ".xr-obj-type,\n",
       ".xr-array-name {\n",
       "  margin-left: 2px;\n",
       "  margin-right: 10px;\n",
       "}\n",
       "\n",
       ".xr-obj-type {\n",
       "  color: var(--xr-font-color2);\n",
       "}\n",
       "\n",
       ".xr-sections {\n",
       "  padding-left: 0 !important;\n",
       "  display: grid;\n",
       "  grid-template-columns: 150px auto auto 1fr 20px 20px;\n",
       "}\n",
       "\n",
       ".xr-section-item {\n",
       "  display: contents;\n",
       "}\n",
       "\n",
       ".xr-section-item input {\n",
       "  display: none;\n",
       "}\n",
       "\n",
       ".xr-section-item input + label {\n",
       "  color: var(--xr-disabled-color);\n",
       "}\n",
       "\n",
       ".xr-section-item input:enabled + label {\n",
       "  cursor: pointer;\n",
       "  color: var(--xr-font-color2);\n",
       "}\n",
       "\n",
       ".xr-section-item input:enabled + label:hover {\n",
       "  color: var(--xr-font-color0);\n",
       "}\n",
       "\n",
       ".xr-section-summary {\n",
       "  grid-column: 1;\n",
       "  color: var(--xr-font-color2);\n",
       "  font-weight: 500;\n",
       "}\n",
       "\n",
       ".xr-section-summary > span {\n",
       "  display: inline-block;\n",
       "  padding-left: 0.5em;\n",
       "}\n",
       "\n",
       ".xr-section-summary-in:disabled + label {\n",
       "  color: var(--xr-font-color2);\n",
       "}\n",
       "\n",
       ".xr-section-summary-in + label:before {\n",
       "  display: inline-block;\n",
       "  content: '►';\n",
       "  font-size: 11px;\n",
       "  width: 15px;\n",
       "  text-align: center;\n",
       "}\n",
       "\n",
       ".xr-section-summary-in:disabled + label:before {\n",
       "  color: var(--xr-disabled-color);\n",
       "}\n",
       "\n",
       ".xr-section-summary-in:checked + label:before {\n",
       "  content: '▼';\n",
       "}\n",
       "\n",
       ".xr-section-summary-in:checked + label > span {\n",
       "  display: none;\n",
       "}\n",
       "\n",
       ".xr-section-summary,\n",
       ".xr-section-inline-details {\n",
       "  padding-top: 4px;\n",
       "  padding-bottom: 4px;\n",
       "}\n",
       "\n",
       ".xr-section-inline-details {\n",
       "  grid-column: 2 / -1;\n",
       "}\n",
       "\n",
       ".xr-section-details {\n",
       "  display: none;\n",
       "  grid-column: 1 / -1;\n",
       "  margin-bottom: 5px;\n",
       "}\n",
       "\n",
       ".xr-section-summary-in:checked ~ .xr-section-details {\n",
       "  display: contents;\n",
       "}\n",
       "\n",
       ".xr-array-wrap {\n",
       "  grid-column: 1 / -1;\n",
       "  display: grid;\n",
       "  grid-template-columns: 20px auto;\n",
       "}\n",
       "\n",
       ".xr-array-wrap > label {\n",
       "  grid-column: 1;\n",
       "  vertical-align: top;\n",
       "}\n",
       "\n",
       ".xr-preview {\n",
       "  color: var(--xr-font-color3);\n",
       "}\n",
       "\n",
       ".xr-array-preview,\n",
       ".xr-array-data {\n",
       "  padding: 0 5px !important;\n",
       "  grid-column: 2;\n",
       "}\n",
       "\n",
       ".xr-array-data,\n",
       ".xr-array-in:checked ~ .xr-array-preview {\n",
       "  display: none;\n",
       "}\n",
       "\n",
       ".xr-array-in:checked ~ .xr-array-data,\n",
       ".xr-array-preview {\n",
       "  display: inline-block;\n",
       "}\n",
       "\n",
       ".xr-dim-list {\n",
       "  display: inline-block !important;\n",
       "  list-style: none;\n",
       "  padding: 0 !important;\n",
       "  margin: 0;\n",
       "}\n",
       "\n",
       ".xr-dim-list li {\n",
       "  display: inline-block;\n",
       "  padding: 0;\n",
       "  margin: 0;\n",
       "}\n",
       "\n",
       ".xr-dim-list:before {\n",
       "  content: '(';\n",
       "}\n",
       "\n",
       ".xr-dim-list:after {\n",
       "  content: ')';\n",
       "}\n",
       "\n",
       ".xr-dim-list li:not(:last-child):after {\n",
       "  content: ',';\n",
       "  padding-right: 5px;\n",
       "}\n",
       "\n",
       ".xr-has-index {\n",
       "  font-weight: bold;\n",
       "}\n",
       "\n",
       ".xr-var-list,\n",
       ".xr-var-item {\n",
       "  display: contents;\n",
       "}\n",
       "\n",
       ".xr-var-item > div,\n",
       ".xr-var-item label,\n",
       ".xr-var-item > .xr-var-name span {\n",
       "  background-color: var(--xr-background-color-row-even);\n",
       "  margin-bottom: 0;\n",
       "}\n",
       "\n",
       ".xr-var-item > .xr-var-name:hover span {\n",
       "  padding-right: 5px;\n",
       "}\n",
       "\n",
       ".xr-var-list > li:nth-child(odd) > div,\n",
       ".xr-var-list > li:nth-child(odd) > label,\n",
       ".xr-var-list > li:nth-child(odd) > .xr-var-name span {\n",
       "  background-color: var(--xr-background-color-row-odd);\n",
       "}\n",
       "\n",
       ".xr-var-name {\n",
       "  grid-column: 1;\n",
       "}\n",
       "\n",
       ".xr-var-dims {\n",
       "  grid-column: 2;\n",
       "}\n",
       "\n",
       ".xr-var-dtype {\n",
       "  grid-column: 3;\n",
       "  text-align: right;\n",
       "  color: var(--xr-font-color2);\n",
       "}\n",
       "\n",
       ".xr-var-preview {\n",
       "  grid-column: 4;\n",
       "}\n",
       "\n",
       ".xr-var-name,\n",
       ".xr-var-dims,\n",
       ".xr-var-dtype,\n",
       ".xr-preview,\n",
       ".xr-attrs dt {\n",
       "  white-space: nowrap;\n",
       "  overflow: hidden;\n",
       "  text-overflow: ellipsis;\n",
       "  padding-right: 10px;\n",
       "}\n",
       "\n",
       ".xr-var-name:hover,\n",
       ".xr-var-dims:hover,\n",
       ".xr-var-dtype:hover,\n",
       ".xr-attrs dt:hover {\n",
       "  overflow: visible;\n",
       "  width: auto;\n",
       "  z-index: 1;\n",
       "}\n",
       "\n",
       ".xr-var-attrs,\n",
       ".xr-var-data {\n",
       "  display: none;\n",
       "  background-color: var(--xr-background-color) !important;\n",
       "  padding-bottom: 5px !important;\n",
       "}\n",
       "\n",
       ".xr-var-attrs-in:checked ~ .xr-var-attrs,\n",
       ".xr-var-data-in:checked ~ .xr-var-data {\n",
       "  display: block;\n",
       "}\n",
       "\n",
       ".xr-var-data > table {\n",
       "  float: right;\n",
       "}\n",
       "\n",
       ".xr-var-name span,\n",
       ".xr-var-data,\n",
       ".xr-attrs {\n",
       "  padding-left: 25px !important;\n",
       "}\n",
       "\n",
       ".xr-attrs,\n",
       ".xr-var-attrs,\n",
       ".xr-var-data {\n",
       "  grid-column: 1 / -1;\n",
       "}\n",
       "\n",
       "dl.xr-attrs {\n",
       "  padding: 0;\n",
       "  margin: 0;\n",
       "  display: grid;\n",
       "  grid-template-columns: 125px auto;\n",
       "}\n",
       "\n",
       ".xr-attrs dt, dd {\n",
       "  padding: 0;\n",
       "  margin: 0;\n",
       "  float: left;\n",
       "  padding-right: 10px;\n",
       "  width: auto;\n",
       "}\n",
       "\n",
       ".xr-attrs dt {\n",
       "  font-weight: normal;\n",
       "  grid-column: 1;\n",
       "}\n",
       "\n",
       ".xr-attrs dt:hover span {\n",
       "  display: inline-block;\n",
       "  background: var(--xr-background-color);\n",
       "  padding-right: 10px;\n",
       "}\n",
       "\n",
       ".xr-attrs dd {\n",
       "  grid-column: 2;\n",
       "  white-space: pre-wrap;\n",
       "  word-break: break-all;\n",
       "}\n",
       "\n",
       ".xr-icon-database,\n",
       ".xr-icon-file-text2 {\n",
       "  display: inline-block;\n",
       "  vertical-align: middle;\n",
       "  width: 1em;\n",
       "  height: 1.5em !important;\n",
       "  stroke-width: 0;\n",
       "  stroke: currentColor;\n",
       "  fill: currentColor;\n",
       "}\n",
       "</style><pre class='xr-text-repr-fallback'>&lt;xarray.DataArray (mom_1: 7, val: 5)&gt;\n",
       "array([[0.50041065, 0.49899555, 0.50038186, 0.49912602, 0.50115189],\n",
       "       [0.25009013, 0.24913469, 0.25014455, 0.2493188 , 0.25043612],\n",
       "       [0.16679052, 0.16610542, 0.1668418 , 0.16617908, 0.16705   ],\n",
       "       [0.1251341 , 0.12463769, 0.1251815 , 0.12467509, 0.12534457],\n",
       "       [0.10011993, 0.0997598 , 0.10017438, 0.0997978 , 0.10030181],\n",
       "       [0.08343107, 0.08317153, 0.08349794, 0.08322209, 0.08359674],\n",
       "       [0.07150348, 0.07131927, 0.07158309, 0.07138435, 0.0716602 ]])\n",
       "Dimensions without coordinates: mom_1, val</pre><div class='xr-wrap' hidden><div class='xr-header'><div class='xr-obj-type'>xarray.DataArray</div><div class='xr-array-name'></div><ul class='xr-dim-list'><li><span>mom_1</span>: 7</li><li><span>val</span>: 5</li></ul></div><ul class='xr-sections'><li class='xr-section-item'><div class='xr-array-wrap'><input id='section-14ae92d6-3094-4b15-9fbc-17cde499127d' class='xr-array-in' type='checkbox' checked><label for='section-14ae92d6-3094-4b15-9fbc-17cde499127d' title='Show/hide data repr'><svg class='icon xr-icon-database'><use xlink:href='#icon-database'></use></svg></label><div class='xr-array-preview xr-preview'><span>0.5004 0.499 0.5004 0.4991 0.5012 ... 0.07132 0.07158 0.07138 0.07166</span></div><div class='xr-array-data'><pre>array([[0.50041065, 0.49899555, 0.50038186, 0.49912602, 0.50115189],\n",
       "       [0.25009013, 0.24913469, 0.25014455, 0.2493188 , 0.25043612],\n",
       "       [0.16679052, 0.16610542, 0.1668418 , 0.16617908, 0.16705   ],\n",
       "       [0.1251341 , 0.12463769, 0.1251815 , 0.12467509, 0.12534457],\n",
       "       [0.10011993, 0.0997598 , 0.10017438, 0.0997978 , 0.10030181],\n",
       "       [0.08343107, 0.08317153, 0.08349794, 0.08322209, 0.08359674],\n",
       "       [0.07150348, 0.07131927, 0.07158309, 0.07138435, 0.0716602 ]])</pre></div></div></li><li class='xr-section-item'><input id='section-57c70b4c-fc8f-4665-a795-4a95e6566bb1' class='xr-section-summary-in' type='checkbox' disabled ><label for='section-57c70b4c-fc8f-4665-a795-4a95e6566bb1' class='xr-section-summary'  title='Expand/collapse section'>Coordinates: <span>(0)</span></label><div class='xr-section-inline-details'></div><div class='xr-section-details'><ul class='xr-var-list'></ul></div></li><li class='xr-section-item'><input id='section-ccad6293-c394-4a60-8413-9aa22bcd1365' class='xr-section-summary-in' type='checkbox' disabled ><label for='section-ccad6293-c394-4a60-8413-9aa22bcd1365' class='xr-section-summary'  title='Expand/collapse section'>Attributes: <span>(0)</span></label><div class='xr-section-inline-details'></div><div class='xr-section-details'><dl class='xr-attrs'></dl></div></li></ul></div></div>"
      ],
      "text/plain": [
       "<xarray.DataArray (mom_1: 7, val: 5)>\n",
       "array([[0.50041065, 0.49899555, 0.50038186, 0.49912602, 0.50115189],\n",
       "       [0.25009013, 0.24913469, 0.25014455, 0.2493188 , 0.25043612],\n",
       "       [0.16679052, 0.16610542, 0.1668418 , 0.16617908, 0.16705   ],\n",
       "       [0.1251341 , 0.12463769, 0.1251815 , 0.12467509, 0.12534457],\n",
       "       [0.10011993, 0.0997598 , 0.10017438, 0.0997978 , 0.10030181],\n",
       "       [0.08343107, 0.08317153, 0.08349794, 0.08322209, 0.08359674],\n",
       "       [0.07150348, 0.07131927, 0.07158309, 0.07138435, 0.0716602 ]])\n",
       "Dimensions without coordinates: mom_1, val"
      ]
     },
     "execution_count": 52,
     "metadata": {},
     "output_type": "execute_result"
    }
   ],
   "source": [
    "ave_xu.to_raw().sel(mom_0=1).transpose()"
   ]
  },
  {
   "cell_type": "code",
   "execution_count": 51,
   "metadata": {},
   "outputs": [
    {
     "data": {
      "text/html": [
       "<div><svg style=\"position: absolute; width: 0; height: 0; overflow: hidden\">\n",
       "<defs>\n",
       "<symbol id=\"icon-database\" viewBox=\"0 0 32 32\">\n",
       "<path d=\"M16 0c-8.837 0-16 2.239-16 5v4c0 2.761 7.163 5 16 5s16-2.239 16-5v-4c0-2.761-7.163-5-16-5z\"></path>\n",
       "<path d=\"M16 17c-8.837 0-16-2.239-16-5v6c0 2.761 7.163 5 16 5s16-2.239 16-5v-6c0 2.761-7.163 5-16 5z\"></path>\n",
       "<path d=\"M16 26c-8.837 0-16-2.239-16-5v6c0 2.761 7.163 5 16 5s16-2.239 16-5v-6c0 2.761-7.163 5-16 5z\"></path>\n",
       "</symbol>\n",
       "<symbol id=\"icon-file-text2\" viewBox=\"0 0 32 32\">\n",
       "<path d=\"M28.681 7.159c-0.694-0.947-1.662-2.053-2.724-3.116s-2.169-2.030-3.116-2.724c-1.612-1.182-2.393-1.319-2.841-1.319h-15.5c-1.378 0-2.5 1.121-2.5 2.5v27c0 1.378 1.122 2.5 2.5 2.5h23c1.378 0 2.5-1.122 2.5-2.5v-19.5c0-0.448-0.137-1.23-1.319-2.841zM24.543 5.457c0.959 0.959 1.712 1.825 2.268 2.543h-4.811v-4.811c0.718 0.556 1.584 1.309 2.543 2.268zM28 29.5c0 0.271-0.229 0.5-0.5 0.5h-23c-0.271 0-0.5-0.229-0.5-0.5v-27c0-0.271 0.229-0.5 0.5-0.5 0 0 15.499-0 15.5 0v7c0 0.552 0.448 1 1 1h7v19.5z\"></path>\n",
       "<path d=\"M23 26h-14c-0.552 0-1-0.448-1-1s0.448-1 1-1h14c0.552 0 1 0.448 1 1s-0.448 1-1 1z\"></path>\n",
       "<path d=\"M23 22h-14c-0.552 0-1-0.448-1-1s0.448-1 1-1h14c0.552 0 1 0.448 1 1s-0.448 1-1 1z\"></path>\n",
       "<path d=\"M23 18h-14c-0.552 0-1-0.448-1-1s0.448-1 1-1h14c0.552 0 1 0.448 1 1s-0.448 1-1 1z\"></path>\n",
       "</symbol>\n",
       "</defs>\n",
       "</svg>\n",
       "<style>/* CSS stylesheet for displaying xarray objects in jupyterlab.\n",
       " *\n",
       " */\n",
       "\n",
       ":root {\n",
       "  --xr-font-color0: var(--jp-content-font-color0, rgba(0, 0, 0, 1));\n",
       "  --xr-font-color2: var(--jp-content-font-color2, rgba(0, 0, 0, 0.54));\n",
       "  --xr-font-color3: var(--jp-content-font-color3, rgba(0, 0, 0, 0.38));\n",
       "  --xr-border-color: var(--jp-border-color2, #e0e0e0);\n",
       "  --xr-disabled-color: var(--jp-layout-color3, #bdbdbd);\n",
       "  --xr-background-color: var(--jp-layout-color0, white);\n",
       "  --xr-background-color-row-even: var(--jp-layout-color1, white);\n",
       "  --xr-background-color-row-odd: var(--jp-layout-color2, #eeeeee);\n",
       "}\n",
       "\n",
       "html[theme=dark],\n",
       "body.vscode-dark {\n",
       "  --xr-font-color0: rgba(255, 255, 255, 1);\n",
       "  --xr-font-color2: rgba(255, 255, 255, 0.54);\n",
       "  --xr-font-color3: rgba(255, 255, 255, 0.38);\n",
       "  --xr-border-color: #1F1F1F;\n",
       "  --xr-disabled-color: #515151;\n",
       "  --xr-background-color: #111111;\n",
       "  --xr-background-color-row-even: #111111;\n",
       "  --xr-background-color-row-odd: #313131;\n",
       "}\n",
       "\n",
       ".xr-wrap {\n",
       "  display: block;\n",
       "  min-width: 300px;\n",
       "  max-width: 700px;\n",
       "}\n",
       "\n",
       ".xr-text-repr-fallback {\n",
       "  /* fallback to plain text repr when CSS is not injected (untrusted notebook) */\n",
       "  display: none;\n",
       "}\n",
       "\n",
       ".xr-header {\n",
       "  padding-top: 6px;\n",
       "  padding-bottom: 6px;\n",
       "  margin-bottom: 4px;\n",
       "  border-bottom: solid 1px var(--xr-border-color);\n",
       "}\n",
       "\n",
       ".xr-header > div,\n",
       ".xr-header > ul {\n",
       "  display: inline;\n",
       "  margin-top: 0;\n",
       "  margin-bottom: 0;\n",
       "}\n",
       "\n",
       ".xr-obj-type,\n",
       ".xr-array-name {\n",
       "  margin-left: 2px;\n",
       "  margin-right: 10px;\n",
       "}\n",
       "\n",
       ".xr-obj-type {\n",
       "  color: var(--xr-font-color2);\n",
       "}\n",
       "\n",
       ".xr-sections {\n",
       "  padding-left: 0 !important;\n",
       "  display: grid;\n",
       "  grid-template-columns: 150px auto auto 1fr 20px 20px;\n",
       "}\n",
       "\n",
       ".xr-section-item {\n",
       "  display: contents;\n",
       "}\n",
       "\n",
       ".xr-section-item input {\n",
       "  display: none;\n",
       "}\n",
       "\n",
       ".xr-section-item input + label {\n",
       "  color: var(--xr-disabled-color);\n",
       "}\n",
       "\n",
       ".xr-section-item input:enabled + label {\n",
       "  cursor: pointer;\n",
       "  color: var(--xr-font-color2);\n",
       "}\n",
       "\n",
       ".xr-section-item input:enabled + label:hover {\n",
       "  color: var(--xr-font-color0);\n",
       "}\n",
       "\n",
       ".xr-section-summary {\n",
       "  grid-column: 1;\n",
       "  color: var(--xr-font-color2);\n",
       "  font-weight: 500;\n",
       "}\n",
       "\n",
       ".xr-section-summary > span {\n",
       "  display: inline-block;\n",
       "  padding-left: 0.5em;\n",
       "}\n",
       "\n",
       ".xr-section-summary-in:disabled + label {\n",
       "  color: var(--xr-font-color2);\n",
       "}\n",
       "\n",
       ".xr-section-summary-in + label:before {\n",
       "  display: inline-block;\n",
       "  content: '►';\n",
       "  font-size: 11px;\n",
       "  width: 15px;\n",
       "  text-align: center;\n",
       "}\n",
       "\n",
       ".xr-section-summary-in:disabled + label:before {\n",
       "  color: var(--xr-disabled-color);\n",
       "}\n",
       "\n",
       ".xr-section-summary-in:checked + label:before {\n",
       "  content: '▼';\n",
       "}\n",
       "\n",
       ".xr-section-summary-in:checked + label > span {\n",
       "  display: none;\n",
       "}\n",
       "\n",
       ".xr-section-summary,\n",
       ".xr-section-inline-details {\n",
       "  padding-top: 4px;\n",
       "  padding-bottom: 4px;\n",
       "}\n",
       "\n",
       ".xr-section-inline-details {\n",
       "  grid-column: 2 / -1;\n",
       "}\n",
       "\n",
       ".xr-section-details {\n",
       "  display: none;\n",
       "  grid-column: 1 / -1;\n",
       "  margin-bottom: 5px;\n",
       "}\n",
       "\n",
       ".xr-section-summary-in:checked ~ .xr-section-details {\n",
       "  display: contents;\n",
       "}\n",
       "\n",
       ".xr-array-wrap {\n",
       "  grid-column: 1 / -1;\n",
       "  display: grid;\n",
       "  grid-template-columns: 20px auto;\n",
       "}\n",
       "\n",
       ".xr-array-wrap > label {\n",
       "  grid-column: 1;\n",
       "  vertical-align: top;\n",
       "}\n",
       "\n",
       ".xr-preview {\n",
       "  color: var(--xr-font-color3);\n",
       "}\n",
       "\n",
       ".xr-array-preview,\n",
       ".xr-array-data {\n",
       "  padding: 0 5px !important;\n",
       "  grid-column: 2;\n",
       "}\n",
       "\n",
       ".xr-array-data,\n",
       ".xr-array-in:checked ~ .xr-array-preview {\n",
       "  display: none;\n",
       "}\n",
       "\n",
       ".xr-array-in:checked ~ .xr-array-data,\n",
       ".xr-array-preview {\n",
       "  display: inline-block;\n",
       "}\n",
       "\n",
       ".xr-dim-list {\n",
       "  display: inline-block !important;\n",
       "  list-style: none;\n",
       "  padding: 0 !important;\n",
       "  margin: 0;\n",
       "}\n",
       "\n",
       ".xr-dim-list li {\n",
       "  display: inline-block;\n",
       "  padding: 0;\n",
       "  margin: 0;\n",
       "}\n",
       "\n",
       ".xr-dim-list:before {\n",
       "  content: '(';\n",
       "}\n",
       "\n",
       ".xr-dim-list:after {\n",
       "  content: ')';\n",
       "}\n",
       "\n",
       ".xr-dim-list li:not(:last-child):after {\n",
       "  content: ',';\n",
       "  padding-right: 5px;\n",
       "}\n",
       "\n",
       ".xr-has-index {\n",
       "  font-weight: bold;\n",
       "}\n",
       "\n",
       ".xr-var-list,\n",
       ".xr-var-item {\n",
       "  display: contents;\n",
       "}\n",
       "\n",
       ".xr-var-item > div,\n",
       ".xr-var-item label,\n",
       ".xr-var-item > .xr-var-name span {\n",
       "  background-color: var(--xr-background-color-row-even);\n",
       "  margin-bottom: 0;\n",
       "}\n",
       "\n",
       ".xr-var-item > .xr-var-name:hover span {\n",
       "  padding-right: 5px;\n",
       "}\n",
       "\n",
       ".xr-var-list > li:nth-child(odd) > div,\n",
       ".xr-var-list > li:nth-child(odd) > label,\n",
       ".xr-var-list > li:nth-child(odd) > .xr-var-name span {\n",
       "  background-color: var(--xr-background-color-row-odd);\n",
       "}\n",
       "\n",
       ".xr-var-name {\n",
       "  grid-column: 1;\n",
       "}\n",
       "\n",
       ".xr-var-dims {\n",
       "  grid-column: 2;\n",
       "}\n",
       "\n",
       ".xr-var-dtype {\n",
       "  grid-column: 3;\n",
       "  text-align: right;\n",
       "  color: var(--xr-font-color2);\n",
       "}\n",
       "\n",
       ".xr-var-preview {\n",
       "  grid-column: 4;\n",
       "}\n",
       "\n",
       ".xr-var-name,\n",
       ".xr-var-dims,\n",
       ".xr-var-dtype,\n",
       ".xr-preview,\n",
       ".xr-attrs dt {\n",
       "  white-space: nowrap;\n",
       "  overflow: hidden;\n",
       "  text-overflow: ellipsis;\n",
       "  padding-right: 10px;\n",
       "}\n",
       "\n",
       ".xr-var-name:hover,\n",
       ".xr-var-dims:hover,\n",
       ".xr-var-dtype:hover,\n",
       ".xr-attrs dt:hover {\n",
       "  overflow: visible;\n",
       "  width: auto;\n",
       "  z-index: 1;\n",
       "}\n",
       "\n",
       ".xr-var-attrs,\n",
       ".xr-var-data {\n",
       "  display: none;\n",
       "  background-color: var(--xr-background-color) !important;\n",
       "  padding-bottom: 5px !important;\n",
       "}\n",
       "\n",
       ".xr-var-attrs-in:checked ~ .xr-var-attrs,\n",
       ".xr-var-data-in:checked ~ .xr-var-data {\n",
       "  display: block;\n",
       "}\n",
       "\n",
       ".xr-var-data > table {\n",
       "  float: right;\n",
       "}\n",
       "\n",
       ".xr-var-name span,\n",
       ".xr-var-data,\n",
       ".xr-attrs {\n",
       "  padding-left: 25px !important;\n",
       "}\n",
       "\n",
       ".xr-attrs,\n",
       ".xr-var-attrs,\n",
       ".xr-var-data {\n",
       "  grid-column: 1 / -1;\n",
       "}\n",
       "\n",
       "dl.xr-attrs {\n",
       "  padding: 0;\n",
       "  margin: 0;\n",
       "  display: grid;\n",
       "  grid-template-columns: 125px auto;\n",
       "}\n",
       "\n",
       ".xr-attrs dt, dd {\n",
       "  padding: 0;\n",
       "  margin: 0;\n",
       "  float: left;\n",
       "  padding-right: 10px;\n",
       "  width: auto;\n",
       "}\n",
       "\n",
       ".xr-attrs dt {\n",
       "  font-weight: normal;\n",
       "  grid-column: 1;\n",
       "}\n",
       "\n",
       ".xr-attrs dt:hover span {\n",
       "  display: inline-block;\n",
       "  background: var(--xr-background-color);\n",
       "  padding-right: 10px;\n",
       "}\n",
       "\n",
       ".xr-attrs dd {\n",
       "  grid-column: 2;\n",
       "  white-space: pre-wrap;\n",
       "  word-break: break-all;\n",
       "}\n",
       "\n",
       ".xr-icon-database,\n",
       ".xr-icon-file-text2 {\n",
       "  display: inline-block;\n",
       "  vertical-align: middle;\n",
       "  width: 1em;\n",
       "  height: 1.5em !important;\n",
       "  stroke-width: 0;\n",
       "  stroke: currentColor;\n",
       "  fill: currentColor;\n",
       "}\n",
       "</style><pre class='xr-text-repr-fallback'>&lt;xarray.DataArray &#x27;x&#x27; (moment: 7, val: 5)&gt;\n",
       "array([[0.50041065, 0.49899555, 0.50038186, 0.49912602, 0.50115189],\n",
       "       [0.25009013, 0.24913469, 0.25014455, 0.2493188 , 0.25043612],\n",
       "       [0.16679052, 0.16610542, 0.1668418 , 0.16617908, 0.16705   ],\n",
       "       [0.1251341 , 0.12463769, 0.1251815 , 0.12467509, 0.12534457],\n",
       "       [0.10011993, 0.0997598 , 0.10017438, 0.0997978 , 0.10030181],\n",
       "       [0.08343107, 0.08317153, 0.08349794, 0.08322209, 0.08359674],\n",
       "       [0.07150348, 0.07131927, 0.07158309, 0.07138435, 0.0716602 ]])\n",
       "Dimensions without coordinates: moment, val</pre><div class='xr-wrap' hidden><div class='xr-header'><div class='xr-obj-type'>xarray.DataArray</div><div class='xr-array-name'>'x'</div><ul class='xr-dim-list'><li><span>moment</span>: 7</li><li><span>val</span>: 5</li></ul></div><ul class='xr-sections'><li class='xr-section-item'><div class='xr-array-wrap'><input id='section-9f8c0309-d5f2-4dcb-a5ff-c323fdcc104d' class='xr-array-in' type='checkbox' checked><label for='section-9f8c0309-d5f2-4dcb-a5ff-c323fdcc104d' title='Show/hide data repr'><svg class='icon xr-icon-database'><use xlink:href='#icon-database'></use></svg></label><div class='xr-array-preview xr-preview'><span>0.5004 0.499 0.5004 0.4991 0.5012 ... 0.07132 0.07158 0.07138 0.07166</span></div><div class='xr-array-data'><pre>array([[0.50041065, 0.49899555, 0.50038186, 0.49912602, 0.50115189],\n",
       "       [0.25009013, 0.24913469, 0.25014455, 0.2493188 , 0.25043612],\n",
       "       [0.16679052, 0.16610542, 0.1668418 , 0.16617908, 0.16705   ],\n",
       "       [0.1251341 , 0.12463769, 0.1251815 , 0.12467509, 0.12534457],\n",
       "       [0.10011993, 0.0997598 , 0.10017438, 0.0997978 , 0.10030181],\n",
       "       [0.08343107, 0.08317153, 0.08349794, 0.08322209, 0.08359674],\n",
       "       [0.07150348, 0.07131927, 0.07158309, 0.07138435, 0.0716602 ]])</pre></div></div></li><li class='xr-section-item'><input id='section-237fe6a4-4407-4807-b4e2-d6133004d4ac' class='xr-section-summary-in' type='checkbox' disabled ><label for='section-237fe6a4-4407-4807-b4e2-d6133004d4ac' class='xr-section-summary'  title='Expand/collapse section'>Coordinates: <span>(0)</span></label><div class='xr-section-inline-details'></div><div class='xr-section-details'><ul class='xr-var-list'></ul></div></li><li class='xr-section-item'><input id='section-a6c15052-0e09-4e33-b03b-3f8943c32b7d' class='xr-section-summary-in' type='checkbox' disabled ><label for='section-a6c15052-0e09-4e33-b03b-3f8943c32b7d' class='xr-section-summary'  title='Expand/collapse section'>Attributes: <span>(0)</span></label><div class='xr-section-inline-details'></div><div class='xr-section-details'><dl class='xr-attrs'></dl></div></li></ul></div></div>"
      ],
      "text/plain": [
       "<xarray.DataArray 'x' (moment: 7, val: 5)>\n",
       "array([[0.50041065, 0.49899555, 0.50038186, 0.49912602, 0.50115189],\n",
       "       [0.25009013, 0.24913469, 0.25014455, 0.2493188 , 0.25043612],\n",
       "       [0.16679052, 0.16610542, 0.1668418 , 0.16617908, 0.16705   ],\n",
       "       [0.1251341 , 0.12463769, 0.1251815 , 0.12467509, 0.12534457],\n",
       "       [0.10011993, 0.0997598 , 0.10017438, 0.0997978 , 0.10030181],\n",
       "       [0.08343107, 0.08317153, 0.08349794, 0.08322209, 0.08359674],\n",
       "       [0.07150348, 0.07131927, 0.07158309, 0.07138435, 0.0716602 ]])\n",
       "Dimensions without coordinates: moment, val"
      ]
     },
     "execution_count": 51,
     "metadata": {},
     "output_type": "execute_result"
    }
   ],
   "source": [
    "data.xu"
   ]
  },
  {
   "cell_type": "code",
   "execution_count": 23,
   "metadata": {},
   "outputs": [],
   "source": [
    "out = xcentral.xStatsAccumCov.from_vals(x, u, broadcast=True, moments=(order, 1), dims=['val'])"
   ]
  },
  {
   "cell_type": "code",
   "execution_count": 29,
   "metadata": {},
   "outputs": [
    {
     "data": {
      "text/html": [
       "<div><svg style=\"position: absolute; width: 0; height: 0; overflow: hidden\">\n",
       "<defs>\n",
       "<symbol id=\"icon-database\" viewBox=\"0 0 32 32\">\n",
       "<path d=\"M16 0c-8.837 0-16 2.239-16 5v4c0 2.761 7.163 5 16 5s16-2.239 16-5v-4c0-2.761-7.163-5-16-5z\"></path>\n",
       "<path d=\"M16 17c-8.837 0-16-2.239-16-5v6c0 2.761 7.163 5 16 5s16-2.239 16-5v-6c0 2.761-7.163 5-16 5z\"></path>\n",
       "<path d=\"M16 26c-8.837 0-16-2.239-16-5v6c0 2.761 7.163 5 16 5s16-2.239 16-5v-6c0 2.761-7.163 5-16 5z\"></path>\n",
       "</symbol>\n",
       "<symbol id=\"icon-file-text2\" viewBox=\"0 0 32 32\">\n",
       "<path d=\"M28.681 7.159c-0.694-0.947-1.662-2.053-2.724-3.116s-2.169-2.030-3.116-2.724c-1.612-1.182-2.393-1.319-2.841-1.319h-15.5c-1.378 0-2.5 1.121-2.5 2.5v27c0 1.378 1.122 2.5 2.5 2.5h23c1.378 0 2.5-1.122 2.5-2.5v-19.5c0-0.448-0.137-1.23-1.319-2.841zM24.543 5.457c0.959 0.959 1.712 1.825 2.268 2.543h-4.811v-4.811c0.718 0.556 1.584 1.309 2.543 2.268zM28 29.5c0 0.271-0.229 0.5-0.5 0.5h-23c-0.271 0-0.5-0.229-0.5-0.5v-27c0-0.271 0.229-0.5 0.5-0.5 0 0 15.499-0 15.5 0v7c0 0.552 0.448 1 1 1h7v19.5z\"></path>\n",
       "<path d=\"M23 26h-14c-0.552 0-1-0.448-1-1s0.448-1 1-1h14c0.552 0 1 0.448 1 1s-0.448 1-1 1z\"></path>\n",
       "<path d=\"M23 22h-14c-0.552 0-1-0.448-1-1s0.448-1 1-1h14c0.552 0 1 0.448 1 1s-0.448 1-1 1z\"></path>\n",
       "<path d=\"M23 18h-14c-0.552 0-1-0.448-1-1s0.448-1 1-1h14c0.552 0 1 0.448 1 1s-0.448 1-1 1z\"></path>\n",
       "</symbol>\n",
       "</defs>\n",
       "</svg>\n",
       "<style>/* CSS stylesheet for displaying xarray objects in jupyterlab.\n",
       " *\n",
       " */\n",
       "\n",
       ":root {\n",
       "  --xr-font-color0: var(--jp-content-font-color0, rgba(0, 0, 0, 1));\n",
       "  --xr-font-color2: var(--jp-content-font-color2, rgba(0, 0, 0, 0.54));\n",
       "  --xr-font-color3: var(--jp-content-font-color3, rgba(0, 0, 0, 0.38));\n",
       "  --xr-border-color: var(--jp-border-color2, #e0e0e0);\n",
       "  --xr-disabled-color: var(--jp-layout-color3, #bdbdbd);\n",
       "  --xr-background-color: var(--jp-layout-color0, white);\n",
       "  --xr-background-color-row-even: var(--jp-layout-color1, white);\n",
       "  --xr-background-color-row-odd: var(--jp-layout-color2, #eeeeee);\n",
       "}\n",
       "\n",
       "html[theme=dark],\n",
       "body.vscode-dark {\n",
       "  --xr-font-color0: rgba(255, 255, 255, 1);\n",
       "  --xr-font-color2: rgba(255, 255, 255, 0.54);\n",
       "  --xr-font-color3: rgba(255, 255, 255, 0.38);\n",
       "  --xr-border-color: #1F1F1F;\n",
       "  --xr-disabled-color: #515151;\n",
       "  --xr-background-color: #111111;\n",
       "  --xr-background-color-row-even: #111111;\n",
       "  --xr-background-color-row-odd: #313131;\n",
       "}\n",
       "\n",
       ".xr-wrap {\n",
       "  display: block;\n",
       "  min-width: 300px;\n",
       "  max-width: 700px;\n",
       "}\n",
       "\n",
       ".xr-text-repr-fallback {\n",
       "  /* fallback to plain text repr when CSS is not injected (untrusted notebook) */\n",
       "  display: none;\n",
       "}\n",
       "\n",
       ".xr-header {\n",
       "  padding-top: 6px;\n",
       "  padding-bottom: 6px;\n",
       "  margin-bottom: 4px;\n",
       "  border-bottom: solid 1px var(--xr-border-color);\n",
       "}\n",
       "\n",
       ".xr-header > div,\n",
       ".xr-header > ul {\n",
       "  display: inline;\n",
       "  margin-top: 0;\n",
       "  margin-bottom: 0;\n",
       "}\n",
       "\n",
       ".xr-obj-type,\n",
       ".xr-array-name {\n",
       "  margin-left: 2px;\n",
       "  margin-right: 10px;\n",
       "}\n",
       "\n",
       ".xr-obj-type {\n",
       "  color: var(--xr-font-color2);\n",
       "}\n",
       "\n",
       ".xr-sections {\n",
       "  padding-left: 0 !important;\n",
       "  display: grid;\n",
       "  grid-template-columns: 150px auto auto 1fr 20px 20px;\n",
       "}\n",
       "\n",
       ".xr-section-item {\n",
       "  display: contents;\n",
       "}\n",
       "\n",
       ".xr-section-item input {\n",
       "  display: none;\n",
       "}\n",
       "\n",
       ".xr-section-item input + label {\n",
       "  color: var(--xr-disabled-color);\n",
       "}\n",
       "\n",
       ".xr-section-item input:enabled + label {\n",
       "  cursor: pointer;\n",
       "  color: var(--xr-font-color2);\n",
       "}\n",
       "\n",
       ".xr-section-item input:enabled + label:hover {\n",
       "  color: var(--xr-font-color0);\n",
       "}\n",
       "\n",
       ".xr-section-summary {\n",
       "  grid-column: 1;\n",
       "  color: var(--xr-font-color2);\n",
       "  font-weight: 500;\n",
       "}\n",
       "\n",
       ".xr-section-summary > span {\n",
       "  display: inline-block;\n",
       "  padding-left: 0.5em;\n",
       "}\n",
       "\n",
       ".xr-section-summary-in:disabled + label {\n",
       "  color: var(--xr-font-color2);\n",
       "}\n",
       "\n",
       ".xr-section-summary-in + label:before {\n",
       "  display: inline-block;\n",
       "  content: '►';\n",
       "  font-size: 11px;\n",
       "  width: 15px;\n",
       "  text-align: center;\n",
       "}\n",
       "\n",
       ".xr-section-summary-in:disabled + label:before {\n",
       "  color: var(--xr-disabled-color);\n",
       "}\n",
       "\n",
       ".xr-section-summary-in:checked + label:before {\n",
       "  content: '▼';\n",
       "}\n",
       "\n",
       ".xr-section-summary-in:checked + label > span {\n",
       "  display: none;\n",
       "}\n",
       "\n",
       ".xr-section-summary,\n",
       ".xr-section-inline-details {\n",
       "  padding-top: 4px;\n",
       "  padding-bottom: 4px;\n",
       "}\n",
       "\n",
       ".xr-section-inline-details {\n",
       "  grid-column: 2 / -1;\n",
       "}\n",
       "\n",
       ".xr-section-details {\n",
       "  display: none;\n",
       "  grid-column: 1 / -1;\n",
       "  margin-bottom: 5px;\n",
       "}\n",
       "\n",
       ".xr-section-summary-in:checked ~ .xr-section-details {\n",
       "  display: contents;\n",
       "}\n",
       "\n",
       ".xr-array-wrap {\n",
       "  grid-column: 1 / -1;\n",
       "  display: grid;\n",
       "  grid-template-columns: 20px auto;\n",
       "}\n",
       "\n",
       ".xr-array-wrap > label {\n",
       "  grid-column: 1;\n",
       "  vertical-align: top;\n",
       "}\n",
       "\n",
       ".xr-preview {\n",
       "  color: var(--xr-font-color3);\n",
       "}\n",
       "\n",
       ".xr-array-preview,\n",
       ".xr-array-data {\n",
       "  padding: 0 5px !important;\n",
       "  grid-column: 2;\n",
       "}\n",
       "\n",
       ".xr-array-data,\n",
       ".xr-array-in:checked ~ .xr-array-preview {\n",
       "  display: none;\n",
       "}\n",
       "\n",
       ".xr-array-in:checked ~ .xr-array-data,\n",
       ".xr-array-preview {\n",
       "  display: inline-block;\n",
       "}\n",
       "\n",
       ".xr-dim-list {\n",
       "  display: inline-block !important;\n",
       "  list-style: none;\n",
       "  padding: 0 !important;\n",
       "  margin: 0;\n",
       "}\n",
       "\n",
       ".xr-dim-list li {\n",
       "  display: inline-block;\n",
       "  padding: 0;\n",
       "  margin: 0;\n",
       "}\n",
       "\n",
       ".xr-dim-list:before {\n",
       "  content: '(';\n",
       "}\n",
       "\n",
       ".xr-dim-list:after {\n",
       "  content: ')';\n",
       "}\n",
       "\n",
       ".xr-dim-list li:not(:last-child):after {\n",
       "  content: ',';\n",
       "  padding-right: 5px;\n",
       "}\n",
       "\n",
       ".xr-has-index {\n",
       "  font-weight: bold;\n",
       "}\n",
       "\n",
       ".xr-var-list,\n",
       ".xr-var-item {\n",
       "  display: contents;\n",
       "}\n",
       "\n",
       ".xr-var-item > div,\n",
       ".xr-var-item label,\n",
       ".xr-var-item > .xr-var-name span {\n",
       "  background-color: var(--xr-background-color-row-even);\n",
       "  margin-bottom: 0;\n",
       "}\n",
       "\n",
       ".xr-var-item > .xr-var-name:hover span {\n",
       "  padding-right: 5px;\n",
       "}\n",
       "\n",
       ".xr-var-list > li:nth-child(odd) > div,\n",
       ".xr-var-list > li:nth-child(odd) > label,\n",
       ".xr-var-list > li:nth-child(odd) > .xr-var-name span {\n",
       "  background-color: var(--xr-background-color-row-odd);\n",
       "}\n",
       "\n",
       ".xr-var-name {\n",
       "  grid-column: 1;\n",
       "}\n",
       "\n",
       ".xr-var-dims {\n",
       "  grid-column: 2;\n",
       "}\n",
       "\n",
       ".xr-var-dtype {\n",
       "  grid-column: 3;\n",
       "  text-align: right;\n",
       "  color: var(--xr-font-color2);\n",
       "}\n",
       "\n",
       ".xr-var-preview {\n",
       "  grid-column: 4;\n",
       "}\n",
       "\n",
       ".xr-var-name,\n",
       ".xr-var-dims,\n",
       ".xr-var-dtype,\n",
       ".xr-preview,\n",
       ".xr-attrs dt {\n",
       "  white-space: nowrap;\n",
       "  overflow: hidden;\n",
       "  text-overflow: ellipsis;\n",
       "  padding-right: 10px;\n",
       "}\n",
       "\n",
       ".xr-var-name:hover,\n",
       ".xr-var-dims:hover,\n",
       ".xr-var-dtype:hover,\n",
       ".xr-attrs dt:hover {\n",
       "  overflow: visible;\n",
       "  width: auto;\n",
       "  z-index: 1;\n",
       "}\n",
       "\n",
       ".xr-var-attrs,\n",
       ".xr-var-data {\n",
       "  display: none;\n",
       "  background-color: var(--xr-background-color) !important;\n",
       "  padding-bottom: 5px !important;\n",
       "}\n",
       "\n",
       ".xr-var-attrs-in:checked ~ .xr-var-attrs,\n",
       ".xr-var-data-in:checked ~ .xr-var-data {\n",
       "  display: block;\n",
       "}\n",
       "\n",
       ".xr-var-data > table {\n",
       "  float: right;\n",
       "}\n",
       "\n",
       ".xr-var-name span,\n",
       ".xr-var-data,\n",
       ".xr-attrs {\n",
       "  padding-left: 25px !important;\n",
       "}\n",
       "\n",
       ".xr-attrs,\n",
       ".xr-var-attrs,\n",
       ".xr-var-data {\n",
       "  grid-column: 1 / -1;\n",
       "}\n",
       "\n",
       "dl.xr-attrs {\n",
       "  padding: 0;\n",
       "  margin: 0;\n",
       "  display: grid;\n",
       "  grid-template-columns: 125px auto;\n",
       "}\n",
       "\n",
       ".xr-attrs dt, dd {\n",
       "  padding: 0;\n",
       "  margin: 0;\n",
       "  float: left;\n",
       "  padding-right: 10px;\n",
       "  width: auto;\n",
       "}\n",
       "\n",
       ".xr-attrs dt {\n",
       "  font-weight: normal;\n",
       "  grid-column: 1;\n",
       "}\n",
       "\n",
       ".xr-attrs dt:hover span {\n",
       "  display: inline-block;\n",
       "  background: var(--xr-background-color);\n",
       "  padding-right: 10px;\n",
       "}\n",
       "\n",
       ".xr-attrs dd {\n",
       "  grid-column: 2;\n",
       "  white-space: pre-wrap;\n",
       "  word-break: break-all;\n",
       "}\n",
       "\n",
       ".xr-icon-database,\n",
       ".xr-icon-file-text2 {\n",
       "  display: inline-block;\n",
       "  vertical-align: middle;\n",
       "  width: 1em;\n",
       "  height: 1.5em !important;\n",
       "  stroke-width: 0;\n",
       "  stroke: currentColor;\n",
       "  fill: currentColor;\n",
       "}\n",
       "</style><pre class='xr-text-repr-fallback'>&lt;xarray.DataArray (val: 5, mom_1: 2)&gt;\n",
       "array([[1.00000000e+05, 4.99500033e-01],\n",
       "       [1.00000000e+05, 4.99500033e-01],\n",
       "       [1.00000000e+05, 4.99500033e-01],\n",
       "       [1.00000000e+05, 4.99500033e-01],\n",
       "       [1.00000000e+05, 4.99500033e-01]])\n",
       "Dimensions without coordinates: val, mom_1</pre><div class='xr-wrap' hidden><div class='xr-header'><div class='xr-obj-type'>xarray.DataArray</div><div class='xr-array-name'></div><ul class='xr-dim-list'><li><span>val</span>: 5</li><li><span>mom_1</span>: 2</li></ul></div><ul class='xr-sections'><li class='xr-section-item'><div class='xr-array-wrap'><input id='section-7b7095a3-e3cb-42fd-92e4-ff799840bee5' class='xr-array-in' type='checkbox' checked><label for='section-7b7095a3-e3cb-42fd-92e4-ff799840bee5' title='Show/hide data repr'><svg class='icon xr-icon-database'><use xlink:href='#icon-database'></use></svg></label><div class='xr-array-preview xr-preview'><span>1e+05 0.4995 1e+05 0.4995 1e+05 0.4995 1e+05 0.4995 1e+05 0.4995</span></div><div class='xr-array-data'><pre>array([[1.00000000e+05, 4.99500033e-01],\n",
       "       [1.00000000e+05, 4.99500033e-01],\n",
       "       [1.00000000e+05, 4.99500033e-01],\n",
       "       [1.00000000e+05, 4.99500033e-01],\n",
       "       [1.00000000e+05, 4.99500033e-01]])</pre></div></div></li><li class='xr-section-item'><input id='section-4ce4e73b-1126-4325-a79c-4f65e1b0e6cd' class='xr-section-summary-in' type='checkbox' disabled ><label for='section-4ce4e73b-1126-4325-a79c-4f65e1b0e6cd' class='xr-section-summary'  title='Expand/collapse section'>Coordinates: <span>(0)</span></label><div class='xr-section-inline-details'></div><div class='xr-section-details'><ul class='xr-var-list'></ul></div></li><li class='xr-section-item'><input id='section-c9848c5e-7c91-47c9-94f8-0300bf0a3a78' class='xr-section-summary-in' type='checkbox' disabled ><label for='section-c9848c5e-7c91-47c9-94f8-0300bf0a3a78' class='xr-section-summary'  title='Expand/collapse section'>Attributes: <span>(0)</span></label><div class='xr-section-inline-details'></div><div class='xr-section-details'><dl class='xr-attrs'></dl></div></li></ul></div></div>"
      ],
      "text/plain": [
       "<xarray.DataArray (val: 5, mom_1: 2)>\n",
       "array([[1.00000000e+05, 4.99500033e-01],\n",
       "       [1.00000000e+05, 4.99500033e-01],\n",
       "       [1.00000000e+05, 4.99500033e-01],\n",
       "       [1.00000000e+05, 4.99500033e-01],\n",
       "       [1.00000000e+05, 4.99500033e-01]])\n",
       "Dimensions without coordinates: val, mom_1"
      ]
     },
     "execution_count": 29,
     "metadata": {},
     "output_type": "execute_result"
    }
   ],
   "source": [
    "out.values.sel(mom_0=0)"
   ]
  },
  {
   "cell_type": "code",
   "execution_count": 13,
   "metadata": {},
   "outputs": [
    {
     "name": "stdout",
     "output_type": "stream",
     "text": [
      "<xarray.DataArray 'u' (moment: 7)>\n",
      "array([0.00000000e+00, 0.00000000e+00, 0.00000000e+00, 0.00000000e+00,\n",
      "       5.55111512e-17, 2.77555756e-17, 0.00000000e+00])\n",
      "Dimensions without coordinates: moment\n",
      "<xarray.DataArray 'x' (moment: 7, val: 5)>\n",
      "array([[ 1.11022302e-15,  6.66133815e-16, -3.33066907e-16,\n",
      "         6.77236045e-15, -4.77395901e-15],\n",
      "       [-1.49880108e-15, -3.88578059e-16,  0.00000000e+00,\n",
      "        -5.55111512e-17, -1.27675648e-15],\n",
      "       [ 2.77555756e-17, -1.99840144e-15,  1.44328993e-15,\n",
      "         1.05471187e-15,  2.49800181e-16],\n",
      "       [ 4.71844785e-16,  9.43689571e-16,  1.44328993e-15,\n",
      "         1.80411242e-16, -7.21644966e-16],\n",
      "       [ 1.66533454e-15, -1.04083409e-15,  1.33226763e-15,\n",
      "        -7.63278329e-16,  1.98452366e-15],\n",
      "       [ 3.74700271e-16, -4.85722573e-16,  4.30211422e-16,\n",
      "        -1.20736754e-15, -2.77555756e-17],\n",
      "       [ 2.77555756e-16,  6.52256027e-16,  4.16333634e-17,\n",
      "         2.91433544e-16,  8.32667268e-16]])\n",
      "Dimensions without coordinates: moment, val\n"
     ]
    }
   ],
   "source": [
    "# Note very slight difference in averages.\n",
    "# this is due to numerics\n",
    "print(data.u - [ufunc(i) for i in range(order+1)])\n",
    "print(data.xu - [xufunc(i) for i in range(order+1)])"
   ]
  },
  {
   "cell_type": "markdown",
   "metadata": {},
   "source": [
    "## coefficients of expansion"
   ]
  },
  {
   "cell_type": "code",
   "execution_count": 14,
   "metadata": {},
   "outputs": [
    {
     "data": {
      "text/html": [
       "<pre>&lt;xarray.DataArray &#x27;x&#x27; (order: 7, val: 5)&gt;\n",
       "array([[ 5.00410649e-01,  4.98995550e-01,  5.00381858e-01,\n",
       "         4.99126019e-01,  5.01151890e-01],\n",
       "       [-1.34997699e-04,  1.13607821e-04, -2.03796624e-04,\n",
       "        -5.34078264e-06, -1.10735336e-04],\n",
       "       [-2.20835067e-06,  3.23344629e-05, -1.00746807e-05,\n",
       "        -5.62857597e-05,  3.46399234e-05],\n",
       "       [ 2.53920723e-05, -2.83855528e-05,  2.77531114e-05,\n",
       "        -4.71421307e-05,  3.10969286e-05],\n",
       "       [-5.30174199e-06, -1.05343641e-05,  6.58390419e-06,\n",
       "         2.21207532e-05, -9.60663726e-06],\n",
       "       [-1.30147200e-05,  1.45382620e-05, -1.37400869e-05,\n",
       "         2.72303311e-05, -1.71110507e-05],\n",
       "       [ 4.96909742e-06,  7.86225090e-06, -6.25406039e-06,\n",
       "        -1.76766305e-05,  7.29034558e-06]])\n",
       "Dimensions without coordinates: order, val</pre>"
      ],
      "text/plain": [
       "<xarray.DataArray 'x' (order: 7, val: 5)>\n",
       "array([[ 5.00410649e-01,  4.98995550e-01,  5.00381858e-01,\n",
       "         4.99126019e-01,  5.01151890e-01],\n",
       "       [-1.34997699e-04,  1.13607821e-04, -2.03796624e-04,\n",
       "        -5.34078264e-06, -1.10735336e-04],\n",
       "       [-2.20835067e-06,  3.23344629e-05, -1.00746807e-05,\n",
       "        -5.62857597e-05,  3.46399234e-05],\n",
       "       [ 2.53920723e-05, -2.83855528e-05,  2.77531114e-05,\n",
       "        -4.71421307e-05,  3.10969286e-05],\n",
       "       [-5.30174199e-06, -1.05343641e-05,  6.58390419e-06,\n",
       "         2.21207532e-05, -9.60663726e-06],\n",
       "       [-1.30147200e-05,  1.45382620e-05, -1.37400869e-05,\n",
       "         2.72303311e-05, -1.71110507e-05],\n",
       "       [ 4.96909742e-06,  7.86225090e-06, -6.25406039e-06,\n",
       "        -1.76766305e-05,  7.29034558e-06]])\n",
       "Dimensions without coordinates: order, val"
      ]
     },
     "execution_count": 14,
     "metadata": {},
     "output_type": "execute_result"
    }
   ],
   "source": [
    "# norm = True, include 1/ n!  factor\n",
    "# if want straight coeffs, use norm=False\n",
    "c = s.xcoefs(data, norm=False) \n",
    "c"
   ]
  },
  {
   "cell_type": "code",
   "execution_count": 15,
   "metadata": {},
   "outputs": [],
   "source": [
    "# test equal to old way\n",
    "np.testing.assert_allclose(c, coefs_list, rtol=1e-5)"
   ]
  },
  {
   "cell_type": "code",
   "execution_count": 17,
   "metadata": {},
   "outputs": [],
   "source": [
    "# instead, can use central moments\n",
    "s_c = xpan_beta.factory_coefs(central=True)"
   ]
  },
  {
   "cell_type": "code",
   "execution_count": 18,
   "metadata": {},
   "outputs": [
    {
     "data": {
      "text/html": [
       "<pre>&lt;xarray.DataArray &#x27;x&#x27; (order: 7, val: 5)&gt;\n",
       "array([[ 5.00410649e-01,  4.98995550e-01,  5.00381858e-01,\n",
       "         4.99126019e-01,  5.01151890e-01],\n",
       "       [-1.34997699e-04,  1.13607821e-04, -2.03796624e-04,\n",
       "        -5.34078264e-06, -1.10735336e-04],\n",
       "       [-2.20835067e-06,  3.23344629e-05, -1.00746807e-05,\n",
       "        -5.62857597e-05,  3.46399234e-05],\n",
       "       [ 2.53920723e-05, -2.83855528e-05,  2.77531114e-05,\n",
       "        -4.71421307e-05,  3.10969286e-05],\n",
       "       [-5.30174199e-06, -1.05343641e-05,  6.58390419e-06,\n",
       "         2.21207532e-05, -9.60663726e-06],\n",
       "       [-1.30147200e-05,  1.45382620e-05, -1.37400869e-05,\n",
       "         2.72303311e-05, -1.71110507e-05],\n",
       "       [ 4.96909742e-06,  7.86225090e-06, -6.25406039e-06,\n",
       "        -1.76766305e-05,  7.29034558e-06]])\n",
       "Dimensions without coordinates: order, val</pre>"
      ],
      "text/plain": [
       "<xarray.DataArray 'x' (order: 7, val: 5)>\n",
       "array([[ 5.00410649e-01,  4.98995550e-01,  5.00381858e-01,\n",
       "         4.99126019e-01,  5.01151890e-01],\n",
       "       [-1.34997699e-04,  1.13607821e-04, -2.03796624e-04,\n",
       "        -5.34078264e-06, -1.10735336e-04],\n",
       "       [-2.20835067e-06,  3.23344629e-05, -1.00746807e-05,\n",
       "        -5.62857597e-05,  3.46399234e-05],\n",
       "       [ 2.53920723e-05, -2.83855528e-05,  2.77531114e-05,\n",
       "        -4.71421307e-05,  3.10969286e-05],\n",
       "       [-5.30174199e-06, -1.05343641e-05,  6.58390419e-06,\n",
       "         2.21207532e-05, -9.60663726e-06],\n",
       "       [-1.30147200e-05,  1.45382620e-05, -1.37400869e-05,\n",
       "         2.72303311e-05, -1.71110507e-05],\n",
       "       [ 4.96909742e-06,  7.86225090e-06, -6.25406039e-06,\n",
       "        -1.76766305e-05,  7.29034558e-06]])\n",
       "Dimensions without coordinates: order, val"
      ]
     },
     "execution_count": 18,
     "metadata": {},
     "output_type": "execute_result"
    }
   ],
   "source": [
    "data_c = xpan_beta.factory_data(u, x, order=order, central=True)\n",
    "\n",
    "c_c = s_c.xcoefs(data_c, norm=False)\n",
    "c_c"
   ]
  },
  {
   "cell_type": "code",
   "execution_count": 19,
   "metadata": {},
   "outputs": [],
   "source": [
    "# test close\n",
    "np.testing.assert_allclose(s.xcoefs(data), s_c.xcoefs(data_c))"
   ]
  },
  {
   "cell_type": "markdown",
   "metadata": {},
   "source": [
    "\n",
    "# nice-ness of central moments"
   ]
  },
  {
   "cell_type": "code",
   "execution_count": 20,
   "metadata": {},
   "outputs": [
    {
     "name": "stdout",
     "output_type": "stream",
     "text": [
      "0: xu[0]\n",
      "1: u[1]*xu[0] - xu[1]\n",
      "2: 2*u[1]**2*xu[0] - 2*u[1]*xu[1] - u[2]*xu[0] + xu[2]\n",
      "3: 6*u[1]**3*xu[0] - 6*u[1]**2*xu[1] - 6*u[1]*u[2]*xu[0] + 3*u[1]*xu[2] + 3*u[2]*xu[1] + u[3]*xu[0] - xu[3]\n",
      "4: 24*u[1]**4*xu[0] - 24*u[1]**3*xu[1] - 36*u[1]**2*u[2]*xu[0] + 12*u[1]**2*xu[2] + 24*u[1]*u[2]*xu[1] + 8*u[1]*u[3]*xu[0] - 4*u[1]*xu[3] + 6*u[2]**2*xu[0] - 6*u[2]*xu[2] - 4*u[3]*xu[1] - u[4]*xu[0] + xu[4]\n",
      "5: 120*u[1]**5*xu[0] - 120*u[1]**4*xu[1] - 240*u[1]**3*u[2]*xu[0] + 60*u[1]**3*xu[2] + 180*u[1]**2*u[2]*xu[1] + 60*u[1]**2*u[3]*xu[0] - 20*u[1]**2*xu[3] + 90*u[1]*u[2]**2*xu[0] - 60*u[1]*u[2]*xu[2] - 40*u[1]*u[3]*xu[1] - 10*u[1]*u[4]*xu[0] + 5*u[1]*xu[4] - 30*u[2]**2*xu[1] - 20*u[2]*u[3]*xu[0] + 10*u[2]*xu[3] + 10*u[3]*xu[2] + 5*u[4]*xu[1] + u[5]*xu[0] - xu[5]\n",
      "6: 720*u[1]**6*xu[0] - 720*u[1]**5*xu[1] - 1800*u[1]**4*u[2]*xu[0] + 360*u[1]**4*xu[2] + 1440*u[1]**3*u[2]*xu[1] + 480*u[1]**3*u[3]*xu[0] - 120*u[1]**3*xu[3] + 1080*u[1]**2*u[2]**2*xu[0] - 540*u[1]**2*u[2]*xu[2] - 360*u[1]**2*u[3]*xu[1] - 90*u[1]**2*u[4]*xu[0] + 30*u[1]**2*xu[4] - 540*u[1]*u[2]**2*xu[1] - 360*u[1]*u[2]*u[3]*xu[0] + 120*u[1]*u[2]*xu[3] + 120*u[1]*u[3]*xu[2] + 60*u[1]*u[4]*xu[1] + 12*u[1]*u[5]*xu[0] - 6*u[1]*xu[5] - 90*u[2]**3*xu[0] + 90*u[2]**2*xu[2] + 120*u[2]*u[3]*xu[1] + 30*u[2]*u[4]*xu[0] - 15*u[2]*xu[4] + 20*u[3]**2*xu[0] - 20*u[3]*xu[3] - 15*u[4]*xu[2] - 6*u[5]*xu[1] - u[6]*xu[0] + xu[6]\n"
     ]
    }
   ],
   "source": [
    "# coeffs using raw moments u[i], xu[i]\n",
    "for i in range(order+1):\n",
    "    print('{}: {}'.format(i, s.exprs[i]))"
   ]
  },
  {
   "cell_type": "code",
   "execution_count": 21,
   "metadata": {},
   "outputs": [
    {
     "name": "stdout",
     "output_type": "stream",
     "text": [
      "0: x1\n",
      "1: -dxdu[1]\n",
      "2: dxdu[2]\n",
      "3: 3*du[2]*dxdu[1] - dxdu[3]\n",
      "4: -6*du[2]*dxdu[2] - 4*du[3]*dxdu[1] + dxdu[4]\n",
      "5: -30*du[2]**2*dxdu[1] + 10*du[2]*dxdu[3] + 10*du[3]*dxdu[2] + 5*du[4]*dxdu[1] - dxdu[5]\n",
      "6: 90*du[2]**2*dxdu[2] + 120*du[2]*du[3]*dxdu[1] - 15*du[2]*dxdu[4] - 20*du[3]*dxdu[3] - 15*du[4]*dxdu[2] - 6*du[5]*dxdu[1] + dxdu[6]\n"
     ]
    }
   ],
   "source": [
    "# coeffs using central moments du[i] = <(u-<u>)**i> \n",
    "for i in range(order+1):\n",
    "    print('{}: {}'.format(i, s_c.exprs[i]))"
   ]
  },
  {
   "cell_type": "code",
   "execution_count": 22,
   "metadata": {},
   "outputs": [],
   "source": [
    "# so not only are central moments more stable, the resulting expressions\n",
    "# are way simplier!"
   ]
  },
  {
   "cell_type": "markdown",
   "metadata": {},
   "source": [
    "# taking advantage of xarray"
   ]
  },
  {
   "cell_type": "code",
   "execution_count": 23,
   "metadata": {},
   "outputs": [
    {
     "name": "stdout",
     "output_type": "stream",
     "text": [
      "<xarray.Dataset>\n",
      "Dimensions:  (rec: 100000, val: 5)\n",
      "Dimensions without coordinates: rec, val\n",
      "Data variables:\n",
      "    a        (rec, val) float64 0.5353 0.904 0.5024 ... 0.7553 0.2138 0.7261\n",
      "    b        (rec, val) float64 0.6237 0.1782 0.2007 ... 0.08856 0.0782 0.4235\n"
     ]
    }
   ],
   "source": [
    "# make a dataset of two values:\n",
    "\n",
    "x_set = xr.merge((core.xrwrap_xv(xx, name=name) \n",
    "                  for xx, name in zip([x, xb], ['a','b'])))\n",
    "print(x_set)\n",
    "\n",
    "data_set = xpan_beta.factory_data(u, x_set, order)\n",
    "data_set_c = xpan_beta.factory_data(u, x_set, order, central=True)\n",
    "\n",
    "\n",
    "# need \"other\" x for comparison\n",
    "datab = xpan_beta.factory_data(u, xb, order)\n",
    "datab_c = xpan_beta.factory_data(u, xb, order, central=True)"
   ]
  },
  {
   "cell_type": "code",
   "execution_count": 24,
   "metadata": {},
   "outputs": [
    {
     "name": "stdout",
     "output_type": "stream",
     "text": [
      "<xarray.Dataset>\n",
      "Dimensions:  (rec: 100000, val: 5)\n",
      "Dimensions without coordinates: rec, val\n",
      "Data variables:\n",
      "    a        (rec, val) float64 0.5353 0.904 0.5024 ... 0.7553 0.2138 0.7261\n",
      "    b        (rec, val) float64 0.6237 0.1782 0.2007 ... 0.08856 0.0782 0.4235\n",
      "<xarray.Dataset>\n",
      "Dimensions:  (moment: 7, val: 5)\n",
      "Dimensions without coordinates: moment, val\n",
      "Data variables:\n",
      "    a        (moment, val) float64 0.5004 0.499 0.5004 ... 0.07138 0.07166\n",
      "    b        (moment, val) float64 0.5001 0.5015 0.5001 ... 0.07127 0.07149\n"
     ]
    }
   ],
   "source": [
    "# note that data_set has multiple measurements in it.  Very nice...\n",
    "print(data_set.xv)\n",
    "print(data_set.xu)"
   ]
  },
  {
   "cell_type": "code",
   "execution_count": 25,
   "metadata": {},
   "outputs": [],
   "source": [
    "ufuncb, xufuncb = thermoextrap.buildAvgFuncs(xb, u, order)\n",
    "coefs_listb = [fs[i](ufuncb, xufuncb) for i in range(order+1)]"
   ]
  },
  {
   "cell_type": "code",
   "execution_count": 26,
   "metadata": {},
   "outputs": [],
   "source": [
    "# make sure have same value\n",
    "np.testing.assert_allclose(s.xcoefs(datab,  norm=False), coefs_listb)"
   ]
  },
  {
   "cell_type": "code",
   "execution_count": 27,
   "metadata": {},
   "outputs": [
    {
     "data": {
      "text/html": [
       "<pre>&lt;xarray.Dataset&gt;\n",
       "Dimensions:  (order: 7, val: 5)\n",
       "Dimensions without coordinates: order, val\n",
       "Data variables:\n",
       "    a        (order, val) float64 0.5004 0.499 0.5004 ... -1.768e-05 7.29e-06\n",
       "    b        (order, val) float64 0.5001 0.5015 0.5001 ... -2.571e-06 1.063e-05</pre>"
      ],
      "text/plain": [
       "<xarray.Dataset>\n",
       "Dimensions:  (order: 7, val: 5)\n",
       "Dimensions without coordinates: order, val\n",
       "Data variables:\n",
       "    a        (order, val) float64 0.5004 0.499 0.5004 ... -1.768e-05 7.29e-06\n",
       "    b        (order, val) float64 0.5001 0.5015 0.5001 ... -2.571e-06 1.063e-05"
      ]
     },
     "execution_count": 27,
     "metadata": {},
     "output_type": "execute_result"
    }
   ],
   "source": [
    "# consider dataset\n",
    "c_set = s.xcoefs(data_set, norm=False)\n",
    "c_set"
   ]
  },
  {
   "cell_type": "code",
   "execution_count": 28,
   "metadata": {},
   "outputs": [],
   "source": [
    "# testing\n",
    "cb = s.xcoefs(datab, norm=False)\n",
    "np.testing.assert_allclose(c_set.a, c)\n",
    "np.testing.assert_allclose(c_set.b, cb)"
   ]
  },
  {
   "cell_type": "code",
   "execution_count": 29,
   "metadata": {},
   "outputs": [],
   "source": [
    "# central\n",
    "c_set_c = s_c.xcoefs(data_set_c, norm=False)\n",
    "# test\n",
    "xr.testing.assert_allclose(c_set, c_set_c)"
   ]
  },
  {
   "cell_type": "markdown",
   "metadata": {},
   "source": [
    "# resampling"
   ]
  },
  {
   "cell_type": "code",
   "execution_count": 30,
   "metadata": {},
   "outputs": [
    {
     "data": {
      "text/html": [
       "<pre>&lt;xarray.DataArray &#x27;u&#x27; (moment: 7, rep: 10)&gt;\n",
       "array([[1.        , 1.        , 1.        , 1.        , 1.        ,\n",
       "        1.        , 1.        , 1.        , 1.        , 1.        ],\n",
       "       [0.50010684, 0.49964365, 0.49834588, 0.49995062, 0.50089883,\n",
       "        0.49890858, 0.50064861, 0.49993096, 0.498588  , 0.50043063],\n",
       "       [0.3338034 , 0.33315953, 0.33196643, 0.33397058, 0.3344147 ,\n",
       "        0.3325299 , 0.33430399, 0.33355302, 0.33218533, 0.33375627],\n",
       "       [0.25067365, 0.25006705, 0.2487919 , 0.2509836 , 0.25106604,\n",
       "        0.24953805, 0.2511051 , 0.25039425, 0.24909806, 0.25041308],\n",
       "       [0.20076379, 0.20027508, 0.19886161, 0.20113612, 0.20101023,\n",
       "        0.19979342, 0.20110628, 0.20047781, 0.19925382, 0.20039194],\n",
       "       [0.16746092, 0.16710698, 0.16556748, 0.16785829, 0.16762127,\n",
       "        0.16664629, 0.16770943, 0.16718061, 0.16601802, 0.16703544],\n",
       "       [0.14365099, 0.14342314, 0.14178795, 0.14405387, 0.14376448,\n",
       "        0.14297293, 0.14381061, 0.14338245, 0.14227237, 0.14320367]])\n",
       "Dimensions without coordinates: moment, rep</pre>"
      ],
      "text/plain": [
       "<xarray.DataArray 'u' (moment: 7, rep: 10)>\n",
       "array([[1.        , 1.        , 1.        , 1.        , 1.        ,\n",
       "        1.        , 1.        , 1.        , 1.        , 1.        ],\n",
       "       [0.50010684, 0.49964365, 0.49834588, 0.49995062, 0.50089883,\n",
       "        0.49890858, 0.50064861, 0.49993096, 0.498588  , 0.50043063],\n",
       "       [0.3338034 , 0.33315953, 0.33196643, 0.33397058, 0.3344147 ,\n",
       "        0.3325299 , 0.33430399, 0.33355302, 0.33218533, 0.33375627],\n",
       "       [0.25067365, 0.25006705, 0.2487919 , 0.2509836 , 0.25106604,\n",
       "        0.24953805, 0.2511051 , 0.25039425, 0.24909806, 0.25041308],\n",
       "       [0.20076379, 0.20027508, 0.19886161, 0.20113612, 0.20101023,\n",
       "        0.19979342, 0.20110628, 0.20047781, 0.19925382, 0.20039194],\n",
       "       [0.16746092, 0.16710698, 0.16556748, 0.16785829, 0.16762127,\n",
       "        0.16664629, 0.16770943, 0.16718061, 0.16601802, 0.16703544],\n",
       "       [0.14365099, 0.14342314, 0.14178795, 0.14405387, 0.14376448,\n",
       "        0.14297293, 0.14381061, 0.14338245, 0.14227237, 0.14320367]])\n",
       "Dimensions without coordinates: moment, rep"
      ]
     },
     "execution_count": 30,
     "metadata": {},
     "output_type": "execute_result"
    }
   ],
   "source": [
    "# resampling\n",
    "data.resample(10).u"
   ]
  },
  {
   "cell_type": "code",
   "execution_count": 53,
   "metadata": {},
   "outputs": [],
   "source": [
    "# testing resampling:\n",
    "# use same resampler for all\n",
    "idx = core.resample_indicies(len(data), nrep=10)"
   ]
  },
  {
   "cell_type": "code",
   "execution_count": 54,
   "metadata": {},
   "outputs": [
    {
     "data": {
      "text/plain": [
       "(100000, 10)"
      ]
     },
     "execution_count": 54,
     "metadata": {},
     "output_type": "execute_result"
    }
   ],
   "source": [
    "idx.shape"
   ]
  },
  {
   "cell_type": "code",
   "execution_count": 32,
   "metadata": {},
   "outputs": [],
   "source": [
    "c_r = s.xcoefs(data.resample(nrep=None, idx=idx))\n",
    "cb_r = s.xcoefs(datab.resample(None, idx))\n",
    "cs_r = s.xcoefs(data_set.resample(None, idx))"
   ]
  },
  {
   "cell_type": "code",
   "execution_count": 33,
   "metadata": {},
   "outputs": [],
   "source": [
    "np.testing.assert_allclose(cs_r.a, c_r)\n",
    "np.testing.assert_allclose(cs_r.b, cb_r)"
   ]
  },
  {
   "cell_type": "code",
   "execution_count": 34,
   "metadata": {},
   "outputs": [],
   "source": [
    "# center\n",
    "cs_c_r = s_c.xcoefs(data_set_c.resample(None, idx))"
   ]
  },
  {
   "cell_type": "code",
   "execution_count": 35,
   "metadata": {},
   "outputs": [],
   "source": [
    "xr.testing.assert_allclose(cs_r, cs_c_r)"
   ]
  },
  {
   "cell_type": "markdown",
   "metadata": {},
   "source": [
    "# resampling time and chunking"
   ]
  },
  {
   "cell_type": "code",
   "execution_count": 36,
   "metadata": {},
   "outputs": [],
   "source": [
    "# xarray is built on dask.  I'm no expert, that this speed things up\n",
    "# use chunking to create a dask array of uv, xv"
   ]
  },
  {
   "cell_type": "code",
   "execution_count": 37,
   "metadata": {},
   "outputs": [],
   "source": [
    "idx = core.resample_indicies(len(data), nrep=100)"
   ]
  },
  {
   "cell_type": "code",
   "execution_count": 38,
   "metadata": {},
   "outputs": [
    {
     "name": "stdout",
     "output_type": "stream",
     "text": [
      "2.11 s ± 0 ns per loop (mean ± std. dev. of 1 run, 1 loop each)\n"
     ]
    }
   ],
   "source": [
    "%%timeit -n 1 -r 1\n",
    "r = data.resample(None, idx, chunk=None)\n",
    "r.u\n",
    "r.xu"
   ]
  },
  {
   "cell_type": "code",
   "execution_count": 39,
   "metadata": {},
   "outputs": [
    {
     "name": "stdout",
     "output_type": "stream",
     "text": [
      "1.73 s ± 0 ns per loop (mean ± std. dev. of 1 run, 1 loop each)\n"
     ]
    }
   ],
   "source": [
    "%%timeit -n 1 -r 1\n",
    "r = data.resample(None, idx, chunk=10000)\n",
    "r.u\n",
    "r.xu"
   ]
  },
  {
   "cell_type": "markdown",
   "metadata": {},
   "source": [
    "# Extrap model"
   ]
  },
  {
   "cell_type": "code",
   "execution_count": 10,
   "metadata": {},
   "outputs": [
    {
     "data": {
      "text/plain": [
       "<module 'thermoextrap.xtrapy.core' from '/Users/wpk/Documents/python/projects/xtrapy/thermoextrap/xtrapy/core.py'>"
      ]
     },
     "execution_count": 10,
     "metadata": {},
     "output_type": "execute_result"
    }
   ],
   "source": [
    "reload(core)"
   ]
  },
  {
   "cell_type": "code",
   "execution_count": 6,
   "metadata": {},
   "outputs": [],
   "source": [
    "# test Extrap model\n",
    "betas = [0.3, 0.4]\n",
    "ref_beta = 0.5"
   ]
  },
  {
   "cell_type": "code",
   "execution_count": 42,
   "metadata": {},
   "outputs": [],
   "source": [
    "# blank model\n",
    "em = thermoextrap.ExtrapModel(maxOrder=order)"
   ]
  },
  {
   "cell_type": "code",
   "execution_count": 43,
   "metadata": {},
   "outputs": [],
   "source": [
    "params = em.train(ref_beta, xData=x, uData=u, saveParams=True)"
   ]
  },
  {
   "cell_type": "code",
   "execution_count": 44,
   "metadata": {},
   "outputs": [
    {
     "data": {
      "text/plain": [
       "array([[0.50043757, 0.49897351, 0.50042238, 0.49912602, 0.50117469],\n",
       "       [0.50042413, 0.49898436, 0.50040218, 0.49912628, 0.50116313]])"
      ]
     },
     "execution_count": 44,
     "metadata": {},
     "output_type": "execute_result"
    }
   ],
   "source": [
    "em.predict(betas, order=3)"
   ]
  },
  {
   "cell_type": "code",
   "execution_count": 13,
   "metadata": {},
   "outputs": [
    {
     "data": {
      "text/html": [
       "<pre>&lt;xarray.DataArray (beta: 2, val: 5)&gt;\n",
       "array([[0.50043757, 0.49897351, 0.50042238, 0.49912602, 0.50117469],\n",
       "       [0.50042413, 0.49898436, 0.50040218, 0.49912628, 0.50116313]])\n",
       "Coordinates:\n",
       "  * beta     (beta) float64 0.3 0.4\n",
       "    dbeta    (beta) float64 -0.2 -0.1\n",
       "    beta0    float64 0.5\n",
       "Dimensions without coordinates: val</pre>"
      ],
      "text/plain": [
       "<xarray.DataArray (beta: 2, val: 5)>\n",
       "array([[0.50043757, 0.49897351, 0.50042238, 0.49912602, 0.50117469],\n",
       "       [0.50042413, 0.49898436, 0.50040218, 0.49912628, 0.50116313]])\n",
       "Coordinates:\n",
       "  * beta     (beta) float64 0.3 0.4\n",
       "    dbeta    (beta) float64 -0.2 -0.1\n",
       "    beta0    float64 0.5\n",
       "Dimensions without coordinates: val"
      ]
     },
     "execution_count": 13,
     "metadata": {},
     "output_type": "execute_result"
    }
   ],
   "source": [
    "xem = xpan_beta.factory_extrapmodel(order, ref_beta, u, x, xalpha=False, central=False)\n",
    "xem.predict(betas, order=3)"
   ]
  },
  {
   "cell_type": "code",
   "execution_count": 14,
   "metadata": {},
   "outputs": [
    {
     "data": {
      "text/html": [
       "<pre>&lt;xarray.DataArray (beta: 2, val: 5)&gt;\n",
       "array([[0.50043757, 0.49897351, 0.50042238, 0.49912602, 0.50117469],\n",
       "       [0.50042413, 0.49898436, 0.50040218, 0.49912628, 0.50116313]])\n",
       "Coordinates:\n",
       "  * beta     (beta) float64 0.3 0.4\n",
       "    dbeta    (beta) float64 -0.2 -0.1\n",
       "    beta0    float64 0.5\n",
       "Dimensions without coordinates: val</pre>"
      ],
      "text/plain": [
       "<xarray.DataArray (beta: 2, val: 5)>\n",
       "array([[0.50043757, 0.49897351, 0.50042238, 0.49912602, 0.50117469],\n",
       "       [0.50042413, 0.49898436, 0.50040218, 0.49912628, 0.50116313]])\n",
       "Coordinates:\n",
       "  * beta     (beta) float64 0.3 0.4\n",
       "    dbeta    (beta) float64 -0.2 -0.1\n",
       "    beta0    float64 0.5\n",
       "Dimensions without coordinates: val"
      ]
     },
     "execution_count": 14,
     "metadata": {},
     "output_type": "execute_result"
    }
   ],
   "source": [
    "# central, and build from \"from_values\" method\n",
    "xem_c = xpan_beta.factory_extrapmodel(order, ref_beta, u, x, xalpha=False, central=True)\n",
    "xem_c.predict(betas, order=3)"
   ]
  },
  {
   "cell_type": "code",
   "execution_count": 47,
   "metadata": {},
   "outputs": [
    {
     "data": {
      "text/plain": [
       "array([[0.00106026, 0.00092145, 0.00066888, 0.00095758, 0.00098947],\n",
       "       [0.00105866, 0.0009081 , 0.00067315, 0.00095227, 0.00098661]])"
      ]
     },
     "execution_count": 47,
     "metadata": {},
     "output_type": "execute_result"
    }
   ],
   "source": [
    "# resample\n",
    "em.bootstrap(betas, n=20)"
   ]
  },
  {
   "cell_type": "code",
   "execution_count": 15,
   "metadata": {},
   "outputs": [
    {
     "data": {
      "text/html": [
       "<pre>&lt;xarray.DataArray (beta: 2, val: 5)&gt;\n",
       "array([[0.00104206, 0.00091728, 0.00099767, 0.00106403, 0.00086129],\n",
       "       [0.00104536, 0.00091457, 0.00099733, 0.0010722 , 0.00086071]])\n",
       "Coordinates:\n",
       "  * beta     (beta) float64 0.3 0.4\n",
       "    dbeta    (beta) float64 -0.2 -0.1\n",
       "    beta0    float64 0.5\n",
       "Dimensions without coordinates: val</pre>"
      ],
      "text/plain": [
       "<xarray.DataArray (beta: 2, val: 5)>\n",
       "array([[0.00104206, 0.00091728, 0.00099767, 0.00106403, 0.00086129],\n",
       "       [0.00104536, 0.00091457, 0.00099733, 0.0010722 , 0.00086071]])\n",
       "Coordinates:\n",
       "  * beta     (beta) float64 0.3 0.4\n",
       "    dbeta    (beta) float64 -0.2 -0.1\n",
       "    beta0    float64 0.5\n",
       "Dimensions without coordinates: val"
      ]
     },
     "execution_count": 15,
     "metadata": {},
     "output_type": "execute_result"
    }
   ],
   "source": [
    "# resample data\n",
    "xem_r = xem.resample(20)\n",
    "xem_r.predict(betas).std('rep')"
   ]
  },
  {
   "cell_type": "code",
   "execution_count": 16,
   "metadata": {},
   "outputs": [
    {
     "data": {
      "text/html": [
       "<pre>&lt;xarray.DataArray (beta: 2, val: 5)&gt;\n",
       "array([[0.00109224, 0.00079184, 0.00096688, 0.00101369, 0.00075356],\n",
       "       [0.00109342, 0.00079328, 0.00098064, 0.00101566, 0.00074715]])\n",
       "Coordinates:\n",
       "  * beta     (beta) float64 0.3 0.4\n",
       "    dbeta    (beta) float64 -0.2 -0.1\n",
       "    beta0    float64 0.5\n",
       "Dimensions without coordinates: val</pre>"
      ],
      "text/plain": [
       "<xarray.DataArray (beta: 2, val: 5)>\n",
       "array([[0.00109224, 0.00079184, 0.00096688, 0.00101369, 0.00075356],\n",
       "       [0.00109342, 0.00079328, 0.00098064, 0.00101566, 0.00074715]])\n",
       "Coordinates:\n",
       "  * beta     (beta) float64 0.3 0.4\n",
       "    dbeta    (beta) float64 -0.2 -0.1\n",
       "    beta0    float64 0.5\n",
       "Dimensions without coordinates: val"
      ]
     },
     "execution_count": 16,
     "metadata": {},
     "output_type": "execute_result"
    }
   ],
   "source": [
    "xem_c.resample(20).predict(betas).std('rep')"
   ]
  },
  {
   "cell_type": "code",
   "execution_count": 17,
   "metadata": {},
   "outputs": [
    {
     "data": {
      "text/html": [
       "<pre>&lt;xarray.DataArray &#x27;u&#x27; (moment: 7, rep: 20)&gt;\n",
       "array([[1.        , 1.        , 1.        , 1.        , 1.        ,\n",
       "        1.        , 1.        , 1.        , 1.        , 1.        ,\n",
       "        1.        , 1.        , 1.        , 1.        , 1.        ,\n",
       "        1.        , 1.        , 1.        , 1.        , 1.        ],\n",
       "       [0.50010684, 0.49964365, 0.49834588, 0.49995062, 0.50089883,\n",
       "        0.49890858, 0.50064861, 0.49993096, 0.498588  , 0.50043063,\n",
       "        0.50016971, 0.50091015, 0.4987761 , 0.50052337, 0.49910457,\n",
       "        0.50008106, 0.49954187, 0.49916412, 0.49978279, 0.49850368],\n",
       "       [0.3338034 , 0.33315953, 0.33196643, 0.33397058, 0.3344147 ,\n",
       "        0.3325299 , 0.33430399, 0.33355302, 0.33218533, 0.33375627,\n",
       "        0.3335511 , 0.33394193, 0.33240869, 0.33431928, 0.3324881 ,\n",
       "        0.33346312, 0.3332114 , 0.33236782, 0.33313493, 0.33226926],\n",
       "       [0.25067365, 0.25006705, 0.2487919 , 0.2509836 , 0.25106604,\n",
       "        0.24953805, 0.2511051 , 0.25039425, 0.24909806, 0.25041308,\n",
       "        0.25020343, 0.25029616, 0.24939816, 0.25119668, 0.249256  ,\n",
       "        0.25003906, 0.25005408, 0.24906682, 0.24980715, 0.24924002],\n",
       "       [0.20076379, 0.20027508, 0.19886161, 0.20113612, 0.20101023,\n",
       "        0.19979342, 0.20110628, 0.20047781, 0.19925382, 0.20039194,\n",
       "        0.20016312, 0.20007018, 0.19962362, 0.20126201, 0.19934899,\n",
       "        0.19991272, 0.20012233, 0.19912504, 0.19979536, 0.19941441],\n",
       "       [0.16746092, 0.16710698, 0.16556748, 0.16785829, 0.16762127,\n",
       "        0.16664629, 0.16770943, 0.16718061, 0.16601802, 0.16703544,\n",
       "        0.16678751, 0.16659042, 0.16643759, 0.16792291, 0.16610253,\n",
       "        0.16646937, 0.16681294, 0.16585047, 0.16644912, 0.16618854],\n",
       "       [0.14365099, 0.14342314, 0.14178795, 0.14405387, 0.14376448,\n",
       "        0.14297293, 0.14381061, 0.14338245, 0.14227237, 0.14320367,\n",
       "        0.14294192, 0.14269141, 0.14272135, 0.14407351, 0.14237238,\n",
       "        0.14257828, 0.1430108 , 0.14209358, 0.14263277, 0.1424512 ]])\n",
       "Dimensions without coordinates: moment, rep</pre>"
      ],
      "text/plain": [
       "<xarray.DataArray 'u' (moment: 7, rep: 20)>\n",
       "array([[1.        , 1.        , 1.        , 1.        , 1.        ,\n",
       "        1.        , 1.        , 1.        , 1.        , 1.        ,\n",
       "        1.        , 1.        , 1.        , 1.        , 1.        ,\n",
       "        1.        , 1.        , 1.        , 1.        , 1.        ],\n",
       "       [0.50010684, 0.49964365, 0.49834588, 0.49995062, 0.50089883,\n",
       "        0.49890858, 0.50064861, 0.49993096, 0.498588  , 0.50043063,\n",
       "        0.50016971, 0.50091015, 0.4987761 , 0.50052337, 0.49910457,\n",
       "        0.50008106, 0.49954187, 0.49916412, 0.49978279, 0.49850368],\n",
       "       [0.3338034 , 0.33315953, 0.33196643, 0.33397058, 0.3344147 ,\n",
       "        0.3325299 , 0.33430399, 0.33355302, 0.33218533, 0.33375627,\n",
       "        0.3335511 , 0.33394193, 0.33240869, 0.33431928, 0.3324881 ,\n",
       "        0.33346312, 0.3332114 , 0.33236782, 0.33313493, 0.33226926],\n",
       "       [0.25067365, 0.25006705, 0.2487919 , 0.2509836 , 0.25106604,\n",
       "        0.24953805, 0.2511051 , 0.25039425, 0.24909806, 0.25041308,\n",
       "        0.25020343, 0.25029616, 0.24939816, 0.25119668, 0.249256  ,\n",
       "        0.25003906, 0.25005408, 0.24906682, 0.24980715, 0.24924002],\n",
       "       [0.20076379, 0.20027508, 0.19886161, 0.20113612, 0.20101023,\n",
       "        0.19979342, 0.20110628, 0.20047781, 0.19925382, 0.20039194,\n",
       "        0.20016312, 0.20007018, 0.19962362, 0.20126201, 0.19934899,\n",
       "        0.19991272, 0.20012233, 0.19912504, 0.19979536, 0.19941441],\n",
       "       [0.16746092, 0.16710698, 0.16556748, 0.16785829, 0.16762127,\n",
       "        0.16664629, 0.16770943, 0.16718061, 0.16601802, 0.16703544,\n",
       "        0.16678751, 0.16659042, 0.16643759, 0.16792291, 0.16610253,\n",
       "        0.16646937, 0.16681294, 0.16585047, 0.16644912, 0.16618854],\n",
       "       [0.14365099, 0.14342314, 0.14178795, 0.14405387, 0.14376448,\n",
       "        0.14297293, 0.14381061, 0.14338245, 0.14227237, 0.14320367,\n",
       "        0.14294192, 0.14269141, 0.14272135, 0.14407351, 0.14237238,\n",
       "        0.14257828, 0.1430108 , 0.14209358, 0.14263277, 0.1424512 ]])\n",
       "Dimensions without coordinates: moment, rep"
      ]
     },
     "execution_count": 17,
     "metadata": {},
     "output_type": "execute_result"
    }
   ],
   "source": [
    "# note that xem_r is just an Extrap model with new resampled data\n",
    "xem_r.data.u"
   ]
  },
  {
   "cell_type": "code",
   "execution_count": 51,
   "metadata": {},
   "outputs": [],
   "source": [
    "# testing dataset\n",
    "emb = thermoextrap.ExtrapModel(order, ref_beta, xb, u)"
   ]
  },
  {
   "cell_type": "code",
   "execution_count": 52,
   "metadata": {},
   "outputs": [],
   "source": [
    "xemb = xpan_beta.factory_extrapmodel(order, ref_beta, u, xb, central=True)\n",
    "xem_set = xpan_beta.factory_extrapmodel(order, ref_beta, u, x_set, central=True)"
   ]
  },
  {
   "cell_type": "code",
   "execution_count": 53,
   "metadata": {},
   "outputs": [],
   "source": [
    "np.testing.assert_allclose(emb.predict(betas), emb.predict(betas))"
   ]
  },
  {
   "cell_type": "code",
   "execution_count": 54,
   "metadata": {},
   "outputs": [],
   "source": [
    "# testing dataset\n",
    "out = xem.predict(betas)\n",
    "outb = xemb.predict(betas)\n",
    "outs = xem_set.predict(betas)\n",
    "\n",
    "np.testing.assert_allclose(out, outs.a)\n",
    "np.testing.assert_allclose(outb, outs.b)"
   ]
  },
  {
   "cell_type": "code",
   "execution_count": 55,
   "metadata": {},
   "outputs": [],
   "source": [
    "# resampling\n",
    "idx = core.resample_indicies(len(x), 20)\n",
    "\n",
    "out = xem.resample(None, idx).predict(betas)\n",
    "outb = xemb.resample(None, idx).predict(betas)\n",
    "outs = xem_set.resample(None, idx).predict(betas)"
   ]
  },
  {
   "cell_type": "code",
   "execution_count": 56,
   "metadata": {},
   "outputs": [],
   "source": [
    "np.testing.assert_allclose(out, outs.a)\n",
    "np.testing.assert_allclose(outb, outs.b)"
   ]
  },
  {
   "cell_type": "code",
   "execution_count": 57,
   "metadata": {},
   "outputs": [],
   "source": [
    "# resampling much faster with chunking"
   ]
  },
  {
   "cell_type": "code",
   "execution_count": 58,
   "metadata": {},
   "outputs": [
    {
     "name": "stdout",
     "output_type": "stream",
     "text": [
      "[[0.00086844 0.00088233 0.00096163 0.00101373 0.00084704]\n",
      " [0.00086735 0.00088198 0.0009599  0.0010106  0.0008449 ]]\n",
      "5.05 s ± 0 ns per loop (mean ± std. dev. of 1 run, 1 loop each)\n"
     ]
    }
   ],
   "source": [
    "%%timeit -n 1 -r 1\n",
    "print(em.bootstrap(betas))"
   ]
  },
  {
   "cell_type": "code",
   "execution_count": 59,
   "metadata": {},
   "outputs": [
    {
     "name": "stdout",
     "output_type": "stream",
     "text": [
      "<xarray.DataArray (alpha: 2, val: 5)>\n",
      "array([[0.00087964, 0.00088115, 0.0009716 , 0.00092574, 0.00096312],\n",
      "       [0.00087682, 0.000882  , 0.00097072, 0.00092256, 0.00096504]])\n",
      "Coordinates:\n",
      "  * alpha    (alpha) float64 0.3 0.4\n",
      "    dalpha   (alpha) float64 -0.2 -0.1\n",
      "    alpha0   float64 0.5\n",
      "Dimensions without coordinates: val\n",
      "1.99 s ± 0 ns per loop (mean ± std. dev. of 1 run, 1 loop each)\n"
     ]
    }
   ],
   "source": [
    "%%timeit -n 1 -r 1\n",
    "print(xem.resample(100, chunk=1000).predict(betas).std('rep'))"
   ]
  },
  {
   "cell_type": "markdown",
   "metadata": {},
   "source": [
    "# ExtrapWeighted"
   ]
  },
  {
   "cell_type": "code",
   "execution_count": 18,
   "metadata": {},
   "outputs": [],
   "source": [
    "u = np.random.rand(2,n) + 5\n",
    "x = np.random.rand(2,n, nv) + 10\n",
    "xb = np.random.rand(2,n, 5) + 2\n",
    "order = 4"
   ]
  },
  {
   "cell_type": "code",
   "execution_count": 19,
   "metadata": {},
   "outputs": [],
   "source": [
    "beta0 = [0.05, 0.5]\n",
    "betas = [0.1, 0.2, 0.3, 0.4]"
   ]
  },
  {
   "cell_type": "code",
   "execution_count": 33,
   "metadata": {},
   "outputs": [],
   "source": [
    "emw = thermoextrap.ExtrapWeightedModel(order, beta0, x, u)\n",
    "emwB = thermoextrap.ExtrapWeightedModel(order, beta0, xb, u)"
   ]
  },
  {
   "cell_type": "code",
   "execution_count": 34,
   "metadata": {},
   "outputs": [],
   "source": [
    "# for xtrapy, create list of models for each state:\n",
    "\n",
    "# first create datasets for xs\n",
    "xs = [xr.Dataset({'a': core.xrwrap_xv(xx), \n",
    "                  'b': core.xrwrap_xv(xxb)})\n",
    "      for xx, xxb in zip(x, xb)\n",
    "     ]\n",
    "\n",
    "# now crete list of models for each state\n",
    "states = [xpan_beta.factory_extrapmodel(order, b0, uu, xx, central=True)\n",
    "         for b0, uu, xx in zip(beta0, u, xs)]\n",
    "\n",
    "xemw = core.ExtrapWeightedModel(states)"
   ]
  },
  {
   "cell_type": "code",
   "execution_count": 35,
   "metadata": {},
   "outputs": [],
   "source": [
    "states_a = [xpan_beta.factory_extrapmodel(order, b0, uu, xx, central=True)\n",
    "             for b0, uu, xx in zip(beta0, u, x)]\n",
    "xemw_a = core.ExtrapWeightedModel(states_a)"
   ]
  },
  {
   "cell_type": "code",
   "execution_count": 37,
   "metadata": {},
   "outputs": [],
   "source": [
    "np.testing.assert_allclose(emw.predict(betas), xemw.predict(betas).a)\n",
    "np.testing.assert_allclose(emwB.predict(betas), xemw.predict(betas).b)"
   ]
  },
  {
   "cell_type": "code",
   "execution_count": 38,
   "metadata": {},
   "outputs": [],
   "source": [
    "idxs = [core.resample_indicies(len(xemw[0].data), 20) for i in range(2)]\n",
    "a = xemw.resample(None, idxs).predict(betas).a\n",
    "b = xemw_a.resample(None, idxs).predict(betas)"
   ]
  },
  {
   "cell_type": "code",
   "execution_count": 39,
   "metadata": {},
   "outputs": [
    {
     "name": "stdout",
     "output_type": "stream",
     "text": [
      "6.4 s ± 0 ns per loop (mean ± std. dev. of 1 run, 1 loop each)\n"
     ]
    }
   ],
   "source": [
    "%%timeit -n 1 -r 1\n",
    "emw.bootstrap(betas, n=100)"
   ]
  },
  {
   "cell_type": "code",
   "execution_count": 72,
   "metadata": {},
   "outputs": [
    {
     "name": "stdout",
     "output_type": "stream",
     "text": [
      "7.37 s ± 0 ns per loop (mean ± std. dev. of 1 run, 1 loop each)\n"
     ]
    }
   ],
   "source": [
    "%%timeit -n 1 -r 1\n",
    "# note that is is actually doing twice the work\n",
    "# because data includes both x and xb\n",
    "xemw.resample(100).predict(betas).std('rep')"
   ]
  },
  {
   "cell_type": "code",
   "execution_count": 73,
   "metadata": {},
   "outputs": [
    {
     "name": "stdout",
     "output_type": "stream",
     "text": [
      "6.18 s ± 0 ns per loop (mean ± std. dev. of 1 run, 1 loop each)\n"
     ]
    }
   ],
   "source": [
    "%%timeit -n 1 -r 1\n",
    "# note that is is actually doing twice the work\n",
    "# because data includes both x and xb\n",
    "xemw.resample(100, chunk=1000).predict(betas).std('rep')"
   ]
  },
  {
   "cell_type": "code",
   "execution_count": 74,
   "metadata": {},
   "outputs": [
    {
     "name": "stdout",
     "output_type": "stream",
     "text": [
      "3.26 s ± 0 ns per loop (mean ± std. dev. of 1 run, 1 loop each)\n"
     ]
    }
   ],
   "source": [
    "%%timeit -n 1 -r 1\n",
    "# note that is is actually doing twice the work\n",
    "# because data includes both x and xb\n",
    "xemw_a.resample(100, chunk=10000).predict(betas).std('rep')"
   ]
  },
  {
   "cell_type": "code",
   "execution_count": 70,
   "metadata": {},
   "outputs": [],
   "source": [
    "from dask.diagnostics import ProgressBar"
   ]
  },
  {
   "cell_type": "code",
   "execution_count": 71,
   "metadata": {},
   "outputs": [
    {
     "name": "stdout",
     "output_type": "stream",
     "text": [
      "[########################################] | 100% Completed |  0.1s\n",
      "[########################################] | 100% Completed |  0.6s\n",
      "[########################################] | 100% Completed |  4.6s\n",
      "[########################################] | 100% Completed |  0.1s\n",
      "[########################################] | 100% Completed |  0.7s\n",
      "[########################################] | 100% Completed |  2.5s\n",
      "22.1 s ± 0 ns per loop (mean ± std. dev. of 1 run, 1 loop each)\n"
     ]
    }
   ],
   "source": [
    "%%timeit -n 1 -r 1\n",
    "# note that is is actually doing twice the work\n",
    "# because data includes both x and xb\n",
    "with ProgressBar():\n",
    "    xemw_a.resample(500, chunk=10000).predict(betas).std('rep')"
   ]
  },
  {
   "cell_type": "markdown",
   "metadata": {},
   "source": [
    "# InterpModel"
   ]
  },
  {
   "cell_type": "code",
   "execution_count": 40,
   "metadata": {},
   "outputs": [],
   "source": [
    "emi = thermoextrap.InterpModel(order, beta0, x, u)\n",
    "emib = thermoextrap.InterpModel(order, beta0, xb, u)"
   ]
  },
  {
   "cell_type": "code",
   "execution_count": 41,
   "metadata": {},
   "outputs": [],
   "source": [
    "xemi = core.InterpModel(states)"
   ]
  },
  {
   "cell_type": "code",
   "execution_count": 42,
   "metadata": {},
   "outputs": [],
   "source": [
    "states_b = [xpan_beta.factory_extrapmodel(order, b0, uu, xx, central=True)\n",
    "             for b0, uu, xx in zip(beta0, u, xb)]\n",
    "\n",
    "xemi_a = core.InterpModel(states_a)\n",
    "xemi_b = core.InterpModel(states_b)\n"
   ]
  },
  {
   "cell_type": "code",
   "execution_count": 43,
   "metadata": {},
   "outputs": [],
   "source": [
    "alpha = [0.1, 0.2]"
   ]
  },
  {
   "cell_type": "code",
   "execution_count": 44,
   "metadata": {},
   "outputs": [],
   "source": [
    "np.testing.assert_allclose(emi.predict(betas), xemi.predict(betas).a)\n",
    "np.testing.assert_allclose(emib.predict(betas), xemi.predict(betas).b)"
   ]
  },
  {
   "cell_type": "code",
   "execution_count": 45,
   "metadata": {},
   "outputs": [
    {
     "data": {
      "text/plain": [
       "array([[0.00073394, 0.00082176, 0.00086818, 0.0007307 , 0.00098333],\n",
       "       [0.00064477, 0.00069775, 0.00075103, 0.00060203, 0.00087918],\n",
       "       [0.00067547, 0.00045663, 0.00084683, 0.00053983, 0.00074061],\n",
       "       [0.00095478, 0.00059577, 0.00120691, 0.00084186, 0.0008883 ]])"
      ]
     },
     "execution_count": 45,
     "metadata": {},
     "output_type": "execute_result"
    }
   ],
   "source": [
    "emi.bootstrap(betas, n=20)"
   ]
  },
  {
   "cell_type": "code",
   "execution_count": 46,
   "metadata": {},
   "outputs": [
    {
     "data": {
      "text/html": [
       "<pre>&lt;xarray.DataArray &#x27;a&#x27; (beta: 4, val: 5)&gt;\n",
       "array([[0.00091733, 0.0009824 , 0.00084456, 0.0010354 , 0.00095344],\n",
       "       [0.00075589, 0.00082176, 0.00070198, 0.00086866, 0.00083223],\n",
       "       [0.00062099, 0.00054772, 0.00057055, 0.0006534 , 0.00068517],\n",
       "       [0.0009579 , 0.00076648, 0.00086728, 0.00092517, 0.0008929 ]])\n",
       "Coordinates:\n",
       "  * beta     (beta) float64 0.1 0.2 0.3 0.4\n",
       "Dimensions without coordinates: val</pre>"
      ],
      "text/plain": [
       "<xarray.DataArray 'a' (beta: 4, val: 5)>\n",
       "array([[0.00091733, 0.0009824 , 0.00084456, 0.0010354 , 0.00095344],\n",
       "       [0.00075589, 0.00082176, 0.00070198, 0.00086866, 0.00083223],\n",
       "       [0.00062099, 0.00054772, 0.00057055, 0.0006534 , 0.00068517],\n",
       "       [0.0009579 , 0.00076648, 0.00086728, 0.00092517, 0.0008929 ]])\n",
       "Coordinates:\n",
       "  * beta     (beta) float64 0.1 0.2 0.3 0.4\n",
       "Dimensions without coordinates: val"
      ]
     },
     "execution_count": 46,
     "metadata": {},
     "output_type": "execute_result"
    }
   ],
   "source": [
    "xemi.resample(20).predict(betas).std('rep').a"
   ]
  },
  {
   "cell_type": "code",
   "execution_count": 82,
   "metadata": {},
   "outputs": [
    {
     "name": "stdout",
     "output_type": "stream",
     "text": [
      "6.77 s ± 0 ns per loop (mean ± std. dev. of 1 run, 1 loop each)\n"
     ]
    }
   ],
   "source": [
    "%%timeit -n 1 -r 1\n",
    "emi.bootstrap(betas, n=100)"
   ]
  },
  {
   "cell_type": "code",
   "execution_count": 83,
   "metadata": {},
   "outputs": [
    {
     "name": "stdout",
     "output_type": "stream",
     "text": [
      "3.25 s ± 0 ns per loop (mean ± std. dev. of 1 run, 1 loop each)\n"
     ]
    }
   ],
   "source": [
    "%%timeit -n 1 -r 1\n",
    "xemi_a.resample(100, chunk=10000).predict(betas).std('rep')"
   ]
  },
  {
   "cell_type": "markdown",
   "metadata": {},
   "source": [
    "# MBAR"
   ]
  },
  {
   "cell_type": "code",
   "execution_count": 48,
   "metadata": {},
   "outputs": [],
   "source": [
    "mbar = thermoextrap.MBARModel(refB=beta0, xData=x, uData=u)"
   ]
  },
  {
   "cell_type": "code",
   "execution_count": 49,
   "metadata": {},
   "outputs": [
    {
     "data": {
      "text/plain": [
       "array([[10.49946905, 10.50009106, 10.49990332, 10.50020218, 10.50030235],\n",
       "       [10.49945993, 10.50010948, 10.49990185, 10.50022119, 10.50031344],\n",
       "       [10.49945098, 10.50012735, 10.49989977, 10.50024016, 10.50032404],\n",
       "       [10.49944219, 10.50014468, 10.49989709, 10.50025908, 10.50033412]])"
      ]
     },
     "execution_count": 49,
     "metadata": {},
     "output_type": "execute_result"
    }
   ],
   "source": [
    "mbar.predict(betas)"
   ]
  },
  {
   "cell_type": "code",
   "execution_count": 50,
   "metadata": {},
   "outputs": [],
   "source": [
    "xmbar = core.MBARModel(states_a)"
   ]
  },
  {
   "cell_type": "code",
   "execution_count": 51,
   "metadata": {},
   "outputs": [],
   "source": [
    "out = xmbar.predict(betas)"
   ]
  },
  {
   "cell_type": "code",
   "execution_count": 52,
   "metadata": {},
   "outputs": [
    {
     "data": {
      "text/html": [
       "<pre>&lt;xarray.DataArray (beta: 4, val: 5)&gt;\n",
       "array([[10.49946905, 10.50009106, 10.49990332, 10.50020218, 10.50030235],\n",
       "       [10.49945993, 10.50010948, 10.49990185, 10.50022119, 10.50031344],\n",
       "       [10.49945098, 10.50012735, 10.49989977, 10.50024016, 10.50032404],\n",
       "       [10.49944219, 10.50014468, 10.49989709, 10.50025908, 10.50033412]])\n",
       "Coordinates:\n",
       "  * beta     (beta) float64 0.1 0.2 0.3 0.4\n",
       "    alpha    (beta) float64 0.1 0.2 0.3 0.4\n",
       "Dimensions without coordinates: val</pre>"
      ],
      "text/plain": [
       "<xarray.DataArray (beta: 4, val: 5)>\n",
       "array([[10.49946905, 10.50009106, 10.49990332, 10.50020218, 10.50030235],\n",
       "       [10.49945993, 10.50010948, 10.49990185, 10.50022119, 10.50031344],\n",
       "       [10.49945098, 10.50012735, 10.49989977, 10.50024016, 10.50032404],\n",
       "       [10.49944219, 10.50014468, 10.49989709, 10.50025908, 10.50033412]])\n",
       "Coordinates:\n",
       "  * beta     (beta) float64 0.1 0.2 0.3 0.4\n",
       "    alpha    (beta) float64 0.1 0.2 0.3 0.4\n",
       "Dimensions without coordinates: val"
      ]
     },
     "execution_count": 52,
     "metadata": {},
     "output_type": "execute_result"
    }
   ],
   "source": [
    "out"
   ]
  },
  {
   "cell_type": "code",
   "execution_count": 53,
   "metadata": {},
   "outputs": [],
   "source": [
    "np.testing.assert_allclose(mbar.predict(betas), xmbar.predict(betas))"
   ]
  },
  {
   "cell_type": "markdown",
   "metadata": {},
   "source": [
    "# Perturb"
   ]
  },
  {
   "cell_type": "code",
   "execution_count": 54,
   "metadata": {},
   "outputs": [
    {
     "data": {
      "text/plain": [
       "<module 'thermoextrap.xtrapy.core' from '/Users/wpk/Documents/python/projects/xtrapy/thermoextrap/xtrapy/core.py'>"
      ]
     },
     "execution_count": 54,
     "metadata": {},
     "output_type": "execute_result"
    }
   ],
   "source": [
    "reload(core)"
   ]
  },
  {
   "cell_type": "code",
   "execution_count": 55,
   "metadata": {},
   "outputs": [],
   "source": [
    "beta_ref = 0.5"
   ]
  },
  {
   "cell_type": "code",
   "execution_count": 56,
   "metadata": {},
   "outputs": [],
   "source": [
    "pm = thermoextrap.PerturbModel(beta_ref, x[0], u[0])"
   ]
  },
  {
   "cell_type": "code",
   "execution_count": 57,
   "metadata": {},
   "outputs": [
    {
     "data": {
      "text/plain": [
       "array([[10.49888945, 10.49920956, 10.49992106, 10.4998412 , 10.4996373 ],\n",
       "       [10.4988958 , 10.49927884, 10.49991802, 10.49984427, 10.49963441]])"
      ]
     },
     "execution_count": 57,
     "metadata": {},
     "output_type": "execute_result"
    }
   ],
   "source": [
    "pm.predict([0.1, 0.2], useMBAR=False)"
   ]
  },
  {
   "cell_type": "code",
   "execution_count": 58,
   "metadata": {},
   "outputs": [],
   "source": [
    "xpm = xpan_beta.factory_perturbmodel(beta_ref, u[0], x[0])"
   ]
  },
  {
   "cell_type": "code",
   "execution_count": 59,
   "metadata": {},
   "outputs": [
    {
     "data": {
      "text/html": [
       "<pre>&lt;xarray.DataArray (beta: 2, val: 5)&gt;\n",
       "array([[10.49888945, 10.49920956, 10.49992106, 10.4998412 , 10.4996373 ],\n",
       "       [10.4988958 , 10.49927884, 10.49991802, 10.49984427, 10.49963441]])\n",
       "Coordinates:\n",
       "  * beta     (beta) float64 0.1 0.2\n",
       "Dimensions without coordinates: val</pre>"
      ],
      "text/plain": [
       "<xarray.DataArray (beta: 2, val: 5)>\n",
       "array([[10.49888945, 10.49920956, 10.49992106, 10.4998412 , 10.4996373 ],\n",
       "       [10.4988958 , 10.49927884, 10.49991802, 10.49984427, 10.49963441]])\n",
       "Coordinates:\n",
       "  * beta     (beta) float64 0.1 0.2\n",
       "Dimensions without coordinates: val"
      ]
     },
     "execution_count": 59,
     "metadata": {},
     "output_type": "execute_result"
    }
   ],
   "source": [
    "xpm.predict([0.1, 0.2])"
   ]
  },
  {
   "cell_type": "markdown",
   "metadata": {},
   "source": [
    "# log func"
   ]
  },
  {
   "cell_type": "code",
   "execution_count": 60,
   "metadata": {},
   "outputs": [],
   "source": [
    "from thermoextrap.utilities import buildAvgFuncs\n",
    "\n",
    "#For quantities like the chemical potential, we're interested in the -log(<X>), not <X>\n",
    "#Everything is the same, but we take derivatives differently\n",
    "#Luckily, have closed-form expression for derivatives of -log(<X>) in terms of derivatives of <X>\n",
    "#Specifically, d(n)[-log(<X>)]/dB(n) = Sum(k=1, n)[(k-1)! * (-1/<X>)^k * B(n,k,(d<X>/dB, ..., d(n-k+1)<X>/dB(n-k+1)))]\n",
    "#B(n,k, (...)) represents Bell Polynomials, which are implemented in sympy (not numpy or scipy unfortunately)\n",
    "#Create custom classes to handle this\n",
    "from sympy import bell\n",
    "\n",
    "class LogAvgExtrapModel(ExtrapModel):\n",
    "    \n",
    "    def calcDerivVals(self, refB, x, U):\n",
    "        \n",
    "        if x.shape[0] != U.shape[0]:\n",
    "            print('First observable dimension (%i) and size of potential energy array (%i) do not match!'%(x.shape[0], U.shape[0]))\n",
    "            return\n",
    "    \n",
    "        avgUfunc, avgXUfunc = buildAvgFuncs(x, U, self.maxOrder)\n",
    "        derivVals = np.zeros((self.maxOrder+1, x.shape[1]))\n",
    "        for o in range(self.maxOrder+1):\n",
    "            if o == 0:\n",
    "                derivVals[o] = (-np.log(avgXUfunc(0)))\n",
    "                continue\n",
    "            for k in range(1,o+1):\n",
    "                #Get the derivatives of the average quantity\n",
    "                thisDiffs = np.array([self.derivF[l](avgUfunc, avgXUfunc) for l in range(1, o-k+2)])\n",
    "                #Loop to apply the chain rule to each element of the observable array\n",
    "                for l in range(x.shape[1]):\n",
    "                    derivVals[o,l] += np.math.factorial(k-1)*((-1/avgXUfunc(0)[l])**k)*bell(o, k, thisDiffs[:,l])\n",
    "                \n",
    "        return derivVals\n"
   ]
  },
  {
   "cell_type": "code",
   "execution_count": 61,
   "metadata": {},
   "outputs": [
    {
     "data": {
      "text/plain": [
       "[0.1, 0.2, 0.3, 0.4]"
      ]
     },
     "execution_count": 61,
     "metadata": {},
     "output_type": "execute_result"
    }
   ],
   "source": [
    "betas"
   ]
  },
  {
   "cell_type": "code",
   "execution_count": 62,
   "metadata": {},
   "outputs": [],
   "source": [
    "xdata = xem.data.xv.values\n",
    "udata = xem.data.uv.values\n",
    "refBeta=0.5"
   ]
  },
  {
   "cell_type": "code",
   "execution_count": 63,
   "metadata": {},
   "outputs": [
    {
     "name": "stdout",
     "output_type": "stream",
     "text": [
      "Model parameters (derivatives):\n",
      "[[ 6.92326220e-01  6.95158101e-01  6.92383757e-01  6.94896673e-01\n",
      "   6.90846049e-01]\n",
      " [ 2.69773834e-04 -2.27673014e-04  4.07282201e-04  1.07002690e-05\n",
      "   2.20961626e-04]\n",
      " [ 4.48585482e-06 -6.47472658e-05  2.02998635e-05  1.12768749e-04\n",
      "  -6.90717840e-05]\n",
      " [-5.07388591e-05  5.69296180e-05 -5.54391284e-05  9.44529753e-05\n",
      "  -6.20967030e-05]\n",
      " [ 1.05400889e-05  2.10718898e-05 -1.32468610e-05 -4.42767814e-05\n",
      "   1.91285621e-05]]\n",
      "\n",
      "\n",
      "Model predictions:\n",
      "[[0.69221867 0.69524399 0.69222247 0.69490141 0.69075214]\n",
      " [0.69224549 0.69522349 0.69226249 0.69489854 0.69077665]\n",
      " [0.69227236 0.69520234 0.69230271 0.69489679 0.69080048]\n",
      " [0.69229927 0.69518054 0.69234313 0.69489617 0.69082361]]\n",
      "\n",
      "\n"
     ]
    }
   ],
   "source": [
    "#Create and train extrapolation model\n",
    "extModelLog = LogAvgExtrapModel(maxOrder=4, refB=refBeta, \n",
    "                                xData=xdata,\n",
    "                                uData=udata,\n",
    "                                )\n",
    "\n",
    "#Note that we handled the -log calculation in the definition of the derivatives (even at zeroth order).\n",
    "#This means we want to just pass data, not the -log of the data.\n",
    "\n",
    "#Check the parameters\n",
    "print(\"Model parameters (derivatives):\")\n",
    "print(extModelLog.params)\n",
    "print('\\n')\n",
    "\n",
    "#Finally, look at predictions\n",
    "print(\"Model predictions:\")\n",
    "print(extModelLog.predict(betas, order=2))\n",
    "print('\\n')"
   ]
  },
  {
   "cell_type": "code",
   "execution_count": 64,
   "metadata": {},
   "outputs": [],
   "source": [
    "xem_log = xpan_beta.factory_extrapmodel(4, refBeta, udata, xdata, \n",
    "                                            xalpha=False, central=False, minus_log=True)"
   ]
  },
  {
   "cell_type": "code",
   "execution_count": 65,
   "metadata": {},
   "outputs": [
    {
     "data": {
      "text/html": [
       "<pre>&lt;xarray.DataArray &#x27;x&#x27; (order: 5, val: 5)&gt;\n",
       "array([[ 0.00000000e+00,  0.00000000e+00,  0.00000000e+00,\n",
       "         0.00000000e+00,  0.00000000e+00],\n",
       "       [ 0.00000000e+00,  0.00000000e+00,  0.00000000e+00,\n",
       "         0.00000000e+00,  0.00000000e+00],\n",
       "       [ 8.47032947e-22, -1.35525272e-20, -5.54637174e-17,\n",
       "         1.35525272e-20,  0.00000000e+00],\n",
       "       [ 5.54637174e-17, -5.56195714e-17, -5.55450325e-17,\n",
       "        -2.78030095e-16, -1.35525272e-20],\n",
       "       [ 3.88318867e-16,  8.34835673e-17,  3.32712848e-16,\n",
       "         2.22417299e-16,  8.30756362e-16]])\n",
       "Dimensions without coordinates: order, val</pre>"
      ],
      "text/plain": [
       "<xarray.DataArray 'x' (order: 5, val: 5)>\n",
       "array([[ 0.00000000e+00,  0.00000000e+00,  0.00000000e+00,\n",
       "         0.00000000e+00,  0.00000000e+00],\n",
       "       [ 0.00000000e+00,  0.00000000e+00,  0.00000000e+00,\n",
       "         0.00000000e+00,  0.00000000e+00],\n",
       "       [ 8.47032947e-22, -1.35525272e-20, -5.54637174e-17,\n",
       "         1.35525272e-20,  0.00000000e+00],\n",
       "       [ 5.54637174e-17, -5.56195714e-17, -5.55450325e-17,\n",
       "        -2.78030095e-16, -1.35525272e-20],\n",
       "       [ 3.88318867e-16,  8.34835673e-17,  3.32712848e-16,\n",
       "         2.22417299e-16,  8.30756362e-16]])\n",
       "Dimensions without coordinates: order, val"
      ]
     },
     "execution_count": 65,
     "metadata": {},
     "output_type": "execute_result"
    }
   ],
   "source": [
    "xem_log.xcoefs(norm=False) - extModelLog.params"
   ]
  },
  {
   "cell_type": "code",
   "execution_count": 66,
   "metadata": {},
   "outputs": [
    {
     "data": {
      "text/html": [
       "<pre>&lt;xarray.DataArray (beta: 4, val: 5)&gt;\n",
       "array([[0.00000000e+00, 0.00000000e+00, 0.00000000e+00, 0.00000000e+00,\n",
       "        0.00000000e+00],\n",
       "       [0.00000000e+00, 0.00000000e+00, 0.00000000e+00, 1.11022302e-16,\n",
       "        0.00000000e+00],\n",
       "       [0.00000000e+00, 0.00000000e+00, 0.00000000e+00, 0.00000000e+00,\n",
       "        0.00000000e+00],\n",
       "       [0.00000000e+00, 0.00000000e+00, 0.00000000e+00, 0.00000000e+00,\n",
       "        0.00000000e+00]])\n",
       "Coordinates:\n",
       "  * beta     (beta) float64 0.1 0.2 0.3 0.4\n",
       "    dalpha   (beta) float64 -0.4 -0.3 -0.2 -0.1\n",
       "    beta0    float64 0.5\n",
       "Dimensions without coordinates: val</pre>"
      ],
      "text/plain": [
       "<xarray.DataArray (beta: 4, val: 5)>\n",
       "array([[0.00000000e+00, 0.00000000e+00, 0.00000000e+00, 0.00000000e+00,\n",
       "        0.00000000e+00],\n",
       "       [0.00000000e+00, 0.00000000e+00, 0.00000000e+00, 1.11022302e-16,\n",
       "        0.00000000e+00],\n",
       "       [0.00000000e+00, 0.00000000e+00, 0.00000000e+00, 0.00000000e+00,\n",
       "        0.00000000e+00],\n",
       "       [0.00000000e+00, 0.00000000e+00, 0.00000000e+00, 0.00000000e+00,\n",
       "        0.00000000e+00]])\n",
       "Coordinates:\n",
       "  * beta     (beta) float64 0.1 0.2 0.3 0.4\n",
       "    dalpha   (beta) float64 -0.4 -0.3 -0.2 -0.1\n",
       "    beta0    float64 0.5\n",
       "Dimensions without coordinates: val"
      ]
     },
     "execution_count": 66,
     "metadata": {},
     "output_type": "execute_result"
    }
   ],
   "source": [
    "xem_log.predict(betas, order=3) - extModelLog.predict(betas, order=3)"
   ]
  },
  {
   "cell_type": "code",
   "execution_count": 67,
   "metadata": {},
   "outputs": [
    {
     "name": "stdout",
     "output_type": "stream",
     "text": [
      "<xarray.DataArray (beta: 4, val: 5)>\n",
      "array([[0.00097982, 0.00096949, 0.00089208, 0.0008623 , 0.0008552 ],\n",
      "       [0.00097688, 0.0009669 , 0.00089064, 0.00086231, 0.00085347],\n",
      "       [0.00097458, 0.00096483, 0.00088979, 0.00086318, 0.00085273],\n",
      "       [0.00097292, 0.00096326, 0.00088954, 0.00086491, 0.00085297]])\n",
      "Coordinates:\n",
      "  * beta     (beta) float64 0.1 0.2 0.3 0.4\n",
      "    dalpha   (beta) float64 -0.4 -0.3 -0.2 -0.1\n",
      "    beta0    float64 0.5\n",
      "Dimensions without coordinates: val\n",
      "1.91 s ± 0 ns per loop (mean ± std. dev. of 1 run, 1 loop each)\n"
     ]
    }
   ],
   "source": [
    "%%timeit -n 1 -r 1\n",
    "print(xem_log.resample(100).predict(betas,order=2).std('rep'))"
   ]
  },
  {
   "cell_type": "code",
   "execution_count": 68,
   "metadata": {},
   "outputs": [
    {
     "name": "stdout",
     "output_type": "stream",
     "text": [
      "Bootstrapped uncertainties in predictions:\n",
      "[[0.00192916 0.00164824 0.00180508 0.00168583 0.00181047]\n",
      " [0.00192294 0.00164835 0.00180356 0.00167088 0.00180307]\n",
      " [0.0019179  0.0016503  0.00180392 0.0016578  0.00179714]\n",
      " [0.00191404 0.00165404 0.00180615 0.00164661 0.00179271]]\n",
      "7.5 s ± 0 ns per loop (mean ± std. dev. of 1 run, 1 loop each)\n"
     ]
    }
   ],
   "source": [
    "%%timeit -n 1 -r 1\n",
    "#And bootstrapped uncertainties\n",
    "print(\"Bootstrapped uncertainties in predictions:\")\n",
    "print(extModelLog.bootstrap(betas, order=2))"
   ]
  },
  {
   "cell_type": "code",
   "execution_count": null,
   "metadata": {},
   "outputs": [],
   "source": []
  }
 ],
 "metadata": {
  "kernelspec": {
   "display_name": "Python [conda env:.conda-py37]",
   "language": "python",
   "name": "conda-env-.conda-py37-py"
  },
  "language_info": {
   "codemirror_mode": {
    "name": "ipython",
    "version": 3
   },
   "file_extension": ".py",
   "mimetype": "text/x-python",
   "name": "python",
   "nbconvert_exporter": "python",
   "pygments_lexer": "ipython3",
   "version": "3.7.7"
  },
  "toc": {
   "base_numbering": 1,
   "nav_menu": {},
   "number_sections": true,
   "sideBar": true,
   "skip_h1_title": false,
   "title_cell": "Table of Contents",
   "title_sidebar": "Contents",
   "toc_cell": false,
   "toc_position": {
    "height": "calc(100% - 180px)",
    "left": "10px",
    "top": "150px",
    "width": "380px"
   },
   "toc_section_display": true,
   "toc_window_display": true
  }
 },
 "nbformat": 4,
 "nbformat_minor": 2
}
