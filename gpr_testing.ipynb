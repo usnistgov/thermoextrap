{
 "cells": [
  {
   "cell_type": "code",
   "execution_count": 1,
   "metadata": {},
   "outputs": [],
   "source": [
    "import numpy as np\n",
    "import gpflow\n",
    "\n",
    "#It's the old package without your updates... can change after sync repository\n",
    "#As such, will need to pull \"master\" for this to work\n",
    "from thermoextrap.xtrapy import core\n",
    "from thermoextrap.xtrapy import xpan_beta\n",
    "from thermoextrap.xtrapy import xpan_volume\n",
    "from thermoextrap.xtrapy import xpan_GPR\n",
    "from thermoextrap import ig\n",
    "\n",
    "import matplotlib.pyplot as plt"
   ]
  },
  {
   "cell_type": "markdown",
   "metadata": {},
   "source": [
    "# Ideal gas comparison"
   ]
  },
  {
   "cell_type": "code",
   "execution_count": 2,
   "metadata": {},
   "outputs": [],
   "source": [
    "ig_model = ig.IGmodel()\n",
    "\n",
    "beta_ref = np.array([0.1, 9.1])\n",
    "\n",
    "ig_states = []\n",
    "for b in beta_ref:\n",
    "    this_dat = ig_model.genData(b, nConfigs=10000)\n",
    "    ig_states.append(xpan_beta.factory_extrapmodel(1, b, this_dat[1], this_dat[0][:, None],\n",
    "                                                   xalpha=False, central=True))\n"
   ]
  },
  {
   "cell_type": "code",
   "execution_count": 4,
   "metadata": {},
   "outputs": [],
   "source": [
    "ig_gpr = xpan_GPR.factory_rbf_gprmodel(ig_states)\n",
    "ig_interp = core.InterpModel(ig_states)"
   ]
  },
  {
   "cell_type": "code",
   "execution_count": 5,
   "metadata": {},
   "outputs": [
    {
     "data": {
      "image/png": "[encoded data removed]",
      "text/plain": [
       "<Figure size 432x288 with 1 Axes>"
      ]
     },
     "metadata": {
      "needs_background": "light"
     },
     "output_type": "display_data"
    }
   ],
   "source": [
    "# %matplotlib notebook\n",
    "\n",
    "beta_vals = np.arange(0.1, 9.15, 0.05)\n",
    "avgX_vals = ig_model.avgX(beta_vals)\n",
    "\n",
    "gpr_mu, gpr_std = ig_gpr.predict(beta_vals)\n",
    "interp_mu = ig_interp.predict(beta_vals)\n",
    "interp_std = ig_interp.resample(100).predict(beta_vals).std('rep')\n",
    "\n",
    "fig, ax = plt.subplots()\n",
    "\n",
    "ax.plot(beta_vals, avgX_vals, 'k--', label='Ground truth')\n",
    "ax.errorbar(beta_vals, np.squeeze(interp_mu), yerr=np.squeeze(interp_std), marker='', label='Polynomial')\n",
    "ax.errorbar(beta_vals, np.squeeze(gpr_mu), yerr=np.squeeze(gpr_std), marker='', label='GPR')\n",
    "\n",
    "ax.legend()\n",
    "\n",
    "ax.set_xlabel(r'$\\beta$')\n",
    "ax.set_ylabel(r'$\\langle x \\rangle$')\n",
    "\n",
    "fig.tight_layout()\n",
    "\n",
    "plt.show()"
   ]
  },
  {
   "cell_type": "code",
   "execution_count": 6,
   "metadata": {},
   "outputs": [
    {
     "name": "stdout",
     "output_type": "stream",
     "text": [
      "╒════════════════╤═══════════╤════════════════╤═════════╤═════════════╤═══════════╤═════════╤══════════════════════════════════════════════════════╕\n",
      "│ name           │ class     │ transform      │ prior   │ trainable   │ shape     │ dtype   │ value                                                │\n",
      "╞════════════════╪═══════════╪════════════════╪═════════╪═════════════╪═══════════╪═════════╪══════════════════════════════════════════════════════╡\n",
      "│ VGP.kernel.var │ Parameter │ Softplus       │         │ True        │ ()        │ float64 │ 0.3982120988122224                                   │\n",
      "├────────────────┼───────────┼────────────────┼─────────┼─────────────┼───────────┼─────────┼──────────────────────────────────────────────────────┤\n",
      "│ VGP.kernel.l   │ Parameter │ Softplus       │         │ True        │ ()        │ float64 │ 9.792524895063172                                    │\n",
      "├────────────────┼───────────┼────────────────┼─────────┼─────────────┼───────────┼─────────┼──────────────────────────────────────────────────────┤\n",
      "│ VGP.q_mu       │ Parameter │ Identity       │         │ False       │ (4, 1)    │ float64 │ [[0.77766837...                                      │\n",
      "├────────────────┼───────────┼────────────────┼─────────┼─────────────┼───────────┼─────────┼──────────────────────────────────────────────────────┤\n",
      "│ VGP.q_sqrt     │ Parameter │ FillTriangular │         │ False       │ (1, 4, 4) │ float64 │ [[[1.44700290e-04, 0.00000000e+00, 0.00000000e+00... │\n",
      "╘════════════════╧═══════════╧════════════════╧═════════╧═════════════╧═══════════╧═════════╧══════════════════════════════════════════════════════╛\n"
     ]
    }
   ],
   "source": [
    "#For GPR, you actually have to train the parameters, unlike with polynomial where they are just known\n",
    "#Look at impact of training a little more\n",
    "#First print current parameters (default training is for 100 steps)\n",
    "gpflow.utilities.print_summary(ig_gpr.gp)"
   ]
  },
  {
   "cell_type": "code",
   "execution_count": 7,
   "metadata": {},
   "outputs": [],
   "source": [
    "#Train for another 100 steps\n",
    "ig_gpr._train_GP(*ig_gpr._collect_data(), opt_steps=100)"
   ]
  },
  {
   "cell_type": "code",
   "execution_count": 8,
   "metadata": {},
   "outputs": [
    {
     "name": "stdout",
     "output_type": "stream",
     "text": [
      "╒════════════════╤═══════════╤════════════════╤═════════╤═════════════╤═══════════╤═════════╤══════════════════════════════════════════════════════╕\n",
      "│ name           │ class     │ transform      │ prior   │ trainable   │ shape     │ dtype   │ value                                                │\n",
      "╞════════════════╪═══════════╪════════════════╪═════════╪═════════════╪═══════════╪═════════╪══════════════════════════════════════════════════════╡\n",
      "│ VGP.kernel.var │ Parameter │ Softplus       │         │ True        │ ()        │ float64 │ 0.39389067673714306                                  │\n",
      "├────────────────┼───────────┼────────────────┼─────────┼─────────────┼───────────┼─────────┼──────────────────────────────────────────────────────┤\n",
      "│ VGP.kernel.l   │ Parameter │ Softplus       │         │ True        │ ()        │ float64 │ 9.747693685281748                                    │\n",
      "├────────────────┼───────────┼────────────────┼─────────┼─────────────┼───────────┼─────────┼──────────────────────────────────────────────────────┤\n",
      "│ VGP.q_mu       │ Parameter │ Identity       │         │ False       │ (4, 1)    │ float64 │ [[0.78350058...                                      │\n",
      "├────────────────┼───────────┼────────────────┼─────────┼─────────────┼───────────┼─────────┼──────────────────────────────────────────────────────┤\n",
      "│ VGP.q_sqrt     │ Parameter │ FillTriangular │         │ False       │ (1, 4, 4) │ float64 │ [[[1.45785486e-04, 0.00000000e+00, 0.00000000e+00... │\n",
      "╘════════════════╧═══════════╧════════════════╧═════════╧═════════════╧═══════════╧═════════╧══════════════════════════════════════════════════════╛\n"
     ]
    }
   ],
   "source": [
    "#Look at parameters again\n",
    "gpflow.utilities.print_summary(ig_gpr.gp)"
   ]
  },
  {
   "cell_type": "markdown",
   "metadata": {},
   "source": [
    "# Water density comparison"
   ]
  },
  {
   "cell_type": "code",
   "execution_count": 9,
   "metadata": {},
   "outputs": [
    {
     "name": "stdout",
     "output_type": "stream",
     "text": [
      "['/Users/jim2/Structure_Extrapolation/water/data/tip4p2005/dens0.87/T300K', '/Users/jim2/Structure_Extrapolation/water/data/tip4p2005/dens0.90/T300K', '/Users/jim2/Structure_Extrapolation/water/data/tip4p2005/dens0.95/T300K', '/Users/jim2/Structure_Extrapolation/water/data/tip4p2005/dens1.00/T300K', '/Users/jim2/Structure_Extrapolation/water/data/tip4p2005/dens1.05/T300K', '/Users/jim2/Structure_Extrapolation/water/data/tip4p2005/dens1.10/T300K', '/Users/jim2/Structure_Extrapolation/water/data/tip4p2005/dens1.15/T300K', '/Users/jim2/Structure_Extrapolation/water/data/tip4p2005/dens1.20/T300K', '/Users/jim2/Structure_Extrapolation/water/data/tip4p2005/dens1.30/T300K', '/Users/jim2/Structure_Extrapolation/water/data/tip4p2005/dens1.40/T300K']\n",
      "[0.87, 0.9, 0.95, 1.0, 1.05, 1.1, 1.15, 1.2, 1.3, 1.4]\n",
      "[3.6378 3.5969 3.5326 3.4727 3.4167 3.3641 3.3147 3.268  3.1819 3.1043]\n"
     ]
    }
   ],
   "source": [
    "import sys, os\n",
    "import glob\n",
    "import simtk.unit as u\n",
    "\n",
    "#Define some constants that we will use\n",
    "kB = u.BOLTZMANN_CONSTANT_kB*u.AVOGADRO_CONSTANT_NA\n",
    "\n",
    "#Figure out the files we want to work with\n",
    "T = 300\n",
    "beta = 1.0/(kB*T*u.kelvin).value_in_unit(u.kilojoule_per_mole)\n",
    "dDirs = glob.glob('/Users/jim2/Structure_Extrapolation/water/data/tip4p2005/dens*/T%iK'%T)\n",
    "dDirs = sorted(dDirs)#[:-1]\n",
    "print(dDirs)\n",
    "\n",
    "#Get actual densities\n",
    "dVals = [float(s.split('/')[-2][4:]) for s in dDirs]\n",
    "print(dVals)\n",
    "\n",
    "edgeVals = np.zeros(len(dVals))\n",
    "#And actual edge lengths because more accurate from the gro files\n",
    "for i, d in enumerate(dDirs):\n",
    "    with open('%s/nvt.gro'%d, 'rb') as f:\n",
    "        f.seek(-2, os.SEEK_END)     # Jump to the second last byte.\n",
    "        while f.read(1) != b\"\\n\":   # Until EOL is found...\n",
    "            f.seek(-2, os.SEEK_CUR) # ...jump back the read byte plus one more.\n",
    "        last = f.readline()         # Read last line.\n",
    "        edgeVals[i] = float(last.strip().split()[-1])\n",
    "print(edgeVals)\n",
    "volVals = edgeVals**3\n",
    "\n",
    "#Define standardized names of files\n",
    "rdfHistFile = 'refT_RDF_histograms.txt'\n",
    "volumeFile = 'refT_volumes.txt'\n",
    "energyFile = 'energy.xvg'\n",
    "rdfFile = 'refT_RDF.txt'\n",
    "threeBodyHistFile = 'refT_3body_histograms.txt'\n",
    "threeBodyFile = 'refT_3body.txt'\n",
    "qFile = 'refT_q.txt' #Just going to work with this one, really\n",
    "probeHSFile = 'refT_PofN.txt'\n",
    "probeHSHistFile = 'refT_PofN_histograms.txt'\n"
   ]
  },
  {
   "cell_type": "code",
   "execution_count": 11,
   "metadata": {},
   "outputs": [
    {
     "name": "stdout",
     "output_type": "stream",
     "text": [
      "\n",
      "\t0.87 g/cm$^3$ :\n",
      "\t\tTrue value: 0.679508 +/- 0.007424\n",
      "\n",
      "\t0.90 g/cm$^3$ :\n",
      "\t\tTrue value: 0.683093 +/- 0.006977\n",
      "\n",
      "\t0.95 g/cm$^3$ :\n",
      "\t\tTrue value: 0.677332 +/- 0.006726\n",
      "\n",
      "\t1.00 g/cm$^3$ :\n",
      "\t\tTrue value: 0.665811 +/- 0.006081\n",
      "\n",
      "\t1.05 g/cm$^3$ :\n",
      "\t\tTrue value: 0.652765 +/- 0.006006\n",
      "\n",
      "\t1.10 g/cm$^3$ :\n",
      "\t\tTrue value: 0.639312 +/- 0.005725\n",
      "\n",
      "\t1.15 g/cm$^3$ :\n",
      "\t\tTrue value: 0.626090 +/- 0.005734\n",
      "\n",
      "\t1.20 g/cm$^3$ :\n",
      "\t\tTrue value: 0.613394 +/- 0.005515\n",
      "\n",
      "\t1.30 g/cm$^3$ :\n",
      "\t\tTrue value: 0.590084 +/- 0.005361\n",
      "\n",
      "\t1.40 g/cm$^3$ :\n",
      "\t\tTrue value: 0.569945 +/- 0.005430\n"
     ]
    }
   ],
   "source": [
    "#Collect data for the tetrahedral order parameter\n",
    "\n",
    "refInds = [0, -1]\n",
    "\n",
    "#Using two most extreme densities for interpolation and GPR training\n",
    "interpqdat = []\n",
    "interpVirialDat = []\n",
    "for ind in refInds:\n",
    "    compDir = dDirs[ind] #'%s/extended_2016.1'%(dDirs[ind]) #dDirs[ind]\n",
    "    interpqdat.append(np.loadtxt('%s/%s'%(compDir, qFile))[:, None])\n",
    "    energyDat = np.loadtxt('%s/%s'%(compDir, energyFile))\n",
    "    virialDat = (-2.0)*(energyDat[:,-3] + energyDat[:,-2] + energyDat[:,-1])\n",
    "    virialDat = beta*virialDat[::5] #Energies saved more frequently than structural data\n",
    "    interpVirialDat.append(virialDat)\n",
    "\n",
    "#Make numpy\n",
    "interpqdat = np.array(interpqdat)\n",
    "interpVirialDat = np.array(interpVirialDat)\n",
    "\n",
    "#Save all true q values as a function of density\n",
    "trueq = np.zeros(len(dDirs))\n",
    "\n",
    "#Loop over all densities\n",
    "for i in np.arange(0, len(dDirs)):\n",
    "    \n",
    "    print('\\n\\t%1.2f'%(dVals[i])+r' g/cm$^3$ :')\n",
    "    \n",
    "    #Load data for the average q at the density we're extrapolating to\n",
    "#     try:\n",
    "#         thisqDat = np.loadtxt('%s/extended_2016.1/%s'%(dDirs[i], qFile))\n",
    "#         print('Using longer sim!')\n",
    "#     except OSError:\n",
    "    thisqDat = np.loadtxt('%s/%s'%(dDirs[i], qFile))\n",
    "\n",
    "    thisq = np.average(thisqDat)\n",
    "    thisqStd = np.std(thisqDat, ddof=1)\n",
    "    trueq[i] = thisq\n",
    "    \n",
    "    print('\\t\\tTrue value: %f +/- %f'%(thisq, thisqStd))\n"
   ]
  },
  {
   "cell_type": "code",
   "execution_count": 12,
   "metadata": {},
   "outputs": [],
   "source": [
    "#Define volume derivative function for q\n",
    "class VolumeDerivFuncsq(object):\n",
    "    \"\"\"Calculates specific derivative values at refV with data x and W.\n",
    "       Only go to first order for volume extrapolation.\n",
    "       Here W represents the virial instead of the potential energy.\n",
    "    \"\"\"\n",
    "    def __init__(self, refV=1.0):\n",
    "        #If do not set refV, assumes virial data is already divided by the reference volume\n",
    "        #If this is not the case, need to set refV\n",
    "        #Or if need refV to also compute custom term, need to specify\n",
    "        self.refV = refV\n",
    "\n",
    "    def __getitem__(self, order):\n",
    "        #Check to make sure not going past first order\n",
    "        if order > 1:\n",
    "            raise ValueError(\"Volume derivatives cannot go past 1st order\"\n",
    "                             +\" and received %i\"%order\n",
    "                             +\"\\n(because would need derivatives of forces)\")\n",
    "        else:\n",
    "            return self.create_deriv_func(order)\n",
    "\n",
    "    def create_deriv_func(self, order):\n",
    "        #Works only because of local scope\n",
    "        #Even if order is defined somewhere outside of this class, won't affect returned func\n",
    "\n",
    "        def func(W, xW):\n",
    "            #Zeroth order derivative\n",
    "            if order == 0:\n",
    "                deriv_val =  xW[0]\n",
    "            #First order derivative\n",
    "            else:\n",
    "                deriv_val = (xW[1] - xW[0]*W[1]) / (3*self.refV)\n",
    "                #No correction term of tetrahedral order parameter q\n",
    "            return deriv_val\n",
    "\n",
    "        return func\n"
   ]
  },
  {
   "cell_type": "code",
   "execution_count": 13,
   "metadata": {},
   "outputs": [],
   "source": [
    "#Set up ExtrapModel states\n",
    "water_states = [core.ExtrapModel(alpha0=volVals[ind], data=xpan_beta.factory_data(uv=interpVirialDat[i],\n",
    "                                                                                  xv=interpqdat[i],\n",
    "                                                                                  order=1,\n",
    "                                                                                  central=False,\n",
    "                                                                                  xalpha=False), \n",
    "                                 coefs=core.Coefs(VolumeDerivFuncsq(refV=volVals[ind])),\n",
    "                                 order=1, minus_log=False, alpha_name='volume')\n",
    "                for i, ind in enumerate(refInds)]\n",
    "\n",
    "#Create interpolation and GPR models\n",
    "water_interp = core.InterpModel(water_states)\n",
    "water_gpr = xpan_GPR.factory_rbf_gprmodel(water_states)"
   ]
  },
  {
   "cell_type": "code",
   "execution_count": 19,
   "metadata": {},
   "outputs": [
    {
     "data": {
      "image/png": "[encoded data removed]",
      "text/plain": [
       "<Figure size 432x288 with 1 Axes>"
      ]
     },
     "metadata": {
      "needs_background": "light"
     },
     "output_type": "display_data"
    }
   ],
   "source": [
    "# %matplotlib notebook\n",
    "\n",
    "vol_vals = np.arange(volVals[0], volVals[-1], -0.1)\n",
    "dens_vals = 1400.0 / (vol_vals*(u.nanometer**3))\n",
    "#Need to convert units\n",
    "dens_vals *= (18.016 * (u.gram / u.mole) / u.AVOGADRO_CONSTANT_NA)\n",
    "dens_vals = dens_vals.value_in_unit(u.gram / (u.centimeter**3))\n",
    "\n",
    "gpr_mu, gpr_std = water_gpr.predict(vol_vals)\n",
    "interp_mu = water_interp.predict(vol_vals)\n",
    "interp_std = water_interp.resample(100).predict(vol_vals).std('rep')\n",
    "\n",
    "fig, ax = plt.subplots()\n",
    "\n",
    "ax.plot(dVals, trueq, 'k--', label='Ground truth')\n",
    "ax.errorbar(dens_vals, np.squeeze(interp_mu), yerr=np.squeeze(interp_std), marker='', label='Polynomial')\n",
    "ax.errorbar(dens_vals, np.squeeze(gpr_mu), yerr=np.squeeze(gpr_std), marker='', label='GPR', zorder=0)\n",
    "\n",
    "ax.legend()\n",
    "\n",
    "ax.set_xlabel(r'Volume (nm$^3$)')\n",
    "ax.set_ylabel(r'Tetrahedral order parameter, $q$')\n",
    "\n",
    "fig.tight_layout()\n",
    "\n",
    "plt.show()"
   ]
  },
  {
   "cell_type": "code",
   "execution_count": 16,
   "metadata": {},
   "outputs": [
    {
     "name": "stdout",
     "output_type": "stream",
     "text": [
      "╒════════════════╤═══════════╤════════════════╤═════════╤═════════════╤═══════════╤═════════╤══════════════════════════════════════════════════════╕\n",
      "│ name           │ class     │ transform      │ prior   │ trainable   │ shape     │ dtype   │ value                                                │\n",
      "╞════════════════╪═══════════╪════════════════╪═════════╪═════════════╪═══════════╪═════════╪══════════════════════════════════════════════════════╡\n",
      "│ VGP.kernel.var │ Parameter │ Softplus       │         │ True        │ ()        │ float64 │ 0.22675974226653092                                  │\n",
      "├────────────────┼───────────┼────────────────┼─────────┼─────────────┼───────────┼─────────┼──────────────────────────────────────────────────────┤\n",
      "│ VGP.kernel.l   │ Parameter │ Softplus       │         │ True        │ ()        │ float64 │ 16.648847813873125                                   │\n",
      "├────────────────┼───────────┼────────────────┼─────────┼─────────────┼───────────┼─────────┼──────────────────────────────────────────────────────┤\n",
      "│ VGP.q_mu       │ Parameter │ Identity       │         │ False       │ (4, 1)    │ float64 │ [[1.42745623...                                      │\n",
      "├────────────────┼───────────┼────────────────┼─────────┼─────────────┼───────────┼─────────┼──────────────────────────────────────────────────────┤\n",
      "│ VGP.q_sqrt     │ Parameter │ FillTriangular │         │ False       │ (1, 4, 4) │ float64 │ [[[2.24366374e-04, 0.00000000e+00, 0.00000000e+00... │\n",
      "╘════════════════╧═══════════╧════════════════╧═════════╧═════════════╧═══════════╧═════════╧══════════════════════════════════════════════════════╛\n"
     ]
    }
   ],
   "source": [
    "#For GPR, you actually have to train the parameters, unlike with polynomial where they are just known\n",
    "#Look at impact of training a little more\n",
    "#First print current parameters (default training is for 100 steps)\n",
    "gpflow.utilities.print_summary(water_gpr.gp)"
   ]
  },
  {
   "cell_type": "code",
   "execution_count": 17,
   "metadata": {},
   "outputs": [],
   "source": [
    "#Train for another 100 steps\n",
    "water_gpr._train_GP(*water_gpr._collect_data(), opt_steps=100)"
   ]
  },
  {
   "cell_type": "code",
   "execution_count": 18,
   "metadata": {},
   "outputs": [
    {
     "name": "stdout",
     "output_type": "stream",
     "text": [
      "╒════════════════╤═══════════╤════════════════╤═════════╤═════════════╤═══════════╤═════════╤══════════════════════════════════════════════════════╕\n",
      "│ name           │ class     │ transform      │ prior   │ trainable   │ shape     │ dtype   │ value                                                │\n",
      "╞════════════════╪═══════════╪════════════════╪═════════╪═════════════╪═══════════╪═════════╪══════════════════════════════════════════════════════╡\n",
      "│ VGP.kernel.var │ Parameter │ Softplus       │         │ True        │ ()        │ float64 │ 0.23296090681020928                                  │\n",
      "├────────────────┼───────────┼────────────────┼─────────┼─────────────┼───────────┼─────────┼──────────────────────────────────────────────────────┤\n",
      "│ VGP.kernel.l   │ Parameter │ Softplus       │         │ True        │ ()        │ float64 │ 16.782050004167914                                   │\n",
      "├────────────────┼───────────┼────────────────┼─────────┼─────────────┼───────────┼─────────┼──────────────────────────────────────────────────────┤\n",
      "│ VGP.q_mu       │ Parameter │ Identity       │         │ False       │ (4, 1)    │ float64 │ [[1.40903931...                                      │\n",
      "├────────────────┼───────────┼────────────────┼─────────┼─────────────┼───────────┼─────────┼──────────────────────────────────────────────────────┤\n",
      "│ VGP.q_sqrt     │ Parameter │ FillTriangular │         │ False       │ (1, 4, 4) │ float64 │ [[[2.21471618e-04, 0.00000000e+00, 0.00000000e+00... │\n",
      "╘════════════════╧═══════════╧════════════════╧═════════╧═════════════╧═══════════╧═════════╧══════════════════════════════════════════════════════╛\n"
     ]
    }
   ],
   "source": [
    "#Look at parameters again\n",
    "gpflow.utilities.print_summary(water_gpr.gp)"
   ]
  },
  {
   "cell_type": "code",
   "execution_count": null,
   "metadata": {},
   "outputs": [],
   "source": []
  }
 ],
 "metadata": {
  "kernelspec": {
   "display_name": "Python 3",
   "language": "python",
   "name": "python3"
  },
  "language_info": {
   "codemirror_mode": {
    "name": "ipython",
    "version": 3
   },
   "file_extension": ".py",
   "mimetype": "text/x-python",
   "name": "python",
   "nbconvert_exporter": "python",
   "pygments_lexer": "ipython3",
   "version": "3.7.3"
  }
 },
 "nbformat": 4,
 "nbformat_minor": 2
}
