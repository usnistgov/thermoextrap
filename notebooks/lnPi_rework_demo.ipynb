{
 "cells": [
  {
   "cell_type": "markdown",
   "id": "c99d7f60",
   "metadata": {},
   "source": [
    "I've retooled some things to make the lnPi exptropolation a bit more convenient\n",
    "\n",
    "1)  Added functions to extrapolate on Just energy $u,u^n, \\delta^n u$.\n",
    "This may be overkill, but it greatly simplifies life if all you want is to extrapolate energy, and only\n",
    "have pre-computed averages as opposed to raw data\n",
    "   \n",
    "2)  To Handle the energy only expansion, I've retooled the Data classes.  If you pass `xv=None`, then it is assumed\n",
    "that `xv = uv`. Additionally, there is a bool parameter `x_is_u`.  If this True, then adjust the properties `self.u`, `self.du`, etc.  Also, this adjust constructors like `DataCentralMoments.from_ave_raw` to accept only moments of `u`\n",
    "and adjust accordingly.  \n",
    "\n",
    "3) Retooled the `meta` parameter in Data classes.  Instead of passing a dict, you now (optionally) pass in a class (or subclass) of DataCallback.  In this class, you can adjust things like `self.deriv_args`, `self.resample`, etc.\n",
    "See `xpan_vol` for an example.\n",
    "\n",
    "4) Used all this to do lnPi extrapolation\n"
   ]
  },
  {
   "cell_type": "code",
   "execution_count": 1,
   "id": "51a7fbaf",
   "metadata": {},
   "outputs": [],
   "source": [
    "import numpy as np\n",
    "import xarray as xr\n",
    "\n",
    "import thermoextrap.xtrapy as xtrapy\n",
    "import thermoextrap.xtrapy.xpan_beta as xpan_beta\n",
    "import thermoextrap.xtrapy.xpan_lnPi as xpan_lnPi"
   ]
  },
  {
   "cell_type": "markdown",
   "id": "9e064a59",
   "metadata": {},
   "source": [
    "# sympy functions for energy"
   ]
  },
  {
   "cell_type": "code",
   "execution_count": 2,
   "id": "50a383b5",
   "metadata": {},
   "outputs": [],
   "source": [
    "def list_derivs(exprs, seq=4, subs=None):\n",
    "    if isinstance(seq, int):\n",
    "        seq = range(seq)\n",
    "    \n",
    "    out = [exprs[i] for i in seq]\n",
    "    if subs is not None:\n",
    "        out = [x.subs(subs) for x in out]\n",
    "    return out"
   ]
  },
  {
   "cell_type": "code",
   "execution_count": 3,
   "id": "faecbfd0",
   "metadata": {},
   "outputs": [
    {
     "name": "stdout",
     "output_type": "stream",
     "text": [
      "no subs\n",
      "[x1, -dxdu[1], dxdu[2], 3*du[2]*dxdu[1] - dxdu[3], -6*du[2]*dxdu[2] - 4*du[3]*dxdu[1] + dxdu[4]]\n",
      "subs\n",
      "[u, -du[2], du[3], 3*du[2]**2 - du[4], -10*du[2]*du[3] + du[5]]\n",
      "u\n",
      "[u, -du[2], du[3], 3*du[2]**2 - du[4], -10*du[2]*du[3] + du[5]]\n"
     ]
    }
   ],
   "source": [
    "dxdu, du = xpan_beta._get_default_indexed('dxdu','du')\n",
    "x1, u = xpan_beta._get_default_symbol('x1','u')\n",
    "\n",
    "seq = range(5)\n",
    "subs = {dxdu[i]: du[i+1] for i in seq}\n",
    "subs[x1] = u\n",
    "\n",
    "\n",
    "x_deriv = xpan_beta.factory_derivatives(name='x_ave', central=True)\n",
    "u_deriv = xpan_beta.factory_derivatives(name='u_ave', central=True)\n",
    "\n",
    "# x derivatives without subs\n",
    "print('no subs')\n",
    "print(list_derivs(x_deriv.exprs, seq=seq))\n",
    "print('subs')\n",
    "print(list_derivs(x_deriv.exprs, seq=seq, subs=subs))\n",
    "print('u')\n",
    "print(list_derivs(u_deriv.exprs, seq=seq))\n"
   ]
  },
  {
   "cell_type": "markdown",
   "id": "69e3e078",
   "metadata": {},
   "source": [
    "$\\newcommand{\\ave}[1]{{\\langle #1 \\rangle}}$\n",
    "The following are avialable for `name`\n",
    "* `x_ave` : central or raw expansion of $\\ave{x}$\n",
    "* `u_ave` : central or raw expansion of $\\ave{u}$\n",
    "* `dun_ave` : central expansion of $\\ave{(\\delta u)^n}$\n",
    "* `dxdun_ave` : central expansion of $\\ave{dx  (\\delta u)^n}$\n",
    "* `un_ave` : raw expansion of $\\ave{u^n}$\n",
    "* `xun_ave`: raw expansion of $\\ave{x u^n}$\n"
   ]
  },
  {
   "cell_type": "code",
   "execution_count": 4,
   "id": "61f3279c",
   "metadata": {},
   "outputs": [
    {
     "name": "stdout",
     "output_type": "stream",
     "text": [
      "[du[2], -du[3], -3*du[2]**2 + du[4], 10*du[2]*du[3] - du[5], 30*du[2]**3 - 15*du[2]*du[4] - 10*du[3]**2 + du[6]]\n"
     ]
    }
   ],
   "source": [
    "f = xpan_beta.factory_derivatives(name='dun_ave', n=2)\n",
    "print(list_derivs(f.exprs, seq=seq))"
   ]
  },
  {
   "cell_type": "markdown",
   "id": "edab9cc4",
   "metadata": {},
   "source": [
    "I've tested all the `u` derivative expressions against the `xu` versions.  See tests/test_u_equations.py.\n",
    "\n",
    "If x=u, then $x u^n$ = $u^{n+1}$.  So need to adjust things in Data classes if want to use energy expansion"
   ]
  },
  {
   "cell_type": "markdown",
   "id": "0afb4b80",
   "metadata": {},
   "source": [
    "## post_func\n",
    "\n",
    "I've also changed how `minus_log` works.  You can still apply it in the Derivatives class, which takes the base derivatives and converts them.  However, to be more general, SymDerivsBeta Take an argument `post_func`.  This can be a callable or a string. String values are `post_func='minus_log'` and `post_func='pow_i'`, (i=2,3,...)."
   ]
  },
  {
   "cell_type": "code",
   "execution_count": 27,
   "id": "ee36a55e",
   "metadata": {},
   "outputs": [
    {
     "name": "stdout",
     "output_type": "stream",
     "text": [
      "[u[1], u[1]**2 - u[2], 2*u[1]**3 - 3*u[1]*u[2] + u[3]]\n",
      "[-log(u[1]), -u[1] + u[2]/u[1], -u[1]**2 + u[2] - u[3]/u[1] + u[2]**2/u[1]**2]\n"
     ]
    }
   ],
   "source": [
    "f_u = xpan_beta.factory_derivatives('u_ave')\n",
    "\n",
    "# can also use post_func = lambda x: -sympy.log(x) for same effect\n",
    "f_logu = xpan_beta.factory_derivatives('u_ave', post_func='minus_log')\n",
    "print(list_derivs(f_u.exprs, seq=range(3)))\n",
    "print(list_derivs(f_logu.exprs, seq=range(3)))\n"
   ]
  },
  {
   "cell_type": "markdown",
   "id": "076d44bc",
   "metadata": {},
   "source": [
    "# Rework data classes\n",
    "\n",
    "Now that we have expressions for the derivatives of $u$, how do we pass in data for them?  "
   ]
  },
  {
   "cell_type": "code",
   "execution_count": 28,
   "id": "a2f5de13",
   "metadata": {},
   "outputs": [],
   "source": [
    "def do_testing(attrs, obj0, obj1, **kwargs):\n",
    "    for attr in attrs:\n",
    "        val0, val1 = [getattr(obj, attr) for obj in (obj0, obj1)]\n",
    "        val1 = val1.transpose(*val0.dims)\n",
    "        np.testing.assert_allclose(val0, val1, **kwargs)\n",
    "\n",
    "def do_testing_gen(central=False, *args, **kwargs):\n",
    "    if central:\n",
    "        attrs = ['du','dxdu','xave']\n",
    "    else:\n",
    "        attrs = ['u','xu']\n",
    "        \n",
    "    return do_testing(attrs, *args, **kwargs)\n",
    "        "
   ]
  },
  {
   "cell_type": "code",
   "execution_count": 29,
   "id": "0644c961",
   "metadata": {},
   "outputs": [],
   "source": [
    "def get_data(u, central=False, order=5, style='factory'):\n",
    "\n",
    "    # pass in x = u\n",
    "    # xv = None => xv = u\n",
    "    if style == 'factory':\n",
    "        factory = xpan_beta.factory_data\n",
    "    elif style == 'central':\n",
    "        factory = xtrapy.DataCentralMoments.from_vals\n",
    "    elif style == 'central_vals':\n",
    "        factory = xtrapy.DataCentralMomentsVals.from_vals\n",
    "    \n",
    "    data_x = factory(uv=u, xv=u, x_is_u=False, order=order, central=central)\n",
    "\n",
    "    # pass in \n",
    "    data_u = factory(uv=u, xv=None, x_is_u=True, order=order, central=central)\n",
    "    \n",
    "    return data_x, data_u\n"
   ]
  },
  {
   "cell_type": "code",
   "execution_count": 30,
   "id": "b592c224",
   "metadata": {},
   "outputs": [
    {
     "name": "stdout",
     "output_type": "stream",
     "text": [
      "<xarray.DataArray 'u' (umom: 6)>\n",
      "array([1.        , 0.49458167, 0.32871062, 0.24598479, 0.19623161,\n",
      "       0.16295016])\n",
      "Dimensions without coordinates: umom\n",
      "<xarray.DataArray 'u' (umom: 7)>\n",
      "array([1.        , 0.49458167, 0.32871062, 0.24598479, 0.19623161,\n",
      "       0.16295016, 0.13910304])\n",
      "Coordinates:\n",
      "  * umom     (umom) int64 0 1 2 3 4 5 6\n"
     ]
    }
   ],
   "source": [
    "n = 2000\n",
    "u = np.random.rand(n)\n",
    "order = 5\n",
    "\n",
    "data_x, data_u = get_data(central=False, u=u)\n",
    "\n",
    "# note that data_u.u has an extra moment.  This comes from xu**n = u**(n+1)\n",
    "print(data_x.u)\n",
    "print(data_u.u)"
   ]
  },
  {
   "cell_type": "code",
   "execution_count": 31,
   "id": "ef027b79",
   "metadata": {},
   "outputs": [
    {
     "name": "stdout",
     "output_type": "stream",
     "text": [
      "<xarray.DataArray 'x' (umom: 6)>\n",
      "array([0.49458167, 0.32871062, 0.24598479, 0.19623161, 0.16295016,\n",
      "       0.13910304])\n",
      "Dimensions without coordinates: umom\n",
      "<xarray.DataArray 'u' (umom: 6)>\n",
      "array([0.49458167, 0.32871062, 0.24598479, 0.19623161, 0.16295016,\n",
      "       0.13910304])\n",
      "Dimensions without coordinates: umom\n"
     ]
    }
   ],
   "source": [
    "# these are the same\n",
    "print(data_x.xu)\n",
    "print(data_u.xu)"
   ]
  },
  {
   "cell_type": "code",
   "execution_count": 32,
   "id": "e0b38044",
   "metadata": {},
   "outputs": [
    {
     "name": "stdout",
     "output_type": "stream",
     "text": [
      "(<xarray.DataArray 'u' (umom: 6)>\n",
      "array([1.        , 0.49458167, 0.32871062, 0.24598479, 0.19623161,\n",
      "       0.16295016])\n",
      "Dimensions without coordinates: umom, <xarray.DataArray 'x' (umom: 6)>\n",
      "array([0.49458167, 0.32871062, 0.24598479, 0.19623161, 0.16295016,\n",
      "       0.13910304])\n",
      "Dimensions without coordinates: umom)\n",
      "(<xarray.DataArray 'u' (umom: 7)>\n",
      "array([1.        , 0.49458167, 0.32871062, 0.24598479, 0.19623161,\n",
      "       0.16295016, 0.13910304])\n",
      "Coordinates:\n",
      "  * umom     (umom) int64 0 1 2 3 4 5 6,)\n"
     ]
    }
   ],
   "source": [
    "# differnet derivs_args in this case\n",
    "print(data_x.derivs_args)\n",
    "print(data_u.derivs_args)"
   ]
  },
  {
   "cell_type": "code",
   "execution_count": 33,
   "id": "1a16b5a8",
   "metadata": {},
   "outputs": [],
   "source": [
    "# testing classes\n",
    "for central in [False, True]:\n",
    "    data_x, data_u = get_data(central=central, u=u)\n",
    "\n",
    "    data_x_c, data_u_c = get_data(central=central, style='central', u=u)\n",
    "    data_x_v, data_u_v = get_data(central=central, style='central_vals', u=u)\n",
    "\n",
    "    do_testing_gen(central, data_x, data_x_c)\n",
    "    do_testing_gen(central, data_u, data_u_c)\n",
    "    do_testing_gen(central, data_x, data_x_v)\n",
    "    do_testing_gen(central, data_u, data_u_v)\n",
    "\n",
    "    # do expansion\n",
    "    beta = 1.0\n",
    "    betas = [0.5, 1.5]\n",
    "\n",
    "    em_x = xpan_beta.factory_extrapmodel(beta=beta, data=data_x, name='x_ave')\n",
    "    em_u = xpan_beta.factory_extrapmodel(beta=beta, data=data_u, name='u_ave')\n",
    "    np.testing.assert_allclose(em_x.predict(betas, cumsum=True), em_u.predict(betas, cumsum=True))\n",
    "    \n",
    "    for d in [data_u_v, data_u_c]:\n",
    "        em_v = xpan_beta.factory_extrapmodel(beta=beta, data=d, name='u_ave')\n",
    "        np.testing.assert_allclose(em_x.predict(betas, cumsum=True), em_v.predict(betas, cumsum=True))\n",
    "        \n",
    "\n"
   ]
  },
  {
   "cell_type": "code",
   "execution_count": 58,
   "id": "b386e02e",
   "metadata": {},
   "outputs": [],
   "source": [
    "# back to minus_log\n",
    "import sympy as sp\n",
    "for d, name in [(data_x, 'x_ave'), (data_u, 'u_ave')]:\n",
    "    em_ref =  xpan_beta.factory_extrapmodel(beta=beta, data=d, name=name)\n",
    "\n",
    "    em_log = [\n",
    "        xpan_beta.factory_extrapmodel(beta=beta, data=d, name=name, post_func='minus_log'),\n",
    "        xpan_beta.factory_extrapmodel(beta=beta, data=d, name=name, post_func=lambda x: -sp.log(x)),\n",
    "    ]\n",
    "\n",
    "    # if using bare funciton, have to pass minus_log to predict method\n",
    "    out_ref = em_ref.predict(betas, cumsum=True, minus_log=True)\n",
    "    for em in em_log:\n",
    "        np.testing.assert_allclose(out_ref, em.predict(betas, cumsum=True))"
   ]
  },
  {
   "cell_type": "markdown",
   "id": "3ee07614",
   "metadata": {},
   "source": [
    "## This also applies to higher moments"
   ]
  },
  {
   "cell_type": "markdown",
   "id": "94cb5efb",
   "metadata": {},
   "source": [
    "## <u**2>"
   ]
  },
  {
   "cell_type": "code",
   "execution_count": 87,
   "id": "ad3dd800",
   "metadata": {},
   "outputs": [],
   "source": [
    "central = False\n",
    "order = 5\n",
    "data_x2 = xtrapy.DataCentralMomentsVals.from_vals(uv=u, xv=u**2, central=central, order=order)\n",
    "# have to use raw moments here.\n",
    "data_u = xtrapy.DataCentralMomentsVals.from_vals(uv=u, xv=None, x_is_u=True, central=central, order=order)"
   ]
  },
  {
   "cell_type": "code",
   "execution_count": 88,
   "id": "b04ab5e4",
   "metadata": {},
   "outputs": [],
   "source": [
    "beta = 1.0\n",
    "em_x2 = xpan_beta.factory_extrapmodel(beta=beta, data=data_x2, name='x_ave', order=order-1)\n",
    "em_u2 = xpan_beta.factory_extrapmodel(beta=beta, data=data_u, name='un_ave', n=2, order=order-1)"
   ]
  },
  {
   "cell_type": "code",
   "execution_count": 89,
   "id": "7aded46f",
   "metadata": {},
   "outputs": [],
   "source": [
    "betas = np.random.rand(4)"
   ]
  },
  {
   "cell_type": "code",
   "execution_count": 90,
   "id": "654b9635",
   "metadata": {},
   "outputs": [],
   "source": [
    "a = em_x2.predict(betas, cumsum=True)\n",
    "b = em_u2.predict(betas, cumsum=True)\n",
    "np.testing.assert_allclose(a, b)"
   ]
  },
  {
   "cell_type": "markdown",
   "id": "365d287d",
   "metadata": {},
   "source": [
    "## <du**2>\n",
    "\n",
    "NOTE: to relate the predicted value of <du**n> to <u**n> ...., have to be smart about stuff"
   ]
  },
  {
   "cell_type": "code",
   "execution_count": 101,
   "id": "0e7bab07",
   "metadata": {},
   "outputs": [],
   "source": [
    "em_u1_sq = xpan_beta.factory_extrapmodel(beta=beta, data=data_u, name='un_ave', n=1, post_func='pow_2', order=order-1)\n",
    "em_du2 = xpan_beta.factory_extrapmodel(beta=beta, data=data_u.assign_params(central=True), name='dun_ave', n=2, order=order-1)"
   ]
  },
  {
   "cell_type": "code",
   "execution_count": 141,
   "id": "5167ad9e",
   "metadata": {},
   "outputs": [],
   "source": [
    "out_du2 = em_du2.predict(betas, cumsum=True)\n",
    "\n",
    "#<du**2> = <u**2> - <u>**2\n",
    "out_u2 = em_u2.predict(betas, cumsum=True)\n",
    "out_u1_sq = em_u1_sq.predict(betas, cumsum=True)\n",
    "\n",
    "np.testing.assert_allclose(out_du2, out_u2 - out_u1_sq)"
   ]
  },
  {
   "cell_type": "code",
   "execution_count": 142,
   "id": "1700004d",
   "metadata": {},
   "outputs": [
    {
     "ename": "AssertionError",
     "evalue": "\nNot equal to tolerance rtol=1e-07, atol=0\n\nMismatched elements: 12 / 20 (60%)\nMax absolute difference: 0.00605186\nMax relative difference: 0.07733669\n x: array([[0.0841  , 0.084184, 0.083553, 0.083552, 0.083556],\n       [0.0841  , 0.084305, 0.080587, 0.080574, 0.080704],\n       [0.0841  , 0.084113, 0.084097, 0.084097, 0.084097],\n       [0.0841  , 0.084242, 0.08245 , 0.082446, 0.082476]])\n y: array([[0.0841  , 0.083156, 0.083552, 0.083557, 0.083556],\n       [0.0841  , 0.078253, 0.080572, 0.080752, 0.080703],\n       [0.0841  , 0.084087, 0.084097, 0.084097, 0.084097],\n       [0.0841  , 0.081325, 0.082445, 0.082487, 0.082476]])",
     "output_type": "error",
     "traceback": [
      "\u001b[0;31m---------------------------------------------------------------------------\u001b[0m",
      "\u001b[0;31mAssertionError\u001b[0m                            Traceback (most recent call last)",
      "Input \u001b[0;32mIn [142]\u001b[0m, in \u001b[0;36m<cell line: 7>\u001b[0;34m()\u001b[0m\n\u001b[1;32m      3\u001b[0m em_u1 \u001b[38;5;241m=\u001b[39m xpan_beta\u001b[38;5;241m.\u001b[39mfactory_extrapmodel(beta\u001b[38;5;241m=\u001b[39mbeta, data\u001b[38;5;241m=\u001b[39mdata_u, name\u001b[38;5;241m=\u001b[39m\u001b[38;5;124m'\u001b[39m\u001b[38;5;124mun_ave\u001b[39m\u001b[38;5;124m'\u001b[39m, n\u001b[38;5;241m=\u001b[39m\u001b[38;5;241m1\u001b[39m, order\u001b[38;5;241m=\u001b[39morder\u001b[38;5;241m-\u001b[39m\u001b[38;5;241m1\u001b[39m)\n\u001b[1;32m      5\u001b[0m out_u1 \u001b[38;5;241m=\u001b[39m em_u1\u001b[38;5;241m.\u001b[39mpredict(betas, cumsum\u001b[38;5;241m=\u001b[39m\u001b[38;5;28;01mTrue\u001b[39;00m)\n\u001b[0;32m----> 7\u001b[0m \u001b[43mnp\u001b[49m\u001b[38;5;241;43m.\u001b[39;49m\u001b[43mtesting\u001b[49m\u001b[38;5;241;43m.\u001b[39;49m\u001b[43massert_allclose\u001b[49m\u001b[43m(\u001b[49m\u001b[43mout_du2\u001b[49m\u001b[43m,\u001b[49m\u001b[43m \u001b[49m\u001b[43mout_u2\u001b[49m\u001b[43m \u001b[49m\u001b[38;5;241;43m-\u001b[39;49m\u001b[43m \u001b[49m\u001b[43mout_u1\u001b[49m\u001b[38;5;241;43m*\u001b[39;49m\u001b[38;5;241;43m*\u001b[39;49m\u001b[38;5;241;43m2\u001b[39;49m\u001b[43m)\u001b[49m\n",
      "    \u001b[0;31m[... skipping hidden 1 frame]\u001b[0m\n",
      "File \u001b[0;32m~/miniforge3/envs/thermoextrap-env/lib/python3.8/site-packages/numpy/testing/_private/utils.py:844\u001b[0m, in \u001b[0;36massert_array_compare\u001b[0;34m(comparison, x, y, err_msg, verbose, header, precision, equal_nan, equal_inf)\u001b[0m\n\u001b[1;32m    840\u001b[0m         err_msg \u001b[38;5;241m+\u001b[39m\u001b[38;5;241m=\u001b[39m \u001b[38;5;124m'\u001b[39m\u001b[38;5;130;01m\\n\u001b[39;00m\u001b[38;5;124m'\u001b[39m \u001b[38;5;241m+\u001b[39m \u001b[38;5;124m'\u001b[39m\u001b[38;5;130;01m\\n\u001b[39;00m\u001b[38;5;124m'\u001b[39m\u001b[38;5;241m.\u001b[39mjoin(remarks)\n\u001b[1;32m    841\u001b[0m         msg \u001b[38;5;241m=\u001b[39m build_err_msg([ox, oy], err_msg,\n\u001b[1;32m    842\u001b[0m                             verbose\u001b[38;5;241m=\u001b[39mverbose, header\u001b[38;5;241m=\u001b[39mheader,\n\u001b[1;32m    843\u001b[0m                             names\u001b[38;5;241m=\u001b[39m(\u001b[38;5;124m'\u001b[39m\u001b[38;5;124mx\u001b[39m\u001b[38;5;124m'\u001b[39m, \u001b[38;5;124m'\u001b[39m\u001b[38;5;124my\u001b[39m\u001b[38;5;124m'\u001b[39m), precision\u001b[38;5;241m=\u001b[39mprecision)\n\u001b[0;32m--> 844\u001b[0m         \u001b[38;5;28;01mraise\u001b[39;00m \u001b[38;5;167;01mAssertionError\u001b[39;00m(msg)\n\u001b[1;32m    845\u001b[0m \u001b[38;5;28;01mexcept\u001b[39;00m \u001b[38;5;167;01mValueError\u001b[39;00m:\n\u001b[1;32m    846\u001b[0m     \u001b[38;5;28;01mimport\u001b[39;00m \u001b[38;5;21;01mtraceback\u001b[39;00m\n",
      "\u001b[0;31mAssertionError\u001b[0m: \nNot equal to tolerance rtol=1e-07, atol=0\n\nMismatched elements: 12 / 20 (60%)\nMax absolute difference: 0.00605186\nMax relative difference: 0.07733669\n x: array([[0.0841  , 0.084184, 0.083553, 0.083552, 0.083556],\n       [0.0841  , 0.084305, 0.080587, 0.080574, 0.080704],\n       [0.0841  , 0.084113, 0.084097, 0.084097, 0.084097],\n       [0.0841  , 0.084242, 0.08245 , 0.082446, 0.082476]])\n y: array([[0.0841  , 0.083156, 0.083552, 0.083557, 0.083556],\n       [0.0841  , 0.078253, 0.080572, 0.080752, 0.080703],\n       [0.0841  , 0.084087, 0.084097, 0.084097, 0.084097],\n       [0.0841  , 0.081325, 0.082445, 0.082487, 0.082476]])"
     ]
    }
   ],
   "source": [
    "#if we naively try the following, we will fail...\n",
    "\n",
    "em_u1 = xpan_beta.factory_extrapmodel(beta=beta, data=data_u, name='un_ave', n=1, order=order-1)\n",
    "\n",
    "out_u1 = em_u1.predict(betas, cumsum=True)\n",
    "\n",
    "np.testing.assert_allclose(out_du2, out_u2 - out_u1**2)\n"
   ]
  },
  {
   "cell_type": "code",
   "execution_count": 154,
   "id": "497ad863",
   "metadata": {},
   "outputs": [],
   "source": [
    "#To fix this, have to handle products correctly\n",
    "\n",
    "# skip summing\n",
    "out_u1 = em_u1.predict(betas, no_sum=True)\n",
    "\n",
    "out_u1u1 = (\n",
    "    (out_u1.rename(order='order_a') * out_u1.rename(order='order_b'))\n",
    "    .assign_coords(order=lambda x: x['order_a'] + x['order_b'])\n",
    "    .groupby('order')\n",
    "    .sum()\n",
    "    .reindex(order=out_u2.order)\n",
    "    .cumsum('order')\n",
    "    \n",
    ")\n",
    "\n",
    "np.testing.assert_allclose(out_du2, out_u2 - out_u1u1)"
   ]
  },
  {
   "cell_type": "markdown",
   "id": "f87d50a5",
   "metadata": {},
   "source": [
    "# lnPi extrapolation"
   ]
  },
  {
   "cell_type": "code",
   "execution_count": 155,
   "id": "62b32e8d",
   "metadata": {},
   "outputs": [],
   "source": [
    "import thermoextrap.xtrapy.xpan_lnPi as xpan_lnPi"
   ]
  },
  {
   "cell_type": "code",
   "execution_count": 159,
   "id": "809b6cce",
   "metadata": {},
   "outputs": [
    {
     "name": "stdout",
     "output_type": "stream",
     "text": [
      "[lnPi0, mudotN - u[1], -u[1]**2 + u[2], -2*u[1]**3 + 3*u[1]*u[2] - u[3]]\n",
      "[lnPi0, mudotN - u, du[2], -du[3]]\n"
     ]
    }
   ],
   "source": [
    "fr = xpan_lnPi.factory_derivatives(name='lnPi', central=False)\n",
    "print(list_derivs(fr.exprs, range(4)))\n",
    "\n",
    "fc = xpan_lnPi.factory_derivatives(name='lnPi', central=True)\n",
    "print(list_derivs(fc.exprs, range(4)))"
   ]
  },
  {
   "cell_type": "markdown",
   "id": "3cb727d5",
   "metadata": {},
   "source": [
    "## expansion\n",
    "tl;dr version"
   ]
  },
  {
   "cell_type": "code",
   "execution_count": 160,
   "id": "b0c09ca7",
   "metadata": {},
   "outputs": [],
   "source": [
    "import json\n",
    "\n",
    "def sample_data():\n",
    "\n",
    "    with open('../tests/lnpi_data/sample_data.json', 'r') as f:\n",
    "        d = json.load(f)\n",
    "\n",
    "    ref, samples = d['ref'], d['samples']\n",
    "#    return ref, samples\n",
    "    for x in [ref] + samples:\n",
    "        # cleanup data\n",
    "        x['lnPi'] = np.array(x['lnPi'])\n",
    "        x['energy'] = np.array(x['energy'])\n",
    "\n",
    "\n",
    "    return ref, samples\n",
    "\n",
    "\n",
    "def prepare_data(lnPi, energy, mu, temp, order, beta):\n",
    "    beta = 1.0 / temp\n",
    "    mu = xr.DataArray(np.atleast_1d(mu), dims=['comp'])\n",
    "    \n",
    "    lnPi = xr.DataArray(lnPi, dims=['n'])\n",
    "    \n",
    "    # adjust lnPi to have lnPi[n=0] = 0\n",
    "    lnPi = lnPi - lnPi.sel(n=0)\n",
    "\n",
    "    # have to include mom = 0\n",
    "    a = np.ones_like(lnPi)\n",
    "    energy = np.concatenate((a[:, None], energy), axis=-1)\n",
    "    energy = xr.DataArray(energy, dims=['n','umom'])\n",
    "    \n",
    "    return {'lnPi': lnPi, 'energy': energy, 'mu': mu, 'beta': beta, 'order': order, 'temp': temp}\n",
    "    \n",
    "\n",
    "\n",
    "ref, samples = sample_data()\n",
    "\n",
    "ref = prepare_data(**ref)\n",
    "samples = [prepare_data(**d) for d in samples]"
   ]
  },
  {
   "cell_type": "code",
   "execution_count": 163,
   "id": "757c9fae",
   "metadata": {},
   "outputs": [],
   "source": [
    "# for energy extrapolation, use the following\n",
    "data_u = xtrapy.DataCentralMoments.from_ave_raw(u=ref['energy'], xu=None, x_is_u=True, central=True, meta=None)\n",
    "em_u = xpan_beta.factory_extrapmodel(beta=ref['beta'], data=data_u, name='u_ave')"
   ]
  },
  {
   "cell_type": "code",
   "execution_count": 164,
   "id": "77cc7d38",
   "metadata": {},
   "outputs": [],
   "source": [
    "# for lnPi extrapolation, we need to setup a DataCallback\n",
    "# see definition in xpan_lnPi\n",
    "# this callback class will adjust things in \n",
    "meta_lnpi = xpan_lnPi.lnPiDataCallback(ref['lnPi'], ref['mu'], dims_n=['n'], dims_comp='comp')\n",
    "# add in meta_lnpi\n",
    "data_lnpi = data_u.new_like(meta=meta_lnpi)\n",
    "\n",
    "\n",
    "em_lnpi = xpan_lnPi.factory_extrapmodel_lnPi(beta=ref['beta'], data=data_lnpi)\n",
    "\n",
    "betas = np.unique([x['beta'] for x in samples])\n",
    "temps = np.round(1. / betas, 3)"
   ]
  },
  {
   "cell_type": "code",
   "execution_count": 165,
   "id": "057e2048",
   "metadata": {},
   "outputs": [],
   "source": [
    "out_lnpi = (\n",
    "    em_lnpi.predict(betas, cumsum=True)\n",
    "    .pipe(lambda x: x - x.sel(n=0))\n",
    "    .assign_coords(temp = lambda x: np.round(1. / x['beta'], 3))\n",
    ")\n",
    "\n",
    "out_u = em_u.predict(betas, cumsum=True)\n"
   ]
  },
  {
   "cell_type": "code",
   "execution_count": 166,
   "id": "11e7b2c9",
   "metadata": {},
   "outputs": [],
   "source": [
    "# test against known results\n",
    "for s in samples:\n",
    "    \n",
    "\n",
    "    a = s['lnPi']\n",
    "    b = out_lnpi.sel(beta=s['beta'], order=s['order'])\n",
    "    np.testing.assert_allclose(a, b)\n",
    "    \n",
    "    # test energies:\n",
    "    a = s['energy'].sel(umom=1)\n",
    "    b = out_u.sel(beta=s['beta'], order=s['order'])\n",
    "    np.testing.assert_allclose(a, b, rtol=1e-5)\n"
   ]
  },
  {
   "cell_type": "code",
   "execution_count": null,
   "id": "5658339c",
   "metadata": {},
   "outputs": [],
   "source": []
  }
 ],
 "metadata": {
  "kernelspec": {
   "display_name": "Python [conda env:thermoextrap-env]",
   "language": "python",
   "name": "conda-env-thermoextrap-env-py"
  },
  "language_info": {
   "codemirror_mode": {
    "name": "ipython",
    "version": 3
   },
   "file_extension": ".py",
   "mimetype": "text/x-python",
   "name": "python",
   "nbconvert_exporter": "python",
   "pygments_lexer": "ipython3",
   "version": "3.8.13"
  },
  "toc": {
   "base_numbering": 1,
   "nav_menu": {},
   "number_sections": true,
   "sideBar": true,
   "skip_h1_title": false,
   "title_cell": "Table of Contents",
   "title_sidebar": "Contents",
   "toc_cell": false,
   "toc_position": {},
   "toc_section_display": true,
   "toc_window_display": true
  }
 },
 "nbformat": 4,
 "nbformat_minor": 5
}
