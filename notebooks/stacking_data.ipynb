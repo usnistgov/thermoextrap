{
 "cells": [
  {
   "cell_type": "code",
   "execution_count": 1,
   "metadata": {},
   "outputs": [],
   "source": [
    "import thermoextrap.xtrapy.xpan_beta as xpan_beta\n",
    "import xarray as xr\n",
    "import numpy as np\n",
    "import thermoextrap.xtrapy.core as xtrapy_core"
   ]
  },
  {
   "cell_type": "code",
   "execution_count": 58,
   "metadata": {},
   "outputs": [],
   "source": [
    "def stack_xr_for_gp(da, xdims, ydims=None, \n",
    "                    xname='xstack',\n",
    "                    yname='ystack',\n",
    "                    variable=None,\n",
    "                    policy='raise'):\n",
    "    \"\"\"\n",
    "    Given an xarray.DataArray, stack into new shape for analysis\n",
    "    \n",
    "    Parameters\n",
    "    ----------\n",
    "    dims_x : str or tuple of strings\n",
    "        dimensions to consider for X\n",
    "    dims_y : str, tuple of strings, optional\n",
    "        if passed, these dimensions are stacked.  If not passed,\n",
    "        use all remaining dimensions\n",
    "    variable : str or tuple of strings, optional\n",
    "        use this to indicate a dimension that contains variables (mean and variance).\n",
    "        This dimenension is moved to the last position.\n",
    "    policy : {'raise', 'infer'}\n",
    "        policy if coordinates not available\n",
    "    \n",
    "    Returns\n",
    "    -------\n",
    "    x : array, shape=(N, D)\n",
    "        feature array to consider.  this will be in the order specified by dims_x\n",
    "    y : array, sahpe=(N, P)\n",
    "    \n",
    "    \n",
    "    \"\"\"\n",
    "    dims = da.dims\n",
    "    for name in [xname, yname]:\n",
    "        if name in dims:\n",
    "            raise ValueError('{} conficts with existing {}'.format(xname, dims))\n",
    "    \n",
    "    if isinstance(xdims, str):\n",
    "        xdims = (xdims,)\n",
    "        \n",
    "    stacker = {xname : xdims}\n",
    "    if isinstance(ydims, str):\n",
    "        ydims = (ydims,)\n",
    "    elif ydims is None:\n",
    "        ydims = tuple(set(dims) - set(xdims))\n",
    "    \n",
    "    if len(ydims) > 0:\n",
    "        stacker[yname] = ydims\n",
    "        \n",
    "    if policy == 'raise':\n",
    "        for dim in xdims:\n",
    "            if dim not in da.coords:\n",
    "                raise ValueError('da.coords[{}] not set'.format(dim))\n",
    "    \n",
    "    out = da.stack(**stacker)\n",
    "    \n",
    "    if variable is not None:\n",
    "        if isinstance(variable, str):\n",
    "            variable = (variable,)\n",
    "        out = out.transpose(...,*variable)\n",
    "    \n",
    "    return out\n",
    "\n",
    "def wrap_like(x, da):\n",
    "    \"\"\"\n",
    "    wrap an array x with properties of da\n",
    "    \"\"\"\n",
    "    return xr.DataArray(x, dims=da.dims, coords=da.coords, indexes=da.indexes, attrs=da.attrs, name=da.name)\n",
    "\n",
    "\n",
    "def get_x_from_stack(stack, xname='xstack'):\n",
    "    \"\"\"\n",
    "    get numpy array of X coordinates\n",
    "    \"\"\"\n",
    "    da = stack[xname]\n",
    "    out = np.array(list(da.values))\n",
    "    return out\n",
    "\n",
    "\n",
    "\n",
    "import pandas as pd\n",
    "def to_ave_var(da, dim_reduce, dim_concat=None, concat_kws=None, reduce_kws=None):\n",
    "    \"\"\"\n",
    "    for a dataarray apply average/variance along a dimension\n",
    "    \n",
    "    new array has dimension `dim_concat` which denotes mean and variance\n",
    "    \n",
    "    \"\"\"\n",
    "    if reduce_kws is None:\n",
    "        reduce_kws = {}\n",
    "    if concat_kws is None:\n",
    "        concat_kws = {}\n",
    "        \n",
    "    if dim_concat is None:\n",
    "        dim_concat = pd.Index(['mean','var'], name='variable')\n",
    "    \n",
    "    return xr.concat(\n",
    "        (da.mean(dim_reduce, **reduce_kws), \n",
    "         da.var(dim_reduce, **reduce_kws)), \n",
    "        dim=dim_concat, **concat_kws)\n",
    "    \n",
    "    \n",
    "    "
   ]
  },
  {
   "cell_type": "code",
   "execution_count": null,
   "metadata": {},
   "outputs": [],
   "source": [
    "class WrapForGP(xtrapy_core.StateCollection):\n",
    "    \n",
    "    def __init__(self, states, \n",
    "                 xdims, \n",
    "                 ydim, \n",
    "                 xname, \n",
    "                 yname, \n",
    "                 ):\n",
    "        \n",
    "    \n",
    "    \n",
    "        \n",
    "    "
   ]
  },
  {
   "cell_type": "code",
   "execution_count": 59,
   "metadata": {},
   "outputs": [],
   "source": [
    "# synthetic data\n",
    "# pretending data for rdf(pair, r)\n",
    "# here, pair is for a-a, a-b, b-b\n",
    "shape = (20, 3, 5)\n",
    "dims = ['rec', 'pair', 'position']\n",
    "\n",
    "coords = {'position': np.linspace(0, 2, shape[-1])}\n",
    "\n",
    "xems = []\n",
    "for beta in [0.1, 10.0]:\n",
    "    x = xr.DataArray(np.random.rand(*shape), dims=dims, coords=coords)\n",
    "    u = xr.DataArray(np.random.rand(shape[0]), dims=dims[0])\n",
    "    data = xpan_beta.DataCentralMomentsVals.from_vals(x, u, order=3, central=True)\n",
    "    xems.append(xpan_beta.factory_extrapmodel(beta, data))\n",
    "\n",
    "s = xtrapy_core.StateCollection(xems)"
   ]
  },
  {
   "cell_type": "code",
   "execution_count": 60,
   "metadata": {},
   "outputs": [],
   "source": [
    "# resample the object to take mean/var\n",
    "sr = s.resample(nrep=100)\n",
    "# create Y data to consider:\n",
    "Y_unstack = xr.concat(\n",
    "    (x.xcoefs(norm=False).pipe(to_ave_var, 'rep') for x in sr), \n",
    "    dim=pd.Index(sr.alpha0, name=sr.alpha_name))"
   ]
  },
  {
   "cell_type": "code",
   "execution_count": 64,
   "metadata": {},
   "outputs": [],
   "source": [
    "Y = stack_xr_for_gp(Y_unstack, xdims=['beta','order'], ydims=['pair','position'], policy='infer', variable='variable')"
   ]
  },
  {
   "cell_type": "code",
   "execution_count": 66,
   "metadata": {},
   "outputs": [],
   "source": [
    "X = get_x_from_stack(Y)"
   ]
  },
  {
   "cell_type": "code",
   "execution_count": 67,
   "metadata": {},
   "outputs": [
    {
     "name": "stdout",
     "output_type": "stream",
     "text": [
      "pair: 0, position: 0.0\n"
     ]
    }
   ],
   "source": [
    "for meta, y in Y.groupby('ystack'):\n",
    "    print('pair: {}, position: {}'.format(*meta))\n",
    "    break"
   ]
  },
  {
   "cell_type": "code",
   "execution_count": 77,
   "metadata": {},
   "outputs": [
    {
     "data": {
      "text/plain": [
       "FrozenList(['beta', 'order'])"
      ]
     },
     "execution_count": 77,
     "metadata": {},
     "output_type": "execute_result"
    }
   ],
   "source": [
    "Y.indexes['xstack'].names"
   ]
  },
  {
   "cell_type": "code",
   "execution_count": null,
   "metadata": {},
   "outputs": [],
   "source": [
    "np.random.rand(100)"
   ]
  },
  {
   "cell_type": "code",
   "execution_count": null,
   "metadata": {},
   "outputs": [],
   "source": [
    "def wrap_X_input_array():\n",
    "    \"\"\"provide an array x with same shape as target X\"\"\"\n",
    "    pass"
   ]
  }
 ],
 "metadata": {
  "kernelspec": {
   "display_name": "Python [conda env:xtrapy-dev]",
   "language": "python",
   "name": "conda-env-xtrapy-dev-py"
  },
  "language_info": {
   "codemirror_mode": {
    "name": "ipython",
    "version": 3
   },
   "file_extension": ".py",
   "mimetype": "text/x-python",
   "name": "python",
   "nbconvert_exporter": "python",
   "pygments_lexer": "ipython3",
   "version": "3.8.6"
  },
  "toc": {
   "base_numbering": 1,
   "nav_menu": {},
   "number_sections": true,
   "sideBar": true,
   "skip_h1_title": false,
   "title_cell": "Table of Contents",
   "title_sidebar": "Contents",
   "toc_cell": false,
   "toc_position": {},
   "toc_section_display": true,
   "toc_window_display": false
  }
 },
 "nbformat": 4,
 "nbformat_minor": 4
}
