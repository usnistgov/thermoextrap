{
 "cells": [
  {
   "cell_type": "code",
   "execution_count": 1,
   "metadata": {},
   "outputs": [],
   "source": [
    "import thermoextrap.xtrapy.xpan_beta as xpan_beta\n",
    "import xarray as xr\n",
    "import numpy as np\n",
    "import thermoextrap.xtrapy.core as xtrapy_core"
   ]
  },
  {
   "cell_type": "code",
   "execution_count": null,
   "metadata": {},
   "outputs": [],
   "source": [
    "def xr_test(a, b):\n",
    "    xr.testing.assert_allclose(a, b.transpose(*a.dims))"
   ]
  },
  {
   "cell_type": "code",
   "execution_count": 140,
   "metadata": {},
   "outputs": [],
   "source": [
    "# synthetic data\n",
    "# pretending data for rdf(pair, r)\n",
    "# here, pair is for a-a, a-b, b-b\n",
    "shape = (20, 3, 5)\n",
    "dims = ['rec', 'pair', 'position']\n",
    "\n",
    "\n",
    "xems = []\n",
    "for beta in [0.1, 10.0]:\n",
    "    x = xr.DataArray(np.random.rand(*shape), dims=dims)\n",
    "    u = xr.DataArray(np.random.rand(shape[0]), dims=dims[0])\n",
    "    data = xpan_beta.DataCentralMomentsVals.from_vals(x, u, order=3, central=True)\n",
    "    xems.append(xpan_beta.factory_extrapmodel(beta, data))"
   ]
  },
  {
   "cell_type": "code",
   "execution_count": 70,
   "metadata": {},
   "outputs": [],
   "source": [
    "def stack_xr_for_gp(da, xdims, ydims=None, \n",
    "                    xname='xstack',\n",
    "                    yname='ystack',\n",
    "                    policy='raise'):\n",
    "    \"\"\"\n",
    "    Given an xarray.DataArray, stack into new shape for analysis\n",
    "    \n",
    "    Parameters\n",
    "    ----------\n",
    "    dims_x : str or tuple of strings\n",
    "        dimensions to consider for X\n",
    "    dims_y : str, tuple of strings, optional\n",
    "        if passed, these dimensions are stacked.  If not passed,\n",
    "        use all remaining dimensions\n",
    "    policy : {'raise', 'infer'}\n",
    "        policy if coordinates not available\n",
    "    \n",
    "    Returns\n",
    "    -------\n",
    "    x : array, shape=(N, D)\n",
    "        feature array to consider.  this will be in the order specified by dims_x\n",
    "    y : array, sahpe=(N, P)\n",
    "    \n",
    "    \n",
    "    \"\"\"\n",
    "    dims = da.dims\n",
    "    for name in [xname, yname]:\n",
    "        if name in dims:\n",
    "            raise ValueError('{} conficts with existing {}'.format(xname, dims))\n",
    "    \n",
    "    if isinstance(xdims, str):\n",
    "        xdims = (xdims,)\n",
    "        \n",
    "    stacker = {xname : xdims}\n",
    "    if isinstance(ydims, str):\n",
    "        ydims = (ydims,)\n",
    "    elif ydims is None:\n",
    "        ydims = tuple(set(dims) - set(xdims))\n",
    "    \n",
    "    if len(ydims) > 0:\n",
    "        stacker[yname] = ydims\n",
    "        \n",
    "    if policy == 'raise':\n",
    "        for dim in xdims:\n",
    "            if dim not in da.coords:\n",
    "                raise ValueError('da.coords[{}] not set'.format(dim))\n",
    "    \n",
    "    out = da.stack(**stacker)\n",
    "    \n",
    "    return out\n",
    "\n",
    "\n",
    "def get_x_from_stack(stack, xname='xstack'):\n",
    "    return np.array(list(stack[xname].values))\n",
    "\n",
    "\n",
    "import pandas as pd\n",
    "def to_ave_var(da, dim_reduce, dim_concat=None, concat_kws=None, reduce_kws=None):\n",
    "    \"\"\"\n",
    "    for a dataarray apply average/variance along a dimension\n",
    "    \"\"\"\n",
    "    if reduce_kws is None:\n",
    "        reduce_kws = {}\n",
    "    if concat_kws is None:\n",
    "        concat_kws = {}\n",
    "        \n",
    "    if dim_concat is None:\n",
    "        dim_concat = pd.Index(['mean','var'], name='variable')\n",
    "    \n",
    "    return xr.concat(\n",
    "        (da.mean(dim_reduce, **reduce_kws), \n",
    "         da.var(dim_reduce, **reduce_kws)), \n",
    "        dim=dim_concat, **concat_kws)\n",
    "    \n",
    "    \n",
    "    "
   ]
  },
  {
   "cell_type": "code",
   "execution_count": 69,
   "metadata": {},
   "outputs": [],
   "source": [
    "s = xtrapy_core.StateCollection(xems)\n",
    "Y = xems[0].xcoefs(norm=False)"
   ]
  },
  {
   "cell_type": "code",
   "execution_count": 71,
   "metadata": {},
   "outputs": [],
   "source": [
    "# stack.values is Y[N, P]\n",
    "stack = stack_xr_for_gp(Y, ('a','b', 'order'), policy='infer')"
   ]
  },
  {
   "cell_type": "code",
   "execution_count": 77,
   "metadata": {},
   "outputs": [
    {
     "data": {
      "text/plain": [
       "array([[0, 0, 0],\n",
       "       [0, 0, 1],\n",
       "       [0, 0, 2],\n",
       "       [0, 0, 3],\n",
       "       [0, 1, 0],\n",
       "       [0, 1, 1],\n",
       "       [0, 1, 2],\n",
       "       [0, 1, 3]])"
      ]
     },
     "execution_count": 77,
     "metadata": {},
     "output_type": "execute_result"
    }
   ],
   "source": [
    "# this is X[N, D]\n",
    "get_x_from_stack(stack)"
   ]
  },
  {
   "cell_type": "code",
   "execution_count": 78,
   "metadata": {},
   "outputs": [
    {
     "name": "stdout",
     "output_type": "stream",
     "text": [
      "(0,) <xarray.DataArray (xstack: 8)>\n",
      "array([ 5.09886627e-01,  9.49579876e-04, -4.00989523e-03,  2.37580532e-04,\n",
      "        5.08380876e-01, -9.40720364e-03, -2.88294278e-03,  2.19793584e-03])\n",
      "Coordinates:\n",
      "  * xstack   (xstack) MultiIndex\n",
      "  - a        (xstack) int64 0 0 0 0 0 0 0 0\n",
      "  - b        (xstack) int64 0 0 0 0 1 1 1 1\n",
      "  - order    (xstack) int64 0 1 2 3 0 1 2 3\n",
      "    ystack   object (0,)\n",
      "(1,) <xarray.DataArray (xstack: 8)>\n",
      "array([ 0.46268571, -0.01036135,  0.0010101 ,  0.00184783,  0.54285313,\n",
      "       -0.00447586,  0.00179578,  0.00098901])\n",
      "Coordinates:\n",
      "  * xstack   (xstack) MultiIndex\n",
      "  - a        (xstack) int64 0 0 0 0 0 0 0 0\n",
      "  - b        (xstack) int64 0 0 0 0 1 1 1 1\n",
      "  - order    (xstack) int64 0 1 2 3 0 1 2 3\n",
      "    ystack   object (1,)\n",
      "(2,) <xarray.DataArray (xstack: 8)>\n",
      "array([ 5.02188288e-01, -7.41753312e-03,  2.62539031e-04,  5.93356094e-04,\n",
      "        4.94726464e-01,  1.41507940e-05, -7.01443938e-04, -3.73269814e-04])\n",
      "Coordinates:\n",
      "  * xstack   (xstack) MultiIndex\n",
      "  - a        (xstack) int64 0 0 0 0 0 0 0 0\n",
      "  - b        (xstack) int64 0 0 0 0 1 1 1 1\n",
      "  - order    (xstack) int64 0 1 2 3 0 1 2 3\n",
      "    ystack   object (2,)\n"
     ]
    }
   ],
   "source": [
    "# loop over \"P\"\n",
    "for ymeta, g in stack.groupby('ystack'):\n",
    "    print(ymeta, g)"
   ]
  },
  {
   "cell_type": "code",
   "execution_count": 81,
   "metadata": {},
   "outputs": [],
   "source": [
    "# toy example for gpflow stuff\n",
    "s = xtrapy_core.StateCollection(xems)"
   ]
  },
  {
   "cell_type": "code",
   "execution_count": 112,
   "metadata": {},
   "outputs": [],
   "source": [
    "import pandas as pd\n",
    "def to_ave_var(da, dim_reduce, dim_concat=None, concat_kws=None, reduce_kws=None):\n",
    "    \"\"\"\n",
    "    for a dataarray apply average/variance along a dimension\n",
    "    \"\"\"\n",
    "    if reduce_kws is None:\n",
    "        reduce_kws = {}\n",
    "    if concat_kws is None:\n",
    "        concat_kws = {}\n",
    "        \n",
    "    if dim_concat is None:\n",
    "        dim_concat = pd.Index(['mean','var'], name='variable')\n",
    "    \n",
    "    return xr.concat(\n",
    "        (da.mean(dim_reduce, **reduce_kws), \n",
    "         da.var(dim_reduce, **reduce_kws)), \n",
    "        dim=dim_concat, **concat_kws)\n",
    "    "
   ]
  },
  {
   "cell_type": "code",
   "execution_count": 129,
   "metadata": {},
   "outputs": [],
   "source": [
    "# resample the object to take mean/var\n",
    "sr = s.resample(nrep=100)"
   ]
  },
  {
   "cell_type": "code",
   "execution_count": 136,
   "metadata": {},
   "outputs": [],
   "source": [
    "Y = xr.concat((x.xcoefs(norm=False).pipe(to_ave_var, 'rep') for x in sr), dim=pd.Index(sr.alpha0, name=sr.alpha_name))"
   ]
  },
  {
   "cell_type": "code",
   "execution_count": 139,
   "metadata": {},
   "outputs": [
    {
     "data": {
      "text/plain": [
       "('beta', 'variable', 'order', 'a', 'b', 'c')"
      ]
     },
     "execution_count": 139,
     "metadata": {},
     "output_type": "execute_result"
    }
   ],
   "source": [
    "Y.dims"
   ]
  },
  {
   "cell_type": "code",
   "execution_count": null,
   "metadata": {},
   "outputs": [],
   "source": [
    "stack_xr_for_gp(Y, xdims=['beta','a','b'])"
   ]
  }
 ],
 "metadata": {
  "kernelspec": {
   "display_name": "Python [conda env:xtrapy-dev]",
   "language": "python",
   "name": "conda-env-xtrapy-dev-py"
  },
  "language_info": {
   "codemirror_mode": {
    "name": "ipython",
    "version": 3
   },
   "file_extension": ".py",
   "mimetype": "text/x-python",
   "name": "python",
   "nbconvert_exporter": "python",
   "pygments_lexer": "ipython3",
   "version": "3.8.6"
  },
  "toc": {
   "base_numbering": 1,
   "nav_menu": {},
   "number_sections": true,
   "sideBar": true,
   "skip_h1_title": false,
   "title_cell": "Table of Contents",
   "title_sidebar": "Contents",
   "toc_cell": false,
   "toc_position": {},
   "toc_section_display": true,
   "toc_window_display": false
  }
 },
 "nbformat": 4,
 "nbformat_minor": 4
}
