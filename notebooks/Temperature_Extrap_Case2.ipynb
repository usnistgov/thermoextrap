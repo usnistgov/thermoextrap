{
 "cells": [
  {
   "cell_type": "code",
   "execution_count": 1,
   "id": "b1b5af15",
   "metadata": {},
   "outputs": [],
   "source": [
    "%matplotlib inline\n",
    "\n",
    "import numpy as np\n",
    "import matplotlib.pyplot as plt\n",
    "import matplotlib as mpl\n",
    "\n",
    "import xarray as xr"
   ]
  },
  {
   "cell_type": "markdown",
   "id": "3aa6a98f",
   "metadata": {},
   "source": [
    "# Extrapolation in temperature"
   ]
  },
  {
   "cell_type": "code",
   "execution_count": 2,
   "id": "d9cfdbdd",
   "metadata": {},
   "outputs": [],
   "source": [
    "#Import idealgas module\n",
    "from thermoextrap import idealgas\n",
    "\n",
    "#Define test betas and reference beta\n",
    "betas = np.arange(0.1, 10.0, 0.5)\n",
    "beta_ref = betas[11]\n",
    "vol = 1.0\n",
    "\n",
    "#Define orders to extrapolate to\n",
    "orders = [1,2,4,6]\n",
    "order = orders[-1]\n",
    "\n",
    "npart = 1000 #Number of particles (in single configuration)\n",
    "nconfig = 100_000 #Number of configurations\n",
    "\n",
    "#Generate all the data we could want\n",
    "xdata, udata = idealgas.generate_data((nconfig, npart), beta_ref, vol)"
   ]
  },
  {
   "cell_type": "markdown",
   "id": "ed1d0e18",
   "metadata": {},
   "source": [
    "## Case 2: Observable is an average with explicit temperature dependence\n",
    "\n",
    "This is a more difficult case because the derivatives are more complicated. However, this case has also been coded in the library. Extra data will need to be provided, but then everything is handled by flags in the code for creating the data and models. The catch is that we cannot foresee every way that an observable may depend on the extrapolation variable. But if the derivatives of the observable being averaged with respect to the extrapolation variable are known up to the desired order, we can incorporate these into our computation of extrapolation and interpolation coefficients. That means these must also be provided with the input data."
   ]
  },
  {
   "cell_type": "markdown",
   "id": "acca7530",
   "metadata": {},
   "source": [
    "For our averaged quantity that depends explicitly on temperature, we select the average dimensionless potential energy of a single ideal gas particle, $\\beta u = \\langle \\beta a x \\rangle = \\langle \\beta x \\rangle$ where $a=1$ for simplicity. The average is over all particles and configurations. \n",
    "\n",
    "Everything can be set up in pretty much the same way as Case 1. EXCEPT that we now have to provide not only data for the observable, but also its derivatives in $\\beta$. The derivatives must be supplied up to the desired maximum order. This is a bit cumbersome in general, but hopefully your explicit dependence is polynomial (as it is here) or exponential in $\\beta$. In these cases, derivatives of arbitrarily high order are trival to compute. \n",
    "\n",
    "So now the observable data can have 3 dimensions - for each configurational snapshot, for each derivative order starting at zero (i.e., the observable value) and going to the maximum desired, and for each element in the observable array. Note that the second dimension represents the derivatives of the observable with respect to the extrapolation variable. So for the first derivative, this is just $x$ in this example and for all subsequent derivatives up to the desired order, we pad with zeros."
   ]
  },
  {
   "cell_type": "code",
   "execution_count": 3,
   "id": "f8fc40ac",
   "metadata": {},
   "outputs": [
    {
     "name": "stdout",
     "output_type": "stream",
     "text": [
      "<xarray.DataArray (deriv: 7, rec: 100000)>\n",
      "array([[0.98212221, 1.02335096, 1.00862512, ..., 1.00180813, 1.04820507,\n",
      "        0.94534612],\n",
      "       [0.17537897, 0.18274124, 0.18011163, ..., 0.17889431, 0.18717948,\n",
      "        0.16881181],\n",
      "       [0.        , 0.        , 0.        , ..., 0.        , 0.        ,\n",
      "        0.        ],\n",
      "       ...,\n",
      "       [0.        , 0.        , 0.        , ..., 0.        , 0.        ,\n",
      "        0.        ],\n",
      "       [0.        , 0.        , 0.        , ..., 0.        , 0.        ,\n",
      "        0.        ],\n",
      "       [0.        , 0.        , 0.        , ..., 0.        , 0.        ,\n",
      "        0.        ]])\n",
      "Coordinates:\n",
      "  * deriv    (deriv) int64 0 1 2 3 4 5 6\n",
      "Dimensions without coordinates: rec\n"
     ]
    }
   ],
   "source": [
    "# You can use numpy and just wrap with xarray after...\n",
    "xdataDepend = np.array([xdata*beta_ref, xdata])\n",
    "xdataDepend = np.vstack((xdataDepend, np.zeros((orders[-1] - 1, xdata.shape[0]))))\n",
    "xdata = xr.DataArray(xdata, dims=['rec'])\n",
    "udata = xr.DataArray(udata, dims=['rec'])\n",
    "#Note the naming of dimensions here and see \"Data_Organization\" for a full explanation\n",
    "xdataDepend = xr.DataArray(xdataDepend, dims=['deriv', 'rec'], coords={'deriv':np.arange(xdataDepend.shape[0])})\n",
    "print(xdataDepend)\n",
    "\n",
    "# # Or you can accomplish this with xarray if you really want to...\n",
    "# xdata = xr.DataArray(xdata, dims=['rec'])\n",
    "# udata = xr.DataArray(udata, dims=['rec'])\n",
    "# xdataDepend = (\n",
    "#     xr.concat([xdata*beta_ref, xdata], dim='deriv')\n",
    "#     .assign_coords(deriv=lambda x: np.arange(x.sizes['deriv']))\n",
    "#     .reindex(deriv=np.arange(orders[-1] + 1))\n",
    "#     .fillna(0.0)\n",
    "# )\n",
    "# print(xdataDepend)"
   ]
  },
  {
   "cell_type": "code",
   "execution_count": 5,
   "id": "540c48f5",
   "metadata": {},
   "outputs": [],
   "source": [
    "import thermoextrap as xtrap"
   ]
  },
  {
   "cell_type": "code",
   "execution_count": 6,
   "id": "187902f9",
   "metadata": {},
   "outputs": [],
   "source": [
    "# Create the model and data, here with the data object just created inside the call for the model\n",
    "# The data is always accessible directly as model.data\n",
    "order = orders[-1]\n",
    "xem_dep = xtrap.beta.factory_extrapmodel(\n",
    "    beta=beta_ref, \n",
    "    data=xtrap.DataCentralMomentsVals.from_vals(\n",
    "        uv=udata,\n",
    "        xv=xdataDepend, \n",
    "        # by specifying deriv dimension, trigger doing coef calculation with explicit derivatives\n",
    "        deriv_dim='deriv',\n",
    "        order=orders[-1],\n",
    "        central=True)\n",
    ")"
   ]
  },
  {
   "cell_type": "code",
   "execution_count": 7,
   "id": "53a58e76",
   "metadata": {},
   "outputs": [
    {
     "name": "stdout",
     "output_type": "stream",
     "text": [
      "Model parameters (derivatives):\n",
      "<xarray.DataArray (order: 7)>\n",
      "array([ 9.79256327e-01,  1.69235005e-02, -2.81177975e-03,  3.68547573e-03,\n",
      "       -4.13110140e-01, -1.15170730e+00,  2.57008474e+02])\n",
      "Dimensions without coordinates: order\n",
      "\n",
      "\n",
      "Model predictions:\n",
      "<xarray.DataArray (beta: 4)>\n",
      "array([0.84364891, 0.85949158, 0.87463131, 0.88906809])\n",
      "Coordinates:\n",
      "  * beta     (beta) float64 0.1 0.6 1.1 1.6\n",
      "    dalpha   (beta) float64 -5.5 -5.0 -4.5 -4.0\n",
      "    beta0    float64 5.6\n",
      "\n",
      "\n"
     ]
    }
   ],
   "source": [
    "#Check the derivatives\n",
    "print(\"Model parameters (derivatives):\")\n",
    "print(xem_dep.derivs(norm=False))\n",
    "print('\\n')\n",
    "\n",
    "#Finally, look at predictions\n",
    "print(\"Model predictions:\")\n",
    "print(xem_dep.predict(betas[:4], order=2))\n",
    "print('\\n')"
   ]
  },
  {
   "cell_type": "code",
   "execution_count": 9,
   "id": "a20e2bf9",
   "metadata": {},
   "outputs": [
    {
     "name": "stdout",
     "output_type": "stream",
     "text": [
      "Bootstrapped uncertainties in predictions:\n",
      "<xarray.DataArray (beta: 4)>\n",
      "array([0.09110029, 0.07536066, 0.06111397, 0.0483602 ])\n",
      "Coordinates:\n",
      "  * beta     (beta) float64 0.1 0.6 1.1 1.6\n",
      "    dalpha   (beta) float64 -5.5 -5.0 -4.5 -4.0\n",
      "    beta0    float64 5.6\n"
     ]
    }
   ],
   "source": [
    "#And bootstrapped uncertainties\n",
    "print(\"Bootstrapped uncertainties in predictions:\")\n",
    "print(xem_dep.resample(nrep=100, parallel=True).predict(betas[:4], order=2).std('rep'))"
   ]
  },
  {
   "cell_type": "code",
   "execution_count": 10,
   "id": "9282a13a",
   "metadata": {},
   "outputs": [
    {
     "name": "stdout",
     "output_type": "stream",
     "text": [
      "True extrapolation coefficients: [ 9.79215103e-01  1.71504528e-02 -1.35661750e-02  1.00692980e-02\n",
      " -6.72191329e-03  3.62437174e-03 -9.32132566e-04]\n",
      "\t With N_configs =     10: [ 9.83859898e-01  1.52775972e-02  5.09485565e-01  5.75140011e+00\n",
      " -1.04366485e+02 -4.54077006e+02  3.97961905e+04]\n",
      "\t With N_configs =    100: [ 9.79012116e-01  9.92472942e-03  1.89719184e-01 -7.36494494e-02\n",
      " -4.04475172e-01  9.75674823e+01 -3.23973309e+03]\n",
      "\t With N_configs =   1000: [ 9.80403689e-01  2.21911804e-02  4.43088684e-02 -7.43352345e-01\n",
      "  1.95159021e+00  1.20466291e+02 -2.12494307e+03]\n",
      "\t With N_configs =  10000: [ 9.79003020e-01  1.17267826e-02 -1.06087172e-02 -3.64141049e-01\n",
      "  3.51932673e+00 -1.02181652e+02  2.89690218e+03]\n",
      "\t With N_configs = 100000: [ 9.79256327e-01  1.69235005e-02 -2.81177975e-03  3.68547573e-03\n",
      " -4.13110140e-01 -1.15170730e+00  2.57008474e+02]\n"
     ]
    },
    {
     "data": {
      "image/png": "[encoded data removed]",
      "text/plain": [
       "<Figure size 432x288 with 4 Axes>"
      ]
     },
     "metadata": {
      "needs_background": "light"
     },
     "output_type": "display_data"
    }
   ],
   "source": [
    "fig, ax = plt.subplots(len(orders), sharex=True, sharey=True)\n",
    "\n",
    "nsampvals = np.array((10.0*np.ones(5))**np.arange(1,6), dtype=int)\n",
    "nsampcolors = plt.cm.viridis(np.arange(0.0, 1.0, float(1.0/len(nsampvals))))\n",
    "\n",
    "#First plot the analytical result\n",
    "for a in ax:\n",
    "    a.plot(betas, betas*idealgas.x_ave(betas, vol), 'k--', linewidth=2.0)\n",
    "\n",
    "#Next look at extrapolation with an infinite number of samples\n",
    "#This is possible in the ideal gas model in both temperature and volume\n",
    "for j, o in enumerate(orders):\n",
    "    trueExtrap, trueDerivs = idealgas.x_beta_extrap_depend(o, beta_ref, betas, vol)\n",
    "    ax[j].plot(betas, trueExtrap, 'r-', zorder=0)\n",
    "    if j == len(orders)-1:\n",
    "        print('True extrapolation coefficients: {}'.format(trueDerivs))\n",
    "\n",
    "for i, n in enumerate(nsampvals):\n",
    "    thisinds = np.random.choice(len(xdata), size=n, replace=False)\n",
    "    \n",
    "    #Get parameters for extrapolation model with this data by training it - the parameters are the derivatives\n",
    "    xem_dep = xtrap.beta.factory_extrapmodel(\n",
    "        beta=beta_ref, \n",
    "        xalpha=True,\n",
    "        data=xtrap.beta.DataCentralMomentsVals.from_vals(uv=udata[thisinds], \n",
    "                                                  xv=xdataDepend.sel(rec=thisinds), \n",
    "                                                  deriv_dim='deriv', central=True, order=order))\n",
    "    \n",
    "    out = xem_dep.predict(betas, cumsum=True)\n",
    "    print('\\t With N_configs = {:6}: {}'.format(n, xem_dep.derivs(norm=False).values.flatten()))\n",
    "    for j, o in enumerate(orders):\n",
    "        out.sel(order=o).plot(marker='s', ms=4, color=nsampcolors[i], ls='None', label='N={}'.format(n), ax=ax[j])\n",
    "\n",
    "ax[2].set_ylabel(r'$\\langle \\beta x \\rangle$')\n",
    "ax[-1].set_xlabel(r'$\\beta$')\n",
    "\n",
    "for j, o in enumerate(orders):\n",
    "    ax[j].annotate('O(%i) Extrapolation'%(o), xy=(0.4, 0.7), xycoords='axes fraction')\n",
    "\n",
    "ax[-1].set_ylim((0.0, 2.0))\n",
    "ax[-1].yaxis.set_major_locator(mpl.ticker.MaxNLocator(nbins=4, prune='both'))\n",
    "\n",
    "fig.tight_layout()\n",
    "fig.subplots_adjust(hspace=0.0)\n",
    "\n",
    "for a in ax:\n",
    "    a.set_title(None)\n",
    "\n",
    "plt.show()\n"
   ]
  },
  {
   "cell_type": "markdown",
   "id": "132c7e9b",
   "metadata": {},
   "source": [
    "In each of the figures, the true behavior is shown as a black dashed line, the analytical result (infinite sampling) for each order of extrapolation is shown as a red solid line and the results with 10, 100, 1000, ... 100000 randomly sampled configurations are shown with purple (fewer samples) to green (more samples) circles. For higher order extrapolation, the analytical, infinite sampling result matches very closely with the true temperature dependence of $\\langle x \\rangle$. However, the finite-sampling results are in practice very poor due to difficulties in accurately estimating the higher-order moments of the potential energy distribution. The higher orders are actually quite accurate (if you try zooming in) close to the point we're extrapolating from, but the error grows very quickly as we move further away."
   ]
  },
  {
   "cell_type": "code",
   "execution_count": null,
   "id": "cbd8009f",
   "metadata": {},
   "outputs": [],
   "source": []
  }
 ],
 "metadata": {
  "hide_input": false,
  "kernelspec": {
   "display_name": "Python [conda env:thermoextrap-env]",
   "language": "python",
   "name": "conda-env-thermoextrap-env-py"
  },
  "language_info": {
   "codemirror_mode": {
    "name": "ipython",
    "version": 3
   },
   "file_extension": ".py",
   "mimetype": "text/x-python",
   "name": "python",
   "nbconvert_exporter": "python",
   "pygments_lexer": "ipython3",
   "version": "3.8.13"
  },
  "toc": {
   "base_numbering": 1,
   "nav_menu": {},
   "number_sections": true,
   "sideBar": true,
   "skip_h1_title": false,
   "title_cell": "Table of Contents",
   "title_sidebar": "Contents",
   "toc_cell": false,
   "toc_position": {},
   "toc_section_display": true,
   "toc_window_display": false
  }
 },
 "nbformat": 4,
 "nbformat_minor": 5
}
