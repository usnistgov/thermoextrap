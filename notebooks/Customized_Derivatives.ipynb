{
 "cells": [
  {
   "cell_type": "code",
   "execution_count": 1,
   "id": "9b91eb5b",
   "metadata": {},
   "outputs": [],
   "source": [
    "%matplotlib inline\n",
    "\n",
    "import numpy as np\n",
    "import matplotlib.pyplot as plt\n",
    "import matplotlib as mpl\n",
    "\n",
    "import xarray as xr"
   ]
  },
  {
   "cell_type": "markdown",
   "id": "b0c9b0a2",
   "metadata": {},
   "source": [
    "# Customized Derivatives"
   ]
  },
  {
   "cell_type": "markdown",
   "id": "368ac3ae",
   "metadata": {},
   "source": [
    "## Extrapolation in volume\n",
    "\n",
    "There may be some cases where a custom derivative needs to be written. Most likely, this will be when you can't write the necessary averages in terms of the observable and a specific Hamiltonian or thermodynamic conjugate variable. For instance, this might occur when extrapolating over volume in the NVT ensemble (see https://aip.scitation.org/doi/10.1063/5.0014282). In these cases, it is useful to know how to write custom derivative calculation functions and merge them back into the capabilities of the `thermoextrap` package."
   ]
  },
  {
   "cell_type": "markdown",
   "id": "2fce93f2",
   "metadata": {},
   "source": [
    "This example will be based on the code found in xpan_vol.py, with sections of that file reproduced here for pedogogical purposes.\n",
    "\n",
    "First, it is useful to know the structure of how extrapolation coefficients (derivatives) are calculated in `thermoextrap`. Handily, there is a class called `Coefs` that uses functions or arrays of functions to compute derivatives at specific orders. Typically, these functions are generated using sympy based on known relationships between the derivatives and moments of the observable and Hamiltonian. However, they can instead be specified manually."
   ]
  },
  {
   "cell_type": "code",
   "execution_count": 2,
   "id": "8c6813de",
   "metadata": {},
   "outputs": [
    {
     "name": "stdout",
     "output_type": "stream",
     "text": [
      "Help on class Coefs in module thermoextrap.xtrapy.core:\n",
      "\n",
      "class Coefs(builtins.object)\n",
      " |  Coefs(funcs, exprs=None)\n",
      " |  \n",
      " |  class to handle coefficients in taylor expansion\n",
      " |  \n",
      " |  Methods defined here:\n",
      " |  \n",
      " |  __init__(self, funcs, exprs=None)\n",
      " |      Parameters\n",
      " |      ----------\n",
      " |      funcs : array-like\n",
      " |          array of functions.\n",
      " |          funcs[n] is the nth derivative of function\n",
      " |      exprs : array-like, optional\n",
      " |          optional placeholder for sympy expressions corresponding to the\n",
      " |          lambdified functions in `funcs`\n",
      " |  \n",
      " |  coefs(self, *args, order, norm=True, minus_log=False)\n",
      " |  \n",
      " |  xcoefs(self, data, order=None, norm=True, minus_log=False, order_dim='order')\n",
      " |  \n",
      " |  ----------------------------------------------------------------------\n",
      " |  Class methods defined here:\n",
      " |  \n",
      " |  from_sympy(exprs, args) from builtins.type\n",
      " |  \n",
      " |  ----------------------------------------------------------------------\n",
      " |  Data descriptors defined here:\n",
      " |  \n",
      " |  __dict__\n",
      " |      dictionary for instance variables (if defined)\n",
      " |  \n",
      " |  __weakref__\n",
      " |      list of weak references to the object (if defined)\n",
      "\n"
     ]
    }
   ],
   "source": [
    "from thermoextrap.xtrapy.core import Coefs\n",
    "\n",
    "help(Coefs)    "
   ]
  },
  {
   "cell_type": "markdown",
   "id": "21e65981",
   "metadata": {},
   "source": [
    "Our goal here will be to extrapolate in volume (or 1D length) for the 1D ideal gas test system.\n",
    "\n",
    "To extrapolate in volume we need observable values at each snapshot along with values of the virial at each snapshot. For the ideal gas system, the virial is given by $W = -\\sum_{i} \\frac{\\mathrm{d}U}{\\mathrm{d}x_{i}} x_{i} = -\\sum_{i} a x_{i}$, which for $a=1$ leads us to $W = -N \\langle x \\rangle$, where the average is over all particles of a given configuration. For the purposes of extrapolation, we need a dimensionless virial, so $W$ will be multiplied by $\\beta$.\n",
    "\n",
    "For any observable, there is a unique term that appears in the derivative with respect to system size or volume, specifically $\\langle \\sum_{i} \\frac{\\partial Y}{\\partial x_i} x_{i}$ where $Y$ is the observable and $x_i$ is the $i^\\mathrm{th}$ degree of freedom. In the ideal gas system at hand, $Y = \\frac{1}{N} \\sum_{i} x_{i}$ so that this correction term is equal to the observable itself, $Y = \\langle x \\rangle$, with again the average here only over all particles. It is interesting that the virial is then exactly $N$ times larger than this correction term. This is typical, as the virial will scale with the number of degrees of freedom in the system. As a result the correction term is 1000 times smaller than the other two terms appearing in the first derivative with respect to system size, $L$. However, the other two terms nearly cancel, resulting in a small difference the same order of magnitude as the correction term. For any system you work with, you should check the magnitude of the unique correction term, either visually or by deriving and computing it."
   ]
  },
  {
   "cell_type": "markdown",
   "id": "2da5dcb2",
   "metadata": {},
   "source": [
    "Getting back to the code, below is a custom derivative calculation function appearing in xpan_vol.py. This will actually work for any extrapolation in volume for the NVT ensemble, not just for the 1D ideal gas test system."
   ]
  },
  {
   "cell_type": "code",
   "execution_count": 3,
   "id": "2eb7cb6f",
   "metadata": {},
   "outputs": [],
   "source": [
    "class VolumeDerivFuncs(object):\n",
    "    \"\"\"Calculates specific derivative values at refV with data x and W.\n",
    "    Only go to first order for volume extrapolation.\n",
    "    Here W represents the virial instead of the potential energy.\n",
    "    \"\"\"\n",
    "\n",
    "    def __getitem__(self, order):\n",
    "        # Check to make sure not going past first order\n",
    "        if order > 1:\n",
    "            raise ValueError(\n",
    "                \"Volume derivatives cannot go past 1st order\"\n",
    "                + \" and received %i\" % order\n",
    "                + \"\\n(because would need derivatives of forces)\"\n",
    "            )\n",
    "        else:\n",
    "            return self.create_deriv_func(order)\n",
    "\n",
    "    @staticmethod\n",
    "    def create_deriv_func(order):\n",
    "\n",
    "        def func(W, xW, dxdq, volume, ndim=1):\n",
    "            \"\"\"\n",
    "            dxdq is <sum_{i=1}^N dy/dx_i x_i>\n",
    "\n",
    "            for ideal gas\n",
    "            \"\"\"\n",
    "            # NOTE: W here has beta in it:\n",
    "            # that is W <- beta * virial\n",
    "\n",
    "            # Zeroth order derivative\n",
    "            if order == 0:\n",
    "                deriv_val = xW[0]\n",
    "            # First order derivative\n",
    "            else:\n",
    "                deriv_val = (-xW[0] * W[1] + xW[1] + dxdq) / (volume * ndim)\n",
    "            return deriv_val\n",
    "\n",
    "        return func\n"
   ]
  },
  {
   "cell_type": "markdown",
   "id": "c799b342",
   "metadata": {},
   "source": [
    "There are two key components in the above class: a `__getitem__` method and a `create_deriv_func` method. `__getitem__` is used to specify which order of derivative we want and return it - if this was an array of functions, we could just store the array and access them for the appropriate order. Here, this method just ensures that we don't try and go past 1st order in our derivatives (because that is not implemented) and returns the derivative function shown. The `create_deriv_func` returns the appropriate derivative at the specified order. The function it returns takes as inputs the virial moments (would be array of potential energy moments in other scenarios), array of moments of the product of $x$ and $W$, an explicit derivative term for of the observable with respect to the extrapolation variable, and the volume (or $L$ for the 1D ideal gas here). The last argument, `ndim`, is the dimensionality of the system, so just 1 for the 1D ideal gas, but would be 3 in more typical systems."
   ]
  },
  {
   "cell_type": "code",
   "execution_count": 4,
   "id": "2c27655b",
   "metadata": {},
   "outputs": [],
   "source": [
    "# Import idealgas module\n",
    "from thermoextrap.xtrapy import idealgas\n",
    "\n",
    "# Set temperature and volumes\n",
    "beta = 1.0\n",
    "volumes = np.arange(0.5, 10.0, 0.5)\n",
    "\n",
    "# Define our reference size to extrapolated from\n",
    "volume_ref = volumes[9]\n",
    "\n",
    "npart = 1000 #Number of particles (in single configuration)\n",
    "nconfig = 100_000 #Number of configurations\n",
    "\n",
    "# And generate new data at this reference size, using a beta of 1.0 for simplicity\n",
    "xdatavol, udatavol = idealgas.generate_data((nconfig, npart), beta=beta, vol=volume_ref)\n",
    "\n",
    "# Wrap with xarray\n",
    "xdatavol = xr.DataArray(xdatavol, dims=['rec'])\n",
    "udatavol = xr.DataArray(udatavol, dims=['rec'])\n",
    "\n",
    "#For the IG model, this is the same as the negative of the number of particles multiplied by the average position\n",
    "#(for a=1)\n",
    "#And we have to multiply by beta to make the virial dimensionless\n",
    "wdatavol = -1.0 * npart * xdatavol"
   ]
  },
  {
   "cell_type": "markdown",
   "id": "81486abb",
   "metadata": {},
   "source": [
    "Next we create and train our volume extrapolation model and check its outputs. You can look at `factory_extrapmodel` in xpan_vol.py, but it's nearly identical to that in xpan_beta.py, but uses specialized data objects and Coefs models. We have already demonstrated above how to specify custom derivatives for the Coefs model.\n",
    "\n",
    "To create a special data object, follow `DataValuesVolume` in xpan_vol.py, reproduced below, where a base data class is extended to also track the quantity `dxdqv`, or the specific derivative of the observable with respect to the extrapolation variable and is unique for every observable (see https://aip.scitation.org/doi/10.1063/5.0014282). Basically, extra data information can be passed in to the argument `meta` as a dictionary, which allows the base `DataValues` class to be extend with additional arguments. These arguments can be accessed and checked since they will be crucial information passed to the custom derivative calculation function. Note that there is a method `xcoefs_args` that is provided to the function to calculate coefficients, which should mirror the input structure in the above custom derivative function, as this describes what from the data gets passed to that function."
   ]
  },
  {
   "cell_type": "code",
   "execution_count": 7,
   "id": "d41c23ca",
   "metadata": {},
   "outputs": [],
   "source": [
    "from thermoextrap.xtrapy.data import DataValues\n",
    "\n",
    "class DataValuesVolume(DataValues):\n",
    "    def __init__(\n",
    "        self,\n",
    "        uv,\n",
    "        xv,\n",
    "        order,\n",
    "        meta,\n",
    "        rec_dim=\"rec\",\n",
    "        umom_dim=\"umom\",\n",
    "        deriv_dim=None,\n",
    "        skipna=False,\n",
    "        chunk=None,\n",
    "        compute=None,\n",
    "        build_aves_kws=None,\n",
    "    ):\n",
    "\n",
    "        for k in [\"volume\", \"dxdqv\"]:\n",
    "            assert k in meta\n",
    "\n",
    "        if \"ndim\" not in meta:\n",
    "            meta[\"ndim\"] = 3\n",
    "\n",
    "        super(DataValuesVolume, self).__init__(\n",
    "            uv=uv,\n",
    "            xv=xv,\n",
    "            order=order,\n",
    "            skipna=skipna,\n",
    "            rec_dim=rec_dim,\n",
    "            umom_dim=umom_dim,\n",
    "            deriv_dim=deriv_dim,\n",
    "            chunk=chunk,\n",
    "            compute=compute,\n",
    "            build_aves_kws=build_aves_kws,\n",
    "            # meta data:\n",
    "            meta=meta,\n",
    "        )\n",
    "\n",
    "    def dxdq(self):\n",
    "        return self.meta[\"dxdqv\"].mean(self.rec_dim, skipna=self.skipna)\n",
    "\n",
    "    def resample_meta(self, indices):\n",
    "        # resample \"other\" arrays\n",
    "        out = self.meta.copy()\n",
    "        out[\"dxdqv\"] = out[\"dxdqv\"][indices]\n",
    "        return out\n",
    "    \n",
    "    @property\n",
    "    def xcoefs_args(self):\n",
    "        return (\n",
    "            self.u_selector,\n",
    "            self.xu_selector,\n",
    "            self.dxdq,\n",
    "            self.meta[\"volume\"],\n",
    "            self.meta[\"ndim\"],\n",
    "        )\n"
   ]
  },
  {
   "cell_type": "code",
   "execution_count": 8,
   "id": "18fc9dc9",
   "metadata": {},
   "outputs": [],
   "source": [
    "import thermoextrap.xtrapy.xpan_vol as xpan_vol\n",
    "import thermoextrap.xtrapy.xpan_vol_ig as xpan_vol_ig"
   ]
  },
  {
   "cell_type": "code",
   "execution_count": 9,
   "id": "9fa6ec8c",
   "metadata": {},
   "outputs": [],
   "source": [
    "xemv = xpan_vol.factory_extrapmodel(\n",
    "    volume=volume_ref,\n",
    "    # this is acually w\n",
    "    uv=wdatavol,\n",
    "    xv=xdatavol,\n",
    "    # dxdqv = single observation of sum(dx/dq_i q_i) where q_i is the ith coordinate\n",
    "    # for ideal gas, this is just xdata\n",
    "    dxdqv=xdatavol,\n",
    "    ndim=1\n",
    ")"
   ]
  },
  {
   "cell_type": "code",
   "execution_count": 10,
   "id": "0172e876",
   "metadata": {},
   "outputs": [
    {
     "name": "stdout",
     "output_type": "stream",
     "text": [
      "Model parameters (derivatives):\n",
      "[0.96591177 0.02706932]\n",
      "\n",
      "\n",
      "Model predictions:\n",
      "[0.84409984 0.8576345  0.87116916 0.88470382]\n",
      "\n",
      "\n",
      "Bootstrapped uncertainties in predictions:\n",
      "[0.00347274 0.00308669 0.00270069 0.00231479]\n"
     ]
    }
   ],
   "source": [
    "#Check the computation of derivatives\n",
    "print(\"Model parameters (derivatives):\")\n",
    "print(xemv.xcoefs(norm=False).values)\n",
    "print('\\n')\n",
    "\n",
    "#Finally, look at predictions\n",
    "print(\"Model predictions:\")\n",
    "print(xemv.predict(volumes[:4]).values)\n",
    "print('\\n')\n",
    "\n",
    "#And bootstrapped uncertainties\n",
    "print(\"Bootstrapped uncertainties in predictions:\")\n",
    "print(xemv.resample(nrep=100).predict(volumes[:4]).std('rep').values)"
   ]
  },
  {
   "cell_type": "code",
   "execution_count": 11,
   "id": "8029bcaf",
   "metadata": {},
   "outputs": [
    {
     "name": "stdout",
     "output_type": "stream",
     "text": [
      "True extrapolation coefficients: [0.96608173 0.02736471]\n",
      "\t With N_configs =     10: [0.97748851 0.02103266]\n",
      "\t With N_configs =    100: [0.96609484 0.03666314]\n",
      "\t With N_configs =   1000: [0.96442797 0.024789  ]\n",
      "\t With N_configs =  10000: [0.96600138 0.02653583]\n",
      "\t With N_configs = 100000: [0.96591177 0.02706932]\n"
     ]
    },
    {
     "data": {
      "image/png": "[encoded data removed]",
      "text/plain": [
       "<Figure size 432x288 with 1 Axes>"
      ]
     },
     "metadata": {
      "needs_background": "light"
     },
     "output_type": "display_data"
    }
   ],
   "source": [
    "fig, ax = plt.subplots()\n",
    "\n",
    "nsampvals = np.array((10.0*np.ones(5))**np.arange(1,6), dtype=int)\n",
    "nsampcolors = plt.cm.viridis(np.arange(0.0, 1.0, float(1.0/len(nsampvals))))\n",
    "\n",
    "#First plot the analytical result\n",
    "ax.plot(volumes, idealgas.x_ave(beta, volumes), 'k--', linewidth=2.0)\n",
    "\n",
    "#And the infinite sampling results for first order extrapolation\n",
    "trueExtrap, trueDerivs = idealgas.x_vol_extrap(1, volume_ref, volumes, beta=beta)\n",
    "ax.plot(volumes, trueExtrap, 'r-', zorder=0)\n",
    "print('True extrapolation coefficients: {}'.format(trueDerivs))\n",
    "\n",
    "for i, n in enumerate(nsampvals):\n",
    "    thisinds = np.random.choice(len(xdatavol), size=n, replace=False)\n",
    "    \n",
    "    #Get parameters for extrapolation model with this data by training it - the parameters are the derivatives\n",
    "    xemv = xpan_vol.factory_extrapmodel(\n",
    "        volume=volume_ref,\n",
    "        # this is acually w\n",
    "        uv=wdatavol[thisinds],\n",
    "        xv=xdatavol[thisinds],\n",
    "        dxdqv=xdatavol[thisinds],\n",
    "        ndim=1\n",
    "    )\n",
    "    \n",
    "    out = xemv.predict(volumes)\n",
    "    print('\\t With N_configs = %6i: %s'%(n, str(xemv.xcoefs(norm=False).values)))\n",
    "    \n",
    "    out.plot(marker='s', ms=4, color=nsampcolors[i], ls='None', label='N={}'.format(n), \n",
    "                              ax=ax)\n",
    "\n",
    "ax.set_ylabel(r'$\\langle x \\rangle$')\n",
    "ax.set_xlabel(r'$L$')\n",
    "\n",
    "ax.annotate('O(1) Extrapolation', xy=(0.4, 0.7), xycoords='axes fraction', fontsize=9)\n",
    "\n",
    "ax.set_ylim((-1.0, 4.0))\n",
    "ax.yaxis.set_major_locator(mpl.ticker.MaxNLocator(nbins=4, prune='both'))\n",
    "\n",
    "fig.tight_layout()\n",
    "fig.subplots_adjust(hspace=0.0)\n",
    "\n",
    "ax.set_title(None)\n",
    "\n",
    "plt.legend()\n",
    "plt.show()"
   ]
  },
  {
   "cell_type": "code",
   "execution_count": null,
   "id": "08486c54",
   "metadata": {},
   "outputs": [],
   "source": []
  }
 ],
 "metadata": {
  "hide_input": false,
  "kernelspec": {
   "display_name": "Python [conda env:thermoextrap-env]",
   "language": "python",
   "name": "conda-env-thermoextrap-env-py"
  },
  "language_info": {
   "codemirror_mode": {
    "name": "ipython",
    "version": 3
   },
   "file_extension": ".py",
   "mimetype": "text/x-python",
   "name": "python",
   "nbconvert_exporter": "python",
   "pygments_lexer": "ipython3",
   "version": "3.8.6"
  }
 },
 "nbformat": 4,
 "nbformat_minor": 5
}
