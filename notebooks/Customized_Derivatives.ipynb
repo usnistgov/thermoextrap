{
 "cells": [
  {
   "cell_type": "code",
   "execution_count": 1,
   "id": "9b91eb5b",
   "metadata": {
    "execution": {
     "iopub.execute_input": "2022-08-26T19:37:26.779786Z",
     "iopub.status.busy": "2022-08-26T19:37:26.779451Z",
     "iopub.status.idle": "2022-08-26T19:37:28.331388Z",
     "shell.execute_reply": "2022-08-26T19:37:28.330708Z"
    }
   },
   "outputs": [],
   "source": [
    "%matplotlib inline\n",
    "\n",
    "import numpy as np\n",
    "import matplotlib.pyplot as plt\n",
    "import matplotlib as mpl\n",
    "\n",
    "import xarray as xr"
   ]
  },
  {
   "cell_type": "markdown",
   "id": "b0c9b0a2",
   "metadata": {},
   "source": [
    "# Customized Derivatives"
   ]
  },
  {
   "cell_type": "markdown",
   "id": "368ac3ae",
   "metadata": {},
   "source": [
    "## Extrapolation in volume\n",
    "\n",
    "There may be some cases where a custom derivative needs to be written. Most likely, this will be when you can't write the necessary averages in terms of the observable and a specific Hamiltonian or thermodynamic conjugate variable. For instance, this might occur when extrapolating over volume in the NVT ensemble (see https://aip.scitation.org/doi/10.1063/5.0014282). In these cases, it is useful to know how to write custom derivative calculation functions and merge them back into the capabilities of the `thermoextrap` package."
   ]
  },
  {
   "cell_type": "markdown",
   "id": "2fce93f2",
   "metadata": {},
   "source": [
    "This example will be based on the code found in xtrap.volume.py, with sections of that file reproduced here for pedogogical purposes.\n",
    "\n",
    "First, it is useful to know the structure of how extrapolation coefficients (derivatives) are calculated in `thermoextrap`. Handily, there is a class called `Derivatives` that uses functions or arrays of functions to compute derivatives at specific orders. Typically, these functions are generated using sympy based on known relationships between the derivatives and moments of the observable and Hamiltonian. However, they can instead be specified manually."
   ]
  },
  {
   "cell_type": "code",
   "execution_count": 2,
   "id": "face54a8",
   "metadata": {
    "execution": {
     "iopub.execute_input": "2022-08-26T19:37:28.335570Z",
     "iopub.status.busy": "2022-08-26T19:37:28.335303Z",
     "iopub.status.idle": "2022-08-26T19:37:29.276053Z",
     "shell.execute_reply": "2022-08-26T19:37:29.275534Z"
    }
   },
   "outputs": [
    {
     "name": "stdout",
     "output_type": "stream",
     "text": [
      "Help on class Derivatives in module thermoextrap.core.models:\n",
      "\n",
      "class Derivatives(builtins.object)\n",
      " |  Derivatives(funcs, exprs=None, args=None)\n",
      " |  \n",
      " |  Class to wrap functions calculating derivatives to specified order\n",
      " |  \n",
      " |  \n",
      " |  Parameters\n",
      " |  ----------\n",
      " |  funcs : seqeunce of callables\n",
      " |      funcs[i](*args) gives the ith derivative\n",
      " |  exprs : sequence sympy expresions, optional\n",
      " |      expressions corresponding to the `funcs`\n",
      " |      Mostly for debuggin purposes.\n",
      " |  \n",
      " |  Methods defined here:\n",
      " |  \n",
      " |  __call__(self, data=None, order=None, args=None, minus_log=False, order_dim='order', concat_kws=None, norm=False)\n",
      " |      alias to self.derivs\n",
      " |  \n",
      " |  __init__(self, funcs, exprs=None, args=None)\n",
      " |      Initialize self.  See help(type(self)) for accurate signature.\n",
      " |  \n",
      " |  coefs(self, data=None, args=None, order=None, minus_log=False, order_dim='order')\n",
      " |      same as `self.derivs(..., norm=True)`\n",
      " |  \n",
      " |  derivs(self, data=None, order=None, args=None, minus_log=False, order_dim='order', concat_kws=None, norm=False)\n",
      " |      Calculate derivatives for orders range(0, order+1)\n",
      " |      \n",
      " |      Parameters\n",
      " |      ----------\n",
      " |      data : AbstracData subclass\n",
      " |          If passed, use `args=data.derivs_args`\n",
      " |      order : int, optional\n",
      " |          If pass `data` and `order` is `None`, then `order=data.order`\n",
      " |          Otherwise, must mass order\n",
      " |      args : tuple\n",
      " |          arguments passed to self.funcs[i](*args)\n",
      " |      minus_log : bool, default=False\n",
      " |          If `True`, apply tranform for `Y = -log(<X>)`\n",
      " |      order_dim : str, default='order'\n",
      " |          If `None`, output will be a list\n",
      " |          If `order_dim` is a string, then apply `xarray.concat` to output\n",
      " |          To yield a single DataArray\n",
      " |      concat_kws : dict, optional\n",
      " |          extra arguments to `xarray.concat`\n",
      " |      norm : bool, default=False\n",
      " |          If true, then normalize derivatives by `1/n!`, where `n` is the order of\n",
      " |          the derivative.  That is, transform derivatives to taylor series coefficients\n",
      " |          See also taylor_series_norm\n",
      " |      \n",
      " |      Returns\n",
      " |      -------\n",
      " |      output : list of xarray.DataArray\n",
      " |          See above for nature of output\n",
      " |  \n",
      " |  ----------------------------------------------------------------------\n",
      " |  Class methods defined here:\n",
      " |  \n",
      " |  from_sympy(exprs, args) from builtins.type\n",
      " |  \n",
      " |  ----------------------------------------------------------------------\n",
      " |  Data descriptors defined here:\n",
      " |  \n",
      " |  __dict__\n",
      " |      dictionary for instance variables (if defined)\n",
      " |  \n",
      " |  __weakref__\n",
      " |      list of weak references to the object (if defined)\n",
      "\n"
     ]
    }
   ],
   "source": [
    "from thermoextrap.core.models import Derivatives\n",
    "\n",
    "help(Derivatives)    "
   ]
  },
  {
   "cell_type": "markdown",
   "id": "21e65981",
   "metadata": {},
   "source": [
    "Our goal here will be to extrapolate in volume (or 1D length) for the 1D ideal gas test system.\n",
    "\n",
    "To extrapolate in volume we need observable values at each snapshot along with values of the virial at each snapshot. For the ideal gas system, the virial is given by $W = -\\sum_{i} \\frac{\\mathrm{d}U}{\\mathrm{d}x_{i}} x_{i} = -\\sum_{i} a x_{i}$, which for $a=1$ leads us to $W = -N \\langle x \\rangle$, where the average is over all particles of a given configuration. For the purposes of extrapolation, we need a dimensionless virial, so $W$ will be multiplied by $\\beta$.\n",
    "\n",
    "For any observable, there is a unique term that appears in the derivative with respect to system size or volume, specifically $\\langle \\sum_{i} \\frac{\\partial Y}{\\partial x_i} x_{i}$ where $Y$ is the observable and $x_i$ is the $i^\\mathrm{th}$ degree of freedom. In the ideal gas system at hand, $Y = \\frac{1}{N} \\sum_{i} x_{i}$ so that this correction term is equal to the observable itself, $Y = \\langle x \\rangle$, with again the average here only over all particles. It is interesting that the virial is then exactly $N$ times larger than this correction term. This is typical, as the virial will scale with the number of degrees of freedom in the system. As a result the correction term is 1000 times smaller than the other two terms appearing in the first derivative with respect to system size, $L$. However, the other two terms nearly cancel, resulting in a small difference the same order of magnitude as the correction term. For any system you work with, you should check the magnitude of the unique correction term, either visually or by deriving and computing it."
   ]
  },
  {
   "cell_type": "markdown",
   "id": "2da5dcb2",
   "metadata": {},
   "source": [
    "Getting back to the code, below is a custom derivative calculation function appearing in xtrap.volume.py. This will actually work for any extrapolation in volume for the NVT ensemble, not just for the 1D ideal gas test system."
   ]
  },
  {
   "cell_type": "code",
   "execution_count": 3,
   "id": "2eb7cb6f",
   "metadata": {
    "execution": {
     "iopub.execute_input": "2022-08-26T19:37:29.279537Z",
     "iopub.status.busy": "2022-08-26T19:37:29.279195Z",
     "iopub.status.idle": "2022-08-26T19:37:29.285423Z",
     "shell.execute_reply": "2022-08-26T19:37:29.284478Z"
    }
   },
   "outputs": [],
   "source": [
    "class VolumeDerivFuncs(object):\n",
    "    \"\"\"Calculates specific derivative values at refV with data x and W.\n",
    "    Only go to first order for volume extrapolation.\n",
    "    Here W represents the virial instead of the potential energy.\n",
    "    \"\"\"\n",
    "\n",
    "    def __getitem__(self, order):\n",
    "        # Check to make sure not going past first order\n",
    "        if order > 1:\n",
    "            raise ValueError(\n",
    "                \"Volume derivatives cannot go past 1st order\"\n",
    "                + \" and received %i\" % order\n",
    "                + \"\\n(because would need derivatives of forces)\"\n",
    "            )\n",
    "        else:\n",
    "            return self.create_deriv_func(order)\n",
    "\n",
    "    @staticmethod\n",
    "    def create_deriv_func(order):\n",
    "\n",
    "        def func(W, xW, dxdq, volume, ndim=1):\n",
    "            \"\"\"\n",
    "            dxdq is <sum_{i=1}^N dy/dx_i x_i>\n",
    "            \"\"\"\n",
    "            # NOTE: W here has beta in it:\n",
    "            # that is W <- beta * virial\n",
    "\n",
    "            # Zeroth order derivative\n",
    "            if order == 0:\n",
    "                deriv_val = xW[0]\n",
    "            # First order derivative\n",
    "            else:\n",
    "                deriv_val = (-xW[0] * W[1] + xW[1] + dxdq) / (volume * ndim)\n",
    "            return deriv_val\n",
    "\n",
    "        return func\n"
   ]
  },
  {
   "cell_type": "markdown",
   "id": "c799b342",
   "metadata": {},
   "source": [
    "There are two key components in the above class: a `__getitem__` method and a `create_deriv_func` method. `__getitem__` is used to specify which order of derivative we want and return it - if this was an array of functions, we could just store the array and access them for the appropriate order. Here, this method just ensures that we don't try and go past 1st order in our derivatives (because that is not implemented) and returns the derivative function shown. The `create_deriv_func` returns the appropriate derivative at the specified order. The function it returns takes as inputs the virial moments (would be array of potential energy moments in other scenarios), array of moments of the product of $x$ and $W$, an explicit derivative term for of the observable with respect to the extrapolation variable, and the volume (or $L$ for the 1D ideal gas here). The last argument, `ndim`, is the dimensionality of the system, so just 1 for the 1D ideal gas, but would be 3 in more typical systems."
   ]
  },
  {
   "cell_type": "code",
   "execution_count": 4,
   "id": "2c27655b",
   "metadata": {
    "execution": {
     "iopub.execute_input": "2022-08-26T19:37:29.288556Z",
     "iopub.status.busy": "2022-08-26T19:37:29.288348Z",
     "iopub.status.idle": "2022-08-26T19:37:32.439945Z",
     "shell.execute_reply": "2022-08-26T19:37:32.438931Z"
    }
   },
   "outputs": [],
   "source": [
    "# Import idealgas module\n",
    "from thermoextrap import idealgas\n",
    "\n",
    "# Set temperature and volumes\n",
    "beta = 1.0\n",
    "volumes = np.arange(0.5, 10.0, 0.5)\n",
    "\n",
    "# Define our reference size to extrapolated from\n",
    "volume_ref = volumes[9]\n",
    "\n",
    "npart = 1000 #Number of particles (in single configuration)\n",
    "nconfig = 100_000 #Number of configurations\n",
    "\n",
    "# And generate new data at this reference size, using a beta of 1.0 for simplicity\n",
    "xdatavol, udatavol = idealgas.generate_data((nconfig, npart), beta=beta, vol=volume_ref)\n",
    "\n",
    "# Wrap with xarray\n",
    "xdatavol = xr.DataArray(xdatavol, dims=['rec'])\n",
    "udatavol = xr.DataArray(udatavol, dims=['rec'])\n",
    "\n",
    "#For the IG model, the virial W is the same as the negative of the number of particles multiplied by the average position\n",
    "#(for a=1)\n",
    "#And we have to multiply by beta to make the virial dimensionless\n",
    "wdatavol = -1.0 * npart * xdatavol"
   ]
  },
  {
   "cell_type": "markdown",
   "id": "81486abb",
   "metadata": {},
   "source": [
    "Next we create and train our volume extrapolation model and check its outputs. You can look at `factory_extrapmodel` in xtrap.volume.py, but it's nearly identical to that in xpan_beta.py, but uses specialized data callbacks and `Derivatives` models. We have already demonstrated above how to specify custom derivatives for the `Derivatives` model.\n",
    "\n",
    "To create a special callback in a data object, follow `VolumeDataCallback` in xtrap.volume.py, reproduced below. Passing such callbacks to a data object through the argument `meta` is a very flexible way to adjust the data structures and information provided when calculating derivatives. Here, we extend the data class to also track the quantity `dxdqv`, or the specific derivative of the observable with respect to the extrapolation variable and is unique for every observable (see https://aip.scitation.org/doi/10.1063/5.0014282).\n",
    "\n",
    "Basically, the argument `meta` takes one of these custom callbacks with the implemented methods shown below (ignore `dxdqv`, though, as that is specific to this case). You must implement methods to define the names of extra parameters `param_names`, to resample, and to pass extra information to the derivative calculation function `deriv_args`. Note that the method `deriv_args` should mirror the input structure in the above custom derivative function, with extra arguments from the callback added to what is typically passed through the `deriv_args` function of the base data class (specifically, the potential energy moments and $xU$ moments, which here are virial and $xW$ moments)."
   ]
  },
  {
   "cell_type": "code",
   "execution_count": 5,
   "id": "d41c23ca",
   "metadata": {
    "execution": {
     "iopub.execute_input": "2022-08-26T19:37:32.444939Z",
     "iopub.status.busy": "2022-08-26T19:37:32.444514Z",
     "iopub.status.idle": "2022-08-26T19:37:32.452451Z",
     "shell.execute_reply": "2022-08-26T19:37:32.451361Z"
    }
   },
   "outputs": [],
   "source": [
    "from thermoextrap.core.cached_decorators import gcached\n",
    "from thermoextrap.core.data import DataCallbackABC\n",
    "\n",
    "class VolumeDataCallback(DataCallbackABC):\n",
    "    \"\"\"\n",
    "    object to handle callbacks of metadata\n",
    "    \"\"\"\n",
    "\n",
    "    def __init__(self, volume, dxdqv, ndim=3):\n",
    "        self.volume = volume\n",
    "        self.dxdqv = dxdqv\n",
    "        self.ndim = ndim\n",
    "\n",
    "    def check(self, data):\n",
    "        pass\n",
    "\n",
    "    @property\n",
    "    def param_names(self):\n",
    "        return [\"volume\", \"dxdqv\", \"ndim\"]\n",
    "\n",
    "    @gcached(prop=False)\n",
    "    def dxdq(self, rec_dim, skipna):\n",
    "        return self.dxdqv.mean(rec_dim, skipna=skipna)\n",
    "\n",
    "    def resample(self, data, meta_kws, indices, **kws):\n",
    "        return self.new_like(dxdqv=self.dxdqv[indices])\n",
    "\n",
    "    def derivs_args(self, data, derivs_args):\n",
    "        return tuple(derivs_args) + (\n",
    "            self.dxdq(data.rec_dim, data.skipna),\n",
    "            self.volume,\n",
    "            self.ndim,\n",
    "        )\n"
   ]
  },
  {
   "cell_type": "code",
   "execution_count": 6,
   "id": "18fc9dc9",
   "metadata": {
    "execution": {
     "iopub.execute_input": "2022-08-26T19:37:32.456254Z",
     "iopub.status.busy": "2022-08-26T19:37:32.455923Z",
     "iopub.status.idle": "2022-08-26T19:37:32.459422Z",
     "shell.execute_reply": "2022-08-26T19:37:32.458757Z"
    }
   },
   "outputs": [],
   "source": [
    "import thermoextrap as xtrap"
   ]
  },
  {
   "cell_type": "code",
   "execution_count": 7,
   "id": "9fa6ec8c",
   "metadata": {
    "execution": {
     "iopub.execute_input": "2022-08-26T19:37:32.462868Z",
     "iopub.status.busy": "2022-08-26T19:37:32.462578Z",
     "iopub.status.idle": "2022-08-26T19:37:32.466448Z",
     "shell.execute_reply": "2022-08-26T19:37:32.465728Z"
    }
   },
   "outputs": [],
   "source": [
    "xemv = xtrap.volume.factory_extrapmodel(\n",
    "    volume=volume_ref,\n",
    "    # this is acually w\n",
    "    uv=wdatavol,\n",
    "    xv=xdatavol,\n",
    "    # dxdqv = single observation of sum(dx/dq_i q_i) where q_i is the ith coordinate\n",
    "    # for ideal gas, this is just xdata\n",
    "    dxdqv=xdatavol,\n",
    "    ndim=1\n",
    ")"
   ]
  },
  {
   "cell_type": "code",
   "execution_count": 8,
   "id": "0172e876",
   "metadata": {
    "execution": {
     "iopub.execute_input": "2022-08-26T19:37:32.469730Z",
     "iopub.status.busy": "2022-08-26T19:37:32.469461Z",
     "iopub.status.idle": "2022-08-26T19:37:32.863212Z",
     "shell.execute_reply": "2022-08-26T19:37:32.862533Z"
    }
   },
   "outputs": [
    {
     "name": "stdout",
     "output_type": "stream",
     "text": [
      "Model parameters (derivatives):\n",
      "[0.96594061 0.02781829]\n",
      "\n",
      "\n",
      "Model predictions:\n",
      "[0.84075833 0.85466747 0.86857661 0.88248576]\n",
      "\n",
      "\n",
      "Bootstrapped uncertainties in predictions:\n",
      "[0.00371863 0.00330594 0.00289328 0.00248066]\n"
     ]
    }
   ],
   "source": [
    "#Check the computation of derivatives\n",
    "print(\"Model parameters (derivatives):\")\n",
    "print(xemv.derivs(norm=False).values)\n",
    "print('\\n')\n",
    "\n",
    "#Finally, look at predictions\n",
    "print(\"Model predictions:\")\n",
    "print(xemv.predict(volumes[:4]).values)\n",
    "print('\\n')\n",
    "\n",
    "#And bootstrapped uncertainties\n",
    "print(\"Bootstrapped uncertainties in predictions:\")\n",
    "print(xemv.resample(nrep=100).predict(volumes[:4]).std('rep').values)"
   ]
  },
  {
   "cell_type": "code",
   "execution_count": 9,
   "id": "8029bcaf",
   "metadata": {
    "execution": {
     "iopub.execute_input": "2022-08-26T19:37:32.866435Z",
     "iopub.status.busy": "2022-08-26T19:37:32.866184Z",
     "iopub.status.idle": "2022-08-26T19:37:33.399315Z",
     "shell.execute_reply": "2022-08-26T19:37:33.398564Z"
    }
   },
   "outputs": [
    {
     "name": "stdout",
     "output_type": "stream",
     "text": [
      "True extrapolation coefficients: [0.96608173 0.02736471]\n",
      "\t With N_configs =     10: [ 0.97315039 -0.10576882]\n",
      "\t With N_configs =    100: [0.96393431 0.01292439]\n",
      "\t With N_configs =   1000: [0.96574695 0.03292477]\n",
      "\t With N_configs =  10000: [0.96622569 0.02551211]\n",
      "\t With N_configs = 100000: [0.96594061 0.02781829]\n"
     ]
    },
    {
     "data": {
      "image/png": "[encoded data removed]",
      "text/plain": [
       "<Figure size 432x288 with 1 Axes>"
      ]
     },
     "metadata": {
      "needs_background": "light"
     },
     "output_type": "display_data"
    }
   ],
   "source": [
    "fig, ax = plt.subplots()\n",
    "\n",
    "nsampvals = np.array((10.0*np.ones(5))**np.arange(1,6), dtype=int)\n",
    "nsampcolors = plt.cm.viridis(np.arange(0.0, 1.0, float(1.0/len(nsampvals))))\n",
    "\n",
    "#First plot the analytical result\n",
    "ax.plot(volumes, idealgas.x_ave(beta, volumes), 'k--', linewidth=2.0)\n",
    "\n",
    "#And the infinite sampling results for first order extrapolation\n",
    "trueExtrap, trueDerivs = idealgas.x_vol_extrap(1, volume_ref, volumes, beta=beta)\n",
    "ax.plot(volumes, trueExtrap, 'r-', zorder=0)\n",
    "print('True extrapolation coefficients: {}'.format(trueDerivs))\n",
    "\n",
    "for i, n in enumerate(nsampvals):\n",
    "    thisinds = np.random.choice(len(xdatavol), size=n, replace=False)\n",
    "    \n",
    "    #Get parameters for extrapolation model with this data by training it - the parameters are the derivatives\n",
    "    xemv = xtrap.volume.factory_extrapmodel(\n",
    "        volume=volume_ref,\n",
    "        # this is acually w\n",
    "        uv=wdatavol[thisinds],\n",
    "        xv=xdatavol[thisinds],\n",
    "        dxdqv=xdatavol[thisinds],\n",
    "        ndim=1\n",
    "    )\n",
    "    \n",
    "    out = xemv.predict(volumes)\n",
    "    print('\\t With N_configs = %6i: %s'%(n, str(xemv.derivs(norm=False).values)))\n",
    "    \n",
    "    out.plot(marker='s', ms=4, color=nsampcolors[i], ls='None', label='N={}'.format(n), \n",
    "                              ax=ax)\n",
    "\n",
    "ax.set_ylabel(r'$\\langle x \\rangle$')\n",
    "ax.set_xlabel(r'$L$')\n",
    "\n",
    "ax.annotate('O(1) Extrapolation', xy=(0.4, 0.7), xycoords='axes fraction', fontsize=9)\n",
    "\n",
    "ax.set_ylim((-1.0, 4.0))\n",
    "ax.yaxis.set_major_locator(mpl.ticker.MaxNLocator(nbins=4, prune='both'))\n",
    "\n",
    "fig.tight_layout()\n",
    "fig.subplots_adjust(hspace=0.0)\n",
    "\n",
    "ax.set_title(None)\n",
    "\n",
    "plt.legend()\n",
    "plt.show()"
   ]
  },
  {
   "cell_type": "code",
   "execution_count": null,
   "id": "08486c54",
   "metadata": {},
   "outputs": [],
   "source": []
  }
 ],
 "metadata": {
  "hide_input": false,
  "kernelspec": {
   "display_name": "Python [conda env:thermoextrap-env]",
   "language": "python",
   "name": "conda-env-thermoextrap-env-py"
  },
  "language_info": {
   "codemirror_mode": {
    "name": "ipython",
    "version": 3
   },
   "file_extension": ".py",
   "mimetype": "text/x-python",
   "name": "python",
   "nbconvert_exporter": "python",
   "pygments_lexer": "ipython3",
   "version": "3.8.13"
  },
  "toc": {
   "base_numbering": 1,
   "nav_menu": {},
   "number_sections": true,
   "sideBar": true,
   "skip_h1_title": false,
   "title_cell": "Table of Contents",
   "title_sidebar": "Contents",
   "toc_cell": false,
   "toc_position": {},
   "toc_section_display": true,
   "toc_window_display": false
  }
 },
 "nbformat": 4,
 "nbformat_minor": 5
}
