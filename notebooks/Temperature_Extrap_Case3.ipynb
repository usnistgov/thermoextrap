{
 "cells": [
  {
   "cell_type": "code",
   "execution_count": 1,
   "id": "06c6e872",
   "metadata": {
    "execution": {
     "iopub.execute_input": "2022-08-26T19:38:17.869021Z",
     "iopub.status.busy": "2022-08-26T19:38:17.868679Z",
     "iopub.status.idle": "2022-08-26T19:38:19.302227Z",
     "shell.execute_reply": "2022-08-26T19:38:19.301654Z"
    }
   },
   "outputs": [],
   "source": [
    "%matplotlib inline\n",
    "\n",
    "import numpy as np\n",
    "import matplotlib.pyplot as plt\n",
    "import matplotlib as mpl\n",
    "\n",
    "import xarray as xr"
   ]
  },
  {
   "cell_type": "markdown",
   "id": "8e6b78f5",
   "metadata": {},
   "source": [
    "# Extrapolation in temperature"
   ]
  },
  {
   "cell_type": "code",
   "execution_count": 2,
   "id": "2fc30447",
   "metadata": {
    "execution": {
     "iopub.execute_input": "2022-08-26T19:38:19.305326Z",
     "iopub.status.busy": "2022-08-26T19:38:19.305126Z",
     "iopub.status.idle": "2022-08-26T19:38:22.807872Z",
     "shell.execute_reply": "2022-08-26T19:38:22.807136Z"
    }
   },
   "outputs": [],
   "source": [
    "#Import idealgas module\n",
    "from thermoextrap import idealgas\n",
    "\n",
    "#Define test betas and reference beta\n",
    "betas = np.arange(0.1, 10.0, 0.5)\n",
    "beta_ref = betas[11]\n",
    "vol = 1.0\n",
    "\n",
    "#Define orders to extrapolate to\n",
    "orders = [1,2,4,6]\n",
    "order = orders[-1]\n",
    "\n",
    "npart = 1000 #Number of particles (in single configuration)\n",
    "nconfig = 100_000 #Number of configurations\n",
    "\n",
    "#Generate all the data we could want\n",
    "xdata, udata = idealgas.generate_data((nconfig, npart), beta_ref, vol)"
   ]
  },
  {
   "cell_type": "markdown",
   "id": "bda6078f",
   "metadata": {},
   "source": [
    "## Case 3: Observable is the negative logarithm of an average with no explicit temperature dependence\n",
    "\n",
    "This type of extrapolation is useful for extrapolating hard-sphere chemical potentials in temperature or volume, or other quantities involving logarithms of probabilities (e.g. PMFs).\n",
    "\n",
    "This is in fact easier than Case 2 because we do not need to augment the data in any way - we just set a flag that the quantity to extrapolate is the negative logarithm of an ensemble average, i.e., `post_func = 'minus_log'`. Note, though, that we handled the -log calculation in the definition of the derivatives (even at zeroth order). This means we want to just pass data, not the -log of the data. Also note that `post_func` can take any function utilizing sympy expressions for modifying the *average* observable we want to extrapolate, so passing `post_func = lambda x: -sympy.log(x)` would be equivalent. If you're applying the function to the observable itself, that's just a different observable and you don't need to worry about what we're doing in this notebook... it's the difference between $\\ln \\langle x \\rangle$ and $\\langle \\ln x \\rangle$."
   ]
  },
  {
   "cell_type": "code",
   "execution_count": 3,
   "id": "25dab07a",
   "metadata": {
    "execution": {
     "iopub.execute_input": "2022-08-26T19:38:22.811755Z",
     "iopub.status.busy": "2022-08-26T19:38:22.811331Z",
     "iopub.status.idle": "2022-08-26T19:38:22.814786Z",
     "shell.execute_reply": "2022-08-26T19:38:22.814192Z"
    }
   },
   "outputs": [],
   "source": [
    "import thermoextrap as xtrap"
   ]
  },
  {
   "cell_type": "code",
   "execution_count": 4,
   "id": "d7fa4b3f",
   "metadata": {
    "execution": {
     "iopub.execute_input": "2022-08-26T19:38:22.818011Z",
     "iopub.status.busy": "2022-08-26T19:38:22.817767Z",
     "iopub.status.idle": "2022-08-26T19:38:23.501326Z",
     "shell.execute_reply": "2022-08-26T19:38:23.500722Z"
    }
   },
   "outputs": [
    {
     "name": "stdout",
     "output_type": "stream",
     "text": [
      "Model parameters (derivatives):\n",
      "<xarray.DataArray 'x' (order: 7)>\n",
      "array([ 1.74381029e+00,  1.61161156e-01, -1.18691127e-02,  8.07194388e-02,\n",
      "        3.35824415e-01, -9.64231776e+00,  7.22687766e+01])\n",
      "Dimensions without coordinates: order\n",
      "\n",
      "\n",
      "Model predictions:\n",
      "<xarray.DataArray (beta: 4)>\n",
      "array([0.6779036 , 0.7896406 , 0.89841032, 1.00421276])\n",
      "Coordinates:\n",
      "  * beta     (beta) float64 0.1 0.6 1.1 1.6\n",
      "    dalpha   (beta) float64 -5.5 -5.0 -4.5 -4.0\n",
      "    beta0    float64 5.6\n",
      "\n",
      "\n"
     ]
    }
   ],
   "source": [
    "#Create and train extrapolation model\n",
    "xem_log = xtrap.beta.factory_extrapmodel(\n",
    "    beta=beta_ref, post_func='minus_log',\n",
    "    data=xtrap.DataCentralMomentsVals.from_vals(\n",
    "        order=orders[-1], xv=xdata, uv=udata, deriv_dim=None, central=True))\n",
    "\n",
    "#Check the derivatives\n",
    "print(\"Model parameters (derivatives):\")\n",
    "print(xem_log.derivs(norm=False))\n",
    "print('\\n')\n",
    "\n",
    "#Finally, look at predictions\n",
    "print(\"Model predictions:\")\n",
    "print(xem_log.predict(betas[:4], order=2))\n",
    "print('\\n')"
   ]
  },
  {
   "cell_type": "code",
   "execution_count": 5,
   "id": "82697639",
   "metadata": {
    "execution": {
     "iopub.execute_input": "2022-08-26T19:38:23.504488Z",
     "iopub.status.busy": "2022-08-26T19:38:23.504240Z",
     "iopub.status.idle": "2022-08-26T19:38:23.880096Z",
     "shell.execute_reply": "2022-08-26T19:38:23.879282Z"
    }
   },
   "outputs": [
    {
     "name": "stdout",
     "output_type": "stream",
     "text": [
      "Bootstrapped uncertainties in predictions:\n"
     ]
    },
    {
     "name": "stderr",
     "output_type": "stream",
     "text": [
      "OMP: Info #276: omp_set_nested routine deprecated, please use omp_set_max_active_levels instead.\n"
     ]
    },
    {
     "name": "stdout",
     "output_type": "stream",
     "text": [
      "<xarray.DataArray (beta: 4)>\n",
      "array([1.98690843, 1.49341668, 1.08928181, 0.76557581])\n",
      "Coordinates:\n",
      "  * beta     (beta) float64 0.1 0.6 1.1 1.6\n",
      "    dalpha   (beta) float64 -5.5 -5.0 -4.5 -4.0\n",
      "    beta0    float64 5.6\n"
     ]
    }
   ],
   "source": [
    "#And bootstrapped uncertainties\n",
    "print(\"Bootstrapped uncertainties in predictions:\")\n",
    "print(xem_log.resample(nrep=100).predict(betas[:4], order=3).std('rep'))"
   ]
  },
  {
   "cell_type": "code",
   "execution_count": 6,
   "id": "87c70389",
   "metadata": {
    "execution": {
     "iopub.execute_input": "2022-08-26T19:38:23.884075Z",
     "iopub.status.busy": "2022-08-26T19:38:23.883721Z",
     "iopub.status.idle": "2022-08-26T19:38:26.340490Z",
     "shell.execute_reply": "2022-08-26T19:38:26.339826Z"
    }
   },
   "outputs": [
    {
     "name": "stdout",
     "output_type": "stream",
     "text": [
      "True extrapolation coefficients: [ 1.74377054e+00  1.61056939e-01 -1.77268660e-02  3.66764737e-04\n",
      "  2.11140145e-03 -1.53768224e-03  3.99266294e-04]\n",
      "\t With N_configs =     10: [ 1.73698961e+00  2.11686651e-01 -1.46188377e-01 -5.40933165e+00\n",
      "  3.15660350e+01  5.91784688e+02 -1.16514028e+04]\n",
      "\t With N_configs =    100: [ 1.74423794e+00  1.25656105e-01 -1.36961600e-01 -1.41157475e+00\n",
      "  8.88749140e+00  9.37274605e+01 -1.47447312e+03]\n",
      "\t With N_configs =   1000: [ 1.74417351e+00  1.67443378e-01 -1.31149548e-01  6.78176814e-01\n",
      "  1.47160847e+01 -1.92848738e+02 -3.16110476e+02]\n",
      "\t With N_configs =  10000: [ 1.74365648e+00  1.58695819e-01 -2.73538084e-03  3.99219705e-01\n",
      "  4.04335635e-01 -2.16546443e+01  1.20396536e+02]\n",
      "\t With N_configs = 100000: [ 1.74381029e+00  1.61161156e-01 -1.18691127e-02  8.07194388e-02\n",
      "  3.35824415e-01 -9.64231776e+00  7.22687766e+01]\n"
     ]
    },
    {
     "data": {
      "image/png": "[encoded data removed]",
      "text/plain": [
       "<Figure size 432x288 with 4 Axes>"
      ]
     },
     "metadata": {
      "needs_background": "light"
     },
     "output_type": "display_data"
    }
   ],
   "source": [
    "#Repeat comparison of results, but for -ln<x> instead of <x>\n",
    "\n",
    "fig, ax = plt.subplots(len(orders), sharex=True, sharey=True)\n",
    "\n",
    "nsampvals = np.array((10.0*np.ones(5))**np.arange(1,6), dtype=int)\n",
    "nsampcolors = plt.cm.viridis(np.arange(0.0, 1.0, float(1.0/len(nsampvals))))\n",
    "\n",
    "#First plot the analytical result\n",
    "for a in ax:\n",
    "    a.plot(betas, -np.log(idealgas.x_ave(betas, vol)), 'k--', linewidth=2.0)\n",
    "\n",
    "#Next look at extrapolation with an infinite number of samples\n",
    "#This is possible in the ideal gas model in both temperature and volume\n",
    "for j, o in enumerate(orders):\n",
    "    trueExtrap, trueDerivs = idealgas.x_beta_extrap_minuslog(o, beta_ref, betas, vol)\n",
    "    ax[j].plot(betas, trueExtrap, 'r-', zorder=0)\n",
    "    if j == len(orders)-1:\n",
    "        print('True extrapolation coefficients: {}'.format(trueDerivs))\n",
    "\n",
    "for i, n in enumerate(nsampvals):\n",
    "    thisinds = np.random.choice(len(xdata), size=n, replace=False)\n",
    "    \n",
    "    #Get parameters for extrapolation model with this data by training it - the parameters are the derivatives\n",
    "    xem_log = xtrap.beta.factory_extrapmodel(\n",
    "        beta=beta_ref, post_func='minus_log',\n",
    "        data=xtrap.DataCentralMomentsVals.from_vals(order=orders[-1], \n",
    "                                                  uv=udata[thisinds], \n",
    "                                                  xv=xdata[thisinds], \n",
    "                                                  central=True))\n",
    "    out = xem_log.predict(betas, cumsum=True)\n",
    "    print('\\t With N_configs = %6i: %s'%(n, str(xem_log.derivs(norm=False).values.flatten()))) #Have to flatten because observable is 1-D\n",
    "    for j, o in enumerate(orders):\n",
    "        out.sel(order=o).plot(marker='s', ms=4, color=nsampcolors[i], ls='None', label='N={}'.format(n), \n",
    "                              ax=ax[j])\n",
    "\n",
    "ax[2].set_ylabel(r'$-\\mathrm{ln} \\langle x \\rangle$')\n",
    "ax[-1].set_xlabel(r'$\\beta$')\n",
    "\n",
    "for j, o in enumerate(orders):\n",
    "    ax[j].annotate('O(%i) Extrapolation'%(o), xy=(0.4, 0.7), xycoords='axes fraction', fontsize=9)\n",
    "\n",
    "ax[0].set_ylim((0.0, 3.0))\n",
    "ax[-1].yaxis.set_major_locator(mpl.ticker.MaxNLocator(nbins=4, prune='both'))\n",
    "\n",
    "fig.tight_layout()\n",
    "fig.subplots_adjust(hspace=0.0)\n",
    "\n",
    "for a in ax:\n",
    "    a.set_title(None)\n",
    "\n",
    "plt.show()\n"
   ]
  },
  {
   "cell_type": "code",
   "execution_count": null,
   "id": "411477f9",
   "metadata": {},
   "outputs": [],
   "source": []
  }
 ],
 "metadata": {
  "hide_input": false,
  "kernelspec": {
   "display_name": "Python [conda env:thermoextrap-env]",
   "language": "python",
   "name": "conda-env-thermoextrap-env-py"
  },
  "language_info": {
   "codemirror_mode": {
    "name": "ipython",
    "version": 3
   },
   "file_extension": ".py",
   "mimetype": "text/x-python",
   "name": "python",
   "nbconvert_exporter": "python",
   "pygments_lexer": "ipython3",
   "version": "3.8.13"
  },
  "toc": {
   "base_numbering": 1,
   "nav_menu": {},
   "number_sections": true,
   "sideBar": true,
   "skip_h1_title": false,
   "title_cell": "Table of Contents",
   "title_sidebar": "Contents",
   "toc_cell": false,
   "toc_position": {},
   "toc_section_display": true,
   "toc_window_display": false
  }
 },
 "nbformat": 4,
 "nbformat_minor": 5
}
