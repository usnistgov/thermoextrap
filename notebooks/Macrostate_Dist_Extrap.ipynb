{
 "cells": [
  {
   "cell_type": "code",
   "execution_count": 1,
   "id": "f6d349bf",
   "metadata": {
    "execution": {
     "iopub.execute_input": "2022-08-26T19:37:46.401419Z",
     "iopub.status.busy": "2022-08-26T19:37:46.401081Z",
     "iopub.status.idle": "2022-08-26T19:37:48.064906Z",
     "shell.execute_reply": "2022-08-26T19:37:48.064270Z"
    }
   },
   "outputs": [],
   "source": [
    "%matplotlib inline\n",
    "\n",
    "import numpy as np\n",
    "import xarray as xr\n",
    "\n",
    "import matplotlib.pyplot as plt"
   ]
  },
  {
   "cell_type": "markdown",
   "id": "b870f2b2",
   "metadata": {},
   "source": [
    "# Macrostate distribution extrapolation\n",
    "\n",
    "This notebook demonstrates how to perform temperature extrapolation (or interpolation) of macrostate log-probability distributions $\\ln \\Pi (N)$ for the number of particles from a flat-histogrammed grand canonical ensemble simulation."
   ]
  },
  {
   "cell_type": "markdown",
   "id": "0558a7d4",
   "metadata": {},
   "source": [
    "We start by setting up functions to load in the data."
   ]
  },
  {
   "cell_type": "code",
   "execution_count": 2,
   "id": "a061ee8a",
   "metadata": {
    "execution": {
     "iopub.execute_input": "2022-08-26T19:37:48.068716Z",
     "iopub.status.busy": "2022-08-26T19:37:48.068443Z",
     "iopub.status.idle": "2022-08-26T19:37:48.077741Z",
     "shell.execute_reply": "2022-08-26T19:37:48.077215Z"
    }
   },
   "outputs": [],
   "source": [
    "#Need to load in some data, partially specifying information about simulations here\n",
    "#As well as functions to load data\n",
    "\n",
    "import glob\n",
    "\n",
    "def get_sim_activity(Tr):\n",
    "    if Tr == 0.700:\n",
    "        return -6.250\n",
    "    elif Tr == 0.730 or Tr == 0.740:\n",
    "        return -5.500\n",
    "    elif Tr == 0.850:\n",
    "        return -4.800\n",
    "    elif Tr == 1.100:\n",
    "        return -3.380\n",
    "    elif Tr == 1.200:\n",
    "        return -3.000\n",
    "    else:\n",
    "        raise ValueError('Reduced temperature %f outside range in dataset.'%Tr)\n",
    "\n",
    "\n",
    "def get_file_prefix(Tr, run_num=None):\n",
    "    base_str = 'notebook_data/lnPi_LJ/lj.t%s.n12m6.v512.rc3.b.r'%(str('%1.2f'%Tr).replace('.', ''))\n",
    "    if run_num is not None:\n",
    "        return ['%s%i'%(base_str, run_num)]\n",
    "    else:\n",
    "        unstripped = glob.glob('%s*.energy.dat'%base_str)\n",
    "        return [u[:-11] for u in unstripped]\n",
    "    \n",
    "\n",
    "def load_data(Tr, ref_mu=-4.0, run_num=None):\n",
    "    f_prefixes = get_file_prefix(Tr, run_num=run_num)\n",
    "    U_moms = np.array([np.loadtxt('%s.energy.dat'%f)[:, 1:] for f in f_prefixes]) #Reduced units of energy/eps\n",
    "    lnPis = np.array([np.loadtxt('%s.lnpi.dat'%f)[:, 1] for f in f_prefixes])\n",
    "    N_vals = np.array([np.loadtxt('%s.lnpi.dat'%f)[:, 0] for f in f_prefixes])\n",
    "    mu = Tr * get_sim_activity(Tr) #Tr is kB*T/eps, activity is mu/kB*T, so getting mu/eps\n",
    "    \n",
    "    #Convert to x_arrays with proper labeling\n",
    "    #Potential energy data is average U and average U^2 at each bin N for each repeat\n",
    "    #So dimension are N_repeats by N by 2\n",
    "    #And don't forget to include 0th order moments (all 1s)\n",
    "    U_moms = np.concatenate([np.ones_like(lnPis)[..., None], U_moms], axis=-1)\n",
    "    U_moms = xr.DataArray(U_moms, dims=['rec', 'n','umom'])\n",
    "    #For lnPi, adjust to a reference mu value\n",
    "    #And subtract off N=0 bin\n",
    "    lnPis = lnPis + ((1.0/Tr) * (ref_mu - mu) * N_vals) #Multiply by 1/Tr since want beta*mu\n",
    "    lnPis = lnPis - lnPis[:, :1]\n",
    "    lnPis = xr.DataArray(lnPis, dims=['rec', 'n'])\n",
    "    #For mu need to add extra axis called comp\n",
    "    ref_mu = xr.DataArray(ref_mu*np.ones((len(f_prefixes), 1)), dims=['rec', 'comp'])\n",
    "\n",
    "    return {'energy': U_moms, 'lnPi': lnPis, 'mu': ref_mu, 'mu_sim': mu, 'beta': 1.0/Tr}\n"
   ]
  },
  {
   "cell_type": "markdown",
   "id": "8a0485c5",
   "metadata": {},
   "source": [
    "And actually load in the data to use for extrapolation/interpolation. This data is from simulations of in the grand canonical ensemble with flat-histogram methods employed to enhance sampling in the particle number. The potential considered is Lennard-Jones fluid, with more information found at: https://www.nist.gov/mml/csd/chemical-informatics-group/lennard-jones-fluid-properties."
   ]
  },
  {
   "cell_type": "code",
   "execution_count": 3,
   "id": "bc676b78",
   "metadata": {
    "execution": {
     "iopub.execute_input": "2022-08-26T19:37:48.080817Z",
     "iopub.status.busy": "2022-08-26T19:37:48.080579Z",
     "iopub.status.idle": "2022-08-26T19:37:48.166001Z",
     "shell.execute_reply": "2022-08-26T19:37:48.165318Z"
    }
   },
   "outputs": [],
   "source": [
    "temps = np.array([0.70, 0.73, 0.74, 0.85, 1.10, 1.20])\n",
    "betas = 1.0 / temps # Reduced temperature is Tr = kB*T/eps, so beta is also dimensionless as eps/kB*T\n",
    "\n",
    "data_dicts = [load_data(t) for t in temps]"
   ]
  },
  {
   "cell_type": "markdown",
   "id": "d1015fcc",
   "metadata": {},
   "source": [
    "## Extrapolation\n",
    "\n",
    "We will start out by extrapolating from a central temperature value, moving both higher and lower."
   ]
  },
  {
   "cell_type": "markdown",
   "id": "a5c0eb44",
   "metadata": {},
   "source": [
    "We need to import `thermoextrap` generally for access to data classes, then `xtrap.lnpi` for special functions related to derivatives of macrostate distributions."
   ]
  },
  {
   "cell_type": "code",
   "execution_count": 4,
   "id": "981565d6",
   "metadata": {
    "execution": {
     "iopub.execute_input": "2022-08-26T19:37:48.170241Z",
     "iopub.status.busy": "2022-08-26T19:37:48.169794Z",
     "iopub.status.idle": "2022-08-26T19:37:49.051415Z",
     "shell.execute_reply": "2022-08-26T19:37:49.050825Z"
    }
   },
   "outputs": [],
   "source": [
    "import thermoextrap as xtrap"
   ]
  },
  {
   "cell_type": "markdown",
   "id": "80a69025",
   "metadata": {},
   "source": [
    "First, we need to create a data object to hold the data. Selecting the data, however, requires a bit of thought. Though we are interested in extrapolating $\\ln \\Pi (N)$, it turns out it is more convenient (and equivalent within an additive constant) to extrapolate $\\ln \\Pi (N) - \\ln \\Pi (0)$. The first two derivatives of this with respect to $\\beta = \\frac{1}{k_B T}$ are:\n",
    "\n",
    "&nbsp;&nbsp;&nbsp;&nbsp;$\\frac{\\mathrm{d} \\ln ( \\Pi (N)/\\Pi(0) )}{\\mathrm{d} \\beta} = \\mu N - \\langle U \\rangle_N$ <br>\n",
    "&nbsp;&nbsp;&nbsp;&nbsp;$\\frac{\\mathrm{d}^2 \\ln ( \\Pi (N)/\\Pi(0) )}{\\mathrm{d} \\beta^2} = - \\frac{\\mathrm{d} \\langle U \\rangle_N}{\\mathrm{d} \\beta}$ <br>\n",
    "\n",
    "The chemical potential is given by $\\mu$ and the angle brackets with a subscript of $N$ represent a canonical ensemble average at a particular macrostate with $N$ particles. While the first derivative involves $\\mu N$ and the potential energy, it is clear that for $k > 1$,\n",
    "\n",
    "&nbsp;&nbsp;&nbsp;&nbsp;$\\frac{\\mathrm{d}^k \\ln ( \\Pi (N)/\\Pi(0) )}{\\mathrm{d} \\beta^k} = - \\frac{\\mathrm{d}^{k-1} \\langle U \\rangle_N}{\\mathrm{d} \\beta^{k-1}}$\n",
    "\n",
    "What this means is that all we need is a way to compute canonical ensemble derivatives of an average observable with respect to $\\beta$, which we have in `xtrap.beta.py`, and a custom derivative function to handle the special case of the 0$^\\mathrm{th}$ and 1$^\\mathrm{st}$ derivatives. This has been implemented in `xtrap.lnpi.py` for convenience.\n",
    "\n",
    "Based on the discussion above, we start by creating a custom data callback object that helps manage how derivatives are calculated and what information is provided to the function that calculates the derivatives."
   ]
  },
  {
   "cell_type": "code",
   "execution_count": 5,
   "id": "6a5793aa",
   "metadata": {
    "execution": {
     "iopub.execute_input": "2022-08-26T19:37:49.055068Z",
     "iopub.status.busy": "2022-08-26T19:37:49.054469Z",
     "iopub.status.idle": "2022-08-26T19:37:49.058647Z",
     "shell.execute_reply": "2022-08-26T19:37:49.058119Z"
    }
   },
   "outputs": [],
   "source": [
    "# for lnPi extrapolation, we need to setup a DataCallback\n",
    "# see definition in xtrap.lnpi\n",
    "ref = data_dicts[3]\n",
    "meta_lnpi = xtrap.lnpi.lnPiDataCallback(ref['lnPi'], ref['mu'], dims_n=['n'], dims_comp='comp')"
   ]
  },
  {
   "cell_type": "markdown",
   "id": "477aad41",
   "metadata": {},
   "source": [
    "In the above callback, the first argument is the reference $\\ln \\Pi$ we're extrapolating from, the second argument is the chemical potential $\\mu$, `dims_n` is the dimension of the input xarray `DataArray` over which the particle number $N$ changes, and if you really want to understand what `dims_comp` is you'll have to ask Bill.\n",
    "\n",
    "Next we need a data object to hold the potential energy moments, passing the callback as the `meta` argument. Note that because we're working with potential energies only, we can set `xu=None` and `x_is_u=True` to provide further accelerations for this special case."
   ]
  },
  {
   "cell_type": "code",
   "execution_count": 6,
   "id": "9580f923",
   "metadata": {
    "execution": {
     "iopub.execute_input": "2022-08-26T19:37:49.061833Z",
     "iopub.status.busy": "2022-08-26T19:37:49.061415Z",
     "iopub.status.idle": "2022-08-26T19:37:49.282530Z",
     "shell.execute_reply": "2022-08-26T19:37:49.281851Z"
    }
   },
   "outputs": [],
   "source": [
    "data_lnpi = xtrap.DataCentralMoments.from_ave_raw(u=ref['energy'],\n",
    "                                                   xu=None,\n",
    "                                                   x_is_u=True,\n",
    "                                                   central=True,\n",
    "                                                   meta=meta_lnpi)"
   ]
  },
  {
   "cell_type": "markdown",
   "id": "9387e562",
   "metadata": {},
   "source": [
    "And finally, use that data to create our extrapolation model."
   ]
  },
  {
   "cell_type": "code",
   "execution_count": 7,
   "id": "042a64af",
   "metadata": {
    "execution": {
     "iopub.execute_input": "2022-08-26T19:37:49.286049Z",
     "iopub.status.busy": "2022-08-26T19:37:49.285780Z",
     "iopub.status.idle": "2022-08-26T19:37:49.289474Z",
     "shell.execute_reply": "2022-08-26T19:37:49.288875Z"
    }
   },
   "outputs": [],
   "source": [
    "em_lnpi = xtrap.lnpi.factory_extrapmodel_lnPi(beta=ref['beta'],\n",
    "                                             data=data_lnpi,\n",
    "                                             order=1)"
   ]
  },
  {
   "cell_type": "markdown",
   "id": "ee2609c8",
   "metadata": {},
   "source": [
    "We can make predictions at a range of beta values for which we have data to check (in the loaded \"samples\" data). Note that we set all $\\ln \\Pi (0)$ elements to zero."
   ]
  },
  {
   "cell_type": "code",
   "execution_count": 8,
   "id": "1227cfd6",
   "metadata": {
    "execution": {
     "iopub.execute_input": "2022-08-26T19:37:49.292730Z",
     "iopub.status.busy": "2022-08-26T19:37:49.292495Z",
     "iopub.status.idle": "2022-08-26T19:37:49.342093Z",
     "shell.execute_reply": "2022-08-26T19:37:49.341420Z"
    }
   },
   "outputs": [],
   "source": [
    "out_lnpi = em_lnpi.predict(betas).mean(dim='rec')\n",
    "out_lnpi -= out_lnpi.sel(n=0)"
   ]
  },
  {
   "cell_type": "code",
   "execution_count": 9,
   "id": "fa213ff2",
   "metadata": {
    "execution": {
     "iopub.execute_input": "2022-08-26T19:37:49.345546Z",
     "iopub.status.busy": "2022-08-26T19:37:49.345269Z",
     "iopub.status.idle": "2022-08-26T19:37:49.700693Z",
     "shell.execute_reply": "2022-08-26T19:37:49.699738Z"
    }
   },
   "outputs": [
    {
     "data": {
      "image/png": "[encoded data removed]",
      "text/plain": [
       "<Figure size 432x288 with 1 Axes>"
      ]
     },
     "metadata": {
      "needs_background": "light"
     },
     "output_type": "display_data"
    }
   ],
   "source": [
    "#Plot the results\n",
    "fig, ax = plt.subplots()\n",
    "\n",
    "colors = plt.cm.coolwarm(np.linspace(0.0, 1.0, len(betas)))\n",
    "\n",
    "n_vals = np.arange(out_lnpi.sizes['n'])\n",
    "\n",
    "for i, b in enumerate(betas):\n",
    "    ax.plot(n_vals, out_lnpi.sel(beta=b), color=colors[i], label='%1.2f'%temps[i])\n",
    "    ax.plot(n_vals[::50], data_dicts[i]['lnPi'].mean(dim='rec').values[::50], 'o', color=colors[i])\n",
    "    \n",
    "ax.plot(n_vals, ref['lnPi'].mean(dim='rec'), 'k--', label='Ref')\n",
    "\n",
    "ax.set_xlabel(r'$N$')\n",
    "ax.set_ylabel('$\\ln \\Pi (N)$')\n",
    "\n",
    "ax.legend()\n",
    "\n",
    "fig.tight_layout()\n",
    "\n",
    "plt.show()"
   ]
  },
  {
   "cell_type": "markdown",
   "id": "8fcb0b2b",
   "metadata": {},
   "source": [
    "This extrapolation misses too far away from the reference. Next we will try interpolation using up to first-order derivatives, which gives us a 3rd order interpolating polynomial."
   ]
  },
  {
   "cell_type": "markdown",
   "id": "a21f7dcb",
   "metadata": {},
   "source": [
    "## Interpolation"
   ]
  },
  {
   "cell_type": "markdown",
   "id": "ac3b0992",
   "metadata": {},
   "source": [
    "Implementing interpolation is easy if we already have `Extrap` objects. So just need to build a list of these for the end states (highest and lowest temperatures) we will use as our references."
   ]
  },
  {
   "cell_type": "code",
   "execution_count": 10,
   "id": "0ba085a3",
   "metadata": {
    "execution": {
     "iopub.execute_input": "2022-08-26T19:37:49.704395Z",
     "iopub.status.busy": "2022-08-26T19:37:49.704131Z",
     "iopub.status.idle": "2022-08-26T19:37:49.716991Z",
     "shell.execute_reply": "2022-08-26T19:37:49.716193Z"
    }
   },
   "outputs": [],
   "source": [
    "xems_interp = []\n",
    "for d in [data_dicts[0], data_dicts[-1]]:\n",
    "    this_meta = xtrap.lnpi.lnPiDataCallback(d['lnPi'],\n",
    "                                           d['mu'],\n",
    "                                           dims_n=['n'],\n",
    "                                           dims_comp='comp')\n",
    "    this_data = xtrap.DataCentralMoments.from_ave_raw(u=d['energy'],\n",
    "                                                       xu=None,\n",
    "                                                       x_is_u=True,\n",
    "                                                       central=True,\n",
    "                                                       meta=this_meta)\n",
    "    this_xem = xtrap.lnpi.factory_extrapmodel_lnPi(beta=d['beta'],\n",
    "                                                  data=this_data,\n",
    "                                                  order=1)\n",
    "    xems_interp.append(this_xem)\n",
    "    \n",
    "xemi = xtrap.InterpModel(xems_interp)"
   ]
  },
  {
   "cell_type": "code",
   "execution_count": 11,
   "id": "cf7bf9e1",
   "metadata": {
    "execution": {
     "iopub.execute_input": "2022-08-26T19:37:49.720723Z",
     "iopub.status.busy": "2022-08-26T19:37:49.720370Z",
     "iopub.status.idle": "2022-08-26T19:37:49.740992Z",
     "shell.execute_reply": "2022-08-26T19:37:49.740363Z"
    }
   },
   "outputs": [],
   "source": [
    "out_xemi = xemi.predict(betas).mean(dim='rec')\n",
    "out_xemi -= out_xemi.sel(n=0)"
   ]
  },
  {
   "cell_type": "code",
   "execution_count": 12,
   "id": "e74d6f1f",
   "metadata": {
    "execution": {
     "iopub.execute_input": "2022-08-26T19:37:49.744411Z",
     "iopub.status.busy": "2022-08-26T19:37:49.744158Z",
     "iopub.status.idle": "2022-08-26T19:37:50.007738Z",
     "shell.execute_reply": "2022-08-26T19:37:50.007054Z"
    }
   },
   "outputs": [
    {
     "data": {
      "image/png": "[encoded data removed]",
      "text/plain": [
       "<Figure size 432x288 with 1 Axes>"
      ]
     },
     "metadata": {
      "needs_background": "light"
     },
     "output_type": "display_data"
    }
   ],
   "source": [
    "#Plot the results\n",
    "fig, ax = plt.subplots()\n",
    "\n",
    "colors = plt.cm.coolwarm(np.linspace(0.0, 1.0, len(betas)))\n",
    "\n",
    "n_vals = np.arange(out_xemi.sizes['n'])\n",
    "\n",
    "for i, b in enumerate(betas):\n",
    "    ax.plot(n_vals, out_xemi.sel(beta=b), color=colors[i], label='%1.2f'%temps[i])\n",
    "    ax.plot(n_vals[::50], data_dicts[i]['lnPi'].mean(dim='rec').values[::50], 'o', color=colors[i])\n",
    "\n",
    "for d in [data_dicts[0], data_dicts[-1]]:\n",
    "    ax.plot(n_vals, d['lnPi'].mean(dim='rec'), 'k--', label='Ref')\n",
    "\n",
    "ax.set_xlabel(r'$N$')\n",
    "ax.set_ylabel('$\\ln \\Pi (N)$')\n",
    "\n",
    "ax.legend()\n",
    "\n",
    "fig.tight_layout()\n",
    "\n",
    "plt.show()"
   ]
  },
  {
   "cell_type": "markdown",
   "id": "296acbf4",
   "metadata": {},
   "source": [
    "Interpolation is definitely an improvement while using first-order derivatives, though it comes at the cost of a second simulation."
   ]
  },
  {
   "cell_type": "code",
   "execution_count": null,
   "id": "1ebfbe60",
   "metadata": {},
   "outputs": [],
   "source": []
  }
 ],
 "metadata": {
  "hide_input": false,
  "kernelspec": {
   "display_name": "Python [conda env:thermoextrap-env]",
   "language": "python",
   "name": "conda-env-thermoextrap-env-py"
  },
  "language_info": {
   "codemirror_mode": {
    "name": "ipython",
    "version": 3
   },
   "file_extension": ".py",
   "mimetype": "text/x-python",
   "name": "python",
   "nbconvert_exporter": "python",
   "pygments_lexer": "ipython3",
   "version": "3.8.13"
  },
  "toc": {
   "base_numbering": 1,
   "nav_menu": {},
   "number_sections": true,
   "sideBar": true,
   "skip_h1_title": false,
   "title_cell": "Table of Contents",
   "title_sidebar": "Contents",
   "toc_cell": false,
   "toc_position": {},
   "toc_section_display": true,
   "toc_window_display": false
  }
 },
 "nbformat": 4,
 "nbformat_minor": 5
}
