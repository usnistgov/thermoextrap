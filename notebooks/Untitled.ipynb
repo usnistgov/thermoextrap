{
 "cells": [
  {
   "cell_type": "code",
   "execution_count": 1,
   "metadata": {},
   "outputs": [],
   "source": [
    "import thermoextrap.xtrapy.xpan_beta as xpan_beta"
   ]
  },
  {
   "cell_type": "code",
   "execution_count": 3,
   "metadata": {},
   "outputs": [],
   "source": [
    "import numpy as np"
   ]
  },
  {
   "cell_type": "code",
   "execution_count": 11,
   "metadata": {},
   "outputs": [],
   "source": [
    "x = np.random.rand(100, 10)\n",
    "u = np.random.rand(100)"
   ]
  },
  {
   "cell_type": "code",
   "execution_count": 12,
   "metadata": {},
   "outputs": [],
   "source": [
    "data = xpan_beta.factory_data(u, x, 3, central=True)"
   ]
  },
  {
   "cell_type": "code",
   "execution_count": 13,
   "metadata": {},
   "outputs": [],
   "source": [
    "xem = xpan_beta.factory_extrapmodel(1.0, data, minus_log=True)"
   ]
  },
  {
   "cell_type": "code",
   "execution_count": 14,
   "metadata": {},
   "outputs": [
    {
     "data": {
      "text/plain": [
       "[<xarray.DataArray 'x' (val: 10)>\n",
       " array([0.73640916, 0.72389782, 0.56878801, 0.84580047, 0.62139842,\n",
       "        0.69072332, 0.70485098, 0.80349812, 0.70023854, 0.70159174])\n",
       " Dimensions without coordinates: val,\n",
       " <xarray.DataArray 'x' (val: 10)>\n",
       " array([-0.01265583, -0.01364114, -0.00470076,  0.00200309,  0.00157312,\n",
       "        -0.03117724,  0.00824209,  0.00214677, -0.01938677, -0.00512559])\n",
       " Dimensions without coordinates: val,\n",
       " <xarray.DataArray 'x' (val: 10)>\n",
       " array([-0.00622751, -0.00482997,  0.0014888 ,  0.00228889,  0.00225096,\n",
       "         0.00890262,  0.00344893,  0.00253609,  0.00099114,  0.00246113])\n",
       " Dimensions without coordinates: val,\n",
       " <xarray.DataArray (val: 10)>\n",
       " array([ 2.29767704e-03,  6.30917970e-04,  6.11275896e-04, -1.01832760e-03,\n",
       "        -1.58663961e-03,  8.53804307e-05, -1.33010180e-03,  6.93108937e-05,\n",
       "         1.82126024e-03, -6.95794906e-04])\n",
       " Dimensions without coordinates: val]"
      ]
     },
     "execution_count": 14,
     "metadata": {},
     "output_type": "execute_result"
    }
   ],
   "source": [
    "xem.coefs.coefs(*data.xcoefs_args, order=3, norm=False, minus_log=True)"
   ]
  },
  {
   "cell_type": "code",
   "execution_count": null,
   "metadata": {},
   "outputs": [],
   "source": []
  }
 ],
 "metadata": {
  "kernelspec": {
   "display_name": "Python [conda env:xtrapy_conda]",
   "language": "python",
   "name": "conda-env-xtrapy_conda-py"
  },
  "language_info": {
   "codemirror_mode": {
    "name": "ipython",
    "version": 3
   },
   "file_extension": ".py",
   "mimetype": "text/x-python",
   "name": "python",
   "nbconvert_exporter": "python",
   "pygments_lexer": "ipython3",
   "version": "3.8.6"
  }
 },
 "nbformat": 4,
 "nbformat_minor": 4
}
