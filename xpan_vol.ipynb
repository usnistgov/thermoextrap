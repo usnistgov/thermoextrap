{
 "cells": [
  {
   "cell_type": "code",
   "execution_count": 1,
   "metadata": {},
   "outputs": [],
   "source": [
    "from thermoextrap import *\n",
    "import xarray as xr\n",
    "# ideal gas extrapolation\n",
    "import thermoextrap.xtrapy.xpan_vol_ig as xpan_vol_ig\n",
    "# \"general extrapolation\"\n",
    "import thermoextrap.xtrapy.xpan_vol as xpan_vol"
   ]
  },
  {
   "cell_type": "code",
   "execution_count": 2,
   "metadata": {},
   "outputs": [],
   "source": [
    "# test Data\n",
    "# samples\n",
    "n = int(1e5)\n",
    "# number of x values\n",
    "nv = 5\n",
    "_u_offset = 0.0\n",
    "_x_offset = 0.0\n",
    "np.random.seed(0)\n",
    "u = np.random.rand(n) + _u_offset\n",
    "x = np.random.rand(n, nv) + _x_offset"
   ]
  },
  {
   "cell_type": "code",
   "execution_count": 3,
   "metadata": {},
   "outputs": [],
   "source": [
    "#With original extrapolation package\n",
    "class VolumeExtrapModelIG(ExtrapModel):\n",
    "    \"\"\"Class to hold information about an extrapolation in size for a 1D system (e.g. our ideal gas model)\n",
    "    \"\"\"\n",
    "    #Can't go to higher order in practice, so don't return any symbolic derivatives\n",
    "    #Instead, just use this to check and make sure not asking for order above 1\n",
    "    def calcDerivFuncs(self):\n",
    "        if self.maxOrder > 1:\n",
    "            print('Volume extrapolation cannot go above 1st order without derivatives of forces.')\n",
    "            print('Setting order to 1st order.')\n",
    "            self.maxOrder = 1\n",
    "        return None\n",
    "    #And given data, calculate numerical values of derivatives up to maximum order\n",
    "    #Will be very helpful when generalize to different extrapolation techniques\n",
    "    #(and interpolation)\n",
    "    def calcDerivVals(self, refL, x, W):\n",
    "        \"\"\"Calculates specific derivative values at B with data x and U up to max order.\n",
    "        Returns these derivatives. Only go to first order for volume extrapolation. And\n",
    "        here W represents the virial instead of the potential energy.\n",
    "        \"\"\"\n",
    "        if x.shape[0] != W.shape[0]:\n",
    "            print('First observable dimension (%i) and size of potential energy array (%i) don\\'t match!'%(x.shape[0], W.shape[0]))\n",
    "            return\n",
    "        wT = np.array([W]).T\n",
    "        avgX = np.average(x, axis=0)\n",
    "        avgW = np.average(W)\n",
    "        avgXW = np.average(x*wT, axis=0)\n",
    "        derivVals = np.zeros((2, x.shape[1]))\n",
    "        derivVals[0] = avgX\n",
    "        derivVals[1] = (avgXW - avgX*avgW) / refL\n",
    "        #Add the unique correction for the observable <x> in the ideal gas system\n",
    "        #It turns out this is just <x> itself divided by L\n",
    "        derivVals[1] += avgX / refL\n",
    "        return derivVals"
   ]
  },
  {
   "cell_type": "code",
   "execution_count": 4,
   "metadata": {},
   "outputs": [],
   "source": [
    "em = VolumeExtrapModelIG(maxOrder=1, refB=2.0, xData=x, uData=u)\n",
    "xem = xpan_vol_ig.factory_extrapmodel(order=1, volume=2.0, uv=u, xv=x)"
   ]
  },
  {
   "cell_type": "code",
   "execution_count": 5,
   "metadata": {},
   "outputs": [],
   "source": [
    "volumes = [0.1, 0.5, 1.5, 2.0]"
   ]
  },
  {
   "cell_type": "code",
   "execution_count": 6,
   "metadata": {},
   "outputs": [],
   "source": [
    "np.testing.assert_allclose(em.predict(volumes), xem.predict(volumes))"
   ]
  },
  {
   "cell_type": "code",
   "execution_count": 7,
   "metadata": {},
   "outputs": [
    {
     "data": {
      "text/plain": [
       "<module 'thermoextrap.xtrapy.xpan_vol' from '/Users/wpk/Documents/python/projects/thermodynamic-extrapolation/thermoextrap/xtrapy/xpan_vol.py'>"
      ]
     },
     "execution_count": 7,
     "metadata": {},
     "output_type": "execute_result"
    }
   ],
   "source": [
    "from importlib import reload\n",
    "reload(xpan_vol)"
   ]
  },
  {
   "cell_type": "code",
   "execution_count": 8,
   "metadata": {},
   "outputs": [],
   "source": [
    "xem2 = xpan_vol.factory_extrapmodel(order=1, uv=u, xv=x, dxdqv=x, volume=2.0, ndim=1)"
   ]
  },
  {
   "cell_type": "code",
   "execution_count": 9,
   "metadata": {},
   "outputs": [],
   "source": [
    "xr.testing.assert_allclose(xem.predict(volumes), xem2.predict(volumes))"
   ]
  },
  {
   "cell_type": "code",
   "execution_count": 10,
   "metadata": {},
   "outputs": [],
   "source": [
    "# resampling\n",
    "ndat = x.shape[0]\n",
    "nrep = 20\n",
    "idx = np.random.choice(ndat, (nrep, ndat), True)\n",
    "\n",
    "a = xem.resample(indices=idx)#.predict(volumes)\n",
    "b = xem2.resample(indices=idx)#.predict(volumes)\n",
    "\n",
    "np.testing.assert_allclose(a.predict(volumes),b.predict(volumes))"
   ]
  },
  {
   "cell_type": "code",
   "execution_count": 11,
   "metadata": {},
   "outputs": [],
   "source": [
    "# Other format"
   ]
  },
  {
   "cell_type": "code",
   "execution_count": 14,
   "metadata": {},
   "outputs": [],
   "source": [
    "import thermoextrap.xtrapy.xpan_beta as xpan_beta"
   ]
  },
  {
   "cell_type": "code",
   "execution_count": 15,
   "metadata": {},
   "outputs": [
    {
     "name": "stderr",
     "output_type": "stream",
     "text": [
      "/Users/wpk/.conda/envs/py37/lib/python3.7/site-packages/numba/core/dispatcher.py:238: UserWarning: Numba extension module 'sparse._numba_extension' failed to load due to 'ModuleNotFoundError(No module named 'numba.targets')'.\n",
      "  entrypoints.init_all()\n"
     ]
    }
   ],
   "source": [
    "data = xpan_beta.DataCentralMomentsVals.from_vals(xv=x, uv=u, order=1, central=False)"
   ]
  },
  {
   "cell_type": "code",
   "execution_count": 17,
   "metadata": {},
   "outputs": [],
   "source": [
    "xemd = xpan_vol_ig.factory_extrapmodel_data(volume=2.0, data=data)"
   ]
  },
  {
   "cell_type": "code",
   "execution_count": 20,
   "metadata": {},
   "outputs": [],
   "source": [
    "xr.testing.assert_allclose(xem.predict(volumes),xemd.predict(volumes))"
   ]
  }
 ],
 "metadata": {
  "kernelspec": {
   "display_name": "Python [conda env:.conda-py37]",
   "language": "python",
   "name": "conda-env-.conda-py37-py"
  },
  "language_info": {
   "codemirror_mode": {
    "name": "ipython",
    "version": 3
   },
   "file_extension": ".py",
   "mimetype": "text/x-python",
   "name": "python",
   "nbconvert_exporter": "python",
   "pygments_lexer": "ipython3",
   "version": "3.7.9"
  },
  "toc": {
   "base_numbering": 1,
   "nav_menu": {},
   "number_sections": true,
   "sideBar": true,
   "skip_h1_title": false,
   "title_cell": "Table of Contents",
   "title_sidebar": "Contents",
   "toc_cell": false,
   "toc_position": {},
   "toc_section_display": true,
   "toc_window_display": false
  }
 },
 "nbformat": 4,
 "nbformat_minor": 4
}
